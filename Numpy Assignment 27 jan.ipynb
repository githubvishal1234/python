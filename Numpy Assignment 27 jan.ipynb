{
 "cells": [
  {
   "cell_type": "markdown",
   "id": "49b58711",
   "metadata": {},
   "source": [
    "## 1. What is a Python library? Why do we use Python libraries?"
   ]
  },
  {
   "cell_type": "raw",
   "id": "a7c69f05",
   "metadata": {},
   "source": [
    "\n",
    "A Python library is a collection of pre-written code that provides functionality and modules which can be used and reused by developers to perform various tasks without having to write code from scratch. Libraries are designed to simplify and streamline the development process by providing ready-to-use functions, classes, and methods.\n",
    "\n",
    "Why Do We Use Python Libraries?\n",
    "Efficiency: Libraries save time by allowing developers to use pre-written, tested, and optimized code. This way, developers can focus on the core logic of their applications rather than reinventing the wheel.\n",
    "\n",
    "Reusability: Libraries promote code reuse. Instead of writing the same code multiple times for different projects, developers can use libraries to achieve the same functionality.\n",
    "\n",
    "Complexity Management: Libraries abstract complex operations into simple functions. For example, handling complex mathematical computations, data manipulation, or web development tasks becomes straightforward with the appropriate libraries.\n",
    "\n",
    "Community Support: Popular libraries are maintained by the community, ensuring they are regularly updated, debugged, and optimized. This provides a reliable and robust foundation for building applications.\n",
    "\n",
    "Standardization: Using widely-adopted libraries helps maintain consistency in coding practices across different projects and teams, making the codebase easier to understand and maintain.\n"
   ]
  },
  {
   "cell_type": "markdown",
   "id": "a6138232",
   "metadata": {},
   "source": [
    "## 2. What is the difference between Numpy array and List?"
   ]
  },
  {
   "cell_type": "raw",
   "id": "ff74041e",
   "metadata": {},
   "source": [
    "Key Differences Between NumPy Arrays and Python Lists\n",
    "Data Type Homogeneity:\n",
    "\n",
    "NumPy Array: All elements must be of the same type.\n",
    "Python List: Can contain elements of different types.\n",
    "Performance:\n",
    "\n",
    "NumPy Array: Faster due to optimized C implementation and contiguous memory allocation.\n",
    "Python List: Slower for numerical operations due to type-checking and general-purpose design.\n",
    "Functionality:\n",
    "\n",
    "NumPy Array: Supports advanced mathematical operations and broadcasting.\n",
    "Python List: Flexible for general use but lacks specialized numerical functions.\n",
    "Memory Efficiency:\n",
    "\n",
    "NumPy Array: More efficient due to uniform data types and better memory management.\n",
    "Python List: Less efficient, higher memory overhead due to heterogeneous elements.\n",
    "Operations and Methods:\n",
    "\n",
    "NumPy Array: Provides vectorized operations and complex mathematical functions.\n",
    "Python List: Basic operations, suitable for diverse types of elements but requires loops for numerical computations."
   ]
  },
  {
   "cell_type": "code",
   "execution_count": 2,
   "id": "e9604385",
   "metadata": {},
   "outputs": [],
   "source": [
    "# examples for numpy array\n",
    "import numpy as np\n",
    "arr = np.array([1, 2, 3, 4])\n",
    "arr2 = arr * 2                    #Output:array([2, 4, 6, 8])\n",
    "mean_value = np.mean(arr)          #Output:2.5"
   ]
  },
  {
   "cell_type": "code",
   "execution_count": 3,
   "id": "338f7ca7",
   "metadata": {},
   "outputs": [],
   "source": [
    "# examples for  python list\n",
    "lst = [1, 2, 3, 4]\n",
    "lst2 = [x * 2 for x in lst]  # Output: [2, 4, 6, 8]\n",
    "mean_value = sum(lst) / len(lst)  # Output: 2.5"
   ]
  },
  {
   "cell_type": "markdown",
   "id": "ff1c4170",
   "metadata": {},
   "source": [
    "## 3. Find the shape, size and dimension of the following array?\n",
    "## [[1, 2, 3, 4]\n",
    "## [5, 6, 7, 8],\n",
    "## [9, 10, 11, 12]]"
   ]
  },
  {
   "cell_type": "code",
   "execution_count": 9,
   "id": "6c725b9f",
   "metadata": {},
   "outputs": [
    {
     "name": "stdout",
     "output_type": "stream",
     "text": [
      "(3, 4)\n",
      "12\n",
      "2\n"
     ]
    }
   ],
   "source": [
    "import numpy as np\n",
    "arr = np.array([[1, 2, 3, 4],\n",
    "                [5, 6, 7, 8],\n",
    "                [9, 10, 11, 12]])\n",
    "\n",
    "shape = arr.shape  # Output: (3, 4)\n",
    "print(shape)\n",
    "size = arr.size  # Output: 12\n",
    "print(size)\n",
    "dimension = arr.ndim  # Output: 2\n",
    "print(dimension)"
   ]
  },
  {
   "cell_type": "markdown",
   "id": "cd632489",
   "metadata": {},
   "source": [
    "## 4. Write python code to access the first row of the following array?\n",
    "\n",
    "[[1, 2, 3, 4]\n",
    "[5, 6, 7, 8],\n",
    "[9, 10, 11, 12]]"
   ]
  },
  {
   "cell_type": "code",
   "execution_count": 10,
   "id": "0d917ddf",
   "metadata": {},
   "outputs": [
    {
     "name": "stdout",
     "output_type": "stream",
     "text": [
      "[1 2 3 4]\n"
     ]
    }
   ],
   "source": [
    "import numpy as np\n",
    "\n",
    "arr = np.array([[1, 2, 3, 4],\n",
    "                [5, 6, 7, 8],\n",
    "                [9, 10, 11, 12]])\n",
    "\n",
    "# to access the first row\n",
    "first_row = arr[0]\n",
    "\n",
    "print(first_row)"
   ]
  },
  {
   "cell_type": "markdown",
   "id": "e7d7b089",
   "metadata": {},
   "source": [
    "## 5. How do you access the element at the third row and fourth column from the given numpy array?\n",
    "[[1, 2, 3, 4]\n",
    "[5, 6, 7, 8],\n",
    "[9, 10, 11, 12]]"
   ]
  },
  {
   "cell_type": "code",
   "execution_count": 11,
   "id": "124fabdc",
   "metadata": {},
   "outputs": [
    {
     "name": "stdout",
     "output_type": "stream",
     "text": [
      "12\n"
     ]
    }
   ],
   "source": [
    "import numpy as np\n",
    "arr = np.array([[1, 2, 3, 4],\n",
    "                [5, 6, 7, 8],\n",
    "                [9, 10, 11, 12]])\n",
    "# to access the element at the third row and fourth column\n",
    "element = arr[2, 3]\n",
    "print(element)"
   ]
  },
  {
   "cell_type": "markdown",
   "id": "4872bf3d",
   "metadata": {},
   "source": [
    "## 6. Write code to extract all odd-indexed elements from the given numpy array?\n",
    "[[1, 2, 3, 4]\n",
    "[5, 6, 7, 8],\n",
    "[9, 10, 11, 12]]"
   ]
  },
  {
   "cell_type": "code",
   "execution_count": 12,
   "id": "8d9b44a7",
   "metadata": {},
   "outputs": [
    {
     "name": "stdout",
     "output_type": "stream",
     "text": [
      "[ 2  4  6  8 10 12]\n"
     ]
    }
   ],
   "source": [
    "arr = np.array([[1, 2, 3, 4],\n",
    "                [5, 6, 7, 8],\n",
    "                [9, 10, 11, 12]])\n",
    "\n",
    "# flatten the array\n",
    "flat_arr = arr.flatten()\n",
    "\n",
    "# extract elements at odd indices\n",
    "odd_indexed_elements = flat_arr[1::2]\n",
    "print(odd_indexed_elements)"
   ]
  },
  {
   "cell_type": "markdown",
   "id": "a906c6a6",
   "metadata": {},
   "source": [
    "## 7. How can you generate a random 3x3 matrix with values between 0 and 1?"
   ]
  },
  {
   "cell_type": "code",
   "execution_count": 13,
   "id": "0b894279",
   "metadata": {},
   "outputs": [
    {
     "name": "stdout",
     "output_type": "stream",
     "text": [
      "[[0.01899301 0.20935307 0.71574775]\n",
      " [0.26922896 0.35271773 0.90735445]\n",
      " [0.02637314 0.53727042 0.14745858]]\n"
     ]
    }
   ],
   "source": [
    "import numpy as np\n",
    "#to generate a random 3x3 matrix with values between 0 and 1\n",
    "random_matrix = np.random.rand(3, 3)\n",
    "print(random_matrix)"
   ]
  },
  {
   "cell_type": "markdown",
   "id": "9d9ecf17",
   "metadata": {},
   "source": [
    "## 8. Describe the difference between np.random.rand and np.random.randn?"
   ]
  },
  {
   "cell_type": "raw",
   "id": "decc9649",
   "metadata": {},
   "source": [
    "The functions np.random.rand and np.random.randn in NumPy are used to generate arrays of random numbers, but they differ in the distribution of the generated numbers:\n",
    "\n",
    "np.random.rand\n",
    "Distribution: Generates random numbers from a uniform distribution over the interval \n",
    "[0,1).\n",
    "Syntax: np.random.rand(d0, d1, ..., dn)\n",
    "Parameters: Accepts any number of dimensions (d0, d1, ..., dn) as arguments, and returns an array of the given shape filled with random samples from a uniform distribution."
   ]
  },
  {
   "cell_type": "code",
   "execution_count": 14,
   "id": "76b89eda",
   "metadata": {},
   "outputs": [
    {
     "name": "stdout",
     "output_type": "stream",
     "text": [
      "[[0.96050551 0.86996279 0.31410903]\n",
      " [0.68871869 0.96770742 0.92037628]\n",
      " [0.21440908 0.84671242 0.9077447 ]]\n"
     ]
    }
   ],
   "source": [
    "import numpy as np\n",
    "uniform_array = np.random.rand(3, 3)\n",
    "print(uniform_array)"
   ]
  },
  {
   "cell_type": "raw",
   "id": "58967517",
   "metadata": {},
   "source": [
    "np.random.randn\n",
    "Distribution: Generates random numbers from a standard normal distribution (mean = 0, standard deviation = 1).\n",
    "Syntax: np.random.randn(d0, d1, ..., dn)\n",
    "Parameters: Accepts any number of dimensions (d0, d1, ..., dn) as arguments, and returns an array of the given shape filled with random samples from a standard normal distribution."
   ]
  },
  {
   "cell_type": "code",
   "execution_count": 15,
   "id": "b5fec93c",
   "metadata": {},
   "outputs": [
    {
     "name": "stdout",
     "output_type": "stream",
     "text": [
      "[[-0.28709829  2.70074615 -1.83054635]\n",
      " [-0.1473066  -0.41129757 -0.73389586]\n",
      " [-0.52548267 -1.21965743 -1.05770318]]\n"
     ]
    }
   ],
   "source": [
    "import numpy as np\n",
    "normal_array = np.random.randn(3, 3)\n",
    "print(normal_array)"
   ]
  },
  {
   "cell_type": "markdown",
   "id": "3baabb1d",
   "metadata": {},
   "source": [
    "## 9. Write code to increase the dimension of the following array?\n",
    "[[1, 2, 3, 4]\n",
    "[5, 6, 7, 8],\n",
    "[9, 10, 11, 12]]"
   ]
  },
  {
   "cell_type": "raw",
   "id": "63662655",
   "metadata": {},
   "source": [
    "To increase the dimension of the given array, you can use the np.newaxis attribute or the np.expand_dims() function in NumPy. \n",
    "here's how you can do it:\n",
    "\n",
    "Using np.newaxis"
   ]
  },
  {
   "cell_type": "code",
   "execution_count": 18,
   "id": "932c50ad",
   "metadata": {},
   "outputs": [
    {
     "name": "stdout",
     "output_type": "stream",
     "text": [
      "(3, 4, 1)\n",
      "[[[ 1]\n",
      "  [ 2]\n",
      "  [ 3]\n",
      "  [ 4]]\n",
      "\n",
      " [[ 5]\n",
      "  [ 6]\n",
      "  [ 7]\n",
      "  [ 8]]\n",
      "\n",
      " [[ 9]\n",
      "  [10]\n",
      "  [11]\n",
      "  [12]]]\n"
     ]
    }
   ],
   "source": [
    "import numpy as np\n",
    "arr = np.array([[1, 2, 3, 4],\n",
    "                [5, 6, 7, 8],\n",
    "                [9, 10, 11, 12]])\n",
    "\n",
    "# to increase dimension using np.newaxis\n",
    "new_arr = arr[:, :, np.newaxis]\n",
    "\n",
    "print(new_arr.shape)\n",
    "print(new_arr)"
   ]
  },
  {
   "cell_type": "raw",
   "id": "b589c9d4",
   "metadata": {},
   "source": [
    "Using np.expand_dims()"
   ]
  },
  {
   "cell_type": "code",
   "execution_count": 19,
   "id": "14490f2a",
   "metadata": {},
   "outputs": [
    {
     "name": "stdout",
     "output_type": "stream",
     "text": [
      "(3, 4, 1)\n",
      "[[[ 1]\n",
      "  [ 2]\n",
      "  [ 3]\n",
      "  [ 4]]\n",
      "\n",
      " [[ 5]\n",
      "  [ 6]\n",
      "  [ 7]\n",
      "  [ 8]]\n",
      "\n",
      " [[ 9]\n",
      "  [10]\n",
      "  [11]\n",
      "  [12]]]\n"
     ]
    }
   ],
   "source": [
    "import numpy as np\n",
    "arr = np.array([[1, 2, 3, 4],\n",
    "                [5, 6, 7, 8],\n",
    "                [9, 10, 11, 12]])\n",
    "\n",
    "# to increase dimension using np.expand_dims()\n",
    "new_arr = np.expand_dims(arr, axis=2)\n",
    "print(new_arr.shape)\n",
    "print(new_arr)"
   ]
  },
  {
   "cell_type": "markdown",
   "id": "2991d150",
   "metadata": {},
   "source": [
    "## 10. How to transpose the following array in NumPy?\n",
    "[[1, 2, 3, 4]\n",
    "[5, 6, 7, 8],\n",
    "[9, 10, 11, 12]]"
   ]
  },
  {
   "cell_type": "code",
   "execution_count": 20,
   "id": "91de08f9",
   "metadata": {},
   "outputs": [
    {
     "name": "stdout",
     "output_type": "stream",
     "text": [
      "[[ 1  5  9]\n",
      " [ 2  6 10]\n",
      " [ 3  7 11]\n",
      " [ 4  8 12]]\n"
     ]
    }
   ],
   "source": [
    "import numpy as np\n",
    "arr = np.array([[1, 2, 3, 4],\n",
    "                [5, 6, 7, 8],\n",
    "                [9, 10, 11, 12]])\n",
    "\n",
    "# Transpose the array using the .T attribute\n",
    "transposed_arr = arr.T\n",
    "print(transposed_arr)"
   ]
  },
  {
   "cell_type": "markdown",
   "id": "483a7315",
   "metadata": {},
   "source": [
    "## 11. Consider the following matrix:\n",
    "Matrix A: [[1, 2, 3, 4] [5, 6, 7, 8],[9, 10, 11, 12]]\n",
    "Matrix B: [[1, 2, 3, 4] [5, 6, 7, 8],[9, 10, 11, 12]]\n",
    "\n",
    "Perform the following operation using Python1\n",
    "1. Index wise multiplication\n",
    "2. Matrix multiplication\n",
    "3. Add both the matrixes\n",
    "4. Subtract matrix B from A \n",
    "5. Divide Matrix B by A"
   ]
  },
  {
   "cell_type": "code",
   "execution_count": 22,
   "id": "792e690a",
   "metadata": {},
   "outputs": [
    {
     "name": "stdout",
     "output_type": "stream",
     "text": [
      "Addition Result:\n",
      "[[ 2  4  6  8]\n",
      " [10 12 14 16]\n",
      " [18 20 22 24]]\n",
      "\n",
      "Matrix Multiplication Result:\n",
      "[[ 30  70 110]\n",
      " [ 70 174 278]\n",
      " [110 278 446]]\n",
      "\n",
      "Subtraction Result:\n",
      "[[0 0 0 0]\n",
      " [0 0 0 0]\n",
      " [0 0 0 0]]\n",
      "\n",
      "Division Result (B by A):\n",
      "[[1. 1. 1. 1.]\n",
      " [1. 1. 1. 1.]\n",
      " [1. 1. 1. 1.]]\n"
     ]
    }
   ],
   "source": [
    "import numpy as np\n",
    "\n",
    "# Define matrices A2 and B2\n",
    "A = np.array([[1, 2, 3, 4],\n",
    "               [5, 6, 7, 8],\n",
    "               [9, 10, 11, 12]])\n",
    "\n",
    "B = np.array([[1, 2, 3, 4],\n",
    "               [5, 6, 7, 8],\n",
    "               [9, 10, 11, 12]])\n",
    "\n",
    "# Perform addition using element-wise addition\n",
    "addition_result = A + B\n",
    "\n",
    "# Perform matrix multiplication\n",
    "matrix_multiplication_result = np.matmul(A, B.T)  # Transpose of B to make the multiplication compatible\n",
    "\n",
    "# Perform subtraction using element-wise subtraction\n",
    "subtraction_result = A - B\n",
    "\n",
    "# Perform element-wise division of B by A\n",
    "division_result = B / A\n",
    "\n",
    "# Print results\n",
    "print(\"Addition Result:\")\n",
    "print(addition_result)\n",
    "print(\"\\nMatrix Multiplication Result:\")\n",
    "print(matrix_multiplication_result)\n",
    "print(\"\\nSubtraction Result:\")\n",
    "print(subtraction_result)\n",
    "print(\"\\nDivision Result (B by A):\")\n",
    "print(division_result)"
   ]
  },
  {
   "cell_type": "markdown",
   "id": "0cbb8b3e",
   "metadata": {},
   "source": [
    "## 12. Which function in Numpy can be used to swap the byte order of an array?"
   ]
  },
  {
   "cell_type": "raw",
   "id": "d8e36f2c",
   "metadata": {},
   "source": [
    "In NumPy, the function np.ndarray.byteswap() can be used to swap the byte order of an array."
   ]
  },
  {
   "cell_type": "code",
   "execution_count": 24,
   "id": "dd1f3ba0",
   "metadata": {},
   "outputs": [
    {
     "name": "stdout",
     "output_type": "stream",
     "text": [
      "[16777216 33554432 50331648 67108864]\n"
     ]
    }
   ],
   "source": [
    "import numpy as np\n",
    "\n",
    "# Create an array\n",
    "arr = np.array([1, 2, 3, 4], dtype=np.int32)\n",
    "\n",
    "# Swap the byte order of the array\n",
    "arr.byteswap(inplace=True)\n",
    "\n",
    "print(arr)"
   ]
  },
  {
   "cell_type": "markdown",
   "id": "ec6b9fd5",
   "metadata": {},
   "source": [
    "## 13. What is the significance of the np.linalg.inv function?"
   ]
  },
  {
   "cell_type": "raw",
   "id": "a214bfc9",
   "metadata": {},
   "source": [
    "Significance of np.linalg.inv:\n",
    "\n",
    "Solving Linear Systems: One of the most significant uses of matrix inversion is in solving systems of linear equations. Given a system Ax=b, where  A is a square matrix, x is a column vector of variables,and b is a column vector of constants\n",
    "\n",
    "Computing Determinants: The determinant of a matrix is a fundamental quantity in linear algebra. The determinant of a matrix \n",
    "A is denoted as ∣A∣. The determinant is related to the matrix's invertibility; specifically, a matrix is invertible if and only if its determinant is nonzero.\n",
    "\n",
    "Eigenvalue and Eigenvector Computations: In some cases, the inverse of a matrix is required to compute eigenvalues and eigenvectors of a square matrix \n",
    "𝐴 The eigenvectors of A are the vectors that do not change direction when multiplied by A, and the eigenvalues are the corresponding scaling factors."
   ]
  },
  {
   "cell_type": "markdown",
   "id": "4881ed0e",
   "metadata": {},
   "source": [
    "## 14. What does the np.reshape function do, and how is it used?"
   ]
  },
  {
   "cell_type": "raw",
   "id": "a5ad38fe",
   "metadata": {},
   "source": [
    "The np.reshape function in NumPy is used to change the shape of an array without changing its data. It allows you to rearrange the elements of an array into a new shape while maintaining the same underlying data."
   ]
  },
  {
   "cell_type": "code",
   "execution_count": 25,
   "id": "fb40be10",
   "metadata": {},
   "outputs": [
    {
     "name": "stdout",
     "output_type": "stream",
     "text": [
      "[[1 2 3]\n",
      " [4 5 6]]\n"
     ]
    }
   ],
   "source": [
    "import numpy as np\n",
    "\n",
    "# create a 1D array\n",
    "arr = np.array([1, 2, 3, 4, 5, 6])\n",
    "\n",
    "# reshape the array to a 2x3 matrix\n",
    "reshaped_arr = np.reshape(arr, (2, 3))\n",
    "\n",
    "print(reshaped_arr)"
   ]
  },
  {
   "cell_type": "markdown",
   "id": "7808b8fe",
   "metadata": {},
   "source": [
    "## 15. What is broadcasting in Numpy?"
   ]
  },
  {
   "cell_type": "raw",
   "id": "dcb92b18",
   "metadata": {},
   "source": [
    "Broadcasting in NumPy is a mechanism that allows arrays with different shapes to be combined in arithmetic operations. When performing operations on arrays, NumPy compares their shapes element-wise. If the shapes are compatible, NumPy automatically adjusts the shapes of the arrays to make the operation possible. This adjustment, or \"broadcasting\", enables you to write cleaner and more concise code by avoiding the need to manually reshape or tile arrays to match each other's shapes."
   ]
  },
  {
   "cell_type": "code",
   "execution_count": 26,
   "id": "20d96724",
   "metadata": {},
   "outputs": [
    {
     "name": "stdout",
     "output_type": "stream",
     "text": [
      "[[11 22 33]\n",
      " [14 25 36]]\n"
     ]
    }
   ],
   "source": [
    "import numpy as np\n",
    "\n",
    "# Define two arrays with different shapes\n",
    "a = np.array([[1, 2, 3],\n",
    "              [4, 5, 6]])\n",
    "\n",
    "b = np.array([10, 20, 30])\n",
    "\n",
    "# Add the arrays together\n",
    "result = a + b\n",
    "\n",
    "print(result)"
   ]
  },
  {
   "cell_type": "code",
   "execution_count": null,
   "id": "7a71ae36",
   "metadata": {},
   "outputs": [],
   "source": []
  }
 ],
 "metadata": {
  "kernelspec": {
   "display_name": "Python 3 (ipykernel)",
   "language": "python",
   "name": "python3"
  },
  "language_info": {
   "codemirror_mode": {
    "name": "ipython",
    "version": 3
   },
   "file_extension": ".py",
   "mimetype": "text/x-python",
   "name": "python",
   "nbconvert_exporter": "python",
   "pygments_lexer": "ipython3",
   "version": "3.10.5"
  }
 },
 "nbformat": 4,
 "nbformat_minor": 5
}
