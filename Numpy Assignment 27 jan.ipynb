{
 "cells": [
  {
   "cell_type": "markdown",
   "id": "61130742",
   "metadata": {},
   "source": [
    "## 1. What is a Python library? Why do we use Python libraries?"
   ]
  },
  {
   "cell_type": "markdown",
   "id": "c05d0206",
   "metadata": {},
   "source": [
    "A Python library is a collection of pre-written code that provides functionality and modules which can be used and reused by developers to perform various tasks without having to write code from scratch. Libraries are designed to simplify and streamline the development process by providing ready-to-use functions, classes, and methods.\n",
    "\n",
    "Why Do We Use Python Libraries?\n",
    "Efficiency: Libraries save time by allowing developers to use pre-written, tested, and optimized code. This way, developers can focus on the core logic of their applications rather than reinventing the wheel.\n",
    "\n",
    "Reusability: Libraries promote code reuse. Instead of writing the same code multiple times for different projects, developers can use libraries to achieve the same functionality.\n",
    "\n",
    "Complexity Management: Libraries abstract complex operations into simple functions. For example, handling complex mathematical computations, data manipulation, or web development tasks becomes straightforward with the appropriate libraries.\n",
    "\n",
    "Community Support: Popular libraries are maintained by the community, ensuring they are regularly updated, debugged, and optimized. This provides a reliable and robust foundation for building applications.\n",
    "\n",
    "Standardization: Using widely-adopted libraries helps maintain consistency in coding practices across different projects and teams, making the codebase easier to understand and maintain.\n"
   ]
  },
  {
   "cell_type": "markdown",
   "id": "dfc8e63b",
   "metadata": {},
   "source": [
    "## 2. What is the difference between Numpy array and List?"
   ]
  },
  {
   "cell_type": "markdown",
   "id": "6abec3e5",
   "metadata": {},
   "source": [
    "Key Differences Between NumPy Arrays and Python Lists\n",
    "Data Type Homogeneity:\n",
    "\n",
    "NumPy Array: All elements must be of the same type.\n",
    "Python List: Can contain elements of different types.\n",
    "Performance:\n",
    "\n",
    "NumPy Array: Faster due to optimized C implementation and contiguous memory allocation.\n",
    "Python List: Slower for numerical operations due to type-checking and general-purpose design.\n",
    "Functionality:\n",
    "\n",
    "NumPy Array: Supports advanced mathematical operations and broadcasting.\n",
    "Python List: Flexible for general use but lacks specialized numerical functions.\n",
    "Memory Efficiency:\n",
    "\n",
    "NumPy Array: More efficient due to uniform data types and better memory management.\n",
    "Python List: Less efficient, higher memory overhead due to heterogeneous elements.\n",
    "Operations and Methods:\n",
    "\n",
    "NumPy Array: Provides vectorized operations and complex mathematical functions.\n",
    "Python List: Basic operations, suitable for diverse types of elements but requires loops for numerical computations."
   ]
  },
  {
   "cell_type": "code",
   "execution_count": 1,
   "id": "9accd4d2",
   "metadata": {},
   "outputs": [],
   "source": [
    "# examples for numpy array\n",
    "import numpy as np\n",
    "arr = np.array([1, 2, 3, 4])\n",
    "arr2 = arr * 2                    #Output:array([2, 4, 6, 8])\n",
    "mean_value = np.mean(arr)          #Output:2.5"
   ]
  },
  {
   "cell_type": "code",
   "execution_count": 2,
   "id": "27942527",
   "metadata": {},
   "outputs": [],
   "source": [
    "# examples for  python list\n",
    "lst = [1, 2, 3, 4]\n",
    "lst2 = [x * 2 for x in lst]  # Output: [2, 4, 6, 8]\n",
    "mean_value = sum(lst) / len(lst)  # Output: 2.5"
   ]
  },
  {
   "cell_type": "markdown",
   "id": "1edff5c8",
   "metadata": {},
   "source": [
    "## 3. Find the shape, size and dimension of the following array?\n",
    "## [[1, 2, 3, 4]\n",
    "## [5, 6, 7, 8],\n",
    "## [9, 10, 11, 12]]"
   ]
  },
  {
   "cell_type": "code",
   "execution_count": 3,
   "id": "66b2a7ec",
   "metadata": {},
   "outputs": [
    {
     "name": "stdout",
     "output_type": "stream",
     "text": [
      "(3, 4)\n",
      "12\n",
      "2\n"
     ]
    }
   ],
   "source": [
    "import numpy as np\n",
    "arr = np.array([[1, 2, 3, 4],\n",
    "                [5, 6, 7, 8],\n",
    "                [9, 10, 11, 12]])\n",
    "\n",
    "shape = arr.shape  # Output: (3, 4)\n",
    "print(shape)\n",
    "size = arr.size  # Output: 12\n",
    "print(size)\n",
    "dimension = arr.ndim  # Output: 2\n",
    "print(dimension)"
   ]
  },
  {
   "cell_type": "markdown",
   "id": "b3b1da5a",
   "metadata": {},
   "source": [
    "## 4. Write python code to access the first row of the following array?\n",
    "\n",
    "[[1, 2, 3, 4]\n",
    "[5, 6, 7, 8],\n",
    "[9, 10, 11, 12]]"
   ]
  },
  {
   "cell_type": "code",
   "execution_count": 4,
   "id": "94c57dc9",
   "metadata": {},
   "outputs": [
    {
     "name": "stdout",
     "output_type": "stream",
     "text": [
      "[1 2 3 4]\n"
     ]
    }
   ],
   "source": [
    "import numpy as np\n",
    "\n",
    "arr = np.array([[1, 2, 3, 4],\n",
    "                [5, 6, 7, 8],\n",
    "                [9, 10, 11, 12]])\n",
    "\n",
    "# to access the first row\n",
    "first_row = arr[0]\n",
    "\n",
    "print(first_row)"
   ]
  },
  {
   "cell_type": "markdown",
   "id": "25d175f3",
   "metadata": {},
   "source": [
    "## 5. How do you access the element at the third row and fourth column from the given numpy array?\n",
    "[[1, 2, 3, 4]\n",
    "[5, 6, 7, 8],\n",
    "[9, 10, 11, 12]]"
   ]
  },
  {
   "cell_type": "code",
   "execution_count": 5,
   "id": "e0b496c3",
   "metadata": {},
   "outputs": [
    {
     "name": "stdout",
     "output_type": "stream",
     "text": [
      "12\n"
     ]
    }
   ],
   "source": [
    "import numpy as np\n",
    "arr = np.array([[1, 2, 3, 4],\n",
    "                [5, 6, 7, 8],\n",
    "                [9, 10, 11, 12]])\n",
    "# to access the element at the third row and fourth column\n",
    "element = arr[2, 3]\n",
    "print(element)"
   ]
  },
  {
   "cell_type": "markdown",
   "id": "2e76ea4b",
   "metadata": {},
   "source": [
    "## 6. Write code to extract all odd-indexed elements from the given numpy array?\n",
    "[[1, 2, 3, 4]\n",
    "[5, 6, 7, 8],\n",
    "[9, 10, 11, 12]]"
   ]
  },
  {
   "cell_type": "code",
   "execution_count": 6,
   "id": "c3ec1b26",
   "metadata": {},
   "outputs": [
    {
     "name": "stdout",
     "output_type": "stream",
     "text": [
      "[ 2  4  6  8 10 12]\n"
     ]
    }
   ],
   "source": [
    "arr = np.array([[1, 2, 3, 4],\n",
    "                [5, 6, 7, 8],\n",
    "                [9, 10, 11, 12]])\n",
    "\n",
    "# flatten the array\n",
    "flat_arr = arr.flatten()\n",
    "\n",
    "# extract elements at odd indices\n",
    "odd_indexed_elements = flat_arr[1::2]\n",
    "print(odd_indexed_elements)"
   ]
  },
  {
   "cell_type": "markdown",
   "id": "44107d73",
   "metadata": {},
   "source": [
    "## 7. How can you generate a random 3x3 matrix with values between 0 and 1?"
   ]
  },
  {
   "cell_type": "code",
   "execution_count": 7,
   "id": "8ba8dbd3",
   "metadata": {},
   "outputs": [
    {
     "name": "stdout",
     "output_type": "stream",
     "text": [
      "[[0.46018772 0.24552352 0.6314728 ]\n",
      " [0.23598057 0.32936153 0.11323272]\n",
      " [0.95623574 0.83900741 0.35864441]]\n"
     ]
    }
   ],
   "source": [
    "import numpy as np\n",
    "#to generate a random 3x3 matrix with values between 0 and 1\n",
    "random_matrix = np.random.rand(3, 3)\n",
    "print(random_matrix)"
   ]
  },
  {
   "cell_type": "markdown",
   "id": "af3b52c6",
   "metadata": {},
   "source": [
    "## 8. Describe the difference between np.random.rand and np.random.randn?"
   ]
  },
  {
   "cell_type": "markdown",
   "id": "e98d3615",
   "metadata": {},
   "source": [
    "The functions np.random.rand and np.random.randn in NumPy are used to generate arrays of random numbers, but they differ in the distribution of the generated numbers:\n",
    "\n",
    "np.random.rand\n",
    "Distribution: Generates random numbers from a uniform distribution over the interval \n",
    "[\n",
    "0\n",
    ",\n",
    "1\n",
    ")\n",
    "[0,1).\n",
    "Syntax: np.random.rand(d0, d1, ..., dn)\n",
    "Parameters: Accepts any number of dimensions (d0, d1, ..., dn) as arguments, and returns an array of the given shape filled with random samples from a uniform distribution.\n",
    "\n"
   ]
  },
  {
   "cell_type": "code",
   "execution_count": 8,
   "id": "bcc0fde2",
   "metadata": {},
   "outputs": [
    {
     "name": "stdout",
     "output_type": "stream",
     "text": [
      "[[0.42343302 0.31110411 0.56743157]\n",
      " [0.36997119 0.21785568 0.87657328]\n",
      " [0.63313408 0.7531126  0.75780764]]\n"
     ]
    }
   ],
   "source": [
    "import numpy as np\n",
    "uniform_array = np.random.rand(3, 3)\n",
    "print(uniform_array)"
   ]
  },
  {
   "cell_type": "markdown",
   "id": "5ef727c2",
   "metadata": {},
   "source": [
    "np.random.randn\n",
    "Distribution: Generates random numbers from a standard normal distribution (mean = 0, standard deviation = 1).\n",
    "Syntax: np.random.randn(d0, d1, ..., dn)\n",
    "Parameters: Accepts any number of dimensions (d0, d1, ..., dn) as arguments, and returns an array of the given shape filled with random samples from a standard normal distribution."
   ]
  },
  {
   "cell_type": "code",
   "execution_count": 9,
   "id": "92e4f81e",
   "metadata": {},
   "outputs": [
    {
     "name": "stdout",
     "output_type": "stream",
     "text": [
      "[[ 0.85979888 -0.74519894 -0.57659364]\n",
      " [ 0.87580499  0.10188109 -0.86414104]\n",
      " [-0.0105752   0.94711735 -0.2609847 ]]\n"
     ]
    }
   ],
   "source": [
    "import numpy as np\n",
    "normal_array = np.random.randn(3, 3)\n",
    "print(normal_array)"
   ]
  },
  {
   "cell_type": "markdown",
   "id": "c31cbc39",
   "metadata": {},
   "source": [
    "## 9. Write code to increase the dimension of the following array?\n",
    "[[1, 2, 3, 4]\n",
    "[5, 6, 7, 8],\n",
    "[9, 10, 11, 12]]"
   ]
  },
  {
   "cell_type": "markdown",
   "id": "8713eff0",
   "metadata": {},
   "source": [
    "To increase the dimension of the given array, you can use the np.newaxis attribute or the np.expand_dims() function in NumPy. \n",
    "here's how you can do it:\n",
    "\n",
    "Using np.newaxis"
   ]
  },
  {
   "cell_type": "code",
   "execution_count": 10,
   "id": "5660bad2",
   "metadata": {},
   "outputs": [
    {
     "name": "stdout",
     "output_type": "stream",
     "text": [
      "(3, 4, 1)\n",
      "[[[ 1]\n",
      "  [ 2]\n",
      "  [ 3]\n",
      "  [ 4]]\n",
      "\n",
      " [[ 5]\n",
      "  [ 6]\n",
      "  [ 7]\n",
      "  [ 8]]\n",
      "\n",
      " [[ 9]\n",
      "  [10]\n",
      "  [11]\n",
      "  [12]]]\n"
     ]
    }
   ],
   "source": [
    "import numpy as np\n",
    "arr = np.array([[1, 2, 3, 4],\n",
    "                [5, 6, 7, 8],\n",
    "                [9, 10, 11, 12]])\n",
    "\n",
    "# to increase dimension using np.newaxis\n",
    "new_arr = arr[:, :, np.newaxis]\n",
    "\n",
    "print(new_arr.shape)\n",
    "print(new_arr)"
   ]
  },
  {
   "cell_type": "raw",
   "id": "857a5b5d",
   "metadata": {},
   "source": [
    "Using np.expand_dims()"
   ]
  },
  {
   "cell_type": "code",
   "execution_count": 11,
   "id": "368dc456",
   "metadata": {},
   "outputs": [
    {
     "name": "stdout",
     "output_type": "stream",
     "text": [
      "(3, 4, 1)\n",
      "[[[ 1]\n",
      "  [ 2]\n",
      "  [ 3]\n",
      "  [ 4]]\n",
      "\n",
      " [[ 5]\n",
      "  [ 6]\n",
      "  [ 7]\n",
      "  [ 8]]\n",
      "\n",
      " [[ 9]\n",
      "  [10]\n",
      "  [11]\n",
      "  [12]]]\n"
     ]
    }
   ],
   "source": [
    "import numpy as np\n",
    "arr = np.array([[1, 2, 3, 4],\n",
    "                [5, 6, 7, 8],\n",
    "                [9, 10, 11, 12]])\n",
    "\n",
    "# to increase dimension using np.expand_dims()\n",
    "new_arr = np.expand_dims(arr, axis=2)\n",
    "print(new_arr.shape)\n",
    "print(new_arr)"
   ]
  },
  {
   "cell_type": "markdown",
   "id": "3f1350ba",
   "metadata": {},
   "source": [
    "## 10. How to transpose the following array in NumPy?\n",
    "[[1, 2, 3, 4]\n",
    "[5, 6, 7, 8],\n",
    "[9, 10, 11, 12]]"
   ]
  },
  {
   "cell_type": "code",
   "execution_count": 12,
   "id": "9f066639",
   "metadata": {},
   "outputs": [
    {
     "name": "stdout",
     "output_type": "stream",
     "text": [
      "[[ 1  5  9]\n",
      " [ 2  6 10]\n",
      " [ 3  7 11]\n",
      " [ 4  8 12]]\n"
     ]
    }
   ],
   "source": [
    "import numpy as np\n",
    "arr = np.array([[1, 2, 3, 4],\n",
    "                [5, 6, 7, 8],\n",
    "                [9, 10, 11, 12]])\n",
    "\n",
    "# Transpose the array using the .T attribute\n",
    "transposed_arr = arr.T\n",
    "print(transposed_arr)"
   ]
  },
  {
   "cell_type": "markdown",
   "id": "17010040",
   "metadata": {},
   "source": [
    "## 11. Consider the following matrix:\n",
    "Matrix A: [[1, 2, 3, 4] [5, 6, 7, 8],[9, 10, 11, 12]]\n",
    "Matrix B: [[1, 2, 3, 4] [5, 6, 7, 8],[9, 10, 11, 12]]\n",
    "\n",
    "Perform the following operation using Python1\n",
    "1. Index wise multiplication\n",
    "2. Matrix multiplication\n",
    "3. Add both the matrixes\n",
    "4. Subtract matrix B from A \n",
    "5. Divide Matrix B by A"
   ]
  },
  {
   "cell_type": "code",
   "execution_count": 13,
   "id": "13b0b9bb",
   "metadata": {},
   "outputs": [
    {
     "name": "stdout",
     "output_type": "stream",
     "text": [
      "Addition Result:\n",
      "[[ 2  4  6  8]\n",
      " [10 12 14 16]\n",
      " [18 20 22 24]]\n",
      "\n",
      "Matrix Multiplication Result:\n",
      "[[ 30  70 110]\n",
      " [ 70 174 278]\n",
      " [110 278 446]]\n",
      "\n",
      "Subtraction Result:\n",
      "[[0 0 0 0]\n",
      " [0 0 0 0]\n",
      " [0 0 0 0]]\n",
      "\n",
      "Division Result (B by A):\n",
      "[[1. 1. 1. 1.]\n",
      " [1. 1. 1. 1.]\n",
      " [1. 1. 1. 1.]]\n"
     ]
    }
   ],
   "source": [
    "import numpy as np\n",
    "\n",
    "# Define matrices A2 and B2\n",
    "A = np.array([[1, 2, 3, 4],\n",
    "               [5, 6, 7, 8],\n",
    "               [9, 10, 11, 12]])\n",
    "\n",
    "B = np.array([[1, 2, 3, 4],\n",
    "               [5, 6, 7, 8],\n",
    "               [9, 10, 11, 12]])\n",
    "\n",
    "# Perform addition using element-wise addition\n",
    "addition_result = A + B\n",
    "\n",
    "# Perform matrix multiplication\n",
    "matrix_multiplication_result = np.matmul(A, B.T)  # Transpose of B to make the multiplication compatible\n",
    "\n",
    "# Perform subtraction using element-wise subtraction\n",
    "subtraction_result = A - B\n",
    "\n",
    "# Perform element-wise division of B by A\n",
    "division_result = B / A\n",
    "\n",
    "# Print results\n",
    "print(\"Addition Result:\")\n",
    "print(addition_result)\n",
    "print(\"\\nMatrix Multiplication Result:\")\n",
    "print(matrix_multiplication_result)\n",
    "print(\"\\nSubtraction Result:\")\n",
    "print(subtraction_result)\n",
    "print(\"\\nDivision Result (B by A):\")\n",
    "print(division_result)"
   ]
  },
  {
   "cell_type": "markdown",
   "id": "db54a22e",
   "metadata": {},
   "source": [
    "## 12. Which function in Numpy can be used to swap the byte order of an array?"
   ]
  },
  {
   "cell_type": "markdown",
   "id": "2c10f62c",
   "metadata": {},
   "source": [
    "In NumPy, the function np.ndarray.byteswap() can be used to swap the byte order of an array."
   ]
  },
  {
   "cell_type": "code",
   "execution_count": 14,
   "id": "ce9316ff",
   "metadata": {},
   "outputs": [
    {
     "name": "stdout",
     "output_type": "stream",
     "text": [
      "[16777216 33554432 50331648 67108864]\n"
     ]
    }
   ],
   "source": [
    "import numpy as np\n",
    "\n",
    "# Create an array\n",
    "arr = np.array([1, 2, 3, 4], dtype=np.int32)\n",
    "\n",
    "# Swap the byte order of the array\n",
    "arr.byteswap(inplace=True)\n",
    "\n",
    "print(arr)"
   ]
  },
  {
   "cell_type": "markdown",
   "id": "7e3f652c",
   "metadata": {},
   "source": [
    "## 13. What is the significance of the np.linalg.inv function?"
   ]
  },
  {
   "cell_type": "markdown",
   "id": "92b31871",
   "metadata": {},
   "source": [
    "Significance of np.linalg.inv:\n",
    "\n",
    "Solving Linear Systems: One of the most significant uses of matrix inversion is in solving systems of linear equations. Given a system Ax=b, where  A is a square matrix, x is a column vector of variables,and b is a column vector of constants\n",
    "\n",
    "Computing Determinants: The determinant of a matrix is a fundamental quantity in linear algebra. The determinant of a matrix \n",
    "A is denoted as ∣A∣. The determinant is related to the matrix's invertibility; specifically, a matrix is invertible if and only if its determinant is nonzero.\n",
    "\n",
    "Eigenvalue and Eigenvector Computations: In some cases, the inverse of a matrix is required to compute eigenvalues and eigenvectors of a square matrix \n",
    "𝐴 The eigenvectors of A are the vectors that do not change direction when multiplied by A, and the eigenvalues are the corresponding scaling factors."
   ]
  },
  {
   "cell_type": "markdown",
   "id": "061a2497",
   "metadata": {},
   "source": [
    "## 14. What does the np.reshape function do, and how is it used?"
   ]
  },
  {
   "cell_type": "markdown",
   "id": "3ea3160b",
   "metadata": {},
   "source": [
    "The np.reshape function in NumPy is used to change the shape of an array without changing its data. It allows you to rearrange the elements of an array into a new shape while maintaining the same underlying data."
   ]
  },
  {
   "cell_type": "code",
   "execution_count": 15,
   "id": "2cc17240",
   "metadata": {},
   "outputs": [
    {
     "name": "stdout",
     "output_type": "stream",
     "text": [
      "[[1 2 3]\n",
      " [4 5 6]]\n"
     ]
    }
   ],
   "source": [
    "import numpy as np\n",
    "\n",
    "# create a 1D array\n",
    "arr = np.array([1, 2, 3, 4, 5, 6])\n",
    "\n",
    "# reshape the array to a 2x3 matrix\n",
    "reshaped_arr = np.reshape(arr, (2, 3))\n",
    "\n",
    "print(reshaped_arr)"
   ]
  },
  {
   "cell_type": "markdown",
   "id": "cbfa3d40",
   "metadata": {},
   "source": [
    "## 15. What is broadcasting in Numpy?"
   ]
  },
  {
   "cell_type": "markdown",
   "id": "f731544c",
   "metadata": {},
   "source": [
    "Broadcasting in NumPy is a mechanism that allows arrays with different shapes to be combined in arithmetic operations. When performing operations on arrays, NumPy compares their shapes element-wise. If the shapes are compatible, NumPy automatically adjusts the shapes of the arrays to make the operation possible. This adjustment, or \"broadcasting\", enables you to write cleaner and more concise code by avoiding the need to manually reshape or tile arrays to match each other's shapes."
   ]
  },
  {
   "cell_type": "code",
   "execution_count": 16,
   "id": "0ee57b47",
   "metadata": {},
   "outputs": [
    {
     "name": "stdout",
     "output_type": "stream",
     "text": [
      "[[11 22 33]\n",
      " [14 25 36]]\n"
     ]
    }
   ],
   "source": [
    "import numpy as np\n",
    "\n",
    "# Define two arrays with different shapes\n",
    "a = np.array([[1, 2, 3],\n",
    "              [4, 5, 6]])\n",
    "\n",
    "b = np.array([10, 20, 30])\n",
    "\n",
    "# Add the arrays together\n",
    "result = a + b\n",
    "\n",
    "print(result)"
   ]
  }
 ],
 "metadata": {
  "kernelspec": {
   "display_name": "Python 3 (ipykernel)",
   "language": "python",
   "name": "python3"
  },
  "language_info": {
   "codemirror_mode": {
    "name": "ipython",
    "version": 3
   },
   "file_extension": ".py",
   "mimetype": "text/x-python",
   "name": "python",
   "nbconvert_exporter": "python",
   "pygments_lexer": "ipython3",
   "version": "3.10.5"
  }
 },
 "nbformat": 4,
 "nbformat_minor": 5
}
