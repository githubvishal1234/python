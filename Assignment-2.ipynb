{
 "cells": [
  {
   "cell_type": "markdown",
   "id": "2d451bbd",
   "metadata": {},
   "source": [
    "## TOPIC: String Based Assignment Problem"
   ]
  },
  {
   "cell_type": "markdown",
   "id": "211555b1",
   "metadata": {},
   "source": [
    "### 1. Write a program to reverse a string."
   ]
  },
  {
   "cell_type": "code",
   "execution_count": 1,
   "id": "2d7372ef",
   "metadata": {},
   "outputs": [
    {
     "name": "stdout",
     "output_type": "stream",
     "text": [
      "enter a string: hello world\n",
      "dlrow olleh\n"
     ]
    }
   ],
   "source": [
    "str1=input(\"enter a string: \")\n",
    "str2=str1[::-1]\n",
    "print(str2)"
   ]
  },
  {
   "cell_type": "markdown",
   "id": "7fc2ee9c",
   "metadata": {},
   "source": [
    "### 2. Check if a string is a palindrome."
   ]
  },
  {
   "cell_type": "code",
   "execution_count": 2,
   "id": "e64d2046",
   "metadata": {},
   "outputs": [
    {
     "name": "stdout",
     "output_type": "stream",
     "text": [
      "enter the string: dad\n",
      "given string is palindrome\n"
     ]
    }
   ],
   "source": [
    "str2=input(\"enter the string: \")\n",
    "palindrome_str=str2[::-1]\n",
    "if(str2==palindrome_str):\n",
    "    print(\"given string is palindrome\")\n",
    "else:\n",
    "    print(\"given string is not palindrome \")"
   ]
  },
  {
   "cell_type": "markdown",
   "id": "b06af441",
   "metadata": {},
   "source": [
    "### 3. Convert a string to uppercase."
   ]
  },
  {
   "cell_type": "code",
   "execution_count": 3,
   "id": "b0d63e06",
   "metadata": {},
   "outputs": [
    {
     "name": "stdout",
     "output_type": "stream",
     "text": [
      "enter your string:hello world\n",
      "HELLO WORLD\n"
     ]
    }
   ],
   "source": [
    "str3=input(\"enter your string:\")\n",
    "convert_to_upper_str=str3.upper()\n",
    "print(convert_to_upper_str)"
   ]
  },
  {
   "cell_type": "markdown",
   "id": "ca2de566",
   "metadata": {},
   "source": [
    "### 4. Convert a string to lowercase."
   ]
  },
  {
   "cell_type": "code",
   "execution_count": 4,
   "id": "115cb8c8",
   "metadata": {},
   "outputs": [
    {
     "name": "stdout",
     "output_type": "stream",
     "text": [
      "enter your string:HELLO WORLD\n",
      "hello world\n"
     ]
    }
   ],
   "source": [
    "str4=input(\"enter your string:\")\n",
    "convert_to_lower_str=str4.lower()\n",
    "print(convert_to_lower_str)"
   ]
  },
  {
   "cell_type": "markdown",
   "id": "253a6d35",
   "metadata": {},
   "source": [
    "### 5. Count the number of vowels in a string."
   ]
  },
  {
   "cell_type": "code",
   "execution_count": 5,
   "id": "873dbf83",
   "metadata": {},
   "outputs": [
    {
     "name": "stdout",
     "output_type": "stream",
     "text": [
      "enter the string: hello\n",
      "no of vowels are :  2\n"
     ]
    }
   ],
   "source": [
    "# taking string from user to find no of vowels\n",
    "str5=input(\"enter the string: \")\n",
    "# declaring count value to zero \n",
    "count=0\n",
    "vowels=\"aeiou\" #declaring set of vowels \n",
    "# using for loop to access every index in string\n",
    "for vowel in str5:\n",
    "    if vowel in vowels:\n",
    "#         if vowel is present in index of string then incrementing count value\n",
    "        count=count+1\n",
    "# printing final  value present in count variable    \n",
    "print(\"no of vowels are : \",count)"
   ]
  },
  {
   "cell_type": "markdown",
   "id": "9325a339",
   "metadata": {},
   "source": [
    "### 6. Count the number of consonants in a string."
   ]
  },
  {
   "cell_type": "code",
   "execution_count": 6,
   "id": "1245074d",
   "metadata": {},
   "outputs": [
    {
     "name": "stdout",
     "output_type": "stream",
     "text": [
      "enter the string: hello\n",
      "no of consonants are :  3\n"
     ]
    }
   ],
   "source": [
    "# taking string from user to find no of vowels\n",
    "str6=input(\"enter the string: \")\n",
    "# declaring count value to zero \n",
    "count=0\n",
    "consonants=\"bcdfghjklmnpqrstvwxyzBCDFGHJKLMNPQRSTVWXYZ\"\n",
    "\n",
    "#declaring set of vowels \n",
    "# using for loop to access every index in string\n",
    "for consonant in str6:\n",
    "    if consonant  in consonants:\n",
    "#         if consonant is present in index of string then incrementing count value\n",
    "        count=count+1\n",
    "# printing final  value present in count variable    \n",
    "print(\"no of consonants are : \",count)"
   ]
  },
  {
   "cell_type": "markdown",
   "id": "bcf7dd29",
   "metadata": {},
   "source": [
    "### 7. Remove all whitespaces from a string."
   ]
  },
  {
   "cell_type": "code",
   "execution_count": 7,
   "id": "8150f33b",
   "metadata": {},
   "outputs": [
    {
     "name": "stdout",
     "output_type": "stream",
     "text": [
      "enter your string: this is pwskills\n",
      "thisispwskills\n"
     ]
    }
   ],
   "source": [
    "str7=input(\"enter your string: \")\n",
    "remove_space=str7.replace(\" \",\"\")\n",
    "print(remove_space)"
   ]
  },
  {
   "cell_type": "markdown",
   "id": "1c558c06",
   "metadata": {},
   "source": [
    "### 8. Find the length of a string without using the `len()` function."
   ]
  },
  {
   "cell_type": "code",
   "execution_count": 8,
   "id": "f591a86b",
   "metadata": {},
   "outputs": [
    {
     "name": "stdout",
     "output_type": "stream",
     "text": [
      "enter your string: vishal\n",
      "length of string is:  6\n"
     ]
    }
   ],
   "source": [
    "str8=input(\"enter your string: \")\n",
    "count=0\n",
    "for i in str8:\n",
    "    count=count+1\n",
    "print(\"length of string is: \",count)"
   ]
  },
  {
   "cell_type": "markdown",
   "id": "e51a3345",
   "metadata": {},
   "source": [
    "### 9. Check if a string contains a specific word."
   ]
  },
  {
   "cell_type": "code",
   "execution_count": 9,
   "id": "dbab6b20",
   "metadata": {},
   "outputs": [
    {
     "name": "stdout",
     "output_type": "stream",
     "text": [
      "enter your string: this is pwskills\n",
      "enter specific word: pwskills\n",
      "specific word is present in this string\n"
     ]
    }
   ],
   "source": [
    "str9=input(\"enter your string: \")\n",
    "specific_word=input(\"enter specific word: \")\n",
    "if specific_word in str9:\n",
    "    print(\"specific word is present in this string\")\n",
    "else:\n",
    "    print(\"the specific word is absent in string\")"
   ]
  },
  {
   "cell_type": "markdown",
   "id": "817ec75b",
   "metadata": {},
   "source": [
    "### 10. Replace a word in a string with another word."
   ]
  },
  {
   "cell_type": "code",
   "execution_count": 10,
   "id": "ac17d547",
   "metadata": {},
   "outputs": [
    {
     "name": "stdout",
     "output_type": "stream",
     "text": [
      "enter the string: hello india\n",
      "enter which word: hello\n",
      "enter replacing word: namasta\n",
      "new string is:  namasta india\n"
     ]
    }
   ],
   "source": [
    "str10=input(\"enter the string: \")\n",
    "which_word=input(\"enter which word: \")\n",
    "replace_word=input(\"enter replacing word: \")\n",
    "str11=str10.replace(which_word,replace_word)\n",
    "print(\"new string is: \",str11)"
   ]
  },
  {
   "cell_type": "markdown",
   "id": "6a4c82b7",
   "metadata": {},
   "source": [
    "### 11. Count the occurrences of a word in a string."
   ]
  },
  {
   "cell_type": "code",
   "execution_count": 11,
   "id": "c4fba60d",
   "metadata": {},
   "outputs": [
    {
     "name": "stdout",
     "output_type": "stream",
     "text": [
      "enter the string: hello hello hello\n",
      "enter word to check occurrence: hello\n",
      "occurrences of word hello is:  3\n"
     ]
    }
   ],
   "source": [
    "str11=input(\"enter the string: \")\n",
    "occurrences=input(\"enter word to check occurrence: \")\n",
    "\n",
    "str12=str11.count(occurrences)\n",
    "print(\"occurrences of word \"+occurrences+\" is: \",str12)"
   ]
  },
  {
   "cell_type": "markdown",
   "id": "23935292",
   "metadata": {},
   "source": [
    "### 12. Find the first occurrence of a word in a string."
   ]
  },
  {
   "cell_type": "code",
   "execution_count": 12,
   "id": "3b3e9884",
   "metadata": {},
   "outputs": [
    {
     "name": "stdout",
     "output_type": "stream",
     "text": [
      "The first occurrence of hello is at index  0\n"
     ]
    }
   ],
   "source": [
    "str13=\"hello india hello\"\n",
    "occ_str1=\"hello\"\n",
    "first_occ=str13.find(occ_str1)\n",
    "if first_occ != -1:\n",
    "    print(\"The first occurrence of \"+occ_str1+\" is at index \",first_occ)"
   ]
  },
  {
   "cell_type": "markdown",
   "id": "b29e9c12",
   "metadata": {},
   "source": [
    "### 13. Find the last occurrence of a word in a string."
   ]
  },
  {
   "cell_type": "code",
   "execution_count": 13,
   "id": "5152b71b",
   "metadata": {},
   "outputs": [
    {
     "name": "stdout",
     "output_type": "stream",
     "text": [
      "The last occurrence of hello is at index  12\n"
     ]
    }
   ],
   "source": [
    "str14=\"hello india hello\"\n",
    "occ_str2=\"hello\"\n",
    "last_occ=str14.rfind(occ_str2)\n",
    "if last_occ != -1:\n",
    "    print(\"The last occurrence of \"+occ_str2+\" is at index \",last_occ)"
   ]
  },
  {
   "cell_type": "markdown",
   "id": "1677daa9",
   "metadata": {},
   "source": [
    "### 14. Split a string into a list of words."
   ]
  },
  {
   "cell_type": "code",
   "execution_count": 14,
   "id": "ac9c070b",
   "metadata": {},
   "outputs": [
    {
     "name": "stdout",
     "output_type": "stream",
     "text": [
      "['hello', 'this', 'is', 'india']\n"
     ]
    }
   ],
   "source": [
    "str15=\"hello this is india\"\n",
    "split_str=str15.split(\" \")\n",
    "print(list(split_str))"
   ]
  },
  {
   "cell_type": "markdown",
   "id": "e602789a",
   "metadata": {},
   "source": [
    "### 15. Join a list of words into a string."
   ]
  },
  {
   "cell_type": "code",
   "execution_count": 15,
   "id": "f49c60f0",
   "metadata": {},
   "outputs": [
    {
     "name": "stdout",
     "output_type": "stream",
     "text": [
      "hello this is india\n"
     ]
    }
   ],
   "source": [
    "list16=[\"hello\",\"this\",\"is\",\"india\"]\n",
    "split_str1=\" \".join(list16)\n",
    "str16=split_str1\n",
    "print(str(str16))"
   ]
  },
  {
   "cell_type": "markdown",
   "id": "d9094f4a",
   "metadata": {},
   "source": [
    "### 16. Convert a string where words are separated by spaces to one where words are separated by underscores."
   ]
  },
  {
   "cell_type": "code",
   "execution_count": 16,
   "id": "00c3a70e",
   "metadata": {},
   "outputs": [
    {
     "name": "stdout",
     "output_type": "stream",
     "text": [
      "hello_strings_are_immutable\n"
     ]
    }
   ],
   "source": [
    "str17=\"hello strings are immutable\"\n",
    "str_convert=str17.replace(\" \",\"_\")\n",
    "print(str_convert)"
   ]
  },
  {
   "cell_type": "markdown",
   "id": "38f7d30b",
   "metadata": {},
   "source": [
    "### 17. Check if a string starts with a specific word or phrase."
   ]
  },
  {
   "cell_type": "code",
   "execution_count": 17,
   "id": "e8d40611",
   "metadata": {},
   "outputs": [
    {
     "name": "stdout",
     "output_type": "stream",
     "text": [
      "yes this string starts with the word  welcome\n"
     ]
    }
   ],
   "source": [
    "str18=\"welcome to india\"\n",
    "specific_word=\"welcome\"\n",
    "if str18.startswith(specific_word):\n",
    "    print(\"yes this string starts with the word \",specific_word)    \n",
    "else:\n",
    "    print(\"this string do not start with the word \",specific_word)"
   ]
  },
  {
   "cell_type": "markdown",
   "id": "e31be1f6",
   "metadata": {},
   "source": [
    "### 18. Check if a string ends with a specific word or phrase."
   ]
  },
  {
   "cell_type": "code",
   "execution_count": 18,
   "id": "ceb5ef78",
   "metadata": {},
   "outputs": [
    {
     "name": "stdout",
     "output_type": "stream",
     "text": [
      "yes this string ends with the word  india\n"
     ]
    }
   ],
   "source": [
    "str19=\"welcome to india\"\n",
    "specific_word1=\"india\"\n",
    "if str19.endswith(specific_word1):\n",
    "    print(\"yes this string ends with the word \",specific_word1)   \n",
    "else:\n",
    "    print(\"this string do not end with word \",specific_word1)"
   ]
  },
  {
   "cell_type": "markdown",
   "id": "c8c4f876",
   "metadata": {},
   "source": [
    "### 19. Convert a string to title case (e.g., \"hello world\" to \"Hello World\")."
   ]
  },
  {
   "cell_type": "code",
   "execution_count": 19,
   "id": "cd03a658",
   "metadata": {},
   "outputs": [
    {
     "name": "stdout",
     "output_type": "stream",
     "text": [
      "Hello World\n"
     ]
    }
   ],
   "source": [
    "str20=\"hello world\"\n",
    "conv_str=str20.title()\n",
    "print(conv_str)"
   ]
  },
  {
   "cell_type": "markdown",
   "id": "603fee88",
   "metadata": {},
   "source": [
    "### 20. Find the longest word in a string."
   ]
  },
  {
   "cell_type": "code",
   "execution_count": 20,
   "id": "f7c3ad15",
   "metadata": {},
   "outputs": [
    {
     "name": "stdout",
     "output_type": "stream",
     "text": [
      "['finding', 'the', 'long', 'word', 'in', 'string']\n",
      "The longest word is finding\n"
     ]
    }
   ],
   "source": [
    "str21=\"finding the long word in string\"\n",
    "words =str21.split()\n",
    "print(words)\n",
    "longest_word = \"\"\n",
    "max_length = 0\n",
    "for word in words:\n",
    "    word = word.strip(\" \")\n",
    "    if len(word) > max_length:\n",
    "        max_length = len(word)\n",
    "        longest_word = word\n",
    "print(\"The longest word is \"+longest_word)"
   ]
  },
  {
   "cell_type": "markdown",
   "id": "01824eb3",
   "metadata": {},
   "source": [
    "### 21. Find the shortest word in a string."
   ]
  },
  {
   "cell_type": "code",
   "execution_count": 21,
   "id": "7b8a7e50",
   "metadata": {},
   "outputs": [
    {
     "name": "stdout",
     "output_type": "stream",
     "text": [
      "the shortest word is:  at\n"
     ]
    }
   ],
   "source": [
    "str_word=\"hello iam learning at pwskills\"\n",
    "short_words = str_word.split()\n",
    "    \n",
    "    # Initialize the shortest word as the first word in the list\n",
    "shortest_word = short_words[0]\n",
    "    \n",
    "    # Iterate through the words and update the shortest word\n",
    "for word in short_words:\n",
    "    if len(word) < len(shortest_word):\n",
    "        shortest_word = word\n",
    "print(\"the shortest word is: \",shortest_word)"
   ]
  },
  {
   "cell_type": "markdown",
   "id": "46365138",
   "metadata": {},
   "source": [
    "### 22. Reverse the order of words in a string."
   ]
  },
  {
   "cell_type": "code",
   "execution_count": 22,
   "id": "d222f309",
   "metadata": {},
   "outputs": [
    {
     "name": "stdout",
     "output_type": "stream",
     "text": [
      "world hello\n"
     ]
    }
   ],
   "source": [
    "str22 = \"hello world \"\n",
    "\n",
    "# Split the input string into words using spaces as the delimiter\n",
    "words = str22.split()\n",
    "\n",
    "# Reverse the list of words\n",
    "reversed_words = list(reversed(words))\n",
    "\n",
    "# Join the reversed words back into a single string\n",
    "reversed_string = ' '.join(reversed_words)\n",
    "print(reversed_string)"
   ]
  },
  {
   "cell_type": "markdown",
   "id": "1485f928",
   "metadata": {},
   "source": [
    "### 23. Check if a string is alphanumeric."
   ]
  },
  {
   "cell_type": "code",
   "execution_count": 23,
   "id": "54daf2b3",
   "metadata": {},
   "outputs": [
    {
     "name": "stdout",
     "output_type": "stream",
     "text": [
      "The string  vishal123 is alphanumeric.\n"
     ]
    }
   ],
   "source": [
    "str23 = \"vishal123\"  # Replace with your string\n",
    "\n",
    "if str23.isalnum():\n",
    "    print(\"The string  \"+str23+\" is alphanumeric.\")\n",
    "else:\n",
    "    print(\"The string \" +str23+\" is not alphanumeric.\")\n"
   ]
  },
  {
   "cell_type": "markdown",
   "id": "69aadd0c",
   "metadata": {},
   "source": [
    "### 24. Extract all digits from a string."
   ]
  },
  {
   "cell_type": "code",
   "execution_count": 24,
   "id": "d613fac9",
   "metadata": {},
   "outputs": [
    {
     "name": "stdout",
     "output_type": "stream",
     "text": [
      "digits in given string are:  293\n"
     ]
    }
   ],
   "source": [
    "str24 = \"The price of the item is 29rs and the quantity is 3.\"\n",
    "\n",
    "# Initialize an empty string to store the extracted digits\n",
    "str_digits = \"\"\n",
    "\n",
    "# Iterate through the characters in the input string\n",
    "for i in str24:\n",
    "    if i.isdigit():\n",
    "        str_digits += i\n",
    "\n",
    "print(\"digits in given string are: \",str_digits)"
   ]
  },
  {
   "cell_type": "markdown",
   "id": "ad3db6db",
   "metadata": {},
   "source": [
    "### 25. Extract all alphabets from a string."
   ]
  },
  {
   "cell_type": "code",
   "execution_count": 25,
   "id": "4f24a47a",
   "metadata": {},
   "outputs": [
    {
     "name": "stdout",
     "output_type": "stream",
     "text": [
      "alphabets in given string are:  Thepriceoftheitemisrsandthequantityis\n"
     ]
    }
   ],
   "source": [
    "str25 = \"The price of the item is 29rs and the quantity is 3.\"\n",
    "\n",
    "# Initialize an empty string to store the extracted digits\n",
    "str_alphabets = \"\"\n",
    "\n",
    "# Iterate through the characters in the input string\n",
    "for i in str25:\n",
    "    if i.isalpha():\n",
    "        str_alphabets += i\n",
    "\n",
    "print(\"alphabets in given string are: \",str_alphabets)"
   ]
  },
  {
   "cell_type": "markdown",
   "id": "9cd3663f",
   "metadata": {},
   "source": [
    "### 26. Count the number of uppercase letters in a string."
   ]
  },
  {
   "cell_type": "code",
   "execution_count": 1,
   "id": "c905d012",
   "metadata": {},
   "outputs": [
    {
     "name": "stdout",
     "output_type": "stream",
     "text": [
      "no of uppercase letters in string are:  3\n"
     ]
    }
   ],
   "source": [
    "str26=\"Hello iam From India\"\n",
    "str_upper=\"\"\n",
    "upper_case=0\n",
    "for letter in str26:\n",
    "    if letter.isupper():\n",
    "        str_upper+=letter\n",
    "        upper_case=upper_case+1\n",
    "print(\"no of uppercase letters in string are: \",upper_case)        "
   ]
  },
  {
   "cell_type": "markdown",
   "id": "3418012a",
   "metadata": {},
   "source": [
    "### 27. Count the number of lowercase letters in a string."
   ]
  },
  {
   "cell_type": "code",
   "execution_count": 2,
   "id": "4ca08a88",
   "metadata": {},
   "outputs": [
    {
     "name": "stdout",
     "output_type": "stream",
     "text": [
      "no of lowercase letters are:  12\n"
     ]
    }
   ],
   "source": [
    "str27=\"HELLo pwskills are BEST\"\n",
    "str_lower=\"\"\n",
    "lower_case=0\n",
    "for letter in str27:\n",
    "    if letter.islower():\n",
    "        str_lower+=letter\n",
    "        lower_case=lower_case+1\n",
    "print(\"no of lowercase letters are: \",lower_case)"
   ]
  },
  {
   "cell_type": "markdown",
   "id": "ced94f31",
   "metadata": {},
   "source": [
    "### 28. Swap the case of each character in a string."
   ]
  },
  {
   "cell_type": "code",
   "execution_count": 28,
   "id": "cbcb2a4b",
   "metadata": {},
   "outputs": [
    {
     "name": "stdout",
     "output_type": "stream",
     "text": [
      "swapping each character in string:  sWAPPING cASE\n"
     ]
    }
   ],
   "source": [
    "str28=\"Swapping Case\"\n",
    "swapped_str=str28.swapcase()\n",
    "print(\"swapping each character in string: \",swapped_str)"
   ]
  },
  {
   "cell_type": "markdown",
   "id": "0df61762",
   "metadata": {},
   "source": [
    "### 29. Remove a specific word from a string."
   ]
  },
  {
   "cell_type": "code",
   "execution_count": 29,
   "id": "a7303a64",
   "metadata": {},
   "outputs": [
    {
     "name": "stdout",
     "output_type": "stream",
     "text": [
      "india\n"
     ]
    }
   ],
   "source": [
    "str29=\"hello india\"\n",
    "specific_word=\"hello\"\n",
    "list1=list(str29.split())\n",
    "\n",
    "if specific_word in list1:\n",
    "    list1.remove(specific_word)\n",
    "    \n",
    "l2=list(list1)\n",
    "str_list=' '.join(l2)\n",
    "\n",
    "print(str_list)"
   ]
  },
  {
   "cell_type": "markdown",
   "id": "4115ef8a",
   "metadata": {},
   "source": [
    "### 30. Check if a string is a valid email address."
   ]
  },
  {
   "cell_type": "code",
   "execution_count": 30,
   "id": "2838b8ab",
   "metadata": {},
   "outputs": [
    {
     "name": "stdout",
     "output_type": "stream",
     "text": [
      "enter your email: vishalvishal7701@gmail.com\n",
      "this email is valid \n"
     ]
    }
   ],
   "source": [
    "import re\n",
    "email1=input(\"enter your email: \")\n",
    "pattern = r'^[\\w\\.-]+@[\\w\\.-]+\\.\\w+$'\n",
    "if re.match(pattern, email1):\n",
    "    print(\"this email is valid \")\n",
    "else:\n",
    "    print(\"this email is not valid\")"
   ]
  },
  {
   "cell_type": "markdown",
   "id": "e4413488",
   "metadata": {},
   "source": [
    "### 31. Extract the username from an email address string."
   ]
  },
  {
   "cell_type": "code",
   "execution_count": 31,
   "id": "30f56a1c",
   "metadata": {},
   "outputs": [
    {
     "name": "stdout",
     "output_type": "stream",
     "text": [
      "enter your email: vishal7701@gmail.com\n",
      "your username is:  vishal7701\n"
     ]
    }
   ],
   "source": [
    "str31=input(\"enter your email: \")\n",
    "username=str31.split('@')[0]\n",
    "print(\"your username is: \",username)"
   ]
  },
  {
   "cell_type": "markdown",
   "id": "1d99e27d",
   "metadata": {},
   "source": [
    "### 32. Extract the domain name from an email address string."
   ]
  },
  {
   "cell_type": "code",
   "execution_count": 32,
   "id": "19cf6718",
   "metadata": {},
   "outputs": [
    {
     "name": "stdout",
     "output_type": "stream",
     "text": [
      "enter your email: vishal7703@gmail.com\n",
      "your domain_name is:  gmail.com\n"
     ]
    }
   ],
   "source": [
    "str32=input(\"enter your email: \")\n",
    "domainname=str32.split('@')[1]\n",
    "print(\"your domain_name is: \",domainname)"
   ]
  },
  {
   "cell_type": "markdown",
   "id": "ec5d02fe",
   "metadata": {},
   "source": [
    "### 33. Replace multiple spaces in a string with a single space."
   ]
  },
  {
   "cell_type": "code",
   "execution_count": 33,
   "id": "b6bd1702",
   "metadata": {},
   "outputs": [
    {
     "name": "stdout",
     "output_type": "stream",
     "text": [
      "hello iam learning python\n"
     ]
    }
   ],
   "source": [
    "str33=\"hello                iam       learning   python\"\n",
    "replace_str = ' '.join(str33.split()) \n",
    "print(replace_str)"
   ]
  },
  {
   "cell_type": "markdown",
   "id": "a078a2fc",
   "metadata": {},
   "source": [
    "### 34. Check if a string is a valid URL."
   ]
  },
  {
   "cell_type": "code",
   "execution_count": 37,
   "id": "bb4c26bd",
   "metadata": {},
   "outputs": [
    {
     "name": "stdout",
     "output_type": "stream",
     "text": [
      "https://www.example.com is a valid URL.\n",
      "vishal124_url is not a valid URL.\n"
     ]
    }
   ],
   "source": [
    "from urllib.parse import urlparse\n",
    "def check_url(url):\n",
    "    try:\n",
    "        parsed_url = urlparse(url)\n",
    "        return all([parsed_url.scheme, parsed_url.netloc])\n",
    "    except Exception as e:\n",
    "        return False\n",
    "\n",
    "# Test the function with examples\n",
    "url1 = \"https://www.example.com\"\n",
    "url2 = \"vishal124_url\"\n",
    "if check_url(url1):\n",
    "    print(url1+ \" is a valid URL.\")\n",
    "else:\n",
    "    print(url1+\" is not a valid URL.\")\n",
    "if check_url(url2):\n",
    "    print(url2+ \" is a valid URL.\")\n",
    "else:\n",
    "    print(url2+\" is not a valid URL.\")"
   ]
  },
  {
   "cell_type": "markdown",
   "id": "a811b615",
   "metadata": {},
   "source": [
    "### 35. Extract the protocol (http or https) from a URL string."
   ]
  },
  {
   "cell_type": "code",
   "execution_count": 38,
   "id": "78fc178a",
   "metadata": {},
   "outputs": [
    {
     "name": "stdout",
     "output_type": "stream",
     "text": [
      "Protocol 1: https\n",
      "Protocol 2: http\n",
      "Protocol 3: ftp\n"
     ]
    }
   ],
   "source": [
    "def extract_protocol(url):\n",
    "    # Find the index of the first occurrence of \"://\"\n",
    "    protocol_end = url.find(\"://\")\n",
    "\n",
    "    if protocol_end != -1:\n",
    "        # Extract the protocol from the URL\n",
    "        protocol = url[:protocol_end]\n",
    "        return protocol\n",
    "    else:\n",
    "        return None\n",
    "\n",
    "# Example URL strings\n",
    "url1 = \"https://www.example.com\"\n",
    "url2 = \"http://google.com\"\n",
    "url3 = \"ftp://ftp.example.com\"\n",
    "\n",
    "# Extract protocols\n",
    "protocol1 = extract_protocol(url1)\n",
    "protocol2 = extract_protocol(url2)\n",
    "protocol3 = extract_protocol(url3)\n",
    "\n",
    "# Print extracted protocols\n",
    "print(\"Protocol 1:\", protocol1)\n",
    "print(\"Protocol 2:\", protocol2)\n",
    "print(\"Protocol 3:\", protocol3)"
   ]
  },
  {
   "cell_type": "markdown",
   "id": "1f40640e",
   "metadata": {},
   "source": [
    "### 36. Find the frequency of each character in a string."
   ]
  },
  {
   "cell_type": "code",
   "execution_count": 39,
   "id": "c7b3a883",
   "metadata": {},
   "outputs": [
    {
     "name": "stdout",
     "output_type": "stream",
     "text": [
      "'h': 3\n",
      "'e': 2\n",
      "'l': 3\n",
      "'o': 3\n",
      "' ': 5\n",
      "'i': 2\n",
      "'a': 3\n",
      "'m': 1\n",
      "'v': 1\n",
      "'s': 1\n",
      "'w': 1\n",
      "'r': 1\n",
      "'y': 1\n",
      "'u': 1\n"
     ]
    }
   ],
   "source": [
    "def char_freq(string):\n",
    "    # Create an empty dictionary to store character frequencies\n",
    "    char_freq = {}\n",
    "    for char in string:\n",
    "        if char in char_freq:\n",
    "            char_freq[char] += 1\n",
    "        else:\n",
    "            char_freq[char] = 1\n",
    "    return char_freq\n",
    "\n",
    "# Test the function with an example\n",
    "str36 = \"hello iam vishal how are you\"\n",
    "frequency = char_freq(str36)\n",
    "\n",
    "# Print the character frequencies\n",
    "for char, freq in frequency.items():\n",
    "    print(f\"'{char}': {freq}\")\n"
   ]
  },
  {
   "cell_type": "markdown",
   "id": "647f3131",
   "metadata": {},
   "source": [
    "### 37. Remove all punctuation from a string."
   ]
  },
  {
   "cell_type": "code",
   "execution_count": 49,
   "id": "1dd87ce1",
   "metadata": {},
   "outputs": [
    {
     "name": "stdout",
     "output_type": "stream",
     "text": [
      "Hello World This is a string without punctuation\n"
     ]
    }
   ],
   "source": [
    "import string\n",
    "str37 = \"Hello, World! This is a string without punctuation.\"\n",
    "translator=str.maketrans('','',string.punctuation)\n",
    "clean_string=str37.translate(translator)\n",
    "cleaned_str =clean_string\n",
    "print(cleaned_str)"
   ]
  },
  {
   "cell_type": "markdown",
   "id": "daf1e189",
   "metadata": {},
   "source": [
    "### 38. Check if a string contains only digits."
   ]
  },
  {
   "cell_type": "code",
   "execution_count": 50,
   "id": "bfd35007",
   "metadata": {},
   "outputs": [
    {
     "name": "stdout",
     "output_type": "stream",
     "text": [
      "enter any string: 123\n",
      "True\n"
     ]
    }
   ],
   "source": [
    "str38=input(\"enter any string: \")\n",
    "check_str_digits=str38.isdigit()\n",
    "print(check_str_digits)"
   ]
  },
  {
   "cell_type": "markdown",
   "id": "cbcca560",
   "metadata": {},
   "source": [
    "### 39. Check if a string contains only alphabets."
   ]
  },
  {
   "cell_type": "code",
   "execution_count": 52,
   "id": "3a1a3a68",
   "metadata": {},
   "outputs": [
    {
     "name": "stdout",
     "output_type": "stream",
     "text": [
      "enter any string: helloworld\n",
      "True\n"
     ]
    }
   ],
   "source": [
    "str39=input(\"enter any string: \")\n",
    "check_str_alpha=str39.isalpha()\n",
    "print(check_str_alpha)"
   ]
  },
  {
   "cell_type": "markdown",
   "id": "4cbdee7c",
   "metadata": {},
   "source": [
    "### 40. Convert a string to a list of characters."
   ]
  },
  {
   "cell_type": "code",
   "execution_count": 53,
   "id": "a9b28917",
   "metadata": {},
   "outputs": [
    {
     "name": "stdout",
     "output_type": "stream",
     "text": [
      "enter any string: hello world\n",
      "['h', 'e', 'l', 'l', 'o', ' ', 'w', 'o', 'r', 'l', 'd']\n"
     ]
    }
   ],
   "source": [
    "str40=input(\"enter any string: \")\n",
    "conv_str_list=list(str40)\n",
    "print(conv_str_list)"
   ]
  },
  {
   "cell_type": "markdown",
   "id": "95762a2c",
   "metadata": {},
   "source": [
    "### 41. Check if two strings are anagrams."
   ]
  },
  {
   "cell_type": "code",
   "execution_count": 54,
   "id": "c91e1199",
   "metadata": {},
   "outputs": [
    {
     "name": "stdout",
     "output_type": "stream",
     "text": [
      "'listen' and 'silent' are anagrams: True\n",
      "'hello' and 'world' are anagrams: False\n"
     ]
    }
   ],
   "source": [
    "def are_anagrams(str41, str42):\n",
    "    # Remove spaces and convert strings to lowercase for accurate comparison\n",
    "    str41 = str41.replace(\" \", \"\").lower()\n",
    "    str42 = str42.replace(\" \", \"\").lower()\n",
    "\n",
    "    # Sort the characters in both strings and compare\n",
    "    return sorted(str41) == sorted(str42)\n",
    "\n",
    "# Example strings\n",
    "string1 = \"listen\"\n",
    "string2 = \"silent\"\n",
    "string3 = \"hello\"\n",
    "string4 = \"world\"\n",
    "\n",
    "# Check if strings are anagrams\n",
    "result1 = are_anagrams(string1, string2)\n",
    "result2 = are_anagrams(string3, string4)\n",
    "\n",
    "# Print the results\n",
    "print(f\"'{string1}' and '{string2}' are anagrams:\", result1)\n",
    "print(f\"'{string3}' and '{string4}' are anagrams:\", result2)"
   ]
  },
  {
   "cell_type": "markdown",
   "id": "629da9da",
   "metadata": {},
   "source": [
    "### 42. Encode a string using a Caesar cipher."
   ]
  },
  {
   "cell_type": "code",
   "execution_count": 55,
   "id": "bc53417a",
   "metadata": {},
   "outputs": [
    {
     "name": "stdout",
     "output_type": "stream",
     "text": [
      "Encoded: Khoor, Zruog!\n"
     ]
    }
   ],
   "source": [
    "def caesar_cipher(text, shift):\n",
    "    encoded_text = \"\"\n",
    "    for char in text:\n",
    "        if char.isalpha():\n",
    "            is_upper = char.isupper()\n",
    "            char = char.lower()\n",
    "            shifted = chr(((ord(char) - ord('a') + shift) % 26) + ord('a'))\n",
    "            if is_upper:\n",
    "                shifted = shifted.upper()\n",
    "            encoded_text += shifted\n",
    "        else:\n",
    "            encoded_text += char\n",
    "    return encoded_text\n",
    "plaintext = \"Hello, World!\"\n",
    "shift = 3\n",
    "encoded_text = caesar_cipher(plaintext, shift)\n",
    "print(\"Encoded:\", encoded_text)"
   ]
  },
  {
   "cell_type": "markdown",
   "id": "84c0166b",
   "metadata": {},
   "source": [
    "### 43. Decode a Caesar cipher encoded string."
   ]
  },
  {
   "cell_type": "code",
   "execution_count": 56,
   "id": "ce3e2e9f",
   "metadata": {},
   "outputs": [
    {
     "name": "stdout",
     "output_type": "stream",
     "text": [
      "Decoded text: ilmm, world!\n"
     ]
    }
   ],
   "source": [
    "# Define a function to decode a string using a Caesar cipher\n",
    "def caesar_cipher_decoder(text, shift):\n",
    "    \"\"\"\n",
    "    Decodes a string using a Caesar cipher.\n",
    "\n",
    "    Args:\n",
    "        text: The string to decode.\n",
    "        shift: The number of positions to shift each letter.\n",
    "\n",
    "    Returns:\n",
    "        The decoded string.\n",
    "    \"\"\"\n",
    "    decoded_text = \"\"\n",
    "    for char in text:\n",
    "        if char.isalpha():\n",
    "            decoded_char = chr((ord(char) - shift - ord('a')) % 26 + ord('a'))\n",
    "        else:\n",
    "            decoded_char = char\n",
    "        decoded_text += decoded_char\n",
    "    # Return the fully decoded text\n",
    "    return decoded_text\n",
    "\n",
    "text = \"lopp, zruog!\"\n",
    "shift = 3\n",
    "\n",
    "# Call the caesar_cipher_decoder function to decode the input text\n",
    "decoded_text = caesar_cipher_decoder(text, shift)\n",
    "\n",
    "# Print the decoded text\n",
    "print(\"Decoded text:\", decoded_text)"
   ]
  },
  {
   "cell_type": "markdown",
   "id": "a63d9170",
   "metadata": {},
   "source": [
    "### 44. Find the most frequent word in a string."
   ]
  },
  {
   "cell_type": "code",
   "execution_count": 57,
   "id": "66a04286",
   "metadata": {},
   "outputs": [
    {
     "name": "stdout",
     "output_type": "stream",
     "text": [
      "Most frequent word: hello\n"
     ]
    }
   ],
   "source": [
    "import re\n",
    "from collections import Counter\n",
    "def most_frequent_word(str44):\n",
    "                                                          # Remove punctuation and convert to lowercase\n",
    "    clean_string = re.sub(r'[^\\w\\s]', '',str44).lower()\n",
    "                                                          # Split the string into words\n",
    "    words = clean_string.split()\n",
    "                                                         # Use Counter to count word frequencies\n",
    "    word_counter = Counter(words)\n",
    "                                                         # Find the most common word\n",
    "    most_common_word = word_counter.most_common(1)[0][0]\n",
    "    return most_common_word\n",
    "\n",
    "# Example string\n",
    "str44 = \"Hello world, hello there! How's the world?\"\n",
    "\n",
    "# Find the most frequent word\n",
    "most_common = most_frequent_word(str44)\n",
    "\n",
    "# Print the result\n",
    "print(\"Most frequent word:\", most_common)"
   ]
  },
  {
   "cell_type": "markdown",
   "id": "8da5270e",
   "metadata": {},
   "source": [
    "### 45. Find all unique words in a string."
   ]
  },
  {
   "cell_type": "code",
   "execution_count": 58,
   "id": "f9394ea5",
   "metadata": {},
   "outputs": [
    {
     "name": "stdout",
     "output_type": "stream",
     "text": [
      "Unique words: {'the', 'hello', 'there', 'hows', 'world'}\n"
     ]
    }
   ],
   "source": [
    "import re\n",
    "\n",
    "str45 = \"Hello world, hello there! How's the world?\"\n",
    "clean_string = re.sub(r'[^\\w\\s]', '',str45).lower()\n",
    "words = set(clean_string.split())\n",
    "# Find unique words\n",
    "unique_word_set =words\n",
    "# Print the result\n",
    "print(\"Unique words:\", unique_word_set)"
   ]
  },
  {
   "cell_type": "markdown",
   "id": "5583ec63",
   "metadata": {},
   "source": [
    "### 46. Count the number of syllables in a string."
   ]
  },
  {
   "cell_type": "code",
   "execution_count": 59,
   "id": "776fcb13",
   "metadata": {},
   "outputs": [
    {
     "name": "stdout",
     "output_type": "stream",
     "text": [
      "'hello' has 2 syllables.\n",
      "'banana' has 3 syllables.\n",
      "'syllable' has 3 syllables.\n"
     ]
    }
   ],
   "source": [
    "import re\n",
    "\n",
    "# Example words\n",
    "word1 = \"hello\"\n",
    "word2 = \"banana\"\n",
    "word3 = \"syllable\"\n",
    "\n",
    "# Count syllables\n",
    "syllables1 = vowel_groups = len(re.findall(r'[aeiouy]+', word1, re.IGNORECASE))\n",
    "syllables2 = vowel_groups = len(re.findall(r'[aeiouy]+', word2, re.IGNORECASE))\n",
    "syllables3 = vowel_groups = len(re.findall(r'[aeiouy]+', word3, re.IGNORECASE))\n",
    "\n",
    "# Print the results\n",
    "print(f\"'{word1}' has {syllables1} syllables.\")\n",
    "print(f\"'{word2}' has {syllables2} syllables.\")\n",
    "print(f\"'{word3}' has {syllables3} syllables.\")"
   ]
  },
  {
   "cell_type": "markdown",
   "id": "78f44f66",
   "metadata": {},
   "source": [
    "### 47. Check if a string contains any special characters."
   ]
  },
  {
   "cell_type": "code",
   "execution_count": 60,
   "id": "d057ee88",
   "metadata": {},
   "outputs": [
    {
     "name": "stdout",
     "output_type": "stream",
     "text": [
      "The string contains special characters.\n"
     ]
    }
   ],
   "source": [
    "import re\n",
    "\n",
    "# Example usage\n",
    "test_string = \"Hello, World!\"\n",
    "\n",
    "pattern = r'[^A-Za-z0-9]'\n",
    "if re.search(pattern, test_string):\n",
    "    print(\"The string contains special characters.\")    \n",
    "else:\n",
    "    print(\"The string does not contain special characters.\")\n"
   ]
  },
  {
   "cell_type": "markdown",
   "id": "974a4540",
   "metadata": {},
   "source": [
    "### 48. Remove the nth word from a string."
   ]
  },
  {
   "cell_type": "code",
   "execution_count": 61,
   "id": "a3a1b75d",
   "metadata": {},
   "outputs": [
    {
     "name": "stdout",
     "output_type": "stream",
     "text": [
      "enter which term4\n",
      "Modified String: This is a sentence to test the function.\n"
     ]
    }
   ],
   "source": [
    "def remove_nth_word(input_string, n):\n",
    "    # Split the input string into words\n",
    "    words = input_string.split()\n",
    "\n",
    "    # Check if n is within a valid range\n",
    "    if 1 <= n <= len(words):\n",
    "        # Remove the nth word\n",
    "        words.pop(n - 1)\n",
    "\n",
    "        # Join the remaining words back into a string\n",
    "        result_string = ' '.join(words)\n",
    "        return result_string\n",
    "    else:\n",
    "        # If n is out of range, return the original string\n",
    "        return input_string\n",
    "\n",
    "# Example usage:\n",
    "input_string = \"This is a sample sentence to test the function.\"\n",
    "n=int(input(\"enter which term\"))\n",
    "result = remove_nth_word(input_string, n)\n",
    "print(\"Modified String:\", result)\n"
   ]
  },
  {
   "cell_type": "markdown",
   "id": "5a0a41d7",
   "metadata": {},
   "source": [
    "### 49. Insert a word at the nth position in a string."
   ]
  },
  {
   "cell_type": "code",
   "execution_count": 62,
   "id": "946457a9",
   "metadata": {},
   "outputs": [
    {
     "name": "stdout",
     "output_type": "stream",
     "text": [
      "enter word to insert: hello\n",
      "enter at which position: 4\n",
      "Thishello is a test.\n"
     ]
    }
   ],
   "source": [
    "word_to_insert = input(\"enter word to insert: \")\n",
    "n = int(input(\"enter at which position: \"))\n",
    "\n",
    "\n",
    "str49 = \"This is a test.\"\n",
    "\n",
    "if n <= 0:\n",
    "    result=word_to_insert + str49\n",
    "elif n >= len(str49):\n",
    "     result=str49 + word_to_insert\n",
    "else:\n",
    "    result=str49[:n] + word_to_insert + str49[n:]\n",
    "\n",
    "print(result)\n"
   ]
  },
  {
   "cell_type": "markdown",
   "id": "8a899e86",
   "metadata": {},
   "source": [
    "### 50. Convert a CSV string to a list of lists."
   ]
  },
  {
   "cell_type": "code",
   "execution_count": 64,
   "id": "add9744d",
   "metadata": {},
   "outputs": [
    {
     "name": "stdout",
     "output_type": "stream",
     "text": [
      "['Name', ' age', ' Country']\n",
      "['vishal', ' 20', ' india']\n",
      "['Alice', ' 30', ' Canada']\n",
      "['Bob', ' 22', ' UK']\n"
     ]
    }
   ],
   "source": [
    "# Example CSV string\n",
    "csv_data = \"Name, age, Country\\nvishal, 20, india\\nAlice, 30, Canada\\nBob, 22, UK\"  \n",
    "lines = csv_data.split('\\n')      \n",
    "result = []\n",
    "\n",
    "for line in lines:          # Split each line into fields using comma as the delimiter\n",
    "    fields = line.split(',')     # Append the fields to the result list as a row\n",
    "    result.append(fields)\n",
    "    \n",
    "list_of_lists =result          # Convert CSV string to a list of lists\n",
    "                \n",
    "for row in list_of_lists:          # Printing the result\n",
    "    print(row)"
   ]
  },
  {
   "cell_type": "markdown",
   "id": "76ab20ea",
   "metadata": {},
   "source": [
    "## List Based Practice Problem :"
   ]
  },
  {
   "cell_type": "markdown",
   "id": "8a096d07",
   "metadata": {},
   "source": [
    "### 1. Create a list with integers from 1 to 10."
   ]
  },
  {
   "cell_type": "code",
   "execution_count": 3,
   "id": "1f249500",
   "metadata": {},
   "outputs": [
    {
     "name": "stdout",
     "output_type": "stream",
     "text": [
      "list of integers are:  [1, 2, 3, 4, 5, 6, 7, 8, 9, 10]\n"
     ]
    }
   ],
   "source": [
    "list1=[]  # creating empty list\n",
    "for i in range(1,11):\n",
    "    list1.append(i)   # appending all i value in range \n",
    "print(\"list of integers are: \",list1)    # printing the list "
   ]
  },
  {
   "cell_type": "markdown",
   "id": "bdebe358",
   "metadata": {},
   "source": [
    "### 2. Find the length of a list without using the `len()` function."
   ]
  },
  {
   "cell_type": "code",
   "execution_count": 6,
   "id": "d13386ec",
   "metadata": {},
   "outputs": [
    {
     "name": "stdout",
     "output_type": "stream",
     "text": [
      "5\n"
     ]
    }
   ],
   "source": [
    "len_list2=0   \n",
    "list2=[0,2,3,4,\"hello\"]   \n",
    "for i in list2:\n",
    "    len_list2+=1  \n",
    "print(len_list2)  #printing length of list"
   ]
  },
  {
   "cell_type": "markdown",
   "id": "27407c02",
   "metadata": {},
   "source": [
    "### 3. Append an element to the end of a list."
   ]
  },
  {
   "cell_type": "code",
   "execution_count": 9,
   "id": "173a9ad4",
   "metadata": {},
   "outputs": [
    {
     "name": "stdout",
     "output_type": "stream",
     "text": [
      "[0, 1, 2, 79.4, 'hello']\n"
     ]
    }
   ],
   "source": [
    "append_list3=\"hello\"\n",
    "list_3=[0,1,2,79.4]\n",
    "list_3.append(append_list3)  #appending append_list3 value to existing list using append function\n",
    "print(list_3)   #printing value"
   ]
  },
  {
   "cell_type": "markdown",
   "id": "026f8c58",
   "metadata": {},
   "source": [
    "### 4. Insert an element at a specific index in a list."
   ]
  },
  {
   "cell_type": "code",
   "execution_count": 13,
   "id": "4b9a6924",
   "metadata": {},
   "outputs": [
    {
     "name": "stdout",
     "output_type": "stream",
     "text": [
      "enter at which position: 1\n",
      "[3.14, 'pwskills', 23, 69]\n"
     ]
    }
   ],
   "source": [
    "insert_list_word=\"pwskills\"\n",
    "list_4=[3.14,23,69]\n",
    "pos=int(input(\"enter at which position: \"))\n",
    "list_4.insert(pos,insert_list_word)           #Inserting an element at a specific index in a list.\n",
    "print(list_4)"
   ]
  },
  {
   "cell_type": "markdown",
   "id": "a312bfb8",
   "metadata": {},
   "source": [
    "### 5. Remove an element from a list by its value."
   ]
  },
  {
   "cell_type": "code",
   "execution_count": 15,
   "id": "c6a4e92c",
   "metadata": {},
   "outputs": [
    {
     "name": "stdout",
     "output_type": "stream",
     "text": [
      "['pwskills', 'world']\n"
     ]
    }
   ],
   "source": [
    "remove_element=\"hello\"\n",
    "list5=[\"pwskills\",\"hello\",\"world\"]\n",
    "list5.remove(remove_element)         #Remove an element from a list by its value\n",
    "print(list5)"
   ]
  },
  {
   "cell_type": "markdown",
   "id": "6a21aaca",
   "metadata": {},
   "source": [
    "### 6. Remove an element from a list by its index."
   ]
  },
  {
   "cell_type": "code",
   "execution_count": 18,
   "id": "85b5f034",
   "metadata": {},
   "outputs": [
    {
     "name": "stdout",
     "output_type": "stream",
     "text": [
      "enter at which position: 2\n",
      "[1, 3, '$', 'hello']\n"
     ]
    }
   ],
   "source": [
    "list6=[1,3,4.44,\"$\",\"hello\"]\n",
    "index_list6=int(input(\"enter at which position: \"))\n",
    "list6.pop(index_list6)                    #Removing an element from a list by its index\n",
    "print(list6)"
   ]
  },
  {
   "cell_type": "markdown",
   "id": "ac3a90df",
   "metadata": {},
   "source": [
    "### 7. Check if an element exists in a list."
   ]
  },
  {
   "cell_type": "code",
   "execution_count": 23,
   "id": "3eb79cbf",
   "metadata": {},
   "outputs": [
    {
     "name": "stdout",
     "output_type": "stream",
     "text": [
      "element  hello123  exit in a list\n"
     ]
    }
   ],
   "source": [
    "check_element=\"hello123\"\n",
    "list7=[\"hello123\",323,2.9,1.7]\n",
    "if check_element in list7:  #Checking if an element exists in a list\n",
    "    print(\"element \",check_element ,\" exit in a list\")\n",
    "else:\n",
    "    print(\"element don't exist in list\")\n",
    "    "
   ]
  },
  {
   "cell_type": "markdown",
   "id": "de3a46ca",
   "metadata": {},
   "source": [
    "### 8. Find the index of the first occurrence of an element in a list."
   ]
  },
  {
   "cell_type": "code",
   "execution_count": 25,
   "id": "30315624",
   "metadata": {},
   "outputs": [
    {
     "name": "stdout",
     "output_type": "stream",
     "text": [
      "first occurrence of hello  0\n"
     ]
    }
   ],
   "source": [
    "list8=[\"hello\",\"india\",\"delhi\",\"hello\"]\n",
    "index_list8=list8.index(\"hello\")   #Finding the index of the first occurrence of an element in a list\n",
    "print(\"first occurrence of hello \",index_list8)"
   ]
  },
  {
   "cell_type": "markdown",
   "id": "320c80a4",
   "metadata": {},
   "source": [
    "### 9. Count the occurrences of an element in a list."
   ]
  },
  {
   "cell_type": "code",
   "execution_count": 26,
   "id": "62ea08c6",
   "metadata": {},
   "outputs": [
    {
     "name": "stdout",
     "output_type": "stream",
     "text": [
      "occurance of element  1 is:  5\n"
     ]
    }
   ],
   "source": [
    "list9=[\"hello\",1,1,1,1,1]\n",
    "count_item=1        #Counting the occurrences of an element in a list using count function\n",
    "print(\"occurance of element \",count_item,\"is: \",list9.count(count_item))"
   ]
  },
  {
   "cell_type": "markdown",
   "id": "7b3c8306",
   "metadata": {},
   "source": [
    "### 10. Reverse the order of elements in a list."
   ]
  },
  {
   "cell_type": "code",
   "execution_count": 30,
   "id": "ca54ab41",
   "metadata": {},
   "outputs": [
    {
     "name": "stdout",
     "output_type": "stream",
     "text": [
      "['king', 8.0, 'hello', 1]\n"
     ]
    }
   ],
   "source": [
    "list10=[1,\"hello\",8.0,\"king\"]\n",
    "temp_list10=list10[::-1]  #Reversing the order of elements in a list\n",
    "print(temp_list10)"
   ]
  },
  {
   "cell_type": "markdown",
   "id": "8c145aca",
   "metadata": {},
   "source": [
    "### 11. Sort a list in ascending order."
   ]
  },
  {
   "cell_type": "code",
   "execution_count": 34,
   "id": "02f315bd",
   "metadata": {},
   "outputs": [
    {
     "name": "stdout",
     "output_type": "stream",
     "text": [
      "[0, 1, 2, 4, 6, 99, 2988]\n"
     ]
    }
   ],
   "source": [
    "list11=[99,4,6,2,1,0,2988]\n",
    "temp_list11=sorted(list11)   #Sort a list in ascending order.\n",
    "print(temp_list11)"
   ]
  },
  {
   "cell_type": "markdown",
   "id": "6cd02dc9",
   "metadata": {},
   "source": [
    "### 12. Sort a list in descending order."
   ]
  },
  {
   "cell_type": "code",
   "execution_count": 37,
   "id": "3da84abd",
   "metadata": {},
   "outputs": [
    {
     "name": "stdout",
     "output_type": "stream",
     "text": [
      "[2000, 90, 4, 3, 3, 2, 2, 1]\n"
     ]
    }
   ],
   "source": [
    "list12=[1,2,3,4,2,3,90,2000]\n",
    "temp_list12=sorted(list12,reverse=True)  \n",
    "print(temp_list12)"
   ]
  },
  {
   "cell_type": "markdown",
   "id": "47759d02",
   "metadata": {},
   "source": [
    "### 13. Create a list of even numbers from 1 to 20."
   ]
  },
  {
   "cell_type": "code",
   "execution_count": 38,
   "id": "87d729b6",
   "metadata": {},
   "outputs": [
    {
     "name": "stdout",
     "output_type": "stream",
     "text": [
      "[2, 4, 6, 8, 10, 12, 14, 16, 18]\n"
     ]
    }
   ],
   "source": [
    "list13=[]\n",
    "for i in range(1,20):\n",
    "    if i%2==0:  #Creating a list of even numbers from 1 to 20\n",
    "        list13.append(i)\n",
    "print(list13)        "
   ]
  },
  {
   "cell_type": "markdown",
   "id": "1a032fcf",
   "metadata": {},
   "source": [
    "### 14. Create a list of odd numbers from 1 to 20."
   ]
  },
  {
   "cell_type": "code",
   "execution_count": 39,
   "id": "c854bfc7",
   "metadata": {},
   "outputs": [
    {
     "name": "stdout",
     "output_type": "stream",
     "text": [
      "[1, 3, 5, 7, 9, 11, 13, 15, 17, 19]\n"
     ]
    }
   ],
   "source": [
    "list14=[]\n",
    "for i in range(1,20):\n",
    "    if i%2!=0:  #Creating a list of odd numbers from 1 to 20\n",
    "        list14.append(i)\n",
    "print(list14)   "
   ]
  },
  {
   "cell_type": "markdown",
   "id": "fe1bbf72",
   "metadata": {},
   "source": [
    "### 15. Find the sum of all elements in a list."
   ]
  },
  {
   "cell_type": "code",
   "execution_count": 43,
   "id": "66a3966e",
   "metadata": {},
   "outputs": [
    {
     "name": "stdout",
     "output_type": "stream",
     "text": [
      "sum of list elements is:  20\n"
     ]
    }
   ],
   "source": [
    "list15=[1,2,3,4,10]\n",
    "sum=0\n",
    "for i in range(len(list15)):\n",
    "    sum=sum+list15[i]   #finding sum of elements in list using variable sum\n",
    "print(\"sum of list elements is: \",sum)    "
   ]
  },
  {
   "cell_type": "markdown",
   "id": "174befc1",
   "metadata": {},
   "source": [
    "### 16. Find the maximum value in a list."
   ]
  },
  {
   "cell_type": "code",
   "execution_count": 46,
   "id": "3e1788ea",
   "metadata": {},
   "outputs": [
    {
     "name": "stdout",
     "output_type": "stream",
     "text": [
      "maximum value in list is:  900\n"
     ]
    }
   ],
   "source": [
    "max=0\n",
    "list16=[900,1,23,29]\n",
    "for i in range(len(list16)):\n",
    "    if max<list16[i]:  #finding max value in a list\n",
    "        max=list16[i]\n",
    "print(\"maximum value in list is: \",max)        "
   ]
  },
  {
   "cell_type": "markdown",
   "id": "9665d1c7",
   "metadata": {},
   "source": [
    "### 17. Find the minimum value in a list."
   ]
  },
  {
   "cell_type": "code",
   "execution_count": 51,
   "id": "81066ec1",
   "metadata": {},
   "outputs": [
    {
     "name": "stdout",
     "output_type": "stream",
     "text": [
      "3\n"
     ]
    }
   ],
   "source": [
    "list17=[12,3,23,28,29]\n",
    "temp_list17=sorted(list17)  #finding minimum value in a list\n",
    "min=temp_list17[0]\n",
    "print(min)"
   ]
  },
  {
   "cell_type": "markdown",
   "id": "c698157b",
   "metadata": {},
   "source": [
    "### 18. Create a list of squares of numbers from 1 to 10."
   ]
  },
  {
   "cell_type": "code",
   "execution_count": 53,
   "id": "38a9a4a9",
   "metadata": {},
   "outputs": [
    {
     "name": "stdout",
     "output_type": "stream",
     "text": [
      "[1, 4, 9, 16, 25, 36, 49, 64, 81]\n"
     ]
    }
   ],
   "source": [
    "list18 = [i*i for i in  range(1,10)] #Creating a list of squares of numbers from 1 to 10\n",
    "print(list18)"
   ]
  },
  {
   "cell_type": "markdown",
   "id": "d1c4baf0",
   "metadata": {},
   "source": [
    "### 19. Create a list of random numbers."
   ]
  },
  {
   "cell_type": "code",
   "execution_count": 64,
   "id": "c1325426",
   "metadata": {},
   "outputs": [
    {
     "name": "stdout",
     "output_type": "stream",
     "text": [
      "[100, 32, 88, 36, 84, 82, 6, 53, 69, 6]\n"
     ]
    }
   ],
   "source": [
    "import random\n",
    "list19=[]\n",
    "for i in range(10):\n",
    "    temp_list19=random.randint(1,100)  #Creating a list of random numbers.\n",
    "    list19.append(temp_list19)\n",
    "print(list19)    "
   ]
  },
  {
   "cell_type": "markdown",
   "id": "39c6b869",
   "metadata": {},
   "source": [
    "### 20. Remove duplicates from a list."
   ]
  },
  {
   "cell_type": "code",
   "execution_count": 65,
   "id": "e99f5ab0",
   "metadata": {},
   "outputs": [
    {
     "name": "stdout",
     "output_type": "stream",
     "text": [
      "[1, 2, 3, 4, 5, 6, 7]\n"
     ]
    }
   ],
   "source": [
    "list20=[1,1,1,2,4,5,6,3,7]\n",
    "\n",
    "temp_list20=list(set(list20))  #Removing duplicates from a list\n",
    "print(temp_list20)"
   ]
  },
  {
   "cell_type": "markdown",
   "id": "c4c856b7",
   "metadata": {},
   "source": [
    "### 21. Find the common elements between two lists."
   ]
  },
  {
   "cell_type": "code",
   "execution_count": 67,
   "id": "50062327",
   "metadata": {},
   "outputs": [
    {
     "name": "stdout",
     "output_type": "stream",
     "text": [
      "[1, 2, 20]\n"
     ]
    }
   ],
   "source": [
    "temp_list_1=[1,20,30,2]\n",
    "temp_list_2=[20,40,1,2]\n",
    "set_list_1=set(temp_list_1)\n",
    "set_list_2=set(temp_list_2)   #Finding the common elements between two lists.\n",
    "common_two_list=set_list_1.intersection(set_list_2)\n",
    "to_list=list(common_two_list)\n",
    "print(to_list)"
   ]
  },
  {
   "cell_type": "markdown",
   "id": "eb6bce44",
   "metadata": {},
   "source": [
    "### 22. Find the difference between two lists."
   ]
  },
  {
   "cell_type": "code",
   "execution_count": 69,
   "id": "3c13a899",
   "metadata": {},
   "outputs": [
    {
     "name": "stdout",
     "output_type": "stream",
     "text": [
      "[30]\n"
     ]
    }
   ],
   "source": [
    "temp_list_21=[1,20,30,2]\n",
    "temp_list_22=[20,40,1,2]\n",
    "set_list_21=set(temp_list_21)\n",
    "set_list_22=set(temp_list_22)   #Finding  the difference between two lists\n",
    "common_two_list=set_list_21.difference(set_list_22)\n",
    "to_list=list(common_two_list)\n",
    "print(to_list)"
   ]
  },
  {
   "cell_type": "markdown",
   "id": "9a0f787c",
   "metadata": {},
   "source": [
    "### 23. Merge two lists."
   ]
  },
  {
   "cell_type": "code",
   "execution_count": 71,
   "id": "6fb8cdaf",
   "metadata": {},
   "outputs": [
    {
     "name": "stdout",
     "output_type": "stream",
     "text": [
      "[1, 2, 3, 200, 29, 75, 45, 34]\n"
     ]
    }
   ],
   "source": [
    "merge_list_1=[1,2,3,200]\n",
    "merge_list_2=[29,75,45,34]\n",
    "temp_merge=merge_list_1+merge_list_2 #Merging two lists\n",
    "print(temp_merge)"
   ]
  },
  {
   "cell_type": "markdown",
   "id": "a33084f7",
   "metadata": {},
   "source": [
    "### 24. Multiply all elements in a list by 2."
   ]
  },
  {
   "cell_type": "code",
   "execution_count": 74,
   "id": "0def21b4",
   "metadata": {},
   "outputs": [
    {
     "name": "stdout",
     "output_type": "stream",
     "text": [
      "Multiplied list of list24 is:  [46, 58, 40, 80, 14]\n"
     ]
    }
   ],
   "source": [
    "# Example list\n",
    "list24 = [23, 29, 20, 40, 7]\n",
    "\n",
    "# Multiplying all elements by 2 using a list comprehension\n",
    "mult_list = [element * 2 for element in list24]\n",
    "\n",
    "# Print the multiplied list\n",
    "print(\"Multiplied list of list24 is: \", mult_list)"
   ]
  },
  {
   "cell_type": "markdown",
   "id": "5be5ad9c",
   "metadata": {},
   "source": [
    "### 25. Filter out all even numbers from a list."
   ]
  },
  {
   "cell_type": "code",
   "execution_count": 77,
   "id": "802fbd55",
   "metadata": {},
   "outputs": [
    {
     "name": "stdout",
     "output_type": "stream",
     "text": [
      "[2, 4, 6, 10]\n"
     ]
    }
   ],
   "source": [
    "list25=[2,3,4,6,5,7,9,10]\n",
    "filt_list_25=[]\n",
    "for i in list25:     #Filtering out all even numbers from a list.\n",
    "    if i%2==0:\n",
    "        filt_list_25.append(i)\n",
    "print(filt_list_25)        "
   ]
  },
  {
   "cell_type": "markdown",
   "id": "f225a880",
   "metadata": {},
   "source": [
    "### 26. Convert a list of strings to a list of integers."
   ]
  },
  {
   "cell_type": "code",
   "execution_count": 1,
   "id": "ad4437c6",
   "metadata": {},
   "outputs": [
    {
     "name": "stdout",
     "output_type": "stream",
     "text": [
      "[1, 2, 3, 4, 5]\n"
     ]
    }
   ],
   "source": [
    "list26 = [\"1\", \"2\", \"3\", \"4\", \"5\"]\n",
    "int_list = [int(i) for i in list26]\n",
    "#Converting a list of strings to a list of integers\n",
    "print(int_list)\n"
   ]
  },
  {
   "cell_type": "markdown",
   "id": "232433fc",
   "metadata": {},
   "source": [
    "### 27. Convert a list of integers to a list of strings."
   ]
  },
  {
   "cell_type": "code",
   "execution_count": 2,
   "id": "9c1ca115",
   "metadata": {},
   "outputs": [
    {
     "name": "stdout",
     "output_type": "stream",
     "text": [
      "['1', '2', '3', '4', '5']\n"
     ]
    }
   ],
   "source": [
    "list27 = [1,2,3,4,5]\n",
    "str_list = [str(i) for i in list27]\n",
    "#Converting a list of integers to a list of strings\n",
    "print(str_list)\n"
   ]
  },
  {
   "cell_type": "markdown",
   "id": "603e4eb1",
   "metadata": {},
   "source": [
    "### 28. Flatten a nested list."
   ]
  },
  {
   "cell_type": "code",
   "execution_count": 17,
   "id": "6dac8d94",
   "metadata": {},
   "outputs": [
    {
     "name": "stdout",
     "output_type": "stream",
     "text": [
      "[1, 2, 3, 4, 5, 6, 7]\n"
     ]
    }
   ],
   "source": [
    "def flatten_list(list28):\n",
    "    flattened = []\n",
    "    for i in list28:\n",
    "        if isinstance(i, list):\n",
    "            flattened.extend(flatten_list(i))   #Flattening a nested list using extend function\n",
    "        else:\n",
    "            flattened.append(i)\n",
    "    return flattened\n",
    "\n",
    "list28 = [1, [2, 3], [4, [5, 6]], 7]\n",
    "\n",
    "flat_list = flatten_list(list28)\n",
    "\n",
    "print(flat_list)\n"
   ]
  },
  {
   "cell_type": "markdown",
   "id": "f43adff2",
   "metadata": {},
   "source": [
    "### 29. Create a list of the first 10 Fibonacci numbers."
   ]
  },
  {
   "cell_type": "code",
   "execution_count": 18,
   "id": "51395785",
   "metadata": {},
   "outputs": [
    {
     "name": "stdout",
     "output_type": "stream",
     "text": [
      "[0, 1, 1, 2, 3, 5, 8, 13, 21, 34]\n"
     ]
    }
   ],
   "source": [
    "# Initialize the first two Fibonacci numbers\n",
    "list_fibonacci_sequence = [0, 1]\n",
    "\n",
    "# Calculate and append the next 8 Fibonacci numbers\n",
    "for i in range(2, 10):\n",
    "    next_fibonacci = list_fibonacci_sequence[i - 1] + list_fibonacci_sequence[i - 2]\n",
    "    list_fibonacci_sequence.append(next_fibonacci)\n",
    "\n",
    "print(list_fibonacci_sequence)  #printing fibonachi list\n"
   ]
  },
  {
   "cell_type": "markdown",
   "id": "78cbba23",
   "metadata": {},
   "source": [
    "### 30. Check if a list is sorted."
   ]
  },
  {
   "cell_type": "code",
   "execution_count": 21,
   "id": "281da0b4",
   "metadata": {},
   "outputs": [
    {
     "name": "stdout",
     "output_type": "stream",
     "text": [
      "the list is not sorted\n"
     ]
    }
   ],
   "source": [
    "str30=[1,2,4,2]\n",
    "temp_list30=sorted(str30)\n",
    "if str30==temp_list30:                   #Checking if a list is sorted\n",
    "    print(\"the list is sorted\")\n",
    "else:\n",
    "    print(\"the list is not sorted\")\n",
    "    "
   ]
  },
  {
   "cell_type": "markdown",
   "id": "7449cceb",
   "metadata": {},
   "source": [
    "### 31. Rotate a list to the left by `n` positions."
   ]
  },
  {
   "cell_type": "code",
   "execution_count": 29,
   "id": "84e115fe",
   "metadata": {},
   "outputs": [
    {
     "name": "stdout",
     "output_type": "stream",
     "text": [
      "[3, 4, 5, 1, 2]\n"
     ]
    }
   ],
   "source": [
    "list31 = [1, 2, 3, 4, 5]\n",
    "n = 2  # Number of positions to rotate left\n",
    "if not list31:\n",
    "    list31\n",
    "\n",
    "n %= len(list31)  # Ensure n is within the range of the list length\n",
    "rotated_list = list31[n:] + list31[:n]\n",
    "print(rotated_list)\n"
   ]
  },
  {
   "cell_type": "markdown",
   "id": "999ca09c",
   "metadata": {},
   "source": [
    "### 32. Rotate a list to the right by `n` positions."
   ]
  },
  {
   "cell_type": "code",
   "execution_count": 30,
   "id": "8ebeeda9",
   "metadata": {},
   "outputs": [
    {
     "name": "stdout",
     "output_type": "stream",
     "text": [
      "[4, 5, 1, 2, 3]\n"
     ]
    }
   ],
   "source": [
    "list32 = [1, 2, 3, 4, 5]\n",
    "n = 2  # Number of positions to rotate left\n",
    "if not list32:\n",
    "    list32\n",
    "\n",
    "n %= len(list32)  # Ensure n is within the range of the list length\n",
    "rotated_list = list32[-n:] + list32[:-n]\n",
    "print(rotated_list)\n"
   ]
  },
  {
   "cell_type": "markdown",
   "id": "73e8f168",
   "metadata": {},
   "source": [
    "### 33. Create a list of prime numbers up to 50."
   ]
  },
  {
   "cell_type": "code",
   "execution_count": 33,
   "id": "b53077bd",
   "metadata": {},
   "outputs": [
    {
     "name": "stdout",
     "output_type": "stream",
     "text": [
      "[2, 3, 5, 7, 11, 13, 17, 19, 23, 29, 31, 37, 41, 43, 47]\n"
     ]
    }
   ],
   "source": [
    "def check_prime(num):\n",
    "    if num<=1:\n",
    "        return False\n",
    "    if num<=3:\n",
    "        return True\n",
    "    if num%2==0 or num%3==0:\n",
    "        return False\n",
    "    i=5\n",
    "    while i*i<=num:\n",
    "        if num%i==0 or num%(i + 2)==0:\n",
    "            return False\n",
    "        i+= 6\n",
    "    return True\n",
    "\n",
    "# Use list comprehension to generate a list of prime numbers up to 50\n",
    "list_prime_numbers = [num for num in range(2, 51) if check_prime(num)]\n",
    "\n",
    "print(list_prime_numbers)\n"
   ]
  },
  {
   "cell_type": "markdown",
   "id": "370d8d6c",
   "metadata": {},
   "source": [
    "### 34. Split a list into chunks of size `n`."
   ]
  },
  {
   "cell_type": "code",
   "execution_count": 38,
   "id": "c5ab5235",
   "metadata": {},
   "outputs": [
    {
     "name": "stdout",
     "output_type": "stream",
     "text": [
      "[[1, 2, 3], [4, 5, 6], [7, 8, 9]]\n"
     ]
    }
   ],
   "source": [
    "original_list = [1, 2, 3, 4, 5, 6, 7, 8, 9]\n",
    "chunk_size = 3          #Spliting  a list into chunks of size n.\n",
    "chunks = [original_list[i:i + chunk_size] for i in range(0, len(original_list), chunk_size)]\n",
    "print(chunks)\n"
   ]
  },
  {
   "cell_type": "markdown",
   "id": "f40e32d9",
   "metadata": {},
   "source": [
    "### 35. Find the second largest number in a list."
   ]
  },
  {
   "cell_type": "code",
   "execution_count": 40,
   "id": "4008b33d",
   "metadata": {},
   "outputs": [
    {
     "name": "stdout",
     "output_type": "stream",
     "text": [
      "50\n"
     ]
    }
   ],
   "source": [
    "list35=[3,5,4,2,3,9,1,50,1000]\n",
    "temp_list35=sorted(list35)      #Finding the second largest number in a list after sorting\n",
    "sec_largest_num=temp_list35[-2]  \n",
    "print(sec_largest_num)"
   ]
  },
  {
   "cell_type": "markdown",
   "id": "7facd0ef",
   "metadata": {},
   "source": [
    "### 36. Replace every element in a list with its square."
   ]
  },
  {
   "cell_type": "code",
   "execution_count": 44,
   "id": "8f22c61c",
   "metadata": {},
   "outputs": [
    {
     "name": "stdout",
     "output_type": "stream",
     "text": [
      "[64, 4, 625, 16, 3136, 5494336]\n"
     ]
    }
   ],
   "source": [
    "list36=[8,2,25,4,56,2344]\n",
    "temp_list36=[]\n",
    "for i in list36:\n",
    "    i=i*i           #Replacing every element in a list with its squared numbers.\n",
    "    temp_list36.append(i)\n",
    "print(temp_list36)    "
   ]
  },
  {
   "cell_type": "markdown",
   "id": "936fcdc2",
   "metadata": {},
   "source": [
    "### 37. Convert a list to a dictionary where list elements become keys and their indices become values."
   ]
  },
  {
   "cell_type": "code",
   "execution_count": 52,
   "id": "e1c0f401",
   "metadata": {},
   "outputs": [
    {
     "name": "stdout",
     "output_type": "stream",
     "text": [
      "Converted dictionary: {'apple': 0, 'banana': 1, 'cherry': 2, 'date': 3, 'elderberry': 4}\n"
     ]
    }
   ],
   "source": [
    "\n",
    "list37 = ['apple', 'banana', 'cherry', 'date', 'elderberry']\n",
    "\n",
    "# Convert list to dictionary using dictionary comprehension\n",
    "my_dict = {element: index for index, element in enumerate(list37)}\n",
    "\n",
    "# Print the resulting dictionary\n",
    "print(\"Converted dictionary:\", my_dict)"
   ]
  },
  {
   "cell_type": "markdown",
   "id": "993ab060",
   "metadata": {},
   "source": [
    "### 38. Shuffle the elements of a list randomly."
   ]
  },
  {
   "cell_type": "code",
   "execution_count": 53,
   "id": "f2b49a50",
   "metadata": {},
   "outputs": [
    {
     "name": "stdout",
     "output_type": "stream",
     "text": [
      "Shuffled list: [6, 2, 5, 10, 7, 3, 8, 4, 9, 1]\n"
     ]
    }
   ],
   "source": [
    "import random\n",
    "\n",
    "# Example list\n",
    "list38 = [1, 2, 3, 4, 5, 6, 7, 8, 9, 10]\n",
    "\n",
    "# Shuffle the list randomly\n",
    "random.shuffle(list38)\n",
    "\n",
    "# Print the shuffled list\n",
    "print(\"Shuffled list is:\", list38)"
   ]
  },
  {
   "cell_type": "markdown",
   "id": "c340a1b7",
   "metadata": {},
   "source": [
    "### 39. Create a list of the first 10 factorial numbers."
   ]
  },
  {
   "cell_type": "code",
   "execution_count": 58,
   "id": "136c1b81",
   "metadata": {},
   "outputs": [
    {
     "name": "stdout",
     "output_type": "stream",
     "text": [
      "The list of first 10 factorials is: \n",
      "[1, 2, 6, 24, 120, 720, 5040, 40320, 362880, 3628800]\n"
     ]
    }
   ],
   "source": [
    "for n in range(1,11):  # Replace with the number for which you want to calculate the factorial\n",
    "    temp_list39=[]\n",
    "    if n < 0:\n",
    "        print(\"Factorial is not defined for negative numbers.\")\n",
    "    elif n == 0:\n",
    "        print(\"The factorial of 0 is 1\")\n",
    "    else:\n",
    "        result = 1\n",
    "        for i in range(1, n + 1):\n",
    "            result *= i\n",
    "            temp_list39.append(result)\n",
    "print(\"The list of first 10 factorials is: \")\n",
    "print(temp_list39)\n"
   ]
  },
  {
   "cell_type": "markdown",
   "id": "31e46c14",
   "metadata": {},
   "source": [
    "### 40. Check if two lists have at least one element in common."
   ]
  },
  {
   "cell_type": "code",
   "execution_count": 60,
   "id": "70dfac7e",
   "metadata": {},
   "outputs": [
    {
     "name": "stdout",
     "output_type": "stream",
     "text": [
      "they have at least one element in common\n"
     ]
    }
   ],
   "source": [
    "# Test cases\n",
    "list1 = [1, 2, 3, 4, 5]\n",
    "list2 = [5, 6, 7, 8, 9]\n",
    "set1 = set(list1)\n",
    "set2 = set(list2)\n",
    "if bool(set1.intersection(set2)):\n",
    "    print(\"they have at least one element in common\")  # True (they have 5 in common)\n",
    "else:\n",
    "    print(\"no common elements in two lists\")\n"
   ]
  },
  {
   "cell_type": "markdown",
   "id": "9801a4a4",
   "metadata": {},
   "source": [
    "### 41. Remove all elements from a list."
   ]
  },
  {
   "cell_type": "code",
   "execution_count": 63,
   "id": "a9a37ff7",
   "metadata": {},
   "outputs": [
    {
     "name": "stdout",
     "output_type": "stream",
     "text": [
      "[]\n"
     ]
    }
   ],
   "source": [
    "list41=[3,4,6,7,43]\n",
    "list41.clear()     #removing all elements in list using clear function\n",
    "print(list41)"
   ]
  },
  {
   "cell_type": "markdown",
   "id": "2fce9f69",
   "metadata": {},
   "source": [
    "### 42. Replace negative numbers in a list with 0."
   ]
  },
  {
   "cell_type": "code",
   "execution_count": 66,
   "id": "f87f8c26",
   "metadata": {},
   "outputs": [
    {
     "name": "stdout",
     "output_type": "stream",
     "text": [
      "[19, 0, 23, 0, 5, 0, 437, 0, 9]\n"
     ]
    }
   ],
   "source": [
    "list42 = [19, -9, 23, -24, 5, -6, 437, -8, 9]\n",
    "\n",
    "# Using a list comprehension to replace negative numbers with 0\n",
    "changed_list = [i if i >= 0 else 0 for i in list42]\n",
    "\n",
    "print(changed_list)"
   ]
  },
  {
   "cell_type": "markdown",
   "id": "f4b056be",
   "metadata": {},
   "source": [
    "### 43. Convert a string into a list of words."
   ]
  },
  {
   "cell_type": "code",
   "execution_count": 69,
   "id": "f17bd109",
   "metadata": {},
   "outputs": [
    {
     "name": "stdout",
     "output_type": "stream",
     "text": [
      "['This', 'is', 'a', 'sample', 'sentence,', 'and', 'we', 'want', 'to', 'split', 'it', 'into', 'words.']\n"
     ]
    }
   ],
   "source": [
    "text = \"This is a sample sentence, and we want to split it into words.\"\n",
    "\n",
    "# Split the string into a list of words\n",
    "list43 = text.split()\n",
    "\n",
    "print(list(list43))\n"
   ]
  },
  {
   "cell_type": "markdown",
   "id": "7f27c583",
   "metadata": {},
   "source": [
    "### 44. Convert a list of words into a string."
   ]
  },
  {
   "cell_type": "code",
   "execution_count": 72,
   "id": "f6b95391",
   "metadata": {},
   "outputs": [
    {
     "name": "stdout",
     "output_type": "stream",
     "text": [
      "This is a list of words\n"
     ]
    }
   ],
   "source": [
    "list44 = ['This', 'is', 'a', 'list', 'of', 'words']\n",
    "\n",
    "# Convert the list of words into a string\n",
    "text = ' '.join(list44)\n",
    "print(text)\n"
   ]
  },
  {
   "cell_type": "markdown",
   "id": "edebedb6",
   "metadata": {},
   "source": [
    "### 45. Create a list of the first `n` powers of 2."
   ]
  },
  {
   "cell_type": "code",
   "execution_count": 76,
   "id": "53ee5e71",
   "metadata": {},
   "outputs": [
    {
     "name": "stdout",
     "output_type": "stream",
     "text": [
      "enter no of elements: 10\n",
      "[1, 2, 4, 8, 16, 32, 64, 128, 256, 512]\n"
     ]
    }
   ],
   "source": [
    "n = int(input(\"enter no of elements: \")) # Replace with the desired number of powers\n",
    "powers_2 = [2 ** i for i in range(n)]\n",
    "\n",
    "print(powers_2)"
   ]
  },
  {
   "cell_type": "markdown",
   "id": "5c57fa25",
   "metadata": {},
   "source": [
    "### 46. Find the longest string in a list of strings."
   ]
  },
  {
   "cell_type": "code",
   "execution_count": 81,
   "id": "fd7048ee",
   "metadata": {},
   "outputs": [
    {
     "name": "stdout",
     "output_type": "stream",
     "text": [
      "The longest string is: elderberry\n"
     ]
    }
   ],
   "source": [
    "list46 = [\"pwskills\", \"kingkong\", \"ironman\", \"date\", \"elderberry\"]\n",
    "\n",
    "# Find the longest string in the list\n",
    "longest_string = max(list46, key=len)\n",
    "\n",
    "print(\"The longest string is:\", longest_string)\n"
   ]
  },
  {
   "cell_type": "markdown",
   "id": "df7c79bd",
   "metadata": {},
   "source": [
    "### 47. Find the shortest string in a list of strings."
   ]
  },
  {
   "cell_type": "code",
   "execution_count": 32,
   "id": "424ba451",
   "metadata": {},
   "outputs": [
    {
     "name": "stdout",
     "output_type": "stream",
     "text": [
      "The shortest string is: date\n"
     ]
    }
   ],
   "source": [
    "list47 = [\"pwskills\", \"kingkong\", \"ironman\", \"date\", \"elderberry\"]\n",
    "\n",
    "# Find the longest string in the list\n",
    "smallest_string = min(list47, key=len)\n",
    "\n",
    "print(\"The shortest string is:\", smallest_string)\n"
   ]
  },
  {
   "cell_type": "markdown",
   "id": "61045b11",
   "metadata": {},
   "source": [
    "### 48. Create a list of the first `n` triangular numbers."
   ]
  },
  {
   "cell_type": "code",
   "execution_count": 92,
   "id": "f231e3a3",
   "metadata": {},
   "outputs": [
    {
     "name": "stdout",
     "output_type": "stream",
     "text": [
      "[1, 3, 6, 10, 15]\n"
     ]
    }
   ],
   "source": [
    "n = 5  # Replace with the desired number of triangular numbers\n",
    "list_of_numbers = []\n",
    "\n",
    "for i in range(1, n + 1):\n",
    "    trinumber=(i*(i+1))//2\n",
    "    list_of_numbers.append(trinumber)\n",
    "\n",
    "print(list_of_numbers)\n"
   ]
  },
  {
   "cell_type": "markdown",
   "id": "7692850b",
   "metadata": {},
   "source": [
    "### 49. Check if a list contains another list as a subsequence."
   ]
  },
  {
   "cell_type": "code",
   "execution_count": 96,
   "id": "bb31f5a9",
   "metadata": {},
   "outputs": [
    {
     "name": "stdout",
     "output_type": "stream",
     "text": [
      "Main list contains the subsequence.\n"
     ]
    }
   ],
   "source": [
    "def list_subsequence(subsequence, main_list):\n",
    "    return all(subseq_elem in main_list for subseq_elem in subsequence)\n",
    "\n",
    "\n",
    "main_list = [1, 2, 3, 4, 5, 6, 7, 8, 9, 10]\n",
    "subsequence = [3, 5, 8]\n",
    "\n",
    "#checking subsequences of main_list\n",
    "if list_subsequence(subsequence, main_list):\n",
    "    print(\"Main list contains the subsequence.\")\n",
    "else:\n",
    "    print(\"Main list does not contain the subsequence.\")\n"
   ]
  },
  {
   "cell_type": "markdown",
   "id": "7c99555e",
   "metadata": {},
   "source": [
    "### 50. Swap two elements in a list by their indices."
   ]
  },
  {
   "cell_type": "code",
   "execution_count": 97,
   "id": "46bdc128",
   "metadata": {},
   "outputs": [
    {
     "name": "stdout",
     "output_type": "stream",
     "text": [
      "enter the index: 0\n",
      "enter the index: 2\n",
      "[1, 5, 4, 2, 3]\n"
     ]
    }
   ],
   "source": [
    "list50=[4,5,1,2,3]  #swapping elements of lists by thier index\n",
    "swap_list_index1=int(input(\"enter the index: \"))\n",
    "swap_list_index2=int(input(\"enter the index: \"))\n",
    "temp=list50[swap_list_index1]\n",
    "list50[swap_list_index1]=list50[swap_list_index2]\n",
    "list50[swap_list_index2]=temp\n",
    "print(list50)"
   ]
  },
  {
   "cell_type": "markdown",
   "id": "7a3d3d46",
   "metadata": {},
   "source": [
    "## Tuple Based Practice Problem :"
   ]
  },
  {
   "cell_type": "markdown",
   "id": "66e76e58",
   "metadata": {},
   "source": [
    "### 1. Create a tuple with integers from 1 to 5."
   ]
  },
  {
   "cell_type": "code",
   "execution_count": 103,
   "id": "84399132",
   "metadata": {},
   "outputs": [
    {
     "name": "stdout",
     "output_type": "stream",
     "text": [
      "printing tuple (10, 20, 30, 40, 50)\n"
     ]
    }
   ],
   "source": [
    "# Step 1: Create a tuple\n",
    "tuple1 = (10, 20, 30, 40, 50)\n",
    "\n",
    "print(\"printing tuple\", tuple1)"
   ]
  },
  {
   "cell_type": "markdown",
   "id": "080409eb",
   "metadata": {},
   "source": [
    "### 2. Access the third element of a tuple."
   ]
  },
  {
   "cell_type": "code",
   "execution_count": 105,
   "id": "e618ab84",
   "metadata": {},
   "outputs": [
    {
     "name": "stdout",
     "output_type": "stream",
     "text": [
      "The third element of the tuple is: 69\n"
     ]
    }
   ],
   "source": [
    "# Step 1: Create a tuple with some elements\n",
    "tuple2 = (10, 20, 69, 40, 50)\n",
    "\n",
    "# Step 2: Access the third element (index 2) of the tuple\n",
    "third_element = tuple2[2]\n",
    "\n",
    "# Step 3: Print the third element\n",
    "print(\"The third element of the tuple is:\", third_element)"
   ]
  },
  {
   "cell_type": "markdown",
   "id": "5d0288c3",
   "metadata": {},
   "source": [
    "### 3. Find the length of a tuple without using the `len()` function."
   ]
  },
  {
   "cell_type": "code",
   "execution_count": 108,
   "id": "da858fc4",
   "metadata": {},
   "outputs": [
    {
     "name": "stdout",
     "output_type": "stream",
     "text": [
      "5\n"
     ]
    }
   ],
   "source": [
    "len_tuple3=0   #finding length of tuple using len_tuple3 variable\n",
    "tuple3=(0,2,3,4,\"hello\")   \n",
    "for i in tuple3:\n",
    "    len_tuple3+=1  \n",
    "print(len_tuple3)  #printing length of list"
   ]
  },
  {
   "cell_type": "markdown",
   "id": "c7f43cd9",
   "metadata": {},
   "source": [
    "### 4. Count the occurrences of an element in a tuple."
   ]
  },
  {
   "cell_type": "code",
   "execution_count": 109,
   "id": "68c30a1a",
   "metadata": {},
   "outputs": [
    {
     "name": "stdout",
     "output_type": "stream",
     "text": [
      "The element hello appears 2 times in the tuple.\n"
     ]
    }
   ],
   "source": [
    "# Step 1: Create a tuple\n",
    "tuple4 = (\"hello\",\"pwskills\",\"hello\")\n",
    "\n",
    "# Step 2: Choose the element to count occurrences of\n",
    "to_count = \"hello\"\n",
    "\n",
    "# Step 3: Initialize a variable to keep track of the count\n",
    "count = 0\n",
    "\n",
    "# Step 4: Iterate through the tuple and count occurrences of the chosen element\n",
    "for item in tuple4:\n",
    "    if item == to_count:\n",
    "        count += 1\n",
    "\n",
    "# Step 5: Print the count of occurrences\n",
    "print(f\"The element {to_count} appears {count} times in the tuple.\")"
   ]
  },
  {
   "cell_type": "markdown",
   "id": "33153c8f",
   "metadata": {},
   "source": [
    "### 5. Find the index of the first occurrence of an element in a tuple."
   ]
  },
  {
   "cell_type": "code",
   "execution_count": 113,
   "id": "484e0993",
   "metadata": {},
   "outputs": [
    {
     "name": "stdout",
     "output_type": "stream",
     "text": [
      "index of the first occurrence of element 29 is 1\n"
     ]
    }
   ],
   "source": [
    "tuple5 = (1, 29, 3, 4, 29, 5)\n",
    "\n",
    "find_element = 29\n",
    "\n",
    "# Find the index of the first occurrence of the element\n",
    "index = tuple5.index(find_element)\n",
    "\n",
    "print(f\"index of the first occurrence of element {find_element} is {index}\")\n"
   ]
  },
  {
   "cell_type": "markdown",
   "id": "b1fbe394",
   "metadata": {},
   "source": [
    "### 6. Check if an element exists in a tuple."
   ]
  },
  {
   "cell_type": "code",
   "execution_count": 115,
   "id": "c6245223",
   "metadata": {},
   "outputs": [
    {
     "name": "stdout",
     "output_type": "stream",
     "text": [
      "hello element exists in the tuple.\n"
     ]
    }
   ],
   "source": [
    "# Step 1: Create a tuple\n",
    "tuple6 = (\"hello\", 20, 30, 40, 50)\n",
    "\n",
    "# Step 2: Choose the element to check for existence\n",
    "to_check = \"hello\"\n",
    "\n",
    "# Step 3: Check if the element exists in the tuple using the 'in' operator\n",
    "if to_check in tuple6:\n",
    "    print(f\"{to_check} element exists in the tuple.\")\n",
    "else:\n",
    "    print(f\"{to_check} element does not exist in the tuple.\")"
   ]
  },
  {
   "cell_type": "markdown",
   "id": "9c14a873",
   "metadata": {},
   "source": [
    "### 7. Convert a tuple to a list."
   ]
  },
  {
   "cell_type": "code",
   "execution_count": 116,
   "id": "e6ac139c",
   "metadata": {},
   "outputs": [
    {
     "name": "stdout",
     "output_type": "stream",
     "text": [
      "[2, 3, 4, 'hello', 4.33]\n"
     ]
    }
   ],
   "source": [
    "tuple7=(2,3,4,\"hello\",4.33)\n",
    "list_tuple=list(tuple7)  #converting tuple to list\n",
    "print(list_tuple)"
   ]
  },
  {
   "cell_type": "markdown",
   "id": "caaefb74",
   "metadata": {},
   "source": [
    "### 8. Convert a list to a tuple."
   ]
  },
  {
   "cell_type": "code",
   "execution_count": 117,
   "id": "e634e782",
   "metadata": {},
   "outputs": [
    {
     "name": "stdout",
     "output_type": "stream",
     "text": [
      "(3, 4, 3.33, 'hello')\n"
     ]
    }
   ],
   "source": [
    "l8=[3,4,3.33,\"hello\"]\n",
    "tuple8=tuple(l8)   #converting list to tuple\n",
    "print(tuple8)"
   ]
  },
  {
   "cell_type": "markdown",
   "id": "29f02cfc",
   "metadata": {},
   "source": [
    "### 9. Unpack the elements of a tuple into variables."
   ]
  },
  {
   "cell_type": "code",
   "execution_count": 120,
   "id": "5d2981cd",
   "metadata": {},
   "outputs": [
    {
     "name": "stdout",
     "output_type": "stream",
     "text": [
      "variable1: pw\n",
      "variable2: skills\n",
      "variable3: 30\n"
     ]
    }
   ],
   "source": [
    "# Step 1: Create a tuple\n",
    "tuple9 = (\"pw\",\"skills\", 30)\n",
    "\n",
    "# Step 2: Unpack the elements of the tuple into variables\n",
    "var1, var2, var3 = tuple9\n",
    "\n",
    "# Step 3: Print the variables\n",
    "print(\"variable1:\", var1)\n",
    "print(\"variable2:\", var2)\n",
    "print(\"variable3:\", var3)"
   ]
  },
  {
   "cell_type": "markdown",
   "id": "b55fd2a5",
   "metadata": {},
   "source": [
    "### 10. Create a tuple of even numbers from 1 to 10."
   ]
  },
  {
   "cell_type": "code",
   "execution_count": 30,
   "id": "49c25132",
   "metadata": {},
   "outputs": [
    {
     "name": "stdout",
     "output_type": "stream",
     "text": [
      "Tuple of even numbers: (2, 4, 6, 8, 10)\n"
     ]
    }
   ],
   "source": [
    "# Step 1: Create a list of even numbers using a list comprehension\n",
    "temp_list10 = [num for num in range(2, 11, 2)]  # Start from 2, step by 2, end at 10\n",
    "\n",
    "# Step 2: Convert the list to a tuple\n",
    "even_no_tuple = tuple(temp_list10)\n",
    "\n",
    "# Step 3: Print the resulting tuple\n",
    "print(\"Tuple of even numbers:\", even_no_tuple)"
   ]
  },
  {
   "cell_type": "markdown",
   "id": "43dec533",
   "metadata": {},
   "source": [
    "### 11. Create a tuple of odd numbers from 1 to 10."
   ]
  },
  {
   "cell_type": "code",
   "execution_count": 29,
   "id": "dea6cc97",
   "metadata": {},
   "outputs": [
    {
     "name": "stdout",
     "output_type": "stream",
     "text": [
      "Tuple of odd numbers: (1, 3, 5, 7, 9)\n"
     ]
    }
   ],
   "source": [
    "# Step 1: Create a list of odd numbers using a list comprehension\n",
    "temp_list11 = [num for num in range(1, 11, 2)]  # Start from 1, step by 2, end at 10\n",
    "\n",
    "# Step 2: Convert the list to a tuple\n",
    "odd_no_tuple = tuple(temp_list11)\n",
    "\n",
    "# Step 3: Print the resulting tuple\n",
    "print(\"Tuple of odd numbers:\", odd_no_tuple)"
   ]
  },
  {
   "cell_type": "markdown",
   "id": "dd14f308",
   "metadata": {},
   "source": [
    "### 12. Concatenate two tuples."
   ]
  },
  {
   "cell_type": "code",
   "execution_count": 127,
   "id": "7027d371",
   "metadata": {},
   "outputs": [
    {
     "name": "stdout",
     "output_type": "stream",
     "text": [
      "Concatenated tuple of tuples is:  (1, 2.14, 'hello', 4, 5, 6)\n"
     ]
    }
   ],
   "source": [
    "# Step 1: Create two tuples\n",
    "tup1 = (1, 2.14, \"hello\")\n",
    "tup2 = (4, 5, 6)\n",
    "\n",
    "# Step 2: Concatenate the two tuples\n",
    "concat_tuple = tup1 + tup2\n",
    "\n",
    "# Step 3: Print the concatenated tuple\n",
    "print(\"Concatenated tuple of tuples is: \", concat_tuple)"
   ]
  },
  {
   "cell_type": "markdown",
   "id": "5dcbd27b",
   "metadata": {},
   "source": [
    "### 13. Repeat a tuple three times."
   ]
  },
  {
   "cell_type": "code",
   "execution_count": 128,
   "id": "932f1a5d",
   "metadata": {},
   "outputs": [
    {
     "name": "stdout",
     "output_type": "stream",
     "text": [
      "Repeated tuple: ('one', 'two', 'hello', 'one', 'two', 'hello', 'one', 'two', 'hello')\n"
     ]
    }
   ],
   "source": [
    "# Step 1: Create a tuple\n",
    "tuple13 = (\"one\", \"two\", \"hello\")\n",
    "\n",
    "# Step 2: Repeat the tuple three times\n",
    "temp_tuple13 = tuple13 * 3\n",
    "\n",
    "# Step 3: Print the repeated tuple\n",
    "print(\"Repeated tuple:\", temp_tuple13)"
   ]
  },
  {
   "cell_type": "markdown",
   "id": "c27fcf5c",
   "metadata": {},
   "source": [
    "### 14. Check if a tuple is empty."
   ]
  },
  {
   "cell_type": "code",
   "execution_count": 7,
   "id": "271368b6",
   "metadata": {},
   "outputs": [
    {
     "name": "stdout",
     "output_type": "stream",
     "text": [
      "The tuple14 is empty.\n",
      "The non_emptytup is not empty.\n"
     ]
    }
   ],
   "source": [
    "tuple14 = ()  # An empty tuple\n",
    "non_emptytup=(1,2,3,4,22)\n",
    "if len(tuple14) == 0:\n",
    "    print(\"The tuple14 is empty.\")\n",
    "else:\n",
    "    print(\"The tuple is not empty.\")\n",
    "    \n",
    "if len(non_emptytup) == 0:\n",
    "    print(\"The tuple14 is empty.\")\n",
    "else:\n",
    "    print(\"The non_emptytup is not empty.\")"
   ]
  },
  {
   "cell_type": "markdown",
   "id": "613ac700",
   "metadata": {},
   "source": [
    "### 15. Create a nested tuple."
   ]
  },
  {
   "cell_type": "code",
   "execution_count": 12,
   "id": "aca02020",
   "metadata": {},
   "outputs": [
    {
     "name": "stdout",
     "output_type": "stream",
     "text": [
      " tuple is: ((29, 21, 3.14), ('b', 'c'), (True, False))\n"
     ]
    }
   ],
   "source": [
    "# Step 1: Create a nested tuple\n",
    "tuple15 = ((29, 21, 3.14), ('b', 'c'), (True, False))\n",
    "\n",
    "# Step 2: Print the nested tuple\n",
    "print(\" tuple is:\", tuple15)"
   ]
  },
  {
   "cell_type": "markdown",
   "id": "43d387e7",
   "metadata": {},
   "source": [
    "### 16. Access the first element of a nested tuple."
   ]
  },
  {
   "cell_type": "code",
   "execution_count": 13,
   "id": "00dff0b0",
   "metadata": {},
   "outputs": [
    {
     "name": "stdout",
     "output_type": "stream",
     "text": [
      "First element of the nested tuple: ('hello', 2, 3)\n"
     ]
    }
   ],
   "source": [
    "# Step 1: Create a nested tuple\n",
    "tuple16 = ((\"hello\", 2, 3), ('a', 'b', 'c'), (True, False))\n",
    "\n",
    "# Step 2: Access the first element of the nested tuple\n",
    "first_element = tuple16[0]\n",
    "\n",
    "# Step 3: Print the first element\n",
    "print(\"First element of the nested tuple:\", first_element)"
   ]
  },
  {
   "cell_type": "markdown",
   "id": "c1ac7869",
   "metadata": {},
   "source": [
    "### 17. Create a tuple with a single element."
   ]
  },
  {
   "cell_type": "code",
   "execution_count": 14,
   "id": "68d8271a",
   "metadata": {},
   "outputs": [
    {
     "name": "stdout",
     "output_type": "stream",
     "text": [
      "Single element in tuple: (29,)\n"
     ]
    }
   ],
   "source": [
    "# Step 1: Create a tuple with a single element\n",
    "tuple17 = (29,)  # Note the trailing comma\n",
    "\n",
    "# Step 2: Print the single element tuple\n",
    "print(\"Single element in tuple:\", tuple17)"
   ]
  },
  {
   "cell_type": "markdown",
   "id": "478ab583",
   "metadata": {},
   "source": [
    "### 18. Compare two tuples."
   ]
  },
  {
   "cell_type": "code",
   "execution_count": 19,
   "id": "f4b551e8",
   "metadata": {},
   "outputs": [
    {
     "name": "stdout",
     "output_type": "stream",
     "text": [
      "tuples are not equal\n",
      "tuple1 is less than tuple2\n",
      "tuple1 is not greater than tuple2\n",
      "tuple1 is less than tuple2\n",
      "tuple1 is not greater than tuple2\n"
     ]
    }
   ],
   "source": [
    "tuple_1 = (1, 2, 3)\n",
    "tuple_2 = (1, 2, 4)\n",
    "\n",
    "# Compare if the two tuples are equal\n",
    "if tuple_1 == tuple_2:\n",
    "    print(\"tuples are equal\")\n",
    "else:\n",
    "    print(\"tuples are not equal\")\n",
    "    \n",
    "# Compare if tuple1 is less than tuple2\n",
    "if tuple_1 < tuple_2:\n",
    "    print(\"tuple1 is less than tuple2\")\n",
    "else:\n",
    "    print(\"tuple1 is not less than tuple2\")\n",
    "\n",
    "# Compare if tuple1 is greater than tuple2\n",
    "if tuple_1 > tuple_2:\n",
    "    print(\"tuple1 is greater than tuple2\")\n",
    "else:\n",
    "    print(\"tuple1 is not greater than tuple2\")\n",
    "    \n",
    "# Compare if tuple1 is less than or equalto tuple2\n",
    "if tuple_1 <= tuple_2:\n",
    "    print(\"tuple1 is less than tuple2\")\n",
    "else:\n",
    "    print(\"tuple1 is not less than tuple2\")\n",
    "\n",
    "# Compare if tuple1 is greater than or equal to tuple2\n",
    "if tuple_1 >= tuple_2:\n",
    "    print(\"tuple1 is greater than tuple2\")\n",
    "else:\n",
    "    print(\"tuple1 is not greater than tuple2\")    \n"
   ]
  },
  {
   "cell_type": "markdown",
   "id": "9d604bd2",
   "metadata": {},
   "source": [
    "### 19. Delete a tuple."
   ]
  },
  {
   "cell_type": "code",
   "execution_count": 20,
   "id": "58661b71",
   "metadata": {},
   "outputs": [
    {
     "ename": "NameError",
     "evalue": "name 'tuple19' is not defined",
     "output_type": "error",
     "traceback": [
      "\u001b[1;31m---------------------------------------------------------------------------\u001b[0m",
      "\u001b[1;31mNameError\u001b[0m                                 Traceback (most recent call last)",
      "Cell \u001b[1;32mIn [20], line 3\u001b[0m\n\u001b[0;32m      1\u001b[0m tuple19\u001b[38;5;241m=\u001b[39m(\u001b[38;5;241m1\u001b[39m,\u001b[38;5;241m2\u001b[39m,\u001b[38;5;241m3\u001b[39m,\u001b[38;5;241m4\u001b[39m,\u001b[38;5;124m\"\u001b[39m\u001b[38;5;124mhello\u001b[39m\u001b[38;5;124m\"\u001b[39m)\n\u001b[0;32m      2\u001b[0m \u001b[38;5;28;01mdel\u001b[39;00m tuple19\n\u001b[1;32m----> 3\u001b[0m \u001b[38;5;28mprint\u001b[39m(\u001b[43mtuple19\u001b[49m)\n",
      "\u001b[1;31mNameError\u001b[0m: name 'tuple19' is not defined"
     ]
    }
   ],
   "source": [
    "tuple19=(1,2,3,4,\"hello\")\n",
    "del tuple19   #deleting a tuple using del function\n",
    "print(tuple19)"
   ]
  },
  {
   "cell_type": "markdown",
   "id": "c62a9a35",
   "metadata": {},
   "source": [
    "### 20. Slice a tuple."
   ]
  },
  {
   "cell_type": "code",
   "execution_count": 24,
   "id": "259f4325",
   "metadata": {},
   "outputs": [
    {
     "name": "stdout",
     "output_type": "stream",
     "text": [
      "Sliced tuple is:  (5, 6, 'hello', 8)\n"
     ]
    }
   ],
   "source": [
    "# Step 1: Create a tuple\n",
    "tuple20 = (1, \"pwskills\",5, 6, \"hello\", 8, 9, 10)\n",
    "\n",
    "# Step 2: Slice the tuple to get a portion of it\n",
    "sliced_tuple = tuple20[2:6]  \n",
    "\n",
    "# Step 3: Print the sliced tuple\n",
    "print(\"Sliced tuple is: \", sliced_tuple)"
   ]
  },
  {
   "cell_type": "markdown",
   "id": "24f7fdc3",
   "metadata": {},
   "source": [
    "### 21. Find the maximum value in a tuple."
   ]
  },
  {
   "cell_type": "code",
   "execution_count": 26,
   "id": "62242be2",
   "metadata": {},
   "outputs": [
    {
     "name": "stdout",
     "output_type": "stream",
     "text": [
      "Maximum value: 500000\n"
     ]
    }
   ],
   "source": [
    "# Step 1: Create a tuple\n",
    "tuple21 = (10, 20, 500000, 45, 30)\n",
    "\n",
    "# Step 2: Find the maximum value in the tuple using the 'max()' function\n",
    "max_valueoftuple = max(tuple21)\n",
    "\n",
    "# Step 3: Print the maximum value\n",
    "print(\"Maximum value:\", max_valueoftuple)"
   ]
  },
  {
   "cell_type": "markdown",
   "id": "42e01620",
   "metadata": {},
   "source": [
    "### 22. Find the minimum value in a tuple."
   ]
  },
  {
   "cell_type": "code",
   "execution_count": 27,
   "id": "fc02e709",
   "metadata": {},
   "outputs": [
    {
     "name": "stdout",
     "output_type": "stream",
     "text": [
      "Maximum value: 10\n"
     ]
    }
   ],
   "source": [
    "# Step 1: Create a tuple\n",
    "tuple22 = (10, 20, 500000, 45, 30)\n",
    "\n",
    "# Step 2: Find the minimum value in the tuple using the 'max()' function\n",
    "min_valueoftuple = min(tuple22)\n",
    "\n",
    "# Step 3: Print the min value\n",
    "print(\"Maximum value:\", min_valueoftuple)"
   ]
  },
  {
   "cell_type": "markdown",
   "id": "f293e71a",
   "metadata": {},
   "source": [
    "### 23. Convert a string to a tuple of characters."
   ]
  },
  {
   "cell_type": "code",
   "execution_count": 31,
   "id": "a1d96440",
   "metadata": {},
   "outputs": [
    {
     "name": "stdout",
     "output_type": "stream",
     "text": [
      "Tuple of characters of string are:  ('H', 'e', 'l', 'l', 'o', ',', ' ', 'W', 'o', 'r', 'l', 'd', '!')\n"
     ]
    }
   ],
   "source": [
    "# Step 1: Create a string\n",
    "string_tup_23 = \"Hello, World!\"\n",
    "\n",
    "# Step 2: Convert the string to a tuple of characters\n",
    "tup_of_chars = tuple(string_tup_23)\n",
    "\n",
    "# Step 3: Print the tuple of characters\n",
    "print(\"Tuple of characters of string are: \", tup_of_chars)"
   ]
  },
  {
   "cell_type": "markdown",
   "id": "562770ce",
   "metadata": {},
   "source": [
    "### 24. Convert a tuple of characters to a string."
   ]
  },
  {
   "cell_type": "code",
   "execution_count": 34,
   "id": "90101e35",
   "metadata": {},
   "outputs": [
    {
     "name": "stdout",
     "output_type": "stream",
     "text": [
      "String from tuple: pwskills\n"
     ]
    }
   ],
   "source": [
    "# Step 1: Create a tuple of characters\n",
    "tup_of_chars24 = ('p', 'w', 's', 'k', 'i', 'l', 'l','s')\n",
    "\n",
    "# Step 2: Convert the tuple of characters to a string using the 'join()' method\n",
    "string_from_tuple = ''.join(tup_of_chars24)\n",
    "\n",
    "# Step 3: Print the resulting string\n",
    "print(\"String from tuple:\", string_from_tuple)"
   ]
  },
  {
   "cell_type": "markdown",
   "id": "caea713f",
   "metadata": {},
   "source": [
    "### 25. Create a tuple from multiple data types."
   ]
  },
  {
   "cell_type": "code",
   "execution_count": 36,
   "id": "03dc3c7e",
   "metadata": {},
   "outputs": [
    {
     "name": "stdout",
     "output_type": "stream",
     "text": [
      "(1, 'hello', 3.14, 'welcome', True)\n"
     ]
    }
   ],
   "source": [
    "# Creating a tuple with elements of different data types\n",
    "tuple25 = (1, \"hello\", 3.14,\"welcome\", True)\n",
    "\n",
    "# Printing the tuple\n",
    "print(tuple25)"
   ]
  },
  {
   "cell_type": "markdown",
   "id": "e2b18127",
   "metadata": {},
   "source": [
    "### 26. Check if two tuples are identical."
   ]
  },
  {
   "cell_type": "code",
   "execution_count": 37,
   "id": "e5b98e4f",
   "metadata": {},
   "outputs": [
    {
     "name": "stdout",
     "output_type": "stream",
     "text": [
      "they are identical tuples\n"
     ]
    }
   ],
   "source": [
    "tuple_2check1=(1,2,3)\n",
    "tuple_2check2=(1,2,3)\n",
    "if tuple_2check1==tuple_2check2:   #checking if two tuples are identical\n",
    "    print(\"they are identical tuples\")\n",
    "else:\n",
    "    print(\"they are not identical tuples\")"
   ]
  },
  {
   "cell_type": "markdown",
   "id": "056556dc",
   "metadata": {},
   "source": [
    "### 27. Sort the elements of a tuple."
   ]
  },
  {
   "cell_type": "code",
   "execution_count": 38,
   "id": "4ac94e62",
   "metadata": {},
   "outputs": [
    {
     "name": "stdout",
     "output_type": "stream",
     "text": [
      "Sorted tuple: (1, 2, 3, 8, 500)\n"
     ]
    }
   ],
   "source": [
    "# Step 1: Create a tuple\n",
    "tuple27 = (500, 2, 8, 1, 3)\n",
    "\n",
    "# Step 2: Convert the tuple to a list, sort the list, and convert it back to a tuple\n",
    "sorted_tuple = tuple(sorted(tuple27))\n",
    "\n",
    "# Step 3: Print the sorted tuple\n",
    "print(\"Sorted tuple:\", sorted_tuple)\n"
   ]
  },
  {
   "cell_type": "markdown",
   "id": "d6b1f474",
   "metadata": {},
   "source": [
    "### 28. Convert a tuple of integers to a tuple of strings."
   ]
  },
  {
   "cell_type": "code",
   "execution_count": 41,
   "id": "ff103e39",
   "metadata": {},
   "outputs": [
    {
     "name": "stdout",
     "output_type": "stream",
     "text": [
      "Tuple of strings are:   ('1', '2', '3', '4', '5')\n"
     ]
    }
   ],
   "source": [
    "# Step 1: Create a tuple of integers\n",
    "tuple28 = (1, 2, 3, 4, 5)\n",
    "\n",
    "# Step 2: Convert the tuple of integers to a tuple of strings using a list comprehension\n",
    "tuple28 = tuple(str(element) for element in tuple28)\n",
    "\n",
    "# Step 3: Print the tuple of strings\n",
    "print(\"Tuple of strings are:  \", tuple28)"
   ]
  },
  {
   "cell_type": "markdown",
   "id": "4e8525f1",
   "metadata": {},
   "source": [
    "### 29. Convert a tuple of strings to a tuple of integers."
   ]
  },
  {
   "cell_type": "code",
   "execution_count": 42,
   "id": "bd0d935a",
   "metadata": {},
   "outputs": [
    {
     "name": "stdout",
     "output_type": "stream",
     "text": [
      "Tuple of integers: (10, 20, 30, 40, 50)\n"
     ]
    }
   ],
   "source": [
    "# Step 1: Create a tuple of strings\n",
    "tuple_of_strings = ('10', '20', '30', '40', '50')\n",
    "\n",
    "# Step 2: Convert the tuple of strings to a tuple of integers \n",
    "tuple_of_integers = tuple(int(item) for item in tuple_of_strings)\n",
    "\n",
    "# Step 3: Printing the tuple of integers\n",
    "print(\"Tuple of integers:\", tuple_of_integers)"
   ]
  },
  {
   "cell_type": "markdown",
   "id": "4bc49df7",
   "metadata": {},
   "source": [
    "### 30. Merge two tuples."
   ]
  },
  {
   "cell_type": "code",
   "execution_count": 46,
   "id": "01ea7565",
   "metadata": {},
   "outputs": [
    {
     "name": "stdout",
     "output_type": "stream",
     "text": [
      "Merged tuple of tupl1 and tupl2 is:   (1, 2, 3, 4, 'hello', 6, 'king')\n"
     ]
    }
   ],
   "source": [
    "# Step 1: Create two tuples\n",
    "tuple1_merg= (1, 2, 3)\n",
    "tuple2_merg = (4, \"hello\", 6,\"king\")\n",
    "\n",
    "# Step 2: Merge the two tuples using the '+' operator\n",
    "merged_tuple = tuple1_merg+ tuple2_merg\n",
    "\n",
    "# Step 3: Print the merged tuple\n",
    "print(\"Merged tuple of tupl1 and tupl2 is:  \", merged_tuple)"
   ]
  },
  {
   "cell_type": "markdown",
   "id": "a4f2867e",
   "metadata": {},
   "source": [
    "### 31. Flatten a nested tuple."
   ]
  },
  {
   "cell_type": "code",
   "execution_count": 48,
   "id": "d8c96a00",
   "metadata": {},
   "outputs": [
    {
     "name": "stdout",
     "output_type": "stream",
     "text": [
      "(1, 2, 3, 4, 5, 6, 7)\n"
     ]
    }
   ],
   "source": [
    "def flattened_tuple1(nested_tuple):\n",
    "    flat_list = []\n",
    "    for item in nested_tuple:\n",
    "        if isinstance(item, tuple):\n",
    "            flat_list.extend(flattened_tuple1(item))  # flattening elements using extend function in nested tuple \n",
    "        else:\n",
    "            flat_list.append(item)\n",
    "    return tuple(flat_list)\n",
    "\n",
    "nested_tuple = (1, (2, 3), (4, (5, 6)), 7)\n",
    "flat_tuple = flattened_tuple1(nested_tuple)\n",
    "print(flat_tuple)\n"
   ]
  },
  {
   "cell_type": "markdown",
   "id": "a52dab6e",
   "metadata": {},
   "source": [
    "### 32. Create a tuple of the first 5 prime numbers."
   ]
  },
  {
   "cell_type": "code",
   "execution_count": 4,
   "id": "9d9f8be4",
   "metadata": {},
   "outputs": [
    {
     "name": "stdout",
     "output_type": "stream",
     "text": [
      "the first 5 prime numbers are:  (2, 3, 5, 7, 11)\n"
     ]
    }
   ],
   "source": [
    "def check_prime(x):\n",
    "    if x<=1:\n",
    "        return False\n",
    "    for i in range(2,int(x**0.5)+1):\n",
    "        if x%i ==0:\n",
    "            return False\n",
    "    return True\n",
    "#checking prime numbers between range\n",
    "prime_numbers = [x for x in range(2, 100) if check_prime(x)][:5]\n",
    "\n",
    "# Converting the list to a tuple\n",
    "prime_numbers_tuple = tuple(prime_numbers)\n",
    "\n",
    "# Printing the tuple of prime numbers\n",
    "print(\"the first 5 prime numbers are: \", prime_numbers_tuple)"
   ]
  },
  {
   "cell_type": "markdown",
   "id": "b2b55baa",
   "metadata": {},
   "source": [
    "### 33. Check if a tuple is a palindrome."
   ]
  },
  {
   "cell_type": "code",
   "execution_count": 6,
   "id": "1869aef2",
   "metadata": {},
   "outputs": [
    {
     "name": "stdout",
     "output_type": "stream",
     "text": [
      "this tuple is a palindrome\n"
     ]
    }
   ],
   "source": [
    "tuple33=(1,2,3,2,1)\n",
    "temp_tuple33=tuple33[::-1]   #checking palindrome of tuple\n",
    "if tuple33==temp_tuple33:\n",
    "    print(\"this tuple is a palindrome\")\n",
    "else:\n",
    "    print(\"tuple is not palindrome\")"
   ]
  },
  {
   "cell_type": "markdown",
   "id": "3a9d399c",
   "metadata": {},
   "source": [
    "### 34. Create a tuple of squares of numbers from 1 to 5."
   ]
  },
  {
   "cell_type": "code",
   "execution_count": 16,
   "id": "c7830cf0",
   "metadata": {},
   "outputs": [
    {
     "name": "stdout",
     "output_type": "stream",
     "text": [
      "(0, 1, 4, 9, 16, 25, 36, 49, 64, 81)\n"
     ]
    }
   ],
   "source": [
    "tuple34=[]\n",
    "temp=[i**2 for i in range(10)]  #tuple of squares of numbers from 1 to 5\n",
    "print(tuple(temp))"
   ]
  },
  {
   "cell_type": "markdown",
   "id": "37d7ce78",
   "metadata": {},
   "source": [
    "### 35. Filter out all even numbers from a tuple."
   ]
  },
  {
   "cell_type": "code",
   "execution_count": 23,
   "id": "b65f5a29",
   "metadata": {},
   "outputs": [
    {
     "name": "stdout",
     "output_type": "stream",
     "text": [
      "(2, 4, 6, 78, 4)\n"
     ]
    }
   ],
   "source": [
    "tuple35=[1,2,3,4,5,6,7,78,7,5,3,3,4]\n",
    "temp_tuple35=[]\n",
    "for i in tuple35:\n",
    "    if i%2==0:     #filtering even numbers\n",
    "        temp_tuple35.append(i)\n",
    "print(tuple(temp_tuple35))"
   ]
  },
  {
   "cell_type": "markdown",
   "id": "7e40a25f",
   "metadata": {},
   "source": [
    "### 36. Multiply all elements in a tuple by 2."
   ]
  },
  {
   "cell_type": "code",
   "execution_count": 25,
   "id": "602966d7",
   "metadata": {},
   "outputs": [
    {
     "name": "stdout",
     "output_type": "stream",
     "text": [
      "(2, 4, 8, 10, 12, 6, 4)\n"
     ]
    }
   ],
   "source": [
    "tuple36=[1,2,4,5,6,3,2]\n",
    "temp=[i*2 for i in tuple36]  #multiplying all elements in a tuple by 2 \n",
    "print(tuple(temp))"
   ]
  },
  {
   "cell_type": "markdown",
   "id": "7a97ba06",
   "metadata": {},
   "source": [
    "### 37. Create a tuple of random numbers."
   ]
  },
  {
   "cell_type": "code",
   "execution_count": 7,
   "id": "9e9da799",
   "metadata": {},
   "outputs": [
    {
     "name": "stdout",
     "output_type": "stream",
     "text": [
      "Random tuple:   (8, 13, 19, 10, 79, 59, 55, 49, 55, 52)\n"
     ]
    }
   ],
   "source": [
    "import random\n",
    "\n",
    "# Creating a tuple of random numbers using a list comprehension\n",
    "tuple37 = tuple(random.randint(1, 100) for i in range(10))\n",
    "\n",
    "# Printing the tuple of random numbers\n",
    "print(\"Random tuple:  \", tuple37)"
   ]
  },
  {
   "cell_type": "markdown",
   "id": "09ec594a",
   "metadata": {},
   "source": [
    "### 38. Check if a tuple is sorted."
   ]
  },
  {
   "cell_type": "code",
   "execution_count": 9,
   "id": "9dcfe80d",
   "metadata": {},
   "outputs": [
    {
     "name": "stdout",
     "output_type": "stream",
     "text": [
      "tuple is sorted\n",
      "tuple is not sorted\n"
     ]
    }
   ],
   "source": [
    "def is_sorted_tuple(t):\n",
    "    for i in range(len(t) - 1):\n",
    "        if t[i] > t[i + 1]:    #checking if tuples are sorted are not\n",
    "            return \"tuple is not sorted\"\n",
    "    return \"tuple is sorted\"\n",
    "\n",
    "sort_tuple_1 = (1, 2, 3, 4, 5)  \n",
    "sort_tuple_2 = (5, 3, 1, 2, 4)\n",
    "\n",
    "print(is_sorted_tuple(sort_tuple_1))  \n",
    "print(is_sorted_tuple(sort_tuple_2)) \n"
   ]
  },
  {
   "cell_type": "markdown",
   "id": "67c792fc",
   "metadata": {},
   "source": [
    "### 39. Rotate a tuple to the left by `n` positions."
   ]
  },
  {
   "cell_type": "code",
   "execution_count": 16,
   "id": "431e0263",
   "metadata": {},
   "outputs": [
    {
     "name": "stdout",
     "output_type": "stream",
     "text": [
      "rotated tuple is:  (3, 4, 5, 1, 2)\n"
     ]
    }
   ],
   "source": [
    "# Example tuple\n",
    "tuple39 = (1, 2, 3, 4, 5)\n",
    "n = 2\n",
    "\n",
    "n = n % len(tuple39)  # Ensuring n is within the range of tuple length\n",
    "rotattuple = tuple39[n:] + tuple39[:n]  # Rotate the tuple\n",
    "\n",
    "\n",
    "\n",
    "result = rotattuple\n",
    "print(\"rotated tuple is: \",result)"
   ]
  },
  {
   "cell_type": "markdown",
   "id": "0cdd99ba",
   "metadata": {},
   "source": [
    "### 40. Rotate a tuple to the right by `n` positions."
   ]
  },
  {
   "cell_type": "code",
   "execution_count": 17,
   "id": "5046b372",
   "metadata": {},
   "outputs": [
    {
     "name": "stdout",
     "output_type": "stream",
     "text": [
      "rotated tuple is:  (4, 5, 1, 2, 3)\n"
     ]
    }
   ],
   "source": [
    "# Example tuple\n",
    "tuple40 = (1, 2, 3, 4, 5)\n",
    "n1 = 2\n",
    "\n",
    "n1 = n1 % len(tuple39)  # Ensuring n is within the range of tuple length\n",
    "rotattuple = tuple40[-n1:] + tuple40[:-n1]  # Rotate the tuple\n",
    "\n",
    "\n",
    "\n",
    "result = rotattuple\n",
    "print(\"rotated tuple is: \",result)"
   ]
  },
  {
   "cell_type": "markdown",
   "id": "dd06c07b",
   "metadata": {},
   "source": [
    "### 41. Create a tuple of the first 5 Fibonacci numbers."
   ]
  },
  {
   "cell_type": "code",
   "execution_count": 20,
   "id": "c4a9f0cd",
   "metadata": {},
   "outputs": [
    {
     "name": "stdout",
     "output_type": "stream",
     "text": [
      "(0, 1, 1, 2, 3)\n"
     ]
    }
   ],
   "source": [
    "n=5\n",
    "fibonacci = [0, 1]                                      # Initializing the list with the first 2 Fibonacci numbers\n",
    "while len(fibonacci) < n:                               \n",
    "    next_number = fibonacci[-1] + fibonacci[-2]         # Calculate the next Fibonacci number\n",
    "    fibonacci.append(next_number)                        # Add the next Fibonacci number to the list\n",
    "                                         # Convert the list to a tuple and return it\n",
    "\n",
    "fibonacci_tuple = tuple(fibonacci)\n",
    "# Print the resulting tuple\n",
    "print(fibonacci_tuple)"
   ]
  },
  {
   "cell_type": "markdown",
   "id": "1fc9d6cd",
   "metadata": {},
   "source": [
    "### 42. Create a tuple from user input."
   ]
  },
  {
   "cell_type": "code",
   "execution_count": 1,
   "id": "dae1cc03",
   "metadata": {},
   "outputs": [
    {
     "name": "stdout",
     "output_type": "stream",
     "text": [
      "Enter elements separated by spaces: vishal 1 2 3 4.3\n",
      "Tuple created from user input: ('vishal', '1', '2', '3', '4.3')\n"
     ]
    }
   ],
   "source": [
    "# Prompt the user for input and split it into a list\n",
    "tuple42 = input(\"Enter elements separated by spaces: \")\n",
    "input_list = tuple42.split()\n",
    "\n",
    "# Convert the list to a tuple\n",
    "tuple_from_input = tuple(input_list)\n",
    "\n",
    "# Print the tuple\n",
    "print(\"Tuple created from user input:\", tuple_from_input)\n"
   ]
  },
  {
   "cell_type": "markdown",
   "id": "b7425646",
   "metadata": {},
   "source": [
    "### 43. Swap two elements in a tuple."
   ]
  },
  {
   "cell_type": "code",
   "execution_count": 3,
   "id": "e14f1698",
   "metadata": {},
   "outputs": [
    {
     "name": "stdout",
     "output_type": "stream",
     "text": [
      "enter the index1: 2\n",
      "enter the index2: 1\n",
      "Swapped tuple: (1, 3, 2, 4, 5)\n"
     ]
    }
   ],
   "source": [
    "\n",
    "tuple43 = (1, 2, 3, 4, 5)\n",
    "\n",
    "index1 = int(input(\"enter the index1: \"))\n",
    "index2 = int(input(\"enter the index2: \"))\n",
    "swapped_tuple = tuple(\n",
    "    tuple43[i] if i not in (index1, index2) else\n",
    "    tuple43[index2] if i == index1 else\n",
    "    tuple43[index1]\n",
    "    for i in range(len(tuple43))\n",
    ")\n",
    "\n",
    "# Print the swapped tuple\n",
    "print(\"Swapped tuple:\", swapped_tuple)"
   ]
  },
  {
   "cell_type": "markdown",
   "id": "24318d83",
   "metadata": {},
   "source": [
    "### 44. Reverse the elements of a tuple."
   ]
  },
  {
   "cell_type": "code",
   "execution_count": 4,
   "id": "6e0c79b4",
   "metadata": {},
   "outputs": [
    {
     "name": "stdout",
     "output_type": "stream",
     "text": [
      "Reversed tuple: (125, 4765, 3, 2.5, 1)\n"
     ]
    }
   ],
   "source": [
    "\n",
    "tuple44 = (1, 2.5, 3, 4765, 125)\n",
    "\n",
    "# Reverse the elements using slicing\n",
    "reversed_tuple = tuple44[::-1]\n",
    "\n",
    "# Print the reversed tuple\n",
    "print(\"Reversed tuple:\", reversed_tuple)"
   ]
  },
  {
   "cell_type": "markdown",
   "id": "885116de",
   "metadata": {},
   "source": [
    "### 45. Create a tuple of the first `n` powers of 2."
   ]
  },
  {
   "cell_type": "code",
   "execution_count": 6,
   "id": "ba16719a",
   "metadata": {},
   "outputs": [
    {
     "name": "stdout",
     "output_type": "stream",
     "text": [
      "Tuple of the first 5 powers of 2: (1, 2, 4, 8, 16)\n"
     ]
    }
   ],
   "source": [
    "# Define the value of n\n",
    "n = 5\n",
    "\n",
    "# Create a tuple of the first n powers of 2 using a list comprehension\n",
    "powof_2_tuple45 = tuple(2 ** i for i in range(n))\n",
    "\n",
    "# Print the tuple of powers of 2\n",
    "print(\"Tuple of the first\", n, \"powers of 2:\", powof_2_tuple45)"
   ]
  },
  {
   "cell_type": "markdown",
   "id": "4487ef77",
   "metadata": {},
   "source": [
    "### 46. Find the longest string in a tuple of strings."
   ]
  },
  {
   "cell_type": "code",
   "execution_count": 7,
   "id": "89d66dfc",
   "metadata": {},
   "outputs": [
    {
     "name": "stdout",
     "output_type": "stream",
     "text": [
      "Longest string: pwskills\n"
     ]
    }
   ],
   "source": [
    "# Create a tuple of strings\n",
    "tuple46 = (\"pwskills\", \"banana\", \"hello\", \"dog\",)\n",
    "\n",
    "# Find the longest string in the tuple\n",
    "longest_string_tuple46 = max(tuple46, key=len)\n",
    "\n",
    "# Print the longest string\n",
    "print(\"Longest string:\", longest_string_tuple46)"
   ]
  },
  {
   "cell_type": "markdown",
   "id": "018c7086",
   "metadata": {},
   "source": [
    "### 47. Find the shortest string in a tuple of strings."
   ]
  },
  {
   "cell_type": "code",
   "execution_count": 9,
   "id": "4c3893f7",
   "metadata": {},
   "outputs": [
    {
     "name": "stdout",
     "output_type": "stream",
     "text": [
      "smallest string: i\n"
     ]
    }
   ],
   "source": [
    "# Create a tuple of strings\n",
    "tuple47 = (\"pwskills\", \"banana\", \"hello\", \"dog\",\"is\",\"i\")\n",
    "\n",
    "# Find the shortest string in the tuple\n",
    "smallest_string_tuple47 = min(tuple47, key=len)\n",
    "\n",
    "# Print the smallest string\n",
    "print(\"smallest string:\", smallest_string_tuple47)"
   ]
  },
  {
   "cell_type": "markdown",
   "id": "98d9ab66",
   "metadata": {},
   "source": [
    "### 48. Create a tuple of the first `n` triangular numbers."
   ]
  },
  {
   "cell_type": "code",
   "execution_count": 10,
   "id": "fde43f4b",
   "metadata": {},
   "outputs": [
    {
     "name": "stdout",
     "output_type": "stream",
     "text": [
      "Tuple of the first 5 triangular numbers: (1, 3, 6, 10, 15)\n"
     ]
    }
   ],
   "source": [
    "n = 5\n",
    "\n",
    "# Create a tuple of the first n triangular numbers using a list comprehension\n",
    "numbers_tuple48 = tuple((i * (i + 1)) // 2 for i in range(1, n + 1))\n",
    "\n",
    "# Print the tuple of triangular numbers\n",
    "print(\"Tuple of the first\", n, \"triangular numbers:\", numbers_tuple48)"
   ]
  },
  {
   "cell_type": "markdown",
   "id": "19dc2a48",
   "metadata": {},
   "source": [
    "### 49. Check if a tuple contains another tuple as a subsequence."
   ]
  },
  {
   "cell_type": "code",
   "execution_count": 3,
   "id": "448eb79f",
   "metadata": {},
   "outputs": [
    {
     "name": "stdout",
     "output_type": "stream",
     "text": [
      " list contains the subsequence.\n"
     ]
    }
   ],
   "source": [
    "def list_subsequence(subsequence, main_list):\n",
    "    return all(subseq_elem in main_list for subseq_elem in subsequence)\n",
    "\n",
    "\n",
    "main_list = [1, 2, 3, 4, 5, 6, 7, 8, 9, 10]\n",
    "tup=tuple(main_list)\n",
    "subsequence = [3, 5, 8]\n",
    "\n",
    "\n",
    "if list_subsequence(subsequence, main_list):\n",
    "    print(\" list contains the subsequence.\")\n",
    "else:\n",
    "    print(\" list does not contain the subsequence.\")\n"
   ]
  },
  {
   "cell_type": "markdown",
   "id": "69c8118f",
   "metadata": {},
   "source": [
    "### 50. Create a tuple of alternating 1s and 0s of length `n`."
   ]
  },
  {
   "cell_type": "code",
   "execution_count": 4,
   "id": "7707d4fe",
   "metadata": {},
   "outputs": [
    {
     "name": "stdout",
     "output_type": "stream",
     "text": [
      "enter the length of n: 20\n",
      "Tuple of alternating 1s and 0s: (0, 1, 0, 1, 0, 1, 0, 1, 0, 1, 0, 1, 0, 1, 0, 1, 0, 1, 0, 1)\n"
     ]
    }
   ],
   "source": [
    "\n",
    "n = int(input(\"enter the length of n: \"))\n",
    "\n",
    "# Create a tuple of alternating 1s and 0s using a list comprehension\n",
    "tuple50 = tuple(i % 2 for i in range(n))\n",
    "\n",
    "# Print the tuple of alternating 1s and 0s\n",
    "print(\"Tuple of alternating 1s and 0s:\", tuple50)"
   ]
  },
  {
   "cell_type": "markdown",
   "id": "c1b320b9",
   "metadata": {},
   "source": [
    "## Set Based Practice Problem :"
   ]
  },
  {
   "cell_type": "markdown",
   "id": "dd306ecc",
   "metadata": {},
   "source": [
    "### 1. Create a set with integers from 1 to 5."
   ]
  },
  {
   "cell_type": "code",
   "execution_count": 7,
   "id": "89374649",
   "metadata": {},
   "outputs": [
    {
     "name": "stdout",
     "output_type": "stream",
     "text": [
      "{1, 2, 3, 4, 5}\n"
     ]
    }
   ],
   "source": [
    "set1=set()  #creating a set\n",
    "for i in range(1,6):\n",
    "    set1.add(i)  #appending integers to created set\n",
    "print(set1)    "
   ]
  },
  {
   "cell_type": "markdown",
   "id": "5256d69d",
   "metadata": {},
   "source": [
    "### 2. Add an element to a set."
   ]
  },
  {
   "cell_type": "code",
   "execution_count": 8,
   "id": "406ce3be",
   "metadata": {},
   "outputs": [
    {
     "name": "stdout",
     "output_type": "stream",
     "text": [
      "enter the element to add: 23\n",
      "{2, 3, 5, 6, 23}\n"
     ]
    }
   ],
   "source": [
    "set2={2,3,5,6}\n",
    "add_set=int(input(\"enter the element to add: \"))\n",
    "set2.add(add_set)    #adding element to existing set\n",
    "print(set2)"
   ]
  },
  {
   "cell_type": "markdown",
   "id": "f5b951fa",
   "metadata": {},
   "source": [
    "### 3. Remove an element from a set."
   ]
  },
  {
   "cell_type": "code",
   "execution_count": 11,
   "id": "92d2992d",
   "metadata": {},
   "outputs": [
    {
     "name": "stdout",
     "output_type": "stream",
     "text": [
      "enter the element to remove: 90\n",
      "{2, 3, 5, 6}\n"
     ]
    }
   ],
   "source": [
    "set3={2,3,5,6,90}\n",
    "remove_set=int(input(\"enter the element to remove: \"))\n",
    "set3.remove(remove_set)     #removing specific element from set3 given by user \n",
    "print(set3)"
   ]
  },
  {
   "cell_type": "markdown",
   "id": "28785980",
   "metadata": {},
   "source": [
    "### 4. Check if an element exists in a set."
   ]
  },
  {
   "cell_type": "code",
   "execution_count": 14,
   "id": "41f9ee51",
   "metadata": {},
   "outputs": [
    {
     "name": "stdout",
     "output_type": "stream",
     "text": [
      "Enter the element to check: 9\n",
      "9 exists in the set.\n"
     ]
    }
   ],
   "source": [
    "set4 = {1, 3, 5, 7, 9}\n",
    "\n",
    "check_elem = int(input(\"Enter the element to check: \"))\n",
    "\n",
    "# Step 3: Use the \"in\" keyword to check if the element exists in the set\n",
    "if check_elem in set4:\n",
    "    # Step 4: If the element exists in the set, print a message\n",
    "    print(f\"{check_elem} exists in the set.\")\n",
    "else:\n",
    "    # Step 5: If the element does not exist in the set, print a message\n",
    "    print(f\"{check_elem} does not exist in the set.\")"
   ]
  },
  {
   "cell_type": "markdown",
   "id": "39001235",
   "metadata": {},
   "source": [
    "### 5. Find the length of a set without using the `len()` function."
   ]
  },
  {
   "cell_type": "code",
   "execution_count": 16,
   "id": "0a3175b3",
   "metadata": {},
   "outputs": [
    {
     "name": "stdout",
     "output_type": "stream",
     "text": [
      "Length of the set5 is:  8\n"
     ]
    }
   ],
   "source": [
    "# Creating a set with some elements\n",
    "set5 = {1, 2, 3, 4, 5,45,69,29}\n",
    "\n",
    "# Initialize a variable \n",
    "count = 0\n",
    "\n",
    "# Iterate through each element in the set\n",
    "for i in set5:\n",
    "    # Increase the count by 1 for each element\n",
    "    count += 1\n",
    "\n",
    "# Print the count, which is the length of the set\n",
    "print(\"Length of the set5 is: \", count)"
   ]
  },
  {
   "cell_type": "markdown",
   "id": "a6fe849a",
   "metadata": {},
   "source": [
    "### 6. Clear all elements from a set."
   ]
  },
  {
   "cell_type": "code",
   "execution_count": 18,
   "id": "13343f24",
   "metadata": {},
   "outputs": [
    {
     "name": "stdout",
     "output_type": "stream",
     "text": [
      "set()\n"
     ]
    }
   ],
   "source": [
    "set6={1,2,3}\n",
    "set6.clear()     #clearing whole set using clear function\n",
    "print(set6)"
   ]
  },
  {
   "cell_type": "markdown",
   "id": "c7c3dfb9",
   "metadata": {},
   "source": [
    "### 7. Create a set of even numbers from 1 to 10."
   ]
  },
  {
   "cell_type": "code",
   "execution_count": 19,
   "id": "3e24c2de",
   "metadata": {},
   "outputs": [
    {
     "name": "stdout",
     "output_type": "stream",
     "text": [
      "{2, 4, 6, 8, 10}\n"
     ]
    }
   ],
   "source": [
    "# Step 1: Initialize an empty set\n",
    "set7 = set()\n",
    "\n",
    "# Step 2: Iterate through numbers from 1 to 10\n",
    "\n",
    "\n",
    "for num in range(1, 11):                               # Step 3: Check if the number is even\n",
    "    if num % 2 == 0:\n",
    "                                   # Step 4: Add the even number to the set\n",
    "        set7.add(num)\n",
    "\n",
    "                                    # Step 5: Print the set of even numbers\n",
    "print(set7)"
   ]
  },
  {
   "cell_type": "markdown",
   "id": "a78dddac",
   "metadata": {},
   "source": [
    "### 8. Create a set of odd numbers from 1 to 10."
   ]
  },
  {
   "cell_type": "code",
   "execution_count": 20,
   "id": "b1c04e3d",
   "metadata": {},
   "outputs": [
    {
     "name": "stdout",
     "output_type": "stream",
     "text": [
      "{1, 3, 5, 7, 9}\n"
     ]
    }
   ],
   "source": [
    "# Step 1: Initialize an empty set\n",
    "set8 = set()\n",
    "\n",
    "# Step 2: Iterate through numbers from 1 to 10\n",
    "\n",
    "\n",
    "for num in range(1, 11):                               # Step 3: Check if the number is even\n",
    "    if num % 2 != 0:\n",
    "                                   # Step 4: Add the even number to the set\n",
    "        set8.add(num)\n",
    "\n",
    "                                    # Step 5: Print the set of even numbers\n",
    "print(set8)"
   ]
  },
  {
   "cell_type": "markdown",
   "id": "1302d37a",
   "metadata": {},
   "source": [
    "### 9. Find the union of two sets."
   ]
  },
  {
   "cell_type": "code",
   "execution_count": 21,
   "id": "04903659",
   "metadata": {},
   "outputs": [
    {
     "name": "stdout",
     "output_type": "stream",
     "text": [
      "{1, 2, 3, 4, 29}\n"
     ]
    }
   ],
   "source": [
    "set_union1={1,2,3,4}\n",
    "set_union2={1,2,29}\n",
    "temp_set9=set_union1.union(set_union2)  #finding union between two given sets\n",
    "print(temp_set9)"
   ]
  },
  {
   "cell_type": "markdown",
   "id": "24e3dc3e",
   "metadata": {},
   "source": [
    "### 10. Find the intersection of two sets."
   ]
  },
  {
   "cell_type": "code",
   "execution_count": 25,
   "id": "9c8836ee",
   "metadata": {},
   "outputs": [
    {
     "name": "stdout",
     "output_type": "stream",
     "text": [
      "{1, 2}\n"
     ]
    }
   ],
   "source": [
    "set_inter1={1,2,3,4}\n",
    "set_inter2={1,2,29}\n",
    "temp_set10=set_inter1.intersection(set_inter2)  #finding intersection between two given sets\n",
    "print(temp_set10)"
   ]
  },
  {
   "cell_type": "markdown",
   "id": "589f1a1c",
   "metadata": {},
   "source": [
    "### 11. Find the difference between two sets."
   ]
  },
  {
   "cell_type": "code",
   "execution_count": 26,
   "id": "2b936547",
   "metadata": {},
   "outputs": [
    {
     "name": "stdout",
     "output_type": "stream",
     "text": [
      "{3, 4}\n"
     ]
    }
   ],
   "source": [
    "set_differ1={1,2,3,4}\n",
    "set_differ2={1,2,29}\n",
    "temp_set11=set_differ1.difference(set_differ2)  #finding difference between two given sets\n",
    "print(temp_set11)"
   ]
  },
  {
   "cell_type": "markdown",
   "id": "318cbacb",
   "metadata": {},
   "source": [
    "### 12. Check if a set is a subset of another set."
   ]
  },
  {
   "cell_type": "code",
   "execution_count": 28,
   "id": "f96924e5",
   "metadata": {},
   "outputs": [
    {
     "name": "stdout",
     "output_type": "stream",
     "text": [
      "Is set1 is a subset of set2: True\n"
     ]
    }
   ],
   "source": [
    "# Define the two sets\n",
    "check_set1 = {1, 2, 3}\n",
    "check_set2 = {1, 2, 3, 4, 5}\n",
    "\n",
    "# Use the \"issubset()\" method to check if set1 is a subset of set2\n",
    "temp_is_subset = check_set1.issubset(check_set2)\n",
    "\n",
    "# Print the result\n",
    "print(\"Is set1 is a subset of set2:\", temp_is_subset)"
   ]
  },
  {
   "cell_type": "markdown",
   "id": "f752015b",
   "metadata": {},
   "source": [
    "### 13. Check if a set is a superset of another set."
   ]
  },
  {
   "cell_type": "code",
   "execution_count": 29,
   "id": "ff763f9c",
   "metadata": {},
   "outputs": [
    {
     "name": "stdout",
     "output_type": "stream",
     "text": [
      "set1 is a superset of set2\n"
     ]
    }
   ],
   "source": [
    "# Create two sets\n",
    "ss_set1 = {1, 2, 3, 4, 5, 6}\n",
    "ss_set2 = {3, 4}\n",
    "\n",
    "# Check if set1 is a superset of set2\n",
    "is_superset = ss_set1.issuperset(ss_set2)\n",
    "\n",
    "# Print the result\n",
    "if is_superset:\n",
    "    print(\"set1 is a superset of set2\")\n",
    "else:\n",
    "    print(\"set1 is not a superset of set2\")"
   ]
  },
  {
   "cell_type": "markdown",
   "id": "5b04fbe0",
   "metadata": {},
   "source": [
    "### 14. Create a set from a list."
   ]
  },
  {
   "cell_type": "code",
   "execution_count": 30,
   "id": "ce574545",
   "metadata": {},
   "outputs": [
    {
     "name": "stdout",
     "output_type": "stream",
     "text": [
      "{1, 2, 3, 4}\n"
     ]
    }
   ],
   "source": [
    "list_set=[1,2,3,4]   #creating a set from list\n",
    "set14=set(list_set)  #converting list to set\n",
    "print(set14)"
   ]
  },
  {
   "cell_type": "markdown",
   "id": "e4f79d44",
   "metadata": {},
   "source": [
    "### 15. Convert a set to a list."
   ]
  },
  {
   "cell_type": "code",
   "execution_count": 31,
   "id": "d12c4a6f",
   "metadata": {},
   "outputs": [
    {
     "name": "stdout",
     "output_type": "stream",
     "text": [
      "[1, 2, 3, 222.9]\n"
     ]
    }
   ],
   "source": [
    "set_list15={1,2,3,222.9}\n",
    "temp_set15=list(set_list15)   #converting set to list\n",
    "print(temp_set15)"
   ]
  },
  {
   "cell_type": "markdown",
   "id": "71cef053",
   "metadata": {},
   "source": [
    "### 16. Remove a random element from a set."
   ]
  },
  {
   "cell_type": "code",
   "execution_count": 33,
   "id": "fcf8149d",
   "metadata": {},
   "outputs": [
    {
     "name": "stdout",
     "output_type": "stream",
     "text": [
      "before set is:      {1, 2, 3, 4, 5}\n",
      " set after removing 2 is:    {1, 3, 4, 5}\n"
     ]
    }
   ],
   "source": [
    "import random  \n",
    "\n",
    "set16 = {1, 2, 3, 4, 5}\n",
    "\n",
    "\n",
    "print(\"before set is:     \", set16)\n",
    "\n",
    "# Choosing a random element from the set using the random.choice() function\n",
    "rand_element = random.choice(list(set16))\n",
    "\n",
    "# Remove the chosen random element from the set using the remove() method\n",
    "set16.remove(rand_element)\n",
    "\n",
    "# Display the updated set after removing the random element\n",
    "print(\" set after removing\", rand_element, \"is:   \", set16)"
   ]
  },
  {
   "cell_type": "markdown",
   "id": "83843eeb",
   "metadata": {},
   "source": [
    "### 17. Pop an element from a set."
   ]
  },
  {
   "cell_type": "code",
   "execution_count": 37,
   "id": "02f07b65",
   "metadata": {},
   "outputs": [
    {
     "name": "stdout",
     "output_type": "stream",
     "text": [
      "before set is:  {1, 3, 4, 5, 29, 345678}\n",
      "Popped element is:  1\n",
      "Set after popping is:   {3, 4, 5, 29, 345678}\n"
     ]
    }
   ],
   "source": [
    "# Create a set with some elements\n",
    "set17 = {1, 29,345678, 3, 4, 5}\n",
    "\n",
    "\n",
    "print(\"before set is: \", set17)\n",
    "\n",
    "# Pop an element from the set using the pop() method\n",
    "popped_elem = set17.pop()\n",
    "\n",
    "# Print the element that was popped\n",
    "print(\"Popped element is: \", popped_elem)\n",
    "\n",
    "# Print the set after popping an element\n",
    "print(\"Set after popping is:  \", set17)"
   ]
  },
  {
   "cell_type": "markdown",
   "id": "8ad0cce0",
   "metadata": {},
   "source": [
    "### 18. Check if two sets have no elements in common."
   ]
  },
  {
   "cell_type": "code",
   "execution_count": 39,
   "id": "ee22fb93",
   "metadata": {},
   "outputs": [
    {
     "name": "stdout",
     "output_type": "stream",
     "text": [
      "two sets have no elements in common.\n"
     ]
    }
   ],
   "source": [
    "# Step 1: Define two sets\n",
    "ncs_set1 = {1, 2, 3, 4}\n",
    "ncs_set2 = {5, 6, 7, 8}\n",
    "\n",
    "# Step 2: Check if the intersection of the two sets is empty\n",
    "# The intersection is the set of elements that are common to both sets\n",
    "common_elements = ncs_set1.intersection(ncs_set2)\n",
    "\n",
    "# Step 3: Check if the common_elements set is empty\n",
    "if not common_elements:\n",
    "    print(\"two sets have no elements in common.\")\n",
    "else:\n",
    "    print(\"The two sets have common elements:\", common_elements)"
   ]
  },
  {
   "cell_type": "markdown",
   "id": "556d08bd",
   "metadata": {},
   "source": [
    "### 19. Find the symmetric difference between two sets."
   ]
  },
  {
   "cell_type": "code",
   "execution_count": 43,
   "id": "784ba30c",
   "metadata": {},
   "outputs": [
    {
     "name": "stdout",
     "output_type": "stream",
     "text": [
      "Symmetric Difference of 2 sets is:   {1, 2, 3, 344, 6, 7, 8}\n"
     ]
    }
   ],
   "source": [
    "# Define two sets\n",
    "ssd_set1 = {1, 2, 3, 4,344,5}\n",
    "ssd_set2 = {4, 5, 6, 7, 8}\n",
    "\n",
    "# Calculate the symmetric difference using the ^ operator\n",
    "symmetric_difference = ssd_set1 ^ ssd_set2\n",
    "\n",
    "print(\"Symmetric Difference of 2 sets is:  \", symmetric_difference)"
   ]
  },
  {
   "cell_type": "markdown",
   "id": "7f467a68",
   "metadata": {},
   "source": [
    "### 20. Update a set with elements from another set."
   ]
  },
  {
   "cell_type": "code",
   "execution_count": 45,
   "id": "acfdc77f",
   "metadata": {},
   "outputs": [
    {
     "name": "stdout",
     "output_type": "stream",
     "text": [
      "Set 1 is:   {1, 2, 3}\n",
      "Set 2: {2, 3, 5, 6, 23}\n",
      "Updated Set 1: {1, 2, 3, 4, 5}\n"
     ]
    }
   ],
   "source": [
    "set1 = {1, 2, 3}\n",
    "print(\"Set 1 is:  \", set1)\n",
    "\n",
    "\n",
    "anoth_set2 = {3, 4, 5}\n",
    "print(\"Set 2:\", set2)\n",
    "\n",
    "                                    # Update set1 with elements from set2\n",
    "set1.update(anoth_set2)\n",
    "print(\"Updated Set 1:\", set1)"
   ]
  },
  {
   "cell_type": "markdown",
   "id": "fb1faa08",
   "metadata": {},
   "source": [
    "### 21. Create a set of the first 5 prime numbers."
   ]
  },
  {
   "cell_type": "code",
   "execution_count": 46,
   "id": "95328565",
   "metadata": {},
   "outputs": [
    {
     "name": "stdout",
     "output_type": "stream",
     "text": [
      "{1, 2, 3, 4, 5}\n"
     ]
    }
   ],
   "source": [
    "# Initializing an empty set\n",
    "set21 = set()\n",
    "# Use a for loop to add the first five numbers to the set \n",
    "for i in range(1, 6):\n",
    "    set21.add(i)\n",
    "\n",
    "print(set21)"
   ]
  },
  {
   "cell_type": "markdown",
   "id": "2561d0c6",
   "metadata": {},
   "source": [
    "### 22. Check if two sets are identical."
   ]
  },
  {
   "cell_type": "code",
   "execution_count": 48,
   "id": "45dc627d",
   "metadata": {},
   "outputs": [
    {
     "name": "stdout",
     "output_type": "stream",
     "text": [
      "two sets are identical: \n"
     ]
    }
   ],
   "source": [
    "id_set1={12,32,1234}\n",
    "id_set2={12,32,1234}\n",
    "\n",
    "if id_set1==id_set2:  #checking if two sets are identical or not\n",
    "    print(\"two sets are identical: \")\n",
    "else:\n",
    "    print(\"two sets are not identical: \")"
   ]
  },
  {
   "cell_type": "markdown",
   "id": "81079235",
   "metadata": {},
   "source": [
    "### 23. Create a frozen set."
   ]
  },
  {
   "cell_type": "code",
   "execution_count": 49,
   "id": "c30e9656",
   "metadata": {},
   "outputs": [
    {
     "name": "stdout",
     "output_type": "stream",
     "text": [
      "Frozen Set of set23 is: frozenset({1, 2, 3, 4, 5})\n"
     ]
    }
   ],
   "source": [
    "# Step 2: Define a list of elements that you want to include in the frozen set\n",
    "set23 = [1, 2, 3, 4, 5]\n",
    "\n",
    "# Step 3: Create a frozen set using the 'frozenset' constructor and passing the list of elements\n",
    "frozen_set_is = frozenset(set23)\n",
    "\n",
    "# Step 4: Print the frozen set\n",
    "print(\"Frozen Set of set23 is:\", frozen_set_is)"
   ]
  },
  {
   "cell_type": "markdown",
   "id": "4d5372da",
   "metadata": {},
   "source": [
    "### 24. Check if a set is disjoint with another set."
   ]
  },
  {
   "cell_type": "code",
   "execution_count": 50,
   "id": "13fe04fd",
   "metadata": {},
   "outputs": [
    {
     "name": "stdout",
     "output_type": "stream",
     "text": [
      "set1 and set2 are disjoints\n"
     ]
    }
   ],
   "source": [
    "# Step 1: Define the two sets you want to check for disjointness\n",
    "isd_set1 = {1, 2, 3, 4}\n",
    "isd_set2 = {5, 6, 7, 8}\n",
    "\n",
    "# Step 2: Use the `isdisjoint()` method to check if the sets are disjoint\n",
    "# The `isdisjoint()` method returns True if the sets have no common elements,\n",
    "# and False if they have at least one common element.\n",
    "\n",
    "if isd_set1.isdisjoint(isd_set2)==True:\n",
    "    print(\"set1 and set2 are disjoints\")\n",
    "else:\n",
    "    print(\"sets are not disjoint\")"
   ]
  },
  {
   "cell_type": "markdown",
   "id": "7377f263",
   "metadata": {},
   "source": [
    "### 25. Create a set of squares of numbers from 1 to 5.\n"
   ]
  },
  {
   "cell_type": "code",
   "execution_count": 52,
   "id": "5536b6cc",
   "metadata": {},
   "outputs": [
    {
     "name": "stdout",
     "output_type": "stream",
     "text": [
      "{1, 4, 9, 16, 25}\n"
     ]
    }
   ],
   "source": [
    "# Step 1: Create an empty set to store the squares of numbers\n",
    "set25 = set()\n",
    "\n",
    "# Step 2: Use a loop to iterate through numbers from 1 to 5\n",
    "for i in range(1, 6):\n",
    "    # Step 3: Calculate the square of the current number\n",
    "    square = i**2\n",
    "\n",
    "    # Step 4: Add the square to the set\n",
    "    set25.add(square)\n",
    "\n",
    "print(set25)"
   ]
  },
  {
   "cell_type": "markdown",
   "id": "71f34b8e",
   "metadata": {},
   "source": [
    "### 26. Filter out all even numbers from a set."
   ]
  },
  {
   "cell_type": "code",
   "execution_count": 55,
   "id": "d45ba9ec",
   "metadata": {},
   "outputs": [
    {
     "name": "stdout",
     "output_type": "stream",
     "text": [
      "original Set: {1, 2, 3, 4, 5}\n",
      "Even Numbers Set: {2, 4}\n"
     ]
    }
   ],
   "source": [
    "set26 = {1, 2, 3, 4, 5}\n",
    "\n",
    "even_numbers_set = set()  \n",
    "\n",
    "for num in set26:\n",
    "    if num % 2 == 0:  #filtering even numbers from set\n",
    "        even_numbers_set.add(num)\n",
    "\n",
    "print(\"original Set:\", set26)\n",
    "print(\"Even Numbers Set:\", even_numbers_set)"
   ]
  },
  {
   "cell_type": "markdown",
   "id": "4d12451a",
   "metadata": {},
   "source": [
    "### 27. Multiply all elements in a set by 2."
   ]
  },
  {
   "cell_type": "code",
   "execution_count": 3,
   "id": "1b7d4d81",
   "metadata": {},
   "outputs": [
    {
     "name": "stdout",
     "output_type": "stream",
     "text": [
      "{2, 4, 6, 8, 10}\n"
     ]
    }
   ],
   "source": [
    "# Create a set with the first five numbers\n",
    "set27 = {1, 2, 3, 4, 5}\n",
    "\n",
    "# Convert the set to a list\n",
    "num_list = list(set27)\n",
    "\n",
    "# Multiply all elements in the list by 2\n",
    "for i in range(len(num_list)):\n",
    "    num_list[i] *= 2\n",
    "\n",
    "# Create a new set from the modified list\n",
    "multipled_set = set(num_list)\n",
    "\n",
    "print(multipled_set)\n"
   ]
  },
  {
   "cell_type": "markdown",
   "id": "6fcb0d39",
   "metadata": {},
   "source": [
    "### 28. Create a set of random numbers."
   ]
  },
  {
   "cell_type": "code",
   "execution_count": 6,
   "id": "e9a31f06",
   "metadata": {},
   "outputs": [
    {
     "name": "stdout",
     "output_type": "stream",
     "text": [
      "{99, 70, 8, 73, 14, 83, 21, 24, 57, 31}\n"
     ]
    }
   ],
   "source": [
    "import random\n",
    "\n",
    "# Set the number of random integers you want\n",
    "temp_set28 = 10\n",
    "\n",
    "# Create an empty set to store the random integers\n",
    "set28 = set()\n",
    "\n",
    "# Generate and add random integers to the set\n",
    "for i in range(temp_set28):\n",
    "    set28.add(random.randint(1, 100))\n",
    "\n",
    "print(set28)\n"
   ]
  },
  {
   "cell_type": "markdown",
   "id": "b663e4ba",
   "metadata": {},
   "source": [
    "### 29. Check if a set is empty."
   ]
  },
  {
   "cell_type": "code",
   "execution_count": 7,
   "id": "d699ee53",
   "metadata": {},
   "outputs": [
    {
     "name": "stdout",
     "output_type": "stream",
     "text": [
      "The set is empty.\n"
     ]
    }
   ],
   "source": [
    "# Step 1: Create a set (you can replace this with your own set)\n",
    "set29 = set()\n",
    "\n",
    "# Step 2: Check if the set is empty using the 'if' statement\n",
    "if not set29:\n",
    "    print(\"The set is empty.\")\n",
    "else:\n",
    "    print(\"The set is not empty.\")"
   ]
  },
  {
   "cell_type": "markdown",
   "id": "c4ac4954",
   "metadata": {},
   "source": [
    "### 30. Create a nested set (hint: use frozenset)."
   ]
  },
  {
   "cell_type": "code",
   "execution_count": 9,
   "id": "c9a1c457",
   "metadata": {},
   "outputs": [
    {
     "name": "stdout",
     "output_type": "stream",
     "text": [
      "Nested Set: {frozenset({1, 2, 3, 4, 5}), frozenset({6, 7, 8, 9, 10})}\n"
     ]
    }
   ],
   "source": [
    "# Step 1: Create the inner sets\n",
    "ns_set1 = {1, 2, 3, 4, 5}\n",
    "ns_set2 = {6, 7, 8, 9, 10}\n",
    "\n",
    "# Step 2: Create frozensets from the inner sets\n",
    "temp_set1 = frozenset(ns_set1)\n",
    "temp_set2 = frozenset(ns_set2)\n",
    "\n",
    "# Step 3: Create the nested set using the frozensets\n",
    "nested_set = {temp_set1, temp_set2}\n",
    "\n",
    "# Print the nested set\n",
    "print(\"Nested Set:\", nested_set)"
   ]
  },
  {
   "cell_type": "markdown",
   "id": "b119083b",
   "metadata": {},
   "source": [
    "### 31. Remove an element from a set using the discard method."
   ]
  },
  {
   "cell_type": "code",
   "execution_count": 12,
   "id": "f23d9dc4",
   "metadata": {},
   "outputs": [
    {
     "name": "stdout",
     "output_type": "stream",
     "text": [
      "before discarding set:   {1, 2, 3, 4, 5}\n",
      " after removing element:  3 : {1, 2, 4, 5}\n"
     ]
    }
   ],
   "source": [
    "set31 = {1, 2, 3, 4, 5}\n",
    "\n",
    "# Display the initial set\n",
    "print(\"before discarding set:  \", set31)\n",
    "\n",
    "# Define the element to be removed\n",
    "dis_elem = 3\n",
    "\n",
    "# If the element is not present in the set, discard() won't raise an error\n",
    "set31.discard(dis_elem)\n",
    "\n",
    "# Display the set after removing the element\n",
    "print(\" after removing element: \", dis_elem, \":\", set31)"
   ]
  },
  {
   "cell_type": "markdown",
   "id": "1b848390",
   "metadata": {},
   "source": [
    "### 32. Compare two sets."
   ]
  },
  {
   "cell_type": "code",
   "execution_count": 15,
   "id": "564edc97",
   "metadata": {},
   "outputs": [
    {
     "name": "stdout",
     "output_type": "stream",
     "text": [
      "Set 1: {1, 2, 4, 5, 53}\n",
      "Set 2: {4, 5, 6, 7, 8}\n",
      "Is set1 a subset of set2? False\n",
      "Is set2 a subset of set1? False\n",
      "Intersection: {4, 5}\n",
      "Union: {1, 2, 4, 5, 6, 7, 8, 53}\n",
      "Elements in set1 but not in set2: {1, 2, 53}\n",
      "Elements in set2 but not in set1: {8, 6, 7}\n"
     ]
    }
   ],
   "source": [
    "# Step 1: Define two sets\n",
    "comp_set1 = {1, 2, 53, 4, 5}\n",
    "comp_set2 = {4, 5, 6, 7, 8}\n",
    "\n",
    "# Check if set1 is a subset of set2\n",
    "is_subset = comp_set1.issubset(comp_set2)\n",
    "\n",
    "# Check if set2 is a subset of set1\n",
    "is_superset = comp_set1.issuperset(comp_set2)\n",
    "\n",
    "# Find the intersection of the sets\n",
    "intersection = comp_set1.intersection(comp_set2)\n",
    "\n",
    "# Find the union of the sets\n",
    "union = comp_set1.union(comp_set2)\n",
    "\n",
    "# Find the elements that are in set1 but not in set2\n",
    "difference1 = comp_set1.difference(comp_set2)\n",
    "\n",
    "difference2 = comp_set2.difference(comp_set1)\n",
    "# Step 3: Print the results\n",
    "print(\"Set 1:\", comp_set1)\n",
    "print(\"Set 2:\", comp_set2)\n",
    "print(\"Is set1 a subset of set2?\", is_subset)\n",
    "print(\"Is set2 a subset of set1?\", is_superset)\n",
    "print(\"Intersection:\", intersection)\n",
    "print(\"Union:\", union)\n",
    "print(\"Elements in set1 but not in set2:\", difference1)\n",
    "print(\"Elements in set2 but not in set1:\", difference2)"
   ]
  },
  {
   "cell_type": "markdown",
   "id": "c30b7e4e",
   "metadata": {},
   "source": [
    "### 33. Create a set from a string."
   ]
  },
  {
   "cell_type": "code",
   "execution_count": 19,
   "id": "b4740811",
   "metadata": {},
   "outputs": [
    {
     "name": "stdout",
     "output_type": "stream",
     "text": [
      "{'l', 'o', 'h', 'e'}\n"
     ]
    }
   ],
   "source": [
    "# Step 1: Define the input string\n",
    "string_set33 = \"hello\"\n",
    "\n",
    "# Step 2: Use the set() constructor to create a set from the characters in the string\n",
    "letter_set = set(string_set33)\n",
    "\n",
    "# Step 3: Print the resulting set\n",
    "print(letter_set)"
   ]
  },
  {
   "cell_type": "markdown",
   "id": "3f955039",
   "metadata": {},
   "source": [
    "### 34. Convert a set of strings to a set of integers."
   ]
  },
  {
   "cell_type": "code",
   "execution_count": 25,
   "id": "4fe6cf8e",
   "metadata": {},
   "outputs": [
    {
     "name": "stdout",
     "output_type": "stream",
     "text": [
      " String Set is:   {'456', '123', '789'}\n",
      "converted Integer set is:   {456, 123, 789}\n"
     ]
    }
   ],
   "source": [
    "set34 = {\"123\", \"456\", \"789\"}\n",
    "integer_set = set()\n",
    "\n",
    "for string in set34:\n",
    "    integer_value = int(string)\n",
    "\n",
    "    #  Adding the integer to the integer set\n",
    "    integer_set.add(integer_value)\n",
    "\n",
    "#  Printing the sets\n",
    "print(\" String Set is:  \",set34)\n",
    "print(\"converted Integer set is:  \", integer_set)"
   ]
  },
  {
   "cell_type": "markdown",
   "id": "a45ad83b",
   "metadata": {},
   "source": [
    "### 35. Convert a set of integers to a set of strings."
   ]
  },
  {
   "cell_type": "code",
   "execution_count": 27,
   "id": "321466f0",
   "metadata": {},
   "outputs": [
    {
     "name": "stdout",
     "output_type": "stream",
     "text": [
      " integer Set is:   {456, 12, 78}\n",
      "converted str set is:   {'456', '78', '12'}\n"
     ]
    }
   ],
   "source": [
    "set35 = {12, 456, 78}\n",
    "str_set = set()\n",
    "\n",
    "for string in set35:\n",
    "    str_value = str(string)\n",
    "\n",
    "    #  Adding the integer to the integer set\n",
    "    str_set.add(str_value)\n",
    "\n",
    "#  Printing the sets\n",
    "print(\" integer Set is:  \",set35)\n",
    "print(\"converted str set is:  \", str_set)"
   ]
  },
  {
   "cell_type": "markdown",
   "id": "ae05fa01",
   "metadata": {},
   "source": [
    "### 36. Create a set from a tuple."
   ]
  },
  {
   "cell_type": "code",
   "execution_count": 28,
   "id": "753cc5bb",
   "metadata": {},
   "outputs": [
    {
     "name": "stdout",
     "output_type": "stream",
     "text": [
      "{1, 2, 3, 4, 5}\n"
     ]
    }
   ],
   "source": [
    "tuple36 = (1, 2, 3, 2, 4, 5, 1)\n",
    "\n",
    "# Step 1: Convert the tuple to a set\n",
    "set36 = set(tuple36)\n",
    "\n",
    "# Step 2: Print the resulting set\n",
    "print(set36)"
   ]
  },
  {
   "cell_type": "markdown",
   "id": "66e320d8",
   "metadata": {},
   "source": [
    "### 37. Convert a set to a tuple."
   ]
  },
  {
   "cell_type": "code",
   "execution_count": 30,
   "id": "ba56241f",
   "metadata": {},
   "outputs": [
    {
     "name": "stdout",
     "output_type": "stream",
     "text": [
      "(1, 2, 3, 4, 5)\n"
     ]
    }
   ],
   "source": [
    "set37={1,2,3,4,5} \n",
    "temp_set37=tuple(set37)  #converting set37 into tuple\n",
    "print(temp_set37)   #printing converted set"
   ]
  },
  {
   "cell_type": "markdown",
   "id": "8e75073d",
   "metadata": {},
   "source": [
    "### 38. Find the maximum value in a set."
   ]
  },
  {
   "cell_type": "code",
   "execution_count": 57,
   "id": "b55fae76",
   "metadata": {},
   "outputs": [
    {
     "name": "stdout",
     "output_type": "stream",
     "text": [
      "Maximum value in set is:   22\n"
     ]
    }
   ],
   "source": [
    "# Define a set with some values\n",
    "set38 = {15, 7, 22, 13, 8}\n",
    "\n",
    "# Initialize a variable to store the maximum value\n",
    "max_value = None\n",
    "\n",
    "# Iterate through each element in the set\n",
    "for i in set38:\n",
    "    \n",
    "    if max_value is None or i>max_value:\n",
    "        max_value = i            # Update max_value with the current number if it's greater\n",
    "\n",
    "# Print the maximum value\n",
    "print(\"Maximum value in set is:  \", max_value)"
   ]
  },
  {
   "cell_type": "markdown",
   "id": "1aa8031a",
   "metadata": {},
   "source": [
    "### 39. Find the minimum value in a set."
   ]
  },
  {
   "cell_type": "code",
   "execution_count": 60,
   "id": "68b1fdd5",
   "metadata": {},
   "outputs": [
    {
     "name": "stdout",
     "output_type": "stream",
     "text": [
      "Minimum value in set is:   7\n"
     ]
    }
   ],
   "source": [
    "# Define a set with some values\n",
    "set39 = {15, 7, 22, 13, 8}\n",
    "\n",
    "# Initialize a variable to store the min value\n",
    "min_value = None\n",
    "\n",
    "# Iterate through each element in the set\n",
    "for i in set39:\n",
    "    \n",
    "    if min_value is None or i<min_value:\n",
    "        min_value = i            # Update min_value with the current number if it's lesser\n",
    "\n",
    "# Print the minimum value\n",
    "print(\"Minimum value in set is:  \", min_value)"
   ]
  },
  {
   "cell_type": "markdown",
   "id": "79138ae0",
   "metadata": {},
   "source": [
    "### 40. Create a set from user input."
   ]
  },
  {
   "cell_type": "code",
   "execution_count": 61,
   "id": "5ff771ae",
   "metadata": {},
   "outputs": [
    {
     "name": "stdout",
     "output_type": "stream",
     "text": [
      "Enter a space-separated list of values: 1 34 hello\n",
      "Set created from user input: {'34', 'hello', '1'}\n"
     ]
    }
   ],
   "source": [
    "str_set40 = input(\"Enter a space-separated list of values: \")\n",
    "\n",
    "# Split the input string into a list of values\n",
    "list_set40 = str_set40.split()\n",
    "\n",
    "# Create a set from the list of values\n",
    "user_set = set(list_set40)\n",
    "\n",
    "# Print the set created from user input\n",
    "print(\"Set created from user input is:     \", user_set)"
   ]
  },
  {
   "cell_type": "markdown",
   "id": "abf2af0b",
   "metadata": {},
   "source": [
    "### 41. Check if the intersection of two sets is empty."
   ]
  },
  {
   "cell_type": "code",
   "execution_count": 62,
   "id": "9ba73943",
   "metadata": {},
   "outputs": [
    {
     "name": "stdout",
     "output_type": "stream",
     "text": [
      "intersection of two sets is empty\n"
     ]
    }
   ],
   "source": [
    "# Step 1: Define two sets\n",
    "cncs_set1 = {1, 2, 3, 4}\n",
    "cncs_set2 = {5, 6, 7, 8}\n",
    "\n",
    "# Step 2: Check if the intersection of the two sets is empty\n",
    "# The intersection is the set of elements that are common to both sets\n",
    "common_elements = cncs_set1.intersection(cncs_set2)\n",
    "\n",
    "# Step 3: Check if the common_elements set is empty\n",
    "if not common_elements:\n",
    "    print(\"intersection of two sets is empty\")\n",
    "else:\n",
    "    print(\"intersection of two sets is not empty\", common_elements)"
   ]
  },
  {
   "cell_type": "markdown",
   "id": "9936b7db",
   "metadata": {},
   "source": [
    "### 42. Create a set of the first 5 Fibonacci numbers."
   ]
  },
  {
   "cell_type": "code",
   "execution_count": 66,
   "id": "6b612aa3",
   "metadata": {},
   "outputs": [
    {
     "name": "stdout",
     "output_type": "stream",
     "text": [
      "{0, 1, 2, 3, 5}\n"
     ]
    }
   ],
   "source": [
    "n=6\n",
    "fibonacci_set = [0, 1]                                      # Initializing the list with the first 2 Fibonacci numbers\n",
    "while len(fibonacci_set) < n:                               \n",
    "    next_number = fibonacci_set[-1] + fibonacci_set[-2]         # Calculate the next Fibonacci number\n",
    "    fibonacci_set.append(next_number)                        # Add the next Fibonacci number to the list\n",
    "                                         # Convert the list to a tuple and return it\n",
    "\n",
    "fibonacci_tuple_set = tuple(fibonacci_set)\n",
    "# Printing the converted tuple ie set\n",
    "print(set(fibonacci_tuple_set))"
   ]
  },
  {
   "cell_type": "markdown",
   "id": "0fd9b3df",
   "metadata": {},
   "source": [
    "### 43. Remove duplicates from a list using sets."
   ]
  },
  {
   "cell_type": "code",
   "execution_count": 67,
   "id": "85939823",
   "metadata": {},
   "outputs": [
    {
     "name": "stdout",
     "output_type": "stream",
     "text": [
      "{2, 3, 69, 123, 29}\n"
     ]
    }
   ],
   "source": [
    "set43=[2,2,3,3,29,69,69,123] #creating set\n",
    "temp_set43=set(set43) #removing duplicate values from set43\n",
    "print(temp_set43)"
   ]
  },
  {
   "cell_type": "markdown",
   "id": "6584b0d4",
   "metadata": {},
   "source": [
    "### 44. Check if two sets have the same elements, regardless of their count."
   ]
  },
  {
   "cell_type": "code",
   "execution_count": 69,
   "id": "ee8127b3",
   "metadata": {},
   "outputs": [
    {
     "name": "stdout",
     "output_type": "stream",
     "text": [
      " sets have the same elements.\n"
     ]
    }
   ],
   "source": [
    "# Define two sets\n",
    "set1={1, 2, 3, 4, 5}\n",
    "set2={5, 4, 3, 2, 1}\n",
    "\n",
    "# Check if the sets have the same elements regardless of order\n",
    "if set1 == set2:\n",
    "    print(\" sets have the same elements.\")\n",
    "else:\n",
    "    print(\"sets do not have the same elements.\")\n"
   ]
  },
  {
   "cell_type": "markdown",
   "id": "895bab57",
   "metadata": {},
   "source": [
    "### 45. Create a set of the first `n` powers of 2."
   ]
  },
  {
   "cell_type": "code",
   "execution_count": 72,
   "id": "5f9db85e",
   "metadata": {},
   "outputs": [
    {
     "name": "stdout",
     "output_type": "stream",
     "text": [
      "Enter the value of n:   5\n",
      "Set of the first 5 powers of 2 is:    {1, 2, 4, 8, 16}\n"
     ]
    }
   ],
   "source": [
    "n = int(input(\"Enter the value of n:   \"))  # Prompt the user for n\n",
    "\n",
    "powerof_2_set = set()  # Initialize an empty set to store the powers of 2\n",
    "\n",
    "for i in range(n):\n",
    "    powerof_2 = 2 ** i  # Calculate 2 to the power of i\n",
    "    powerof_2_set.add(powerof_2)  # Add it to the set\n",
    "\n",
    "print(\"Set of the first\", n, \"powers of 2 is:   \", powerof_2_set)"
   ]
  },
  {
   "cell_type": "markdown",
   "id": "8251e9b6",
   "metadata": {},
   "source": [
    "### 46. Find the common elements between a set and a list."
   ]
  },
  {
   "cell_type": "code",
   "execution_count": 75,
   "id": "5c40ac1b",
   "metadata": {},
   "outputs": [
    {
     "name": "stdout",
     "output_type": "stream",
     "text": [
      "Common elements between set and list are:   [3, 4, 5]\n"
     ]
    }
   ],
   "source": [
    "# Define a set and a list\n",
    "set46 = {1, 2, 3, 4, 5}\n",
    "my_list = [3, 4, 5, 6, 7]\n",
    "\n",
    "# Find the common elements using set intersection\n",
    "common_elements_set = set46.intersection(my_list)\n",
    "\n",
    "# Convert the result to a list if needed\n",
    "common_elements_list = list(common_elements_set)\n",
    "\n",
    "print(\"Common elements between set and list are:  \", common_elements_list)\n"
   ]
  },
  {
   "cell_type": "markdown",
   "id": "832d3d3b",
   "metadata": {},
   "source": [
    "### 47. Create a set of the first `n` triangular numbers."
   ]
  },
  {
   "cell_type": "code",
   "execution_count": 77,
   "id": "f374bd25",
   "metadata": {},
   "outputs": [
    {
     "name": "stdout",
     "output_type": "stream",
     "text": [
      "Enter the value of n: 9\n",
      "Set of the first 9 triangular numbers: {1, 3, 36, 6, 10, 45, 15, 21, 28}\n"
     ]
    }
   ],
   "source": [
    "n = int(input(\"Enter the value of n: \"))  #taking input from user\n",
    "\n",
    "set47 = set()  # Initialize an empty set to store the triangular numbers\n",
    "\n",
    "for i in range(1, n + 1):\n",
    "    triangular_number = (i * (i + 1)) // 2  # Calculate the i-th triangular number\n",
    "    set47.add(triangular_number)  # Add it to the set\n",
    "\n",
    "print(\"Set of the first\", n, \"triangular numbers:\", set47)\n"
   ]
  },
  {
   "cell_type": "markdown",
   "id": "8e821be5",
   "metadata": {},
   "source": [
    "### 48. Check if a set contains another set as a subset."
   ]
  },
  {
   "cell_type": "code",
   "execution_count": 79,
   "id": "44b151c1",
   "metadata": {},
   "outputs": [
    {
     "name": "stdout",
     "output_type": "stream",
     "text": [
      "set2 is a subset of set1\n"
     ]
    }
   ],
   "source": [
    "# Define the sets\n",
    "ss_set1_48 = {1, 2, 3, 4, 5}\n",
    "ss_set2_48 = {2, 3,4}\n",
    "\n",
    "# Check if set2 is a subset of set1\n",
    "is_subset = ss_set2_48 <= ss_set1_48\n",
    "\n",
    "if is_subset:\n",
    "    print(\"set2 is a subset of set1\")\n",
    "else:\n",
    "    print(\"set2 is not a subset of set1\")\n"
   ]
  },
  {
   "cell_type": "markdown",
   "id": "30dd9383",
   "metadata": {},
   "source": [
    "### 49. Create a set of alternating 1s and 0s of length `n`."
   ]
  },
  {
   "cell_type": "code",
   "execution_count": 81,
   "id": "6f9dd103",
   "metadata": {},
   "outputs": [
    {
     "name": "stdout",
     "output_type": "stream",
     "text": [
      "enter the length of n: 7\n",
      "set of alternating 1s and 0s is: {0, 1}\n"
     ]
    }
   ],
   "source": [
    "\n",
    "n = int(input(\"enter the length of n: \"))\n",
    "\n",
    "# Create a tuple of alternating 1s and 0s using a list comprehension\n",
    "set49 = tuple(i % 2 for i in range(n))\n",
    "temp_set49=set(set49)\n",
    "# Print the tuple of alternating 1s and 0s\n",
    "print(\"set of alternating 1s and 0s is:\", temp_set49)\n"
   ]
  },
  {
   "cell_type": "markdown",
   "id": "2dba0cac",
   "metadata": {},
   "source": [
    "### 50. Merge multiple sets into one."
   ]
  },
  {
   "cell_type": "code",
   "execution_count": 82,
   "id": "e1d84f27",
   "metadata": {},
   "outputs": [
    {
     "name": "stdout",
     "output_type": "stream",
     "text": [
      "Merged Set of set1,set2,set3 is:   {1, 2, 3, 34, 5, 4, 6, 7, 333}\n"
     ]
    }
   ],
   "source": [
    "# Step 1: Create multiple sets\n",
    "set1 = {1,2,3,34}\n",
    "set2 = {3,4,5,333}\n",
    "set3 = {5,6,7}\n",
    "\n",
    "# Step 2: Use the union() method to merge sets\n",
    "merge_set = set1.union(set2, set3)\n",
    "\n",
    "# Step 3: Print the merged set\n",
    "print(\"Merged Set of set1,set2,set3 is:  \", merge_set)"
   ]
  }
 ],
 "metadata": {
  "kernelspec": {
   "display_name": "Python 3 (ipykernel)",
   "language": "python",
   "name": "python3"
  },
  "language_info": {
   "codemirror_mode": {
    "name": "ipython",
    "version": 3
   },
   "file_extension": ".py",
   "mimetype": "text/x-python",
   "name": "python",
   "nbconvert_exporter": "python",
   "pygments_lexer": "ipython3",
   "version": "3.10.5"
  }
 },
 "nbformat": 4,
 "nbformat_minor": 5
}
