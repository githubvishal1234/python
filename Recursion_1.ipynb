{
 "cells": [
  {
   "cell_type": "markdown",
   "id": "f861ff12",
   "metadata": {},
   "source": [
    "## Assignment"
   ]
  },
  {
   "cell_type": "markdown",
   "id": "16aabc18",
   "metadata": {},
   "source": [
    "### Q.1 Can you explain the logic and working of the Tower of Hanoi algorithm by writing a Java program? How does the recursion work, and how are the movements of disks between rods accomplished?"
   ]
  },
  {
   "cell_type": "markdown",
   "id": "f5d79b46",
   "metadata": {},
   "source": [
    " The Tower of Hanoi problem is a classic example of recursion in computer science. The problem involves three rods and a number of disks of different sizes which can slide onto any rod. The objective is to move the entire stack of disks from one rod to another, obeying the following rules:\n",
    "\n",
    "1.) Only one disk can be moved at a time \n",
    "2.) A disk can only be placed on top of a larger disk or an empty rod \n",
    "3.) No disk may be placed on top of a smaller disk "
   ]
  },
  {
   "cell_type": "markdown",
   "id": "a5cc0e93",
   "metadata": {},
   "source": [
    "Example:"
   ]
  },
  {
   "cell_type": "markdown",
   "id": "13c37817",
   "metadata": {},
   "source": [
    "public class TowerOfHanoi {\n",
    "\n",
    "    // Function to solve Tower of Hanoi problem\n",
    "    public static void towerOfHanoi(int numDisks, char fromRod, char toRod, char auxRod) {\n",
    "        if (numDisks == 1) {\n",
    "            System.out.println(\"Move disk 1 from rod \" + fromRod + \" to rod \" + toRod);\n",
    "            return;\n",
    "        }\n",
    "\n",
    "        towerOfHanoi(numDisks - 1, fromRod, auxRod, toRod);\n",
    "        System.out.println(\"Move disk \" + numDisks + \" from rod \" + fromRod + \" to rod \" + toRod);\n",
    "        towerOfHanoi(numDisks - 1, auxRod, toRod, fromRod);\n",
    "    }\n",
    "\n",
    "    public static void main(String[] args) {\n",
    "        int numDisks = 3; // Number of disks\n",
    "        char fromRod = 'A', toRod = 'C', auxRod = 'B'; // Rods\n",
    "\n",
    "        System.out.println(\"Moves to solve Tower of Hanoi with \" + numDisks + \" disks:\");\n",
    "        towerOfHanoi(numDisks, fromRod, toRod, auxRod);\n",
    "    }\n",
    "}"
   ]
  },
  {
   "cell_type": "markdown",
   "id": "297e029e",
   "metadata": {},
   "source": [
    "Explanation"
   ]
  },
  {
   "cell_type": "markdown",
   "id": "89f616d5",
   "metadata": {},
   "source": [
    "The function is called recursively and takes four arguments: numDisks (the number of disks to move), fromRod (the rod from which disks are to be moved), toRod (the rod to which disks are to be moved), and auxRod (the auxiliary rod used for the movement).\n",
    "\n",
    "Base case: If there's only one disk to move, it directly moves the disk from the fromRod to the toRod.\n",
    "\n",
    "Recursive case: It breaks down the problem into smaller subproblems. It moves numDisks - 1 disks from the fromRod to the auxRod, then moves the remaining largest disk from fromRod to toRod, and finally moves the numDisks - 1 disks from auxRod to toRod."
   ]
  },
  {
   "cell_type": "markdown",
   "id": "7e6852fa",
   "metadata": {},
   "source": [
    "Recursion follows the principle of solving smaller subproblems until reaching the base case, and then combining solutions to the subproblems to solve the larger problem.movements of disks between rods are accomplished by making recursive calls that adhere to the rules of the Tower of Hanoi problem: moving smaller disks onto larger disks and utilizing an auxiliary rod for intermediary movements."
   ]
  },
  {
   "cell_type": "markdown",
   "id": "27f85527",
   "metadata": {},
   "source": [
    "### Q.2 Given two strings word1 and word2, return the minimum number of operations required to convert word1"
   ]
  },
  {
   "cell_type": "markdown",
   "id": "2f3dc409",
   "metadata": {},
   "source": [
    "Example 1:\n",
    "Input: word1 = \"horse\", word2 = \"ros\"\n",
    "Output: 3\n",
    "Explanation:\n",
    "horse -> rorse (replace 'h' with 'r')\n",
    "rorse -> rose (remove 'r')\n",
    "rose -> ros (remove 'e')\n",
    "Example 2:\n",
    "Input: word1 = \"intention\", word2 = \"execution\"\n",
    "Output: 5\n",
    "Explanation:\n",
    "intention -> inention (remove 't')\n",
    "inention -> enention (replace 'i' with 'e')\n",
    "enention -> exention (replace 'n' with 'x')\n",
    "exention -> exection (replace 'n' with 'c')\n",
    "exection -> execution (insert 'u')"
   ]
  },
  {
   "cell_type": "markdown",
   "id": "67281dde",
   "metadata": {},
   "source": [
    "The  problem which we are solving is known as the \"Edit Distance\" problem. It involves finding the minimum number of operations (insertion, deletion, or substitution) required to convert one string into another"
   ]
  },
  {
   "cell_type": "markdown",
   "id": "6977bac3",
   "metadata": {},
   "source": [
    "public class EditDistance {\n",
    "\n",
    "    public static int minDistance(String word1, String word2) {\n",
    "        return minDistanceRecursive(word1, word2, word1.length(), word2.length());\n",
    "    }\n",
    "\n",
    "    private static int minDistanceRecursive(String word1, String word2, int m, int n) {\n",
    "        if (m == 0) {\n",
    "            return n; // If word1 is empty, insert characters of word2\n",
    "        }\n",
    "        if (n == 0) {\n",
    "            return m; // If word2 is empty, delete characters of word1\n",
    "        }\n",
    "\n",
    "        if (word1.charAt(m - 1) == word2.charAt(n - 1)) {\n",
    "            return minDistanceRecursive(word1, word2, m - 1, n - 1); // Characters match, no operation needed\n",
    "        }\n",
    "\n",
    "        int replace = minDistanceRecursive(word1, word2, m - 1, n - 1); // Replace\n",
    "        int insert = minDistanceRecursive(word1, word2, m, n - 1); // Insert\n",
    "        int delete = minDistanceRecursive(word1, word2, m - 1, n); // Delete\n",
    "\n",
    "        return 1 + Math.min(replace, Math.min(insert, delete));\n",
    "    }\n",
    "\n",
    "    public static void main(String[] args) {\n",
    "        String word1 = \"horse\";\n",
    "        String word2 = \"ros\";\n",
    "        System.out.println(\"Output for word1 = \\\"horse\\\" and word2 = \\\"ros\\\": \" + minDistance(word1, word2));\n",
    "\n",
    "        String word3 = \"intention\";\n",
    "        String word4 = \"execution\";\n",
    "        System.out.println(\"Output for word1 = \\\"intention\\\" and word2 = \\\"execution\\\": \" + minDistance(word3, word4));\n",
    "    }\n",
    "}"
   ]
  },
  {
   "cell_type": "markdown",
   "id": "9f2800df",
   "metadata": {},
   "source": [
    " \"Edit Distance\" problem using a recursive approach in Java:java Copy code"
   ]
  },
  {
   "cell_type": "markdown",
   "id": "0b23ee16",
   "metadata": {},
   "source": [
    "###  Print the max value of the array [ 13, 1, -3, 22, 5]."
   ]
  },
  {
   "cell_type": "markdown",
   "id": "6d158943",
   "metadata": {},
   "source": [
    "// printing maximum value of the array\n",
    "\n",
    "public class MaxValueOfArray {\n",
    "    public static void main(String[] args) {\n",
    "        int[] array = {13, 1, -3, 22, 5};\n",
    "\n",
    "        int max = array[0]; // Assuming the first element is the maximum initially\n",
    "\n",
    "        for (int i = 1; i < array.length; i++) {\n",
    "            if (array[i] > max) {\n",
    "                max = array[i]; // Update max if a larger value is found\n",
    "            }\n",
    "        }\n",
    "\n",
    "        System.out.println(\"The maximum value in the array is: \" + max);\n",
    "    }\n",
    "}"
   ]
  },
  {
   "cell_type": "markdown",
   "id": "fb00b191",
   "metadata": {},
   "source": [
    "output:"
   ]
  },
  {
   "cell_type": "markdown",
   "id": "c558ebef",
   "metadata": {},
   "source": [
    "The maximum value in the array is: 22"
   ]
  },
  {
   "cell_type": "markdown",
   "id": "9f49bc82",
   "metadata": {},
   "source": [
    "### Find the sum of the values of the array [92, 23, 15, -20, 10]."
   ]
  },
  {
   "cell_type": "markdown",
   "id": "ae5362f2",
   "metadata": {},
   "source": [
    "// finding the sum of the array[92,23,15,-20,10]\n",
    "\n",
    "public class SumOfArray {\n",
    "    public static void main(String[] args) {\n",
    "        int[] array = {92, 23, 15, -20, 10};\n",
    "        \n",
    "        int sum = 0; // Variable to store the sum of array values\n",
    "        \n",
    "        for (int i = 0; i < array.length; i++) {\n",
    "            sum += array[i]; // Adding each element to the sum\n",
    "        }\n",
    "        \n",
    "        System.out.println(\"The sum of the values in the array is: \" + sum);\n",
    "    }\n",
    "}"
   ]
  },
  {
   "cell_type": "markdown",
   "id": "5396f728",
   "metadata": {},
   "source": [
    "output:  \n",
    "The sum of the values in the array is: 120"
   ]
  },
  {
   "cell_type": "markdown",
   "id": "7f55d463",
   "metadata": {},
   "source": [
    "### Given a number n. Print if it is an armstrong number or not.An armstrong number is a number if the sum of every digit in that number raised to the power of total digits in that number is equal to the number.Q.5 Given a number n. Print if it is an armstrong number or not.An armstrong number is a number if the sum of every digit in that number raised to the power of total digits in that number is equal to the number."
   ]
  },
  {
   "cell_type": "markdown",
   "id": "120542f4",
   "metadata": {},
   "source": [
    "Example : 153 = 1^3 + 5^3 + 3^3 = 1 + 125 + 27 = 153 hence 153 is an armstrong number. (Easy)\n",
    "Input1 : 153\n",
    "Output1 : Yes\n",
    "Input 2 : 134\n",
    "Output2 : No"
   ]
  },
  {
   "cell_type": "markdown",
   "id": "d16dd27f",
   "metadata": {},
   "source": [
    "    public class ArmstrongNumber {\n",
    "\n",
    "    public static boolean isArmstrong(int number){\n",
    "    \n",
    "        int originalNumber = number;\n",
    "        int numDigits = String.valueOf(number).length();\n",
    "        int sum = 0;\n",
    "\n",
    "        while (number > 0) {\n",
    "            int digit = number % 10;\n",
    "            sum += Math.pow(digit, numDigits);\n",
    "            number /= 10;\n",
    "        }\n",
    "\n",
    "        return sum == originalNumber;\n",
    "    }\n",
    "\n",
    "    public static void main(String[] args) {\n",
    "        int input1 = 153;\n",
    "        int input2 = 134;\n",
    "\n",
    "        System.out.println(\"Input1: \" + input1);\n",
    "        System.out.println(\"Output1: \" + (isArmstrong(input1) ? \"Yes\" : \"No\"));\n",
    "\n",
    "        System.out.println(\"Input2: \" + input2);\n",
    "        System.out.println(\"Output2: \" + (isArmstrong(input2) ? \"Yes\" : \"No\"));\n",
    "    }}"
   ]
  },
  {
   "cell_type": "markdown",
   "id": "06bf5428",
   "metadata": {},
   "source": [
    "output:\n",
    "\n",
    "Input1: 153  \n",
    "Output1: Yes  \n",
    "Input2: 134  \n",
    "Output2: No  "
   ]
  }
 ],
 "metadata": {
  "kernelspec": {
   "display_name": "Python 3 (ipykernel)",
   "language": "python",
   "name": "python3"
  },
  "language_info": {
   "codemirror_mode": {
    "name": "ipython",
    "version": 3
   },
   "file_extension": ".py",
   "mimetype": "text/x-python",
   "name": "python",
   "nbconvert_exporter": "python",
   "pygments_lexer": "ipython3",
   "version": "3.10.5"
  }
 },
 "nbformat": 4,
 "nbformat_minor": 5
}
