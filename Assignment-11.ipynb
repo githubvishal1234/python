{
 "cells": [
  {
   "cell_type": "markdown",
   "id": "ea18d619",
   "metadata": {},
   "source": [
    "Problem 1.Given an array of n numbers, give an algorithm which gives the element appearing maximum\n",
    "number of times?"
   ]
  },
  {
   "cell_type": "code",
   "execution_count": 1,
   "id": "449740a1",
   "metadata": {},
   "outputs": [
    {
     "name": "stdout",
     "output_type": "stream",
     "text": [
      "the element appearing maximum number of times is: [2]\n"
     ]
    }
   ],
   "source": [
    "def fun(arr):\n",
    "    #creating a dictionary  to store the frequency of each element\n",
    "    frequency_map = {}\n",
    "    \n",
    "    #iterating through the array and update the frequency map\n",
    "    for num in arr:\n",
    "        if num in frequency_map:\n",
    "            frequency_map[num] += 1\n",
    "        else:\n",
    "            frequency_map[num] = 1\n",
    "    \n",
    "    #find the element with the maximum frequency\n",
    "    max_frequency = max(frequency_map.values())\n",
    "    most_frequent_elements = [key for key, value in frequency_map.items() if value == max_frequency]\n",
    "    \n",
    "    return most_frequent_elements\n",
    "\n",
    "arr = [1, 2, 3, 2, 2, 4, 5, 2, 6, 4, 4]\n",
    "result = fun(arr)\n",
    "print(\"the element appearing maximum number of times is:\", result)"
   ]
  },
  {
   "cell_type": "markdown",
   "id": "eeb2303e",
   "metadata": {},
   "source": [
    "Problem 2 : We are given a list of n-1 integers and these integers are in the range of 1 to n . There are no\n",
    "duplicates in the list. One of the integers is missing in the list. Give an algorithm to find that element Ex:\n",
    "[1,2,4,6,3,7,8] 5 is the missing num."
   ]
  },
  {
   "cell_type": "code",
   "execution_count": 2,
   "id": "9b033fc1",
   "metadata": {},
   "outputs": [
    {
     "name": "stdout",
     "output_type": "stream",
     "text": [
      "The missing element is: 5\n"
     ]
    }
   ],
   "source": [
    "def find_missing_element(nums):\n",
    "    n = len(nums) + 1  # the range is from 1 to n, so there are n elements\n",
    "    expected_sum = (n * (n + 1)) // 2\n",
    "    actual_sum = sum(nums)\n",
    "    missing_element = expected_sum - actual_sum\n",
    "    return missing_element\n",
    "\n",
    "arr = [1, 2, 4, 6, 3, 7, 8]\n",
    "result = find_missing_element(arr)\n",
    "print(\"The missing element is:\", result)"
   ]
  },
  {
   "cell_type": "markdown",
   "id": "be119e33",
   "metadata": {},
   "source": [
    "Problem 3 : Given an array of n positive numbers. All numbers occurs even number of times except 1 which\n",
    "occurs odd number of times. Find that number in O(n) time and O(1) space. Ex: [1,2,3,2,3,1,3]. 3 is repeats odd\n",
    "times."
   ]
  },
  {
   "cell_type": "code",
   "execution_count": 3,
   "id": "5ff22848",
   "metadata": {},
   "outputs": [
    {
     "name": "stdout",
     "output_type": "stream",
     "text": [
      "The number occurring odd number of times is: 3\n"
     ]
    }
   ],
   "source": [
    "def find_odd_occurrence(arr):\n",
    "    element_set = set()\n",
    "\n",
    "    for num in arr:\n",
    "        if num in element_set:\n",
    "            element_set.remove(num)\n",
    "        else:\n",
    "            element_set.add(num)\n",
    "\n",
    "    # at the end, the set should contain only the element occurring an odd number of times\n",
    "    return element_set.pop()\n",
    "\n",
    "\n",
    "arr = [1, 2, 3, 2, 3, 1, 3]\n",
    "result = find_odd_occurrence(arr)\n",
    "print(\"The number occurring odd number of times is:\", result)\n"
   ]
  },
  {
   "cell_type": "markdown",
   "id": "78c2e557",
   "metadata": {},
   "source": [
    "Problem 4 : Given an array of n elements. Find two elements in the array such that their sum is equal to given\n",
    "element K."
   ]
  },
  {
   "cell_type": "code",
   "execution_count": 4,
   "id": "b08373a2",
   "metadata": {},
   "outputs": [
    {
     "name": "stdout",
     "output_type": "stream",
     "text": [
      "Pair with sum 9 is: (5, 4)\n"
     ]
    }
   ],
   "source": [
    "def find_pair_with_sum(arr, K):\n",
    "    seen_elements = set()\n",
    "\n",
    "    for num in arr:\n",
    "        target = K - num\n",
    "        if target in seen_elements:\n",
    "            return num, target\n",
    "        seen_elements.add(num)\n",
    "\n",
    "    # return None if no such pair is found\n",
    "    return None\n",
    "\n",
    "\n",
    "arr = [1, 2, 3, 4, 5, 6]\n",
    "K = 9\n",
    "result = find_pair_with_sum(arr, K)\n",
    "\n",
    "if result:\n",
    "    print(\"Pair with sum\", K, \"is:\", result)\n",
    "else:\n",
    "    print(\"No pair with sum\", K, \"found.\")\n"
   ]
  },
  {
   "cell_type": "markdown",
   "id": "90b99940",
   "metadata": {},
   "source": [
    "Problem 5 : Given an array of both positive and negative numbers, find two numbers such that their sum is\n",
    "closest to 0. Ex: [ 1 ,60 ,-10, 70, -80,85]. Ans : -80,85."
   ]
  },
  {
   "cell_type": "code",
   "execution_count": 5,
   "id": "9a92eb43",
   "metadata": {},
   "outputs": [
    {
     "name": "stdout",
     "output_type": "stream",
     "text": [
      "Pair with sum closest to zero is: (-10, 1)\n"
     ]
    }
   ],
   "source": [
    "def bubblesort(arr):\n",
    "    n = len(arr)\n",
    "    for i in range(n):\n",
    "        for j in range(0, n-i-1):\n",
    "            if arr[j] > arr[j+1]:\n",
    "                arr[j], arr[j+1] = arr[j+1], arr[j]\n",
    "\n",
    "def find_closest_to_zero_pair_bubblesort(arr):\n",
    "    bubblesort(arr)\n",
    "\n",
    "    # initialize variables to track the pair with the closest sum to zero\n",
    "    closest_sum = float('inf')\n",
    "    closest_pair = None\n",
    "\n",
    "    for i in range(len(arr) - 1):\n",
    "        current_sum = arr[i] + arr[i + 1]\n",
    "\n",
    "        # check if the current pair has a closer sum to zero\n",
    "        if abs(current_sum) < abs(closest_sum):\n",
    "            closest_sum = current_sum\n",
    "            closest_pair = (arr[i], arr[i + 1])\n",
    "\n",
    "    return closest_pair\n",
    "\n",
    "\n",
    "arr = [1, 60, -10, 70, -80, 85]\n",
    "result = find_closest_to_zero_pair_bubblesort(arr)\n",
    "print(\"Pair with sum closest to zero is:\", result)"
   ]
  },
  {
   "cell_type": "markdown",
   "id": "531ffd41",
   "metadata": {},
   "source": [
    "Problem 6 : Given an array of n elements . Find three elements such that their sum is equal to the given\n",
    "number."
   ]
  },
  {
   "cell_type": "code",
   "execution_count": 6,
   "id": "267deb58",
   "metadata": {},
   "outputs": [
    {
     "name": "stdout",
     "output_type": "stream",
     "text": [
      "three elements with sum 16 are: (1, 5, 10)\n"
     ]
    }
   ],
   "source": [
    "def bubblesort(arr):\n",
    "    for i in range(len(arr)-1,0,-1):\n",
    "        for j in range(i):\n",
    "            if arr[j]>arr[j+1]:\n",
    "                arr[j],arr[j+1]=arr[j+1],arr[j]\n",
    "                \n",
    "def find_three_elements_with_sum_optimized(arr, target_sum):\n",
    "    bubblesort(arr)\n",
    "    for i in range(len(arr) - 2):\n",
    "        left, right = i + 1, len(arr) - 1\n",
    "\n",
    "        while left < right:\n",
    "            current_sum = arr[i] + arr[left] + arr[right]\n",
    "\n",
    "            if current_sum == target_sum:\n",
    "                return arr[i], arr[left], arr[right]\n",
    "            elif current_sum < target_sum:\n",
    "                left += 1\n",
    "            else:\n",
    "                right -= 1\n",
    "\n",
    "    # return None if no such triplet is found\n",
    "    return None\n",
    "\n",
    "\n",
    "arr = [1, 4, 2, 10, 5, 7, 3]\n",
    "target_sum = 16\n",
    "result = find_three_elements_with_sum_optimized(arr, target_sum)\n",
    "\n",
    "if result:\n",
    "    print(\"three elements with sum\", target_sum, \"are:\", result)\n",
    "else:\n",
    "    print(\"no such triplet found.\")\n"
   ]
  },
  {
   "cell_type": "markdown",
   "id": "38af955a",
   "metadata": {},
   "source": [
    "Problem 7 : Given an array of n elements . Find three elements i, j, k in the array such that\n",
    "i * i + j * j = k*k."
   ]
  },
  {
   "cell_type": "code",
   "execution_count": 7,
   "id": "96af17f4",
   "metadata": {},
   "outputs": [
    {
     "name": "stdout",
     "output_type": "stream",
     "text": [
      "Triplet found: (3, 4, 5)\n"
     ]
    }
   ],
   "source": [
    "def find_triplet_with_square_sum(arr):\n",
    "    bubblesort(arr)\n",
    "\n",
    "    n = len(arr)\n",
    "\n",
    "    for k in range(n - 1, 1, -1):\n",
    "        left, right = 0, k - 1\n",
    "\n",
    "        while left < right:\n",
    "            square_sum = arr[left] ** 2 + arr[right] ** 2\n",
    "\n",
    "            if square_sum == arr[k] ** 2:\n",
    "                return arr[left], arr[right], arr[k]\n",
    "            elif square_sum < arr[k] ** 2:\n",
    "                left += 1\n",
    "            else:\n",
    "                right -= 1\n",
    "\n",
    "    # return None if no such triplet is found\n",
    "    return None\n",
    "\n",
    "\n",
    "arr = [3, 1, 4, 6, 5]\n",
    "result = find_triplet_with_square_sum(arr)\n",
    "\n",
    "if result:\n",
    "    print(\"Triplet found:\", result)\n",
    "else:\n",
    "    print(\"No such triplet found.\")\n"
   ]
  },
  {
   "cell_type": "markdown",
   "id": "474f62c6",
   "metadata": {},
   "source": [
    "Problem 8 : An element is a majority if it appears more than n/2 times. Give an algorithm takes an array of n\n",
    "element as argument and identifies a majority (if it exists)."
   ]
  },
  {
   "cell_type": "code",
   "execution_count": 8,
   "id": "3df3e62b",
   "metadata": {},
   "outputs": [
    {
     "name": "stdout",
     "output_type": "stream",
     "text": [
      "Majority element is: 4\n"
     ]
    }
   ],
   "source": [
    "def find_majority_element(arr):\n",
    "    candidate = None\n",
    "    count = 0\n",
    "\n",
    "    for num in arr:\n",
    "        if count == 0:\n",
    "            candidate = num\n",
    "            count = 1\n",
    "        elif candidate == num:\n",
    "            count += 1\n",
    "        else:\n",
    "            count -= 1\n",
    "\n",
    "    # verify if the candidate is the majority element\n",
    "    count_candidate = arr.count(candidate)\n",
    "    if count_candidate > len(arr) // 2:\n",
    "        return candidate\n",
    "    else:\n",
    "        return None\n",
    "\n",
    "\n",
    "arr = [3, 3, 4, 2, 4, 4, 2, 4, 4]\n",
    "result = find_majority_element(arr)\n",
    "\n",
    "if result:\n",
    "    print(\"Majority element is:\", result)\n",
    "else:\n",
    "    print(\"No majority element found.\")\n"
   ]
  },
  {
   "cell_type": "markdown",
   "id": "0d6cd058",
   "metadata": {},
   "source": [
    "Problem 9 : Given n × n matrix, and in each row all 1’s are followed by 0’s. Find the row with the maximum\n",
    "number of 0’s."
   ]
  },
  {
   "cell_type": "code",
   "execution_count": 9,
   "id": "8502cca3",
   "metadata": {},
   "outputs": [
    {
     "name": "stdout",
     "output_type": "stream",
     "text": [
      "Row with the maximum number of zeros is: 4\n"
     ]
    }
   ],
   "source": [
    "def find_row_with_max_zeros(matrix):\n",
    "    max_zeros_row = -1\n",
    "    max_zeros_count = -1\n",
    "\n",
    "    for i, row in enumerate(matrix):\n",
    "        zeros_count = row.count(0)\n",
    "\n",
    "        if zeros_count > max_zeros_count:\n",
    "            max_zeros_count = zeros_count\n",
    "            max_zeros_row = i\n",
    "\n",
    "    return max_zeros_row\n",
    "\n",
    "\n",
    "matrix = [\n",
    "    [1, 1, 1, 0, 0],\n",
    "    [1, 1, 0, 0, 0],\n",
    "    [1, 1, 1, 1, 0],\n",
    "    [1, 1, 0, 0, 0],\n",
    "    [1, 0, 0, 0, 0]\n",
    "]\n",
    "\n",
    "result = find_row_with_max_zeros(matrix)\n",
    "print(\"Row with the maximum number of zeros is:\", result)\n"
   ]
  },
  {
   "cell_type": "markdown",
   "id": "baa90761",
   "metadata": {},
   "source": [
    "Problem 10 : Sort an array of 0’s, 1’s and 2’s [or R’s, G’s and B’s]: Given an array A[] consisting of 0’s, 1’s and\n",
    "2’s, give an algorithm for sorting A[].The algorithm should put all 0’s first, then all 1’s and finally all 2’s at the\n",
    "end. Example Input = {0,1,1,0,1,2,1,2,0,0,0,1}, Output = {0,0,0,0,0,1,1,1,1,1,2,2}"
   ]
  },
  {
   "cell_type": "code",
   "execution_count": 10,
   "id": "7811717e",
   "metadata": {},
   "outputs": [
    {
     "name": "stdout",
     "output_type": "stream",
     "text": [
      "Sorted array: [0, 0, 0, 0, 0, 1, 1, 1, 1, 1, 2, 2]\n"
     ]
    }
   ],
   "source": [
    "def sort_colors(arr):\n",
    "    low, mid, high = 0, 0, len(arr) - 1\n",
    "\n",
    "    while mid <= high:\n",
    "        if arr[mid] == 0:\n",
    "            arr[low], arr[mid] = arr[mid], arr[low]\n",
    "            low += 1\n",
    "            mid += 1\n",
    "        elif arr[mid] == 1:\n",
    "            mid += 1\n",
    "        else:\n",
    "            arr[mid], arr[high] = arr[high], arr[mid]\n",
    "            high -= 1\n",
    "\n",
    "\n",
    "arr = [0, 1, 1, 0, 1, 2, 1, 2, 0, 0, 0, 1]\n",
    "sort_colors(arr)\n",
    "print(\"Sorted array:\", arr)\n"
   ]
  }
 ],
 "metadata": {
  "kernelspec": {
   "display_name": "Python 3 (ipykernel)",
   "language": "python",
   "name": "python3"
  },
  "language_info": {
   "codemirror_mode": {
    "name": "ipython",
    "version": 3
   },
   "file_extension": ".py",
   "mimetype": "text/x-python",
   "name": "python",
   "nbconvert_exporter": "python",
   "pygments_lexer": "ipython3",
   "version": "3.10.5"
  }
 },
 "nbformat": 4,
 "nbformat_minor": 5
}
