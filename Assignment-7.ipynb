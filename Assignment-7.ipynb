{
 "cells": [
  {
   "cell_type": "markdown",
   "id": "82c38065",
   "metadata": {},
   "source": [
    "## Constructor:"
   ]
  },
  {
   "cell_type": "markdown",
   "id": "904587b9",
   "metadata": {},
   "source": [
    "### 1. What is a constructor in Python? Explain its purpose and usage."
   ]
  },
  {
   "cell_type": "markdown",
   "id": "a215b6ca",
   "metadata": {},
   "source": [
    "\n",
    "In Python, a constructor is a special method used for initializing the attributes of an object. It is called when an object is created from a class and is defined using the __init__ method. The purpose of a constructor is to set up the initial state of an object by assigning values to its attributes.\n",
    "\n",
    "Here's a brief explanation of its purpose and usage:\n",
    "\n",
    "Purpose:\n",
    "\n",
    "Initialization: The primary purpose of a constructor is to initialize the attributes of an object with default or user-specified values.\n",
    "Setting Up Object State: It allows you to set up the initial state of the object, ensuring that it starts with the desired attribute values."
   ]
  },
  {
   "cell_type": "markdown",
   "id": "6e798e08",
   "metadata": {},
   "source": [
    "usage:\n",
    "\n",
    "class MyClass:\n",
    "    def __init__(self, parameter1, parameter2, ...):\n",
    "        # Initialization code here\n",
    "        self.attribute1 = parameter1\n",
    "        self.attribute2 = parameter2\n",
    "        # ...\n",
    "\n",
    "#### Creating an object of MyClass\n",
    "obj = MyClass(value1, value2, ...)\n",
    "The __init__ method is called automatically when an object is created from the class.\n",
    "The self parameter refers to the instance of the object being created and is used to access and set its attributes.\n",
    "You can define any parameters you want in the __init__ method, allowing you to pass values when creating an object."
   ]
  },
  {
   "cell_type": "code",
   "execution_count": 2,
   "id": "f000b7bb",
   "metadata": {},
   "outputs": [
    {
     "name": "stdout",
     "output_type": "stream",
     "text": [
      "John\n",
      "25\n"
     ]
    }
   ],
   "source": [
    "# example\n",
    "class Person:\n",
    "    def __init__(self, name, age):\n",
    "        self.name = name\n",
    "        self.age = age\n",
    "\n",
    "# creating an instance of the Person class\n",
    "person1 = Person(\"John\", 25)\n",
    "\n",
    "# accessing attributes\n",
    "print(person1.name)  \n",
    "print(person1.age)\n",
    "#  the __init__ method is used to initialize the name and age attributes of the Person class when an object is created."
   ]
  },
  {
   "cell_type": "markdown",
   "id": "a6c48043",
   "metadata": {},
   "source": [
    "### 2. Differentiate between a parameterless constructor and a parameterized constructor in Python."
   ]
  },
  {
   "cell_type": "markdown",
   "id": "a0c2fa6d",
   "metadata": {},
   "source": [
    "In Python, constructors are special methods used for initializing the attributes of an object. The main difference between a parameterless constructor and a parameterized constructor lies in the number and type of parameters they accept.\n",
    "\n",
    "Parameterless Constructor:\n",
    "\n",
    "Definition: A parameterless constructor, also known as a default constructor, is a constructor that takes no parameters.\n",
    "Usage: It is used when you want to initialize the attributes of an object with default values."
   ]
  },
  {
   "cell_type": "markdown",
   "id": "d88dfb06",
   "metadata": {},
   "source": [
    "Syntax:\n",
    "python\n",
    "Copy code\n",
    "class MyClass:\n",
    "    def __init__(self):\n",
    "        # Initialization code with default values\n",
    "        self.attribute1 = default_value1\n",
    "        self.attribute2 = default_value2\n",
    "        # ...\n",
    "Example:"
   ]
  },
  {
   "cell_type": "code",
   "execution_count": 3,
   "id": "1a29c199",
   "metadata": {},
   "outputs": [],
   "source": [
    "class Person:\n",
    "    def __init__(self):\n",
    "        self.name = \"Default Name\"\n",
    "        self.age = 0\n",
    "# Creating an instance of the Person class using the parameterless constructor\n",
    "person1 = Person()"
   ]
  },
  {
   "cell_type": "markdown",
   "id": "f9c218d4",
   "metadata": {},
   "source": [
    "Parameterized Constructor:\n",
    "\n",
    "Definition: A parameterized constructor is a constructor that accepts one or more parameters.\n",
    "Usage: It is used when you want to initialize the attributes of an object with values provided during object creation.\n",
    "Syntax:\n",
    "python\n",
    "Copy code\n",
    "class MyClass:\n",
    "    def __init__(self, parameter1, parameter2, ...):\n",
    "        # Initialization code with provided values\n",
    "        self.attribute1 = parameter1\n",
    "        self.attribute2 = parameter2\n",
    "        # ..."
   ]
  },
  {
   "cell_type": "code",
   "execution_count": 5,
   "id": "be9d24ce",
   "metadata": {},
   "outputs": [],
   "source": [
    "# example:\n",
    "\n",
    "class Person:\n",
    "    def __init__(self, name, age):\n",
    "        self.name = name\n",
    "        self.age = age\n",
    "# Object Creation:\n",
    "# python\n",
    "# copy code\n",
    "# creating an instance of the Person class using the parameterized constructor\n",
    "person1 = Person(\"John\", 25)"
   ]
  },
  {
   "cell_type": "markdown",
   "id": "09ccb46f",
   "metadata": {},
   "source": [
    "a parameterless constructor takes no parameters and initializes attributes with default values, while a parameterized constructor accepts parameters to initialize attributes with values provided during object creation. The choice between them depends on whether you want to provide default values or require explicit values during object instantiation."
   ]
  },
  {
   "cell_type": "markdown",
   "id": "53fb7f79",
   "metadata": {},
   "source": [
    "### 3. How do you define a constructor in a Python class? Provide an example."
   ]
  },
  {
   "cell_type": "markdown",
   "id": "3fd4de42",
   "metadata": {},
   "source": [
    "In Python, a constructor is defined using a special method called __init__. This method is automatically called when an object is created from the class. Here's an example of how you can define a constructor in a Python class:"
   ]
  },
  {
   "cell_type": "markdown",
   "id": "83f0a5e8",
   "metadata": {},
   "source": [
    "class MyClass:\n",
    "    def __init__(self, parameter1, parameter2, ...):\n",
    "        # Initialization code here\n",
    "        self.attribute1 = parameter1\n",
    "        self.attribute2 = parameter2\n",
    "        # ...\n",
    "\n",
    "#### Example usage:\n",
    "#### Creating an instance of MyClass and providing values for parameters\n",
    "obj = MyClass(value1, value2, ...)"
   ]
  },
  {
   "cell_type": "code",
   "execution_count": 7,
   "id": "a201da63",
   "metadata": {},
   "outputs": [
    {
     "name": "stdout",
     "output_type": "stream",
     "text": [
      "John\n",
      "25\n"
     ]
    }
   ],
   "source": [
    "class Person:\n",
    "    def __init__(self, name, age):\n",
    "        # Initializing attributes\n",
    "        self.name = name\n",
    "        self.age = age\n",
    "\n",
    "# creating an instance of the Person class and providing values for parameters\n",
    "person1 = Person(\"John\", 25)\n",
    "\n",
    "# accessing attributes\n",
    "print(person1.name)  # Output: John\n",
    "print(person1.age)   # Output: 25"
   ]
  },
  {
   "cell_type": "markdown",
   "id": "fa62846b",
   "metadata": {},
   "source": [
    "In this example, the Person class has a constructor (__init__) that takes two parameters (name and age). When an object (person1) is created from this class, the __init__ method is automatically called, and the attributes name and age are initialized with the values provided during the object creation.\n",
    "\n",
    "Remember that the self parameter is a reference to the instance of the object being created, and it is used to access and set the attributes of that instance."
   ]
  },
  {
   "cell_type": "markdown",
   "id": "728ac311",
   "metadata": {},
   "source": [
    "### 4. Explain the `__init__` method in Python and its role in constructors."
   ]
  },
  {
   "cell_type": "markdown",
   "id": "da189b61",
   "metadata": {},
   "source": [
    "In Python, the __init__ method is a special method that plays a crucial role in constructors. The name __init__ stands for \"initialize,\" and this method is automatically called when an object is created from a class. Its primary purpose is to initialize the attributes of the object by setting them to default values or values provided during the object's instantiation.\n",
    "\n",
    "Here are key points about the __init__ method and its role in constructors:\n",
    "\n",
    "Initialization: The __init__ method is used to initialize the attributes of an object with specific values. This is where you typically perform the setup required for the object to be in a valid state.\n",
    "\n",
    "Automatic Invocation: When an object is created from a class, the __init__ method is automatically called. It is part of the object instantiation process, and you don't need to explicitly call it.\n",
    "\n",
    "self Parameter: The self parameter in the __init__ method is a reference to the instance of the object being created. It is the first parameter in all instance methods of a class and is used to access and set the attributes of the object.\n",
    "\n",
    "Constructor vs. __init__: While the term \"constructor\" is often used interchangeably with the __init__ method, it's important to note that the __init__ method is a specific type of constructor in Python. Technically, a constructor is any method that is automatically called during object creation, and in Python, the __init__ method serves this purpose."
   ]
  },
  {
   "cell_type": "code",
   "execution_count": 8,
   "id": "ebc4fce6",
   "metadata": {},
   "outputs": [
    {
     "name": "stdout",
     "output_type": "stream",
     "text": [
      "John\n",
      "25\n"
     ]
    }
   ],
   "source": [
    "class Person:\n",
    "    def __init__(self, name, age):\n",
    "        # Initialization code\n",
    "        self.name = name\n",
    "        self.age = age\n",
    "\n",
    "# creating an instance of the Person class and providing values for parameters\n",
    "person1 = Person(\"John\", 25)\n",
    "\n",
    "# accessing attributes\n",
    "print(person1.name)  \n",
    "print(person1.age)   "
   ]
  },
  {
   "cell_type": "markdown",
   "id": "417ed8b9",
   "metadata": {},
   "source": [
    "In this example, the __init__ method initializes the name and age attributes of the Person class when an object (person1) is created. The provided values (\"John\" and 25) are used to set the initial state of the object."
   ]
  },
  {
   "cell_type": "markdown",
   "id": "68d68f5e",
   "metadata": {},
   "source": [
    "### 5. In a class named `Person`, create a constructor that initializes the `name` and `age` attributes. Provide an example of creating an object of this class."
   ]
  },
  {
   "cell_type": "code",
   "execution_count": 9,
   "id": "617dd3f5",
   "metadata": {},
   "outputs": [
    {
     "name": "stdout",
     "output_type": "stream",
     "text": [
      "John\n",
      "25\n"
     ]
    }
   ],
   "source": [
    "class Person:\n",
    "    def __init__(self, name, age):\n",
    "        # initializing attributes\n",
    "        self.name = name\n",
    "        self.age = age\n",
    "\n",
    "# creating an instance of the Person class and providing values for parameters\n",
    "person1 = Person(\"John\", 25)\n",
    "\n",
    "# accessing attributes\n",
    "print(person1.name)  \n",
    "print(person1.age)   \n"
   ]
  },
  {
   "cell_type": "markdown",
   "id": "95d2a372",
   "metadata": {},
   "source": [
    "### 6. How can you call a constructor explicitly in Python? Give an example."
   ]
  },
  {
   "cell_type": "markdown",
   "id": "2b9c45aa",
   "metadata": {},
   "source": [
    "In Python, you cannot explicitly call a constructor on an already instantiated object. However, you can use the __init__ method to initialize or reinitialize an object. The __init__ method is automatically called when an object is created, but you can also call it explicitly if needed."
   ]
  },
  {
   "cell_type": "code",
   "execution_count": 1,
   "id": "bc24f6be",
   "metadata": {},
   "outputs": [
    {
     "name": "stdout",
     "output_type": "stream",
     "text": [
      "Object created with value: 42\n",
      "Object created with value: 100\n"
     ]
    }
   ],
   "source": [
    "class MyClass:\n",
    "    def __init__(self, value):\n",
    "        self.value = value\n",
    "        print(f\"Object created with value: {self.value}\")\n",
    "\n",
    "    def update_value(self, new_value):\n",
    "        self.value = new_value\n",
    "        print(f\"Value updated to: {self.value}\")\n",
    "\n",
    "# creating an instance of MyClass\n",
    "obj = MyClass(42)\n",
    "\n",
    "# explicitly calling the constructor (reinitializing the object)\n",
    "obj.__init__(100)"
   ]
  },
  {
   "cell_type": "markdown",
   "id": "d406d493",
   "metadata": {},
   "source": [
    "In this example, MyClass has a constructor (__init__ method) that initializes an object with a given value. After creating an instance of MyClass, you can explicitly call the __init__ method to reinitialize the object with a new value. Note that explicitly calling __init__ like this is not a common practice and should be done with caution, as it might lead to unexpected behavior depending on your class implementation."
   ]
  },
  {
   "cell_type": "markdown",
   "id": "3d8e3c3f",
   "metadata": {},
   "source": [
    "### 7. What is the significance of the `self` parameter in Python constructors? Explain with an example."
   ]
  },
  {
   "cell_type": "markdown",
   "id": "fb09f8e5",
   "metadata": {},
   "source": [
    "In Python, the self parameter in constructors (and other instance methods) is a convention that refers to the instance of the class. It allows you to access and modify the attributes of the instance within the class methods. When you create an instance of a class, the instance is automatically passed as the first argument to the constructor (and other instance methods), and by convention, it is named self.\n",
    "\n",
    "Here's an example to illustrate the significance of self in Python constructors:"
   ]
  },
  {
   "cell_type": "code",
   "execution_count": 3,
   "id": "1e105bd6",
   "metadata": {},
   "outputs": [
    {
     "name": "stdout",
     "output_type": "stream",
     "text": [
      "tommy is 3 years old.\n",
      "snoppy is 5 years old.\n",
      "tommy says Woof!\n",
      "snoppy says Woof!\n"
     ]
    }
   ],
   "source": [
    "class Dog:\n",
    "    def __init__(self, name, age):\n",
    "        self.name = name\n",
    "        self.age = age\n",
    "\n",
    "    def bark(self):\n",
    "        print(f\"{self.name} says Woof!\")\n",
    "\n",
    "# creating instances of the Dog class\n",
    "dog1 = Dog(\"tommy\", 3)\n",
    "dog2 = Dog(\"snoppy\", 5)\n",
    "\n",
    "# accessing attributes using the self parameter\n",
    "print(f\"{dog1.name} is {dog1.age} years old.\")\n",
    "print(f\"{dog2.name} is {dog2.age} years old.\")\n",
    "\n",
    "# calling a method using the self parameter\n",
    "dog1.bark()\n",
    "dog2.bark()"
   ]
  },
  {
   "cell_type": "markdown",
   "id": "d8281ffb",
   "metadata": {},
   "source": [
    "### 8. Discuss the concept of default constructors in Python. When are they used?"
   ]
  },
  {
   "cell_type": "markdown",
   "id": "5bf9f1ef",
   "metadata": {},
   "source": [
    "In Python, a default constructor is a constructor that is automatically provided by the language if you don't explicitly define one in your class. This default constructor has no parameters other than the instance itself (often referred to as self). It doesn't perform any specific initialization, but it allows you to create instances of the class without having to define a custom constructor.\n",
    "\n",
    "Here's an example to illustrate the concept of a default constructor:"
   ]
  },
  {
   "cell_type": "code",
   "execution_count": 6,
   "id": "8824a31d",
   "metadata": {},
   "outputs": [
    {
     "name": "stdout",
     "output_type": "stream",
     "text": [
      "custom constructor called.\n"
     ]
    }
   ],
   "source": [
    "class MyClass:\n",
    "    def __init__(self):\n",
    "        print(\"custom constructor called.\")\n",
    "\n",
    "# creating an instance of MyClass without explicitly defining a constructor\n",
    "obj = MyClass()"
   ]
  },
  {
   "cell_type": "markdown",
   "id": "523768c6",
   "metadata": {},
   "source": [
    "In this example, even though we haven't explicitly defined a constructor in the MyClass class, we can still create an instance of it using the default constructor. When the instance obj is created, the default constructor (__init__) is called, and it prints \"Custom constructor called.\"\n",
    "\n",
    "Default constructors are used in cases where you don't need any specific initialization logic for your objects. If you don't provide a custom constructor, Python will automatically use the default constructor when creating instances of your class. It's important to note that if you define a custom constructor, the default constructor won't be automatically provided, and you need to explicitly define it if you want to retain that functionality.\n",
    "\n",
    "Here's an example illustrating the absence of a default constructor when a custom constructor is defined:"
   ]
  },
  {
   "cell_type": "code",
   "execution_count": 8,
   "id": "511298ca",
   "metadata": {},
   "outputs": [
    {
     "name": "stdout",
     "output_type": "stream",
     "text": [
      "custom constructor called with value: 42\n"
     ]
    }
   ],
   "source": [
    "class MyClassWithCustomConstructor:\n",
    "    def __init__(self, value):\n",
    "        self.value = value\n",
    "        print(\"custom constructor called with value:\", self.value)\n",
    "\n",
    "# creating an instance of MyClassWithCustomConstructor\n",
    "obj_with_custom_constructor = MyClassWithCustomConstructor(42)"
   ]
  },
  {
   "cell_type": "markdown",
   "id": "3a476d55",
   "metadata": {},
   "source": [
    "there is no default constructor, and the custom constructor is responsible for the initialization of the object."
   ]
  },
  {
   "cell_type": "markdown",
   "id": "92926f35",
   "metadata": {},
   "source": [
    "### 9. Create a Python class called `Rectangle` with a constructor that initializes the `width` and `height` attributes. Provide a method to calculate the area of the rectangle."
   ]
  },
  {
   "cell_type": "code",
   "execution_count": 9,
   "id": "e87c9272",
   "metadata": {},
   "outputs": [
    {
     "name": "stdout",
     "output_type": "stream",
     "text": [
      "Width: 5\n",
      "Height: 8\n",
      "Area: 40\n"
     ]
    }
   ],
   "source": [
    "class Rectangle:\n",
    "    def __init__(self, width, height):\n",
    "        self.width = width\n",
    "        self.height = height\n",
    "\n",
    "    def calculate_area(self):\n",
    "        return self.width * self.height\n",
    "\n",
    "# creating an instance of the Rectangle class\n",
    "my_rectangle = Rectangle(5, 8)\n",
    "\n",
    "# accessing attributes\n",
    "print(\"Width:\", my_rectangle.width)\n",
    "print(\"Height:\", my_rectangle.height)\n",
    "\n",
    "# calculating and printing the area\n",
    "area = my_rectangle.calculate_area()\n",
    "print(\"Area:\", area)"
   ]
  },
  {
   "cell_type": "markdown",
   "id": "445731fb",
   "metadata": {},
   "source": [
    "### 10. How can you have multiple constructors in a Python class? Explain with an example."
   ]
  },
  {
   "cell_type": "markdown",
   "id": "dc5c1473",
   "metadata": {},
   "source": [
    "In Python, a class can only have one constructor method, which is the __init__() method. This method initializes the object's attributes when an instance of the class is created. However, you can simulate having multiple constructors by using default parameter values and class methods.\n",
    "\n",
    "Here's an example demonstrating how to achieve the effect of having multiple constructors in a Python class:"
   ]
  },
  {
   "cell_type": "code",
   "execution_count": 1,
   "id": "02645238",
   "metadata": {},
   "outputs": [
    {
     "name": "stdout",
     "output_type": "stream",
     "text": [
      "Parameter 1: default_param1\n",
      "Parameter 2: default_param2\n",
      "Parameter 1: value1\n",
      "Parameter 2: value2\n",
      "Parameter 1: default_param1\n",
      "Parameter 2: default_param2\n",
      "Parameter 1: default_param1\n",
      "Parameter 2: default_param2\n"
     ]
    }
   ],
   "source": [
    "class MyClass:\n",
    "    def __init__(self, param1=None, param2=None):\n",
    "        if param1 is not None and param2 is not None:\n",
    "            self.param1 = param1\n",
    "            self.param2 = param2\n",
    "        else:\n",
    "            self.param1 = 'default_param1'\n",
    "            self.param2 = 'default_param2'\n",
    "\n",
    "    @classmethod\n",
    "    def from_param1(cls, param1):\n",
    "        return cls(param1=param1)\n",
    "\n",
    "    @classmethod\n",
    "    def from_param2(cls, param2):\n",
    "        return cls(param2=param2)\n",
    "\n",
    "    def display_params(self):\n",
    "        print(f'Parameter 1: {self.param1}')\n",
    "        print(f'Parameter 2: {self.param2}')\n",
    "\n",
    "\n",
    "# Creating instances using different constructors-like methods\n",
    "obj1 = MyClass()  # Uses default parameter values\n",
    "obj1.display_params()\n",
    "\n",
    "obj2 = MyClass('value1', 'value2')  # Passes both parameters explicitly\n",
    "obj2.display_params()\n",
    "\n",
    "obj3 = MyClass.from_param1('new_value1')  # Uses constructor-like method to set param1\n",
    "obj3.display_params()\n",
    "\n",
    "obj4 = MyClass.from_param2('new_value2')  # Uses constructor-like method to set param2\n",
    "obj4.display_params()\n"
   ]
  },
  {
   "cell_type": "markdown",
   "id": "5440024a",
   "metadata": {},
   "source": [
    "The __init__() method serves as the primary constructor, initializing the class attributes param1 and param2. It provides default values if none are provided.\n",
    "Class methods from_param1() and from_param2() act as alternative \"constructors\" that allow creating instances with specific parameters by calling these methods.\n",
    "By using these class methods, you can create instances of the class with different sets of parameters, effectively achieving a similar effect to having multiple constructors in a Python class."
   ]
  },
  {
   "cell_type": "markdown",
   "id": "3d40d0fa",
   "metadata": {},
   "source": [
    "### 11. What is method overloading, and how is it related to constructors in Python?"
   ]
  },
  {
   "cell_type": "markdown",
   "id": "c6377dde",
   "metadata": {},
   "source": [
    "\n",
    "Method overloading is a feature in programming that allows a class to have multiple methods with the same name but different parameters or signatures. Depending on the number or types of parameters passed during the method invocation, the appropriate method is called."
   ]
  },
  {
   "cell_type": "markdown",
   "id": "bccd7b8c",
   "metadata": {},
   "source": [
    "For constructors in Python (i.e., __init__ methods), you can't have multiple constructors with different signatures as in some other programming languages. Instead, you can use default parameter values or keyword arguments to create the effect of having overloaded constructors.\n",
    "\n",
    "Here's an example illustrating how you might simulate constructor overloading in Python using default parameter values:"
   ]
  },
  {
   "cell_type": "code",
   "execution_count": 1,
   "id": "7d470a7b",
   "metadata": {},
   "outputs": [
    {
     "name": "stdout",
     "output_type": "stream",
     "text": [
      "Param1: default_value, Param2: default_value\n",
      "Param1: Value1, Param2: default_value\n",
      "Param1: Value1, Param2: Value2\n"
     ]
    }
   ],
   "source": [
    "class MyClass:\n",
    "    def __init__(self, param1=None, param2=None):\n",
    "        if param1 is not None and param2 is not None:\n",
    "            # Constructor with two parameters\n",
    "            self.param1 = param1\n",
    "            self.param2 = param2\n",
    "        elif param1 is not None:\n",
    "            # Constructor with one parameter\n",
    "            self.param1 = param1\n",
    "            self.param2 = \"default_value\"\n",
    "        else:\n",
    "            # Default constructor\n",
    "            self.param1 = \"default_value\"\n",
    "            self.param2 = \"default_value\"\n",
    "            \n",
    "    def display(self):\n",
    "        print(f\"Param1: {self.param1}, Param2: {self.param2}\")\n",
    "\n",
    "# Creating objects using different constructors\n",
    "obj1 = MyClass()\n",
    "obj1.display()  # Output: Param1: default_value, Param2: default_value\n",
    "\n",
    "obj2 = MyClass(\"Value1\")\n",
    "obj2.display()  # Output: Param1: Value1, Param2: default_value\n",
    "\n",
    "obj3 = MyClass(\"Value1\", \"Value2\")\n",
    "obj3.display()  # Output: Param1: Value1, Param2: Value2\n"
   ]
  },
  {
   "cell_type": "markdown",
   "id": "ed81771b",
   "metadata": {},
   "source": [
    "the __init__ method takes different sets of parameters, and depending on what is passed, it initializes the object accordingly. While this isn't true method overloading"
   ]
  },
  {
   "cell_type": "markdown",
   "id": "7f6caec0",
   "metadata": {},
   "source": [
    "### 12. Explain the use of the `super()` function in Python constructors. Provide an example."
   ]
  },
  {
   "cell_type": "markdown",
   "id": "c7f4fe5d",
   "metadata": {},
   "source": [
    "the super() function is used to call methods and access attributes from the parent or superclass within a subclass. It is commonly used in constructors (__init__ method) of a subclass to explicitly invoke the constructor of the superclass.\n",
    "\n",
    "When a class inherits from another class (subclassing), the subclass can extend the functionality of the superclass by adding its own attributes and methods. The super() function allows the subclass to access the methods and attributes of the superclass.\n",
    "\n",
    "Here's an example demonstrating the use of super() in Python constructors:"
   ]
  },
  {
   "cell_type": "code",
   "execution_count": 2,
   "id": "3f40a375",
   "metadata": {},
   "outputs": [
    {
     "name": "stdout",
     "output_type": "stream",
     "text": [
      "ParentClass __init__ called\n",
      "ChildClass __init__ called\n",
      "Child parameter: Child parameter\n",
      "Parent parameter: Parent parameter\n",
      "ChildClass method called\n",
      "ParentClass method called\n"
     ]
    }
   ],
   "source": [
    "class ParentClass:\n",
    "    def __init__(self, parent_param):\n",
    "        self.parent_param = parent_param\n",
    "        print(\"ParentClass __init__ called\")\n",
    "\n",
    "    def parent_method(self):\n",
    "        print(\"ParentClass method called\")\n",
    "\n",
    "class ChildClass(ParentClass):\n",
    "    def __init__(self, parent_param, child_param):\n",
    "        super().__init__(parent_param)  # Calling the ParentClass constructor\n",
    "        self.child_param = child_param\n",
    "        print(\"ChildClass __init__ called\")\n",
    "\n",
    "    def child_method(self):\n",
    "        print(\"ChildClass method called\")\n",
    "\n",
    "# Creating an instance of ChildClass\n",
    "child_obj = ChildClass(\"Parent parameter\", \"Child parameter\")\n",
    "\n",
    "# Accessing attributes and methods of the ChildClass instance\n",
    "print(\"Child parameter:\", child_obj.child_param)\n",
    "print(\"Parent parameter:\", child_obj.parent_param)\n",
    "\n",
    "child_obj.child_method()  # Output: ChildClass method called\n",
    "child_obj.parent_method()  # Output: ParentClass method called\n"
   ]
  },
  {
   "cell_type": "markdown",
   "id": "f0bf4cc8",
   "metadata": {},
   "source": [
    "### 13. Create a class called `Book` with a constructor that initializes the `title`, `author`, and `published_year` attributes. Provide a method to display book details."
   ]
  },
  {
   "cell_type": "code",
   "execution_count": 3,
   "id": "aefa6fa6",
   "metadata": {},
   "outputs": [
    {
     "name": "stdout",
     "output_type": "stream",
     "text": [
      "Title: Python Programming\n",
      "Author: Guido van Rossum\n",
      "Published Year: 2020\n"
     ]
    }
   ],
   "source": [
    "class Book:\n",
    "    def __init__(self, title, author, published_year):\n",
    "        self.title = title\n",
    "        self.author = author\n",
    "        self.published_year = published_year\n",
    "\n",
    "    def display_details(self):\n",
    "        print(f\"Title: {self.title}\")\n",
    "        print(f\"Author: {self.author}\")\n",
    "        print(f\"Published Year: {self.published_year}\")\n",
    "\n",
    "# Creating an instance of the Book class\n",
    "book1 = Book(\"Python Programming\", \"Guido van Rossum\", 2020)\n",
    "\n",
    "# Displaying book details using the display_details method\n",
    "book1.display_details()\n"
   ]
  },
  {
   "cell_type": "markdown",
   "id": "d9e89e9b",
   "metadata": {},
   "source": [
    "### 14. Discuss the differences between constructors and regular methods in Python classes."
   ]
  },
  {
   "cell_type": "markdown",
   "id": "4e26d99f",
   "metadata": {},
   "source": [
    "\n",
    "In Python classes, constructors and regular methods serve distinct purposes and have specific characteristics. Here are the key differences between constructors and regular methods"
   ]
  },
  {
   "cell_type": "markdown",
   "id": "4e34bae6",
   "metadata": {},
   "source": [
    "#### Purpose:"
   ]
  },
  {
   "cell_type": "markdown",
   "id": "ce008ddb",
   "metadata": {},
   "source": [
    "Constructor (__init__): It's a special method in Python classes used for initializing object attributes when an instance of the class is created. It gets automatically called when an object is instantiated.\n",
    "Regular Methods: These are standard methods within a class that perform various operations or computations on the object's attributes. They can be called explicitly by the object or the class itself."
   ]
  },
  {
   "cell_type": "markdown",
   "id": "ab77becf",
   "metadata": {},
   "source": [
    "#### Name:"
   ]
  },
  {
   "cell_type": "markdown",
   "id": "9606d017",
   "metadata": {},
   "source": [
    "Constructor: In Python, the constructor method is named __init__. It initializes object attributes during object creation.\n",
    "Regular Methods: These methods have arbitrary names and are defined based on the functionality they are intended to provide within the class."
   ]
  },
  {
   "cell_type": "markdown",
   "id": "dc54dd1b",
   "metadata": {},
   "source": [
    "#### Invocation:"
   ]
  },
  {
   "cell_type": "markdown",
   "id": "3ef57603",
   "metadata": {},
   "source": [
    "Constructor: It's automatically invoked when an instance of the class is created using the class name followed by parentheses containing any required arguments.\n",
    "Regular Methods: They need to be explicitly called using the object instance or the class name, passing necessary arguments (if any)."
   ]
  },
  {
   "cell_type": "markdown",
   "id": "7fa16b8e",
   "metadata": {},
   "source": [
    "#### Return Value:"
   ]
  },
  {
   "cell_type": "markdown",
   "id": "a9a4a329",
   "metadata": {},
   "source": [
    "Constructor: Typically, constructors don't explicitly return a value. They initialize the object's attributes and prepare the object for use.\n",
    "Regular Methods: These methods can perform operations and computations, and they may return a value based on the implementation."
   ]
  },
  {
   "cell_type": "markdown",
   "id": "a2bf0951",
   "metadata": {},
   "source": [
    "#### Usage:"
   ]
  },
  {
   "cell_type": "markdown",
   "id": "f0d0f438",
   "metadata": {},
   "source": [
    "Constructor: Used to initialize the state of the object by assigning initial values to its attributes. It's executed only once during object creation.\n",
    "Regular Methods: Used to perform various operations or actions on the object's attributes. They can be called multiple times as needed."
   ]
  },
  {
   "cell_type": "markdown",
   "id": "4c95584e",
   "metadata": {},
   "source": [
    "example"
   ]
  },
  {
   "cell_type": "code",
   "execution_count": 4,
   "id": "ef38974d",
   "metadata": {},
   "outputs": [
    {
     "name": "stdout",
     "output_type": "stream",
     "text": [
      "10\n",
      "Regular method called with value: 10\n"
     ]
    }
   ],
   "source": [
    "class MyClass:\n",
    "    def __init__(self, value):\n",
    "        self.value = value  # Constructor initializes the 'value' attribute\n",
    "    \n",
    "    def regular_method(self):\n",
    "        print(f\"Regular method called with value: {self.value}\")\n",
    "\n",
    "# Creating an instance of the class using the constructor\n",
    "obj = MyClass(10)  # Constructor (__init__) called automatically\n",
    "\n",
    "# Accessing object attribute initialized by the constructor\n",
    "print(obj.value)  # Output: 10\n",
    "\n",
    "# Calling a regular method explicitly\n",
    "obj.regular_method()  # Output: Regular method called with value: 10\n"
   ]
  },
  {
   "cell_type": "markdown",
   "id": "f8e756f1",
   "metadata": {},
   "source": [
    "### 15. Explain the role of the `self` parameter in instance variable initialization within a constructor."
   ]
  },
  {
   "cell_type": "raw",
   "id": "1ea8ab7f",
   "metadata": {},
   "source": [
    "\n",
    "In Python, the self parameter in a class constructor (__init__ method) plays a crucial role in initializing instance variables within the object. It refers to the instance of the class itself and allows the instance variables to be accessed and modified within the class.\n",
    "\n",
    "Here are the key roles of the self parameter in instance variable initialization within a constructor:\n",
    "\n",
    "Accessing Instance Variables:\n",
    "\n",
    "Inside the class, self is used to refer to the instance itself. When instance variables need to be defined or accessed within the class, self is used to differentiate between the instance variables and local variables or parameters with the same names.\n",
    "\n",
    "\n",
    "\n",
    "Initializing Instance Variables:\n",
    "\n",
    "self is used to initialize instance variables within the constructor (__init__ method). Instance variables are defined using self.variable_name = initial_value. This assigns the specified initial value to the instance variable and associates it with the particular instance of the class.\n",
    "\n",
    "\n",
    "\n",
    "Instance Scope:\n",
    "\n",
    "Instance variables initialized using self are accessible throughout the entire class once initialized. They retain their values as long as the instance exists and can be accessed by any method within that class using self.variable_name.\n",
    "\n",
    "\n",
    "Instance Specificity:\n",
    "\n",
    "Each instance of a class created has its own separate set of instance variables. self helps differentiate between the variables of different instances, ensuring that changes to one instance's variables don't affect another instance's variables."
   ]
  },
  {
   "cell_type": "markdown",
   "id": "4a26131d",
   "metadata": {},
   "source": [
    "example"
   ]
  },
  {
   "cell_type": "code",
   "execution_count": 6,
   "id": "efecd5da",
   "metadata": {},
   "outputs": [
    {
     "name": "stdout",
     "output_type": "stream",
     "text": [
      "Instance variable value: 10\n",
      "Instance variable value: 20\n"
     ]
    }
   ],
   "source": [
    "class MyClass:\n",
    "    def __init__(self, value):\n",
    "        self.instance_variable = value  # Initializing instance variable using 'self'\n",
    "\n",
    "    def display_value(self):\n",
    "        print(f\"Instance variable value: {self.instance_variable}\")\n",
    "\n",
    "#Creating instances of the class\n",
    "obj1 = MyClass(10)\n",
    "obj2 = MyClass(20)\n",
    "\n",
    "# Accessing and displaying instance variables using class methods\n",
    "obj1.display_value()  # Output: Instance variable value: 10\n",
    "obj2.display_value()  # Output: Instance variable value: 20\n"
   ]
  },
  {
   "cell_type": "markdown",
   "id": "c80f9553",
   "metadata": {},
   "source": [
    "### 16. How do you prevent a class from having multiple instances by using constructors in Python? Provide an example."
   ]
  },
  {
   "cell_type": "markdown",
   "id": "51728baa",
   "metadata": {},
   "source": [
    "\n",
    "In Python, it's not inherently possible to prevent a class from having multiple instances using constructors alone, as the language allows multiple instances to be created for any class. However, you can implement a workaround by using a class attribute as a flag to control the instantiation of the class, thereby limiting it to a single instance.\n",
    "\n",
    "One common approach to enforce a class to have only one instance is by implementing the Singleton design pattern. The Singleton pattern ensures that a class has only one instance throughout the program's execution.\n",
    "\n",
    "Here's an example of implementing a Singleton class that prevents multiple instances:"
   ]
  },
  {
   "cell_type": "code",
   "execution_count": 7,
   "id": "66563eb0",
   "metadata": {},
   "outputs": [
    {
     "name": "stdout",
     "output_type": "stream",
     "text": [
      "Instance 1 data\n",
      "Instance 1 data\n"
     ]
    }
   ],
   "source": [
    "class SingletonClass:\n",
    "    _instance = None  # Class variable to hold the single instance\n",
    "    \n",
    "    def __new__(cls, *args, **kwargs):\n",
    "        if not cls._instance:\n",
    "            cls._instance = super().__new__(cls)\n",
    "        return cls._instance\n",
    "    \n",
    "    def __init__(self, data):\n",
    "        if not hasattr(self, 'initialized'):\n",
    "            self.data = data\n",
    "            self.initialized = True\n",
    "\n",
    "    def get_data(self):\n",
    "        return self.data\n",
    "\n",
    "# Creating instances of the SingletonClass\n",
    "singleton_instance1 = SingletonClass(\"Instance 1 data\")\n",
    "singleton_instance2 = SingletonClass(\"Instance 2 data\")  # This won't create a new instance\n",
    "\n",
    "# Accessing data from both instances\n",
    "print(singleton_instance1.get_data())  # Output: Instance 1 data\n",
    "print(singleton_instance2.get_data())  # Output: Instance 1 data (same as instance 1)\n"
   ]
  },
  {
   "cell_type": "markdown",
   "id": "957a683f",
   "metadata": {},
   "source": [
    "### 17. Create a Python class called `Student` with a constructor that takes a list of subjects as a parameter and initializes the `subjects` attribute."
   ]
  },
  {
   "cell_type": "code",
   "execution_count": 8,
   "id": "ae526ba7",
   "metadata": {},
   "outputs": [
    {
     "name": "stdout",
     "output_type": "stream",
     "text": [
      "Subjects enrolled:\n",
      "Math\n",
      "Science\n",
      "History\n"
     ]
    }
   ],
   "source": [
    "class Student:\n",
    "    def __init__(self, subjects):\n",
    "        self.subjects = subjects\n",
    "\n",
    "    def display_subjects(self):\n",
    "        print(\"Subjects enrolled:\")\n",
    "        for subject in self.subjects:\n",
    "            print(subject)\n",
    "\n",
    "# Example usage:\n",
    "subjects_list = [\"Math\", \"Science\", \"History\"]\n",
    "\n",
    "# Creating an instance of the Student class\n",
    "student1 = Student(subjects_list)\n",
    "\n",
    "# Displaying the subjects using the display_subjects method\n",
    "student1.display_subjects()\n"
   ]
  },
  {
   "cell_type": "markdown",
   "id": "a88e9f7f",
   "metadata": {},
   "source": [
    "### 18. What is the purpose of the `__del__` method in Python classes, and how does it relate to constructors?"
   ]
  },
  {
   "cell_type": "raw",
   "id": "db9f28bb",
   "metadata": {},
   "source": [
    "Purpose of the __del__ method:\n",
    "\n",
    "Resource Cleanup: The __del__ method is called automatically just before an object is destroyed or garbage collected. It can be utilized to release resources like file handles, network connections, or other cleanup operations related to the object.\n",
    "Finalization Tasks: It's used to perform finalization tasks or actions that need to be executed before the object is removed from memory.\n",
    "\n",
    "\n",
    "\n",
    "Relationship with constructors (__init__ method):\n",
    "\n",
    "The constructor (__init__) is called when an object is created and initialized. It's used to set up initial values and attributes for the object.\n",
    "On the other hand, the __del__ method is invoked just before an object is destroyed or removed from memory when there are no more references to that object. It is used for cleanup or finalization tasks before the object's deletion.\n",
    "It's important to note a couple of points about the __del__ method:\n",
    "\n",
    "Unpredictable Timing: The exact time when __del__ is called can be unpredictable since it depends on the garbage collection mechanism in Python.\n",
    "Not Always Reliable: Relying on __del__ for critical cleanup may not be recommended because it might not execute immediately or at all in some cases, especially in complex scenarios involving circular references."
   ]
  },
  {
   "cell_type": "code",
   "execution_count": 9,
   "id": "075d4391",
   "metadata": {},
   "outputs": [
    {
     "name": "stdout",
     "output_type": "stream",
     "text": [
      "Object Instance 1 created\n",
      "Object Instance 2 created\n",
      "Object Instance 1 destroyed\n",
      "Object Instance 2 destroyed\n"
     ]
    }
   ],
   "source": [
    "# example\n",
    "class MyClass:\n",
    "    def __init__(self, name):\n",
    "        self.name = name\n",
    "        print(f\"Object {self.name} created\")\n",
    "\n",
    "    def __del__(self):\n",
    "        print(f\"Object {self.name} destroyed\")\n",
    "\n",
    "# Creating instances of MyClass\n",
    "obj1 = MyClass(\"Instance 1\")\n",
    "obj2 = MyClass(\"Instance 2\")\n",
    "\n",
    "# Deleting references to objects\n",
    "del obj1\n",
    "del obj2\n"
   ]
  },
  {
   "cell_type": "markdown",
   "id": "47c19b02",
   "metadata": {},
   "source": [
    "### 19. Explain the use of constructor chaining in Python. Provide a practical example."
   ]
  },
  {
   "cell_type": "markdown",
   "id": "5ffb5fe8",
   "metadata": {},
   "source": [
    "\n",
    "Constructor chaining refers to the ability of a constructor in a subclass to call the constructor of its superclass. This mechanism allows the initialization of both the subclass-specific attributes and the attributes inherited from the superclass. In Python, this is achieved using the super() function to call the superclass constructor explicitly.\n",
    "\n",
    "Here's an example illustrating constructor chaining in Python:"
   ]
  },
  {
   "cell_type": "code",
   "execution_count": 10,
   "id": "c7f1497c",
   "metadata": {},
   "outputs": [
    {
     "name": "stdout",
     "output_type": "stream",
     "text": [
      "ParentClass __init__ called\n",
      "ChildClass __init__ called\n",
      "Child parameter: Child parameter\n",
      "Parent parameter: Parent parameter\n",
      "ChildClass method called\n",
      "ParentClass method called\n"
     ]
    }
   ],
   "source": [
    "class ParentClass:\n",
    "    def __init__(self, parent_param):\n",
    "        self.parent_param = parent_param\n",
    "        print(\"ParentClass __init__ called\")\n",
    "\n",
    "    def parent_method(self):\n",
    "        print(\"ParentClass method called\")\n",
    "\n",
    "class ChildClass(ParentClass):\n",
    "    def __init__(self, parent_param, child_param):\n",
    "        super().__init__(parent_param)  # Calling the ParentClass constructor using super()\n",
    "        self.child_param = child_param\n",
    "        print(\"ChildClass __init__ called\")\n",
    "\n",
    "    def child_method(self):\n",
    "        print(\"ChildClass method called\")\n",
    "\n",
    "# Creating an instance of ChildClass\n",
    "child_obj = ChildClass(\"Parent parameter\", \"Child parameter\")\n",
    "\n",
    "# Accessing attributes and methods of the ChildClass instance\n",
    "print(\"Child parameter:\", child_obj.child_param)\n",
    "print(\"Parent parameter:\", child_obj.parent_param)\n",
    "\n",
    "child_obj.child_method()  # Output: ChildClass method called\n",
    "child_obj.parent_method()  # Output: ParentClass method called\n"
   ]
  },
  {
   "cell_type": "markdown",
   "id": "8c1a4c84",
   "metadata": {},
   "source": [
    "### 20. Create a Python class called `Car` with a default constructor that initializes the `make` and `model` attributes. Provide a method to display car information."
   ]
  },
  {
   "cell_type": "code",
   "execution_count": 12,
   "id": "95c31b6a",
   "metadata": {},
   "outputs": [
    {
     "name": "stdout",
     "output_type": "stream",
     "text": [
      "Car Make: TATA\n",
      "Car Model: Tiago\n"
     ]
    }
   ],
   "source": [
    "class Car:\n",
    "    def __init__(self, make=\"TATA\", model=\"Tiago\"):\n",
    "        self.make = make\n",
    "        self.model = model\n",
    "\n",
    "    def display_info(self):\n",
    "        print(f\"Car Make: {self.make}\")\n",
    "        print(f\"Car Model: {self.model}\")\n",
    "\n",
    "# Creating an instance of the Car class using the default constructor\n",
    "car1 = Car()\n",
    "\n",
    "# Displaying car information using the display_info method\n",
    "car1.display_info()\n"
   ]
  },
  {
   "cell_type": "markdown",
   "id": "eae24e82",
   "metadata": {},
   "source": [
    "## Inheritance:"
   ]
  },
  {
   "cell_type": "markdown",
   "id": "0643fb06",
   "metadata": {},
   "source": [
    "### 1. What is inheritance in Python? Explain its significance in object-oriented programming."
   ]
  },
  {
   "cell_type": "markdown",
   "id": "358830d4",
   "metadata": {},
   "source": [
    "\n",
    "Inheritance in Python is a fundamental feature of object-oriented programming (OOP) that allows a class (referred to as a \"child\" or \"derived\" class) to inherit properties and behavior from another class (referred to as a \"parent\" or \"base\" class). This relationship between classes allows the child class to reuse code and extend the functionality defined in the parent class."
   ]
  },
  {
   "cell_type": "markdown",
   "id": "60d4a29a",
   "metadata": {},
   "source": [
    " example of how inheritance works in Python:"
   ]
  },
  {
   "cell_type": "code",
   "execution_count": 1,
   "id": "80942088",
   "metadata": {},
   "outputs": [],
   "source": [
    "# Parent class (base class)\n",
    "class Animal:\n",
    "    def __init__(self, species):\n",
    "        self.species = species\n",
    "\n",
    "    def sound(self):\n",
    "        pass\n",
    "\n",
    "# Child class (derived class) inheriting from Animal\n",
    "class Dog(Animal):\n",
    "    def __init__(self, breed):\n",
    "        super().__init__('Dog')\n",
    "        self.breed = breed\n",
    "\n",
    "    def sound(self):\n",
    "        return \"Woof!\"\n",
    "\n",
    "# Child class (derived class) inheriting from Animal\n",
    "class Cat(Animal):\n",
    "    def __init__(self, breed):\n",
    "        super().__init__('Cat')\n",
    "        self.breed = breed\n",
    "\n",
    "    def sound(self):\n",
    "        return \"Meow!\""
   ]
  },
  {
   "cell_type": "markdown",
   "id": "9ff1d1d0",
   "metadata": {},
   "source": [
    "Significance of inheritance in OOP:\n",
    "\n",
    "Code Reusability: Inheritance enables the reuse of code from existing classes. Child classes can inherit attributes and methods from their parent classes, reducing code duplication.\n",
    "\n",
    "Extensibility: Child classes can extend or modify the behavior of their parent classes. They can add new methods or attributes specific to them while still having access to the functionalities of the parent class.\n",
    "\n",
    "Organizational Hierarchy: Inheritance allows for organizing classes into a hierarchy based on their relationships, making the code more structured and easier to understand.\n",
    "\n",
    "Polymorphism: Inherited methods can be overridden in the child class, allowing different classes to provide their own implementation of methods with the same name. This feature enables polymorphic behavior where different objects can be treated interchangeably based on a common interface or base class."
   ]
  },
  {
   "cell_type": "markdown",
   "id": "20e112b5",
   "metadata": {},
   "source": [
    "### 2. Differentiate between single inheritance and multiple inheritance in Python. Provide examples for each."
   ]
  },
  {
   "cell_type": "markdown",
   "id": "c4c5b19d",
   "metadata": {},
   "source": [
    " inheritance can be categorized into two main types: single inheritance and multiple inheritance.\n",
    "        \n",
    "Single Inheritance:\n",
    "Single inheritance refers to a scenario where a class inherits from only one parent class. This means a derived class (child class) extends the functionality of a single base class.\n",
    "\n",
    "Example of single inheritance:"
   ]
  },
  {
   "cell_type": "code",
   "execution_count": 3,
   "id": "d2ee2e5f",
   "metadata": {},
   "outputs": [
    {
     "name": "stdout",
     "output_type": "stream",
     "text": [
      "Toyota Corolla is being driven\n"
     ]
    }
   ],
   "source": [
    "# Single inheritance example\n",
    "class Vehicle:\n",
    "    def __init__(self, brand):\n",
    "        self.brand = brand\n",
    "\n",
    "    def drive(self):\n",
    "        return \"Vehicle is being driven\"\n",
    "\n",
    "# Car class inherits from Vehicle\n",
    "class Car(Vehicle):\n",
    "    def __init__(self, brand, model):\n",
    "        super().__init__(brand)\n",
    "        self.model = model\n",
    "\n",
    "    def drive(self):\n",
    "        return f\"{self.brand} {self.model} is being driven\"\n",
    "\n",
    "# Creating an instance of Car\n",
    "car = Car(\"Toyota\", \"Corolla\")\n",
    "print(car.drive())  # Output: Toyota Corolla is being driven"
   ]
  },
  {
   "cell_type": "markdown",
   "id": "4f097509",
   "metadata": {},
   "source": [
    "In this example, the Car class inherits from the Vehicle class using single inheritance. The Car class has its own unique method drive, which overrides the drive method of the Vehicle class."
   ]
  },
  {
   "cell_type": "markdown",
   "id": "f128c9a2",
   "metadata": {},
   "source": [
    "Multiple Inheritance:\n",
    "Multiple inheritance allows a class to inherit from more than one base class. This means a derived class can inherit attributes and methods from multiple parent classes.\n",
    "\n",
    "Example of multiple inheritance:"
   ]
  },
  {
   "cell_type": "code",
   "execution_count": 4,
   "id": "c639961d",
   "metadata": {},
   "outputs": [
    {
     "name": "stdout",
     "output_type": "stream",
     "text": [
      "Method A from class A\n",
      "Method B from class B\n",
      "Method C from class C\n"
     ]
    }
   ],
   "source": [
    "# Multiple inheritance example\n",
    "class A:\n",
    "    def method_A(self):\n",
    "        return \"Method A from class A\"\n",
    "\n",
    "class B:\n",
    "    def method_B(self):\n",
    "        return \"Method B from class B\"\n",
    "\n",
    "# Class C inherits from both class A and class B\n",
    "class C(A, B):\n",
    "    def method_C(self):\n",
    "        return \"Method C from class C\"\n",
    "\n",
    "# Creating an instance of class C\n",
    "instance_c = C()\n",
    "print(instance_c.method_A())  # Output: Method A from class A\n",
    "print(instance_c.method_B())  # Output: Method B from class B\n",
    "print(instance_c.method_C())  # Output: Method C from class C\n"
   ]
  },
  {
   "cell_type": "markdown",
   "id": "3feb5c50",
   "metadata": {},
   "source": [
    "In this example, the C class inherits from both classes A and B, demonstrating multiple inheritance. As a result, the instance of class C can access methods from both A and B, along with its own methods defined within class C."
   ]
  },
  {
   "cell_type": "markdown",
   "id": "e827379f",
   "metadata": {},
   "source": [
    "### 3. Create a Python class called `Vehicle` with attributes `color` and `speed`. Then, create a child class called`Car` that inherits from `Vehicle` and adds a `brand` attribute. Provide an example of creating a `Car` object."
   ]
  },
  {
   "cell_type": "code",
   "execution_count": 5,
   "id": "233085bc",
   "metadata": {},
   "outputs": [
    {
     "name": "stdout",
     "output_type": "stream",
     "text": [
      "Color: Red\n",
      "Speed: 120\n",
      "Brand: Toyota\n"
     ]
    }
   ],
   "source": [
    "# Parent class - Vehicle\n",
    "class Vehicle:\n",
    "    def __init__(self, color, speed):\n",
    "        self.color = color\n",
    "        self.speed = speed\n",
    "\n",
    "# Child class - Car (inherits from Vehicle)\n",
    "class Car(Vehicle):\n",
    "    def __init__(self, color, speed, brand):\n",
    "        super().__init__(color, speed)\n",
    "        self.brand = brand\n",
    "\n",
    "# Creating a Car object\n",
    "car_obj = Car(\"Red\", 120, \"Toyota\")\n",
    "\n",
    "# Accessing attributes of the Car object\n",
    "print(f\"Color: {car_obj.color}\")\n",
    "print(f\"Speed: {car_obj.speed}\")\n",
    "print(f\"Brand: {car_obj.brand}\")\n"
   ]
  },
  {
   "cell_type": "markdown",
   "id": "3110e266",
   "metadata": {},
   "source": [
    "### 4. Explain the concept of method overriding in inheritance. Provide a practical example."
   ]
  },
  {
   "cell_type": "markdown",
   "id": "45391ee3",
   "metadata": {},
   "source": [
    "Method overriding in inheritance refers to the ability of a subclass to provide a specific implementation for a method that is already defined in its parent class. When a method is overridden in a subclass, the subclass provides its own version of the method, effectively replacing the implementation inherited from the parent class.\n",
    "\n",
    "The overridden method in the subclass should have the same name, parameters, and return type as the method in the parent class. This allows the subclass to customize or extend the behavior of the method without changing the interface.\n",
    "\n",
    "Here's an example demonstrating method overriding in Python:"
   ]
  },
  {
   "cell_type": "code",
   "execution_count": 6,
   "id": "76347157",
   "metadata": {},
   "outputs": [
    {
     "name": "stdout",
     "output_type": "stream",
     "text": [
      "Woof! Woof!\n",
      "Meow! Meow!\n"
     ]
    }
   ],
   "source": [
    "# Parent class - Animal\n",
    "class Animal:\n",
    "    def make_sound(self):\n",
    "        return \"Generic animal sound\"\n",
    "\n",
    "# Child class - Dog (inherits from Animal)\n",
    "class Dog(Animal):\n",
    "    def make_sound(self):\n",
    "        return \"Woof! Woof!\"\n",
    "\n",
    "# Child class - Cat (inherits from Animal)\n",
    "class Cat(Animal):\n",
    "    def make_sound(self):\n",
    "        return \"Meow! Meow!\"\n",
    "\n",
    "# Creating instances of Dog and Cat\n",
    "dog = Dog()\n",
    "cat = Cat()\n",
    "\n",
    "# Calling the overridden method\n",
    "print(dog.make_sound())  # Output: Woof! Woof!\n",
    "print(cat.make_sound())  # Output: Meow! Meow!\n"
   ]
  },
  {
   "cell_type": "markdown",
   "id": "d6046a10",
   "metadata": {},
   "source": [
    "### 5. How can you access the methods and attributes of a parent class from a child class in Python? Give an example."
   ]
  },
  {
   "cell_type": "markdown",
   "id": "72539953",
   "metadata": {},
   "source": [
    "In Python, you can access the methods and attributes of a parent class from a child class using the super() function or by directly referencing the parent class.\n",
    "\n",
    "Here's an example demonstrating both approaches:"
   ]
  },
  {
   "cell_type": "code",
   "execution_count": 7,
   "id": "c19cfca8",
   "metadata": {},
   "outputs": [
    {
     "name": "stdout",
     "output_type": "stream",
     "text": [
      "Brand: Toyota, Color: Red, Speed: 120 km/h\n"
     ]
    }
   ],
   "source": [
    "# Parent class - Vehicle\n",
    "class Vehicle:\n",
    "    def __init__(self, color, speed):\n",
    "        self.color = color\n",
    "        self.speed = speed\n",
    "\n",
    "    def display_info(self):\n",
    "        return f\"Color: {self.color}, Speed: {self.speed} km/h\"\n",
    "\n",
    "# Child class - Car (inherits from Vehicle)\n",
    "class Car(Vehicle):\n",
    "    def __init__(self, color, speed, brand):\n",
    "        super().__init__(color, speed)  # Using super() to access the parent class constructor\n",
    "        self.brand = brand\n",
    "\n",
    "    def car_info(self):\n",
    "        parent_info = super().display_info()  # Accessing parent class method using super()\n",
    "        return f\"Brand: {self.brand}, {parent_info}\"\n",
    "\n",
    "# Creating a Car object\n",
    "car_obj = Car(\"Red\", 120, \"Toyota\")\n",
    "\n",
    "# Accessing methods and attributes of the Car object\n",
    "print(car_obj.car_info())  # Output: Brand: Toyota, Color: Red, Speed: 120 km/h"
   ]
  },
  {
   "cell_type": "markdown",
   "id": "813b9809",
   "metadata": {},
   "source": [
    "### 6. Discuss the use of the `super()` function in Python inheritance. When and why is it used? Provide an example."
   ]
  },
  {
   "cell_type": "markdown",
   "id": "8ed1908f",
   "metadata": {},
   "source": [
    "The super() function in Python is used primarily in the context of inheritance to access methods, attributes, and constructors of the parent (or superclass) within a subclass. It provides a way to invoke methods or the constructor of the superclass, enabling better code maintenance and facilitating cooperative multiple inheritance.\n",
    "\n",
    "Here are some key points about the super() function:\n",
    "\n",
    "Accessing Superclass Methods and Constructors:\n",
    "\n",
    "super() allows you to access methods and the constructor of the superclass within the subclass, enabling you to call these methods without explicitly naming the superclass.\n",
    "It is commonly used to invoke the superclass's constructor to initialize inherited attributes.\n",
    "Method Resolution Order (MRO):\n",
    "\n",
    "super() helps in handling the method resolution order (MRO) in multiple inheritance scenarios. It respects the order in which classes are inherited and follows the MRO to find the next method to be called.\n",
    "Passing Arguments to Superclass Constructor:\n",
    "\n",
    "It's often used to pass arguments to the superclass constructor while initializing attributes specific to the subclass.\n",
    "Improved Code Maintenance and Flexibility:\n",
    "\n",
    "Using super() enhances code maintainability by providing a mechanism that automatically adapts to changes in the inheritance hierarchy.\n",
    "It encourages code reusability and supports easier modifications to the class hierarchy.\n",
    "Example demonstrating the use of super():"
   ]
  },
  {
   "cell_type": "code",
   "execution_count": 8,
   "id": "6d05ff4c",
   "metadata": {},
   "outputs": [
    {
     "name": "stdout",
     "output_type": "stream",
     "text": [
      "Brand: Toyota, Color: Red, Speed: 120 km/h\n"
     ]
    }
   ],
   "source": [
    "# Parent class - Vehicle\n",
    "class Vehicle:\n",
    "    def __init__(self, color, speed):\n",
    "        self.color = color\n",
    "        self.speed = speed\n",
    "\n",
    "    def display_info(self):\n",
    "        return f\"Color: {self.color}, Speed: {self.speed} km/h\"\n",
    "\n",
    "# Child class - Car (inherits from Vehicle)\n",
    "class Car(Vehicle):\n",
    "    def __init__(self, color, speed, brand):\n",
    "        super().__init__(color, speed)  # Calling superclass constructor using super()\n",
    "        self.brand = brand\n",
    "\n",
    "    def car_info(self):\n",
    "        parent_info = super().display_info()  # Accessing superclass method using super()\n",
    "        return f\"Brand: {self.brand}, {parent_info}\"\n",
    "\n",
    "# Creating a Car object\n",
    "car_obj = Car(\"Red\", 120, \"Toyota\")\n",
    "\n",
    "# Accessing methods and attributes of the Car object\n",
    "print(car_obj.car_info())  # Output: Brand: Toyota, Color: Red, Speed: 120 km/h\n"
   ]
  },
  {
   "cell_type": "markdown",
   "id": "65c75311",
   "metadata": {},
   "source": [
    "### 7. Create a Python class called `Animal` with a method `speak()`. Then, create child classes `Dog` and `Cat` that inherit from `Animal` and override the `speak()` method. Provide an example of using these classes."
   ]
  },
  {
   "cell_type": "code",
   "execution_count": 9,
   "id": "78257700",
   "metadata": {},
   "outputs": [
    {
     "name": "stdout",
     "output_type": "stream",
     "text": [
      "Woof! Woof!\n",
      "Meow! Meow!\n"
     ]
    }
   ],
   "source": [
    "# Parent class - Animal\n",
    "class Animal:\n",
    "    def speak(self):\n",
    "        return \"Generic animal sound\"\n",
    "\n",
    "# Child class - Dog (inherits from Animal)\n",
    "class Dog(Animal):\n",
    "    def speak(self):\n",
    "        return \"Woof! Woof!\"\n",
    "\n",
    "# Child class - Cat (inherits from Animal)\n",
    "class Cat(Animal):\n",
    "    def speak(self):\n",
    "        return \"Meow! Meow!\"\n",
    "\n",
    "# Creating instances of Dog and Cat\n",
    "dog = Dog()\n",
    "cat = Cat()\n",
    "\n",
    "# Using overridden methods\n",
    "print(dog.speak())  # Output: Woof! Woof!\n",
    "print(cat.speak())  # Output: Meow! Meow!\n"
   ]
  },
  {
   "cell_type": "markdown",
   "id": "0daf9786",
   "metadata": {},
   "source": [
    "### 8. Explain the role of the `isinstance()` function in Python and how it relates to inheritance."
   ]
  },
  {
   "cell_type": "markdown",
   "id": "5173124d",
   "metadata": {},
   "source": [
    "The isinstance() function in Python is used to check whether an object is an instance of a particular class or any of its subclasses. It returns True if the object is an instance of the specified class or a subclass, otherwise False.\n",
    "\n",
    "Role of isinstance() function in inheritance:\n",
    "\n",
    "Checking Object Type:\n",
    "\n",
    "isinstance() allows you to determine the type of an object at runtime. It helps in verifying whether an object belongs to a specific class or its subclasses.\n",
    "Verification in Inheritance Hierarchy:\n",
    "\n",
    "In the context of inheritance, isinstance() helps in understanding the inheritance relationships between classes.\n",
    "It can check if an object belongs to a particular class or any of its derived classes, aiding in polymorphic behavior and dynamic type checking.\n",
    "Conditional Branching and Type Validation:\n",
    "\n",
    "It's commonly used in conditional branching where different behaviors are executed based on the type of the object.\n",
    "It assists in validating types before performing operations or method calls, ensuring that the object possesses the expected methods and attributes.\n",
    "Example demonstrating the use of isinstance() in inheritance:"
   ]
  },
  {
   "cell_type": "code",
   "execution_count": 10,
   "id": "ec88a8ba",
   "metadata": {},
   "outputs": [
    {
     "name": "stdout",
     "output_type": "stream",
     "text": [
      "True\n",
      "True\n",
      "True\n",
      "True\n",
      "It's an animal!\n"
     ]
    }
   ],
   "source": [
    "# Parent class - Animal\n",
    "class Animal:\n",
    "    def make_sound(self):\n",
    "        return \"Generic animal sound\"\n",
    "\n",
    "# Child class - Dog (inherits from Animal)\n",
    "class Dog(Animal):\n",
    "    def make_sound(self):\n",
    "        return \"Woof! Woof!\"\n",
    "\n",
    "# Child class - Cat (inherits from Animal)\n",
    "class Cat(Animal):\n",
    "    def make_sound(self):\n",
    "        return \"Meow! Meow!\"\n",
    "\n",
    "# Creating instances of Dog and Cat\n",
    "dog = Dog()\n",
    "cat = Cat()\n",
    "\n",
    "# Using isinstance() to check object types\n",
    "print(isinstance(dog, Dog))    # Output: True\n",
    "print(isinstance(cat, Cat))    # Output: True\n",
    "print(isinstance(dog, Animal)) # Output: True (Dog is also an instance of Animal)\n",
    "print(isinstance(cat, Animal)) # Output: True (Cat is also an instance of Animal)\n",
    "\n",
    "# Using isinstance() for conditional branching\n",
    "if isinstance(dog, Animal):\n",
    "    print(\"It's an animal!\")\n",
    "else:\n",
    "    print(\"It's not an animal!\")\n"
   ]
  },
  {
   "cell_type": "markdown",
   "id": "90a7249e",
   "metadata": {},
   "source": [
    "### 9. What is the purpose of the `issubclass()` function in Python? Provide an example."
   ]
  },
  {
   "cell_type": "markdown",
   "id": "c391f4a0",
   "metadata": {},
   "source": [
    "The issubclass() function in Python is used to check whether a given class is a subclass of another class. It determines if one class is derived from another class, indicating inheritance relationships.\n",
    "\n",
    "Purpose of issubclass():\n",
    "\n",
    "Checking Inheritance Relationships:\n",
    "\n",
    "issubclass() verifies if a class is a subclass of another class, indicating the existence of an inheritance relationship.\n",
    "Hierarchy Verification:\n",
    "\n",
    "It helps in understanding the class hierarchy by determining if a class is derived from another class directly or indirectly through multiple inheritance.\n",
    "Conditional Handling based on Inheritance:\n",
    "\n",
    "It's used in conditional statements to execute code based on the inheritance relationship between classes.\n",
    "Example demonstrating the use of issubclass():"
   ]
  },
  {
   "cell_type": "code",
   "execution_count": 11,
   "id": "487a2a18",
   "metadata": {},
   "outputs": [
    {
     "name": "stdout",
     "output_type": "stream",
     "text": [
      "True\n",
      "True\n",
      "True\n",
      "True\n"
     ]
    }
   ],
   "source": [
    "# Parent class - Animal\n",
    "class Animal:\n",
    "    pass\n",
    "\n",
    "# Child class - Dog (inherits from Animal)\n",
    "class Dog(Animal):\n",
    "    pass\n",
    "\n",
    "# Child class - GermanShepherd (inherits from Dog)\n",
    "class GermanShepherd(Dog):\n",
    "    pass\n",
    "\n",
    "# Using issubclass() to check inheritance relationships\n",
    "print(issubclass(Dog, Animal))            # Output: True (Dog is a subclass of Animal)\n",
    "print(issubclass(GermanShepherd, Dog))    # Output: True (GermanShepherd is a subclass of Dog)\n",
    "print(issubclass(GermanShepherd, Animal)) # Output: True (GermanShepherd is a subclass of Animal)\n",
    "\n",
    "# Checking if a class is a subclass of itself\n",
    "print(issubclass(Animal, Animal))         # Output: True (Every class is a subclass of itself)\n"
   ]
  },
  {
   "cell_type": "markdown",
   "id": "b67e08f6",
   "metadata": {},
   "source": [
    "### 10. Discuss the concept of constructor inheritance in Python. How are constructors inherited in child classes?"
   ]
  },
  {
   "cell_type": "markdown",
   "id": "e408ecc6",
   "metadata": {},
   "source": [
    "\n",
    "In Python, constructor inheritance refers to the way in which child classes inherit the behavior of constructors (the __init__() method) from their parent classes.\n",
    "\n",
    "Key points about constructor inheritance in Python:\n",
    "\n",
    "Automatic Inheritance:\n",
    "If a child class does not have its own __init__() method defined, it automatically inherits the constructor from its parent class.\n",
    "Overriding Constructors:\n",
    "Child classes can define their own __init__() method. When this happens, the child class constructor overrides the parent class constructor.\n",
    "Accessing Parent Class Constructor:\n",
    "Child classes that define their own __init__() method can still access the parent class constructor using the super() function to perform initialization for the inherited attributes from the parent class.\n",
    "Example illustrating constructor inheritance:"
   ]
  },
  {
   "cell_type": "code",
   "execution_count": 12,
   "id": "c42445c0",
   "metadata": {},
   "outputs": [
    {
     "name": "stdout",
     "output_type": "stream",
     "text": [
      "Brand: Toyota, Color: Red\n"
     ]
    }
   ],
   "source": [
    "# Parent class - Vehicle\n",
    "class Vehicle:\n",
    "    def __init__(self, color):\n",
    "        self.color = color\n",
    "\n",
    "    def display_info(self):\n",
    "        return f\"Color: {self.color}\"\n",
    "\n",
    "# Child class - Car (inherits from Vehicle)\n",
    "class Car(Vehicle):\n",
    "    def __init__(self, color, brand):\n",
    "        super().__init__(color)  # Calling the constructor of the parent class\n",
    "        self.brand = brand\n",
    "\n",
    "    def car_info(self):\n",
    "        return f\"Brand: {self.brand}, {self.display_info()}\"\n",
    "\n",
    "# Creating a Car object\n",
    "car_obj = Car(\"Red\", \"Toyota\")\n",
    "\n",
    "# Accessing methods and attributes of the Car object\n",
    "print(car_obj.car_info())  # Output: Brand: Toyota, Color: Red"
   ]
  },
  {
   "cell_type": "markdown",
   "id": "6c7af42a",
   "metadata": {},
   "source": [
    "### 11. Create a Python class called `Shape` with a method `area()` that calculates the area of a shape. Then, create child classes `Circle` and `Rectangle` that inherit from `Shape` and implement the `area()` method accordingly. Provide an example."
   ]
  },
  {
   "cell_type": "code",
   "execution_count": 13,
   "id": "ee477f6b",
   "metadata": {},
   "outputs": [
    {
     "name": "stdout",
     "output_type": "stream",
     "text": [
      "Area of the circle: 78.54\n",
      "Area of the rectangle: 24\n"
     ]
    }
   ],
   "source": [
    "import math\n",
    "\n",
    "# Parent class - Shape\n",
    "class Shape:\n",
    "    def area(self):\n",
    "        pass  # To be overridden by child classes\n",
    "\n",
    "# Child class - Circle (inherits from Shape)\n",
    "class Circle(Shape):\n",
    "    def __init__(self, radius):\n",
    "        self.radius = radius\n",
    "\n",
    "    def area(self):\n",
    "        return math.pi * self.radius ** 2\n",
    "\n",
    "# Child class - Rectangle (inherits from Shape)\n",
    "class Rectangle(Shape):\n",
    "    def __init__(self, width, height):\n",
    "        self.width = width\n",
    "        self.height = height\n",
    "\n",
    "    def area(self):\n",
    "        return self.width * self.height\n",
    "\n",
    "# Creating instances of Circle and Rectangle\n",
    "circle = Circle(5)\n",
    "rectangle = Rectangle(4, 6)\n",
    "\n",
    "# Calculating areas of the shapes\n",
    "print(f\"Area of the circle: {circle.area():.2f}\")\n",
    "print(f\"Area of the rectangle: {rectangle.area()}\")\n"
   ]
  },
  {
   "cell_type": "markdown",
   "id": "f8ce9336",
   "metadata": {},
   "source": [
    "### 12. Explain the use of abstract base classes (ABCs) in Python and how they relate to inheritance. Provide an example using the `abc` module."
   ]
  },
  {
   "cell_type": "markdown",
   "id": "745c0479",
   "metadata": {},
   "source": [
    "\n",
    "Abstract Base Classes (ABCs) in Python, provided by the abc module, allow you to define abstract methods and enforce a certain structure for subclasses. They enable you to define a blueprint or interface that child classes must implement. ABCs cannot be instantiated themselves; they are used as a guideline for subclasses.\n",
    "\n",
    "Key points about ABCs and their relationship to inheritance:\n",
    "\n",
    "Defining Abstract Methods:\n",
    "\n",
    "ABCs define abstract methods that have no implementation in the base class but must be implemented in the subclasses.\n",
    "Enforcing Structure:\n",
    "\n",
    "ABCs serve as a contract, ensuring that all subclasses implementing the ABCs must provide the required methods and attributes.\n",
    "Using abc Module:\n",
    "\n",
    "The abc module provides the ABC class and abstractmethod decorator to define abstract methods and classes.\n",
    "Example using the abc module:"
   ]
  },
  {
   "cell_type": "code",
   "execution_count": 14,
   "id": "875d4a73",
   "metadata": {},
   "outputs": [
    {
     "name": "stdout",
     "output_type": "stream",
     "text": [
      "Error: Can't instantiate abstract class Shape with abstract method area\n",
      "Area of the circle: 78.5\n",
      "Area of the rectangle: 24\n"
     ]
    }
   ],
   "source": [
    "from abc import ABC, abstractmethod\n",
    "\n",
    "# Abstract Base Class - Shape\n",
    "class Shape(ABC):\n",
    "    @abstractmethod\n",
    "    def area(self):\n",
    "        pass  # To be implemented by subclasses\n",
    "\n",
    "# Concrete subclasses implementing Shape\n",
    "class Circle(Shape):\n",
    "    def __init__(self, radius):\n",
    "        self.radius = radius\n",
    "\n",
    "    def area(self):\n",
    "        return 3.14 * self.radius ** 2\n",
    "\n",
    "class Rectangle(Shape):\n",
    "    def __init__(self, width, height):\n",
    "        self.width = width\n",
    "        self.height = height\n",
    "\n",
    "    def area(self):\n",
    "        return self.width * self.height\n",
    "\n",
    "# Trying to instantiate Shape (an abstract class) will raise an error\n",
    "try:\n",
    "    s = Shape()  # Attempting to create an instance of an abstract class\n",
    "except TypeError as e:\n",
    "    print(f\"Error: {e}\")\n",
    "\n",
    "# Creating instances of Circle and Rectangle\n",
    "circle = Circle(5)\n",
    "rectangle = Rectangle(4, 6)\n",
    "\n",
    "# Calculating areas of the shapes\n",
    "print(f\"Area of the circle: {circle.area()}\")\n",
    "print(f\"Area of the rectangle: {rectangle.area()}\")"
   ]
  },
  {
   "cell_type": "markdown",
   "id": "b3e17d9f",
   "metadata": {},
   "source": [
    "### 13. How can you prevent a child class from modifying certain attributes or methods inherited from a parent class in Python?"
   ]
  },
  {
   "cell_type": "markdown",
   "id": "b17eb79d",
   "metadata": {},
   "source": [
    "\n",
    "In Python, we can prevent a child class from modifying certain attributes or methods inherited from a parent class by using a combination of access modifiers, specifically Python's concept of name mangling and method overriding.\n",
    "\n",
    "Name Mangling:\n",
    "Python has a convention for name mangling of attributes/methods starting with double underscores (__). By prefixing an attribute or method with __ in the parent class, you can prevent direct access or modification by subclasses.\n",
    "Method Overriding without Calling Superclass Method:\n",
    "When a child class overrides a method from the parent class but does not call the superclass method, it effectively prevents the subclass from modifying the behavior of the superclass method.\n",
    "Example illustrating the prevention of modifications in inherited attributes/methods:"
   ]
  },
  {
   "cell_type": "code",
   "execution_count": 15,
   "id": "ab1e6b9e",
   "metadata": {},
   "outputs": [
    {
     "name": "stdout",
     "output_type": "stream",
     "text": [
      "Cannot be modified\n",
      "Cannot be modified\n",
      "Modified in Square\n"
     ]
    }
   ],
   "source": [
    "# Parent class - Shape\n",
    "class Shape:\n",
    "    def __init__(self):\n",
    "        self.__restricted_attr = \"Cannot be modified\"\n",
    "        \n",
    "    def __restricted_method(self):\n",
    "        return \"Cannot be modified\"\n",
    "\n",
    "    def get_restricted_attr(self):\n",
    "        return self.__restricted_attr\n",
    "\n",
    "    def call_restricted_method(self):\n",
    "        return self.__restricted_method()\n",
    "\n",
    "# Child class - Square (inherits from Shape)\n",
    "class Square(Shape):\n",
    "    def __init__(self):\n",
    "        super().__init__()\n",
    "\n",
    "    def modify_attr(self):\n",
    "        # Trying to modify restricted attribute will create a new attribute in child class\n",
    "        self.__restricted_attr = \"Modified in Square\"\n",
    "        \n",
    "    def call_restricted_method(self):\n",
    "        # Overriding the method without calling the parent class method\n",
    "        return \"Modified in Square\"\n",
    "\n",
    "# Creating instances of Square\n",
    "square = Square()\n",
    "\n",
    "# Accessing and attempting modifications on restricted attributes/methods\n",
    "print(square.get_restricted_attr())       # Output: Cannot be modified\n",
    "square.modify_attr()\n",
    "print(square.get_restricted_attr())       # Output: Cannot be modified (not modified)\n",
    "print(square.call_restricted_method())   # Output: Modified in Square\n"
   ]
  },
  {
   "cell_type": "markdown",
   "id": "c2047d29",
   "metadata": {},
   "source": [
    "### 14. Create a Python class called `Employee` with attributes `name` and `salary`. Then, create a child class`Manager` that inherits from `Employee` and adds an attribute `department`. Provide an example."
   ]
  },
  {
   "cell_type": "code",
   "execution_count": 16,
   "id": "daf5cb01",
   "metadata": {},
   "outputs": [
    {
     "name": "stdout",
     "output_type": "stream",
     "text": [
      "Name: Alice\n",
      "Salary: $80000\n",
      "Department: Sales\n"
     ]
    }
   ],
   "source": [
    "# Parent class - Employee\n",
    "class Employee:\n",
    "    def __init__(self, name, salary):\n",
    "        self.name = name\n",
    "        self.salary = salary\n",
    "\n",
    "# Child class - Manager (inherits from Employee)\n",
    "class Manager(Employee):\n",
    "    def __init__(self, name, salary, department):\n",
    "        super().__init__(name, salary)  # Calling the constructor of the parent class\n",
    "        self.department = department\n",
    "\n",
    "# Creating an instance of Manager\n",
    "manager = Manager(\"Alice\", 80000, \"Sales\")\n",
    "\n",
    "# Accessing attributes of the Manager object\n",
    "print(f\"Name: {manager.name}\")\n",
    "print(f\"Salary: ${manager.salary}\")\n",
    "print(f\"Department: {manager.department}\")\n"
   ]
  },
  {
   "cell_type": "markdown",
   "id": "803f90ed",
   "metadata": {},
   "source": [
    "### 15. Discuss the concept of method overloading in Python inheritance. How does it differ from method overriding?"
   ]
  },
  {
   "cell_type": "markdown",
   "id": "1f234584",
   "metadata": {},
   "source": [
    "\n",
    "In Python, method overloading and method overriding are related concepts in object-oriented programming, but they serve different purposes.\n",
    "\n",
    "Method Overloading:\n",
    "Method overloading refers to defining multiple methods in the same class with the same name but different parameters or argument lists. Python does not have built-in support for method overloading like some other programming languages (e.g., Java or C++), where you can define multiple methods with the same name but different parameter types or counts.\n",
    "\n",
    "However, Python allows a form of method overloading through default arguments and variable-length arguments. You can define a single method and use default parameter values or employ variable-length arguments like *args or **kwargs to simulate method overloading.\n",
    "\n",
    "Here's an example demonstrating method overloading in Python using default arguments:"
   ]
  },
  {
   "cell_type": "code",
   "execution_count": 1,
   "id": "85ce6fd9",
   "metadata": {},
   "outputs": [
    {
     "name": "stdout",
     "output_type": "stream",
     "text": [
      "5\n",
      "2\n"
     ]
    }
   ],
   "source": [
    "class Calculator:\n",
    "    def add(self, a, b=0):\n",
    "        return a + b\n",
    "\n",
    "# Usage\n",
    "calc = Calculator()\n",
    "print(calc.add(2, 3))  # Output: 5\n",
    "print(calc.add(2))     # Output: 2 (uses default value for 'b')\n"
   ]
  },
  {
   "cell_type": "markdown",
   "id": "b49108b5",
   "metadata": {},
   "source": [
    "Difference between Method Overloading and Method Overriding:\n",
    "Method Overloading deals with having multiple methods with the same name but different parameters within the same class or object. Python achieves method overloading by using default arguments or variable-length arguments.\n",
    "\n",
    "Method Overriding occurs when a subclass provides a specific implementation of a method that is already present in its superclass. It allows the subclass to provide a specialized implementation of a method inherited from the superclass.\n",
    "\n",
    "In summary, method overloading involves having multiple methods with the same name but different parameters within a class or object, while method overriding involves redefining a method in a subclass to provide a new implementation or extend the behavior of the superclass method."
   ]
  },
  {
   "cell_type": "markdown",
   "id": "5221ae7a",
   "metadata": {},
   "source": [
    "### 16. Explain the purpose of the `__init__()` method in Python inheritance and how it is utilized in child classes."
   ]
  },
  {
   "cell_type": "markdown",
   "id": "b04aa14b",
   "metadata": {},
   "source": [
    " the __init__() method is a special method, also known as the constructor method. It is used to initialize an object's attributes when an instance of a class is created. This method is automatically called when a new object is instantiated from a class.\n",
    "\n",
    "Purpose of the __init__() method:\n",
    "Initializing Attributes: The primary purpose of __init__() is to initialize the object's attributes or instance variables. Inside this method, you can set initial values for the object's properties by assigning values to attributes.\n",
    "\n",
    "Constructor Functionality: It acts as a constructor for a class. When you create an instance of a class, Python automatically calls the __init__() method for that instance.\n",
    "\n",
    "Utilization in Child Classes (Inheritance):\n",
    "When working with inheritance in Python, if a subclass does not have its own __init__() method, it will automatically call the __init__() method of its parent class (superclass). However, if the subclass has its own __init__() method, it can extend or override the initialization process of the superclass while still utilizing the parent class's initialization logic if necessary, using the super() function.\n",
    "\n",
    "Here's an example illustrating how __init__() method works in inheritance:"
   ]
  },
  {
   "cell_type": "code",
   "execution_count": 2,
   "id": "c66a0b7c",
   "metadata": {},
   "outputs": [
    {
     "name": "stdout",
     "output_type": "stream",
     "text": [
      "Generic\n",
      "Canine\n",
      "Labrador\n"
     ]
    }
   ],
   "source": [
    "class Animal:\n",
    "    def __init__(self, species):\n",
    "        self.species = species\n",
    "\n",
    "    def sound(self):\n",
    "        return \"Some generic sound\"\n",
    "\n",
    "class Dog(Animal):\n",
    "    def __init__(self, species, breed):\n",
    "        super().__init__(species)  # Calling superclass's __init__ method\n",
    "        self.breed = breed\n",
    "\n",
    "    def sound(self):\n",
    "        return \"Bark Bark!\"\n",
    "\n",
    "# Creating instances\n",
    "animal = Animal(\"Generic\")\n",
    "dog = Dog(\"Canine\", \"Labrador\")\n",
    "\n",
    "print(animal.species)  # Output: Generic\n",
    "print(dog.species)     # Output: Canine\n",
    "print(dog.breed)       # Output: Labrador"
   ]
  },
  {
   "cell_type": "markdown",
   "id": "d18c70ad",
   "metadata": {},
   "source": [
    "### 17. Create a Python class called `Bird` with a method `fly()`. Then, create child classes `Eagle` and `Sparrow` that inherit from `Bird` and implement the `fly()` method differently. Provide an example of using these classes."
   ]
  },
  {
   "cell_type": "code",
   "execution_count": 3,
   "id": "35a7e09a",
   "metadata": {},
   "outputs": [
    {
     "name": "stdout",
     "output_type": "stream",
     "text": [
      "Flying with wings\n",
      "Soaring high in the sky like an eagle\n",
      "Flitting through the air like a sparrow\n"
     ]
    }
   ],
   "source": [
    "class Bird:\n",
    "    def fly(self):\n",
    "        return \"Flying with wings\"\n",
    "\n",
    "class Eagle(Bird):\n",
    "    def fly(self):\n",
    "        return \"Soaring high in the sky like an eagle\"\n",
    "\n",
    "class Sparrow(Bird):\n",
    "    def fly(self):\n",
    "        return \"Flitting through the air like a sparrow\"\n",
    "\n",
    "# Example usage:\n",
    "bird = Bird()\n",
    "eagle = Eagle()\n",
    "sparrow = Sparrow()\n",
    "\n",
    "print(bird.fly())    # Output: Flying with wings\n",
    "print(eagle.fly())   # Output: Soaring high in the sky like an eagle\n",
    "print(sparrow.fly()) # Output: Flitting through the air like a sparrow\n"
   ]
  },
  {
   "cell_type": "markdown",
   "id": "b5186e52",
   "metadata": {},
   "source": [
    "In this example:\n",
    "\n",
    "The Bird class defines a fly() method that represents the default behavior of flying for any generic bird.\n",
    "The Eagle class inherits from Bird and provides its own implementation of the fly() method, describing how an eagle flies.\n",
    "The Sparrow class, also inheriting from Bird, implements the fly() method in a way that depicts the flying behavior of a sparrow.\n",
    "The fly() method is overridden in both child classes to represent the specific flying behaviors of an eagle and a sparrow.\n",
    "Instances of Bird, Eagle, and Sparrow classes are created, and their fly() methods are called to demonstrate the different flying behaviors based on the specific class implementations."
   ]
  },
  {
   "cell_type": "markdown",
   "id": "98400294",
   "metadata": {},
   "source": [
    "### 18. What is the \"diamond problem\" in multiple inheritance, and how does Python address it?"
   ]
  },
  {
   "cell_type": "markdown",
   "id": "ee4be917",
   "metadata": {},
   "source": [
    "\n",
    "The \"diamond problem\" is a common issue that arises in programming languages that support multiple inheritance, where a particular class inherits from two or more classes which have a common ancestor. This issue gets its name from the diamond shape that appears in the inheritance diagram."
   ]
  },
  {
   "cell_type": "raw",
   "id": "f2dd7b58",
   "metadata": {},
   "source": [
    "    A\n",
    "   / \\\n",
    "  B   C\n",
    "   \\ /\n",
    "    D\n"
   ]
  },
  {
   "cell_type": "markdown",
   "id": "126d0afc",
   "metadata": {},
   "source": [
    "In this diagram, class A is the base class, and both classes B and C inherit from A. Class D inherits from both B and C, leading to the diamond shape in the inheritance hierarchy.\n",
    "\n",
    "The problem arises when:\n",
    "\n",
    "Classes B and C inherit some method or attribute from A.\n",
    "Class D inherits from both B and C, causing ambiguity if both B and C override the same method or attribute from A.\n",
    "This ambiguity arises because:\n",
    "\n",
    "If B and C both override the same method or attribute from A, which implementation should D inherit?\n",
    "If D doesn't override that method or attribute, which overridden method should be used?\n",
    "How Python Addresses the Diamond Problem:\n",
    "Python addresses the diamond problem by using a method resolution order (MRO) to determine the order in which methods are inherited. Python uses C3 linearization, which is an algorithm to generate a consistent linearization (or order) of the classes in a multiple inheritance hierarchy.\n",
    "\n",
    "Python's super() function and the MRO help to ensure that methods are resolved consistently and follow a predictable order based on the class hierarchy. This helps to avoid ambiguity when inheriting methods or attributes from multiple classes.\n",
    "\n",
    "You can access the method resolution order for a class using the __mro__ attribute or the mro() method. For example:"
   ]
  },
  {
   "cell_type": "code",
   "execution_count": 4,
   "id": "324f0aaf",
   "metadata": {},
   "outputs": [
    {
     "name": "stdout",
     "output_type": "stream",
     "text": [
      "(<class '__main__.D'>, <class '__main__.B'>, <class '__main__.C'>, <class '__main__.A'>, <class 'object'>)\n"
     ]
    }
   ],
   "source": [
    "class A:\n",
    "    def method(self):\n",
    "        print(\"A method\")\n",
    "\n",
    "class B(A):\n",
    "    pass\n",
    "\n",
    "class C(A):\n",
    "    def method(self):\n",
    "        print(\"C method\")\n",
    "\n",
    "class D(B, C):\n",
    "    pass\n",
    "\n",
    "# Checking the method resolution order (MRO)\n",
    "print(D.__mro__)  # Output: (<class '__main__.D'>, <class '__main__.B'>, <class '__main__.C'>, <class '__main__.A'>, <class 'object'>)\n"
   ]
  },
  {
   "cell_type": "markdown",
   "id": "9ebcfc72",
   "metadata": {},
   "source": [
    "### 19. Discuss the concept of \"is-a\" and \"has-a\" relationships in inheritance, and provide examples of each."
   ]
  },
  {
   "cell_type": "markdown",
   "id": "c76d090f",
   "metadata": {},
   "source": [
    "\"Is-a\" Relationship (Inheritance):\n",
    "The \"is-a\" relationship is a type of relationship that denotes inheritance, where one class is a specialized version or subtype of another class. This relationship implies that a derived class (subclass) is a specific type of its base class (superclass).\n",
    "\n",
    "Example of \"is-a\" Relationship:\n",
    "\n",
    "Consider a hierarchy of classes representing animals:"
   ]
  },
  {
   "cell_type": "code",
   "execution_count": 5,
   "id": "7592923b",
   "metadata": {},
   "outputs": [
    {
     "name": "stdout",
     "output_type": "stream",
     "text": [
      "True\n",
      "True\n"
     ]
    }
   ],
   "source": [
    "class Animal:\n",
    "    def make_sound(self):\n",
    "        pass\n",
    "\n",
    "class Mammal(Animal):\n",
    "    def give_birth(self):\n",
    "        pass\n",
    "\n",
    "class Dog(Mammal):\n",
    "    def make_sound(self):\n",
    "        return \"Woof!\"\n",
    "\n",
    "# Usage\n",
    "dog = Dog()\n",
    "print(isinstance(dog, Animal))  # Output: True\n",
    "print(isinstance(dog, Mammal))  # Output: True\n"
   ]
  },
  {
   "cell_type": "markdown",
   "id": "96cf0f98",
   "metadata": {},
   "source": [
    "In this example, Dog is a subclass of Mammal, which is a subclass of Animal. The Dog class inherits traits from both Mammal and Animal, establishing an \"is-a\" relationship. An instance of Dog is considered an instance of both Mammal and Animal.\n",
    "\n",
    "\"Has-a\" Relationship (Composition):\n",
    "The \"has-a\" relationship represents a composition or containment relationship, where one class contains an instance of another class as a part of its attributes or members.\n",
    "\n",
    "Example of \"has-a\" Relationship:\n",
    "\n",
    "Consider a scenario involving a Car class that contains an Engine class:"
   ]
  },
  {
   "cell_type": "code",
   "execution_count": 6,
   "id": "7478b986",
   "metadata": {},
   "outputs": [
    {
     "name": "stdout",
     "output_type": "stream",
     "text": [
      "Engine started\n"
     ]
    }
   ],
   "source": [
    "class Engine:\n",
    "    def start(self):\n",
    "        return \"Engine started\"\n",
    "\n",
    "class Car:\n",
    "    def __init__(self):\n",
    "        self.engine = Engine()  # Car \"has-a\" Engine\n",
    "\n",
    "    def start_engine(self):\n",
    "        return self.engine.start()\n",
    "\n",
    "# Usage\n",
    "my_car = Car()\n",
    "print(my_car.start_engine())  # Output: Engine started\n"
   ]
  },
  {
   "cell_type": "markdown",
   "id": "5545c3f6",
   "metadata": {},
   "source": [
    "In this example, the Car class \"has-a\" relationship with the Engine class, as every instance of Car contains an instance of Engine as its attribute. The Car class uses an Engine to perform specific functionalities, such as starting the engine, by delegating the task to the contained Engine object."
   ]
  },
  {
   "cell_type": "markdown",
   "id": "a7b8d8a6",
   "metadata": {},
   "source": [
    "### 20. Create a Python class hierarchy for a university system. Start with a base class `Person` and create child classes `Student` and `Professor`, each with their own attributes and methods. Provide an example of using  these classes in a university context."
   ]
  },
  {
   "cell_type": "code",
   "execution_count": 7,
   "id": "3048994d",
   "metadata": {},
   "outputs": [
    {
     "name": "stdout",
     "output_type": "stream",
     "text": [
      "Name: Alice, Age: 20, Gender: Female, Student ID: S001, Major: Computer Science\n",
      "Name: Dr. Smith, Age: 45, Gender: Male, Employee ID: P001, Department: Physics\n",
      "Alice is studying\n",
      "Dr. Smith is teaching\n"
     ]
    }
   ],
   "source": [
    "class Person:\n",
    "    def __init__(self, name, age, gender):\n",
    "        self.name = name\n",
    "        self.age = age\n",
    "        self.gender = gender\n",
    "\n",
    "    def get_details(self):\n",
    "        return f\"Name: {self.name}, Age: {self.age}, Gender: {self.gender}\"\n",
    "\n",
    "\n",
    "class Student(Person):\n",
    "    def __init__(self, name, age, gender, student_id, major):\n",
    "        super().__init__(name, age, gender)\n",
    "        self.student_id = student_id\n",
    "        self.major = major\n",
    "\n",
    "    def get_student_details(self):\n",
    "        details = self.get_details()\n",
    "        return f\"{details}, Student ID: {self.student_id}, Major: {self.major}\"\n",
    "\n",
    "    def study(self):\n",
    "        return f\"{self.name} is studying\"\n",
    "\n",
    "\n",
    "class Professor(Person):\n",
    "    def __init__(self, name, age, gender, employee_id, department):\n",
    "        super().__init__(name, age, gender)\n",
    "        self.employee_id = employee_id\n",
    "        self.department = department\n",
    "\n",
    "    def get_professor_details(self):\n",
    "        details = self.get_details()\n",
    "        return f\"{details}, Employee ID: {self.employee_id}, Department: {self.department}\"\n",
    "\n",
    "    def teach(self):\n",
    "        return f\"{self.name} is teaching\"\n",
    "\n",
    "\n",
    "# Example usage:\n",
    "student1 = Student(\"Alice\", 20, \"Female\", \"S001\", \"Computer Science\")\n",
    "professor1 = Professor(\"Dr. Smith\", 45, \"Male\", \"P001\", \"Physics\")\n",
    "\n",
    "print(student1.get_student_details())\n",
    "print(professor1.get_professor_details())\n",
    "\n",
    "print(student1.study())\n",
    "print(professor1.teach())\n"
   ]
  },
  {
   "cell_type": "markdown",
   "id": "83e8aadf",
   "metadata": {},
   "source": [
    "## Encapsulation:"
   ]
  },
  {
   "cell_type": "markdown",
   "id": "3fecad19",
   "metadata": {},
   "source": [
    "### 1. Explain the concept of encapsulation in Python. What is its role in object-oriented programming?"
   ]
  },
  {
   "cell_type": "markdown",
   "id": "d9bf5033",
   "metadata": {},
   "source": [
    "Encapsulation is one of the fundamental concepts in object-oriented programming (OOP) that refers to the bundling of data (attributes) and methods (functions) that operate on that data into a single unit or class. It restricts direct access to some of the object's components, typically keeping the internal state of the object hidden from the outside world. Encapsulation helps in achieving data hiding and abstraction.\n",
    "\n",
    "Key aspects of encapsulation:\n",
    "Data Hiding: Encapsulation allows hiding the internal state (attributes) of an object from direct access by outside code. It enforces access to the object's data through well-defined methods or interfaces.\n",
    "\n",
    "Access Control: Through encapsulation, access to the internal state of an object can be controlled. This means that certain attributes or methods can be marked as private, limiting their visibility and accessibility outside the class.\n",
    "\n",
    "Abstraction: Encapsulation helps in achieving abstraction by exposing only essential functionalities or a simplified interface to interact with the object, while hiding the complex implementation details.\n",
    "\n",
    "Role of encapsulation in OOP:\n",
    "Security: Encapsulation enhances security by preventing direct access to sensitive data. It allows controlled access to data through methods, enabling validation or checks before allowing modifications.\n",
    "\n",
    "Modularity: Encapsulation promotes modularity by bundling data and methods into a single unit (class). This helps in managing complexity and maintaining code by isolating changes within the class.\n",
    "\n",
    "Maintainability: It improves code maintainability by hiding implementation details. If changes need to be made to the internal structure of the class, the external code that uses the class remains unaffected as long as the interface (public methods) remains consistent.\n",
    "\n",
    "Flexibility: Encapsulation allows flexibility in changing the internal implementation of a class without affecting the code that uses the class. It provides a way to modify the internal workings of a class without impacting the rest of the program."
   ]
  },
  {
   "cell_type": "code",
   "execution_count": 8,
   "id": "7cd5bb9d",
   "metadata": {},
   "outputs": [
    {
     "name": "stdout",
     "output_type": "stream",
     "text": [
      "Toyota\n",
      "Camry\n",
      "Honda\n"
     ]
    }
   ],
   "source": [
    "class Car:\n",
    "    def __init__(self, make, model):\n",
    "        self.__make = make  # Private attribute\n",
    "        self.__model = model  # Private attribute\n",
    "\n",
    "    def get_make(self):  # Getter method\n",
    "        return self.__make\n",
    "\n",
    "    def get_model(self):  # Getter method\n",
    "        return self.__model\n",
    "\n",
    "    def set_make(self, new_make):  # Setter method\n",
    "        self.__make = new_make\n",
    "\n",
    "    def set_model(self, new_model):  # Setter method\n",
    "        self.__model = new_model\n",
    "\n",
    "# Usage\n",
    "my_car = Car(\"Toyota\", \"Camry\")\n",
    "print(my_car.get_make())  # Output: Toyota\n",
    "print(my_car.get_model())  # Output: Camry\n",
    "\n",
    "my_car.set_make(\"Honda\")\n",
    "print(my_car.get_make())  # Output: Honda\n"
   ]
  },
  {
   "cell_type": "markdown",
   "id": "7e57f55a",
   "metadata": {},
   "source": [
    "### 2. Describe the key principles of encapsulation, including access control and data hiding."
   ]
  },
  {
   "cell_type": "markdown",
   "id": "76d85c1e",
   "metadata": {},
   "source": [
    "Key Principles of Encapsulation:\n",
    "Access Control:\n",
    "\n",
    "Public Access: Some methods or attributes may be accessible to all parts of the program. These are typically designated as public and can be accessed from outside the class.\n",
    "\n",
    "Private Access: Encapsulation allows the hiding of certain attributes or methods within a class, restricting direct access from outside the class. These private members are accessed or modified through specific methods (getters and setters) within the class.\n",
    "\n",
    "Protected Access: This access level is an intermediate between public and private. It allows access to derived classes but not to external code.\n",
    "\n",
    "Data Hiding:\n",
    "\n",
    "Private Attributes: Encapsulation allows the classification of certain attributes as private by using naming conventions (such as prefixing with double underscores in Python), making them inaccessible from outside the class.\n",
    "\n",
    "Getter Methods: Encapsulation provides getter methods (or accessor methods) to access private attributes. These methods allow retrieving the values of private attributes from outside the class.\n",
    "\n",
    "Setter Methods: Encapsulation provides setter methods (or mutator methods) to modify the values of private attributes. These methods allow controlled modification of the internal state of an object, often with validation or checks before making changes.\n",
    "\n",
    "Importance of Access Control and Data Hiding in Encapsulation:\n",
    "Security: By hiding internal details and restricting direct access, encapsulation enhances security by preventing unauthorized manipulation of an object's data.\n",
    "\n",
    "Abstraction: Encapsulation allows abstraction by exposing only essential functionalities or an interface to interact with the object, hiding the complexity of its implementation.\n",
    "\n",
    "Modularity: It promotes modularity by encapsulating data and methods within a class, facilitating maintenance and reducing dependencies on internal implementations.\n",
    "\n",
    "Flexibility and Maintainability: Encapsulation allows for changes to the internal structure of a class without affecting the code that uses the class, promoting code maintainability and flexibility in software development."
   ]
  },
  {
   "cell_type": "code",
   "execution_count": 9,
   "id": "d36f1c5f",
   "metadata": {},
   "outputs": [
    {
     "name": "stdout",
     "output_type": "stream",
     "text": [
      "500\n"
     ]
    }
   ],
   "source": [
    "class BankAccount:\n",
    "    def __init__(self):\n",
    "        self.__balance = 0  # Private attribute\n",
    "\n",
    "    def deposit(self, amount):\n",
    "        if amount > 0:\n",
    "            self.__balance += amount\n",
    "\n",
    "    def withdraw(self, amount):\n",
    "        if 0 < amount <= self.__balance:\n",
    "            self.__balance -= amount\n",
    "\n",
    "    def get_balance(self):  # Getter method\n",
    "        return self.__balance\n",
    "\n",
    "\n",
    "# Usage\n",
    "account = BankAccount()\n",
    "account.deposit(1000)\n",
    "account.withdraw(500)\n",
    "\n",
    "print(account.get_balance())  # Output: 500\n"
   ]
  },
  {
   "cell_type": "markdown",
   "id": "62dfca07",
   "metadata": {},
   "source": [
    "### 3. How can you achieve encapsulation in Python classes? Provide an example."
   ]
  },
  {
   "cell_type": "markdown",
   "id": "eee6992f",
   "metadata": {},
   "source": [
    "\n",
    "In Python, encapsulation can be achieved by using access modifiers, such as naming conventions and property decorators, to control the visibility and accessibility of attributes and methods within a class.\n",
    "\n",
    "Achieving Encapsulation in Python:\n",
    "Naming Conventions for Private Attributes:\n",
    "\n",
    "By convention, attributes or methods intended to be private are prefixed with a double underscore (__). This naming convention doesn't entirely prevent access but mangles the name, making it less accessible from outside the class.\n",
    "Property Decorators (Getter and Setter Methods):\n",
    "\n",
    "Python allows the use of property decorators (@property, @<attribute>.setter, @<attribute>.deleter) to define getter, setter, and deleter methods for attributes, providing controlled access to private attributes."
   ]
  },
  {
   "cell_type": "code",
   "execution_count": 10,
   "id": "a1f9967f",
   "metadata": {},
   "outputs": [
    {
     "name": "stdout",
     "output_type": "stream",
     "text": [
      "0\n",
      "1000\n",
      "1500\n",
      "1200\n"
     ]
    }
   ],
   "source": [
    "class BankAccount:\n",
    "    def __init__(self):\n",
    "        self.__balance = 0  # Private attribute\n",
    "\n",
    "    @property\n",
    "    def balance(self):  # Getter method\n",
    "        return self.__balance\n",
    "\n",
    "    @balance.setter\n",
    "    def balance(self, amount):  # Setter method\n",
    "        if amount >= 0:\n",
    "            self.__balance = amount\n",
    "\n",
    "    def deposit(self, amount):\n",
    "        if amount > 0:\n",
    "            self.__balance += amount\n",
    "\n",
    "    def withdraw(self, amount):\n",
    "        if 0 < amount <= self.__balance:\n",
    "            self.__balance -= amount\n",
    "\n",
    "\n",
    "# Usage\n",
    "account = BankAccount()\n",
    "\n",
    "# Using property getter method\n",
    "print(account.balance)  # Output: 0\n",
    "\n",
    "# Using property setter method\n",
    "account.balance = 1000\n",
    "print(account.balance)  # Output: 1000\n",
    "\n",
    "# Using deposit and withdraw methods\n",
    "account.deposit(500)\n",
    "print(account.balance)  # Output: 1500\n",
    "\n",
    "account.withdraw(300)\n",
    "print(account.balance)  # Output: 1200\n"
   ]
  },
  {
   "cell_type": "markdown",
   "id": "e410c832",
   "metadata": {},
   "source": [
    "### 4. Discuss the difference between public, private, and protected access modifiers in Python."
   ]
  },
  {
   "cell_type": "markdown",
   "id": "0b9cfd6e",
   "metadata": {},
   "source": [
    "\n",
    "In Python, access modifiers are used to control the visibility and accessibility of class members (attributes and methods). The three main access modifiers in Python are:\n",
    "\n",
    "Public Access (No Modifier):\n",
    "\n",
    "In Python, if no access modifier is specified, members are considered public by default.\n",
    "Public members can be accessed from anywhere, both within the class and from outside the class.\n",
    "Private Access (Double Underscore Prefix - __):\n",
    "\n",
    "Private members are indicated by prefixing their names with a double underscore (__).\n",
    "Private members are not fully hidden; their names are \"mangled\" to include the class name, making it more difficult to access from outside the class.\n",
    "Access to private members from outside the class is restricted, but it's still possible to access them indirectly using name mangling.\n",
    "Protected Access (Single Underscore Prefix - _):\n",
    "\n",
    "Protected members are indicated by prefixing their names with a single underscore (_), although it's more of a convention than a strict enforcement.\n",
    "Unlike private members, protected members are not truly protected in Python, as there is no strict enforcement of access control.\n",
    "By convention, protected members are considered as a hint for internal use or to indicate that they are intended for use within subclasses or derived classes."
   ]
  },
  {
   "cell_type": "markdown",
   "id": "4247e4a9",
   "metadata": {},
   "source": [
    "Differences between Public, Private, and Protected Access Modifiers:\n",
    "Public Access:\n",
    "\n",
    "Accessible from anywhere (inside the class, subclass, or outside the class).\n",
    "No naming modification is applied.\n",
    "No access restrictions; all members are public by default if no access modifier is specified.\n",
    "Private Access:\n",
    "\n",
    "Indicated by double underscore (__) prefix.\n",
    "Name mangling is applied, modifying the name to include the class name.\n",
    "Restricted access from outside the class, but still possible to access indirectly using name mangling.\n",
    "Protected Access:\n",
    "\n",
    "Indicated by a single underscore (_) prefix (by convention).\n",
    "No name mangling or strict enforcement in Python.\n",
    "Considered a hint for internal use or to indicate intended use within subclasses, but accessible from outside the class."
   ]
  },
  {
   "cell_type": "code",
   "execution_count": 12,
   "id": "bd2d7d7d",
   "metadata": {},
   "outputs": [
    {
     "name": "stdout",
     "output_type": "stream",
     "text": [
      "Public\n",
      "Private\n"
     ]
    }
   ],
   "source": [
    "class MyClass:\n",
    "    def __init__(self):\n",
    "        self.public_var = \"Public\"  # Public attribute\n",
    "        self.__private_var = \"Private\"  # Private attribute\n",
    "        self._protected_var = \"Protected\"  # Protected attribute\n",
    "\n",
    "    def get_private_var(self):\n",
    "        return self.__private_var\n",
    "\n",
    "\n",
    "obj = MyClass()\n",
    "\n",
    "# Accessing public member\n",
    "print(obj.public_var)  # Output: Public\n",
    "\n",
    "# Accessing private member (indirectly using getter method)\n",
    "print(obj.get_private_var())  # Output: Private\n",
    "\n",
    "# Attempting to access private and protected members directly from outside the class (results in AttributeError)\n",
    "# print(obj.__private_var)\n",
    "# print(obj._protected_var)\n"
   ]
  },
  {
   "cell_type": "markdown",
   "id": "de245370",
   "metadata": {},
   "source": [
    "### 5. Create a Python class called `Person` with a private attribute `__name`. Provide methods to get and set the name attribute."
   ]
  },
  {
   "cell_type": "code",
   "execution_count": 13,
   "id": "48d84cee",
   "metadata": {},
   "outputs": [
    {
     "name": "stdout",
     "output_type": "stream",
     "text": [
      "Alice\n",
      "Bob\n"
     ]
    }
   ],
   "source": [
    "class Person:\n",
    "    def __init__(self, name):\n",
    "        self.__name = name  # Private attribute\n",
    "\n",
    "    def get_name(self):  # Getter method\n",
    "        return self.__name\n",
    "\n",
    "    def set_name(self, new_name):  # Setter method\n",
    "        self.__name = new_name\n",
    "\n",
    "\n",
    "# Usage\n",
    "person = Person(\"Alice\")\n",
    "\n",
    "# Accessing the private attribute using the getter method\n",
    "print(person.get_name())  # Output: Alice\n",
    "\n",
    "# Modifying the private attribute using the setter method\n",
    "person.set_name(\"Bob\")\n",
    "print(person.get_name())  # Output: Bob\n"
   ]
  },
  {
   "cell_type": "markdown",
   "id": "72bb41d8",
   "metadata": {},
   "source": [
    "### 6. Explain the purpose of getter and setter methods in encapsulation. Provide examples."
   ]
  },
  {
   "cell_type": "markdown",
   "id": "a5fabc98",
   "metadata": {},
   "source": [
    "Purpose of Getter and Setter Methods:\n",
    "Getter Methods:\n",
    "\n",
    "Purpose: Getter methods retrieve the value of a private attribute.\n",
    "Usage: They provide controlled access to read the value of private attributes from outside the class.\n",
    "Advantage: Getter methods allow validation or additional processing before returning the attribute value.\n",
    "Setter Methods:\n",
    "\n",
    "Purpose: Setter methods modify the value of a private attribute.\n",
    "Usage: They provide controlled access to modify the value of private attributes from outside the class.\n",
    "Advantage: Setter methods allow validation, checks, or additional processing before setting a new value to ensure data consistency and integrity."
   ]
  },
  {
   "cell_type": "code",
   "execution_count": 14,
   "id": "9ab63353",
   "metadata": {},
   "outputs": [
    {
     "name": "stdout",
     "output_type": "stream",
     "text": [
      "Alice\n",
      "Bob\n",
      "Invalid input. Name must be a string.\n",
      "Bob\n"
     ]
    }
   ],
   "source": [
    "class Person:\n",
    "    def __init__(self, name):\n",
    "        self.__name = name  # Private attribute\n",
    "\n",
    "    def get_name(self):  # Getter method\n",
    "        return self.__name\n",
    "\n",
    "    def set_name(self, new_name):  # Setter method\n",
    "        if isinstance(new_name, str):  # Validate input (example: accepting only string values)\n",
    "            self.__name = new_name\n",
    "        else:\n",
    "            print(\"Invalid input. Name must be a string.\")\n",
    "\n",
    "# Usage\n",
    "person = Person(\"Alice\")\n",
    "\n",
    "# Accessing the private attribute using the getter method\n",
    "print(person.get_name())  # Output: Alice\n",
    "\n",
    "# Modifying the private attribute using the setter method\n",
    "person.set_name(\"Bob\")\n",
    "print(person.get_name())  # Output: Bob\n",
    "\n",
    "# Trying to set the name with invalid input (not a string)\n",
    "person.set_name(123)  # Output: Invalid input. Name must be a string.\n",
    "print(person.get_name())  # Output: Bob (No change)\n"
   ]
  },
  {
   "cell_type": "markdown",
   "id": "9596ade6",
   "metadata": {},
   "source": [
    "### 7. What is name mangling in Python, and how does it affect encapsulation?"
   ]
  },
  {
   "cell_type": "raw",
   "id": "5207671a",
   "metadata": {},
   "source": [
    " Name mangling in Python is a mechanism used to make class members (attributes and methods) marked as private more difficult to access from outside the class. It involves prefixing the names of these private members with a double underscore (__). However, it doesn't fully prevent access; instead, it changes the name of the member in a way that makes it less obvious and more challenging to access directly from outside the class.\n",
    "\n",
    "Purpose and Mechanism of Name Mangling:\n",
    "Purpose: Name mangling is aimed at avoiding accidental name conflicts in subclasses and making it more challenging for external code to access private attributes or methods directly.\n",
    "Mechanism: When an identifier (attribute or method) is prefixed with a double underscore (__) within a class, Python internally changes its name to include the class name. The format becomes __<class-name>__<identifier>. This process is known as name mangling.\n",
    "\n",
    "How Name Mangling Affects Encapsulation:\n",
    "Partial Protection: Name mangling does not provide full privacy or strict access control; it mainly serves to make it less straightforward to access private members from outside the class.\n",
    "Access Control: Name mangling changes the name of private members, making it more challenging for external code to access them directly. However, it is still possible to access these members using the mangled name if one knows the mangled form of the member.\n",
    "\n",
    "Subclassing: Name mangling helps in preventing accidental name clashes when subclassing, as the mangled names incorporate the class name, reducing the chances of unintentional overriding of private members in subclasses.\n",
    "Example Illustrating Name Mangling and Encapsulation:"
   ]
  },
  {
   "cell_type": "code",
   "execution_count": 20,
   "id": "837a05dd",
   "metadata": {},
   "outputs": [
    {
     "name": "stdout",
     "output_type": "stream",
     "text": [
      "123456789\n",
      "Account Number: 123456789, Balance: 1300\n"
     ]
    }
   ],
   "source": [
    "class BankAccount:\n",
    "    def __init__(self, account_number, balance):\n",
    "        self.__account_number = account_number  # Private attribute\n",
    "        self.__balance = balance  # Private attribute\n",
    "\n",
    "    def deposit(self, amount):\n",
    "        if amount > 0:\n",
    "            self.__balance += amount\n",
    "\n",
    "    def withdraw(self, amount):\n",
    "        if 0 < amount <= self.__balance:\n",
    "            self.__balance -= amount\n",
    "\n",
    "    def get_account_details(self):\n",
    "        return f\"Account Number: {self.__account_number}, Balance: {self.__balance}\"\n",
    "\n",
    "\n",
    "# Creating an instance of BankAccount\n",
    "account = BankAccount(\"123456789\", 1000)\n",
    "\n",
    "# Attempting to access private attributes directly\n",
    "# print(account.__account_number)  # Raises AttributeError\n",
    "\n",
    "# Accessing private attributes using mangled names\n",
    "print(account._BankAccount__account_number)  # Output: 123456789\n",
    "\n",
    "# Depositing and withdrawing amounts\n",
    "account.deposit(500)\n",
    "account.withdraw(200)\n",
    "\n",
    "# Accessing account details using a method\n",
    "print(account.get_account_details())  # Output: Account Number: 123456789, Balance: 1300\n"
   ]
  },
  {
   "cell_type": "markdown",
   "id": "f1b4832e",
   "metadata": {},
   "source": [
    "### 8. Create a Python class called `BankAccount` with private attributes for the account balance (`__balance`) and account number (`__account_number`). Provide methods for depositing and withdrawing money."
   ]
  },
  {
   "cell_type": "code",
   "execution_count": 21,
   "id": "231fbd69",
   "metadata": {},
   "outputs": [
    {
     "name": "stdout",
     "output_type": "stream",
     "text": [
      "Account Number: 123456789, Balance: $1000\n",
      "Deposited $500. Current Balance: $1500\n",
      "Withdrew $200. Current Balance: $1300\n",
      "Account Number: 123456789, Balance: $1300\n"
     ]
    }
   ],
   "source": [
    "class BankAccount:\n",
    "    def __init__(self, account_number, initial_balance=0):\n",
    "        self.__account_number = account_number  # Private attribute for account number\n",
    "        self.__balance = initial_balance  # Private attribute for account balance\n",
    "\n",
    "    def deposit(self, amount):\n",
    "        if amount > 0:\n",
    "            self.__balance += amount\n",
    "            print(f\"Deposited ${amount}. Current Balance: ${self.__balance}\")\n",
    "        else:\n",
    "            print(\"Invalid amount for deposit.\")\n",
    "\n",
    "    def withdraw(self, amount):\n",
    "        if 0 < amount <= self.__balance:\n",
    "            self.__balance -= amount\n",
    "            print(f\"Withdrew ${amount}. Current Balance: ${self.__balance}\")\n",
    "        else:\n",
    "            print(\"Insufficient funds or invalid amount for withdrawal.\")\n",
    "\n",
    "    def get_account_details(self):\n",
    "        return f\"Account Number: {self.__account_number}, Balance: ${self.__balance}\"\n",
    "\n",
    "\n",
    "# Usage example\n",
    "account = BankAccount(\"123456789\", 1000)\n",
    "\n",
    "print(account.get_account_details())  # Output: Account Number: 123456789, Balance: $1000\n",
    "\n",
    "account.deposit(500)  # Output: Deposited $500. Current Balance: $1500\n",
    "account.withdraw(200)  # Output: Withdrew $200. Current Balance: $1300\n",
    "\n",
    "print(account.get_account_details())  # Output: Account Number: 123456789, Balance: $1300\n"
   ]
  },
  {
   "cell_type": "markdown",
   "id": "0bb444bf",
   "metadata": {},
   "source": [
    "### 9. Discuss the advantages of encapsulation in terms of code maintainability and security."
   ]
  },
  {
   "cell_type": "markdown",
   "id": "eeec9378",
   "metadata": {},
   "source": [
    "Advantages of Encapsulation:\n",
    "Code Maintainability:\n",
    "\n",
    "Modularity: Encapsulation allows bundling of data (attributes) and behaviors (methods) into a single unit (class). This promotes modularity, making code easier to understand, maintain, and extend.\n",
    "\n",
    "Isolation of Changes: Changes to the internal workings of a class (implementation details) can be made without affecting other parts of the program as long as the interface (public methods) remains consistent. This reduces the risk of unintended side effects on other parts of the code.\n",
    "\n",
    "Ease of Debugging: Encapsulation helps in isolating errors within a class, allowing for easier debugging as issues are contained within the boundaries of the class.\n",
    "\n",
    "Security:\n",
    "\n",
    "Data Protection: Encapsulation facilitates data hiding by restricting direct access to certain attributes or methods. Private members are inaccessible from outside the class, preventing unauthorized modifications or access.\n",
    "\n",
    "Controlled Access: Encapsulation allows controlled access to class members through public interfaces (methods), enabling validation, checks, or additional logic before accessing or modifying data. This prevents inconsistent or invalid data changes.\n",
    "\n",
    "Prevention of Unintended Modifications: By hiding the internal state of an object, encapsulation prevents unintended modifications to data, enhancing the reliability and integrity of the code.\n",
    "\n",
    "Flexibility and Reusability:\n",
    "\n",
    "Enhanced Flexibility: Encapsulation supports changes to the internal implementation of a class without impacting external code. This flexibility allows for updates or improvements without affecting the rest of the program.\n",
    "\n",
    "Improved Reusability: Encapsulation encourages reusable code by encapsulating functionality within classes. Well-encapsulated classes can be easily reused in different parts of an application or in different projects.\n",
    "\n",
    "Abstraction:\n",
    "\n",
    "Simplified Interface: Encapsulation provides a simplified interface to interact with objects. It presents only essential functionalities, abstracting away complex implementation details, which leads to more manageable and maintainable code."
   ]
  },
  {
   "cell_type": "markdown",
   "id": "1e873af4",
   "metadata": {},
   "source": [
    "### 10. How can you access private attributes in Python? Provide an example demonstrating the use of name mangling."
   ]
  },
  {
   "cell_type": "markdown",
   "id": "ae52f23f",
   "metadata": {},
   "source": [
    "\n",
    "In Python, private attributes are not directly accessible from outside the class where they are defined due to their name mangling. However, it's important to note that name mangling does not provide strict privacy or access control. It merely changes the names of attributes to make them less accessible by external code.\n",
    "\n",
    "Private attributes in Python are typically accessed indirectly by using their mangled names. When an attribute is prefixed with double underscores (__), Python internally changes its name to include the class name, which makes accessing it from outside the class more challenging.\n",
    "\n",
    "Here's an example demonstrating how name mangling works in Python:"
   ]
  },
  {
   "cell_type": "code",
   "execution_count": 22,
   "id": "039f4ec9",
   "metadata": {},
   "outputs": [
    {
     "name": "stdout",
     "output_type": "stream",
     "text": [
      "42\n"
     ]
    }
   ],
   "source": [
    "class MyClass:\n",
    "    def __init__(self):\n",
    "        self.__private_var = 42  # Private attribute\n",
    "\n",
    "# Creating an instance of MyClass\n",
    "obj = MyClass()\n",
    "\n",
    "# Accessing private attribute directly from outside the class raises AttributeError\n",
    "# print(obj.__private_var)  # Uncommenting this line will raise an AttributeError\n",
    "\n",
    "# Accessing private attribute using mangled name\n",
    "print(obj._MyClass__private_var)  # Output: 42\n"
   ]
  },
  {
   "cell_type": "markdown",
   "id": "7f7f7b31",
   "metadata": {},
   "source": [
    "### 11. Create a Python class hierarchy for a school system, including classes for students, teachers, and courses, and implement encapsulation principles to protect sensitive information."
   ]
  },
  {
   "cell_type": "code",
   "execution_count": 23,
   "id": "661eae3f",
   "metadata": {},
   "outputs": [
    {
     "name": "stdout",
     "output_type": "stream",
     "text": [
      "Student ID: S001, Name: Alice, Age: 17\n",
      "Student ID: S002, Name: Bob, Age: 16\n",
      "Teacher ID: T001, Name: Mr. Smith, Age: 35, Subject: Mathematics\n",
      "Teacher ID: T002, Name: Ms. Johnson, Age: 40, Subject: Physics\n",
      "Course Code: MATH101, Course Name: Algebra, Teacher: <__main__.Teacher object at 0x0000018683652B90>\n",
      "Course Code: PHY101, Course Name: Mechanics, Teacher: <__main__.Teacher object at 0x0000018683652920>\n",
      "Courses enrolled by Student ID: S001, Name: Alice, Age: 17 : ['Course Code: MATH101, Course Name: Algebra, Teacher: <__main__.Teacher object at 0x0000018683652B90>']\n"
     ]
    }
   ],
   "source": [
    "class Student:\n",
    "    def __init__(self, student_id, name, age):\n",
    "        self.__student_id = student_id  # Private attribute\n",
    "        self.__name = name  # Private attribute\n",
    "        self.__age = age  # Private attribute\n",
    "        self.__courses = []  # Private attribute for courses enrolled\n",
    "\n",
    "    def get_student_info(self):\n",
    "        return f\"Student ID: {self.__student_id}, Name: {self.__name}, Age: {self.__age}\"\n",
    "\n",
    "    def enroll_course(self, course):\n",
    "        self.__courses.append(course)\n",
    "\n",
    "    def get_courses(self):\n",
    "        return self.__courses\n",
    "\n",
    "\n",
    "class Teacher:\n",
    "    def __init__(self, teacher_id, name, age, subject):\n",
    "        self.__teacher_id = teacher_id  # Private attribute\n",
    "        self.__name = name  # Private attribute\n",
    "        self.__age = age  # Private attribute\n",
    "        self.__subject = subject  # Private attribute\n",
    "\n",
    "    def get_teacher_info(self):\n",
    "        return f\"Teacher ID: {self.__teacher_id}, Name: {self.__name}, Age: {self.__age}, Subject: {self.__subject}\"\n",
    "\n",
    "\n",
    "class Course:\n",
    "    def __init__(self, course_code, course_name, teacher):\n",
    "        self.__course_code = course_code  # Private attribute\n",
    "        self.__course_name = course_name  # Private attribute\n",
    "        self.__teacher = teacher  # Private attribute\n",
    "\n",
    "    def get_course_info(self):\n",
    "        return f\"Course Code: {self.__course_code}, Course Name: {self.__course_name}, Teacher: {self.__teacher}\"\n",
    "\n",
    "\n",
    "# Usage example\n",
    "math_teacher = Teacher(\"T001\", \"Mr. Smith\", 35, \"Mathematics\")\n",
    "physics_teacher = Teacher(\"T002\", \"Ms. Johnson\", 40, \"Physics\")\n",
    "\n",
    "student1 = Student(\"S001\", \"Alice\", 17)\n",
    "student2 = Student(\"S002\", \"Bob\", 16)\n",
    "\n",
    "math_course = Course(\"MATH101\", \"Algebra\", math_teacher)\n",
    "physics_course = Course(\"PHY101\", \"Mechanics\", physics_teacher)\n",
    "\n",
    "student1.enroll_course(math_course)\n",
    "student2.enroll_course(physics_course)\n",
    "\n",
    "print(student1.get_student_info())\n",
    "print(student2.get_student_info())\n",
    "\n",
    "print(math_teacher.get_teacher_info())\n",
    "print(physics_teacher.get_teacher_info())\n",
    "\n",
    "print(math_course.get_course_info())\n",
    "print(physics_course.get_course_info())\n",
    "\n",
    "print(\"Courses enrolled by\", student1.get_student_info(), \":\", [course.get_course_info() for course in student1.get_courses()])\n"
   ]
  },
  {
   "cell_type": "markdown",
   "id": "6f24d421",
   "metadata": {},
   "source": [
    "### 12. Explain the concept of property decorators in Python and how they relate to encapsulation."
   ]
  },
  {
   "cell_type": "markdown",
   "id": "6dcc0745",
   "metadata": {},
   "source": [
    "\n",
    "In Python, property decorators (@property, @<attribute>.setter, @<attribute>.deleter) are used to implement getter, setter, and deleter methods for class attributes. They play a crucial role in encapsulation by allowing controlled access to attributes, providing a way to define computed or validated attributes while hiding the internal representation.\n",
    "\n",
    "Purpose of Property Decorators:\n",
    "Getter Method (@property):\n",
    "\n",
    "Purpose: It allows defining a method that behaves like an attribute, providing controlled access to retrieve the value of an attribute.\n",
    "Usage: Getter methods are used to return the value of a private attribute while performing additional operations or checks if needed.\n",
    "Advantage: They allow maintaining consistency in accessing attributes by providing a method-like interface for retrieving values.\n",
    "Setter Method (@<attribute>.setter):\n",
    "\n",
    "Purpose: It allows defining a method that sets a new value to an attribute while performing validation or additional operations.\n",
    "Usage: Setter methods are used to modify the value of a private attribute, enabling checks or computations before setting the value.\n",
    "Advantage: They help control and validate the assignment of values to attributes.\n",
    "Deleter Method (@<attribute>.deleter):\n",
    "\n",
    "Purpose: It allows defining a method that deletes or performs clean-up actions when an attribute is deleted using the del statement.\n",
    "Usage: Deleter methods are used to control the deletion of an attribute and perform necessary clean-up operations if required.\n",
    "Advantage: They provide a mechanism to manage the deletion of attributes, which can be useful for resource cleanup or maintaining object state.\n",
    "Relationship to Encapsulation:\n",
    "Getter Methods (@property): Property decorators help in encapsulation by allowing controlled access to retrieve the value of private attributes. They enable the presentation of a public interface to access private data while hiding the implementation details.\n",
    "\n",
    "Setter and Deleter Methods (@<attribute>.setter and @<attribute>.deleter): These decorators help encapsulation by controlling the modification and deletion of private attributes. They provide a means to enforce validation, checks, or additional logic before changing or deleting attribute values, ensuring data integrity and security.\n",
    "\n",
    "Example illustrating Property Decorators and Encapsulation:"
   ]
  },
  {
   "cell_type": "code",
   "execution_count": 24,
   "id": "6c5a5f19",
   "metadata": {},
   "outputs": [
    {
     "name": "stdout",
     "output_type": "stream",
     "text": [
      "0\n",
      "1000\n",
      "Balance is deleted.\n"
     ]
    }
   ],
   "source": [
    "class BankAccount:\n",
    "    def __init__(self):\n",
    "        self.__balance = 0  # Private attribute\n",
    "\n",
    "    @property\n",
    "    def balance(self):  # Getter method\n",
    "        return self.__balance\n",
    "\n",
    "    @balance.setter\n",
    "    def balance(self, amount):  # Setter method\n",
    "        if amount >= 0:\n",
    "            self.__balance = amount\n",
    "        else:\n",
    "            print(\"Invalid amount. Balance cannot be negative.\")\n",
    "\n",
    "    @balance.deleter\n",
    "    def balance(self):  # Deleter method\n",
    "        print(\"Balance is deleted.\")\n",
    "        del self.__balance\n",
    "\n",
    "\n",
    "# Usage\n",
    "account = BankAccount()\n",
    "\n",
    "# Using property getter method\n",
    "print(account.balance)  # Output: 0\n",
    "\n",
    "# Using property setter method\n",
    "account.balance = 1000\n",
    "print(account.balance)  # Output: 1000\n",
    "\n",
    "# Using deleter method\n",
    "del account.balance  # Output: Balance is deleted.\n"
   ]
  },
  {
   "cell_type": "markdown",
   "id": "b1a35c59",
   "metadata": {},
   "source": [
    "### 13. What is data hiding, and why is it important in encapsulation? Provide examples."
   ]
  },
  {
   "cell_type": "markdown",
   "id": "c70f610a",
   "metadata": {},
   "source": [
    "Data hiding is a fundamental concept in object-oriented programming that involves restricting the visibility or accessibility of certain data within a class, allowing access only through specified methods or interfaces. It is a critical aspect of encapsulation, aiming to hide the internal state or implementation details of an object and providing controlled access to its attributes and methods.\n",
    "\n",
    "Importance of Data Hiding in Encapsulation:\n",
    "Information Hiding:\n",
    "\n",
    "Purpose: Data hiding shields the internal details of an object from the outside world, ensuring that only essential information is visible to the external entities.\n",
    "Advantage: It helps in managing complexity by presenting a clear and simplified interface while hiding complex implementation details, reducing dependencies and improving maintainability.\n",
    "Controlled Access:\n",
    "\n",
    "Purpose: Data hiding provides controlled access to class members (attributes and methods) by designating them as private, protected, or public, based on the desired level of visibility.\n",
    "Advantage: It allows defining access boundaries, enabling validation, checks, or additional operations before accessing or modifying data, thus maintaining data integrity and security.\n",
    "Preventing Unintended Modifications:\n",
    "\n",
    "Purpose: By making certain attributes private, data hiding prevents unintended modifications or direct access to sensitive data from outside the class.\n",
    "Advantage: It helps in preventing accidental changes or misuse of data, reducing the risk of unexpected behaviors and improving the reliability of the code.\n",
    "Enhancing Modifiability and Extensibility:\n",
    "\n",
    "Purpose: Data hiding supports better software design, enabling changes to the internal implementation of a class without affecting the external interface.\n",
    "Advantage: It enhances flexibility by allowing modifications to the internal details of a class without affecting other parts of the program, facilitating easier updates, extensions, and maintenance."
   ]
  },
  {
   "cell_type": "markdown",
   "id": "d7b770ae",
   "metadata": {},
   "source": [
    "Example Demonstrating Data Hiding in Python:"
   ]
  },
  {
   "cell_type": "code",
   "execution_count": 25,
   "id": "d991e252",
   "metadata": {},
   "outputs": [
    {
     "name": "stdout",
     "output_type": "stream",
     "text": [
      "Make: Toyota, Model: Corolla, Year: 2022\n",
      "Make: Honda, Model: Corolla, Year: 2022\n"
     ]
    }
   ],
   "source": [
    "class Car:\n",
    "    def __init__(self, make, model, year):\n",
    "        self.__make = make  # Private attribute\n",
    "        self.__model = model  # Private attribute\n",
    "        self.__year = year  # Private attribute\n",
    "\n",
    "    def get_car_info(self):\n",
    "        return f\"Make: {self.__make}, Model: {self.__model}, Year: {self.__year}\"\n",
    "\n",
    "    def update_make(self, new_make):\n",
    "        self.__make = new_make\n",
    "\n",
    "\n",
    "# Usage\n",
    "my_car = Car(\"Toyota\", \"Corolla\", 2022)\n",
    "\n",
    "# Accessing private attributes directly raises an AttributeError\n",
    "# print(my_car.__make)  # Uncommenting this line will raise an AttributeError\n",
    "\n",
    "# Accessing private attributes using methods\n",
    "print(my_car.get_car_info())  # Output: Make: Toyota, Model: Corolla, Year: 2022\n",
    "\n",
    "# Modifying private attribute using a method\n",
    "my_car.update_make(\"Honda\")\n",
    "print(my_car.get_car_info())  # Output: Make: Honda, Model: Corolla, Year: 2022\n"
   ]
  },
  {
   "cell_type": "markdown",
   "id": "d795a590",
   "metadata": {},
   "source": [
    "### 14. Create a Python class called `Employee` with private attributes for salary (`__salary`) and employee ID (`__employee_id`). Provide a method to calculate yearly bonuses."
   ]
  },
  {
   "cell_type": "code",
   "execution_count": 26,
   "id": "15c40a5e",
   "metadata": {},
   "outputs": [
    {
     "name": "stdout",
     "output_type": "stream",
     "text": [
      "Yearly Bonus for Employee ID E001: $5000.0\n"
     ]
    }
   ],
   "source": [
    "class Employee:\n",
    "    def __init__(self, employee_id, salary):\n",
    "        self.__employee_id = employee_id  # Private attribute for employee ID\n",
    "        self.__salary = salary  # Private attribute for salary\n",
    "\n",
    "    def calculate_yearly_bonus(self, percentage):\n",
    "        bonus = (percentage / 100) * self.__salary  # Calculating bonus based on the percentage\n",
    "        return bonus\n",
    "\n",
    "    # Getter methods for private attributes (optional)\n",
    "    def get_employee_id(self):\n",
    "        return self.__employee_id\n",
    "\n",
    "    def get_salary(self):\n",
    "        return self.__salary\n",
    "\n",
    "\n",
    "# Usage example\n",
    "employee1 = Employee(\"E001\", 50000)  # Creating an Employee instance\n",
    "\n",
    "bonus_percentage = 10  # Bonus percentage (10% of salary)\n",
    "\n",
    "# Calculating yearly bonus for employee1\n",
    "yearly_bonus = employee1.calculate_yearly_bonus(bonus_percentage)\n",
    "print(f\"Yearly Bonus for Employee ID {employee1.get_employee_id()}: ${yearly_bonus}\")\n"
   ]
  },
  {
   "cell_type": "markdown",
   "id": "39e5ccf4",
   "metadata": {},
   "source": [
    "### 15. Discuss the use of accessors and mutators in encapsulation. How do they help maintain control over attribute access?"
   ]
  },
  {
   "cell_type": "markdown",
   "id": "8087e311",
   "metadata": {},
   "source": [
    "\n",
    "Accessors and mutators, also known as getters and setters, are methods used in encapsulation to control access to an object's attributes by providing mechanisms for retrieving and modifying their values, respectively. They play a significant role in maintaining control over attribute access by enforcing encapsulation principles.\n",
    "\n",
    "Accessors (Getters):\n",
    "Purpose: Accessors (getters) are methods that retrieve the values of private attributes.\n",
    "Usage: They provide read-only access to private attributes by returning their values.\n",
    "Advantage: Getters allow controlled and indirect access to the values of private attributes, ensuring that the internal state of an object remains protected."
   ]
  },
  {
   "cell_type": "code",
   "execution_count": 27,
   "id": "2156e575",
   "metadata": {},
   "outputs": [],
   "source": [
    "# example\n",
    "class MyClass:\n",
    "    def __init__(self):\n",
    "        self.__attribute = 10  # Private attribute\n",
    "\n",
    "    def get_attribute(self):\n",
    "        return self.__attribute\n"
   ]
  },
  {
   "cell_type": "markdown",
   "id": "c5595e73",
   "metadata": {},
   "source": [
    "Mutators (Setters):\n",
    "Purpose: Mutators (setters) are methods used to modify or set the values of private attributes.\n",
    "Usage: They enable controlled write access to private attributes by validating and setting new values.\n",
    "Advantage: Setters allow additional logic, validation, or checks before assigning a new value to an attribute, maintaining data integrity.\n",
    "Example:"
   ]
  },
  {
   "cell_type": "code",
   "execution_count": 28,
   "id": "97cfa7c9",
   "metadata": {},
   "outputs": [],
   "source": [
    "class MyClass:\n",
    "    def __init__(self):\n",
    "        self.__attribute = 10  # Private attribute\n",
    "\n",
    "    def set_attribute(self, new_value):\n",
    "        if isinstance(new_value, int):  # Validation example\n",
    "            self.__attribute = new_value\n",
    "        else:\n",
    "            print(\"Invalid input. Attribute must be an integer.\")\n"
   ]
  },
  {
   "cell_type": "raw",
   "id": "1e202db4",
   "metadata": {},
   "source": [
    "How They Maintain Control Over Attribute Access:\n",
    "\n",
    "Encapsulation: Accessors and mutators allow encapsulation by providing controlled interfaces to access and modify private attributes. They hide the internal state of an object, preventing direct access from outside the class.\n",
    "Validation and Checks: Setters perform validation or checks before modifying attributes, ensuring that only valid values are assigned.\n",
    "Read-Only or Write-Only Access: By providing only a getter or setter for an attribute, you can enforce read-only or write-only access to the attribute, respectively, based on the requirement."
   ]
  },
  {
   "cell_type": "markdown",
   "id": "646c7921",
   "metadata": {},
   "source": [
    "### 16. What are the potential drawbacks or disadvantages of using encapsulation in Python?"
   ]
  },
  {
   "cell_type": "markdown",
   "id": "25192c3c",
   "metadata": {},
   "source": [
    "\n",
    "Encapsulation in Python is a fundamental principle of object-oriented programming (OOP) that involves restricting access to certain components of an object to prevent direct modification from outside the class. While encapsulation offers several benefits such as improved security, maintainability, and flexibility, it also has some potential drawbacks or disadvantages:\n",
    "\n",
    "Disadvantages of using encapsulation\n",
    "\n",
    "Increased complexity: Implementing encapsulation might add complexity to the codebase, especially for beginners or when overused. It involves creating additional methods (getters and setters) to access and modify private attributes, which can make the code harder to understand.\n",
    "\n",
    "Performance overhead: In some cases, using getters and setters to access attributes rather than directly accessing them can incur a slight performance overhead due to method calls and additional abstraction layers.\n",
    "\n",
    "Limited access: Encapsulation can restrict direct access to class attributes, which might be necessary in certain scenarios. Excessive encapsulation can make it harder to perform certain operations that would be straightforward with direct access.\n",
    "\n",
    "Boilerplate code: Implementing encapsulation often involves writing additional boilerplate code for getter and setter methods, which can lead to code verbosity and increased maintenance efforts.\n",
    "\n",
    "Difficulty in debugging: Encapsulation can sometimes make it harder to debug code because the data and their modifications are abstracted behind methods, making it challenging to trace where changes occur.\n",
    "\n",
    "Over-engineering: Overusing encapsulation, especially in smaller projects or when unnecessary, can lead to over-engineering and unnecessary complexity, making the codebase harder to maintain."
   ]
  },
  {
   "cell_type": "markdown",
   "id": "9e22c6d2",
   "metadata": {},
   "source": [
    "### 17. Create a Python class for a library system that encapsulates book information, including titles, authors, and availability status."
   ]
  },
  {
   "cell_type": "code",
   "execution_count": 1,
   "id": "f20aef83",
   "metadata": {},
   "outputs": [
    {
     "name": "stdout",
     "output_type": "stream",
     "text": [
      "Book 'The Great Gatsby' added to the library system.\n",
      "Book 'To Kill a Mockingbird' added to the library system.\n",
      "Book '1984' added to the library system.\n",
      "Books available in the library:\n",
      "Title: The Great Gatsby\n",
      "Author: F. Scott Fitzgerald\n",
      "Available: Yes\n",
      "Title: To Kill a Mockingbird\n",
      "Author: Harper Lee\n",
      "Available: Yes\n",
      "Title: 1984\n",
      "Author: George Orwell\n",
      "Available: Yes\n"
     ]
    }
   ],
   "source": [
    "class Book:\n",
    "    def __init__(self, title, author, available=True):\n",
    "        self.title = title\n",
    "        self.author = author\n",
    "        self.available = available\n",
    "\n",
    "    def __str__(self):\n",
    "        return f\"Title: {self.title}\\nAuthor: {self.author}\\nAvailable: {'Yes' if self.available else 'No'}\"\n",
    "\n",
    "\n",
    "class LibrarySystem:\n",
    "    def __init__(self):\n",
    "        self.books = []\n",
    "\n",
    "    def add_book(self, book):\n",
    "        if isinstance(book, Book):\n",
    "            self.books.append(book)\n",
    "            print(f\"Book '{book.title}' added to the library system.\")\n",
    "        else:\n",
    "            print(\"Invalid book object. Please provide a valid Book instance.\")\n",
    "\n",
    "    def display_books(self):\n",
    "        if self.books:\n",
    "            print(\"Books available in the library:\")\n",
    "            for book in self.books:\n",
    "                print(book)\n",
    "        else:\n",
    "            print(\"No books available in the library.\")\n",
    "\n",
    "\n",
    "# Example usage:\n",
    "\n",
    "# Creating book instances\n",
    "book1 = Book(\"The Great Gatsby\", \"F. Scott Fitzgerald\")\n",
    "book2 = Book(\"To Kill a Mockingbird\", \"Harper Lee\")\n",
    "book3 = Book(\"1984\", \"George Orwell\")\n",
    "\n",
    "# Creating a library system\n",
    "library = LibrarySystem()\n",
    "\n",
    "# Adding books to the library\n",
    "library.add_book(book1)\n",
    "library.add_book(book2)\n",
    "library.add_book(book3)\n",
    "\n",
    "# Displaying available books in the library\n",
    "library.display_books()\n"
   ]
  },
  {
   "cell_type": "markdown",
   "id": "17659fc1",
   "metadata": {},
   "source": [
    "### 18. Explain how encapsulation enhances code reusability and modularity in Python programs."
   ]
  },
  {
   "cell_type": "markdown",
   "id": "2317dbcd",
   "metadata": {},
   "source": [
    "\n",
    "Encapsulation is a key concept in object-oriented programming (OOP) that involves bundling the data (attributes) and the methods (functions) that operate on the data within a single unit called a class. It enhances code reusability and modularity in Python programs in several ways:\n",
    "\n",
    "Information Hiding: Encapsulation allows you to hide the internal state (attributes) of an object and only expose certain functionalities through methods. This hides the complexity and implementation details from users of the class. Users interact with the object through a defined interface, reducing the chances of unintended modifications to the object's state. By controlling access to the data, encapsulation prevents direct modification of object attributes from outside the class.\n",
    "\n",
    "Code Reusability: Encapsulation promotes code reusability by encapsulating common functionalities within a class. Once a class is defined, it can be instantiated multiple times to create objects that share the same structure and behavior. This allows you to reuse the class and its methods in various parts of the program or even in different programs without rewriting the same code, leading to cleaner and more maintainable code.\n",
    "\n",
    "Modularity: Encapsulation facilitates modular programming by breaking down a complex system into smaller, manageable units (classes). Each class encapsulates its own set of data and operations, making it easier to understand, maintain, and update the code. Changes made within a class generally don't affect other parts of the program, promoting a modular and independent structure.\n",
    "\n",
    "Improved Maintainability: Encapsulation helps in improving code maintainability by localizing changes. When modifications or updates are required, they can be made within the class without affecting the external code that uses the class. This separation of concerns and reduced coupling between classes simplifies maintenance and reduces the likelihood of unintended side effects elsewhere in the program.\n",
    "\n",
    "Enhanced Flexibility and Scalability: Encapsulation allows you to define and manipulate objects independently. New functionalities can be added by extending the class (through inheritance or composition) without modifying existing code, thereby enhancing flexibility and scalability of the program.\n",
    "\n",
    "Overall, encapsulation in Python promotes better organization, reduces code duplication, enhances reusability, and makes the codebase more modular, leading to software that is easier to understand, maintain, and extend."
   ]
  },
  {
   "cell_type": "markdown",
   "id": "38dceeca",
   "metadata": {},
   "source": [
    "### 19. Describe the concept of information hiding in encapsulation. Why is it essential in software development?"
   ]
  },
  {
   "cell_type": "markdown",
   "id": "ad8f2f5b",
   "metadata": {},
   "source": [
    "\n",
    "Information hiding is a fundamental principle of encapsulation in object-oriented programming (OOP). It refers to the practice of hiding the internal workings, details, or state of an object and only exposing the necessary functionalities or interfaces to interact with that object.\n",
    "\n",
    "In encapsulation, data (attributes) within a class are typically kept private or protected, meaning they are not directly accessible from outside the class. Instead, methods (getters and setters) are used to control access to these attributes. By doing so, information hiding ensures that the internal state of an object is protected and can only be modified through controlled mechanisms, maintaining the integrity of the object's data.\n",
    "\n",
    "Here are some key aspects of information hiding:\n",
    "\n",
    "Access Control: Attributes are often declared as private or protected within a class, limiting direct access from external code. This prevents unintended modifications or inappropriate access to the object's state.\n",
    "\n",
    "Encapsulation of Complexity: By hiding the internal details of an object and exposing a well-defined interface, encapsulation allows users of the class to interact with the object without needing to understand its internal complexities. This simplifies the usage of objects and promotes a clear separation between the interface and the implementation.\n",
    "\n",
    "Modularity and Maintainability: Information hiding promotes modularity by encapsulating functionalities within a class. This reduces dependencies between different parts of the codebase, making it easier to maintain and update. Changes made within the class do not affect the external code that uses the class, enhancing maintainability.\n",
    "\n",
    "Enhanced Security: By controlling access to data and methods, information hiding enhances security by preventing unauthorized or unintended access, manipulation, or corruption of an object's internal state.\n",
    "\n",
    "\n",
    "\n",
    "\n",
    "\n",
    "Why is information hiding essential in software development?\n",
    "\n",
    "\n",
    "Reduced Complexity: It simplifies the use of objects by providing a clear interface, reducing complexity for users of the class and enabling them to focus on how to interact with the object rather than its internal workings.\n",
    "\n",
    "Improved Maintainability: It helps in isolating changes, making it easier to modify or extend the functionality of a class without affecting other parts of the codebase. This improves maintainability and reduces the likelihood of introducing bugs or unintended side effects.\n",
    "\n",
    "Enhanced Security and Reliability: It ensures that the internal state of an object is protected, reducing the risk of unintended data corruption or misuse. This contributes to the overall reliability and security of the software system.\n",
    "\n",
    "In summary, information hiding through encapsulation is essential in software development because it promotes clearer designs, reduced complexity, improved maintainability, enhanced security, and more reliable software systems."
   ]
  },
  {
   "cell_type": "markdown",
   "id": "e870a19b",
   "metadata": {},
   "source": [
    "### 20. Create a Python class called `Customer` with private attributes for customer details like name, address, and contact information. Implement encapsulation to ensure data integrity and security."
   ]
  },
  {
   "cell_type": "code",
   "execution_count": 2,
   "id": "ab4bf2f7",
   "metadata": {},
   "outputs": [
    {
     "name": "stdout",
     "output_type": "stream",
     "text": [
      "Customer Details:\n",
      "Name: John Doe\n",
      "Address: 123 Main Street\n",
      "Contact: john@example.com\n",
      "Customer Details:\n",
      "Name: John Doe\n",
      "Address: 456 Elm Street\n",
      "Contact: newemail@example.com\n"
     ]
    }
   ],
   "source": [
    "class Customer:\n",
    "    def __init__(self, name, address, contact):\n",
    "        self.__name = name\n",
    "        self.__address = address\n",
    "        self.__contact = contact\n",
    "\n",
    "    def get_name(self):\n",
    "        return self.__name\n",
    "\n",
    "    def set_name(self, name):\n",
    "        self.__name = name\n",
    "\n",
    "    def get_address(self):\n",
    "        return self.__address\n",
    "\n",
    "    def set_address(self, address):\n",
    "        self.__address = address\n",
    "\n",
    "    def get_contact(self):\n",
    "        return self.__contact\n",
    "\n",
    "    def set_contact(self, contact):\n",
    "        self.__contact = contact\n",
    "\n",
    "    def display_customer_details(self):\n",
    "        print(f\"Customer Details:\\nName: {self.__name}\\nAddress: {self.__address}\\nContact: {self.__contact}\")\n",
    "\n",
    "\n",
    "# Example usage:\n",
    "\n",
    "# Creating a Customer object\n",
    "customer1 = Customer(\"John Doe\", \"123 Main Street\", \"john@example.com\")\n",
    "\n",
    "# Accessing and displaying customer details using getter method\n",
    "customer1.display_customer_details()\n",
    "\n",
    "# Modifying customer information using setter methods\n",
    "customer1.set_address(\"456 Elm Street\")\n",
    "customer1.set_contact(\"newemail@example.com\")\n",
    "\n",
    "# Displaying updated customer details\n",
    "customer1.display_customer_details()\n"
   ]
  },
  {
   "cell_type": "markdown",
   "id": "ed1f07f6",
   "metadata": {},
   "source": [
    "## Polymorphism:"
   ]
  },
  {
   "cell_type": "markdown",
   "id": "a6161de5",
   "metadata": {},
   "source": [
    "### 1. What is polymorphism in Python? Explain how it is related to object-oriented programming."
   ]
  },
  {
   "cell_type": "markdown",
   "id": "3d188122",
   "metadata": {},
   "source": [
    "\n",
    "Polymorphism, a core concept in object-oriented programming (OOP), refers to the ability of different objects to be treated as instances of a common superclass. It allows objects of different classes to be treated as objects of a common parent class. The term \"polymorphism\" is derived from Greek, where \"poly\" means many and \"morph\" means forms. In Python, polymorphism enables objects to be processed in a uniform manner, even if they belong to different classes.\n",
    "\n",
    "There are two main types of polymorphism:\n",
    "\n",
    "Compile-time Polymorphism (Method Overloading): This type of polymorphism is achieved using method overloading, where multiple methods can have the same name but differ in the number or types of parameters. However, Python does not directly support method overloading based on different parameter lists like some other languages (e.g., Java or C++), but it can be simulated using default arguments or variable-length arguments.\n",
    "Example of method overloading in Python-like syntax (though not directly supported):"
   ]
  },
  {
   "cell_type": "code",
   "execution_count": 3,
   "id": "89cf71d6",
   "metadata": {},
   "outputs": [],
   "source": [
    "class Example:\n",
    "    def method(self, a):\n",
    "        # Method with one parameter\n",
    "        pass\n",
    "\n",
    "    def method(self, a, b):\n",
    "        # Method with two parameters\n",
    "        pass\n"
   ]
  },
  {
   "cell_type": "markdown",
   "id": "80a085a1",
   "metadata": {},
   "source": [
    "Run-time Polymorphism (Method Overriding): This type of polymorphism is achieved using method overriding, where a method in a superclass is overridden in its subclass with a method that has the same name and signature (i.e., same name and parameters). When the method is called on an object of the subclass, the overridden method in the subclass is executed.\n",
    "Example of method overriding in Python:"
   ]
  },
  {
   "cell_type": "code",
   "execution_count": 4,
   "id": "c1626f74",
   "metadata": {},
   "outputs": [
    {
     "name": "stdout",
     "output_type": "stream",
     "text": [
      "Bark\n",
      "Meow\n"
     ]
    }
   ],
   "source": [
    "class Animal:\n",
    "    def make_sound(self):\n",
    "        print(\"Some generic sound\")\n",
    "\n",
    "class Dog(Animal):\n",
    "    def make_sound(self):\n",
    "        print(\"Bark\")\n",
    "\n",
    "class Cat(Animal):\n",
    "    def make_sound(self):\n",
    "        print(\"Meow\")\n",
    "\n",
    "# Polymorphism in action\n",
    "dog = Dog()\n",
    "cat = Cat()\n",
    "\n",
    "dog.make_sound()  # Output: \"Bark\"\n",
    "cat.make_sound()  # Output: \"Meow\"\n"
   ]
  },
  {
   "cell_type": "markdown",
   "id": "1cc075d8",
   "metadata": {},
   "source": [
    "In the example above, the make_sound method is defined in the Animal class and overridden in the Dog and Cat subclasses. When make_sound is called on dog and cat objects, they execute their respective overridden methods, demonstrating run-time polymorphism.\n",
    "\n",
    "Polymorphism in Python simplifies code design by allowing different classes to be treated uniformly under a common interface or superclass, enhancing flexibility and enabling more extensible and modular code."
   ]
  },
  {
   "cell_type": "markdown",
   "id": "1cd32914",
   "metadata": {},
   "source": [
    "### 2. Describe the difference between compile-time polymorphism and runtime polymorphism in Python."
   ]
  },
  {
   "cell_type": "markdown",
   "id": "897040cc",
   "metadata": {},
   "source": [
    "\n",
    "In Python, the difference between compile-time polymorphism (method overloading) and runtime polymorphism (method overriding) lies in how they are implemented and when their resolution occurs during the program's execution:\n",
    "\n",
    "Compile-time Polymorphism (Method Overloading):\n",
    "\n",
    "Definition: Compile-time polymorphism involves having multiple methods with the same name but different parameters within the same class. It allows defining multiple methods with the same name but different parameter lists.\n",
    "\n",
    "Resolution: In some programming languages like Java or C++, method overloading is resolved during compile time based on the number and types of arguments provided. However, in Python, direct method overloading based on different parameter lists is not supported in the traditional sense. Python does not directly support method overloading based solely on the number or types of arguments as it does not distinguish methods by signatures. Attempts to define multiple methods with the same name in a class will result in only the last defined method being retained.\n",
    "\n",
    "Workaround: While Python does not support traditional method overloading, you can simulate it by using default arguments or variable-length arguments (*args, **kwargs) to create functions that handle different argument combinations within a single method.\n",
    "\n",
    "Run-time Polymorphism (Method Overriding):\n",
    "\n",
    "Definition: Run-time polymorphism involves defining a method in a base class and then redefining that method in a subclass with the same name and signature. This is known as method overriding.\n",
    "\n",
    "Resolution: Method overriding occurs during runtime. When a method is called on an object, Python determines the appropriate method to execute based on the object's actual type (subclass) rather than the reference type (superclass). The method defined in the subclass takes precedence over the method in the superclass with the same name and signature.\n",
    "\n",
    "Example: As demonstrated in the earlier example in Python, when a method is overridden in a subclass (e.g., make_sound in Animal overridden in Dog and Cat), the specific implementation of the method in the subclass is executed when the method is called on objects of those subclasses.\n",
    "\n",
    "In summary, in Python, compile-time polymorphism (method overloading based on different parameter lists) is not directly supported as in some other languages. However, runtime polymorphism (method overriding) is a fundamental aspect of Python's object-oriented nature, allowing different classes to have methods with the same name and signature but with different behaviors, which are resolved dynamically at runtime based on the object's type."
   ]
  },
  {
   "cell_type": "markdown",
   "id": "b423ddfc",
   "metadata": {},
   "source": [
    "### 3. Create a Python class hierarchy for shapes (e.g., circle, square, triangle) and demonstrate polymorphism through a common method, such as `calculate_area()`."
   ]
  },
  {
   "cell_type": "code",
   "execution_count": 5,
   "id": "92b9dd93",
   "metadata": {},
   "outputs": [
    {
     "name": "stdout",
     "output_type": "stream",
     "text": [
      "Area of shape: 78.53981633974483\n",
      "Area of shape: 16\n",
      "Area of shape: 9.0\n"
     ]
    }
   ],
   "source": [
    "import math\n",
    "\n",
    "class Shape:\n",
    "    def calculate_area(self):\n",
    "        pass\n",
    "\n",
    "class Circle(Shape):\n",
    "    def __init__(self, radius):\n",
    "        self.radius = radius\n",
    "\n",
    "    def calculate_area(self):\n",
    "        return math.pi * self.radius ** 2\n",
    "\n",
    "class Square(Shape):\n",
    "    def __init__(self, side_length):\n",
    "        self.side_length = side_length\n",
    "\n",
    "    def calculate_area(self):\n",
    "        return self.side_length ** 2\n",
    "\n",
    "class Triangle(Shape):\n",
    "    def __init__(self, base, height):\n",
    "        self.base = base\n",
    "        self.height = height\n",
    "\n",
    "    def calculate_area(self):\n",
    "        return 0.5 * self.base * self.height\n",
    "\n",
    "# Polymorphism in action\n",
    "shapes = [Circle(5), Square(4), Triangle(3, 6)]\n",
    "\n",
    "for shape in shapes:\n",
    "    if isinstance(shape, Shape):  # Ensures it's an instance of the Shape class\n",
    "        print(f\"Area of shape: {shape.calculate_area()}\")\n",
    "    else:\n",
    "        print(\"Invalid shape detected in the list.\")"
   ]
  },
  {
   "cell_type": "markdown",
   "id": "80cdd3bc",
   "metadata": {},
   "source": [
    "### 4. Explain the concept of method overriding in polymorphism. Provide an example."
   ]
  },
  {
   "cell_type": "markdown",
   "id": "3e45142c",
   "metadata": {},
   "source": [
    "\n",
    "Method overriding is a fundamental concept in object-oriented programming (OOP) that allows a subclass to provide a specific implementation of a method that is already defined in its superclass. When a method in a subclass has the same name, parameters, and return type as a method in its superclass, it overrides the superclass's method, and the subclass's method takes precedence during runtime execution.\n",
    "\n",
    "Key points about method overriding:\n",
    "\n",
    "Inheritance Relationship: Method overriding occurs in the context of inheritance, where a subclass inherits a method from its superclass and redefines it with its own implementation.\n",
    "\n",
    "Same Signature: The overriding method in the subclass must have the same method signature (same name, parameters, and return type) as the method being overridden in the superclass.\n",
    "\n",
    "Dynamic Binding: The determination of which method to execute is made dynamically at runtime based on the actual type of the object (subclass) rather than the reference type (superclass). This is also known as dynamic or late binding.\n",
    "\n",
    "Example:"
   ]
  },
  {
   "cell_type": "code",
   "execution_count": 6,
   "id": "331a686c",
   "metadata": {},
   "outputs": [
    {
     "name": "stdout",
     "output_type": "stream",
     "text": [
      "Some generic sound\n",
      "Woof\n",
      "Meow\n"
     ]
    }
   ],
   "source": [
    "class Animal:\n",
    "    def make_sound(self):\n",
    "        print(\"Some generic sound\")\n",
    "\n",
    "class Dog(Animal):\n",
    "    def make_sound(self):\n",
    "        print(\"Woof\")\n",
    "\n",
    "class Cat(Animal):\n",
    "    def make_sound(self):\n",
    "        print(\"Meow\")\n",
    "\n",
    "# Polymorphism in action with method overriding\n",
    "animal1 = Animal()\n",
    "dog = Dog()\n",
    "cat = Cat()\n",
    "\n",
    "animal1.make_sound()  # Output: \"Some generic sound\"\n",
    "dog.make_sound()      # Output: \"Woof\"\n",
    "cat.make_sound()      # Output: \"Meow\"\n"
   ]
  },
  {
   "cell_type": "markdown",
   "id": "d2a2944b",
   "metadata": {},
   "source": [
    "### 5. How is polymorphism different from method overloading in Python? Provide examples for both."
   ]
  },
  {
   "cell_type": "markdown",
   "id": "779c165d",
   "metadata": {},
   "source": [
    "\n",
    "In Python, polymorphism and method overloading represent two different concepts:\n",
    "\n",
    "Polymorphism:\n",
    "\n",
    "Definition: Polymorphism refers to the ability of different objects to be treated as instances of a common superclass. It allows objects of different classes to be used interchangeably through a common interface, even if they have different implementations of methods.\n",
    "Execution: In Python, polymorphism is primarily achieved through method overriding, where a subclass provides its own implementation of a method inherited from its superclass. The method to be executed is determined dynamically at runtime based on the actual type of the object.\n",
    "Example: Refer to the example provided earlier in the explanation of polymorphism, where Dog, Cat, and Animal classes demonstrate polymorphic behavior by overriding the make_sound() method.\n",
    "Method Overloading:\n",
    "\n",
    "Definition: Method overloading involves having multiple methods with the same name but different parameters within the same class. In some programming languages like Java or C++, method overloading allows defining multiple methods with the same name but different parameter lists.\n",
    "Execution: In traditional languages that support method overloading, the choice of which method to execute is determined at compile time based on the number and types of arguments provided to the method.\n",
    "Difference in Python: However, in Python, direct method overloading based on different parameter lists (as in languages like Java) is not supported in the same way. Python does not inherently distinguish between methods based solely on different parameter lists; hence, it does not support traditional method overloading based on different parameters.\n",
    "Example in Python (Emulating Method Overloading): In Python, you can simulate method overloading using default arguments or variable-length arguments (*args, **kwargs) to create functions that handle different argument combinations within a single method. Here's a simple example:"
   ]
  },
  {
   "cell_type": "code",
   "execution_count": 7,
   "id": "8e3e6873",
   "metadata": {},
   "outputs": [
    {
     "name": "stdout",
     "output_type": "stream",
     "text": [
      "Value of 'a': 5\n",
      "Values of 'a' and 'b': 2, 7\n"
     ]
    }
   ],
   "source": [
    "class Example:\n",
    "    def method(self, a, b=None):\n",
    "        if b is None:\n",
    "            # Handle case where only 'a' is provided\n",
    "            print(f\"Value of 'a': {a}\")\n",
    "        else:\n",
    "            # Handle case where both 'a' and 'b' are provided\n",
    "            print(f\"Values of 'a' and 'b': {a}, {b}\")\n",
    "\n",
    "# Usage of the class with 'method' exhibiting a form of method overloading\n",
    "obj = Example()\n",
    "obj.method(5)          # Output: Value of 'a': 5\n",
    "obj.method(2, 7)       # Output: Values of 'a' and 'b': 2, 7\n"
   ]
  },
  {
   "cell_type": "markdown",
   "id": "a1a036f7",
   "metadata": {},
   "source": [
    "In summary, in Python, polymorphism is primarily achieved through method overriding and allows different classes to be treated uniformly under a common superclass, while method overloading based on different parameter lists is not directly supported in the traditional sense, though it can be simulated using default arguments or variable-length arguments."
   ]
  },
  {
   "cell_type": "markdown",
   "id": "61379c79",
   "metadata": {},
   "source": [
    "### 6. Create a Python class called `Animal` with a method `speak()`. Then, create child classes like `Dog`, `Cat`, and `Bird`, each with their own `speak()` method. Demonstrate polymorphism by calling the `speak()` method on objects of different subclasses."
   ]
  },
  {
   "cell_type": "code",
   "execution_count": 8,
   "id": "fa7f5fd9",
   "metadata": {},
   "outputs": [
    {
     "name": "stdout",
     "output_type": "stream",
     "text": [
      "Some generic sound\n",
      "Woof!\n",
      "Meow!\n",
      "Tweet!\n"
     ]
    }
   ],
   "source": [
    "class Animal:\n",
    "    def speak(self):\n",
    "        print(\"Some generic sound\")\n",
    "\n",
    "class Dog(Animal):\n",
    "    def speak(self):\n",
    "        print(\"Woof!\")\n",
    "\n",
    "class Cat(Animal):\n",
    "    def speak(self):\n",
    "        print(\"Meow!\")\n",
    "\n",
    "class Bird(Animal):\n",
    "    def speak(self):\n",
    "        print(\"Tweet!\")\n",
    "\n",
    "# Polymorphism in action\n",
    "animal = Animal()  # Creating an instance of the Animal class\n",
    "dog = Dog()        # Creating an instance of the Dog class\n",
    "cat = Cat()        # Creating an instance of the Cat class\n",
    "bird = Bird()      # Creating an instance of the Bird class\n",
    "\n",
    "# Calling speak() method on objects of different subclasses\n",
    "animal.speak()  # Output: \"Some generic sound\"\n",
    "dog.speak()     # Output: \"Woof!\"\n",
    "cat.speak()     # Output: \"Meow!\"\n",
    "bird.speak()    # Output: \"Tweet!\"\n"
   ]
  },
  {
   "cell_type": "markdown",
   "id": "199c096c",
   "metadata": {},
   "source": [
    "### 7. Discuss the use of abstract methods and classes in achieving polymorphism in Python. Provide an example using the `abc` module."
   ]
  },
  {
   "cell_type": "markdown",
   "id": "823822a5",
   "metadata": {},
   "source": [
    "Absolutely! In Python, abstract classes and methods are used to define a common interface that subclasses must implement. This concept plays a crucial role in achieving polymorphism by ensuring that different classes can share a common structure while providing their own unique implementations for certain methods.\n",
    "\n",
    "The abc module (Abstract Base Classes) in Python facilitates the creation of abstract classes and methods. An abstract class cannot be instantiated on its own, and it may contain one or more abstract methods—methods without implementation—requiring subclasses to provide their own implementations.\n",
    "\n",
    "Here's an example demonstrating the use of the abc module to create an abstract class with an abstract method:"
   ]
  },
  {
   "cell_type": "code",
   "execution_count": 9,
   "id": "75d3f230",
   "metadata": {},
   "outputs": [
    {
     "name": "stdout",
     "output_type": "stream",
     "text": [
      "Area of Circle: 78.5\n",
      "Area of Square: 16\n"
     ]
    }
   ],
   "source": [
    "from abc import ABC, abstractmethod\n",
    "\n",
    "class Shape(ABC):  # Abstract class\n",
    "    @abstractmethod\n",
    "    def calculate_area(self):\n",
    "        pass\n",
    "\n",
    "class Circle(Shape):\n",
    "    def __init__(self, radius):\n",
    "        self.radius = radius\n",
    "\n",
    "    def calculate_area(self):\n",
    "        return 3.14 * self.radius ** 2\n",
    "\n",
    "class Square(Shape):\n",
    "    def __init__(self, side_length):\n",
    "        self.side_length = side_length\n",
    "\n",
    "    def calculate_area(self):\n",
    "        return self.side_length ** 2\n",
    "\n",
    "# Creating instances of concrete subclasses\n",
    "circle = Circle(5)\n",
    "square = Square(4)\n",
    "\n",
    "# Using polymorphism by calling the calculate_area() method\n",
    "print(f\"Area of Circle: {circle.calculate_area()}\")  # Output: Area of Circle: 78.5\n",
    "print(f\"Area of Square: {square.calculate_area()}\")  # Output: Area of Square: 16\n"
   ]
  },
  {
   "cell_type": "markdown",
   "id": "980050c2",
   "metadata": {},
   "source": [
    "### 8. Create a Python class hierarchy for a vehicle system (e.g., car, bicycle, boat) and implement a polymorphic `start()` method that prints a message specific to each vehicle type."
   ]
  },
  {
   "cell_type": "code",
   "execution_count": 10,
   "id": "4c297088",
   "metadata": {},
   "outputs": [
    {
     "name": "stdout",
     "output_type": "stream",
     "text": [
      "Car started. Vroom Vroom!\n",
      "Bicycle started. Pedal, pedal!\n",
      "Boat started. Row, row!\n"
     ]
    }
   ],
   "source": [
    "class Vehicle:\n",
    "    def start(self):\n",
    "        pass\n",
    "\n",
    "class Car(Vehicle):\n",
    "    def start(self):\n",
    "        print(\"Car started. Vroom Vroom!\")\n",
    "\n",
    "class Bicycle(Vehicle):\n",
    "    def start(self):\n",
    "        print(\"Bicycle started. Pedal, pedal!\")\n",
    "\n",
    "class Boat(Vehicle):\n",
    "    def start(self):\n",
    "        print(\"Boat started. Row, row!\")\n",
    "        \n",
    "# Polymorphism in action\n",
    "vehicles = [Car(), Bicycle(), Boat()]\n",
    "\n",
    "for vehicle in vehicles:\n",
    "    vehicle.start()\n"
   ]
  },
  {
   "cell_type": "markdown",
   "id": "e259160d",
   "metadata": {},
   "source": [
    "### 9. Explain the significance of the `isinstance()` and `issubclass()` functions in Python polymorphism."
   ]
  },
  {
   "cell_type": "markdown",
   "id": "080f4509",
   "metadata": {},
   "source": [
    "\n",
    "In Python, the isinstance() and issubclass() functions play significant roles in implementing and leveraging polymorphism by facilitating type checking and inheritance validation:\n",
    "\n",
    "isinstance() Function:\n",
    "\n",
    "Significance: The isinstance() function is used to determine whether an object is an instance of a particular class or any subclass of that class. It checks if an object belongs to a specified class or its subclasses, aiding in runtime type checking.\n",
    "Usage: It takes two arguments—the object to be checked and a class or a tuple of classes. It returns True if the object is an instance of the specified class or any of its subclasses; otherwise, it returns False."
   ]
  },
  {
   "cell_type": "code",
   "execution_count": 11,
   "id": "87b92627",
   "metadata": {},
   "outputs": [
    {
     "name": "stdout",
     "output_type": "stream",
     "text": [
      "True\n",
      "True\n",
      "False\n"
     ]
    }
   ],
   "source": [
    "# example\n",
    "class Vehicle:\n",
    "    pass\n",
    "\n",
    "class Car(Vehicle):\n",
    "    pass\n",
    "\n",
    "car = Car()\n",
    "\n",
    "print(isinstance(car, Car))        # Output: True\n",
    "print(isinstance(car, Vehicle))    # Output: True\n",
    "print(isinstance(car, int))        # Output: False\n"
   ]
  },
  {
   "cell_type": "markdown",
   "id": "2b76e44c",
   "metadata": {},
   "source": [
    "Significance in Polymorphism: isinstance() is crucial in polymorphism as it allows code to handle objects generically, regardless of their specific class, by checking if they belong to a certain class or its subclasses. It helps in designing code that can handle different types of objects uniformly.\n",
    "issubclass() Function:\n",
    "\n",
    "Significance: The issubclass() function is used to check whether a specified class is a subclass of another class. It determines if one class is a derived class of another class.\n",
    "Usage: It takes two arguments—the potential subclass and the potential superclass. It returns True if the first class is a subclass of the second class; otherwise, it returns False."
   ]
  },
  {
   "cell_type": "code",
   "execution_count": 12,
   "id": "09f6a5eb",
   "metadata": {},
   "outputs": [
    {
     "name": "stdout",
     "output_type": "stream",
     "text": [
      "True\n",
      "True\n",
      "False\n"
     ]
    }
   ],
   "source": [
    "# example\n",
    "class Vehicle:\n",
    "    pass\n",
    "\n",
    "class Car(Vehicle):\n",
    "    pass\n",
    "\n",
    "class Bicycle(Vehicle):\n",
    "    pass\n",
    "\n",
    "print(issubclass(Car, Vehicle))       # Output: True\n",
    "print(issubclass(Bicycle, Vehicle))   # Output: True\n",
    "print(issubclass(Bicycle, Car))       # Output: False\n"
   ]
  },
  {
   "cell_type": "markdown",
   "id": "59c7c6d7",
   "metadata": {},
   "source": [
    "Significance in Polymorphism: issubclass() is important in polymorphism as it helps determine the inheritance relationship between classes. It enables code to make decisions or apply logic based on class hierarchy, allowing for more flexible and generalized implementations."
   ]
  },
  {
   "cell_type": "markdown",
   "id": "357efe82",
   "metadata": {},
   "source": [
    "### 10. What is the role of the `@abstractmethod` decorator in achieving polymorphism in Python? Provide an example."
   ]
  },
  {
   "cell_type": "markdown",
   "id": "9148a428",
   "metadata": {},
   "source": [
    "\n",
    "The @abstractmethod decorator, available in the abc (Abstract Base Classes) module of Python, plays a crucial role in achieving polymorphism by defining abstract methods within abstract classes. Abstract methods are declared without any implementation in the abstract class, and their concrete implementations must be provided by subclasses. This enforces a contract that forces subclasses to implement specific methods, ensuring a common interface while allowing diverse implementations.\n",
    "\n",
    "Here's an example demonstrating the use of the @abstractmethod decorator"
   ]
  },
  {
   "cell_type": "code",
   "execution_count": 13,
   "id": "828a804b",
   "metadata": {},
   "outputs": [
    {
     "name": "stdout",
     "output_type": "stream",
     "text": [
      "Area of Circle: 78.5\n",
      "Area of Square: 16\n"
     ]
    }
   ],
   "source": [
    "from abc import ABC, abstractmethod\n",
    "\n",
    "class Shape(ABC):  # Abstract class\n",
    "    @abstractmethod\n",
    "    def calculate_area(self):\n",
    "        pass\n",
    "\n",
    "class Circle(Shape):\n",
    "    def __init__(self, radius):\n",
    "        self.radius = radius\n",
    "\n",
    "    def calculate_area(self):\n",
    "        return 3.14 * self.radius ** 2\n",
    "\n",
    "class Square(Shape):\n",
    "    def __init__(self, side_length):\n",
    "        self.side_length = side_length\n",
    "\n",
    "    def calculate_area(self):\n",
    "        return self.side_length ** 2\n",
    "\n",
    "# Creating instances of concrete subclasses\n",
    "circle = Circle(5)\n",
    "square = Square(4)\n",
    "\n",
    "# Using polymorphism by calling the calculate_area() method\n",
    "print(f\"Area of Circle: {circle.calculate_area()}\")  # Output: Area of Circle: 78.5\n",
    "print(f\"Area of Square: {square.calculate_area()}\")  # Output: Area of Square: 16\n"
   ]
  },
  {
   "cell_type": "markdown",
   "id": "5aaf6926",
   "metadata": {},
   "source": [
    "### 11. Create a Python class called `Shape` with a polymorphic method `area()` that calculates the area of different shapes (e.g., circle, rectangle, triangle)."
   ]
  },
  {
   "cell_type": "code",
   "execution_count": 14,
   "id": "4bdd4357",
   "metadata": {},
   "outputs": [
    {
     "name": "stdout",
     "output_type": "stream",
     "text": [
      "Area of Circle: 78.53981633974483\n",
      "Area of Rectangle: 24\n",
      "Area of Triangle: 10.5\n"
     ]
    }
   ],
   "source": [
    "import math\n",
    "\n",
    "class Shape:\n",
    "    def area(self):\n",
    "        pass\n",
    "\n",
    "class Circle(Shape):\n",
    "    def __init__(self, radius):\n",
    "        self.radius = radius\n",
    "\n",
    "    def area(self):\n",
    "        return math.pi * self.radius ** 2\n",
    "\n",
    "class Rectangle(Shape):\n",
    "    def __init__(self, length, width):\n",
    "        self.length = length\n",
    "        self.width = width\n",
    "\n",
    "    def area(self):\n",
    "        return self.length * self.width\n",
    "\n",
    "class Triangle(Shape):\n",
    "    def __init__(self, base, height):\n",
    "        self.base = base\n",
    "        self.height = height\n",
    "\n",
    "    def area(self):\n",
    "        return 0.5 * self.base * self.height\n",
    "\n",
    "# Polymorphism in action\n",
    "circle = Circle(5)\n",
    "rectangle = Rectangle(4, 6)\n",
    "triangle = Triangle(3, 7)\n",
    "\n",
    "# Calculating the area of different shapes\n",
    "print(f\"Area of Circle: {circle.area()}\")         # Output: Area of Circle: 78.53981633974483\n",
    "print(f\"Area of Rectangle: {rectangle.area()}\")   # Output: Area of Rectangle: 24\n",
    "print(f\"Area of Triangle: {triangle.area()}\")     # Output: Area of Triangle: 10.5\n"
   ]
  },
  {
   "cell_type": "markdown",
   "id": "47febae1",
   "metadata": {},
   "source": [
    "### 12. Discuss the benefits of polymorphism in terms of code reusability and flexibility in Python programs."
   ]
  },
  {
   "cell_type": "markdown",
   "id": "c70a2e26",
   "metadata": {},
   "source": [
    "\n",
    "Polymorphism in Python offers several benefits in terms of code reusability, flexibility, and maintainability of programs:\n",
    "\n",
    "Code Reusability:\n",
    "\n",
    "Polymorphism allows for the creation of code that can operate on objects of various classes through a common interface.\n",
    "It enables the reuse of code by allowing methods to be defined in a superclass and overridden in subclasses with specific implementations, reducing redundancy and promoting modular design.\n",
    "Flexibility and Extensibility:\n",
    "\n",
    "Polymorphism enables the addition of new classes or behaviors without modifying existing code. New subclasses can be added that adhere to the same interface as the superclass, enhancing flexibility.\n",
    "It facilitates writing generalized code that can work with various types of objects, promoting extensibility as the program evolves.\n",
    "Simplification and Abstraction:\n",
    "\n",
    "Polymorphism allows for the abstraction of common functionality into a superclass, promoting a more abstract and higher-level view of the code.\n",
    "It simplifies code maintenance by encapsulating common behaviors in a single place (superclass), making it easier to manage and modify code.\n",
    "Enhanced Readability and Maintainability:\n",
    "\n",
    "By providing a common interface through polymorphism, code becomes more readable as it hides complex implementation details behind a simple interface.\n",
    "It improves maintainability as changes to the common interface (in the superclass) automatically propagate to all subclasses, reducing the impact of modifications.\n",
    "Support for Dynamic Binding:\n",
    "\n",
    "Polymorphism supports dynamic binding, enabling the determination of which method to execute at runtime based on the actual type of the object rather than the reference type.\n",
    "This dynamic behavior enhances the adaptability of the code, allowing it to handle different object types at runtime without explicitly specifying their types.\n",
    "In essence, polymorphism in Python fosters modular and reusable code, promotes flexibility and extensibility, simplifies code maintenance, and enhances the readability and maintainability of programs. It allows developers to write code that can handle diverse objects through a common interface, thus contributing to more robust and adaptable software systems."
   ]
  },
  {
   "cell_type": "markdown",
   "id": "c4f31824",
   "metadata": {},
   "source": [
    "### 13. Explain the use of the `super()` function in Python polymorphism. How does it help call methods of parent classes?"
   ]
  },
  {
   "cell_type": "markdown",
   "id": "dcbf7f25",
   "metadata": {},
   "source": [
    "\n",
    "In Python, the super() function is used to access and invoke methods or properties from the superclass (parent class) within a subclass. It facilitates the calling of methods or accessing attributes of the superclass, allowing for method delegation and achieving method overriding while maintaining the inheritance hierarchy.\n",
    "\n",
    "The primary usage of super() is within a subclass to call methods or access properties of its superclass. It enables the subclass to extend or modify the behavior of methods defined in the superclass by either enhancing or overriding them.\n",
    "\n",
    "Here's an example demonstrating the use of super() within a subclass:"
   ]
  },
  {
   "cell_type": "code",
   "execution_count": 15,
   "id": "c731f440",
   "metadata": {},
   "outputs": [
    {
     "name": "stdout",
     "output_type": "stream",
     "text": [
      "Parent class method\n",
      "Child class method\n"
     ]
    }
   ],
   "source": [
    "class Parent:\n",
    "    def show(self):\n",
    "        print(\"Parent class method\")\n",
    "\n",
    "class Child(Parent):\n",
    "    def show(self):\n",
    "        super().show()  # Calling the show() method of the Parent class\n",
    "        print(\"Child class method\")\n",
    "\n",
    "# Creating an instance of the Child class\n",
    "obj = Child()\n",
    "\n",
    "# Calling the overridden method in the Child class\n",
    "obj.show()\n"
   ]
  },
  {
   "cell_type": "markdown",
   "id": "b3113b86",
   "metadata": {},
   "source": [
    "### 14. Create a Python class hierarchy for a banking system with various account types (e.g., savings, checking,"
   ]
  },
  {
   "cell_type": "code",
   "execution_count": 16,
   "id": "d36d676f",
   "metadata": {},
   "outputs": [
    {
     "name": "stdout",
     "output_type": "stream",
     "text": [
      "Deposited $100. Current balance: $600\n",
      "Added interest of $30.0. Current balance: $630.0\n",
      "Account Balance: $630.0\n",
      "Deposited $200. Current balance: $1200\n",
      "Withdrew $150. Current balance: $1050\n",
      "Account Balance: $1050\n",
      "Deposited $300. Current balance: $500\n",
      "Made a purchase of $400. Current balance: $100\n",
      "Account Balance: $100\n"
     ]
    }
   ],
   "source": [
    "class Account:\n",
    "    def __init__(self, account_number, balance=0):\n",
    "        self.account_number = account_number\n",
    "        self.balance = balance\n",
    "\n",
    "    def deposit(self, amount):\n",
    "        self.balance += amount\n",
    "        print(f\"Deposited ${amount}. Current balance: ${self.balance}\")\n",
    "\n",
    "    def withdraw(self, amount):\n",
    "        if self.balance >= amount:\n",
    "            self.balance -= amount\n",
    "            print(f\"Withdrew ${amount}. Current balance: ${self.balance}\")\n",
    "        else:\n",
    "            print(\"Insufficient funds\")\n",
    "\n",
    "    def get_balance(self):\n",
    "        print(f\"Account Balance: ${self.balance}\")\n",
    "\n",
    "\n",
    "class SavingsAccount(Account):\n",
    "    def __init__(self, account_number, balance=0, interest_rate=0.05):\n",
    "        super().__init__(account_number, balance)\n",
    "        self.interest_rate = interest_rate\n",
    "\n",
    "    def add_interest(self):\n",
    "        interest = self.balance * self.interest_rate\n",
    "        self.balance += interest\n",
    "        print(f\"Added interest of ${interest}. Current balance: ${self.balance}\")\n",
    "\n",
    "\n",
    "class CheckingAccount(Account):\n",
    "    def __init__(self, account_number, balance=0, overdraft_limit=100):\n",
    "        super().__init__(account_number, balance)\n",
    "        self.overdraft_limit = overdraft_limit\n",
    "\n",
    "    def withdraw(self, amount):\n",
    "        if self.balance + self.overdraft_limit >= amount:\n",
    "            self.balance -= amount\n",
    "            print(f\"Withdrew ${amount}. Current balance: ${self.balance}\")\n",
    "        else:\n",
    "            print(\"Withdrawal exceeds overdraft limit\")\n",
    "\n",
    "\n",
    "class CreditAccount(Account):\n",
    "    def __init__(self, account_number, balance=0, credit_limit=1000):\n",
    "        super().__init__(account_number, balance)\n",
    "        self.credit_limit = credit_limit\n",
    "\n",
    "    def make_purchase(self, amount):\n",
    "        if self.balance + self.credit_limit >= amount:\n",
    "            self.balance -= amount\n",
    "            print(f\"Made a purchase of ${amount}. Current balance: ${self.balance}\")\n",
    "        else:\n",
    "            print(\"Purchase exceeds credit limit\")\n",
    "\n",
    "\n",
    "# Usage:\n",
    "savings = SavingsAccount(\"SAV-123\", 500)\n",
    "checking = CheckingAccount(\"CHK-456\", 1000)\n",
    "credit = CreditAccount(\"CRD-789\", 200)\n",
    "\n",
    "savings.deposit(100)\n",
    "savings.add_interest()\n",
    "savings.get_balance()\n",
    "\n",
    "checking.deposit(200)\n",
    "checking.withdraw(150)\n",
    "checking.get_balance()\n",
    "\n",
    "credit.deposit(300)\n",
    "credit.make_purchase(400)\n",
    "credit.get_balance()\n"
   ]
  },
  {
   "cell_type": "markdown",
   "id": "f875e08e",
   "metadata": {},
   "source": [
    "### 15. Describe the concept of operator overloading in Python and how it relates to polymorphism. Provide examples using operators like `+` and `*`."
   ]
  },
  {
   "cell_type": "markdown",
   "id": "93a22ff5",
   "metadata": {},
   "source": [
    "Operator overloading in Python refers to the ability to redefine the behavior of certain operators for user-defined objects/classes. This allows custom classes to define their behavior for standard Python operators such as +, -, *, /, ==, !=, and others. When these operators are used with objects of user-defined classes, Python invokes specific methods associated with those operators to perform the desired operations.\n",
    "\n",
    "Operator overloading is closely related to polymorphism, as it enables different behavior for operators based on the operands' types, allowing objects of different classes to behave differently with the same operator.\n",
    "\n",
    "Two commonly overloaded operators in Python are the __add__() method for the + operator and the __mul__() method for the * operator.\n",
    "\n",
    "Here are examples demonstrating operator overloading using + and * operators:"
   ]
  },
  {
   "cell_type": "markdown",
   "id": "a8fb3448",
   "metadata": {},
   "source": [
    "Operator Overloading with + (Addition) Operator:\n",
    "python\n",
    "Copy code\n",
    "class Vector:\n",
    "    def __init__(self, x, y):\n",
    "        self.x = x\n",
    "        self.y = y\n",
    "\n",
    "    def __add__(self, other):\n",
    "        return Vector(self.x + other.x, self.y + other.y)\n",
    "\n",
    "    def __str__(self):\n",
    "        return f\"({self.x}, {self.y})\"\n",
    "\n",
    "##### Usage:\n",
    "v1 = Vector(2, 3)\n",
    "v2 = Vector(-1, 5)\n",
    "\n",
    "result = v1 + v2\n",
    "print(result)  # Output: (1, 8)\n",
    "Explanation for + Operator Overloading:\n",
    "\n",
    "The __add__() method is defined in the Vector class to handle addition using the + operator.\n",
    "When v1 + v2 is executed, Python internally calls v1.__add__(v2), which returns a new Vector instance with the sum of the corresponding coordinates.\n",
    "\n"
   ]
  },
  {
   "cell_type": "raw",
   "id": "da102d1c",
   "metadata": {},
   "source": [
    "\n",
    "Operator Overloading with * (Multiplication) Operator:\n",
    "python\n",
    "Copy code\n",
    "class Point:\n",
    "    def __init__(self, x, y):\n",
    "        self.x = x\n",
    "        self.y = y\n",
    "\n",
    "    def __mul__(self, scalar):\n",
    "        return Point(self.x * scalar, self.y * scalar)\n",
    "\n",
    "    def __str__(self):\n",
    "        return f\"({self.x}, {self.y})\"\n",
    "\n",
    "# Usage:\n",
    "p1 = Point(2, 3)\n",
    "\n",
    "result = p1 * 2\n",
    "print(result)  # Output: (4, 6)"
   ]
  },
  {
   "cell_type": "markdown",
   "id": "27fd74c3",
   "metadata": {},
   "source": [
    "### 16. What is dynamic polymorphism, and how is it achieved in Python?"
   ]
  },
  {
   "cell_type": "markdown",
   "id": "b5efd255",
   "metadata": {},
   "source": [
    "Dynamic polymorphism refers to the ability of different objects to be treated as objects of a common superclass, enabling them to be manipulated through a uniform interface. This allows for flexibility in the behavior of methods invoked on objects of different classes that share a common superclass or interface.\n",
    "\n",
    "In Python, dynamic polymorphism is achieved through method overriding and inheritance. Method overriding occurs when a subclass provides a specific implementation of a method that is already defined in its superclass. When a method is invoked on an object, Python looks for the method in the object's class. If it doesn't find the method in that class, it traverses the class hierarchy upwards until it finds the method or reaches the top-level object class.\n",
    "\n",
    "Here's an example to illustrate dynamic polymorphism in Python using inheritance and method overriding:"
   ]
  },
  {
   "cell_type": "code",
   "execution_count": 1,
   "id": "807f35de",
   "metadata": {},
   "outputs": [
    {
     "name": "stdout",
     "output_type": "stream",
     "text": [
      "Woof!\n",
      "Meow!\n"
     ]
    }
   ],
   "source": [
    "class Animal:\n",
    "    def make_sound(self):\n",
    "        pass  # This method will be overridden by subclasses\n",
    "\n",
    "class Dog(Animal):\n",
    "    def make_sound(self):\n",
    "        return \"Woof!\"\n",
    "\n",
    "class Cat(Animal):\n",
    "    def make_sound(self):\n",
    "        return \"Meow!\"\n",
    "\n",
    "# Using dynamic polymorphism\n",
    "dog = Dog()\n",
    "cat = Cat()\n",
    "\n",
    "print(dog.make_sound())  # Output: \"Woof!\"\n",
    "print(cat.make_sound())  # Output: \"Meow!\"\n"
   ]
  },
  {
   "cell_type": "markdown",
   "id": "d870eee1",
   "metadata": {},
   "source": [
    "### 17. Create a Python class hierarchy for employees in a company (e.g., manager, developer, designer) and implement polymorphism through a common `calculate_salary()` method."
   ]
  },
  {
   "cell_type": "code",
   "execution_count": 2,
   "id": "9687a391",
   "metadata": {},
   "outputs": [
    {
     "name": "stdout",
     "output_type": "stream",
     "text": [
      "John Doe (Manager) Salary: $5000\n",
      "Alice Smith (Developer) Salary: $6400\n",
      "Eva Brown (Designer) Salary: $6000\n"
     ]
    }
   ],
   "source": [
    "class Employee:\n",
    "    def __init__(self, name, role):\n",
    "        self.name = name\n",
    "        self.role = role\n",
    "\n",
    "    def calculate_salary(self):\n",
    "        # Base implementation for calculating salary (can be overridden)\n",
    "        return 0\n",
    "\n",
    "\n",
    "class Manager(Employee):\n",
    "    def __init__(self, name, salary):\n",
    "        super().__init__(name, \"Manager\")\n",
    "        self.salary = salary\n",
    "\n",
    "    def calculate_salary(self):\n",
    "        # Override calculate_salary for Manager\n",
    "        return self.salary\n",
    "\n",
    "\n",
    "class Developer(Employee):\n",
    "    def __init__(self, name, hourly_rate, hours_worked):\n",
    "        super().__init__(name, \"Developer\")\n",
    "        self.hourly_rate = hourly_rate\n",
    "        self.hours_worked = hours_worked\n",
    "\n",
    "    def calculate_salary(self):\n",
    "        # Override calculate_salary for Developer\n",
    "        return self.hourly_rate * self.hours_worked\n",
    "\n",
    "\n",
    "class Designer(Employee):\n",
    "    def __init__(self, name, monthly_salary):\n",
    "        super().__init__(name, \"Designer\")\n",
    "        self.monthly_salary = monthly_salary\n",
    "\n",
    "    def calculate_salary(self):\n",
    "        # Override calculate_salary for Designer\n",
    "        return self.monthly_salary\n",
    "\n",
    "\n",
    "# Usage:\n",
    "manager = Manager(\"John Doe\", 5000)\n",
    "developer = Developer(\"Alice Smith\", 40, 160)  # Hourly rate: 40, Hours worked: 160\n",
    "designer = Designer(\"Eva Brown\", 6000)  # Monthly salary: 6000\n",
    "\n",
    "# Polymorphic behavior with calculate_salary method\n",
    "employees = [manager, developer, designer]\n",
    "\n",
    "for employee in employees:\n",
    "    print(f\"{employee.name} ({employee.role}) Salary: ${employee.calculate_salary()}\")\n"
   ]
  },
  {
   "cell_type": "markdown",
   "id": "5dc89597",
   "metadata": {},
   "source": [
    "### 18. Discuss the concept of function pointers and how they can be used to achieve polymorphism in Python."
   ]
  },
  {
   "cell_type": "markdown",
   "id": "31ddea4d",
   "metadata": {},
   "source": [
    "\n",
    "In Python, the concept of function pointers is not explicitly available as it is in some other programming languages like C or C++. However, Python utilizes a similar concept through its support for higher-order functions and first-class functions, enabling the use of functions as objects that can be passed around, assigned to variables, and used as arguments to other functions.\n",
    "\n",
    "Polymorphism in Python can be achieved using higher-order functions, allowing different functions to be called based on runtime conditions or through function mapping.\n",
    "\n",
    "Here's an example demonstrating polymorphism using function pointers (or references to functions) in Python:"
   ]
  },
  {
   "cell_type": "code",
   "execution_count": 3,
   "id": "38a7ab76",
   "metadata": {},
   "outputs": [
    {
     "name": "stdout",
     "output_type": "stream",
     "text": [
      "Result of addition: 8\n",
      "Result of subtraction: 6\n",
      "Result of multiplication: 14\n"
     ]
    }
   ],
   "source": [
    "# Define different functions for different operations\n",
    "def add(a, b):\n",
    "    return a + b\n",
    "\n",
    "def subtract(a, b):\n",
    "    return a - b\n",
    "\n",
    "def multiply(a, b):\n",
    "    return a * b\n",
    "\n",
    "# Define a function that performs an operation based on the provided function pointer\n",
    "def calculate(a, b, operation):\n",
    "    return operation(a, b)\n",
    "\n",
    "# Function pointers (references)\n",
    "operation_add = add\n",
    "operation_subtract = subtract\n",
    "operation_multiply = multiply\n",
    "\n",
    "# Use function pointers to perform different operations\n",
    "result_add = calculate(5, 3, operation_add)  # Result of adding: 5 + 3\n",
    "result_subtract = calculate(10, 4, operation_subtract)  # Result of subtracting: 10 - 4\n",
    "result_multiply = calculate(7, 2, operation_multiply)  # Result of multiplying: 7 * 2\n",
    "\n",
    "print(f\"Result of addition: {result_add}\")  # Output: 8\n",
    "print(f\"Result of subtraction: {result_subtract}\")  # Output: 6\n",
    "print(f\"Result of multiplication: {result_multiply}\")  # Output: 14\n"
   ]
  },
  {
   "cell_type": "markdown",
   "id": "95613201",
   "metadata": {},
   "source": [
    "### 19. Explain the role of interfaces and abstract classes in polymorphism, drawing comparisons between them."
   ]
  },
  {
   "cell_type": "markdown",
   "id": "8fc438e2",
   "metadata": {},
   "source": [
    "\n",
    "In object-oriented programming, both interfaces and abstract classes play a crucial role in achieving polymorphism by providing a way to define a common structure for classes while allowing for variations in their implementations. However, there are differences in how they are implemented and used.\n",
    "\n",
    "Interfaces:\n",
    "Definition: An interface in programming represents a contract for a class. It defines a set of methods that a class must implement. However, it doesn't provide any implementation details; it only specifies the method signatures.\n",
    "\n",
    "Usage: In languages like Java, C#, and TypeScript, interfaces are explicitly defined using a keyword like interface. Classes can implement multiple interfaces. This allows for achieving polymorphism by having different classes implement the same interface and provide their own implementation of the methods defined in the interface.\n",
    "\n",
    "Example:\n",
    "\n",
    "python\n"
   ]
  },
  {
   "cell_type": "code",
   "execution_count": 4,
   "id": "96b7fbf0",
   "metadata": {},
   "outputs": [],
   "source": [
    "from abc import ABC, abstractmethod\n",
    "\n",
    "class Shape(ABC):\n",
    "    @abstractmethod\n",
    "    def area(self):\n",
    "        pass\n",
    "\n",
    "class Circle(Shape):\n",
    "    def __init__(self, radius):\n",
    "        self.radius = radius\n",
    "\n",
    "    def area(self):\n",
    "        return 3.14 * self.radius * self.radius\n",
    "\n",
    "class Rectangle(Shape):\n",
    "    def __init__(self, length, width):\n",
    "        self.length = length\n",
    "        self.width = width\n",
    "\n",
    "    def area(self):\n",
    "        return self.length * self.width\n"
   ]
  },
  {
   "cell_type": "markdown",
   "id": "3b3e3ab9",
   "metadata": {},
   "source": [
    "Abstract Classes:\n",
    "Definition: An abstract class is a class that contains one or more abstract methods—methods without implementations. Abstract classes can also have concrete methods. They cannot be instantiated on their own and need to be subclassed. Subclasses are required to provide implementations for the abstract methods.\n",
    "\n",
    "Usage: Abstract classes in Python are created using the ABC (Abstract Base Class) module from the abc package. They allow defining abstract methods using the @abstractmethod decorator. Abstract classes can contain both abstract methods and concrete methods, providing a partial implementation.\n",
    "\n",
    "Example:"
   ]
  },
  {
   "cell_type": "code",
   "execution_count": 5,
   "id": "3ef5add0",
   "metadata": {},
   "outputs": [],
   "source": [
    "from abc import ABC, abstractmethod\n",
    "\n",
    "class Vehicle(ABC):\n",
    "    def __init__(self, brand):\n",
    "        self.brand = brand\n",
    "\n",
    "    @abstractmethod\n",
    "    def drive(self):\n",
    "        pass\n",
    "\n",
    "class Car(Vehicle):\n",
    "    def drive(self):\n",
    "        return f\"{self.brand} car is being driven.\"\n",
    "\n",
    "class Bike(Vehicle):\n",
    "    def drive(self):\n",
    "        return f\"{self.brand} bike is being ridden.\"\n"
   ]
  },
  {
   "cell_type": "markdown",
   "id": "ae46b892",
   "metadata": {},
   "source": [
    "Comparisons:\n",
    "Multiple Inheritance:\n",
    "\n",
    "Interfaces: Some languages allow classes to implement multiple interfaces, inheriting behavior from multiple sources.\n",
    "Abstract Classes: Languages like Python support single inheritance. A class can inherit from only one abstract class but can implement multiple interfaces.\n",
    "Method Implementation:\n",
    "\n",
    "Interfaces: Only method signatures are defined; the implementing class provides the implementation.\n",
    "Abstract Classes: May contain both abstract and concrete methods. Subclasses inherit the concrete methods and override the abstract ones.\n",
    "Purpose:\n",
    "\n",
    "Interfaces: Emphasize \"what\" needs to be done, allowing for a contract that classes must adhere to.\n",
    "Abstract Classes: Provide a common structure and possible default implementations, focusing on \"how\" things should be done."
   ]
  },
  {
   "cell_type": "markdown",
   "id": "89550922",
   "metadata": {},
   "source": [
    "### 20. Create a Python class for a zoo simulation, demonstrating polymorphism with different animal types (e.g., mammals, birds, reptiles) and their behavior (e.g., eating, sleeping, making sounds)."
   ]
  },
  {
   "cell_type": "code",
   "execution_count": 6,
   "id": "092a6f98",
   "metadata": {},
   "outputs": [
    {
     "name": "stdout",
     "output_type": "stream",
     "text": [
      "Lion (African Lion) says: Mammal sound\n",
      "Lion is eating: Mammal eating\n",
      "Lion is sleeping: Mammal sleeping\n",
      "-----------------------------\n",
      "Eagle (Golden Eagle) says: Bird sound\n",
      "Eagle is eating: Bird eating\n",
      "Eagle is sleeping: Bird sleeping\n",
      "-----------------------------\n",
      "Snake (Python) says: Reptile sound\n",
      "Snake is eating: Reptile eating\n",
      "Snake is sleeping: Reptile sleeping\n",
      "-----------------------------\n"
     ]
    }
   ],
   "source": [
    "class Animal:\n",
    "    def __init__(self, name, species):\n",
    "        self.name = name\n",
    "        self.species = species\n",
    "\n",
    "    def make_sound(self):\n",
    "        pass\n",
    "\n",
    "    def eat(self):\n",
    "        pass\n",
    "\n",
    "    def sleep(self):\n",
    "        pass\n",
    "\n",
    "\n",
    "class Mammal(Animal):\n",
    "    def __init__(self, name, species):\n",
    "        super().__init__(name, species)\n",
    "\n",
    "    def make_sound(self):\n",
    "        return \"Mammal sound\"\n",
    "\n",
    "    def eat(self):\n",
    "        return \"Mammal eating\"\n",
    "\n",
    "    def sleep(self):\n",
    "        return \"Mammal sleeping\"\n",
    "\n",
    "\n",
    "class Bird(Animal):\n",
    "    def __init__(self, name, species):\n",
    "        super().__init__(name, species)\n",
    "\n",
    "    def make_sound(self):\n",
    "        return \"Bird sound\"\n",
    "\n",
    "    def eat(self):\n",
    "        return \"Bird eating\"\n",
    "\n",
    "    def sleep(self):\n",
    "        return \"Bird sleeping\"\n",
    "\n",
    "\n",
    "class Reptile(Animal):\n",
    "    def __init__(self, name, species):\n",
    "        super().__init__(name, species)\n",
    "\n",
    "    def make_sound(self):\n",
    "        return \"Reptile sound\"\n",
    "\n",
    "    def eat(self):\n",
    "        return \"Reptile eating\"\n",
    "\n",
    "    def sleep(self):\n",
    "        return \"Reptile sleeping\"\n",
    "\n",
    "\n",
    "# Example usage:\n",
    "mammal = Mammal(\"Lion\", \"African Lion\")\n",
    "bird = Bird(\"Eagle\", \"Golden Eagle\")\n",
    "reptile = Reptile(\"Snake\", \"Python\")\n",
    "\n",
    "# Polymorphic behavior with different animal types\n",
    "animals = [mammal, bird, reptile]\n",
    "\n",
    "for animal in animals:\n",
    "    print(f\"{animal.name} ({animal.species}) says: {animal.make_sound()}\")\n",
    "    print(f\"{animal.name} is eating: {animal.eat()}\")\n",
    "    print(f\"{animal.name} is sleeping: {animal.sleep()}\")\n",
    "    print(\"-----------------------------\")\n"
   ]
  },
  {
   "cell_type": "markdown",
   "id": "b8d37f74",
   "metadata": {},
   "source": [
    "## Abstraction:"
   ]
  },
  {
   "cell_type": "markdown",
   "id": "70d81746",
   "metadata": {},
   "source": [
    "### 1. What is abstraction in Python, and how does it relate to object-oriented programming?"
   ]
  },
  {
   "cell_type": "markdown",
   "id": "11bd3e6c",
   "metadata": {},
   "source": [
    "\n",
    "Abstraction is a fundamental concept in object-oriented programming (OOP) that involves hiding the complex implementation details while showing only the necessary features of an object or a system to the outside world. It focuses on defining essential attributes and behaviors of an object, emphasizing what an object does rather than how it does it.\n",
    "\n",
    "In Python, abstraction in the context of OOP can be achieved through the use of abstract classes, interfaces, and encapsulation:\n",
    "\n",
    "Abstract Classes: Python supports abstract classes using the abc module, allowing you to define abstract methods using the @abstractmethod decorator. An abstract class cannot be instantiated on its own and is designed to be subclassed. It may contain both abstract methods (without implementation) and concrete methods (with implementation). Subclasses of an abstract class are required to provide implementations for the abstract methods.\n",
    "\n",
    "Example:"
   ]
  },
  {
   "cell_type": "code",
   "execution_count": 1,
   "id": "83c91944",
   "metadata": {},
   "outputs": [],
   "source": [
    "from abc import ABC, abstractmethod\n",
    "\n",
    "class Animal(ABC):\n",
    "    @abstractmethod\n",
    "    def make_sound(self):\n",
    "        pass\n",
    "\n",
    "class Dog(Animal):\n",
    "    def make_sound(self):\n",
    "        return \"Woof!\"\n",
    "\n",
    "class Cat(Animal):\n",
    "    def make_sound(self):\n",
    "        return \"Meow!\"\n"
   ]
  },
  {
   "cell_type": "markdown",
   "id": "ec653917",
   "metadata": {},
   "source": [
    "Interfaces: While Python doesn't have a native interface keyword like some other languages, interfaces can be simulated using abstract classes with methods that have no implementation. Classes in Python can inherit from multiple interfaces (i.e., abstract classes with only abstract methods), providing a contract for the methods that implementing classes must define.\n",
    "\n",
    "Example:"
   ]
  },
  {
   "cell_type": "code",
   "execution_count": 2,
   "id": "064d6392",
   "metadata": {},
   "outputs": [],
   "source": [
    "from abc import ABC, abstractmethod\n",
    "\n",
    "class Shape(ABC):\n",
    "    @abstractmethod\n",
    "    def area(self):\n",
    "        pass\n",
    "\n",
    "class Circle(Shape):\n",
    "    def __init__(self, radius):\n",
    "        self.radius = radius\n",
    "\n",
    "    def area(self):\n",
    "        return 3.14 * self.radius * self.radius\n"
   ]
  },
  {
   "cell_type": "markdown",
   "id": "593cafc4",
   "metadata": {},
   "source": [
    "Encapsulation: Encapsulation is another aspect of abstraction that involves bundling data (attributes) and methods (functions) that operate on the data within a single unit or class. It hides the internal state of an object from the outside and provides access to it only through defined interfaces (methods). This helps in controlling access to data and preventing unintended modifications.\n",
    "\n",
    "Example:"
   ]
  },
  {
   "cell_type": "code",
   "execution_count": 3,
   "id": "8a26fbd0",
   "metadata": {},
   "outputs": [],
   "source": [
    "class BankAccount:\n",
    "    def __init__(self, account_number, balance):\n",
    "        self.account_number = account_number\n",
    "        self.__balance = balance  # Private attribute\n",
    "\n",
    "    def get_balance(self):\n",
    "        return self.__balance\n",
    "\n",
    "    def deposit(self, amount):\n",
    "        self.__balance += amount\n",
    "\n",
    "    def withdraw(self, amount):\n",
    "        if amount <= self.__balance:\n",
    "            self.__balance -= amount\n",
    "        else:\n",
    "            print(\"Insufficient funds\")\n"
   ]
  },
  {
   "cell_type": "markdown",
   "id": "83f3b13f",
   "metadata": {},
   "source": [
    "In summary, abstraction in Python OOP involves creating abstract classes, interfaces, and using encapsulation to emphasize essential features, hide implementation details, and promote the development of more maintainable, scalable, and understandable code. It allows programmers to focus on modeling real-world entities in a simpler and more understandable way."
   ]
  },
  {
   "cell_type": "markdown",
   "id": "174e9fa9",
   "metadata": {},
   "source": [
    "### 2. Describe the benefits of abstraction in terms of code organization and complexity reduction."
   ]
  },
  {
   "cell_type": "markdown",
   "id": "c7a8e67d",
   "metadata": {},
   "source": [
    "\n",
    "Abstraction in programming, particularly in object-oriented programming, offers several benefits in terms of code organization and complexity reduction:\n",
    "\n",
    "Simplifies Complexity: Abstraction helps in managing complexity by hiding intricate implementation details and emphasizing only the essential aspects of an object or system. By focusing on what an object does rather than how it does it, abstraction simplifies the understanding and handling of complex systems.\n",
    "\n",
    "Promotes Modularity: It encourages the creation of modular and reusable components. Abstracting away implementation details allows developers to build modules and classes that can be reused in various contexts without needing to understand their internal workings, promoting code reuse and reducing redundancy.\n",
    "\n",
    "Enhances Maintainability: Abstraction leads to more maintainable code by providing a clear separation between the interface and implementation. When changes are needed, modifications can be made to the implementation while keeping the interface intact. This reduces the impact of changes and minimizes the risk of affecting other parts of the codebase.\n",
    "\n",
    "Improves Readability: Abstracting complex functionalities into simpler, higher-level interfaces or classes enhances code readability. Developers can focus on understanding and using the exposed interfaces without getting bogged down by unnecessary details, making the code easier to comprehend.\n",
    "\n",
    "Reduces Coupling: Abstraction reduces the coupling between different components of the system. By hiding implementation details, it allows for more loosely coupled components, making the codebase more flexible and adaptable to changes.\n",
    "\n",
    "Facilitates Collaboration: Abstracting away implementation details makes it easier for multiple developers to collaborate on a project. When interfaces are well-defined, developers can work independently on different modules without interfering with each other's work, as long as they adhere to the agreed-upon interfaces.\n",
    "\n",
    "Supports Testing and Debugging: Abstracted code with clear interfaces and well-defined behaviors simplifies testing. By focusing on the interface contract, testing becomes more straightforward as testers can focus on verifying expected behaviors without worrying about underlying complexities.\n",
    "\n",
    "In essence, abstraction acts as a powerful tool for managing complexity, enhancing maintainability, promoting reusability, and improving the overall structure of code, leading to more organized, adaptable, and manageable software systems.\n",
    "\n",
    "\n",
    "\n",
    "\n",
    "\n",
    "\n"
   ]
  },
  {
   "cell_type": "markdown",
   "id": "2e1c1c6f",
   "metadata": {},
   "source": [
    "### 4. Explain the concept of abstract classes in Python and how they are defined using the `abc` module. Provide an example."
   ]
  },
  {
   "cell_type": "markdown",
   "id": "7720456f",
   "metadata": {},
   "source": [
    "Abstract classes in Python are classes that cannot be instantiated on their own and typically contain one or more abstract methods—methods without implementations. Abstract classes serve as a blueprint for other classes and define a structure that must be implemented by their subclasses.\n",
    "\n",
    "Python's abc module (Abstract Base Classes) provides a way to create abstract classes and abstract methods. The abc module allows you to define abstract methods using the @abstractmethod decorator. These abstract methods must be implemented in concrete subclasses to provide the necessary functionality.\n",
    "\n",
    "Here's an example demonstrating the use of abstract classes in Python with the abc module:"
   ]
  },
  {
   "cell_type": "code",
   "execution_count": 4,
   "id": "4d17c4fa",
   "metadata": {},
   "outputs": [
    {
     "name": "stdout",
     "output_type": "stream",
     "text": [
      "Area of the circle: 78.50 square units\n",
      "Area of the rectangle: 24 square units\n"
     ]
    }
   ],
   "source": [
    "from abc import ABC, abstractmethod\n",
    "\n",
    "class Shape(ABC):\n",
    "    @abstractmethod\n",
    "    def calculate_area(self):\n",
    "        pass\n",
    "\n",
    "class Circle(Shape):\n",
    "    def __init__(self, radius):\n",
    "        self.radius = radius\n",
    "\n",
    "    def calculate_area(self):\n",
    "        return 3.14 * self.radius * self.radius\n",
    "\n",
    "class Rectangle(Shape):\n",
    "    def __init__(self, length, width):\n",
    "        self.length = length\n",
    "        self.width = width\n",
    "\n",
    "    def calculate_area(self):\n",
    "        return self.length * self.width\n",
    "\n",
    "# Attempting to instantiate the abstract class directly will raise an error\n",
    "# shape = Shape()  # This line will raise an error\n",
    "\n",
    "# Instead, create instances of concrete subclasses\n",
    "circle = Circle(5)  # Circle with radius 5 units\n",
    "rectangle = Rectangle(4, 6)  # Rectangle with length 4 units and width 6 units\n",
    "\n",
    "# Calculating areas\n",
    "circle_area = circle.calculate_area()\n",
    "rectangle_area = rectangle.calculate_area()\n",
    "\n",
    "print(f\"Area of the circle: {circle_area:.2f} square units\")\n",
    "print(f\"Area of the rectangle: {rectangle_area} square units\")\n"
   ]
  },
  {
   "cell_type": "markdown",
   "id": "217bfe17",
   "metadata": {},
   "source": [
    "### 5. How do abstract classes differ from regular classes in Python? Discuss their use cases."
   ]
  },
  {
   "cell_type": "markdown",
   "id": "5dd5a6bb",
   "metadata": {},
   "source": [
    "Abstract classes differ from regular classes in Python in several ways:\n",
    "\n",
    "Instantiation: Abstract classes cannot be instantiated on their own. Attempting to create an instance of an abstract class directly will result in an error. Regular classes, on the other hand, can be instantiated normally.\n",
    "\n",
    "Abstract Methods: Abstract classes may contain abstract methods—methods without implementations. These methods are declared using the @abstractmethod decorator and must be implemented by concrete subclasses. Regular classes contain fully implemented methods by default.\n",
    "\n",
    "Inheritance and Polymorphism: Abstract classes are often used as base classes that provide a common interface or structure for subclasses. Subclasses of an abstract class must implement all its abstract methods to become concrete classes. Regular classes can inherit from other regular or abstract classes and override methods as needed.\n",
    "\n",
    "Purpose and Usage: Abstract classes are intended to serve as blueprints or templates for other classes, defining a structure or interface that subclasses must adhere to. They are used to enforce a certain structure across multiple related classes and promote code reusability. Regular classes are used to create instances and can serve a variety of purposes without mandating specific implementations for methods.\n",
    "\n",
    "Use Cases:\n",
    "Abstract Classes:\n",
    "\n",
    "Defining Interfaces: Abstract classes are useful for defining interfaces that specify a set of methods that must be implemented by concrete subclasses. For example, a Shape abstract class defining methods like calculate_area() and calculate_perimeter() could be inherited by various concrete shapes such as circles, rectangles, and triangles.\n",
    "\n",
    "Enforcing a Common Structure: Abstract classes are used when several related classes share a common structure or behavior. They ensure that all subclasses have a specific set of methods or attributes.\n",
    "\n",
    "Forcing Implementations: Abstract classes serve to force subclasses to implement specific methods, ensuring that essential functionalities are not missed in derived classes.\n",
    "\n",
    "Regular Classes:\n",
    "\n",
    "Creating Instances: Regular classes are used to create instances of objects. They can contain attributes and methods, providing concrete implementations for various functionalities.\n",
    "\n",
    "Customizing Behavior: Regular classes allow developers to define their behavior and attributes tailored to specific requirements without mandating the implementation of any particular method.\n",
    "\n",
    "General-purpose Usage: Regular classes can be used in scenarios where a specific interface or structure is not required across multiple subclasses. They offer flexibility and versatility in implementing a wide range of functionalities.\n",
    "\n",
    "In summary, abstract classes provide a structure or interface that must be adhered to by subclasses, enforcing a common structure and promoting code consistency, while regular classes allow more flexibility in creating instances and defining custom behavior without strict requirements imposed by an abstract structure."
   ]
  },
  {
   "cell_type": "markdown",
   "id": "02289f95",
   "metadata": {},
   "source": [
    "### 6. Create a Python class for a bank account and demonstrate abstraction by hiding the account balance and providing methods to deposit and withdraw funds."
   ]
  },
  {
   "cell_type": "code",
   "execution_count": 5,
   "id": "c45912d3",
   "metadata": {},
   "outputs": [
    {
     "name": "stdout",
     "output_type": "stream",
     "text": [
      "Deposited $500 into account 123456\n",
      "Withdrew $200 from account 123456\n",
      "Withdrawal amount should be greater than zero and less than or equal to the balance.\n",
      "Current balance of account 123456: $1300\n"
     ]
    }
   ],
   "source": [
    "class BankAccount:\n",
    "    def __init__(self, account_number, initial_balance=0):\n",
    "        self.account_number = account_number\n",
    "        self.__balance = initial_balance  # Encapsulated private attribute\n",
    "\n",
    "    def deposit(self, amount):\n",
    "        if amount > 0:\n",
    "            self.__balance += amount\n",
    "            print(f\"Deposited ${amount} into account {self.account_number}\")\n",
    "        else:\n",
    "            print(\"Deposit amount must be greater than zero.\")\n",
    "\n",
    "    def withdraw(self, amount):\n",
    "        if 0 < amount <= self.__balance:\n",
    "            self.__balance -= amount\n",
    "            print(f\"Withdrew ${amount} from account {self.account_number}\")\n",
    "        else:\n",
    "            print(\"Withdrawal amount should be greater than zero and less than or equal to the balance.\")\n",
    "\n",
    "    def get_balance(self):\n",
    "        return self.__balance\n",
    "\n",
    "\n",
    "# Example usage:\n",
    "account1 = BankAccount(\"123456\", 1000)  # Creating an account with initial balance $1000\n",
    "\n",
    "# Demonstration of abstraction - using deposit and withdraw methods without directly accessing balance\n",
    "account1.deposit(500)  # Depositing $500\n",
    "account1.withdraw(200)  # Withdrawing $200\n",
    "account1.withdraw(1500)  # Attempting to withdraw more than the balance\n",
    "\n",
    "# Getting the balance using a method (not directly accessing the attribute)\n",
    "print(f\"Current balance of account {account1.account_number}: ${account1.get_balance()}\")\n"
   ]
  },
  {
   "cell_type": "markdown",
   "id": "cda9a1b2",
   "metadata": {},
   "source": [
    "### 7. Discuss the concept of interface classes in Python and their role in achieving abstraction."
   ]
  },
  {
   "cell_type": "markdown",
   "id": "c7b27894",
   "metadata": {},
   "source": [
    "\n",
    "In Python, interface classes are classes that define a contract by specifying a set of methods that must be implemented by any class that inherits from them. These methods in interface classes typically don't contain any implementation details; they only serve as a blueprint or a specification for the methods that implementing classes must define.\n",
    "\n",
    "However, Python doesn't have a built-in native interface keyword like some other programming languages (e.g., Java or C#) to explicitly declare interfaces. Instead, Python uses abstract classes from the abc (Abstract Base Classes) module to create interfaces.\n",
    "\n",
    "The abc module in Python allows the creation of abstract classes containing abstract methods—methods without implementations. Classes inheriting from these abstract classes must provide concrete implementations for all the abstract methods to become usable.\n",
    "\n",
    "Here's an example illustrating the use of interface-like behavior using abstract classes in Python:"
   ]
  },
  {
   "cell_type": "code",
   "execution_count": 6,
   "id": "0c0eede8",
   "metadata": {},
   "outputs": [
    {
     "name": "stdout",
     "output_type": "stream",
     "text": [
      "Area of the circle: 78.50 square units\n",
      "Perimeter of the circle: 31.40 units\n",
      "Area of the rectangle: 24 square units\n",
      "Perimeter of the rectangle: 20 units\n"
     ]
    }
   ],
   "source": [
    "from abc import ABC, abstractmethod\n",
    "\n",
    "class Shape(ABC):\n",
    "    @abstractmethod\n",
    "    def calculate_area(self):\n",
    "        pass\n",
    "\n",
    "    @abstractmethod\n",
    "    def calculate_perimeter(self):\n",
    "        pass\n",
    "\n",
    "class Circle(Shape):\n",
    "    def __init__(self, radius):\n",
    "        self.radius = radius\n",
    "\n",
    "    def calculate_area(self):\n",
    "        return 3.14 * self.radius * self.radius\n",
    "\n",
    "    def calculate_perimeter(self):\n",
    "        return 2 * 3.14 * self.radius\n",
    "\n",
    "class Rectangle(Shape):\n",
    "    def __init__(self, length, width):\n",
    "        self.length = length\n",
    "        self.width = width\n",
    "\n",
    "    def calculate_area(self):\n",
    "        return self.length * self.width\n",
    "\n",
    "    def calculate_perimeter(self):\n",
    "        return 2 * (self.length + self.width)\n",
    "\n",
    "# Example usage\n",
    "circle = Circle(5)  # Circle with radius 5 units\n",
    "rectangle = Rectangle(4, 6)  # Rectangle with length 4 units and width 6 units\n",
    "\n",
    "# Calculating area and perimeter for different shapes\n",
    "print(f\"Area of the circle: {circle.calculate_area():.2f} square units\")\n",
    "print(f\"Perimeter of the circle: {circle.calculate_perimeter():.2f} units\")\n",
    "\n",
    "print(f\"Area of the rectangle: {rectangle.calculate_area()} square units\")\n",
    "print(f\"Perimeter of the rectangle: {rectangle.calculate_perimeter()} units\")\n"
   ]
  },
  {
   "cell_type": "markdown",
   "id": "04cf4a28",
   "metadata": {},
   "source": [
    "### 8. Create a Python class hierarchy for animals and implement abstraction by defining common methods (e.g., `eat()`, `sleep()`) in an abstract base class."
   ]
  },
  {
   "cell_type": "code",
   "execution_count": 7,
   "id": "3b1921a1",
   "metadata": {},
   "outputs": [
    {
     "name": "stdout",
     "output_type": "stream",
     "text": [
      "Buddy says: Woof!\n",
      "Buddy eats: Buddy is eating bones.\n",
      "Buddy sleeps: Buddy is sleeping in a dog bed.\n",
      "Whiskers says: Meow!\n",
      "Whiskers eats: Whiskers is eating fish.\n",
      "Whiskers sleeps: Whiskers is napping on a sunny spot.\n"
     ]
    }
   ],
   "source": [
    "from abc import ABC, abstractmethod\n",
    "\n",
    "class Animal(ABC):\n",
    "    def __init__(self, name):\n",
    "        self.name = name\n",
    "\n",
    "    @abstractmethod\n",
    "    def make_sound(self):\n",
    "        pass\n",
    "\n",
    "    @abstractmethod\n",
    "    def eat(self):\n",
    "        pass\n",
    "\n",
    "    @abstractmethod\n",
    "    def sleep(self):\n",
    "        pass\n",
    "\n",
    "class Dog(Animal):\n",
    "    def make_sound(self):\n",
    "        return \"Woof!\"\n",
    "\n",
    "    def eat(self):\n",
    "        return f\"{self.name} is eating bones.\"\n",
    "\n",
    "    def sleep(self):\n",
    "        return f\"{self.name} is sleeping in a dog bed.\"\n",
    "\n",
    "class Cat(Animal):\n",
    "    def make_sound(self):\n",
    "        return \"Meow!\"\n",
    "\n",
    "    def eat(self):\n",
    "        return f\"{self.name} is eating fish.\"\n",
    "\n",
    "    def sleep(self):\n",
    "        return f\"{self.name} is napping on a sunny spot.\"\n",
    "\n",
    "# Example usage\n",
    "dog = Dog(\"Buddy\")\n",
    "cat = Cat(\"Whiskers\")\n",
    "\n",
    "print(f\"{dog.name} says: {dog.make_sound()}\")\n",
    "print(f\"{dog.name} eats: {dog.eat()}\")\n",
    "print(f\"{dog.name} sleeps: {dog.sleep()}\")\n",
    "\n",
    "print(f\"{cat.name} says: {cat.make_sound()}\")\n",
    "print(f\"{cat.name} eats: {cat.eat()}\")\n",
    "print(f\"{cat.name} sleeps: {cat.sleep()}\")\n"
   ]
  },
  {
   "cell_type": "markdown",
   "id": "321571c9",
   "metadata": {},
   "source": [
    "### 9. Explain the significance of encapsulation in achieving abstraction. Provide examples."
   ]
  },
  {
   "cell_type": "markdown",
   "id": "79abe25e",
   "metadata": {},
   "source": [
    "Encapsulation and abstraction are closely related concepts in object-oriented programming, and encapsulation plays a significant role in achieving abstraction. Encapsulation involves bundling the data (attributes) and methods (functions) that operate on the data within a single unit or class, and controlling access to that data by hiding the internal state of an object and exposing only necessary interfaces.\n",
    "\n",
    "Significance of Encapsulation in Achieving Abstraction:\n",
    "Hiding Implementation Details: Encapsulation hides the internal details of how data is stored and manipulated within an object. It allows the object to maintain its state privately, and exposes only essential functionalities or interfaces to the outside world. This helps in achieving abstraction by concealing unnecessary complexities and exposing only what's necessary.\n",
    "\n",
    "Promoting Abstraction: Encapsulation enables abstraction by providing a way to hide the internal workings of an object. It allows for the definition of public methods that abstract the underlying data and operations, allowing users of the class to interact with the object without needing to understand its internal implementation details.\n",
    "\n",
    "Data Protection and Security: Encapsulation protects the integrity of data by preventing direct access or manipulation of internal attributes from outside the class. By controlling access to data through methods (getters and setters), it helps maintain data consistency and prevents unintended modifications, enhancing security and preventing unauthorized access.\n",
    "\n",
    "Example Demonstrating Encapsulation and Abstraction"
   ]
  },
  {
   "cell_type": "code",
   "execution_count": 8,
   "id": "e6230ef8",
   "metadata": {},
   "outputs": [
    {
     "name": "stdout",
     "output_type": "stream",
     "text": [
      "Deposited $500 into account 123456\n",
      "Current balance of account 123456: $1500\n"
     ]
    }
   ],
   "source": [
    "class BankAccount:\n",
    "    def __init__(self, account_number, initial_balance=0):\n",
    "        self.account_number = account_number  # Public attribute\n",
    "        self.__balance = initial_balance      # Private attribute using name mangling\n",
    "\n",
    "    def deposit(self, amount):\n",
    "        if amount > 0:\n",
    "            self.__balance += amount\n",
    "            print(f\"Deposited ${amount} into account {self.account_number}\")\n",
    "        else:\n",
    "            print(\"Deposit amount must be greater than zero.\")\n",
    "\n",
    "    def get_balance(self):\n",
    "        return self.__balance  # Getter method to access private attribute\n",
    "\n",
    "# Usage of the BankAccount class\n",
    "account = BankAccount(\"123456\", 1000)  # Creating a bank account object\n",
    "\n",
    "# Demonstration of abstraction - using deposit method and getter method\n",
    "account.deposit(500)  # Depositing $500\n",
    "current_balance = account.get_balance()  # Getting the current balance\n",
    "\n",
    "print(f\"Current balance of account {account.account_number}: ${current_balance}\")\n"
   ]
  },
  {
   "cell_type": "markdown",
   "id": "bf8c8be3",
   "metadata": {},
   "source": [
    "### 10. What is the purpose of abstract methods, and how do they enforce abstraction in Python classes?"
   ]
  },
  {
   "cell_type": "markdown",
   "id": "a0a41270",
   "metadata": {},
   "source": [
    "Abstract methods in Python serve the purpose of defining method signatures (method names and parameters) without providing any implementation. They are declared within abstract classes using the @abstractmethod decorator from the abc (Abstract Base Classes) module.\n",
    "\n",
    "Purpose of Abstract Methods:\n",
    "Define a Blueprint: Abstract methods define a blueprint or a contract that subclasses must adhere to by implementing these methods. They specify a set of methods that must be implemented by concrete subclasses to provide specific functionalities.\n",
    "\n",
    "Enforce Structure: Abstract methods enforce a certain structure across subclasses, ensuring that all subclasses have specific methods with defined names and parameters.\n",
    "\n",
    "Promote Consistency: Abstract methods promote consistency in the design and behavior of related classes by providing a common interface. They help in maintaining a consistent API across different subclasses.\n",
    "\n",
    "Enforcing Abstraction in Python Classes:\n",
    "Requirement for Implementation: Abstract methods enforce abstraction by requiring concrete subclasses to implement these methods. Any class inheriting from an abstract class containing abstract methods must provide concrete implementations for all the abstract methods; otherwise, it will also be treated as an abstract class.\n",
    "\n",
    "Preventing Direct Instantiation: Abstract classes themselves cannot be instantiated, and attempting to create instances of abstract classes directly raises an error. This restriction ensures that abstract classes only serve as templates and that they are meant to be subclassed and extended, not used independently.\n",
    "\n",
    "Providing a Contract: Abstract methods act as a contract or an interface that defines a set of methods that subclasses are obligated to implement. This contract enforces a structure that must be followed by concrete subclasses, promoting consistency and ensuring that the necessary functionalities are implemented in subclasses.\n",
    "\n",
    "Here's an example illustrating the use of abstract methods in Python:"
   ]
  },
  {
   "cell_type": "code",
   "execution_count": 9,
   "id": "a0168a63",
   "metadata": {},
   "outputs": [
    {
     "name": "stdout",
     "output_type": "stream",
     "text": [
      "Area of the circle: 78.50 square units\n"
     ]
    }
   ],
   "source": [
    "from abc import ABC, abstractmethod\n",
    "\n",
    "class Shape(ABC):\n",
    "    @abstractmethod\n",
    "    def calculate_area(self):\n",
    "        pass\n",
    "\n",
    "class Circle(Shape):\n",
    "    def __init__(self, radius):\n",
    "        self.radius = radius\n",
    "\n",
    "    def calculate_area(self):\n",
    "        return 3.14 * self.radius * self.radius\n",
    "\n",
    "# Attempting to create an instance of the abstract class will raise an error\n",
    "# shape = Shape()  # This line will raise an error\n",
    "\n",
    "# Creating an instance of the concrete subclass\n",
    "circle = Circle(5)  # Circle with radius 5 units\n",
    "\n",
    "# Implementing the abstract method in the concrete subclass\n",
    "print(f\"Area of the circle: {circle.calculate_area():.2f} square units\")\n"
   ]
  },
  {
   "cell_type": "markdown",
   "id": "46d2c9ec",
   "metadata": {},
   "source": [
    "### 11. Create a Python class for a vehicle system and demonstrate abstraction by defining common methods"
   ]
  },
  {
   "cell_type": "code",
   "execution_count": 11,
   "id": "c0ac9f72",
   "metadata": {},
   "outputs": [
    {
     "name": "stdout",
     "output_type": "stream",
     "text": [
      "Starting the Toyota Corolla's engine.\n",
      "Driving the Toyota Corolla.\n",
      "Stopping the Toyota Corolla's engine.\n",
      "Starting the 2020 Harley-Davidson Sportster's engine.\n",
      "Riding the 2020 Harley-Davidson Sportster.\n",
      "Stopping the 2020 Harley-Davidson Sportster's engine.\n"
     ]
    }
   ],
   "source": [
    "from abc import ABC, abstractmethod\n",
    "\n",
    "class Vehicle(ABC):\n",
    "    def __init__(self, make, model, year):\n",
    "        self.make = make\n",
    "        self.model = model\n",
    "        self.year = year\n",
    "\n",
    "    @abstractmethod\n",
    "    def start_engine(self):\n",
    "        pass\n",
    "\n",
    "    @abstractmethod\n",
    "    def stop_engine(self):\n",
    "        pass\n",
    "\n",
    "    @abstractmethod\n",
    "    def drive(self):\n",
    "        pass\n",
    "\n",
    "class Car(Vehicle):\n",
    "    def start_engine(self):\n",
    "        return f\"Starting the {self.make} {self.model}'s engine.\"\n",
    "\n",
    "    def stop_engine(self):\n",
    "        return f\"Stopping the {self.make} {self.model}'s engine.\"\n",
    "\n",
    "    def drive(self):\n",
    "        return f\"Driving the {self.make} {self.model}.\"\n",
    "\n",
    "class Motorcycle(Vehicle):\n",
    "    def start_engine(self):\n",
    "        return f\"Starting the {self.year} {self.make} {self.model}'s engine.\"\n",
    "\n",
    "    def stop_engine(self):\n",
    "        return f\"Stopping the {self.year} {self.make} {self.model}'s engine.\"\n",
    "\n",
    "    def drive(self):\n",
    "        return f\"Riding the {self.year} {self.make} {self.model}.\"\n",
    "\n",
    "# Example usage\n",
    "car = Car(\"Toyota\", \"Corolla\", 2022)\n",
    "motorcycle = Motorcycle(\"Harley-Davidson\", \"Sportster\", 2020)\n",
    "\n",
    "print(car.start_engine())\n",
    "print(car.drive())\n",
    "print(car.stop_engine())\n",
    "\n",
    "print(motorcycle.start_engine())\n",
    "print(motorcycle.drive())\n",
    "print(motorcycle.stop_engine())\n"
   ]
  },
  {
   "cell_type": "markdown",
   "id": "68870bd9",
   "metadata": {},
   "source": [
    "### 12. Describe the use of abstract properties in Python and how they can be employed in abstract classes."
   ]
  },
  {
   "cell_type": "markdown",
   "id": "ff6038b5",
   "metadata": {},
   "source": [
    "Use of Abstract Properties:\n",
    "Definition without Implementation: Abstract properties in abstract base classes define the structure of properties without specifying how they are implemented. They only provide a blueprint for the property, leaving the implementation details to concrete subclasses.\n",
    "\n",
    "Enforce Structure: Abstract properties enforce a structure across subclasses by mandating that concrete subclasses must implement the property's getter and setter methods. This ensures that all subclasses have the necessary properties, promoting consistency.\n",
    "\n",
    "Provide Interfaces: Abstract properties, like abstract methods, serve as an interface that subclasses must conform to by implementing the property's methods.\n",
    "\n",
    "Employing Abstract Properties in Abstract Classes:\n",
    "Here's an example illustrating the use of abstract properties in an abstract class:"
   ]
  },
  {
   "cell_type": "code",
   "execution_count": 12,
   "id": "8f8fdbfa",
   "metadata": {},
   "outputs": [
    {
     "name": "stdout",
     "output_type": "stream",
     "text": [
      "This is a Toyota Corolla car.\n",
      "This is a Harley-Davidson Sportster motorcycle.\n"
     ]
    }
   ],
   "source": [
    "from abc import ABC, abstractmethod\n",
    "\n",
    "class Vehicle(ABC):\n",
    "    def __init__(self, make, model):\n",
    "        self.make = make\n",
    "        self.model = model\n",
    "\n",
    "    @property\n",
    "    @abstractmethod\n",
    "    def description(self):\n",
    "        pass\n",
    "\n",
    "class Car(Vehicle):\n",
    "    @property\n",
    "    def description(self):\n",
    "        return f\"This is a {self.make} {self.model} car.\"\n",
    "\n",
    "class Motorcycle(Vehicle):\n",
    "    @property\n",
    "    def description(self):\n",
    "        return f\"This is a {self.make} {self.model} motorcycle.\"\n",
    "\n",
    "# Example usage\n",
    "car = Car(\"Toyota\", \"Corolla\")\n",
    "motorcycle = Motorcycle(\"Harley-Davidson\", \"Sportster\")\n",
    "\n",
    "print(car.description)\n",
    "print(motorcycle.description)\n"
   ]
  },
  {
   "cell_type": "markdown",
   "id": "e84a3d68",
   "metadata": {},
   "source": [
    "### 13. Create a Python class hierarchy for employees in a company (e.g., manager, developer, designer) and"
   ]
  },
  {
   "cell_type": "code",
   "execution_count": 13,
   "id": "c9e2114f",
   "metadata": {},
   "outputs": [
    {
     "name": "stdout",
     "output_type": "stream",
     "text": [
      "John Doe's salary: $80000\n",
      "Alice Smith's salary: $8000\n",
      "Eva Johnson's salary: $65000\n"
     ]
    }
   ],
   "source": [
    "from abc import ABC, abstractmethod\n",
    "\n",
    "class Employee(ABC):\n",
    "    def __init__(self, name, employee_id):\n",
    "        self.name = name\n",
    "        self.employee_id = employee_id\n",
    "\n",
    "    @abstractmethod\n",
    "    def calculate_salary(self):\n",
    "        pass\n",
    "\n",
    "class Manager(Employee):\n",
    "    def __init__(self, name, employee_id, salary):\n",
    "        super().__init__(name, employee_id)\n",
    "        self.salary = salary\n",
    "\n",
    "    def calculate_salary(self):\n",
    "        return self.salary\n",
    "\n",
    "class Developer(Employee):\n",
    "    def __init__(self, name, employee_id, hourly_rate, hours_worked):\n",
    "        super().__init__(name, employee_id)\n",
    "        self.hourly_rate = hourly_rate\n",
    "        self.hours_worked = hours_worked\n",
    "\n",
    "    def calculate_salary(self):\n",
    "        return self.hourly_rate * self.hours_worked\n",
    "\n",
    "class Designer(Employee):\n",
    "    def __init__(self, name, employee_id, base_salary, projects_completed):\n",
    "        super().__init__(name, employee_id)\n",
    "        self.base_salary = base_salary\n",
    "        self.projects_completed = projects_completed\n",
    "\n",
    "    def calculate_salary(self):\n",
    "        bonus_per_project = 1000  # Assuming a bonus of $1000 per completed project\n",
    "        return self.base_salary + (self.projects_completed * bonus_per_project)\n",
    "\n",
    "# Example usage\n",
    "manager = Manager(\"John Doe\", \"M001\", 80000)\n",
    "developer = Developer(\"Alice Smith\", \"D101\", 50, 160)\n",
    "designer = Designer(\"Eva Johnson\", \"DE201\", 60000, 5)\n",
    "\n",
    "print(f\"{manager.name}'s salary: ${manager.calculate_salary()}\")\n",
    "print(f\"{developer.name}'s salary: ${developer.calculate_salary()}\")\n",
    "print(f\"{designer.name}'s salary: ${designer.calculate_salary()}\")\n"
   ]
  },
  {
   "cell_type": "markdown",
   "id": "043a0785",
   "metadata": {},
   "source": [
    "### 14. Discuss the differences between abstract classes and concrete classes in Python, including their instantiation."
   ]
  },
  {
   "cell_type": "markdown",
   "id": "7d5ca939",
   "metadata": {},
   "source": [
    "\n",
    "Abstract classes and concrete classes in Python serve different purposes in object-oriented programming, particularly in terms of instantiation, method implementations, and their roles within a class hierarchy.\n",
    "\n",
    "Abstract Classes:\n",
    "Purpose:\n",
    "\n",
    "Abstract classes are intended to serve as blueprints or templates for other classes. They define a structure or interface that subclasses must adhere to by providing implementations for abstract methods.\n",
    "They often contain one or more abstract methods—methods without implementations—declaring a set of methods that concrete subclasses must implement.\n",
    "Instantiation:\n",
    "\n",
    "Abstract classes cannot be instantiated directly. Attempting to create an instance of an abstract class raises an error.\n",
    "They are designed to be subclassed, extended, and implemented by concrete subclasses.\n",
    "Abstract Methods:\n",
    "\n",
    "Abstract classes may have abstract methods defined using the @abstractmethod decorator from the abc (Abstract Base Classes) module.\n",
    "Subclasses inheriting from an abstract class must provide concrete implementations for all the abstract methods to become usable.\n",
    "Concrete Classes:\n",
    "Purpose:\n",
    "\n",
    "Concrete classes are fully defined classes that can be instantiated directly. They provide complete implementations for all methods, including inherited abstract methods.\n",
    "Instantiation:\n",
    "\n",
    "Concrete classes can be instantiated directly using the class constructor (ClassName()).\n",
    "They are used to create objects and instances and can be used independently without the need for further implementation.\n",
    "Method Implementations:\n",
    "\n",
    "Concrete classes provide complete implementations for all methods inherited from their parent classes (abstract or concrete).\n",
    "They do not contain any abstract methods and can be used as stand-alone units.\n",
    "Differences in Instantiation:\n",
    "Abstract classes cannot be instantiated directly. They exist primarily to be subclassed and extended by concrete subclasses. Instantiating an abstract class directly will raise an error.\n",
    "Concrete classes can be instantiated directly using their constructors (ClassName()). They provide complete implementations for all methods and can be used to create objects and instances.\n",
    "Summary:\n",
    "Abstract classes provide a structure or interface that must be adhered to by subclasses. They contain abstract methods and cannot be instantiated directly.\n",
    "Concrete classes are fully defined classes that can be instantiated independently. They provide complete implementations for all methods inherited from their parent classes."
   ]
  },
  {
   "cell_type": "markdown",
   "id": "d0597da9",
   "metadata": {},
   "source": [
    "### 15. Explain the concept of abstract data types (ADTs) and their role in achieving abstraction in Python."
   ]
  },
  {
   "cell_type": "markdown",
   "id": "23042020",
   "metadata": {},
   "source": [
    "\n",
    "Abstract Data Types (ADTs) are a fundamental concept in computer science that refers to a mathematical model for data types. They define a set of values and operations on those values, abstracting away the implementation details and focusing on how the data type behaves.\n",
    "\n",
    "Characteristics of Abstract Data Types:\n",
    "Encapsulation: ADTs encapsulate the data and operations on that data into a single unit or object. They hide the implementation details, allowing users to interact with the data through defined operations.\n",
    "\n",
    "Abstraction: ADTs provide a clear and abstract interface, separating the specification of the data type from its implementation. Users need not know the internal representation or implementation details to use the data type effectively.\n",
    "\n",
    "Defined Operations: ADTs define a set of operations or methods that can be performed on the data. These operations form the interface through which users interact with the data type.\n",
    "\n",
    "Role of ADTs in Achieving Abstraction in Python:\n",
    "In Python, ADTs are achieved through classes and objects. By creating classes that represent abstract data types and providing methods that define operations on that data, Python allows developers to utilize the principles of ADTs:\n",
    "\n",
    "Encapsulation through Classes: Python classes encapsulate data and behavior into a single unit. By defining attributes and methods within a class, the implementation details are hidden from external users.\n",
    "\n",
    "Abstraction via Class Interfaces: Classes in Python provide an interface that defines methods to interact with the data. Users interact with objects using these methods without needing to understand the underlying implementation.\n",
    "\n",
    "Defined Operations in Methods: Methods within Python classes define the operations that can be performed on the data. Users utilize these methods to manipulate the data without being concerned about the internal workings.\n",
    "\n",
    "By leveraging classes and objects in Python, developers can create ADTs that abstract away the complexity of data structures or entities, providing well-defined interfaces and operations for working with the data. This allows for clearer, more maintainable code and promotes the reuse of abstracted data types in various parts of a program or across different programs."
   ]
  },
  {
   "cell_type": "markdown",
   "id": "dcbcafc0",
   "metadata": {},
   "source": [
    "### 16. Create a Python class for a computer system, demonstrating abstraction by defining common methods"
   ]
  },
  {
   "cell_type": "code",
   "execution_count": 16,
   "id": "4beac003",
   "metadata": {},
   "outputs": [
    {
     "name": "stdout",
     "output_type": "stream",
     "text": [
      "Booting up Dell Latitude laptop.\n",
      "Performing 'browsing the internet' on Dell Latitude laptop.\n",
      "Shutting down Dell Latitude laptop.\n",
      "Starting HP Pavilion desktop.\n",
      "Executing 'coding' on HP Pavilion desktop.\n",
      "Turning off HP Pavilion desktop.\n"
     ]
    }
   ],
   "source": [
    "from abc import ABC, abstractmethod\n",
    "\n",
    "class ComputerSystem(ABC):\n",
    "    def __init__(self, brand, model):\n",
    "        self.brand = brand\n",
    "        self.model = model\n",
    "\n",
    "    @abstractmethod\n",
    "    def power_on(self):\n",
    "        pass\n",
    "\n",
    "    @abstractmethod\n",
    "    def power_off(self):\n",
    "        pass\n",
    "\n",
    "    @abstractmethod\n",
    "    def perform_task(self, task):\n",
    "        pass\n",
    "\n",
    "class Laptop(ComputerSystem):\n",
    "    def power_on(self):\n",
    "        return f\"Booting up {self.brand} {self.model} laptop.\"\n",
    "\n",
    "    def power_off(self):\n",
    "        return f\"Shutting down {self.brand} {self.model} laptop.\"\n",
    "\n",
    "    def perform_task(self, task):\n",
    "        return f\"Performing '{task}' on {self.brand} {self.model} laptop.\"\n",
    "\n",
    "class Desktop(ComputerSystem):\n",
    "    def power_on(self):\n",
    "        return f\"Starting {self.brand} {self.model} desktop.\"\n",
    "\n",
    "    def power_off(self):\n",
    "        return f\"Turning off {self.brand} {self.model} desktop.\"\n",
    "\n",
    "    def perform_task(self, task):\n",
    "        return f\"Executing '{task}' on {self.brand} {self.model} desktop.\"\n",
    "\n",
    "# Example usage\n",
    "laptop = Laptop(\"Dell\", \"Latitude\")\n",
    "desktop = Desktop(\"HP\", \"Pavilion\")\n",
    "\n",
    "print(laptop.power_on())\n",
    "print(laptop.perform_task(\"browsing the internet\"))\n",
    "print(laptop.power_off())\n",
    "\n",
    "print(desktop.power_on())\n",
    "print(desktop.perform_task(\"coding\"))\n",
    "print(desktop.power_off())\n"
   ]
  },
  {
   "cell_type": "markdown",
   "id": "c5e8f08f",
   "metadata": {},
   "source": [
    "### 17. Discuss the benefits of using abstraction in large-scale software development projects."
   ]
  },
  {
   "cell_type": "markdown",
   "id": "0811647f",
   "metadata": {},
   "source": [
    "Simplified Complexity: Abstraction reduces complexity by hiding implementation details. It allows developers to focus on high-level design and interaction between components without dealing with intricate internal workings. This simplification aids in better understanding and managing the software.\n",
    "\n",
    "Modularity and Reusability: Abstraction promotes a modular design where components are independent and encapsulated. This modularity facilitates code reuse, as abstracted components can be used across the project or in other projects, saving development time and ensuring consistency.\n",
    "\n",
    "Maintenance and Updates: Abstracting common functionalities or features into reusable components makes maintenance easier. Changes or updates can be isolated within their respective components, reducing the risk of unintended side effects and simplifying bug fixes or enhancements.\n",
    "\n",
    "Scalability and Flexibility: Abstraction allows systems to be more adaptable and scalable. Well-abstracted designs are easier to extend or modify, enabling the software to accommodate future changes or expansions without significant reworking of the entire codebase.\n",
    "\n",
    "Improved Collaboration: Abstraction helps in team collaboration by providing clear interfaces and contracts between different modules or components. This allows teams to work independently on different parts of the system, reducing dependencies and facilitating concurrent development.\n",
    "\n",
    "Testing and Debugging: Abstraction makes components more testable in isolation, simplifying unit testing and ensuring better code coverage. Debugging becomes more straightforward as the modular nature of abstracted components isolates issues within smaller, well-defined scopes.\n",
    "\n",
    "Technology Agnosticism: Abstracting implementation details shields the rest of the system from underlying technology changes. It enables easy migration to newer technologies or frameworks without affecting the entire codebase, promoting adaptability to changing technological landscapes.\n",
    "\n",
    "Clearer Architecture and Design: Abstraction helps in creating a clearer architecture by separating concerns and establishing well-defined boundaries between different parts of the system. This clarity aids in long-term maintenance and understanding of the software's architecture.\n",
    "\n",
    "Reduced Development Time: Reusing abstracted components and following modular designs can significantly reduce development time. This is because developers can leverage existing components and focus efforts on specific functionalities or improvements rather than reinventing the wheel.\n",
    "\n",
    "In summary, abstraction in large-scale software development projects offers numerous benefits including simplifying complexity, promoting modularity, enhancing maintainability, scalability, and flexibility, fostering collaboration, facilitating testing and debugging, ensuring technology agnosticism, enabling clearer architecture, and ultimately reducing development time and cost."
   ]
  },
  {
   "cell_type": "markdown",
   "id": "4c15bfed",
   "metadata": {},
   "source": [
    "### 18. Explain how abstraction enhances code reusability and modularity in Python programs."
   ]
  },
  {
   "cell_type": "markdown",
   "id": "7e84e92c",
   "metadata": {},
   "source": [
    "\n",
    "Abstraction enhances code reusability and modularity in Python programs by promoting a structured approach to design and development. Here's how abstraction contributes to these aspects:\n",
    "\n",
    "Code Reusability:\n",
    "Encapsulation of Logic: Abstraction allows you to encapsulate logic into reusable components like classes, functions, or modules. By defining abstract interfaces or base classes, you can create a blueprint that specifies how these components should behave without exposing their internal implementations.\n",
    "\n",
    "Promotion of Polymorphism: Through abstraction, you can define common interfaces (e.g., abstract classes or interfaces) that multiple concrete implementations adhere to. This facilitates polymorphism, where various classes can share a common interface but provide different behaviors based on their specific implementations. This promotes reusability as different implementations can be used interchangeably where the common interface is expected.\n",
    "\n",
    "Creation of Generic Solutions: Abstracting certain functionalities or behaviors allows you to create generic solutions that can be applied in multiple contexts. For instance, designing abstract classes or functions for file handling or database interactions allows developers to reuse these components across different parts of the program or in different projects.\n",
    "\n",
    "Modularity:\n",
    "Division into Manageable Units: Abstraction helps in breaking down a system into smaller, manageable units. Abstracting functionalities into modules, classes, or functions with well-defined interfaces and responsibilities promotes a modular design. This enables developers to focus on specific units independently, simplifying development and maintenance.\n",
    "\n",
    "Isolation of Changes: Abstracted components encapsulate specific functionalities. Any changes or updates required in a particular component can be isolated within its scope without affecting other parts of the system. This isolation reduces the impact of changes, making the code more maintainable and less error-prone.\n",
    "\n",
    "Facilitation of Dependency Management: Abstracting functionalities and reducing dependencies between components enhances modularity. By defining clear interfaces and reducing tight coupling, changes in one module or component are less likely to cause cascading changes in other parts of the system.\n",
    "\n",
    "Promotion of Clean Interfaces: Abstraction encourages the creation of clean and well-defined interfaces between different modules or classes. This allows modules to communicate through standardized interfaces, improving readability and making it easier to comprehend how various parts of the system interact.\n",
    "\n",
    "In Python, abstraction is achieved through concepts like classes, inheritance, abstract base classes, and interfaces. By utilizing these concepts effectively, developers can create reusable components, define clear interfaces, and promote a modular design, thereby enhancing code reusability and maintainability in their Python programs."
   ]
  },
  {
   "cell_type": "markdown",
   "id": "5bf8a573",
   "metadata": {},
   "source": [
    "### 19. Create a Python class for a library system, implementing abstraction by defining common methods (e.g.,"
   ]
  },
  {
   "cell_type": "code",
   "execution_count": 17,
   "id": "94fae8c8",
   "metadata": {},
   "outputs": [
    {
     "name": "stdout",
     "output_type": "stream",
     "text": [
      "Book 'Python Programming' is available at City Library.\n",
      "Book 'Data Structures and Algorithms' with ID 2 has been borrowed from City Library.\n",
      "Book 'Example Book' with ID 2 has been returned to City Library.\n"
     ]
    }
   ],
   "source": [
    "from abc import ABC, abstractmethod\n",
    "\n",
    "class LibrarySystem(ABC):\n",
    "    def __init__(self, name, location):\n",
    "        self.name = name\n",
    "        self.location = location\n",
    "\n",
    "    @abstractmethod\n",
    "    def search_book(self, title):\n",
    "        pass\n",
    "\n",
    "    @abstractmethod\n",
    "    def borrow_book(self, book_id):\n",
    "        pass\n",
    "\n",
    "    @abstractmethod\n",
    "    def return_book(self, book_id):\n",
    "        pass\n",
    "\n",
    "class PublicLibrary(LibrarySystem):\n",
    "    def __init__(self, name, location, books):\n",
    "        super().__init__(name, location)\n",
    "        self.books = books  # Simulating a list of available books\n",
    "\n",
    "    def search_book(self, title):\n",
    "        for book in self.books:\n",
    "            if book['title'].lower() == title.lower():\n",
    "                return f\"Book '{title}' is available at {self.name}.\"\n",
    "        return f\"Book '{title}' is not available at {self.name}.\"\n",
    "\n",
    "    def borrow_book(self, book_id):\n",
    "        for book in self.books:\n",
    "            if book['id'] == book_id:\n",
    "                self.books.remove(book)\n",
    "                return f\"Book '{book['title']}' with ID {book_id} has been borrowed from {self.name}.\"\n",
    "        return f\"Book with ID {book_id} not found in {self.name}.\"\n",
    "\n",
    "    def return_book(self, book_id):\n",
    "        # Simulating book return by adding the book back to the library\n",
    "        # In a real scenario, it would involve more complex operations like updating records, etc.\n",
    "        returned_book = {'id': book_id, 'title': 'Example Book'}\n",
    "        self.books.append(returned_book)\n",
    "        return f\"Book '{returned_book['title']}' with ID {book_id} has been returned to {self.name}.\"\n",
    "\n",
    "# Example usage\n",
    "books_available = [\n",
    "    {'id': 1, 'title': 'Python Programming'},\n",
    "    {'id': 2, 'title': 'Data Structures and Algorithms'},\n",
    "    {'id': 3, 'title': 'Design Patterns'}\n",
    "]\n",
    "\n",
    "public_library = PublicLibrary(\"City Library\", \"Central Street\", books_available)\n",
    "\n",
    "print(public_library.search_book(\"Python Programming\"))\n",
    "print(public_library.borrow_book(2))\n",
    "print(public_library.return_book(2))\n"
   ]
  },
  {
   "cell_type": "markdown",
   "id": "a3c5490f",
   "metadata": {},
   "source": [
    "### 20. Describe the concept of method abstraction in Python and how it relates to polymorphism."
   ]
  },
  {
   "cell_type": "markdown",
   "id": "ac53c188",
   "metadata": {},
   "source": [
    "\n",
    "Method abstraction in Python refers to the practice of defining methods in abstract base classes or interfaces without providing any implementation details. These abstract methods serve as placeholders, outlining a method's signature (name and parameters) that concrete subclasses must implement.\n",
    "\n",
    "Key Aspects of Method Abstraction:\n",
    "Abstract Methods: Abstract methods are declared in abstract base classes using the @abstractmethod decorator from the abc (Abstract Base Classes) module. They lack an implementation and are intended to be overridden by concrete subclasses.\n",
    "\n",
    "Enforcing Structure: Abstract methods define a structure or blueprint that concrete subclasses must adhere to. They specify a set of methods that subclasses are obligated to implement. This structure ensures consistency in method names and parameters across different subclasses.\n",
    "\n",
    "Promotion of Polymorphism: Method abstraction plays a crucial role in polymorphism—a fundamental principle in object-oriented programming. Polymorphism allows objects of different classes to be treated as objects of a common superclass. Abstract methods, when overridden by concrete subclasses, enable different classes to implement the same method name but with different behaviors, achieving polymorphic behavior.\n",
    "\n",
    "Relationship with Polymorphism:\n",
    "Common Interface: Method abstraction defines a common interface through abstract methods in abstract base classes or interfaces. Subclasses inherit these abstract methods and provide their specific implementations. This promotes a consistent interface while allowing for different behaviors based on the specific subclass.\n",
    "\n",
    "Subtype Polymorphism: Subtype polymorphism, a form of polymorphism, is enabled through method abstraction. Different subclasses provide their own implementation of abstract methods, allowing instances of these subclasses to be treated interchangeably where the abstract method is expected. This facilitates code reuse and flexibility."
   ]
  },
  {
   "cell_type": "code",
   "execution_count": 18,
   "id": "273d202c",
   "metadata": {},
   "outputs": [
    {
     "name": "stdout",
     "output_type": "stream",
     "text": [
      "Area of the circle: 78.5 square units\n",
      "Area of the rectangle: 24 square units\n"
     ]
    }
   ],
   "source": [
    "from abc import ABC, abstractmethod\n",
    "\n",
    "class Shape(ABC):\n",
    "    @abstractmethod\n",
    "    def calculate_area(self):\n",
    "        pass\n",
    "\n",
    "class Circle(Shape):\n",
    "    def __init__(self, radius):\n",
    "        self.radius = radius\n",
    "\n",
    "    def calculate_area(self):\n",
    "        return 3.14 * self.radius * self.radius\n",
    "\n",
    "class Rectangle(Shape):\n",
    "    def __init__(self, width, height):\n",
    "        self.width = width\n",
    "        self.height = height\n",
    "\n",
    "    def calculate_area(self):\n",
    "        return self.width * self.height\n",
    "\n",
    "# Example usage\n",
    "circle = Circle(5)\n",
    "rectangle = Rectangle(4, 6)\n",
    "\n",
    "print(f\"Area of the circle: {circle.calculate_area()} square units\")\n",
    "print(f\"Area of the rectangle: {rectangle.calculate_area()} square units\")\n"
   ]
  },
  {
   "cell_type": "markdown",
   "id": "14c31869",
   "metadata": {},
   "source": [
    "## Composition:"
   ]
  },
  {
   "cell_type": "markdown",
   "id": "3577c1d6",
   "metadata": {},
   "source": [
    "### 1. Explain the concept of composition in Python and how it is used to build complex objects from simpler ones."
   ]
  },
  {
   "cell_type": "markdown",
   "id": "4cd5a300",
   "metadata": {},
   "source": [
    "\n",
    "Composition in Python is a design principle that involves constructing complex objects by combining simpler objects. It's a technique where a class contains objects of other classes as attributes, allowing the creation of more complex structures and functionalities by aggregating simpler components.\n",
    "\n",
    "Key Aspects of Composition:\n",
    "Relationship between Objects: In composition, a class (often called the \"composite\" or \"container\" class) holds references to instances of other classes (referred to as \"component\" or \"part\" classes) as its attributes. These components are an integral part of the composite class.\n",
    "\n",
    "Object Reusability: Composition promotes reusability by creating a relationship where one class's instances can be reused in multiple composite classes. This enables code reuse and modularity, as well as the creation of more versatile and flexible systems.\n",
    "\n",
    "Encapsulation: The composite class encapsulates the functionality and behaviors of its components. The components themselves can encapsulate their own behaviors, allowing for better organization and separation of concerns.\n",
    "\n",
    "Building Complex Objects: By combining simpler objects together, complex objects with more sophisticated behaviors and functionalities can be constructed. This enables the creation of complex systems while maintaining a modular and manageable structure.\n",
    "\n",
    "Example of Composition in Python:"
   ]
  },
  {
   "cell_type": "code",
   "execution_count": 19,
   "id": "43338031",
   "metadata": {},
   "outputs": [
    {
     "name": "stdout",
     "output_type": "stream",
     "text": [
      "Car starting... Engine started.\n",
      "Car stopping... Engine stopped.\n"
     ]
    }
   ],
   "source": [
    "class Engine:\n",
    "    def start(self):\n",
    "        return \"Engine started.\"\n",
    "\n",
    "    def stop(self):\n",
    "        return \"Engine stopped.\"\n",
    "\n",
    "class Car:\n",
    "    def __init__(self):\n",
    "        self.engine = Engine()  # Composition: Car has an Engine\n",
    "\n",
    "    def start(self):\n",
    "        return f\"Car starting... {self.engine.start()}\"\n",
    "\n",
    "    def stop(self):\n",
    "        return f\"Car stopping... {self.engine.stop()}\"\n",
    "\n",
    "# Example usage\n",
    "my_car = Car()\n",
    "print(my_car.start())\n",
    "print(my_car.stop())\n"
   ]
  },
  {
   "cell_type": "markdown",
   "id": "43181dbe",
   "metadata": {},
   "source": [
    "### 2. Describe the difference between composition and inheritance in object-oriented programming."
   ]
  },
  {
   "cell_type": "markdown",
   "id": "60891007",
   "metadata": {},
   "source": [
    "In object-oriented programming, composition and inheritance are two fundamental concepts used to establish relationships between classes, but they differ in their approach to building relationships and structuring code.\n",
    "\n",
    "Composition:\n",
    "Relationship Establishment: Composition establishes a \"has-a\" relationship between classes. It involves one class containing an instance of another class as one of its members or attributes.\n",
    "\n",
    "Code Reuse: Composition promotes code reuse by allowing the creation of more complex objects from simpler ones. The containing class uses the functionality of the contained class by delegating specific tasks to its instances.\n",
    "\n",
    "Encapsulation: Composition encapsulates functionalities by composing objects. Each object maintains its separate identity and can encapsulate its own behavior, contributing to a modular and organized structure.\n",
    "\n",
    "Flexibility and Dynamism: Composition offers greater flexibility as changes in the composed class do not directly affect the containing class. Objects can be replaced or modified dynamically at runtime.\n",
    "\n",
    "Inheritance:\n",
    "Relationship Establishment: Inheritance establishes an \"is-a\" relationship between classes. It allows one class (subclass) to inherit properties and behaviors from another class (superclass). Subclasses extend or specialize the functionality of the superclass.\n",
    "\n",
    "Code Reuse: Inheritance promotes code reuse by inheriting attributes and methods from the superclass. Subclasses inherit the characteristics of their superclass and can add their own specific functionalities.\n",
    "\n",
    "Hierarchy and Polymorphism: Inheritance creates a hierarchy where subclasses inherit and override the behavior of their superclass. It allows polymorphism, where objects of different subclasses can be treated as objects of the superclass.\n",
    "\n",
    "Tight Coupling: Inheritance can create tight coupling between classes, where changes in the superclass might affect its subclasses. This dependency can sometimes lead to challenges in maintaining and evolving the codebase.\n",
    "\n",
    "Key Differences:\n",
    "Relationship: Composition establishes a \"has-a\" relationship, while inheritance establishes an \"is-a\" relationship.\n",
    "Code Structure: Composition constructs objects by combining simpler objects, while inheritance constructs objects by extending the characteristics of existing classes.\n",
    "Flexibility: Composition generally offers more flexibility as it does not create tight coupling between classes, allowing for easier modifications.\n",
    "Encapsulation: Composition typically promotes better encapsulation of functionalities as objects maintain their own identity and behavior.\n",
    "Summary:\n",
    "Composition: Focuses on building classes by combining objects to form more complex structures, promoting code reuse and encapsulation.\n",
    "Inheritance: Focuses on creating a hierarchy of classes by extending the properties and behaviors of existing classes, promoting code reuse and polymorphism but potentially creating tighter coupling."
   ]
  },
  {
   "cell_type": "markdown",
   "id": "772e9b95",
   "metadata": {},
   "source": [
    "### 3. Create a Python class called `Author` with attributes for name and birthdate. Then, create a `Book` class that contains an instance of `Author` as a composition. Provide an example of creating a `Book` object."
   ]
  },
  {
   "cell_type": "code",
   "execution_count": 21,
   "id": "f80c20ed",
   "metadata": {},
   "outputs": [
    {
     "name": "stdout",
     "output_type": "stream",
     "text": [
      "Title: Harry Potter and the Philosopher's Stone\n",
      "Author: J.K. Rowling\n",
      "Birthdate: July 31, 1965\n"
     ]
    }
   ],
   "source": [
    "class Author:\n",
    "    def __init__(self, name, birthdate):\n",
    "        self.name = name\n",
    "        self.birthdate = birthdate\n",
    "\n",
    "class Book:\n",
    "    def __init__(self, title, author_name, author_birthdate):\n",
    "        self.title = title\n",
    "        self.author = Author(author_name, author_birthdate)\n",
    "\n",
    "    def book_info(self):\n",
    "        return f\"Title: {self.title}\\nAuthor: {self.author.name}\\nBirthdate: {self.author.birthdate}\"\n",
    "\n",
    "# Example usage\n",
    "author = Author(\"J.K. Rowling\", \"July 31, 1965\")\n",
    "book = Book(\"Harry Potter and the Philosopher's Stone\", author.name, author.birthdate)\n",
    "\n",
    "print(book.book_info())\n"
   ]
  },
  {
   "cell_type": "markdown",
   "id": "e70da105",
   "metadata": {},
   "source": [
    "### 4. Discuss the benefits of using composition over inheritance in Python, especially in terms of code flexibility and reusability."
   ]
  },
  {
   "cell_type": "raw",
   "id": "110a6397",
   "metadata": {},
   "source": [
    "\n",
    "Using composition over inheritance in Python offers several benefits, particularly in terms of code flexibility and reusability:\n",
    "\n",
    "Reduced Coupling:\n",
    "Flexibility in Component Selection: Composition allows the flexibility to choose different components or parts to construct a complex object. This reduces tight coupling between classes, as objects can be dynamically composed at runtime.\n",
    "Improved Code Reusability:\n",
    "Enhanced Reusability: Composition promotes code reuse by enabling the construction of more complex objects from simpler ones. It allows the reuse of individual components in different contexts or with different composite classes.\n",
    "Encapsulation and Modularity:\n",
    "Better Encapsulation: Composition promotes better encapsulation as each class maintains its own identity and encapsulates its functionalities. This ensures that changes in one component don't necessarily affect the entire composite structure.\n",
    "Adaptability and Maintenance:\n",
    "Ease of Modification: Using composition makes code more adaptable to changes. Modifying or extending the functionalities of individual components does not directly impact the composite class, making it easier to maintain and modify.\n",
    "Versatility and Flexibility:\n",
    "Versatile Component Use: Composition allows for the creation of various composite structures using the same components. Different compositions can be built by combining different sets of components, enhancing code flexibility and versatility.\n",
    "Example:\n",
    "Consider an example involving different shapes in a drawing application:"
   ]
  },
  {
   "cell_type": "code",
   "execution_count": 22,
   "id": "d8a81554",
   "metadata": {},
   "outputs": [
    {
     "name": "stdout",
     "output_type": "stream",
     "text": [
      "Drawing a Circle\n",
      "Drawing a Square\n"
     ]
    }
   ],
   "source": [
    "class Shape:\n",
    "    def draw(self):\n",
    "        pass\n",
    "\n",
    "class Circle(Shape):\n",
    "    def draw(self):\n",
    "        print(\"Drawing a Circle\")\n",
    "\n",
    "class Square(Shape):\n",
    "    def draw(self):\n",
    "        print(\"Drawing a Square\")\n",
    "\n",
    "class Drawing:\n",
    "    def __init__(self):\n",
    "        self.shapes = []\n",
    "\n",
    "    def add_shape(self, shape):\n",
    "        self.shapes.append(shape)\n",
    "\n",
    "    def draw_all_shapes(self):\n",
    "        for shape in self.shapes:\n",
    "            shape.draw()\n",
    "\n",
    "# Example usage\n",
    "circle = Circle()\n",
    "square = Square()\n",
    "\n",
    "drawing = Drawing()\n",
    "drawing.add_shape(circle)\n",
    "drawing.add_shape(square)\n",
    "drawing.draw_all_shapes()"
   ]
  },
  {
   "cell_type": "markdown",
   "id": "de753827",
   "metadata": {},
   "source": [
    "### 5. How can you implement composition in Python classes? Provide examples of using composition to create complex objects."
   ]
  },
  {
   "cell_type": "markdown",
   "id": "931509b8",
   "metadata": {},
   "source": [
    "\n",
    "In Python, composition can be implemented by creating a class that contains instances of other classes as attributes. These attributes represent the parts or components of the composite class. Here's an example demonstrating composition to create complex objects:\n",
    "\n",
    "Example: Creating a complex object using composition\n",
    "Let's say we want to create a Car class composed of multiple components like an Engine, Wheels, and Body."
   ]
  },
  {
   "cell_type": "code",
   "execution_count": 23,
   "id": "87aad1b1",
   "metadata": {},
   "outputs": [
    {
     "name": "stdout",
     "output_type": "stream",
     "text": [
      "Engine started. Wheels rotating. Body structure ready.\n",
      "Engine stopped. Wheels rotating.\n"
     ]
    }
   ],
   "source": [
    "class Engine:\n",
    "    def start(self):\n",
    "        return \"Engine started.\"\n",
    "\n",
    "    def stop(self):\n",
    "        return \"Engine stopped.\"\n",
    "\n",
    "class Wheels:\n",
    "    def rotate(self):\n",
    "        return \"Wheels rotating.\"\n",
    "\n",
    "class Body:\n",
    "    def structure(self):\n",
    "        return \"Body structure ready.\"\n",
    "\n",
    "class Car:\n",
    "    def __init__(self):\n",
    "        self.engine = Engine()  # Composition: Car has an Engine\n",
    "        self.wheels = Wheels()  # Composition: Car has Wheels\n",
    "        self.body = Body()      # Composition: Car has a Body\n",
    "\n",
    "    def start(self):\n",
    "        return f\"{self.engine.start()} {self.wheels.rotate()} {self.body.structure()}\"\n",
    "\n",
    "    def stop(self):\n",
    "        return f\"{self.engine.stop()} {self.wheels.rotate()}\"\n",
    "\n",
    "# Example usage\n",
    "my_car = Car()\n",
    "print(my_car.start())\n",
    "print(my_car.stop())\n"
   ]
  },
  {
   "cell_type": "markdown",
   "id": "78436e0b",
   "metadata": {},
   "source": [
    "### 6. Create a Python class hierarchy for a music player system, using composition to represent playlists and songs."
   ]
  },
  {
   "cell_type": "code",
   "execution_count": 24,
   "id": "1ca1512d",
   "metadata": {},
   "outputs": [
    {
     "name": "stdout",
     "output_type": "stream",
     "text": [
      "Playing songs from 'My Favorites' playlist:\n",
      "Playing 'Shape of You' by Ed Sheeran [3:54]\n",
      "Playing 'Believer' by Imagine Dragons [3:24]\n",
      "Playing 'Dance Monkey' by Tones and I [3:30]\n",
      "\n"
     ]
    }
   ],
   "source": [
    "class Song:\n",
    "    def __init__(self, title, artist, duration):\n",
    "        self.title = title\n",
    "        self.artist = artist\n",
    "        self.duration = duration\n",
    "\n",
    "    def play(self):\n",
    "        return f\"Playing '{self.title}' by {self.artist} [{self.duration}]\"\n",
    "\n",
    "class Playlist:\n",
    "    def __init__(self, name):\n",
    "        self.name = name\n",
    "        self.songs = []\n",
    "\n",
    "    def add_song(self, song):\n",
    "        self.songs.append(song)\n",
    "\n",
    "    def remove_song(self, song):\n",
    "        if song in self.songs:\n",
    "            self.songs.remove(song)\n",
    "\n",
    "    def play_all(self):\n",
    "        if not self.songs:\n",
    "            return \"Playlist is empty.\"\n",
    "        else:\n",
    "            playlist_info = f\"Playing songs from '{self.name}' playlist:\\n\"\n",
    "            for song in self.songs:\n",
    "                playlist_info += f\"{song.play()}\\n\"\n",
    "            return playlist_info\n",
    "\n",
    "# Example usage\n",
    "song1 = Song(\"Shape of You\", \"Ed Sheeran\", \"3:54\")\n",
    "song2 = Song(\"Believer\", \"Imagine Dragons\", \"3:24\")\n",
    "song3 = Song(\"Dance Monkey\", \"Tones and I\", \"3:30\")\n",
    "\n",
    "playlist = Playlist(\"My Favorites\")\n",
    "playlist.add_song(song1)\n",
    "playlist.add_song(song2)\n",
    "playlist.add_song(song3)\n",
    "\n",
    "print(playlist.play_all())\n"
   ]
  },
  {
   "cell_type": "markdown",
   "id": "79627d39",
   "metadata": {},
   "source": [
    "### 7. Explain the concept of \"has-a\" relationships in composition and how it helps design software systems."
   ]
  },
  {
   "cell_type": "markdown",
   "id": "7000788d",
   "metadata": {},
   "source": [
    "The concept of \"has-a\" relationships in composition refers to a design principle where a class contains an instance of another class as an attribute. It implies that an object of one class \"has\" another object as a part or component.\n",
    "\n",
    "Key Points about \"Has-a\" Relationships:\n",
    "Composition: \"Has-a\" relationship is a form of composition where one class includes an instance of another class as one of its components. This relationship is established by containing or embedding instances of other classes within a class.\n",
    "\n",
    "Component Reusability: It promotes code reuse by allowing the creation of more complex objects from simpler ones. Objects of one class utilize the functionalities of another class by having instances of that class as attributes.\n",
    "\n",
    "Encapsulation: Each class maintains its identity and encapsulates its own functionalities. Objects maintain a clear separation, contributing to better encapsulation and modularity.\n",
    "\n",
    "Flexibility and Modifiability: \"Has-a\" relationships allow for flexibility in the construction of objects. Components can be added, replaced, or modified dynamically, providing an adaptable and maintainable system.\n",
    "\n",
    "Code Organization: It aids in organizing and structuring code by creating a hierarchy of classes and promoting modularity. This helps in creating clearer, more maintainable, and manageable systems.\n",
    "\n",
    "Benefits in Software Design:\n",
    "Modularity and Encapsulation: \"Has-a\" relationships promote modularity by breaking down complex systems into manageable components. Each component encapsulates its functionalities, making it easier to understand and maintain.\n",
    "\n",
    "Code Reusability: This relationship facilitates code reuse by allowing objects to utilize functionalities from other classes. It enables the creation of versatile and flexible systems by composing objects to build complex structures.\n",
    "\n",
    "Flexibility and Adaptability: By composing objects, \"has-a\" relationships provide flexibility in constructing objects at runtime. This flexibility allows for changes in the composition of objects, promoting adaptability to evolving requirements.\n",
    "\n",
    "Example:\n",
    "Consider a \"Car\" class that \"has\" an \"Engine,\" \"Wheels,\" and \"Body\" as its components. This relationship helps in creating a car object by assembling its parts:"
   ]
  },
  {
   "cell_type": "code",
   "execution_count": 25,
   "id": "c2454c44",
   "metadata": {},
   "outputs": [],
   "source": [
    "class Engine:\n",
    "    pass  # Engine class definition\n",
    "\n",
    "class Wheels:\n",
    "    pass  # Wheels class definition\n",
    "\n",
    "class Body:\n",
    "    pass  # Body class definition\n",
    "\n",
    "class Car:\n",
    "    def __init__(self):\n",
    "        self.engine = Engine()  # Car \"has\" an Engine\n",
    "        self.wheels = Wheels()  # Car \"has\" Wheels\n",
    "        self.body = Body()      # Car \"has\" a Body\n"
   ]
  },
  {
   "cell_type": "markdown",
   "id": "0eba180e",
   "metadata": {},
   "source": [
    "### 8. Create a Python class for a computer system, using composition to represent components like CPU, RAM, and storage devices."
   ]
  },
  {
   "cell_type": "code",
   "execution_count": 26,
   "id": "9e979e61",
   "metadata": {},
   "outputs": [
    {
     "name": "stdout",
     "output_type": "stream",
     "text": [
      "System Components:\n",
      "CPU: Intel Core i7 (8 cores)\n",
      "RAM: 16 GB (3200 MHz)\n",
      "Storage: 512 GB SSD\n"
     ]
    }
   ],
   "source": [
    "class CPU:\n",
    "    def __init__(self, model, cores):\n",
    "        self.model = model\n",
    "        self.cores = cores\n",
    "\n",
    "    def __str__(self):\n",
    "        return f\"CPU: {self.model} ({self.cores} cores)\"\n",
    "\n",
    "class RAM:\n",
    "    def __init__(self, capacity, speed):\n",
    "        self.capacity = capacity\n",
    "        self.speed = speed\n",
    "\n",
    "    def __str__(self):\n",
    "        return f\"RAM: {self.capacity} GB ({self.speed} MHz)\"\n",
    "\n",
    "class Storage:\n",
    "    def __init__(self, capacity, type):\n",
    "        self.capacity = capacity\n",
    "        self.type = type\n",
    "\n",
    "    def __str__(self):\n",
    "        return f\"Storage: {self.capacity} GB {self.type}\"\n",
    "\n",
    "class ComputerSystem:\n",
    "    def __init__(self, cpu, ram, storage):\n",
    "        self.cpu = cpu\n",
    "        self.ram = ram\n",
    "        self.storage = storage\n",
    "\n",
    "    def system_info(self):\n",
    "        return f\"System Components:\\n{self.cpu}\\n{self.ram}\\n{self.storage}\"\n",
    "\n",
    "# Example usage\n",
    "cpu = CPU(\"Intel Core i7\", 8)\n",
    "ram = RAM(16, 3200)\n",
    "storage = Storage(512, \"SSD\")\n",
    "\n",
    "my_computer = ComputerSystem(cpu, ram, storage)\n",
    "print(my_computer.system_info())\n"
   ]
  },
  {
   "cell_type": "markdown",
   "id": "2941ceec",
   "metadata": {},
   "source": [
    "### 9. Describe the concept of \"delegation\" in composition and how it simplifies the design of complex systems."
   ]
  },
  {
   "cell_type": "markdown",
   "id": "bf91067d",
   "metadata": {},
   "source": [
    "\n",
    "\"Delegation\" in composition refers to the process where one object forwards or delegates certain responsibilities or tasks to another object it contains as a part or component. It allows a class to utilize the functionalities of another class by delegating specific tasks to it, rather than inheriting those functionalities.\n",
    "\n",
    "Key Points about Delegation:\n",
    "Responsibility Transfer: Delegation involves transferring the responsibility of performing specific tasks from one object (delegator) to another object (delegatee) that it contains as an attribute.\n",
    "\n",
    "Utilizing External Functionality: It allows a class to use functionalities provided by another class without inheriting its entire interface or implementation. The delegating object does not own the delegated functionalities but instead uses them via the contained object.\n",
    "\n",
    "Simplification of Class Design: Delegation simplifies the class design by promoting composition over inheritance. It helps in breaking down complex systems into smaller, manageable components. Each component focuses on specific functionalities, leading to better code organization and maintenance.\n",
    "\n",
    "Encapsulation and Modularity: Delegation supports encapsulation and modularity as each class maintains its own identity and encapsulates its functionalities. Objects maintain a clear separation, contributing to better encapsulation and modularity.\n",
    "\n",
    "Benefits in Designing Complex Systems:\n",
    "Flexibility and Adaptability: Delegation enhances the flexibility of a system by allowing dynamic changes to delegated functionalities. It enables the swapping of delegate objects at runtime, providing adaptability to different scenarios.\n",
    "\n",
    "Code Reusability: Delegation promotes code reuse by allowing the reuse of delegate objects in different contexts. A single delegate object can be utilized by multiple delegator objects, enhancing code reusability.\n",
    "\n",
    "Reduced Coupling: Delegation reduces the coupling between classes compared to extensive inheritance hierarchies. It helps in achieving loose coupling, making the system more maintainable and less prone to errors when making changes.\n",
    "\n",
    "Separation of Concerns: By delegating specific tasks to delegate objects, delegation helps in achieving a separation of concerns. Each class focuses on its specific functionalities, contributing to a clearer and more maintainable design."
   ]
  },
  {
   "cell_type": "code",
   "execution_count": 27,
   "id": "623f0bb7",
   "metadata": {},
   "outputs": [
    {
     "name": "stdout",
     "output_type": "stream",
     "text": [
      "Reading contents from file: example.txt\n",
      "Writing data 'Hello, world!' to file: example.txt\n"
     ]
    }
   ],
   "source": [
    "class FileHandler:\n",
    "    def read_file(self, filename):\n",
    "        return f\"Reading contents from file: {filename}\"\n",
    "\n",
    "    def write_file(self, filename, data):\n",
    "        return f\"Writing data '{data}' to file: {filename}\"\n",
    "\n",
    "class FileManager:\n",
    "    def __init__(self):\n",
    "        self.file_handler = FileHandler()  # Composition: FileManager has a FileHandler\n",
    "\n",
    "    def read(self, filename):\n",
    "        return self.file_handler.read_file(filename)\n",
    "\n",
    "    def write(self, filename, data):\n",
    "        return self.file_handler.write_file(filename, data)\n",
    "\n",
    "# Example usage\n",
    "file_manager = FileManager()\n",
    "print(file_manager.read(\"example.txt\"))\n",
    "print(file_manager.write(\"example.txt\", \"Hello, world!\"))\n"
   ]
  },
  {
   "cell_type": "markdown",
   "id": "72d9740a",
   "metadata": {},
   "source": [
    "### 10. Create a Python class for a car, using composition to represent components like the engine, wheels, and transmission."
   ]
  },
  {
   "cell_type": "code",
   "execution_count": 28,
   "id": "3a50e510",
   "metadata": {},
   "outputs": [
    {
     "name": "stdout",
     "output_type": "stream",
     "text": [
      "Engine started.\n",
      "Gear shifted. Wheels rotating.\n",
      "Engine stopped.\n"
     ]
    }
   ],
   "source": [
    "class Engine:\n",
    "    def __init__(self, fuel_type, horsepower):\n",
    "        self.fuel_type = fuel_type\n",
    "        self.horsepower = horsepower\n",
    "\n",
    "    def start(self):\n",
    "        return \"Engine started.\"\n",
    "\n",
    "    def stop(self):\n",
    "        return \"Engine stopped.\"\n",
    "\n",
    "class Wheels:\n",
    "    def __init__(self, size, material):\n",
    "        self.size = size\n",
    "        self.material = material\n",
    "\n",
    "    def rotate(self):\n",
    "        return \"Wheels rotating.\"\n",
    "\n",
    "class Transmission:\n",
    "    def __init__(self, transmission_type):\n",
    "        self.transmission_type = transmission_type\n",
    "\n",
    "    def shift_gear(self):\n",
    "        return \"Gear shifted.\"\n",
    "\n",
    "class Car:\n",
    "    def __init__(self, engine, wheels, transmission):\n",
    "        self.engine = engine\n",
    "        self.wheels = wheels\n",
    "        self.transmission = transmission\n",
    "\n",
    "    def start_car(self):\n",
    "        return self.engine.start()\n",
    "\n",
    "    def stop_car(self):\n",
    "        return self.engine.stop()\n",
    "\n",
    "    def drive(self):\n",
    "        return f\"{self.transmission.shift_gear()} {self.wheels.rotate()}\"\n",
    "\n",
    "# Example usage\n",
    "engine = Engine(\"Gasoline\", 200)\n",
    "wheels = Wheels(18, \"Alloy\")\n",
    "transmission = Transmission(\"Automatic\")\n",
    "\n",
    "my_car = Car(engine, wheels, transmission)\n",
    "print(my_car.start_car())\n",
    "print(my_car.drive())\n",
    "print(my_car.stop_car())\n"
   ]
  },
  {
   "cell_type": "markdown",
   "id": "f02b1ee5",
   "metadata": {},
   "source": [
    "### 11. How can you encapsulate and hide the details of composed objects in Python classes to maintain abstraction?"
   ]
  },
  {
   "cell_type": "markdown",
   "id": "dcabdd9a",
   "metadata": {},
   "source": [
    "1. Use of Private Attributes:\n",
    "Private Attributes: Utilize private attributes (attributes prefixed with a double underscore __) within a class to hide the details of composed objects. This restricts direct access from outside the class and maintains encapsulation.\n",
    "2. Expose Selected Methods or Properties:\n",
    "Controlled Access: Provide controlled access to the composed objects' functionalities by exposing specific methods or properties. These exposed methods act as an interface for interacting with the composed objects.\n",
    "3. Delegate Method Calls:\n",
    "Delegation: Delegate method calls to the composed objects within the class methods. This allows the class to manage interactions with composed objects while abstracting away their internal details.\n",
    "Example:\n",
    "Let's modify the previous Car class example to incorporate encapsulation and abstraction:"
   ]
  },
  {
   "cell_type": "code",
   "execution_count": 29,
   "id": "01655983",
   "metadata": {},
   "outputs": [
    {
     "name": "stdout",
     "output_type": "stream",
     "text": [
      "Engine started.\n",
      "Gear shifted. Wheels rotating.\n",
      "Engine stopped.\n"
     ]
    }
   ],
   "source": [
    "class Engine:\n",
    "    def __init__(self, fuel_type, horsepower):\n",
    "        self.__fuel_type = fuel_type\n",
    "        self.__horsepower = horsepower\n",
    "\n",
    "    def start(self):\n",
    "        return \"Engine started.\"\n",
    "\n",
    "    def stop(self):\n",
    "        return \"Engine stopped.\"\n",
    "\n",
    "class Wheels:\n",
    "    def __init__(self, size, material):\n",
    "        self.__size = size\n",
    "        self.__material = material\n",
    "\n",
    "    def rotate(self):\n",
    "        return \"Wheels rotating.\"\n",
    "\n",
    "class Transmission:\n",
    "    def __init__(self, transmission_type):\n",
    "        self.__transmission_type = transmission_type\n",
    "\n",
    "    def shift_gear(self):\n",
    "        return \"Gear shifted.\"\n",
    "\n",
    "class Car:\n",
    "    def __init__(self, engine, wheels, transmission):\n",
    "        self.__engine = engine\n",
    "        self.__wheels = wheels\n",
    "        self.__transmission = transmission\n",
    "\n",
    "    def start_car(self):\n",
    "        return self.__engine.start()\n",
    "\n",
    "    def stop_car(self):\n",
    "        return self.__engine.stop()\n",
    "\n",
    "    def drive(self):\n",
    "        return f\"{self.__transmission.shift_gear()} {self.__wheels.rotate()}\"\n",
    "\n",
    "# Example usage\n",
    "engine = Engine(\"Gasoline\", 200)\n",
    "wheels = Wheels(18, \"Alloy\")\n",
    "transmission = Transmission(\"Automatic\")\n",
    "\n",
    "my_car = Car(engine, wheels, transmission)\n",
    "print(my_car.start_car())\n",
    "print(my_car.drive())\n",
    "print(my_car.stop_car())\n"
   ]
  },
  {
   "cell_type": "markdown",
   "id": "08dfb43f",
   "metadata": {},
   "source": [
    "### 12. Create a Python class for a university course, using composition to represent students, instructors, and course materials."
   ]
  },
  {
   "cell_type": "code",
   "execution_count": 30,
   "id": "d6d7de8c",
   "metadata": {},
   "outputs": [
    {
     "name": "stdout",
     "output_type": "stream",
     "text": [
      "Course: Computer Science\n",
      "Instructor: Instructor: Dr. Smith (ID: 201)\n",
      "Students:\n",
      "- Student: Alice (ID: 101)\n",
      "- Student: Bob (ID: 102)\n",
      "Course Materials:\n",
      "- Course Material: Lecture Notes\n",
      "- Course Material: Textbook\n",
      "- Course Material: Assignments\n",
      "\n"
     ]
    }
   ],
   "source": [
    "class Student:\n",
    "    def __init__(self, name, student_id):\n",
    "        self.name = name\n",
    "        self.student_id = student_id\n",
    "\n",
    "    def __str__(self):\n",
    "        return f\"Student: {self.name} (ID: {self.student_id})\"\n",
    "\n",
    "class Instructor:\n",
    "    def __init__(self, name, instructor_id):\n",
    "        self.name = name\n",
    "        self.instructor_id = instructor_id\n",
    "\n",
    "    def __str__(self):\n",
    "        return f\"Instructor: {self.name} (ID: {self.instructor_id})\"\n",
    "\n",
    "class CourseMaterial:\n",
    "    def __init__(self, material_name):\n",
    "        self.material_name = material_name\n",
    "\n",
    "    def __str__(self):\n",
    "        return f\"Course Material: {self.material_name}\"\n",
    "\n",
    "class UniversityCourse:\n",
    "    def __init__(self, course_name, instructor, students, course_materials):\n",
    "        self.course_name = course_name\n",
    "        self.instructor = instructor\n",
    "        self.students = students\n",
    "        self.course_materials = course_materials\n",
    "\n",
    "    def course_info(self):\n",
    "        info = f\"Course: {self.course_name}\\n\"\n",
    "        info += f\"Instructor: {self.instructor}\\n\"\n",
    "        info += \"Students:\\n\"\n",
    "        for student in self.students:\n",
    "            info += f\"- {student}\\n\"\n",
    "        info += \"Course Materials:\\n\"\n",
    "        for material in self.course_materials:\n",
    "            info += f\"- {material}\\n\"\n",
    "        return info\n",
    "\n",
    "# Example usage\n",
    "student1 = Student(\"Alice\", 101)\n",
    "student2 = Student(\"Bob\", 102)\n",
    "\n",
    "instructor = Instructor(\"Dr. Smith\", 201)\n",
    "\n",
    "materials = [\n",
    "    CourseMaterial(\"Lecture Notes\"),\n",
    "    CourseMaterial(\"Textbook\"),\n",
    "    CourseMaterial(\"Assignments\"),\n",
    "]\n",
    "\n",
    "course = UniversityCourse(\"Computer Science\", instructor, [student1, student2], materials)\n",
    "print(course.course_info())\n"
   ]
  },
  {
   "cell_type": "markdown",
   "id": "72f17cb5",
   "metadata": {},
   "source": [
    "### 13. Discuss the challenges and drawbacks of composition, such as increased complexity and potential for tight coupling between objects."
   ]
  },
  {
   "cell_type": "markdown",
   "id": "8fa8a871",
   "metadata": {},
   "source": [
    "While composition offers numerous advantages in software design, it also comes with its set of challenges and potential drawbacks:\n",
    "\n",
    "1. Increased Complexity:\n",
    "Nested Structures: As more objects are composed together, the overall structure can become more intricate, leading to increased complexity. Managing interactions among multiple composed objects might become challenging.\n",
    "\n",
    "Understanding Relationships: Understanding the relationships and interactions between different composed objects can become complex, especially in larger systems with numerous components.\n",
    "\n",
    "2. Potential for Tight Coupling:\n",
    "Dependency Management: If there's a high degree of interaction and dependency between composed objects, it can lead to tight coupling. Changes in one object might require modifications in multiple other objects, making the system less flexible and harder to maintain.\n",
    "3. Inversion of Control (IoC):\n",
    "Control Flow Complexity: With composition, control flow might be distributed among multiple objects. This can lead to difficulties in tracking and understanding the overall control flow of the system.\n",
    "4. Maintenance Challenges:\n",
    "Code Maintenance: Managing changes and maintenance in a system composed of multiple objects can be challenging. Modifications in one object might have ripple effects on related objects, requiring careful consideration and testing.\n",
    "5. Initialization and Configuration:\n",
    "Construction Complexity: Constructing objects with multiple levels of composition might require intricate initialization processes. Managing the creation and configuration of composed objects can become complex.\n",
    "6. Performance Overhead:\n",
    "Runtime Performance: In some cases, the use of composition might introduce a slight performance overhead due to the increased number of objects and their interactions.\n",
    "Strategies to Mitigate Drawbacks:\n",
    "Interface Definition: Clearly define interfaces between composed objects to minimize tight coupling and clarify interactions.\n",
    "\n",
    "Proper Abstraction: Use proper abstraction to hide unnecessary details and expose only essential functionalities.\n",
    "\n",
    "Design Patterns: Apply design patterns like Dependency Injection or Facade to manage object interactions and simplify complex structures.\n",
    "\n",
    "Testing and Validation: Thoroughly test interactions between composed objects to ensure proper functionality and to identify potential issues early.\n",
    "\n",
    "Documentation and Code Review: Maintain detailed documentation and conduct code reviews to ensure proper understanding and maintenance of composed structures.\n",
    "\n",
    "While composition can lead to increased complexity and potential tight coupling, careful design, adherence to design principles, and strategic management of object relationships can help mitigate these challenges and harness the benefits of composition in software systems."
   ]
  },
  {
   "cell_type": "markdown",
   "id": "2325a7bc",
   "metadata": {},
   "source": [
    "### 14. Create a Python class hierarchy for a restaurant system, using composition to represent menus, dishes, and ingredients."
   ]
  },
  {
   "cell_type": "code",
   "execution_count": 31,
   "id": "e128ffb5",
   "metadata": {},
   "outputs": [
    {
     "name": "stdout",
     "output_type": "stream",
     "text": [
      "Menu: Italian Cuisine\n",
      "Dishes:\n",
      "Dish: Margherita Pizza\n",
      "Ingredients:\n",
      "- Tomato: 3\n",
      "- Cheese: 2\n",
      "- Dough: 1\n",
      "\n",
      "Dish: Pasta Pomodoro\n",
      "Ingredients:\n",
      "- Pasta: 2\n",
      "- Tomato Sauce: 1\n",
      "- Basil: 1\n",
      "\n",
      "\n"
     ]
    }
   ],
   "source": [
    "class Ingredient:\n",
    "    def __init__(self, name, quantity):\n",
    "        self.name = name\n",
    "        self.quantity = quantity\n",
    "\n",
    "    def __str__(self):\n",
    "        return f\"{self.name}: {self.quantity}\"\n",
    "\n",
    "class Dish:\n",
    "    def __init__(self, name, ingredients):\n",
    "        self.name = name\n",
    "        self.ingredients = ingredients  # Composition: Dish has Ingredients\n",
    "\n",
    "    def dish_info(self):\n",
    "        info = f\"Dish: {self.name}\\nIngredients:\\n\"\n",
    "        for ingredient in self.ingredients:\n",
    "            info += f\"- {ingredient}\\n\"\n",
    "        return info\n",
    "\n",
    "class Menu:\n",
    "    def __init__(self, name, dishes):\n",
    "        self.name = name\n",
    "        self.dishes = dishes  # Composition: Menu has Dishes\n",
    "\n",
    "    def menu_info(self):\n",
    "        info = f\"Menu: {self.name}\\nDishes:\\n\"\n",
    "        for dish in self.dishes:\n",
    "            info += f\"{dish.dish_info()}\\n\"\n",
    "        return info\n",
    "\n",
    "# Example usage\n",
    "ingredient1 = Ingredient(\"Tomato\", 3)\n",
    "ingredient2 = Ingredient(\"Cheese\", 2)\n",
    "ingredient3 = Ingredient(\"Dough\", 1)\n",
    "\n",
    "dish1 = Dish(\"Margherita Pizza\", [ingredient1, ingredient2, ingredient3])\n",
    "\n",
    "ingredient4 = Ingredient(\"Pasta\", 2)\n",
    "ingredient5 = Ingredient(\"Tomato Sauce\", 1)\n",
    "ingredient6 = Ingredient(\"Basil\", 1)\n",
    "\n",
    "dish2 = Dish(\"Pasta Pomodoro\", [ingredient4, ingredient5, ingredient6])\n",
    "\n",
    "menu = Menu(\"Italian Cuisine\", [dish1, dish2])\n",
    "\n",
    "print(menu.menu_info())\n"
   ]
  },
  {
   "cell_type": "markdown",
   "id": "7fb9a6a4",
   "metadata": {},
   "source": [
    "### 15. Explain how composition enhances code maintainability and modularity in Python programs."
   ]
  },
  {
   "cell_type": "markdown",
   "id": "94bc3fe8",
   "metadata": {},
   "source": [
    "Composition enhances code maintainability and modularity in Python programs in several ways:\n",
    "\n",
    "1. Encapsulation and Modularity:\n",
    "Separation of Concerns: Composition allows breaking down complex systems into smaller, manageable components. Each component encapsulates specific functionalities, promoting modularity and isolating different aspects of the system.\n",
    "\n",
    "Clearer Code Organization: Composing smaller, focused objects leads to clearer code organization. Each object handles a specific responsibility, making it easier to understand, maintain, and modify.\n",
    "\n",
    "2. Code Reusability:\n",
    "Component Reuse: Composing objects allows for the reuse of individual components across different parts of the system. Reusable components reduce redundancy and promote code reusability, contributing to a more maintainable codebase.\n",
    "3. Flexibility and Adaptability:\n",
    "Ease of Modification: Composition provides flexibility in modifying or extending the system. Changes made to one component typically have limited impact on other components, allowing for easier modifications without affecting the entire system.\n",
    "\n",
    "Replacement and Swapping: Composed objects can be replaced or swapped with other compatible objects at runtime, facilitating adaptability to changing requirements.\n",
    "\n",
    "4. Reduced Coupling:\n",
    "Loose Coupling: Composition generally promotes loose coupling between objects. Objects interact through well-defined interfaces, reducing dependencies and allowing changes in one object without affecting others.\n",
    "5. Testability and Debugging:\n",
    "Isolated Testing: Composed objects can be tested in isolation, making unit testing and debugging more manageable. Each component can be tested independently, ensuring that it functions correctly within the system.\n",
    "Example:\n",
    "In the context of the previous restaurant system example:\n",
    "\n",
    "Modularity: Each class (Ingredient, Dish, Menu) represents a specific aspect of the restaurant system. Ingredients are encapsulated within dishes, and dishes are encapsulated within menus, leading to clear modularity.\n",
    "\n",
    "Code Reusability: Ingredients, dishes, and menus can be reused across different menus or restaurant systems, promoting code reusability.\n",
    "\n",
    "Flexibility: It's easy to modify dishes or menus by adding or removing ingredients or dishes from menus. Changes in one part (e.g., adding a new dish) do not necessitate altering other parts (e.g., existing menus)."
   ]
  },
  {
   "cell_type": "markdown",
   "id": "4f961a8a",
   "metadata": {},
   "source": [
    "### 16. Create a Python class for a computer game character, using composition to represent attributes like weapons, armor, and inventory."
   ]
  },
  {
   "cell_type": "code",
   "execution_count": 32,
   "id": "7c0a9f03",
   "metadata": {},
   "outputs": [
    {
     "name": "stdout",
     "output_type": "stream",
     "text": [
      "Character: Hero\n",
      "Weapons:\n",
      "- Weapon: Sword (Damage: 20)\n",
      "Armor:\n",
      "- Armor: Shield (Defense: 15)\n",
      "Inventory:\n",
      "- Health Potion: 5\n",
      "\n"
     ]
    }
   ],
   "source": [
    "class Weapon:\n",
    "    def __init__(self, name, damage):\n",
    "        self.name = name\n",
    "        self.damage = damage\n",
    "\n",
    "    def __str__(self):\n",
    "        return f\"Weapon: {self.name} (Damage: {self.damage})\"\n",
    "\n",
    "class Armor:\n",
    "    def __init__(self, name, defense):\n",
    "        self.name = name\n",
    "        self.defense = defense\n",
    "\n",
    "    def __str__(self):\n",
    "        return f\"Armor: {self.name} (Defense: {self.defense})\"\n",
    "\n",
    "class InventoryItem:\n",
    "    def __init__(self, name, quantity):\n",
    "        self.name = name\n",
    "        self.quantity = quantity\n",
    "\n",
    "    def __str__(self):\n",
    "        return f\"{self.name}: {self.quantity}\"\n",
    "\n",
    "class GameCharacter:\n",
    "    def __init__(self, name, weapons=None, armor=None, inventory=None):\n",
    "        self.name = name\n",
    "        self.weapons = weapons if weapons else []  # Composition: GameCharacter has Weapons\n",
    "        self.armor = armor if armor else []  # Composition: GameCharacter has Armor\n",
    "        self.inventory = inventory if inventory else []  # Composition: GameCharacter has InventoryItems\n",
    "\n",
    "    def character_info(self):\n",
    "        info = f\"Character: {self.name}\\n\"\n",
    "        info += \"Weapons:\\n\"\n",
    "        for weapon in self.weapons:\n",
    "            info += f\"- {weapon}\\n\"\n",
    "        info += \"Armor:\\n\"\n",
    "        for armor in self.armor:\n",
    "            info += f\"- {armor}\\n\"\n",
    "        info += \"Inventory:\\n\"\n",
    "        for item in self.inventory:\n",
    "            info += f\"- {item}\\n\"\n",
    "        return info\n",
    "\n",
    "# Example usage\n",
    "sword = Weapon(\"Sword\", 20)\n",
    "shield = Armor(\"Shield\", 15)\n",
    "potion = InventoryItem(\"Health Potion\", 5)\n",
    "\n",
    "player_character = GameCharacter(\"Hero\", weapons=[sword], armor=[shield], inventory=[potion])\n",
    "print(player_character.character_info())\n"
   ]
  },
  {
   "cell_type": "markdown",
   "id": "2e27dda6",
   "metadata": {},
   "source": [
    "### 17. Describe the concept of \"aggregation\" in composition and how it differs from simple composition."
   ]
  },
  {
   "cell_type": "markdown",
   "id": "77f66d0b",
   "metadata": {},
   "source": [
    "\n",
    "In object-oriented programming, \"aggregation\" is a form of composition where one class (the whole or container) holds a reference to another class (the part or component). Aggregation implies a relationship where the contained object (part) can exist independently of the container object (whole).\n",
    "\n",
    "Key Points about Aggregation:\n",
    "Independent Lifespan: In aggregation, the contained object (part) can exist on its own and is not destroyed if the container object (whole) is destroyed. The part maintains its existence irrespective of the container.\n",
    "\n",
    "\"Has-a\" Relationship: Aggregation represents a \"has-a\" relationship, where the container object has a reference to the contained object.\n",
    "\n",
    "Weaker Relationship: Aggregation signifies a weaker form of association between objects compared to stronger forms like composition or direct ownership. It's more of a \"using\" relationship rather than a \"part-of\" relationship.\n",
    "\n",
    "Multiplicity: The container object may contain multiple instances of the contained object.\n",
    "\n",
    "Difference from Simple Composition:\n",
    "Independence: In simple composition, the contained object is entirely owned by the container object, and its existence depends on the container. If the container is destroyed, the contained object is also destroyed. In contrast, in aggregation, the contained object can exist independently of the container.\n",
    "\n",
    "Ownership: Aggregation does not imply ownership. While the container holds a reference to the contained object, it does not have full responsibility or control over the lifecycle of the contained object as in simple composition.\n",
    "\n",
    "Example:\n",
    "Consider a scenario of a university system:\n",
    "\n",
    "Composition: A Department (container) object owns Professor objects (contained). If the Department is disbanded, the Professor objects associated with it cease to exist.\n",
    "\n",
    "Aggregation: A Department (container) has Course objects (contained). If the Department is closed, the Course objects can still exist and be assigned to another department."
   ]
  },
  {
   "cell_type": "code",
   "execution_count": 33,
   "id": "ddf16f00",
   "metadata": {},
   "outputs": [],
   "source": [
    "class Professor:\n",
    "    def __init__(self, name):\n",
    "        self.name = name\n",
    "\n",
    "class Department:\n",
    "    def __init__(self, name, professors):\n",
    "        self.name = name\n",
    "        self.professors = professors  # Aggregation: Department has Professors\n",
    "\n",
    "professor1 = Professor(\"Dr. Smith\")\n",
    "professor2 = Professor(\"Dr. Johnson\")\n",
    "\n",
    "# Aggregation - Department has Professors, but Professors can exist independently\n",
    "cs_department = Department(\"Computer Science\", [professor1, professor2])\n"
   ]
  },
  {
   "cell_type": "markdown",
   "id": "921b86dd",
   "metadata": {},
   "source": [
    "### 18. Create a Python class for a house, using composition to represent rooms, furniture, and appliances."
   ]
  },
  {
   "cell_type": "code",
   "execution_count": 34,
   "id": "410717b8",
   "metadata": {},
   "outputs": [
    {
     "name": "stdout",
     "output_type": "stream",
     "text": [
      "House Structure:\n",
      "Room: Living Room\n",
      "Furniture:\n",
      "- Furniture: Sofa\n",
      "- Furniture: Coffee Table\n",
      "Appliances:\n",
      "\n",
      "Room: Kitchen\n",
      "Furniture:\n",
      "Appliances:\n",
      "- Appliance: Refrigerator\n",
      "- Appliance: Oven\n",
      "\n",
      "\n"
     ]
    }
   ],
   "source": [
    "class Furniture:\n",
    "    def __init__(self, name):\n",
    "        self.name = name\n",
    "\n",
    "    def __str__(self):\n",
    "        return f\"Furniture: {self.name}\"\n",
    "\n",
    "class Appliance:\n",
    "    def __init__(self, name):\n",
    "        self.name = name\n",
    "\n",
    "    def __str__(self):\n",
    "        return f\"Appliance: {self.name}\"\n",
    "\n",
    "class Room:\n",
    "    def __init__(self, name, furniture=None, appliances=None):\n",
    "        self.name = name\n",
    "        self.furniture = furniture if furniture else []  # Composition: Room has Furniture\n",
    "        self.appliances = appliances if appliances else []  # Composition: Room has Appliances\n",
    "\n",
    "    def room_info(self):\n",
    "        info = f\"Room: {self.name}\\nFurniture:\\n\"\n",
    "        for item in self.furniture:\n",
    "            info += f\"- {item}\\n\"\n",
    "        info += \"Appliances:\\n\"\n",
    "        for item in self.appliances:\n",
    "            info += f\"- {item}\\n\"\n",
    "        return info\n",
    "\n",
    "class House:\n",
    "    def __init__(self, rooms):\n",
    "        self.rooms = rooms  # Composition: House has Rooms\n",
    "\n",
    "    def house_info(self):\n",
    "        info = \"House Structure:\\n\"\n",
    "        for room in self.rooms:\n",
    "            info += f\"{room.room_info()}\\n\"\n",
    "        return info\n",
    "\n",
    "# Example usage\n",
    "living_room_furniture = [Furniture(\"Sofa\"), Furniture(\"Coffee Table\")]\n",
    "kitchen_appliances = [Appliance(\"Refrigerator\"), Appliance(\"Oven\")]\n",
    "\n",
    "living_room = Room(\"Living Room\", furniture=living_room_furniture)\n",
    "kitchen = Room(\"Kitchen\", appliances=kitchen_appliances)\n",
    "\n",
    "my_house = House([living_room, kitchen])\n",
    "print(my_house.house_info())\n"
   ]
  },
  {
   "cell_type": "markdown",
   "id": "2863756e",
   "metadata": {},
   "source": [
    "### 19. How can you achieve flexibility in composed objects by allowing them to be replaced or modified dynamically at runtime?"
   ]
  },
  {
   "cell_type": "markdown",
   "id": "71483ecc",
   "metadata": {},
   "source": [
    "\n",
    "To achieve flexibility in composed objects, allowing them to be replaced or modified dynamically at runtime, you can implement certain strategies leveraging Python's dynamic nature. Here are some approaches:\n",
    "\n",
    "1. Interfaces and Polymorphism:\n",
    "Abstract Interfaces: Define abstract interfaces (using abstract base classes or simply through method definitions) for composed objects. This enables swapping objects that adhere to the same interface without affecting the container.\n",
    "\n",
    "Polymorphism: Use polymorphism to substitute one object with another as long as they implement the same interface. This allows dynamic replacement of objects during runtime.\n",
    "\n",
    "Example using Abstract Interfaces:"
   ]
  },
  {
   "cell_type": "code",
   "execution_count": 35,
   "id": "8535b3cc",
   "metadata": {},
   "outputs": [
    {
     "name": "stdout",
     "output_type": "stream",
     "text": [
      "Original Operation\n",
      "Replacement Operation\n"
     ]
    }
   ],
   "source": [
    "from abc import ABC, abstractmethod\n",
    "\n",
    "class Composable(ABC):\n",
    "    @abstractmethod\n",
    "    def operation(self):\n",
    "        pass\n",
    "\n",
    "class OriginalComposable(Composable):\n",
    "    def operation(self):\n",
    "        return \"Original Operation\"\n",
    "\n",
    "class ReplacementComposable(Composable):\n",
    "    def operation(self):\n",
    "        return \"Replacement Operation\"\n",
    "\n",
    "class Container:\n",
    "    def __init__(self, composable):\n",
    "        self.composable = composable\n",
    "\n",
    "    def perform_operation(self):\n",
    "        return self.composable.operation()\n",
    "\n",
    "# Example usage\n",
    "original = OriginalComposable()\n",
    "container = Container(original)\n",
    "print(container.perform_operation())  # Output: Original Operation\n",
    "\n",
    "replacement = ReplacementComposable()\n",
    "container.composable = replacement\n",
    "print(container.perform_operation())  # Output: Replacement Operation"
   ]
  },
  {
   "cell_type": "markdown",
   "id": "fc33db40",
   "metadata": {},
   "source": [
    "2. Dependency Injection:\n",
    "External Configuration: Use dependency injection by passing the composed objects as parameters or setting them externally. This allows the objects to be replaced dynamically without altering the container's implementation.\n",
    "Example using Dependency Injection:"
   ]
  },
  {
   "cell_type": "code",
   "execution_count": 36,
   "id": "18a34a64",
   "metadata": {},
   "outputs": [
    {
     "name": "stdout",
     "output_type": "stream",
     "text": [
      "Original Action\n",
      "Replacement Action\n"
     ]
    }
   ],
   "source": [
    "class Service:\n",
    "    def __init__(self, dependency):\n",
    "        self.dependency = dependency\n",
    "\n",
    "    def perform_action(self):\n",
    "        return self.dependency.action()\n",
    "\n",
    "class OriginalDependency:\n",
    "    def action(self):\n",
    "        return \"Original Action\"\n",
    "\n",
    "class ReplacementDependency:\n",
    "    def action(self):\n",
    "        return \"Replacement Action\"\n",
    "\n",
    "# Example usage\n",
    "original_dep = OriginalDependency()\n",
    "service = Service(original_dep)\n",
    "print(service.perform_action())  # Output: Original Action\n",
    "\n",
    "replacement_dep = ReplacementDependency()\n",
    "service.dependency = replacement_dep\n",
    "print(service.perform_action())  # Output: Replacement Action\n"
   ]
  },
  {
   "cell_type": "markdown",
   "id": "891aabff",
   "metadata": {},
   "source": [
    "3. Property Setter:\n",
    "Setter Methods: Implement setter methods or properties in the container class that allow replacing the composed objects at runtime. This provides a way to dynamically modify or update the composed objects within the container.\n",
    "Example using Property Setter:"
   ]
  },
  {
   "cell_type": "code",
   "execution_count": 37,
   "id": "0dd63eb0",
   "metadata": {},
   "outputs": [
    {
     "name": "stdout",
     "output_type": "stream",
     "text": [
      "Original Object\n",
      "Replacement Object\n"
     ]
    }
   ],
   "source": [
    "class Container:\n",
    "    def __init__(self, obj):\n",
    "        self._obj = obj\n",
    "\n",
    "    @property\n",
    "    def obj(self):\n",
    "        return self._obj\n",
    "\n",
    "    @obj.setter\n",
    "    def obj(self, new_obj):\n",
    "        self._obj = new_obj\n",
    "\n",
    "# Example usage\n",
    "obj = \"Original Object\"\n",
    "container = Container(obj)\n",
    "print(container.obj)  # Output: Original Object\n",
    "\n",
    "new_obj = \"Replacement Object\"\n",
    "container.obj = new_obj\n",
    "print(container.obj)  # Output: Replacement Object\n"
   ]
  },
  {
   "cell_type": "markdown",
   "id": "5d8e28d6",
   "metadata": {},
   "source": [
    "### 20. Create a Python class for a social media application, using composition to represent users, posts, and comments."
   ]
  },
  {
   "cell_type": "code",
   "execution_count": 38,
   "id": "66d4d952",
   "metadata": {},
   "outputs": [
    {
     "name": "stdout",
     "output_type": "stream",
     "text": [
      "Post by Alice: Hello, this is my first post!\n",
      "Comment by Bob: Nice post!\n",
      "Comment by Alice: Thanks!\n"
     ]
    }
   ],
   "source": [
    "class User:\n",
    "    def __init__(self, username, email):\n",
    "        self.username = username\n",
    "        self.email = email\n",
    "        self.posts = []  # Composition: User has Posts\n",
    "\n",
    "    def create_post(self, content):\n",
    "        post = Post(content, self)\n",
    "        self.posts.append(post)\n",
    "        return post\n",
    "\n",
    "    def __str__(self):\n",
    "        return f\"User: {self.username} ({self.email})\"\n",
    "\n",
    "class Post:\n",
    "    def __init__(self, content, author):\n",
    "        self.content = content\n",
    "        self.author = author\n",
    "        self.comments = []  # Composition: Post has Comments\n",
    "\n",
    "    def add_comment(self, comment_content, commenter):\n",
    "        comment = Comment(comment_content, commenter)\n",
    "        self.comments.append(comment)\n",
    "        return comment\n",
    "\n",
    "    def __str__(self):\n",
    "        return f\"Post by {self.author.username}: {self.content}\"\n",
    "\n",
    "class Comment:\n",
    "    def __init__(self, content, commenter):\n",
    "        self.content = content\n",
    "        self.commenter = commenter\n",
    "\n",
    "    def __str__(self):\n",
    "        return f\"Comment by {self.commenter.username}: {self.content}\"\n",
    "\n",
    "# Example usage\n",
    "user1 = User(\"Alice\", \"alice@example.com\")\n",
    "user2 = User(\"Bob\", \"bob@example.com\")\n",
    "\n",
    "post1 = user1.create_post(\"Hello, this is my first post!\")\n",
    "comment1 = post1.add_comment(\"Nice post!\", user2)\n",
    "comment2 = post1.add_comment(\"Thanks!\", user1)\n",
    "\n",
    "print(post1)\n",
    "print(comment1)\n",
    "print(comment2)\n"
   ]
  },
  {
   "cell_type": "code",
   "execution_count": null,
   "id": "a9a41e45",
   "metadata": {},
   "outputs": [],
   "source": []
  }
 ],
 "metadata": {
  "kernelspec": {
   "display_name": "Python 3 (ipykernel)",
   "language": "python",
   "name": "python3"
  },
  "language_info": {
   "codemirror_mode": {
    "name": "ipython",
    "version": 3
   },
   "file_extension": ".py",
   "mimetype": "text/x-python",
   "name": "python",
   "nbconvert_exporter": "python",
   "pygments_lexer": "ipython3",
   "version": "3.10.5"
  }
 },
 "nbformat": 4,
 "nbformat_minor": 5
}
