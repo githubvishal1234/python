{
 "cells": [
  {
   "cell_type": "markdown",
   "id": "7b756ba5",
   "metadata": {},
   "source": [
    "# Assignment-1 Solutions"
   ]
  },
  {
   "cell_type": "markdown",
   "id": "144cf533",
   "metadata": {},
   "source": [
    "## TOPIC: Python Basics Variable"
   ]
  },
  {
   "cell_type": "markdown",
   "id": "21459bd4",
   "metadata": {},
   "source": [
    "### 1. Declare two variables, `x` and `y`, and assign them integer values. Swap thevalues of these variables without using any temporary variable."
   ]
  },
  {
   "cell_type": "code",
   "execution_count": 1,
   "id": "44b2a515",
   "metadata": {},
   "outputs": [
    {
     "name": "stdout",
     "output_type": "stream",
     "text": [
      "the value of x before swapping:  10\n",
      "the value of y before swapping:  20\n",
      "/n\n",
      "the value of x after swapping:  20\n",
      "the value of y after swapping:  10\n"
     ]
    }
   ],
   "source": [
    "# declaring two variables x and y for swapping\n",
    "x=10\n",
    "y=20\n",
    "print(\"the value of x before swapping: \",x) #printing value of x before swapping\n",
    "print(\"the value of y before swapping: \",y)  #printing value of y before swapping\n",
    "\n",
    "y=x+y # y=10+20 which is 30, value of y is 30\n",
    "x=y-x #  x=30-10 which is 20,value of x is 20\n",
    "y=y-x # y=30-20 which is 10,value of y is 10\n",
    "\n",
    "# After these operations, the values of x and y are swapped.\n",
    "print(\"/n\") \n",
    "print(\"the value of x after swapping: \",x)\n",
    "print(\"the value of y after swapping: \",y)"
   ]
  },
  {
   "cell_type": "markdown",
   "id": "dc70c26f",
   "metadata": {},
   "source": [
    "### 2.Create a program that calculates the area of a rectangle. Take the length andwidth as inputs from the user and store them in variables. Calculate anddisplay the area."
   ]
  },
  {
   "cell_type": "code",
   "execution_count": 2,
   "id": "733ef267",
   "metadata": {},
   "outputs": [
    {
     "name": "stdout",
     "output_type": "stream",
     "text": [
      "Enter the length of the rectangle: 10\n",
      "Enter the width of the rectangle: 23\n",
      "\n",
      "\n",
      "The area of the rectangle is: 230.0\n"
     ]
    }
   ],
   "source": [
    "# taking the length and width from the user\n",
    "length = float(input(\"Enter the length of the rectangle : \")) \n",
    "width = float(input(\"Enter the width of the rectangle : \"))\n",
    "\n",
    "# Calculating the area of rectangle\n",
    "# formula for calculating area of rectangle is length*width\n",
    "area = length * width  \n",
    "print(\"\\n\")\n",
    "# Displaying  the area of rectangle\n",
    "print(\"The area of the rectangle is :\", area)\n"
   ]
  },
  {
   "cell_type": "markdown",
   "id": "b38d7ff1",
   "metadata": {},
   "source": [
    "### 3. Write a Python program that converts temperatures from Celsius toFahrenheit. Take the temperature in Celsius as input, store it in a variable,convert it to Fahrenheit, and display the result."
   ]
  },
  {
   "cell_type": "code",
   "execution_count": 3,
   "id": "4b120e99",
   "metadata": {},
   "outputs": [
    {
     "name": "stdout",
     "output_type": "stream",
     "text": [
      "Enter the temperature in Celsius: 100\n",
      "The temperature in Fahrenheit is: 212.0\n"
     ]
    }
   ],
   "source": [
    "# taking user input using input function and type casting into float\n",
    "# taking celsius temperature \n",
    "celsius = float(input(\"Enter the temperature in Celsius: \"))\n",
    "\n",
    "# Converting  Celsius into Fahrenheit temperature\n",
    "fahrenheit = (celsius * 9/5) + 32\n",
    "\n",
    "# printing the converted temperature in fahrenheit\n",
    "print(\"The temperature in Fahrenheit is:\", fahrenheit)\n"
   ]
  },
  {
   "cell_type": "markdown",
   "id": "47607fc6",
   "metadata": {},
   "source": [
    "## TOPIC: String Based Questions"
   ]
  },
  {
   "cell_type": "markdown",
   "id": "83810859",
   "metadata": {},
   "source": [
    "### 1. Write a Python program that takes a string as input and prints the length of the string."
   ]
  },
  {
   "cell_type": "code",
   "execution_count": 4,
   "id": "a6ac7a11",
   "metadata": {},
   "outputs": [
    {
     "name": "stdout",
     "output_type": "stream",
     "text": [
      "enter the string to find the length of it: asdfghjkl;\n",
      "length of given string is:\n",
      "10\n"
     ]
    }
   ],
   "source": [
    "#taking user input using input function\n",
    "string1=input(\"enter the string to find the length of it: \")\n",
    "# using length function to calculate length of given string\n",
    "print(\"length of given string is:\")\n",
    "print(len(string1))"
   ]
  },
  {
   "cell_type": "markdown",
   "id": "aa6fa582",
   "metadata": {},
   "source": [
    "### 2. Create a program that takes a sentence from the user and counts the number of vowels (a, e, i, o, u) in the string."
   ]
  },
  {
   "cell_type": "code",
   "execution_count": 5,
   "id": "b9ac853b",
   "metadata": {},
   "outputs": [
    {
     "name": "stdout",
     "output_type": "stream",
     "text": [
      "enter the string : iam vishal\n",
      "no of vowels are :  4\n"
     ]
    }
   ],
   "source": [
    "# taking string from user to find no of vowels\n",
    "string2=input(\"enter the string : \")\n",
    "# declaring count value to zero \n",
    "count=0\n",
    "vowels=\"aeiou\" #declaring set of vowels \n",
    "# using for loop to access every index in string\n",
    "for vowel in string2:\n",
    "    if vowel in vowels:\n",
    "#         if vowel is present in index of string then incrementing count value\n",
    "        count=count+1\n",
    "# printing final  value present in count variable    \n",
    "print(\"no of vowels are : \",count)"
   ]
  },
  {
   "cell_type": "markdown",
   "id": "327ffac2",
   "metadata": {},
   "source": [
    "### 3. Given a string, reverse the order of characters using string slicing and print the reversed string."
   ]
  },
  {
   "cell_type": "code",
   "execution_count": 6,
   "id": "0925b273",
   "metadata": {},
   "outputs": [
    {
     "name": "stdout",
     "output_type": "stream",
     "text": [
      "before  string reverse:   Hello_pwskills\n",
      "after string reverse:   sllikswp_olleH\n"
     ]
    }
   ],
   "source": [
    "# declaring given string to string3\n",
    "string3 = \"Hello_pwskills\" \n",
    "# taking reversed_string variable to reverse a string using string slicing \n",
    "reversed_string = string3[::-1]\n",
    "# printing before and after string values\n",
    "print(\"before  string reverse:  \", string3)\n",
    "print(\"after string reverse:  \", reversed_string)\n"
   ]
  },
  {
   "cell_type": "markdown",
   "id": "46a63dd5",
   "metadata": {},
   "source": [
    "### 4. Write a program that takes a string as input and checks if it is a palindrome(reads the same forwards and backwards)."
   ]
  },
  {
   "cell_type": "code",
   "execution_count": 7,
   "id": "58a0e1be",
   "metadata": {},
   "outputs": [
    {
     "name": "stdout",
     "output_type": "stream",
     "text": [
      "enter your string: dad\n",
      "given string is palindrome: \n"
     ]
    }
   ],
   "source": [
    "string4=input(\"enter your string: \")\n",
    "reversed_string=string4[::-1]\n",
    "if(string4==reversed_string):\n",
    "    print(\"given string is palindrome: \")\n",
    "else:\n",
    "    print(\"given string is not a palindrome\")"
   ]
  },
  {
   "cell_type": "markdown",
   "id": "5bfabfdb",
   "metadata": {},
   "source": [
    "### 5. Create a program that takes a string as input and removes all the spaces fromit. Print the modified string without spaces."
   ]
  },
  {
   "cell_type": "code",
   "execution_count": 8,
   "id": "4f822808",
   "metadata": {},
   "outputs": [
    {
     "name": "stdout",
     "output_type": "stream",
     "text": [
      "enter the string: this is pwskills\n",
      "thisispwskills\n"
     ]
    }
   ],
   "source": [
    "# taking string from user to store in string5 variable \n",
    "string5 =input(\"enter the string: \") \n",
    "\n",
    "# using replace function which replace spaces \n",
    "no_space_string = string5.replace(\" \", \"\")\n",
    "\n",
    "# printing modified string without spaces\n",
    "print(no_space_string)\n"
   ]
  }
 ],
 "metadata": {
  "kernelspec": {
   "display_name": "Python 3 (ipykernel)",
   "language": "python",
   "name": "python3"
  },
  "language_info": {
   "codemirror_mode": {
    "name": "ipython",
    "version": 3
   },
   "file_extension": ".py",
   "mimetype": "text/x-python",
   "name": "python",
   "nbconvert_exporter": "python",
   "pygments_lexer": "ipython3",
   "version": "3.10.5"
  }
 },
 "nbformat": 4,
 "nbformat_minor": 5
}
