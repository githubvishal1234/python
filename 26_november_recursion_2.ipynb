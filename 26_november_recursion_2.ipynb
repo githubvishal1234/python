{
 "cells": [
  {
   "cell_type": "markdown",
   "id": "60a66d20",
   "metadata": {},
   "source": [
    "### Assignment"
   ]
  },
  {
   "cell_type": "markdown",
   "id": "5bc37ee4",
   "metadata": {},
   "source": [
    "### 1. Find the value of T(2) for the recurrence relation T(n) = 3T(n-1) + 12n, given that T(0)=5."
   ]
  },
  {
   "cell_type": "markdown",
   "id": "5b81d319",
   "metadata": {},
   "source": [
    "The given recurrence relation is T(n) = 3T(n-1) + 12n with an initial condition T(0) = 5. To find the value of T(2), we'll use the recurrence relation and work our way up to (T(2) based on the given initial condition.\n",
    "\n",
    "Given T(0) = 5:\n",
    "First, let's find T(1) using the recurrence relation:\n",
    "\n",
    "T(1) = 3T(0) + 12 x 1 = 3 x 5 + 12 = 15 + 12 = 27  \n",
    "\n",
    "Now, using T(1), let's find T(2):\n",
    "\n",
    "T(2) = 3T(1) + 12 x 2 = 3 x 27 + 12 x 2 = 81 + 24 = 105\n",
    "\n",
    "Therefore, the value of T(2) for the given recurrence relation with T(0) = 5 is 105."
   ]
  },
  {
   "cell_type": "markdown",
   "id": "64b574f0",
   "metadata": {},
   "source": [
    "### 2. Given a recurrence relation, solve it using the substitution method:"
   ]
  },
  {
   "cell_type": "markdown",
   "id": "2aa19307",
   "metadata": {},
   "source": [
    "a.T(n) = T(n-1) + c       \n",
    "b.T(n) = 2T(n/2) + n          \n",
    "c.T(n) = 2T(n/2) + c                         \n",
    "d.T(n) = T(n/2) + c              "
   ]
  },
  {
   "cell_type": "markdown",
   "id": "51c5422a",
   "metadata": {},
   "source": [
    "a. T(n)=T(n-1)+c\n",
    "\n",
    "Given this recurrence relation, let's guess the solution \n",
    "T(n)=An+B:\n",
    "\n",
    "Substitute this into the relation: \n",
    "An+B=A(n−1)+B+c\n",
    "\n",
    "Simplify the equation: \n",
    "An+B=An−A+B+c\n",
    "\n",
    "From this, we see that \n",
    "\n",
    "A=1 and \n",
    "c=−A. Therefore, \n",
    "\n",
    "A=1 and B can be any constant. The solution is \n",
    "\n",
    "T(n)=n+B, where B is a constant."
   ]
  },
  {
   "cell_type": "markdown",
   "id": "f0ee0961",
   "metadata": {},
   "source": [
    "b. T(n)=2T(n/2)+n\n",
    "\n",
    "Guess the solution: \n",
    "T(n)=Anlogn+Bn\n",
    "\n",
    "Substitute into the relation: \n",
    "Anlogn+Bn=2A(n/2)log(n/2)+2B(n/2)+n\n",
    "\n",
    "Simplify the equation and solve for A and B. After solving, you will get A=2 and \n",
    "B=0. Therefore, the solution is \n",
    "T(n)=2nlogn."
   ]
  },
  {
   "cell_type": "markdown",
   "id": "c13487b8",
   "metadata": {},
   "source": [
    "c. T(n)=2T(n/2)+c\n",
    "\n",
    "Guess the solution: \n",
    "\n",
    "T(n)=An+B\n",
    "\n",
    "Substitute into the relation: \n",
    "An+B=2A(n/2)+2B+c\n",
    "\n",
    "Simplify the equation: \n",
    "An+B=An+2B+c\n",
    "\n",
    "From this, we see that \n",
    "B=−c. Therefore, the solution is \n",
    "\n",
    "T(n)=An−c, where\n",
    "A can be any constant."
   ]
  },
  {
   "cell_type": "markdown",
   "id": "4cb2b7b5",
   "metadata": {},
   "source": [
    "d.T(n)=T(n/2)+c\n",
    "\n",
    "Guess the solution: \n",
    "T(n)=Ac+B\n",
    "\n",
    "Substitute into the relation: \n",
    "Ac+B=A(n/2)+B+c\n",
    "\n",
    "Simplify the equation: \n",
    "Ac+B=Ac/2+B+c\n",
    "\n",
    "From this, we see that \n",
    "A=1 and B=c. Therefore, the solution is \n",
    "T(n)=c+c=2c."
   ]
  },
  {
   "cell_type": "markdown",
   "id": "d1b5821c",
   "metadata": {},
   "source": [
    "### 3. Given a recurrence relation, solve it using the recursive tree approach:"
   ]
  },
  {
   "cell_type": "markdown",
   "id": "32b1c48f",
   "metadata": {},
   "source": [
    "a. T(n) = 2T(n-1) +1                       \n",
    "b. T(n) = 2T(n/2) + n                   "
   ]
  },
  {
   "cell_type": "markdown",
   "id": "25cecde0",
   "metadata": {},
   "source": [
    "a. T(n) = 2T(n-1) +1\n",
    "\n",
    " the given recurrence relation \n",
    "T(n)=2T(n−1)+1, let's use the recursive tree approach to analyze the pattern and find a solution.\n",
    "\n",
    "The recursive tree for the recurrence relation\n",
    "T(n)=2T(n−1)+1 will look like this:"
   ]
  },
  {
   "cell_type": "markdown",
   "id": "c4827b70",
   "metadata": {},
   "source": [
    "T(n)                                   \n",
    "|\n",
    "2T(n-1) + 1                         \n",
    "|\n",
    "2[2T(n-2) + 1] + 1                     \n",
    "|\n",
    "2[2[2T(n-3) + 1] + 1] + 1                 \n",
    "| \n",
    "..."
   ]
  },
  {
   "cell_type": "markdown",
   "id": "4a657f55",
   "metadata": {},
   "source": [
    "Observing the pattern in the tree:\n",
    "\n",
    "At each level of recursion:\n",
    "\n",
    "There's a multiplication by 2 indicating the exponentiation of 2 (since 2^kis a common pattern in such recursive calls).\n",
    "There's an addition of 1 at each level.\n",
    "Hence, based on the observed pattern, it seems that the solution for T(n) follows an exponential growth in powers of\n",
    "2 and has a linear growth with respect to the number of levels.\n",
    "\n",
    "Now, let's consider the base case \n",
    "T(1):T(1)=2^0+1=1+1=2\n",
    "\n",
    "This indicates that the base case value of T(1) is 2\n",
    "\n",
    "Therefore, based on the recursive tree pattern and the base case value, the solution for the recurrence relation \n",
    "T(n)=2T(n−1)+1 using the recursive tree approach is:\n",
    "T(n)=2^n +1−1\n",
    "\n",
    "Simplifying this expression gives:\n",
    "T(n)=2^n\n",
    " \n",
    "\n",
    "Hence, the solution for the given recurrence relation \n",
    "T(n)=2T(n−1)+1 using the recursive tree approach is \n",
    "\n",
    "T(n)=2^n."
   ]
  },
  {
   "cell_type": "markdown",
   "id": "b8acd118",
   "metadata": {},
   "source": [
    "b. T(n) = 2T(n/2) + n"
   ]
  },
  {
   "cell_type": "markdown",
   "id": "f2fb2782",
   "metadata": {},
   "source": [
    "the given recurrence relation T(n)=2T(n/2)+n, let's use the recursive tree approach to understand the pattern and find a solution.\n",
    "\n",
    "The recursive tree for the recurrence relation \n",
    "T(n)=2T(n/2)+n will look like this:"
   ]
  },
  {
   "cell_type": "markdown",
   "id": "b28e496e",
   "metadata": {},
   "source": [
    "T(n)                    \n",
    "|\n",
    "2T(n/2) + n                      \n",
    "|\n",
    "2[2T(n/4) + n/2] + n                           \n",
    "| \n",
    "2[2[2T(n/8) + n/4] + n/2] + n               \n",
    "|\n",
    "..."
   ]
  },
  {
   "cell_type": "markdown",
   "id": "cbbc30bc",
   "metadata": {},
   "source": [
    "At each level, there is a contribution of n to the total sum. Since the value of \n",
    "n gets halved in each recursive call and there's an addition of n at each level, the total contribution from all levels can be analyzed as follows:\n",
    "\n",
    "Level 1: n\n",
    "\n",
    "Level 2: n/2+n/2=n\n",
    "\n",
    "Level 3: n/4+n/4+n/4+n/4=n\n",
    "...."
   ]
  },
  {
   "cell_type": "markdown",
   "id": "4a571d86",
   "metadata": {},
   "source": [
    "Hence, for each level in the tree, the total sum of n remains n. Since the number of levels depends on how many times n can be halved until it reaches the base case (where \n",
    "n becomes 1), it will take logn levels to reach the base case.\n",
    "\n",
    "Therefore, considering the contribution of n at each level over logn levels:\n",
    "T(n)=nlogn\n",
    "\n",
    "Thus, the solution for the given recurrence relation \n",
    "T(n)=2T(n/2)+n using the recursive tree approach is\n",
    "T(n)=nlogn."
   ]
  }
 ],
 "metadata": {
  "kernelspec": {
   "display_name": "Python 3 (ipykernel)",
   "language": "python",
   "name": "python3"
  },
  "language_info": {
   "codemirror_mode": {
    "name": "ipython",
    "version": 3
   },
   "file_extension": ".py",
   "mimetype": "text/x-python",
   "name": "python",
   "nbconvert_exporter": "python",
   "pygments_lexer": "ipython3",
   "version": "3.10.5"
  }
 },
 "nbformat": 4,
 "nbformat_minor": 5
}
