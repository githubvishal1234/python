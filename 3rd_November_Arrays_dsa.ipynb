{
 "cells": [
  {
   "cell_type": "markdown",
   "id": "1355e298",
   "metadata": {},
   "source": [
    "### 1. Given an array, check if it contains any duplicates or not."
   ]
  },
  {
   "cell_type": "code",
   "execution_count": 15,
   "id": "21ba0e7d",
   "metadata": {},
   "outputs": [
    {
     "name": "stdout",
     "output_type": "stream",
     "text": [
      "False\n",
      "True\n"
     ]
    }
   ],
   "source": [
    "def arr(n):       #creating function to take array\n",
    "    set1=set()      #creating set for tracking  \n",
    "    for i in n:  \n",
    "        if i in set1:\n",
    "            return True  #returns true if duplicate value is present \n",
    "        else:\n",
    "            set1.add(i)  # adds i value to set1 if number is not present in set1  \n",
    "    return False         #returns false if duplicate value is not present\n",
    "list1=[1,2,3,4,5,6] \n",
    "list2=[1,2,3,4,5,5]  \n",
    "print(arr(list1))   #prints false because no duplicate value in array\n",
    "print(arr(list2))   #prints true because duplicate value is present in array"
   ]
  },
  {
   "cell_type": "markdown",
   "id": "fadf7898",
   "metadata": {},
   "source": [
    "### 2. Given an array and an integer k, rotate the array to the right by k steps."
   ]
  },
  {
   "cell_type": "code",
   "execution_count": 38,
   "id": "310e0f0e",
   "metadata": {},
   "outputs": [
    {
     "name": "stdout",
     "output_type": "stream",
     "text": [
      "enter k value: 2\n",
      "[6, 7, 1, 2, 3, 4, 5]\n"
     ]
    }
   ],
   "source": [
    "def rotate_arr(nums, k):\n",
    "    if not nums:\n",
    "        return nums                                      \n",
    "    # rotating  the array using slicing\n",
    "    nums[:] = nums[-k:] + nums[:-k]\n",
    "arr2 = [1, 2, 3, 4, 5, 6, 7]\n",
    "k_steps = int(input(\"enter k value: \"))\n",
    "rotate_arr(arr2, k_steps)\n",
    "print(my_array)  "
   ]
  },
  {
   "cell_type": "markdown",
   "id": "b23e36d1",
   "metadata": {},
   "source": [
    "### 3. Reverse the given array in-place, means without using any extra data structure."
   ]
  },
  {
   "cell_type": "code",
   "execution_count": 1,
   "id": "331e07bb",
   "metadata": {},
   "outputs": [
    {
     "name": "stdout",
     "output_type": "stream",
     "text": [
      "[5, 4, 3, 2, 1]\n"
     ]
    }
   ],
   "source": [
    "def arr3(arr):   #creating array function\n",
    "    length = len(arr)\n",
    "    for i in range(length // 2):\n",
    "        # swaping  elements at opposite ends\n",
    "        arr[i], arr[length - i - 1] = arr[length - i - 1], arr[i]\n",
    "my_array = [1, 2, 3, 4, 5]   #taking array\n",
    "arr3(my_array)\n",
    "print(my_array)  #printing after reversing"
   ]
  },
  {
   "cell_type": "markdown",
   "id": "1339148b",
   "metadata": {},
   "source": [
    "### 4. Given an array of integers, find the maximum element in an array"
   ]
  },
  {
   "cell_type": "code",
   "execution_count": 2,
   "id": "ad0fa953",
   "metadata": {},
   "outputs": [
    {
     "name": "stdout",
     "output_type": "stream",
     "text": [
      "maximum element: 9\n"
     ]
    }
   ],
   "source": [
    "def find_max(arr):\n",
    "    if not arr:  # handle empty array case\n",
    "        return None\n",
    "    max_element = arr[0]  # initialize the maximum element as the first element\n",
    "    for num in arr:\n",
    "        if num > max_element:\n",
    "            max_element = num  # update the maximum element if a larger number is found\n",
    "    return max_element\n",
    "\n",
    "my_array = [3, 7, 2, 9, 5]  #taking example array\n",
    "maximum = find_max(my_array)\n",
    "print(\"maximum element:\", maximum)  #printing output"
   ]
  },
  {
   "cell_type": "markdown",
   "id": "8923054d",
   "metadata": {},
   "source": [
    "### 5. Given a sorted array, remove the duplicate element without using any extra data structure."
   ]
  },
  {
   "cell_type": "code",
   "execution_count": 5,
   "id": "b89ff1b0",
   "metadata": {},
   "outputs": [
    {
     "name": "stdout",
     "output_type": "stream",
     "text": [
      "array after removing duplicates: [1, 2, 3, 4, 5]\n"
     ]
    }
   ],
   "source": [
    "def remove_dup(arr):\n",
    "    if not arr:  # handling empty array case\n",
    "        return 0\n",
    "\n",
    "    unique_index = 0  # index to track the last unique element\n",
    "\n",
    "    for i in range(1, len(arr)):\n",
    "        if arr[i] != arr[unique_index]:\n",
    "            unique_index += 1\n",
    "            arr[unique_index] = arr[i]\n",
    "\n",
    "    # truncate the array after unique elements\n",
    "    del arr[unique_index + 1:]\n",
    "    return unique_index + 1  # length of the array without duplicates\n",
    "\n",
    "# Example usage:\n",
    "arr5 = [1, 1, 2, 2, 2, 3, 4, 4, 5]\n",
    "new_length = remove_dup(arr5)\n",
    "print(\"array after removing duplicates:\", arr5[:new_length])"
   ]
  }
 ],
 "metadata": {
  "kernelspec": {
   "display_name": "Python 3 (ipykernel)",
   "language": "python",
   "name": "python3"
  },
  "language_info": {
   "codemirror_mode": {
    "name": "ipython",
    "version": 3
   },
   "file_extension": ".py",
   "mimetype": "text/x-python",
   "name": "python",
   "nbconvert_exporter": "python",
   "pygments_lexer": "ipython3",
   "version": "3.10.5"
  }
 },
 "nbformat": 4,
 "nbformat_minor": 5
}
