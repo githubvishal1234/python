{
 "cells": [
  {
   "cell_type": "markdown",
   "id": "d0fd6e6f",
   "metadata": {},
   "source": [
    "## Advance Python Project Assignment:"
   ]
  },
  {
   "cell_type": "markdown",
   "id": "e13938bb",
   "metadata": {},
   "source": [
    "### 1. Build a Flask app that scrapes data from multiple websites and displays it on your site.You can try to scrap websites like youtube , amazon and show data on output pages and deploy it on cloud platform ."
   ]
  },
  {
   "cell_type": "code",
   "execution_count": null,
   "id": "9479d024",
   "metadata": {},
   "outputs": [],
   "source": [
    "from flask import Flask, render_template\n",
    "import requests\n",
    "from bs4 import BeautifulSoup\n",
    "\n",
    "app = Flask(__name__)\n",
    "\n",
    "def scrape_wikipedia():\n",
    "    url = 'https://en.wikipedia.org/wiki/Main_Page'\n",
    "    response = requests.get(url)\n",
    "    if response.status_code == 200:\n",
    "        soup = BeautifulSoup(response.content, 'html.parser')\n",
    "        # Scraping Wikipedia's featured article title and content as an example\n",
    "        title = soup.find('h2', id='mp-tfa-h2').text.strip()\n",
    "        content = soup.find('div', id='mp-tfa').find('p').text.strip()\n",
    "        return {'title': title, 'content': content}\n",
    "    else:\n",
    "        return None\n",
    "\n",
    "@app.route('/')\n",
    "def index():\n",
    "    data = scrape_wikipedia()\n",
    "    return render_template('index.html', data=data)\n",
    "\n",
    "if __name__ == '__main__':\n",
    "    app.run(debug=True)\n"
   ]
  },
  {
   "cell_type": "markdown",
   "id": "09657b58",
   "metadata": {},
   "source": [
    "Create an index.html file within a templates folder to display the scraped data:"
   ]
  },
  {
   "cell_type": "raw",
   "id": "8d4d6e0f",
   "metadata": {},
   "source": [
    "<!DOCTYPE html>\n",
    "<html lang=\"en\">\n",
    "<head>\n",
    "    <meta charset=\"UTF-8\">\n",
    "    <title>Scraped Data</title>\n",
    "</head>\n",
    "<body>\n",
    "    <h1>Scraped Data from Wikipedia</h1>\n",
    "    {% if data %}\n",
    "        <h2>{{ data.title }}</h2>\n",
    "        <p>{{ data.content }}</p>\n",
    "    {% else %}\n",
    "        <p>No data available</p>\n",
    "    {% endif %}\n",
    "</body>\n",
    "</html>"
   ]
  },
  {
   "cell_type": "markdown",
   "id": "26a735b6",
   "metadata": {},
   "source": [
    "### 2. Create a Flask app that consumes data from external APIs and displays it to users. Try to find an public API which will give you a data and based on that call it and deploy it on cloud platform"
   ]
  },
  {
   "cell_type": "code",
   "execution_count": null,
   "id": "28f44cb6",
   "metadata": {},
   "outputs": [],
   "source": [
    "from flask import Flask, render_template\n",
    "import requests\n",
    "\n",
    "app = Flask(__name__)\n",
    "\n",
    "def get_random_joke():\n",
    "    url = 'https://api.chucknorris.io/jokes/random'\n",
    "    response = requests.get(url)\n",
    "    if response.status_code == 200:\n",
    "        data = response.json()\n",
    "        return data.get('value')\n",
    "    else:\n",
    "        return None\n",
    "\n",
    "@app.route('/')\n",
    "def index():\n",
    "    joke = get_random_joke()\n",
    "    return render_template('index.html', joke=joke)\n",
    "\n",
    "if __name__ == '__main__':\n",
    "    app.run(debug=True)\n"
   ]
  },
  {
   "cell_type": "markdown",
   "id": "441df703",
   "metadata": {},
   "source": [
    "Create an index.html file within a templates folder to display the fetched Chuck Norris joke:"
   ]
  },
  {
   "cell_type": "raw",
   "id": "16164da1",
   "metadata": {},
   "source": [
    "<!DOCTYPE html>\n",
    "<html lang=\"en\">\n",
    "<head>\n",
    "    <meta charset=\"UTF-8\">\n",
    "    <title>Chuck Norris Jokes</title>\n",
    "</head>\n",
    "<body>\n",
    "    <h1>Chuck Norris Joke</h1>\n",
    "    {% if joke %}\n",
    "        <p>{{ joke }}</p>\n",
    "    {% else %}\n",
    "        <p>No joke available</p>\n",
    "    {% endif %}\n",
    "</body>\n",
    "</html>\n"
   ]
  },
  {
   "cell_type": "markdown",
   "id": "422c7e87",
   "metadata": {},
   "source": [
    "### 3. Implement OAuth2 authentication to allow users to log in using their Google or Facebook accounts."
   ]
  },
  {
   "cell_type": "markdown",
   "id": "549f4f83",
   "metadata": {},
   "source": [
    "facebook account"
   ]
  },
  {
   "cell_type": "code",
   "execution_count": null,
   "id": "3dc7f162",
   "metadata": {},
   "outputs": [],
   "source": [
    "from flask import Flask, redirect, url_for, session\n",
    "from flask_oauthlib.client import OAuth\n",
    "\n",
    "app = Flask(__name__)\n",
    "app.secret_key = 'your_secret_key_here'\n",
    "\n",
    "# Configuration for Facebook OAuth2\n",
    "app.config['FACEBOOK_ID'] = 'your_facebook_app_id'\n",
    "app.config['FACEBOOK_SECRET'] = 'your_facebook_app_secret'\n",
    "app.config['FACEBOOK_REDIRECT_URI'] = 'http://localhost:5000/facebook/callback'\n",
    "\n",
    "oauth = OAuth(app)\n",
    "facebook = oauth.remote_app(\n",
    "    'facebook',\n",
    "    consumer_key=app.config['FACEBOOK_ID'],\n",
    "    consumer_secret=app.config['FACEBOOK_SECRET'],\n",
    "    request_token_params={'scope': 'email'},\n",
    "    base_url='https://graph.facebook.com/',\n",
    "    request_token_url=None,\n",
    "    access_token_method='POST',\n",
    "    access_token_url='/oauth/access_token',\n",
    "    authorize_url='https://www.facebook.com/dialog/oauth',\n",
    ")\n",
    "\n",
    "@app.route('/')\n",
    "def index():\n",
    "    return 'Welcome! <a href=\"/facebook/login\">Login with Facebook</a>'\n",
    "\n",
    "@app.route('/facebook/login')\n",
    "def facebook_login():\n",
    "    return facebook.authorize(callback=url_for('facebook_authorized', _external=True))\n",
    "\n",
    "@app.route('/facebook/callback')\n",
    "def facebook_authorized():\n",
    "    resp = facebook.authorized_response()\n",
    "    if resp is None or 'access_token' not in resp:\n",
    "        return 'Access denied: reason={}, error={}'.format(\n",
    "            request.args['error_reason'],\n",
    "            request.args['error_description']\n",
    "        )\n",
    "    \n",
    "    session['facebook_token'] = (resp['access_token'], '')\n",
    "    user_info = facebook.get('/me?fields=email')\n",
    "    return 'Logged in as: {}'.format(user_info.data['email'])\n",
    "\n",
    "@facebook.tokengetter\n",
    "def get_facebook_oauth_token():\n",
    "    return session.get('facebook_token')\n",
    "\n",
    "if __name__ == '__main__':\n",
    "    app.run(debug=True)\n"
   ]
  },
  {
   "cell_type": "markdown",
   "id": "f1f0d83b",
   "metadata": {},
   "source": [
    "google account"
   ]
  },
  {
   "cell_type": "code",
   "execution_count": null,
   "id": "691f2c60",
   "metadata": {},
   "outputs": [],
   "source": [
    "from flask import Flask, redirect, url_for, session\n",
    "from flask_oauthlib.client import OAuth\n",
    "\n",
    "app = Flask(__name__)\n",
    "app.secret_key = 'your_secret_key_here'\n",
    "\n",
    "# Configuration for Google OAuth2\n",
    "app.config['GOOGLE_ID'] = 'your_google_client_id'\n",
    "app.config['GOOGLE_SECRET'] = 'your_google_client_secret'\n",
    "app.config['GOOGLE_REDIRECT_URI'] = 'http://localhost:5000/google/callback'\n",
    "\n",
    "oauth = OAuth(app)\n",
    "google = oauth.remote_app(\n",
    "    'google',\n",
    "    consumer_key=app.config['GOOGLE_ID'],\n",
    "    consumer_secret=app.config['GOOGLE_SECRET'],\n",
    "    request_token_params={\n",
    "        'scope': 'email'\n",
    "    },\n",
    "    base_url='https://www.googleapis.com/oauth2/v1/',\n",
    "    request_token_url=None,\n",
    "    access_token_method='POST',\n",
    "    access_token_url='https://accounts.google.com/o/oauth2/token',\n",
    "    authorize_url='https://accounts.google.com/o/oauth2/auth',\n",
    ")\n",
    "\n",
    "@app.route('/')\n",
    "def index():\n",
    "    return 'Welcome! <a href=\"/google/login\">Login with Google</a>'\n",
    "\n",
    "@app.route('/google/login')\n",
    "def google_login():\n",
    "    return google.authorize(callback=url_for('google_authorized', _external=True))\n",
    "\n",
    "@app.route('/google/callback')\n",
    "def google_authorized():\n",
    "    resp = google.authorized_response()\n",
    "    if resp is None or resp.get('access_token') is None:\n",
    "        return 'Access denied: reason={}, error={}'.format(\n",
    "            request.args['error_reason'],\n",
    "            request.args['error_description']\n",
    "        )\n",
    "    \n",
    "    session['google_token'] = (resp['access_token'], '')\n",
    "    user_info = google.get('userinfo')\n",
    "    return 'Logged in as: {}'.format(user_info.data['email'])\n",
    "\n",
    "@google.tokengetter\n",
    "def get_google_oauth_token():\n",
    "    return session.get('google_token')\n",
    "\n",
    "if __name__ == '__main__':\n",
    "    app.run(debug=True)\n"
   ]
  },
  {
   "cell_type": "markdown",
   "id": "9a91d64d",
   "metadata": {},
   "source": [
    "### 4. Develop a recommendation system using Flask that suggests content to users based on their preferences."
   ]
  },
  {
   "cell_type": "markdown",
   "id": "35383ff3",
   "metadata": {},
   "source": [
    " Creating a Flask app that recommends movies based on user preferences:"
   ]
  },
  {
   "cell_type": "code",
   "execution_count": null,
   "id": "89c48e13",
   "metadata": {},
   "outputs": [],
   "source": [
    "from flask import Flask, request, jsonify\n",
    "\n",
    "app = Flask(__name__)\n",
    "\n",
    "# Movie data - dictionary of movies and their genres\n",
    "movie_data = {\n",
    "    'movie1': ['Action', 'Adventure', 'Sci-Fi'],\n",
    "    'movie2': ['Drama', 'Romance'],\n",
    "    'movie3': ['Comedy', 'Romance'],\n",
    "    # Add more movies with their genres\n",
    "}\n",
    "\n",
    "# Dummy user preferences (for demonstration)\n",
    "user_preferences = ['Action', 'Sci-Fi']\n",
    "\n",
    "@app.route('/recommend', methods=['GET'])\n",
    "def recommend_movies():\n",
    "    recommended_movies = []\n",
    "    for movie, genres in movie_data.items():\n",
    "        # Calculate similarity score based on genres\n",
    "        similarity_score = len(set(user_preferences) & set(genres)) / float(len(user_preferences))\n",
    "        if similarity_score > 0.5:  # Set a threshold for recommendation\n",
    "            recommended_movies.append(movie)\n",
    "\n",
    "    return jsonify({'recommended_movies': recommended_movies})\n",
    "\n",
    "if __name__ == '__main__':\n",
    "    app.run(debug=True)\n"
   ]
  }
 ],
 "metadata": {
  "kernelspec": {
   "display_name": "Python 3 (ipykernel)",
   "language": "python",
   "name": "python3"
  },
  "language_info": {
   "codemirror_mode": {
    "name": "ipython",
    "version": 3
   },
   "file_extension": ".py",
   "mimetype": "text/x-python",
   "name": "python",
   "nbconvert_exporter": "python",
   "pygments_lexer": "ipython3",
   "version": "3.10.5"
  }
 },
 "nbformat": 4,
 "nbformat_minor": 5
}
