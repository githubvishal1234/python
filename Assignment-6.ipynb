{
 "cells": [
  {
   "cell_type": "markdown",
   "id": "0a78c70b",
   "metadata": {},
   "source": [
    "### Problem 1: Bank Account Create a class representing a bank account with attributes like account number, account holder name, and balance. Implement methods to deposit and withdraw money from the account."
   ]
  },
  {
   "cell_type": "code",
   "execution_count": 1,
   "id": "9214b588",
   "metadata": {},
   "outputs": [
    {
     "name": "stdout",
     "output_type": "stream",
     "text": [
      "\n",
      "welcome to vishal bank\n",
      "1.)deposit\n",
      "2.)withdraw\n",
      "3.)printdetails\n",
      "4.)exit\n",
      "choose one option: 1\n",
      "\n",
      "account holder name is vishal\n",
      "depositing the money in bank: \n",
      "enter how much you want to deposit: 1000000\n",
      "your total balance is:  1000000\n",
      "1.)deposit\n",
      "2.)withdraw\n",
      "3.)printdetails\n",
      "4.)exit\n",
      "choose one option: 2\n",
      "\n",
      "account holder name is vishal\n",
      "withdrawing  the money from bank: \n",
      "enter how much you want to withdraw: 500000\n",
      "your total balance is:  500000\n",
      "1.)deposit\n",
      "2.)withdraw\n",
      "3.)printdetails\n",
      "4.)exit\n",
      "choose one option: 1\n",
      "\n",
      "account holder name is vishal\n",
      "depositing the money in bank: \n",
      "enter how much you want to deposit: 1000000\n",
      "your total balance is:  1500000\n",
      "1.)deposit\n",
      "2.)withdraw\n",
      "3.)printdetails\n",
      "4.)exit\n",
      "choose one option: 2\n",
      "\n",
      "account holder name is vishal\n",
      "withdrawing  the money from bank: \n",
      "enter how much you want to withdraw: 100000\n",
      "your total balance is:  1400000\n",
      "1.)deposit\n",
      "2.)withdraw\n",
      "3.)printdetails\n",
      "4.)exit\n",
      "choose one option: 2\n",
      "\n",
      "account holder name is vishal\n",
      "withdrawing  the money from bank: \n",
      "enter how much you want to withdraw: 150000000\n",
      "your bank balance is insufficient for withdrawing\n",
      "1.)deposit\n",
      "2.)withdraw\n",
      "3.)printdetails\n",
      "4.)exit\n",
      "choose one option: 3\n",
      "\n",
      "name of the customer is : vishal\n",
      "account number of the customer is: 1200\n",
      "current balance is: 1400000\n",
      "1.)deposit\n",
      "2.)withdraw\n",
      "3.)printdetails\n",
      "4.)exit\n",
      "choose one option: 4\n",
      "thank you visit again\n"
     ]
    }
   ],
   "source": [
    "class Bank_account:\n",
    "    def __init__(self,name,accno):\n",
    "        self.name=name\n",
    "        self.accno=accno\n",
    "        self.totalbal=0\n",
    "        \n",
    "    def deposit(self):               #creating deposit function to deposit customers amount\n",
    "        print(f\"\\naccount holder name is {self.name}\")\n",
    "        print(\"depositing the money in bank: \")\n",
    "        amount=int(input(\"enter how much you want to deposit: \"))\n",
    "        self.totalbal+=amount\n",
    "        print(\"your total balance is: \",self.totalbal)\n",
    "\n",
    "    def withdraw(self):         #creating withdraw function to withdraw customers amount\n",
    "        print(f\"\\naccount holder name is { self.name}\")\n",
    "        print(\"withdrawing  the money from bank: \")\n",
    "        amount=int(input(\"enter how much you want to withdraw: \"))\n",
    "        if amount > self.totalbal:\n",
    "            print(\"your bank balance is insufficient for withdrawing\")\n",
    "\n",
    "        else:\n",
    "            self.totalbal-=amount\n",
    "            print(\"your total balance is: \",self.totalbal)\n",
    "\n",
    "    def printdetails(self):      #creating function for printing details\n",
    "        print(f\"\\nname of the customer is : { self.name}\")\n",
    "        print(f\"account number of the customer is: {self.accno}\")\n",
    "        print(f\"current balance is: {self.totalbal}\")\n",
    "\n",
    "        \n",
    "print(\"\\nwelcome to vishal bank\")        \n",
    "cus1=Bank_account(\"vishal\",1200)\n",
    "while True:\n",
    "    \n",
    "    print(\"1.)deposit\\n2.)withdraw\\n3.)printdetails\\n4.)exit\")\n",
    "    op=int(input(\"choose one option: \"))\n",
    "    \n",
    "    match op:\n",
    "        case 1:\n",
    "            cus1.deposit()\n",
    "        case 2:\n",
    "            cus1.withdraw()\n",
    "        case 3:\n",
    "            cus1.printdetails()\n",
    "    if op==4:\n",
    "        print(\"thank you visit again\")\n",
    "        break"
   ]
  },
  {
   "cell_type": "markdown",
   "id": "2d198d63",
   "metadata": {},
   "source": [
    "### Problem 2: Employee Management Create a class representing an employee with attributes like employee ID, name, and salary. Implement methods to calculate the yearly bonus and display employee details."
   ]
  },
  {
   "cell_type": "code",
   "execution_count": 5,
   "id": "1b92bdfa",
   "metadata": {},
   "outputs": [
    {
     "name": "stdout",
     "output_type": "stream",
     "text": [
      "Employee ID: 101\n",
      "Name: Akash\n",
      "Salary: Rs50000 per year\n",
      "Yearly Bonus: Rs10000.0\n",
      "\n",
      "\n",
      "Employee ID: 102\n",
      "Name: sudh\n",
      "Salary: Rs60000 per year\n",
      "Yearly Bonus: Rs12000.0\n",
      "\n",
      "\n"
     ]
    }
   ],
   "source": [
    "class Employee:\n",
    "    def __init__(self, emp_id, name, salary):\n",
    "        self.emp_id = emp_id\n",
    "        self.name = name\n",
    "        self.salary = salary\n",
    "\n",
    "    def calculate_yearly_bonus(self):\n",
    "        # assuming the bonus is 10% of the salary\n",
    "        bonus_percentage = 0.20\n",
    "        yearly_bonus = self.salary * bonus_percentage\n",
    "        return yearly_bonus\n",
    "\n",
    "    def display_employee_details(self):\n",
    "        print(f\"Employee ID: {self.emp_id}\")\n",
    "        print(f\"Name: {self.name}\")\n",
    "        print(f\"Salary: Rs{self.salary} per year\")\n",
    "        yearly_bonus = self.calculate_yearly_bonus()\n",
    "        print(f\"Yearly Bonus: Rs{yearly_bonus}\")\n",
    "        print(\"\\n\")\n",
    "\n",
    "        \n",
    "emp1 = Employee(101, \"Akash\", 50000)\n",
    "emp2 = Employee(102, \"sudh\", 60000)\n",
    "\n",
    "emp1.display_employee_details()\n",
    "emp2.display_employee_details()"
   ]
  },
  {
   "cell_type": "markdown",
   "id": "dfd2a788",
   "metadata": {},
   "source": [
    "### Problem 3: Vehicle Rental Create a class representing a vehicle rental system. Implement methods to rent a vehicle, return a vehicle, and display available vehicles."
   ]
  },
  {
   "cell_type": "code",
   "execution_count": 6,
   "id": "d0eb136b",
   "metadata": {},
   "outputs": [
    {
     "name": "stdout",
     "output_type": "stream",
     "text": [
      "Available Vehicles:\n",
      "ID: 1, Type: Car\n",
      "ID: 2, Type: Bike\n",
      "ID: 3, Type: Scooter\n",
      "\n",
      "\n",
      "Vehicle 2 rented successfully.\n",
      "Available Vehicles:\n",
      "ID: 1, Type: Car\n",
      "ID: 3, Type: Scooter\n",
      "\n",
      "\n",
      "Vehicle 2 returned successfully.\n",
      "Available Vehicles:\n",
      "ID: 1, Type: Car\n",
      "ID: 3, Type: Scooter\n",
      "ID: 2, Type: Bike\n",
      "\n",
      "\n"
     ]
    }
   ],
   "source": [
    "class VehicleRentalSystem:\n",
    "    def __init__(self):\n",
    "        self.available_vehicles = {}\n",
    "\n",
    "    def add_vehicle(self, vehicle_id, vehicle_type):\n",
    "        self.available_vehicles[vehicle_id] = vehicle_type\n",
    "\n",
    "    def rent_vehicle(self, vehicle_id):\n",
    "        if vehicle_id in self.available_vehicles:\n",
    "            del self.available_vehicles[vehicle_id]\n",
    "            print(f\"Vehicle {vehicle_id} rented successfully.\")\n",
    "        else:\n",
    "            print(f\"Vehicle {vehicle_id} is not available.\")\n",
    "\n",
    "    def return_vehicle(self, vehicle_id, vehicle_type):\n",
    "        if vehicle_id not in self.available_vehicles:\n",
    "            self.available_vehicles[vehicle_id] = vehicle_type\n",
    "            print(f\"Vehicle {vehicle_id} returned successfully.\")\n",
    "        else:\n",
    "            print(f\"Vehicle {vehicle_id} is already available.\")\n",
    "\n",
    "    def display_available_vehicles(self):\n",
    "        print(\"Available Vehicles:\")\n",
    "        for vehicle_id, vehicle_type in self.available_vehicles.items():\n",
    "            print(f\"ID: {vehicle_id}, Type: {vehicle_type}\")\n",
    "        print(\"\\n\")\n",
    "\n",
    "rental_system = VehicleRentalSystem()\n",
    "\n",
    "rental_system.add_vehicle(1, \"Car\")\n",
    "rental_system.add_vehicle(2, \"Bike\")\n",
    "rental_system.add_vehicle(3, \"Scooter\")\n",
    "\n",
    "rental_system.display_available_vehicles()\n",
    "\n",
    "rental_system.rent_vehicle(2)\n",
    "rental_system.display_available_vehicles()\n",
    "\n",
    "rental_system.return_vehicle(2, \"Bike\")\n",
    "rental_system.display_available_vehicles()"
   ]
  },
  {
   "cell_type": "markdown",
   "id": "29dd934d",
   "metadata": {},
   "source": [
    "### Problem 4: Library Catalog Create classes representing a library and a book. Implement methods to add books to the library, borrow books, and display available books."
   ]
  },
  {
   "cell_type": "code",
   "execution_count": 48,
   "id": "be0d1fd1",
   "metadata": {},
   "outputs": [],
   "source": [
    "#creating library catalog using classes\n",
    "class library:\n",
    "    \n",
    "    def __init__(self):\n",
    "        self.available_books=[\"Promised Land-by obama\",\"Rich Dad Poor Dad\",\"Atomic Habits\"]\n",
    "        \n",
    "        \n",
    "        \n",
    "    def add_book(self,book):\n",
    "        print(\"available books in library are: \\n \")\n",
    "        self.available_books.append(book)\n",
    "        for i in self.available_books:\n",
    "            print(i)\n",
    "    \n",
    "    def borrow_book(self,book):\n",
    "        if book in self.available_books:\n",
    "            self.available_books.remove(book)\n",
    "            print(f\"{book} book has been borrowed \\n\")\n",
    "        else:\n",
    "            print(f\"sorry {book} book is not available in libraray \\n\")\n",
    "            \n",
    "        for i in self.available_books:\n",
    "            print(i)\n",
    "            \n",
    "    def display_books(self):\n",
    "        print(\"available books in library are: \\n \")\n",
    "        for i in self.available_books:\n",
    "            print(i)\n",
    "    \n",
    "l1=library()"
   ]
  },
  {
   "cell_type": "code",
   "execution_count": 49,
   "id": "4370f2a3",
   "metadata": {},
   "outputs": [
    {
     "name": "stdout",
     "output_type": "stream",
     "text": [
      "available books in library are: \n",
      " \n",
      "Promised Land-by obama\n",
      "Rich Dad Poor Dad\n",
      "Atomic Habits\n",
      "vishaltheking\n"
     ]
    }
   ],
   "source": [
    "l1.add_book(\"vishaltheking\")"
   ]
  },
  {
   "cell_type": "code",
   "execution_count": 50,
   "id": "b98ed5ea",
   "metadata": {},
   "outputs": [
    {
     "name": "stdout",
     "output_type": "stream",
     "text": [
      "available books in library are: \n",
      " \n",
      "Promised Land-by obama\n",
      "Rich Dad Poor Dad\n",
      "Atomic Habits\n",
      "vishaltheking\n"
     ]
    }
   ],
   "source": [
    "l1.display_books()"
   ]
  },
  {
   "cell_type": "code",
   "execution_count": 51,
   "id": "fe9a1f54",
   "metadata": {},
   "outputs": [
    {
     "name": "stdout",
     "output_type": "stream",
     "text": [
      "vishaltheking book has been borrowed \n",
      "\n",
      "Promised Land-by obama\n",
      "Rich Dad Poor Dad\n",
      "Atomic Habits\n"
     ]
    }
   ],
   "source": [
    "l1.borrow_book(\"vishaltheking\")"
   ]
  },
  {
   "cell_type": "code",
   "execution_count": 52,
   "id": "3009b261",
   "metadata": {},
   "outputs": [
    {
     "name": "stdout",
     "output_type": "stream",
     "text": [
      "available books in library are: \n",
      " \n",
      "Promised Land-by obama\n",
      "Rich Dad Poor Dad\n",
      "Atomic Habits\n"
     ]
    }
   ],
   "source": [
    "l1.display_books()"
   ]
  },
  {
   "cell_type": "markdown",
   "id": "3b7b1634",
   "metadata": {},
   "source": [
    "### Problem 5: Product Inventory Create classes representing a product and an inventory system. Implement methods to add products to the inventory, update product quantity, and display available products."
   ]
  },
  {
   "cell_type": "code",
   "execution_count": 59,
   "id": "e0620ec8",
   "metadata": {},
   "outputs": [
    {
     "name": "stdout",
     "output_type": "stream",
     "text": [
      "Available Products: \n",
      "\n",
      "Laptop - Rs 120000 - Quantity: 10\n",
      "Mouse - Rs 2000 - Quantity: 50\n",
      "\n",
      "\n",
      "Updating quantity... \n",
      "\n",
      "Quantity for Laptop updated to 15.\n",
      "Available Products: \n",
      "\n",
      "Laptop - Rs 120000 - Quantity: 15\n",
      "Mouse - Rs 2000 - Quantity: 50\n"
     ]
    }
   ],
   "source": [
    "# product Inventory Create classes\n",
    "class Product:\n",
    "    def __init__(self, product_id, name, price, quantity):\n",
    "        self.product_id = product_id\n",
    "        self.name = name\n",
    "        self.price = price\n",
    "        self.quantity = quantity\n",
    "\n",
    "    def display(self):\n",
    "        print(f\"{self.name} - Rs {self.price} - Quantity: {self.quantity}\")\n",
    "\n",
    "class Inventory:\n",
    "    def __init__(self):\n",
    "        self.products = []\n",
    "\n",
    "    def add_product(self, product):\n",
    "        self.products.append(product)\n",
    "\n",
    "    def update_quantity(self, product_id, new_quantity):\n",
    "        for product in self.products:\n",
    "            if product.product_id == product_id:\n",
    "                product.quantity = new_quantity\n",
    "                print(f\"Quantity for {product.name} updated to {new_quantity}.\")\n",
    "                return\n",
    "        print(f\"Product with ID {product_id} not found.\")\n",
    "\n",
    "    def display_available_products(self):\n",
    "        print(\"Available Products: \\n\")\n",
    "        for product in self.products:\n",
    "            product.display()\n",
    "\n",
    "\n",
    "# create an instance of the Inventory class\n",
    "inventory_system = Inventory()\n",
    "\n",
    "# add products to the inventory\n",
    "product1 = Product(1, \"Laptop\", 120000, 10)\n",
    "product2 = Product(2, \"Mouse\", 2000, 50)\n",
    "\n",
    "inventory_system.add_product(product1)\n",
    "inventory_system.add_product(product2)\n",
    "\n",
    "# display available products\n",
    "inventory_system.display_available_products()\n",
    "\n",
    "# update quantity for a product\n",
    "print(\"\\n\\nUpdating quantity... \\n\")\n",
    "inventory_system.update_quantity(1, 15)\n",
    "\n",
    "# display available products after update\n",
    "inventory_system.display_available_products()"
   ]
  },
  {
   "cell_type": "markdown",
   "id": "447f585f",
   "metadata": {},
   "source": [
    "### Problem 6: Shape Calculation Create a class representing a shape with attributes like length, width, and height. Implement methods to calculate the area and perimeter of the shape."
   ]
  },
  {
   "cell_type": "code",
   "execution_count": 61,
   "id": "71a6c24a",
   "metadata": {},
   "outputs": [
    {
     "name": "stdout",
     "output_type": "stream",
     "text": [
      "Rectangle Area: 15\n",
      "Rectangle Perimeter: 16\n",
      "\n",
      "\n",
      "Square Area: 16\n",
      "Square Perimeter: 16\n",
      "\n",
      "\n",
      "Triangle Area: 7.5\n",
      "Triangle Perimeter: 12\n"
     ]
    }
   ],
   "source": [
    "#shape calculation using classes\n",
    "class Shape:\n",
    "    def __init__(self, length, width, height=None):\n",
    "        self.length, self.width, self.height = length, width, height\n",
    "\n",
    "    def area(self):\n",
    "        raise NotImplementedError\n",
    "\n",
    "    def perimeter(self):\n",
    "        raise NotImplementedError\n",
    "\n",
    "class Rectangle(Shape):\n",
    "    def area(self):\n",
    "        return self.length * self.width\n",
    "\n",
    "    def perimeter(self):\n",
    "        return 2 * (self.length + self.width)\n",
    "\n",
    "class Square(Rectangle):\n",
    "    def __init__(self, side):\n",
    "        super().__init__(side, side)\n",
    "\n",
    "class Triangle(Shape):\n",
    "    def area(self):\n",
    "        return 0.5 * self.length * self.width\n",
    "\n",
    "    def perimeter(self):\n",
    "        return self.length + self.width + self.height\n",
    "\n",
    "rectangle = Rectangle(length=5, width=3)\n",
    "print(f\"Rectangle Area: {rectangle.area()}\")\n",
    "print(f\"Rectangle Perimeter: {rectangle.perimeter()}\")\n",
    "print(\"\\n\")\n",
    "square = Square(side=4)\n",
    "print(f\"Square Area: {square.area()}\")\n",
    "print(f\"Square Perimeter: {square.perimeter()}\")\n",
    "print(\"\\n\")\n",
    "triangle = Triangle(length=3, width=5, height=4)\n",
    "print(f\"Triangle Area: {triangle.area()}\")\n",
    "print(f\"Triangle Perimeter: {triangle.perimeter()}\")"
   ]
  },
  {
   "cell_type": "markdown",
   "id": "ad988b66",
   "metadata": {},
   "source": [
    "### Problem 7: Student Management Create a class representing a student with attributes like student ID, name, and grades. Implement methods to calculate the average grade and display student details."
   ]
  },
  {
   "cell_type": "code",
   "execution_count": 64,
   "id": "3ec87607",
   "metadata": {},
   "outputs": [
    {
     "name": "stdout",
     "output_type": "stream",
     "text": [
      "Student ID: 1\n",
      "Name: sudhanshu\n",
      "Grades: 85, 90, 92, 88, 78\n",
      "Average Grade: 86.6\n"
     ]
    }
   ],
   "source": [
    "# creating student management using classes\n",
    "class student:\n",
    "    def __init__(self, student_id, name, grades):\n",
    "        self.student_id = student_id\n",
    "        self.name = name\n",
    "        self.grades = grades\n",
    "\n",
    "    def calculate_average_grade(self):\n",
    "        if not self.grades:\n",
    "            return 0\n",
    "        return sum(self.grades) / len(self.grades)\n",
    "\n",
    "    def display_student_details(self):\n",
    "        print(f\"Student ID: {self.student_id}\")\n",
    "        print(f\"Name: {self.name}\")\n",
    "        print(f\"Grades: {', '.join(map(str, self.grades))}\")\n",
    "        print(f\"Average Grade: {self.calculate_average_grade()}\")\n",
    "\n",
    "\n",
    "# create an instance of the Student class\n",
    "student1 = student(student_id=1, name=\"sudhanshu\", grades=[85, 90, 92, 88, 78])\n",
    "\n",
    "# display student details\n",
    "student1.display_student_details()"
   ]
  },
  {
   "cell_type": "markdown",
   "id": "9ab0e205",
   "metadata": {},
   "source": [
    "### Problem 8: Email Management Create a class representing an email with attributes like sender, recipient, and subject. Implement methods to send an email and display email details."
   ]
  },
  {
   "cell_type": "code",
   "execution_count": 68,
   "id": "77d2397d",
   "metadata": {},
   "outputs": [
    {
     "name": "stdout",
     "output_type": "stream",
     "text": [
      "Email Details:\n",
      "\n",
      "Sender: 123@example.com\n",
      "Recipient: 456@example.com\n",
      "Subject: Meeting Details\n",
      "Body: Hello, let's meet tomorrow at 2 PM.\n",
      "Status: Not Sent\n",
      "Email sent from 123@example.com to 456@example.com\n",
      "Email Details:\n",
      "\n",
      "Sender: 123@example.com\n",
      "Recipient: 456@example.com\n",
      "Subject: Meeting Details\n",
      "Body: Hello, let's meet tomorrow at 2 PM.\n",
      "Status: Sent\n"
     ]
    }
   ],
   "source": [
    "# Email Management using classes\n",
    "class Email:\n",
    "    def __init__(self, sender, recipient, subject, body):\n",
    "        self.sender = sender\n",
    "        self.recipient = recipient\n",
    "        self.subject = subject\n",
    "        self.body = body\n",
    "        self.sent = False\n",
    "\n",
    "    def send_email(self):\n",
    "        if not self.sent:\n",
    "            print(f\"Email sent from {self.sender} to {self.recipient}\")\n",
    "            self.sent = True\n",
    "        else:\n",
    "            print(\"Error: This email has already been sent.\")\n",
    "\n",
    "    def display_email_details(self):\n",
    "        print(\"Email Details:\\n\")\n",
    "        print(f\"Sender: {self.sender}\")\n",
    "        print(f\"Recipient: {self.recipient}\")\n",
    "        print(f\"Subject: {self.subject}\")\n",
    "        print(f\"Body: {self.body}\")\n",
    "        print(f\"Status: {'Sent' if self.sent else 'Not Sent'}\")\n",
    "\n",
    "\n",
    "\n",
    "# create an instance of the Email class\n",
    "email1 = Email(sender=\"123@example.com\", recipient=\"456@example.com\", subject=\"Meeting Details\", body=\"Hello, let's meet tomorrow at 2 PM.\")\n",
    "\n",
    "# display email details before sending\n",
    "email1.display_email_details()\n",
    "\n",
    "# send the email\n",
    "email1.send_email()\n",
    "\n",
    "# display email details after sending\n",
    "email1.display_email_details()"
   ]
  },
  {
   "cell_type": "markdown",
   "id": "a2842c58",
   "metadata": {},
   "source": [
    "### Problem 9: Social Media Profile Create a class representing a social media profile with attributes like username and posts. Implement methods to add posts, display posts, and search for posts by keyword."
   ]
  },
  {
   "cell_type": "code",
   "execution_count": 71,
   "id": "17fca9a3",
   "metadata": {},
   "outputs": [
    {
     "name": "stdout",
     "output_type": "stream",
     "text": [
      "posts by john_doe: \n",
      "\n",
      "1. having a great day!\n",
      "2. enjoying the weekend!\n",
      "posts containing the keyword 'great':\n",
      "1. having a great day!\n"
     ]
    }
   ],
   "source": [
    "# Social Media Profile using classes\n",
    "class SocialMediaProfile:\n",
    "    def __init__(self, username):\n",
    "        self.username = username\n",
    "        self.posts = []\n",
    "\n",
    "    def add_post(self, content):      #creating add_post function\n",
    "        self.posts.append(content)\n",
    "\n",
    "    def display_posts(self):             #creating display_post function\n",
    "        print(f\"posts by {self.username}: \\n\")\n",
    "        if not self.posts:\n",
    "            print(\"no posts available.\")\n",
    "        else:\n",
    "            for index, post in enumerate(self.posts, start=1):\n",
    "                print(f\"{index}. {post}\")\n",
    "\n",
    "    def search_posts(self, keyword):\n",
    "        matching_posts = [post for post in self.posts if keyword.lower() in post.lower()]\n",
    "        print(f\"posts containing the keyword '{keyword}':\")\n",
    "        if not matching_posts:\n",
    "            print(\"no matching posts found.\")\n",
    "        else:\n",
    "            for index, post in enumerate(matching_posts, start=1):\n",
    "                print(f\"{index}. {post}\")\n",
    "\n",
    "\n",
    "\n",
    "profile1 = SocialMediaProfile(username=\"john_doe\")\n",
    "\n",
    "profile1.add_post(\"having a great day!\")\n",
    "profile1.add_post(\"enjoying the weekend!\")\n",
    "\n",
    "profile1.display_posts()\n",
    "\n",
    "profile1.search_posts(\"great\")"
   ]
  },
  {
   "cell_type": "markdown",
   "id": "71b2e36d",
   "metadata": {},
   "source": [
    "### Problem 10: ToDo List Create a class representing a ToDo list with attributes like tasks and due dates. Implement methods to add tasks, mark tasks as completed, and display pending tasks."
   ]
  },
  {
   "cell_type": "code",
   "execution_count": 75,
   "id": "1bb06c44",
   "metadata": {},
   "outputs": [
    {
     "name": "stdout",
     "output_type": "stream",
     "text": [
      "Task 'play game' added with due date 2022-11-30.\n",
      "Task 'Read a book' added with due date 2022-12-15.\n",
      "Task 'complete homework' added with due date 2025-12-15.\n",
      "Task 'do exercise' added with due date 2026-12-15.\n",
      "\n",
      "Pending Tasks:\n",
      "play game - Due Date: 2022-11-30\n",
      "Read a book - Due Date: 2022-12-15\n",
      "complete homework - Due Date: 2025-12-15\n",
      "do exercise - Due Date: 2026-12-15\n",
      "\n",
      "\n",
      "Task 'Finish project' not found in the ToDo list.\n",
      "\n",
      "Pending Tasks:\n",
      "play game - Due Date: 2022-11-30\n",
      "Read a book - Due Date: 2022-12-15\n",
      "complete homework - Due Date: 2025-12-15\n",
      "do exercise - Due Date: 2026-12-15\n",
      "\n",
      "\n"
     ]
    }
   ],
   "source": [
    "# creating to do list using classes\n",
    "class ToDoList:\n",
    "    def __init__(self):\n",
    "        self.tasks = {}\n",
    "\n",
    "    def add_task(self, task, due_date):  #creating add_task function\n",
    "        self.tasks[task] = due_date\n",
    "        print(f\"Task '{task}' added with due date {due_date}.\")\n",
    "\n",
    "    def mark_completed(self, task):  #creating mark_complete function\n",
    "        if task in self.tasks:\n",
    "            del self.tasks[task]\n",
    "            print(f\"Task '{task}' marked as completed.\")\n",
    "        else:\n",
    "            print(f\"Task '{task}' not found in the ToDo list.\")\n",
    "\n",
    "    def display_pending_tasks(self):   # creating pending task function to show remaining tasks\n",
    "        if not self.tasks:\n",
    "            print(\"No pending tasks.\")\n",
    "        else:\n",
    "            print(\"\\nPending Tasks:\")\n",
    "            for task, due_date in self.tasks.items():\n",
    "                print(f\"{task} - Due Date: {due_date}\")\n",
    "            print(\"\\n\")\n",
    "to_do_list = ToDoList()\n",
    "\n",
    "to_do_list.add_task(\"play game\", \"2022-11-30\")\n",
    "to_do_list.add_task(\"Read a book\", \"2022-12-15\")\n",
    "to_do_list.add_task(\"complete homework\", \"2025-12-15\")\n",
    "to_do_list.add_task(\"do exercise\", \"2026-12-15\")\n",
    "\n",
    "to_do_list.display_pending_tasks()\n",
    "\n",
    "to_do_list.mark_completed(\"Finish project\")\n",
    "\n",
    "to_do_list.display_pending_tasks()\n"
   ]
  }
 ],
 "metadata": {
  "kernelspec": {
   "display_name": "Python 3 (ipykernel)",
   "language": "python",
   "name": "python3"
  },
  "language_info": {
   "codemirror_mode": {
    "name": "ipython",
    "version": 3
   },
   "file_extension": ".py",
   "mimetype": "text/x-python",
   "name": "python",
   "nbconvert_exporter": "python",
   "pygments_lexer": "ipython3",
   "version": "3.10.5"
  }
 },
 "nbformat": 4,
 "nbformat_minor": 5
}
