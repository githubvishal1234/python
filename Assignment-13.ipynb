{
 "cells": [
  {
   "cell_type": "markdown",
   "id": "59eb5347",
   "metadata": {},
   "source": [
    "## Find time complexity of below code blocks :"
   ]
  },
  {
   "cell_type": "markdown",
   "id": "9528e9d3",
   "metadata": {},
   "source": [
    "## Problem 1 :"
   ]
  },
  {
   "cell_type": "raw",
   "id": "daff8f54",
   "metadata": {},
   "source": [
    "def quicksort(arr):\n",
    "    if len(arr) <= 1:\n",
    "        return arr\n",
    "    pivot = arr[len(arr) // 2]\n",
    "    left = [x for x in arr if x < pivot]\n",
    "    middle = [x for x in arr if x == pivot]\n",
    "    right = [x for x in arr if x > pivot]\n",
    "    return quicksort(left) + middle + quicksort(right)"
   ]
  },
  {
   "cell_type": "raw",
   "id": "45b0d6af",
   "metadata": {},
   "source": [
    "Ans: Time Complexity for above code is O(n^2)"
   ]
  },
  {
   "cell_type": "markdown",
   "id": "57ef4b22",
   "metadata": {},
   "source": [
    "## Problem 2 :"
   ]
  },
  {
   "cell_type": "raw",
   "id": "093d33f4",
   "metadata": {},
   "source": [
    "def nested_loop_example(matrix):\n",
    "    rows, cols = len(matrix), len(matrix[0])\n",
    "    total = 0\n",
    "    for i in range(rows):\n",
    "        for j in range(cols):\n",
    "            total += matrix[i][j]\n",
    "    return total"
   ]
  },
  {
   "cell_type": "code",
   "execution_count": null,
   "id": "0fca05cf",
   "metadata": {},
   "outputs": [],
   "source": [
    "Ans: Time Complexity for above code is O(n^2)"
   ]
  },
  {
   "cell_type": "markdown",
   "id": "af260c2b",
   "metadata": {},
   "source": [
    "## Problem 3 :"
   ]
  },
  {
   "cell_type": "raw",
   "id": "4c61f82e",
   "metadata": {},
   "source": [
    "def example_function(arr):\n",
    "    result = 0\n",
    "    for element in arr:\n",
    "        result += element\n",
    "    return result"
   ]
  },
  {
   "cell_type": "code",
   "execution_count": null,
   "id": "9d0d46d7",
   "metadata": {},
   "outputs": [],
   "source": [
    "Ans: Time Complexity for above code is O(n)"
   ]
  },
  {
   "cell_type": "markdown",
   "id": "a6cdd9b6",
   "metadata": {},
   "source": [
    "## Problem 4 :"
   ]
  },
  {
   "cell_type": "raw",
   "id": "c3cb8887",
   "metadata": {},
   "source": [
    "def longest_increasing_subsequence(nums):\n",
    "    n = len(nums)\n",
    "    lis = [1] * n\n",
    "    for i in range(1, n):\n",
    "        for j in range(0, i):\n",
    "            if nums[i] > nums[j] and lis[i] < lis[j] + 1:\n",
    "                lis[i] = lis[j] + 1\n",
    "    return max(lis)"
   ]
  },
  {
   "cell_type": "raw",
   "id": "e0d6ead1",
   "metadata": {},
   "source": [
    "Ans: Time Complexity for above code is O(n^2)"
   ]
  },
  {
   "cell_type": "markdown",
   "id": "2126bcd2",
   "metadata": {},
   "source": [
    "## Problem 5 :"
   ]
  },
  {
   "cell_type": "raw",
   "id": "96fcc513",
   "metadata": {},
   "source": [
    "def mysterious_function(arr):\n",
    "    n = len(arr)\n",
    "    result = 0\n",
    "    for i in range(n):\n",
    "        for j in range(i, n):\n",
    "            result += arr[i] * arr[j]\n",
    "    return result"
   ]
  },
  {
   "cell_type": "code",
   "execution_count": null,
   "id": "49618fb7",
   "metadata": {},
   "outputs": [],
   "source": [
    "Ans: Time Complexity for above code is O(n^2)"
   ]
  },
  {
   "cell_type": "markdown",
   "id": "350e5b2e",
   "metadata": {},
   "source": [
    "## Solve the following problems on recursion"
   ]
  },
  {
   "cell_type": "markdown",
   "id": "e49629fc",
   "metadata": {},
   "source": [
    "## Problem 6 : Sum of Digits"
   ]
  },
  {
   "cell_type": "markdown",
   "id": "10e517aa",
   "metadata": {},
   "source": [
    "Write a recursive function to calculate the sum of digits of a given positive integer.\n",
    "sum_of_digits(123) -> 6"
   ]
  },
  {
   "cell_type": "code",
   "execution_count": 5,
   "id": "7d1e9455",
   "metadata": {},
   "outputs": [],
   "source": [
    "def sum_of_digits(number):\n",
    "    if number == 0:\n",
    "        return 0\n",
    "    else:\n",
    "        return (number % 10) + sum_of_digits(number // 10)"
   ]
  },
  {
   "cell_type": "markdown",
   "id": "f35a4cbd",
   "metadata": {},
   "source": [
    "## Problem 7: Fibonacci Series"
   ]
  },
  {
   "cell_type": "raw",
   "id": "c0b777cc",
   "metadata": {},
   "source": [
    "Write a recursive function to generate the first n numbers of the Fibonacci series.\n",
    "fibonacci_series(6) -> [0, 1, 1, 2, 3, 5]"
   ]
  },
  {
   "cell_type": "code",
   "execution_count": 6,
   "id": "4a875daf",
   "metadata": {},
   "outputs": [],
   "source": [
    "def fibonacci_series(n):\n",
    "    def fib(n):\n",
    "        if n == 0:\n",
    "            return 0\n",
    "        elif n == 1:\n",
    "            return 1\n",
    "        else:\n",
    "            return fib(n-1) + fib(n-2)\n",
    "    \n",
    "    return [fib(i) for i in range(n)]"
   ]
  },
  {
   "cell_type": "markdown",
   "id": "6c196812",
   "metadata": {},
   "source": [
    "## Problem 8 : Subset Sum"
   ]
  },
  {
   "cell_type": "raw",
   "id": "4749c783",
   "metadata": {},
   "source": [
    "Given a set of positive integers and a target sum, write a recursive function to determine if there exists a subset\n",
    "of the integers that adds up to the target sum.\n",
    "subset_sum([3, 34, 4, 12, 5, 2], 9) -> True"
   ]
  },
  {
   "cell_type": "code",
   "execution_count": null,
   "id": "017569b1",
   "metadata": {},
   "outputs": [],
   "source": [
    "def subset_sum(numbers, target):\n",
    "    # Base case: exact match of target\n",
    "    if target == 0:\n",
    "        return True\n",
    "    # Base case: no numbers left to consider and target not reached\n",
    "    if not numbers:\n",
    "        return False\n",
    "    \n",
    "    # Consider the current number\n",
    "    current = numbers[0]\n",
    "    # Recursive case: include current in the subset or exclude it\n",
    "    return subset_sum(numbers[1:], target - current) or subset_sum(numbers[1:], target)\n",
    "\n",
    "print(subset_sum([3, 34, 4, 12, 5, 2], 9))  # Output: True"
   ]
  },
  {
   "cell_type": "markdown",
   "id": "e7637081",
   "metadata": {},
   "source": [
    "## Problem 9: Word Break"
   ]
  },
  {
   "cell_type": "code",
   "execution_count": null,
   "id": "25fe1ff1",
   "metadata": {},
   "outputs": [],
   "source": [
    "Given a non-empty string and a dictionary of words, write a recursive function to determine if the string can be\n",
    "segmented into a space-separated sequence of dictionary words.\n",
    "word_break( leetcode , [ leet , code ]) -> True"
   ]
  },
  {
   "cell_type": "code",
   "execution_count": 7,
   "id": "84361fe5",
   "metadata": {},
   "outputs": [
    {
     "name": "stdout",
     "output_type": "stream",
     "text": [
      "True\n"
     ]
    }
   ],
   "source": [
    "def word_break(s, word_dict):\n",
    "    # Convert list to set for O(1) average-time complexity lookups\n",
    "    word_dict = set(word_dict)\n",
    "    memo = {}\n",
    "\n",
    "    def can_break(start):\n",
    "        # If the substring from 'start' to the end is in the memo, return its value\n",
    "        if start in memo:\n",
    "            return memo[start]\n",
    "        \n",
    "        # Base case: if starting index reaches the end of the string, we've found a valid segmentation\n",
    "        if start == len(s):\n",
    "            return True\n",
    "        \n",
    "        for end in range(start + 1, len(s) + 1):\n",
    "            # If the current substring is in the dictionary and the rest of the string can also be segmented,\n",
    "            \n",
    "            if s[start:end] in word_dict and can_break(end):\n",
    "                memo[start] = True\n",
    "                return True\n",
    "        \n",
    "        # If no valid segmentation is found, store and return False\n",
    "        memo[start] = False\n",
    "        return False\n",
    "    # Initiate recursion from the start of the string\n",
    "    return can_break(0)\n",
    "print(word_break(\"leetcode\", [\"leet\", \"code\"]))  "
   ]
  },
  {
   "cell_type": "markdown",
   "id": "12cc9de0",
   "metadata": {},
   "source": [
    "## Problem 10 : N-Queens"
   ]
  },
  {
   "cell_type": "code",
   "execution_count": null,
   "id": "a330ed33",
   "metadata": {},
   "outputs": [],
   "source": [
    "Implement a recursive function to solve the N Queens problem, where you have to place N queens on an N×N\n",
    "chessboard in such a way that no two queens threaten each other.\n",
    "n_queens(4)\n",
    "[\n",
    "[\".Q..\",\n",
    "\"...Q\",\n",
    "\"Q...\",\n",
    "\"..Q.\"],\n",
    "[\"..Q.\",\n",
    "\"Q...\",\n",
    "\"...Q\",\n",
    "\".Q..\"]\n",
    "]"
   ]
  },
  {
   "cell_type": "code",
   "execution_count": 8,
   "id": "d051297d",
   "metadata": {},
   "outputs": [
    {
     "name": "stdout",
     "output_type": "stream",
     "text": [
      ".Q..\n",
      "...Q\n",
      "Q...\n",
      "..Q.\n",
      "\n",
      "..Q.\n",
      "Q...\n",
      "...Q\n",
      ".Q..\n",
      "\n"
     ]
    }
   ],
   "source": [
    "def n_queens(n):\n",
    "    def solve(board, row):\n",
    "        if row == n:\n",
    "            # All queens placed, append the board configuration to the solutions\n",
    "            solution = [''.join(row) for row in board]\n",
    "            solutions.append(solution)\n",
    "            return\n",
    "        \n",
    "        for col in range(n):\n",
    "            if is_safe(board, row, col):\n",
    "                board[row][col] = 'Q'\n",
    "                solve(board, row + 1)\n",
    "                board[row][col] = '.'  # Backtrack\n",
    "\n",
    "    def is_safe(board, row, col):\n",
    "        # Check this column in previous rows\n",
    "        for i in range(row):\n",
    "            if board[i][col] == 'Q':\n",
    "                return False\n",
    "\n",
    "        # Check upper left diagonal\n",
    "        for i, j in zip(range(row, -1, -1), range(col, -1, -1)):\n",
    "            if board[i][j] == 'Q':\n",
    "                return False\n",
    "\n",
    "        # Check upper right diagonal\n",
    "        for i, j in zip(range(row, -1, -1), range(col, n)):\n",
    "            if board[i][j] == 'Q':\n",
    "                return False\n",
    "\n",
    "        return True\n",
    "\n",
    "    solutions = []\n",
    "    board = [['.' for _ in range(n)] for _ in range(n)]\n",
    "    solve(board, 0)\n",
    "    return solutions\n",
    "\n",
    "# Example usage:\n",
    "solutions = n_queens(4)\n",
    "for solution in solutions:\n",
    "    for line in solution:\n",
    "        print(line)\n",
    "    print()\n"
   ]
  }
 ],
 "metadata": {
  "kernelspec": {
   "display_name": "Python 3 (ipykernel)",
   "language": "python",
   "name": "python3"
  },
  "language_info": {
   "codemirror_mode": {
    "name": "ipython",
    "version": 3
   },
   "file_extension": ".py",
   "mimetype": "text/x-python",
   "name": "python",
   "nbconvert_exporter": "python",
   "pygments_lexer": "ipython3",
   "version": "3.10.5"
  }
 },
 "nbformat": 4,
 "nbformat_minor": 5
}
