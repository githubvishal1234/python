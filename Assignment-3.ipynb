{
 "cells": [
  {
   "cell_type": "markdown",
   "id": "7ff42626",
   "metadata": {},
   "source": [
    "# Basic Level:"
   ]
  },
  {
   "cell_type": "markdown",
   "id": "57994104",
   "metadata": {},
   "source": [
    "### 1. Write a Python program to print the numbers from 1 to 10 using a `for` loop."
   ]
  },
  {
   "cell_type": "code",
   "execution_count": 4,
   "id": "b92bbdb2",
   "metadata": {},
   "outputs": [
    {
     "name": "stdout",
     "output_type": "stream",
     "text": [
      "1\n",
      "2\n",
      "3\n",
      "4\n",
      "5\n",
      "6\n",
      "7\n",
      "8\n",
      "9\n",
      "10\n"
     ]
    }
   ],
   "source": [
    "#printing numbers using for loop and range function\n",
    "for i in range(1,11):\n",
    "    print(i)               "
   ]
  },
  {
   "cell_type": "markdown",
   "id": "17186a25",
   "metadata": {},
   "source": [
    "### 2. Create a program that calculates the sum of all numbers in a list using a `for` loop."
   ]
  },
  {
   "cell_type": "code",
   "execution_count": 5,
   "id": "db5388dd",
   "metadata": {},
   "outputs": [
    {
     "name": "stdout",
     "output_type": "stream",
     "text": [
      "sum of list elements is:  20\n"
     ]
    }
   ],
   "source": [
    "list15=[1,2,3,4,10]\n",
    "sum=0\n",
    "for i in range(len(list15)):\n",
    "    sum=sum+list15[i]   #finding sum of elements in list using variable sum\n",
    "print(\"sum of list elements is: \",sum)    "
   ]
  },
  {
   "cell_type": "markdown",
   "id": "35b048f2",
   "metadata": {},
   "source": [
    "### 3. Write a program to print the characters of a string in reverse order using a `for` loop."
   ]
  },
  {
   "cell_type": "code",
   "execution_count": 7,
   "id": "5f9b0b95",
   "metadata": {},
   "outputs": [
    {
     "name": "stdout",
     "output_type": "stream",
     "text": [
      "a\n",
      "i\n",
      "d\n",
      "n\n",
      "i\n",
      " \n",
      "o\n",
      "l\n",
      "l\n",
      "e\n",
      "h\n"
     ]
    }
   ],
   "source": [
    "str3=\"hello india\" #intializing string\n",
    "temp_str3=str3[::-1]   #reversing the string\n",
    "for i in temp_str3:  #printing the characters of string using for loop\n",
    "    print(i)"
   ]
  },
  {
   "cell_type": "markdown",
   "id": "9b22111c",
   "metadata": {},
   "source": [
    "### 4. Develop a program that finds the factorial of a given number using a `for` loop."
   ]
  },
  {
   "cell_type": "code",
   "execution_count": 6,
   "id": "e368ffc1",
   "metadata": {},
   "outputs": [
    {
     "name": "stdout",
     "output_type": "stream",
     "text": [
      "enter your number5\n",
      "120\n"
     ]
    }
   ],
   "source": [
    "n=int(input(\"enter your number\"))   #taking input from user\n",
    "result=1                   #intialising result to 1\n",
    "for i in range(1,n+1):     #using for loop and range function\n",
    "    result*=i              #calculating factorial \n",
    "print(result)           #printing result"
   ]
  },
  {
   "cell_type": "markdown",
   "id": "2536de83",
   "metadata": {},
   "source": [
    "### 5. Create a program to print the multiplication table of a given number using a for loop"
   ]
  },
  {
   "cell_type": "code",
   "execution_count": 9,
   "id": "25a97ddf",
   "metadata": {},
   "outputs": [
    {
     "name": "stdout",
     "output_type": "stream",
     "text": [
      "enter which table: 5\n",
      "Multiplication table of  5 is\n",
      "5 X 1 = 5\n",
      "5 X 2 = 10\n",
      "5 X 3 = 15\n",
      "5 X 4 = 20\n",
      "5 X 5 = 25\n",
      "5 X 6 = 30\n",
      "5 X 7 = 35\n",
      "5 X 8 = 40\n",
      "5 X 9 = 45\n",
      "5 X 10 = 50\n"
     ]
    }
   ],
   "source": [
    "n=int(input(\"enter which table: \"))   #Creating a program to print the multiplication table of a given number using a for loop\n",
    "print(\"Multiplication table of \",n, \"is\")\n",
    "for i in range(1,11):\n",
    "    print(f\"{n} X {i} = {n*i}\")"
   ]
  },
  {
   "cell_type": "markdown",
   "id": "611f83c6",
   "metadata": {},
   "source": [
    "### 6. Write a program that counts the number of even and odd numbers in a list using a for loop"
   ]
  },
  {
   "cell_type": "code",
   "execution_count": 13,
   "id": "61ac924d",
   "metadata": {},
   "outputs": [
    {
     "name": "stdout",
     "output_type": "stream",
     "text": [
      "no of even numbers in list are  5\n",
      "no of odd numbers in list are  4\n"
     ]
    }
   ],
   "source": [
    "list6=[1,2,3,4,5,6,7,8,10]   #program that counts the number of even and odd numbers in a list using a for loop\n",
    "even=0   #count even numbers\n",
    "odd=0    #count odd numbers\n",
    "for i in list6:\n",
    "    if i%2==0:\n",
    "        even+=1\n",
    "    else:\n",
    "        odd+=1\n",
    "print(\"no of even numbers in list are \",even)\n",
    "print(\"no of odd numbers in list are \",odd)"
   ]
  },
  {
   "cell_type": "markdown",
   "id": "f841b889",
   "metadata": {},
   "source": [
    "### 7. Develop a program that prints the squares of numbers from 1 to 5 using a for loop"
   ]
  },
  {
   "cell_type": "code",
   "execution_count": 1,
   "id": "95dcf69b",
   "metadata": {},
   "outputs": [
    {
     "name": "stdout",
     "output_type": "stream",
     "text": [
      "1\n",
      "4\n",
      "9\n",
      "16\n",
      "25\n"
     ]
    }
   ],
   "source": [
    "for i in range(1,6):\n",
    "    print(i*i)       #printing sqaures of numbers from 1 to 5"
   ]
  },
  {
   "cell_type": "markdown",
   "id": "4a293856",
   "metadata": {},
   "source": [
    "### 8. Create a program to find the length of a string without using the len() function"
   ]
  },
  {
   "cell_type": "code",
   "execution_count": 2,
   "id": "9b83f67b",
   "metadata": {},
   "outputs": [
    {
     "name": "stdout",
     "output_type": "stream",
     "text": [
      "10\n"
     ]
    }
   ],
   "source": [
    "len_str=0\n",
    "str=\"helloworld\"  #Creating a program to find the length of a string without using the len() function\n",
    "for i in str:   \n",
    "    len_str+=1\n",
    "print(len_str)    "
   ]
  },
  {
   "cell_type": "markdown",
   "id": "53961162",
   "metadata": {},
   "source": [
    "### 9. Write a program that calculates the average of a list of numbers using a for loop."
   ]
  },
  {
   "cell_type": "code",
   "execution_count": 3,
   "id": "5e91dc85",
   "metadata": {},
   "outputs": [
    {
     "name": "stdout",
     "output_type": "stream",
     "text": [
      "3.5\n"
     ]
    }
   ],
   "source": [
    "list9=[1,2,3,4,5,6]\n",
    "add=0\n",
    "len_list9=len(list9)     #Creating a program to find the length of a string without using the len() function\n",
    "for i in list9:\n",
    "    add+=i\n",
    "temp_avg=add/len_list9\n",
    "print(temp_avg)"
   ]
  },
  {
   "cell_type": "markdown",
   "id": "cd2a0ead",
   "metadata": {},
   "source": [
    "### 10. Develop a program that prints the first n Fibonacci numbers using a for loop"
   ]
  },
  {
   "cell_type": "code",
   "execution_count": 7,
   "id": "6464beb5",
   "metadata": {},
   "outputs": [
    {
     "name": "stdout",
     "output_type": "stream",
     "text": [
      "0 1 1 2 3 "
     ]
    }
   ],
   "source": [
    "a, b = 0, 1\n",
    "n = 5\n",
    "fibonacci_sequence = [a, b]  # Initialize the sequence with the first two Fibonacci numbers.\n",
    "\n",
    "for i in range(n - 2):  # We already have the first two numbers,\n",
    "    a, b = b, a + b  # Update a and b to calculate the next Fibonacci number.\n",
    "    fibonacci_sequence.append(b)  # Append the new number to the sequence.\n",
    "\n",
    "# Print the Fibonacci sequence.\n",
    "for num in fibonacci_sequence:\n",
    "    print(num, end=\" \")\n"
   ]
  },
  {
   "cell_type": "markdown",
   "id": "6a104b21",
   "metadata": {},
   "source": [
    "## Intermediate Level:"
   ]
  },
  {
   "cell_type": "markdown",
   "id": "8ee56742",
   "metadata": {},
   "source": [
    "### 11. Write a program to check if a given list contains any duplicates using a for loop"
   ]
  },
  {
   "cell_type": "code",
   "execution_count": 8,
   "id": "e8c4eec0",
   "metadata": {},
   "outputs": [
    {
     "name": "stdout",
     "output_type": "stream",
     "text": [
      "The list contains duplicates.\n"
     ]
    }
   ],
   "source": [
    "def duplicates(lst):\n",
    "    for i in range(len(lst)):\n",
    "        for j in range(i + 1, len(lst)):\n",
    "            if lst[i] == lst[j]:\n",
    "                return True\n",
    "    return False\n",
    "\n",
    "# Example usage:\n",
    "list11 = [1, 2, 3, 4, 5, 1]  # This list contains a duplicate (1)\n",
    "\n",
    "if duplicates(list11):\n",
    "    print(\"The list contains duplicates.\")\n",
    "else:\n",
    "    print(\"The list does not contain duplicates.\")\n"
   ]
  },
  {
   "cell_type": "markdown",
   "id": "39c1542c",
   "metadata": {},
   "source": [
    "### 12. Create a program that prints the prime numbers in a given range using a for loop."
   ]
  },
  {
   "cell_type": "code",
   "execution_count": 12,
   "id": "0d76c36b",
   "metadata": {},
   "outputs": [
    {
     "name": "stdout",
     "output_type": "stream",
     "text": [
      "prime numbers are: \n",
      "2 3 5 7 11 13 17 19 "
     ]
    }
   ],
   "source": [
    "print(\"prime numbers are: \")\n",
    "for n in range(2, 21):\n",
    "    is_prime = True\n",
    "    for i in range(2, int(n ** 0.5) + 1):\n",
    "        if n % i == 0:\n",
    "            is_prime = False\n",
    "            break\n",
    "    if is_prime:\n",
    "        print(n, end=\" \")\n"
   ]
  },
  {
   "cell_type": "markdown",
   "id": "3d8cae67",
   "metadata": {},
   "source": [
    "### 13. Develop a program that counts the number of vowels in a string using a for loop."
   ]
  },
  {
   "cell_type": "code",
   "execution_count": 16,
   "id": "ec649720",
   "metadata": {},
   "outputs": [
    {
     "name": "stdout",
     "output_type": "stream",
     "text": [
      "3\n"
     ]
    }
   ],
   "source": [
    "count_vow=0\n",
    "vowels=\"aeiouAEIOU\"\n",
    "str13=\"india\"\n",
    "for vowel in str13:\n",
    "    if vowel in vowels:\n",
    "        count_vow+=1\n",
    "print(count_vow)        \n",
    "    "
   ]
  },
  {
   "cell_type": "markdown",
   "id": "88763151",
   "metadata": {},
   "source": [
    "### 14. Write a program to find the maximum element in a 2D list using a nested for loop."
   ]
  },
  {
   "cell_type": "code",
   "execution_count": 19,
   "id": "23cf7696",
   "metadata": {},
   "outputs": [
    {
     "name": "stdout",
     "output_type": "stream",
     "text": [
      "The maximum element in the 2D list is: 23\n"
     ]
    }
   ],
   "source": [
    "max_list= [ [10, 5, 8] , [23, 1, 11] , [7, 14, 9] ]\n",
    "\n",
    "# Initialize max_element with the first element of the 2D list\n",
    "max = max_list[0][0]\n",
    "\n",
    "# Nested loop to traverse the 2D list\n",
    "for i in max_list:\n",
    "    for element in i:\n",
    "        if element > max:\n",
    "            max = element\n",
    "\n",
    "print(\"The maximum element in the 2D list is:\", max_element)\n"
   ]
  },
  {
   "cell_type": "markdown",
   "id": "a49529ae",
   "metadata": {},
   "source": [
    "### 15. Create a program that removes all occurrences of a specific element from a list using a for loop."
   ]
  },
  {
   "cell_type": "code",
   "execution_count": 24,
   "id": "ede678ef",
   "metadata": {},
   "outputs": [
    {
     "name": "stdout",
     "output_type": "stream",
     "text": [
      "Original list: [1, 2, 3, 4, 2, 5, 6, 2, 7]\n",
      "\n",
      "List after removing specific element  2 : [1, 3, 4, 5, 6, 7]\n"
     ]
    }
   ],
   "source": [
    "\n",
    "list15 = [1, 2, 3, 4, 2, 5, 6, 2, 7]\n",
    "\n",
    "# Element to remove from given list\n",
    "spec_elem = 2\n",
    "\n",
    "# Creating a new list without the specified element\n",
    "temp_list = []\n",
    "for item in list15:\n",
    "    if item != spec_elem:\n",
    "        temp_list.append(item)\n",
    "\n",
    "# Print the new list without the specified element\n",
    "print(\"Original list:\", list15)\n",
    "print()\n",
    "print(\"List after removing specific element \", spec_elem, \":\", temp_list)"
   ]
  },
  {
   "cell_type": "markdown",
   "id": "bac5146e",
   "metadata": {},
   "source": [
    "### 16. Develop a program that generates a multiplication table for numbers from 1 to 5 using a nested for loop"
   ]
  },
  {
   "cell_type": "code",
   "execution_count": 30,
   "id": "d8ff40d6",
   "metadata": {},
   "outputs": [
    {
     "name": "stdout",
     "output_type": "stream",
     "text": [
      "1 x 1 = 1\n",
      "1 x 2 = 2\n",
      "1 x 3 = 3\n",
      "1 x 4 = 4\n",
      "1 x 5 = 5\n",
      "1 x 6 = 6\n",
      "1 x 7 = 7\n",
      "1 x 8 = 8\n",
      "1 x 9 = 9\n",
      "1 x 10 = 10\n",
      "\n",
      "2 x 1 = 2\n",
      "2 x 2 = 4\n",
      "2 x 3 = 6\n",
      "2 x 4 = 8\n",
      "2 x 5 = 10\n",
      "2 x 6 = 12\n",
      "2 x 7 = 14\n",
      "2 x 8 = 16\n",
      "2 x 9 = 18\n",
      "2 x 10 = 20\n",
      "\n",
      "3 x 1 = 3\n",
      "3 x 2 = 6\n",
      "3 x 3 = 9\n",
      "3 x 4 = 12\n",
      "3 x 5 = 15\n",
      "3 x 6 = 18\n",
      "3 x 7 = 21\n",
      "3 x 8 = 24\n",
      "3 x 9 = 27\n",
      "3 x 10 = 30\n",
      "\n",
      "4 x 1 = 4\n",
      "4 x 2 = 8\n",
      "4 x 3 = 12\n",
      "4 x 4 = 16\n",
      "4 x 5 = 20\n",
      "4 x 6 = 24\n",
      "4 x 7 = 28\n",
      "4 x 8 = 32\n",
      "4 x 9 = 36\n",
      "4 x 10 = 40\n",
      "\n",
      "5 x 1 = 5\n",
      "5 x 2 = 10\n",
      "5 x 3 = 15\n",
      "5 x 4 = 20\n",
      "5 x 5 = 25\n",
      "5 x 6 = 30\n",
      "5 x 7 = 35\n",
      "5 x 8 = 40\n",
      "5 x 9 = 45\n",
      "5 x 10 = 50\n",
      "\n"
     ]
    }
   ],
   "source": [
    "# Define the range of numbers for the multiplication table\n",
    "num1 = 1\n",
    "num2 = 5\n",
    "\n",
    "# Nested for loops to generate the multiplication table\n",
    "for i in range(num1, num2 + 1):\n",
    "    for j in range(1, 11):  # Multiplication from 1 to 10\n",
    "        print(f\"{i} x {j} = {i*j}\")\n",
    "    print()  \n",
    "\n"
   ]
  },
  {
   "cell_type": "markdown",
   "id": "70f4a530",
   "metadata": {},
   "source": [
    "### 17. Write a program that converts a list of Fahrenheit temperatures to Celsius using a for loop."
   ]
  },
  {
   "cell_type": "code",
   "execution_count": 1,
   "id": "8b983475",
   "metadata": {},
   "outputs": [
    {
     "name": "stdout",
     "output_type": "stream",
     "text": [
      "32°F is 0.00°C\n",
      "68°F is 20.00°C\n",
      "77°F is 25.00°C\n",
      "104°F is 40.00°C\n",
      "212°F is 100.00°C\n"
     ]
    }
   ],
   "source": [
    "# List of Fahrenheit temperatures\n",
    "fahrenheit_temp = [32, 68, 77, 104, 212]\n",
    "\n",
    "# Create an empty list to store the Celsius temperatures\n",
    "celsius_temp = []\n",
    "\n",
    "# Convert Fahrenheit to Celsius using a for loop\n",
    "for fahrenheit in fahrenheit_temp:\n",
    "    celsius = (fahrenheit - 32) * 5/9\n",
    "    celsius_temp.append(celsius)\n",
    "\n",
    "# Print the original Fahrenheit temperatures and the converted Celsius temperatures\n",
    "for i in range(len(fahrenheit_temp)):\n",
    "    print(f\"{fahrenheit_temp[i]}°F is {celsius_temp[i]:.2f}°C\")\n"
   ]
  },
  {
   "cell_type": "markdown",
   "id": "be540b89",
   "metadata": {},
   "source": [
    "### 18. Create a program to print the common elements from two lists using a `for` loop."
   ]
  },
  {
   "cell_type": "code",
   "execution_count": 3,
   "id": "6d8a7b37",
   "metadata": {},
   "outputs": [
    {
     "name": "stdout",
     "output_type": "stream",
     "text": [
      "[1, 2, 3, 23]\n"
     ]
    }
   ],
   "source": [
    "list18_1=[1,2,3,4,5,23]\n",
    "list18_2=[23,1,2,3,89]\n",
    "common_elem=[]         #Creating a program to print the common elements from two lists using a for loop\n",
    "for i in list18_1:\n",
    "    if i in list18_2:\n",
    "        common_elem.append(i)\n",
    "print(common_elem)        "
   ]
  },
  {
   "cell_type": "markdown",
   "id": "99a53d7b",
   "metadata": {},
   "source": [
    "### 19. Develop a program that prints the pattern of right-angled triangles using a `for` loop. Use ‘*’ to draw thepattern"
   ]
  },
  {
   "cell_type": "code",
   "execution_count": 26,
   "id": "48070ed9",
   "metadata": {},
   "outputs": [
    {
     "name": "stdout",
     "output_type": "stream",
     "text": [
      "* \n",
      "* * \n",
      "* * * \n",
      "* * * * \n",
      "* * * * * \n"
     ]
    }
   ],
   "source": [
    "for i in range(1,6):\n",
    "    for j in range(1,i+1):   #program to print right angled triangle\n",
    "        print(\"*\",end=\" \")\n",
    "    print()    "
   ]
  },
  {
   "cell_type": "markdown",
   "id": "804a3a6c",
   "metadata": {},
   "source": [
    "### 20. Write a program to find the greatest common divisor (GCD) of two numbers using a `for` loop."
   ]
  },
  {
   "cell_type": "code",
   "execution_count": 16,
   "id": "eb5abc27",
   "metadata": {},
   "outputs": [
    {
     "name": "stdout",
     "output_type": "stream",
     "text": [
      " Enter the first number: 48\n",
      " Enter the second number: 60\n",
      "GCD of two number is:    12\n"
     ]
    }
   ],
   "source": [
    "a = int(input (\" Enter the first number: \") ) # take first no.   \n",
    "b =int (input (\" Enter the second number: \")) # take second no.   \n",
    "\n",
    "if a > b:  # define the if condition  \n",
    "    temp = b  \n",
    "else:  \n",
    "    temp = a  \n",
    "for i in range(1, temp + 1):  \n",
    "    if (( a % i == 0) and (b % i == 0 )):  \n",
    "        gcd = i  \n",
    "\n",
    "num = gcd # call the gcd_fun() to find the result  \n",
    "print(\"GCD of two number is:   \",num)  "
   ]
  },
  {
   "cell_type": "markdown",
   "id": "e6d10d7d",
   "metadata": {},
   "source": [
    "## Advanced Level:"
   ]
  },
  {
   "cell_type": "markdown",
   "id": "addde1a7",
   "metadata": {},
   "source": [
    "### 21. Create a program that calculates the sum of the digits of numbers in a list using a list comprehension."
   ]
  },
  {
   "cell_type": "code",
   "execution_count": 19,
   "id": "018eca77",
   "metadata": {},
   "outputs": [
    {
     "name": "stdout",
     "output_type": "stream",
     "text": [
      "Number: 123, Digit Sum: 6\n",
      "Number: 45, Digit Sum: 9\n",
      "Number: 6789, Digit Sum: 30\n",
      "Number: 555, Digit Sum: 15\n"
     ]
    }
   ],
   "source": [
    "# List of numbers\n",
    "list21 = [123, 45, 6789, 555]\n",
    "\n",
    "# Calculate the sum of digits for each number using list comprehension\n",
    "sum_of_digit = [sum(int(digit) for digit in str(number)) for number in list21]\n",
    "\n",
    "# Print the original numbers and their digit sums\n",
    "for i in range(len(list21)):\n",
    "    print(f\"Number: {list21[i]}, Digit Sum: {sum_of_digit[i]}\")\n"
   ]
  },
  {
   "cell_type": "markdown",
   "id": "9a4e497c",
   "metadata": {},
   "source": [
    "### 22. Write a program to find the prime factors of a given number using a `for` loop and list comprehension."
   ]
  },
  {
   "cell_type": "code",
   "execution_count": 4,
   "id": "1aa30cf6",
   "metadata": {},
   "outputs": [
    {
     "name": "stdout",
     "output_type": "stream",
     "text": [
      "enter a number: 12\n",
      "Prime factors of 12 are: [2, 3]\n"
     ]
    }
   ],
   "source": [
    "# Input from the user\n",
    "n = int(input(\"enter a number: \"))\n",
    "\n",
    "if n < 2:\n",
    "    print(\"prime factors are not applicable for numbers which are less than 2\")\n",
    "else:\n",
    "    factors = [x for x in range(2, n + 1) if n % x == 0]\n",
    "    prime_fac = []\n",
    "\n",
    "    for factor in factors:\n",
    "        is_prime = True\n",
    "        for i in range(2, int(factor**0.5) + 1):\n",
    "            if factor % i == 0:\n",
    "                is_prime = False\n",
    "                break\n",
    "        if is_prime:\n",
    "            prime_fac.append(factor)\n",
    "\n",
    "    print(f\"Prime factors of {n} are: {prime_fac}\")"
   ]
  },
  {
   "cell_type": "markdown",
   "id": "ca6b2d63",
   "metadata": {},
   "source": [
    "### 23. Develop a program that extracts unique elements from a list and stores them in a new list using a list comprehension."
   ]
  },
  {
   "cell_type": "code",
   "execution_count": 10,
   "id": "596d4b0d",
   "metadata": {},
   "outputs": [
    {
     "name": "stdout",
     "output_type": "stream",
     "text": [
      "Original list elements are:   [1, 2, 2, 3, 4, 4, 5, 6, 6, 7, 87, 69]\n",
      "\n",
      "Unique elements are:           [1, 2, 3, 4, 5, 6, 7, 87, 69]\n"
     ]
    }
   ],
   "source": [
    "list23 = [1, 2, 2, 3, 4, 4, 5, 6, 6, 7,87,69]\n",
    "\n",
    "# Extract unique elements using a list comprehension\n",
    "unique_elements = [x for i, x in enumerate(list23) if x not in list23[:i]]\n",
    "\n",
    "# Print the unique elements\n",
    "print(\"Original list elements are:  \", list23)\n",
    "print()\n",
    "print(\"Unique elements are:          \", unique_elements)"
   ]
  },
  {
   "cell_type": "markdown",
   "id": "c4afcff5",
   "metadata": {},
   "source": [
    "### 24. Create a program that generates a list of all palindromic numbers up to a specified limit using a list comprehension."
   ]
  },
  {
   "cell_type": "code",
   "execution_count": 12,
   "id": "aca21e90",
   "metadata": {},
   "outputs": [
    {
     "name": "stdout",
     "output_type": "stream",
     "text": [
      "Enter the upper limit: 100000\n",
      "Palindromic numbers up to the limit: [1, 2, 3, 4, 5, 6, 7, 8, 9, 11, 22, 33, 44, 55, 66, 77, 88, 99, 101, 111, 121, 131, 141, 151, 161, 171, 181, 191, 202, 212, 222, 232, 242, 252, 262, 272, 282, 292, 303, 313, 323, 333, 343, 353, 363, 373, 383, 393, 404, 414, 424, 434, 444, 454, 464, 474, 484, 494, 505, 515, 525, 535, 545, 555, 565, 575, 585, 595, 606, 616, 626, 636, 646, 656, 666, 676, 686, 696, 707, 717, 727, 737, 747, 757, 767, 777, 787, 797, 808, 818, 828, 838, 848, 858, 868, 878, 888, 898, 909, 919, 929, 939, 949, 959, 969, 979, 989, 999, 1001, 1111, 1221, 1331, 1441, 1551, 1661, 1771, 1881, 1991, 2002, 2112, 2222, 2332, 2442, 2552, 2662, 2772, 2882, 2992, 3003, 3113, 3223, 3333, 3443, 3553, 3663, 3773, 3883, 3993, 4004, 4114, 4224, 4334, 4444, 4554, 4664, 4774, 4884, 4994, 5005, 5115, 5225, 5335, 5445, 5555, 5665, 5775, 5885, 5995, 6006, 6116, 6226, 6336, 6446, 6556, 6666, 6776, 6886, 6996, 7007, 7117, 7227, 7337, 7447, 7557, 7667, 7777, 7887, 7997, 8008, 8118, 8228, 8338, 8448, 8558, 8668, 8778, 8888, 8998, 9009, 9119, 9229, 9339, 9449, 9559, 9669, 9779, 9889, 9999, 10001, 10101, 10201, 10301, 10401, 10501, 10601, 10701, 10801, 10901, 11011, 11111, 11211, 11311, 11411, 11511, 11611, 11711, 11811, 11911, 12021, 12121, 12221, 12321, 12421, 12521, 12621, 12721, 12821, 12921, 13031, 13131, 13231, 13331, 13431, 13531, 13631, 13731, 13831, 13931, 14041, 14141, 14241, 14341, 14441, 14541, 14641, 14741, 14841, 14941, 15051, 15151, 15251, 15351, 15451, 15551, 15651, 15751, 15851, 15951, 16061, 16161, 16261, 16361, 16461, 16561, 16661, 16761, 16861, 16961, 17071, 17171, 17271, 17371, 17471, 17571, 17671, 17771, 17871, 17971, 18081, 18181, 18281, 18381, 18481, 18581, 18681, 18781, 18881, 18981, 19091, 19191, 19291, 19391, 19491, 19591, 19691, 19791, 19891, 19991, 20002, 20102, 20202, 20302, 20402, 20502, 20602, 20702, 20802, 20902, 21012, 21112, 21212, 21312, 21412, 21512, 21612, 21712, 21812, 21912, 22022, 22122, 22222, 22322, 22422, 22522, 22622, 22722, 22822, 22922, 23032, 23132, 23232, 23332, 23432, 23532, 23632, 23732, 23832, 23932, 24042, 24142, 24242, 24342, 24442, 24542, 24642, 24742, 24842, 24942, 25052, 25152, 25252, 25352, 25452, 25552, 25652, 25752, 25852, 25952, 26062, 26162, 26262, 26362, 26462, 26562, 26662, 26762, 26862, 26962, 27072, 27172, 27272, 27372, 27472, 27572, 27672, 27772, 27872, 27972, 28082, 28182, 28282, 28382, 28482, 28582, 28682, 28782, 28882, 28982, 29092, 29192, 29292, 29392, 29492, 29592, 29692, 29792, 29892, 29992, 30003, 30103, 30203, 30303, 30403, 30503, 30603, 30703, 30803, 30903, 31013, 31113, 31213, 31313, 31413, 31513, 31613, 31713, 31813, 31913, 32023, 32123, 32223, 32323, 32423, 32523, 32623, 32723, 32823, 32923, 33033, 33133, 33233, 33333, 33433, 33533, 33633, 33733, 33833, 33933, 34043, 34143, 34243, 34343, 34443, 34543, 34643, 34743, 34843, 34943, 35053, 35153, 35253, 35353, 35453, 35553, 35653, 35753, 35853, 35953, 36063, 36163, 36263, 36363, 36463, 36563, 36663, 36763, 36863, 36963, 37073, 37173, 37273, 37373, 37473, 37573, 37673, 37773, 37873, 37973, 38083, 38183, 38283, 38383, 38483, 38583, 38683, 38783, 38883, 38983, 39093, 39193, 39293, 39393, 39493, 39593, 39693, 39793, 39893, 39993, 40004, 40104, 40204, 40304, 40404, 40504, 40604, 40704, 40804, 40904, 41014, 41114, 41214, 41314, 41414, 41514, 41614, 41714, 41814, 41914, 42024, 42124, 42224, 42324, 42424, 42524, 42624, 42724, 42824, 42924, 43034, 43134, 43234, 43334, 43434, 43534, 43634, 43734, 43834, 43934, 44044, 44144, 44244, 44344, 44444, 44544, 44644, 44744, 44844, 44944, 45054, 45154, 45254, 45354, 45454, 45554, 45654, 45754, 45854, 45954, 46064, 46164, 46264, 46364, 46464, 46564, 46664, 46764, 46864, 46964, 47074, 47174, 47274, 47374, 47474, 47574, 47674, 47774, 47874, 47974, 48084, 48184, 48284, 48384, 48484, 48584, 48684, 48784, 48884, 48984, 49094, 49194, 49294, 49394, 49494, 49594, 49694, 49794, 49894, 49994, 50005, 50105, 50205, 50305, 50405, 50505, 50605, 50705, 50805, 50905, 51015, 51115, 51215, 51315, 51415, 51515, 51615, 51715, 51815, 51915, 52025, 52125, 52225, 52325, 52425, 52525, 52625, 52725, 52825, 52925, 53035, 53135, 53235, 53335, 53435, 53535, 53635, 53735, 53835, 53935, 54045, 54145, 54245, 54345, 54445, 54545, 54645, 54745, 54845, 54945, 55055, 55155, 55255, 55355, 55455, 55555, 55655, 55755, 55855, 55955, 56065, 56165, 56265, 56365, 56465, 56565, 56665, 56765, 56865, 56965, 57075, 57175, 57275, 57375, 57475, 57575, 57675, 57775, 57875, 57975, 58085, 58185, 58285, 58385, 58485, 58585, 58685, 58785, 58885, 58985, 59095, 59195, 59295, 59395, 59495, 59595, 59695, 59795, 59895, 59995, 60006, 60106, 60206, 60306, 60406, 60506, 60606, 60706, 60806, 60906, 61016, 61116, 61216, 61316, 61416, 61516, 61616, 61716, 61816, 61916, 62026, 62126, 62226, 62326, 62426, 62526, 62626, 62726, 62826, 62926, 63036, 63136, 63236, 63336, 63436, 63536, 63636, 63736, 63836, 63936, 64046, 64146, 64246, 64346, 64446, 64546, 64646, 64746, 64846, 64946, 65056, 65156, 65256, 65356, 65456, 65556, 65656, 65756, 65856, 65956, 66066, 66166, 66266, 66366, 66466, 66566, 66666, 66766, 66866, 66966, 67076, 67176, 67276, 67376, 67476, 67576, 67676, 67776, 67876, 67976, 68086, 68186, 68286, 68386, 68486, 68586, 68686, 68786, 68886, 68986, 69096, 69196, 69296, 69396, 69496, 69596, 69696, 69796, 69896, 69996, 70007, 70107, 70207, 70307, 70407, 70507, 70607, 70707, 70807, 70907, 71017, 71117, 71217, 71317, 71417, 71517, 71617, 71717, 71817, 71917, 72027, 72127, 72227, 72327, 72427, 72527, 72627, 72727, 72827, 72927, 73037, 73137, 73237, 73337, 73437, 73537, 73637, 73737, 73837, 73937, 74047, 74147, 74247, 74347, 74447, 74547, 74647, 74747, 74847, 74947, 75057, 75157, 75257, 75357, 75457, 75557, 75657, 75757, 75857, 75957, 76067, 76167, 76267, 76367, 76467, 76567, 76667, 76767, 76867, 76967, 77077, 77177, 77277, 77377, 77477, 77577, 77677, 77777, 77877, 77977, 78087, 78187, 78287, 78387, 78487, 78587, 78687, 78787, 78887, 78987, 79097, 79197, 79297, 79397, 79497, 79597, 79697, 79797, 79897, 79997, 80008, 80108, 80208, 80308, 80408, 80508, 80608, 80708, 80808, 80908, 81018, 81118, 81218, 81318, 81418, 81518, 81618, 81718, 81818, 81918, 82028, 82128, 82228, 82328, 82428, 82528, 82628, 82728, 82828, 82928, 83038, 83138, 83238, 83338, 83438, 83538, 83638, 83738, 83838, 83938, 84048, 84148, 84248, 84348, 84448, 84548, 84648, 84748, 84848, 84948, 85058, 85158, 85258, 85358, 85458, 85558, 85658, 85758, 85858, 85958, 86068, 86168, 86268, 86368, 86468, 86568, 86668, 86768, 86868, 86968, 87078, 87178, 87278, 87378, 87478, 87578, 87678, 87778, 87878, 87978, 88088, 88188, 88288, 88388, 88488, 88588, 88688, 88788, 88888, 88988, 89098, 89198, 89298, 89398, 89498, 89598, 89698, 89798, 89898, 89998, 90009, 90109, 90209, 90309, 90409, 90509, 90609, 90709, 90809, 90909, 91019, 91119, 91219, 91319, 91419, 91519, 91619, 91719, 91819, 91919, 92029, 92129, 92229, 92329, 92429, 92529, 92629, 92729, 92829, 92929, 93039, 93139, 93239, 93339, 93439, 93539, 93639, 93739, 93839, 93939, 94049, 94149, 94249, 94349, 94449, 94549, 94649, 94749, 94849, 94949, 95059, 95159, 95259, 95359, 95459, 95559, 95659, 95759, 95859, 95959, 96069, 96169, 96269, 96369, 96469, 96569, 96669, 96769, 96869, 96969, 97079, 97179, 97279, 97379, 97479, 97579, 97679, 97779, 97879, 97979, 98089, 98189, 98289, 98389, 98489, 98589, 98689, 98789, 98889, 98989, 99099, 99199, 99299, 99399, 99499, 99599, 99699, 99799, 99899, 99999]\n"
     ]
    }
   ],
   "source": [
    "# Input: Upper limit\n",
    "limit = int(input(\"Enter the upper limit: \"))\n",
    "\n",
    "# Generate a list of palindromic numbers using a list comprehension\n",
    "palindromic_numbers = [num for num in range(1, limit + 1) if str(num) == str(num)[::-1]]\n",
    "\n",
    "# Print the list of palindromic numbers\n",
    "print(\"Palindromic numbers up to the limit:\", palindromic_numbers)"
   ]
  },
  {
   "cell_type": "markdown",
   "id": "d4ce918d",
   "metadata": {},
   "source": [
    "### 25. Write a program to flatten a nested list using list comprehension."
   ]
  },
  {
   "cell_type": "code",
   "execution_count": 14,
   "id": "34beefb1",
   "metadata": {},
   "outputs": [
    {
     "name": "stdout",
     "output_type": "stream",
     "text": [
      "nested list is:   [[1, 2, 3], [4, 5], [6, 7, 8, 9], [10]]\n",
      "\n",
      "Flattened list of list23:  [1, 2, 3, 4, 5, 6, 7, 8, 9, 10]\n"
     ]
    }
   ],
   "source": [
    "# Nested list\n",
    "list25 = [[1, 2, 3], [4, 5], [6, 7, 8, 9], [10]]\n",
    "\n",
    "# Flatten the nested list using list comprehension\n",
    "flattened_list25 = [item for i in list25 for item in i]\n",
    "\n",
    "# Print the flattened list\n",
    "print(\"nested list is:  \", list25)\n",
    "print()\n",
    "print(\"Flattened list of list23: \", flattened_list25)\n"
   ]
  },
  {
   "cell_type": "markdown",
   "id": "4df5766d",
   "metadata": {},
   "source": [
    "### 26. Develop a program that computes the sum of even and odd numbers in a list separately using list comprehension."
   ]
  },
  {
   "cell_type": "code",
   "execution_count": 20,
   "id": "544ab799",
   "metadata": {},
   "outputs": [
    {
     "name": "stdout",
     "output_type": "stream",
     "text": [
      "elements of list26 is:    [1, 2, 3, 4, 5, 6, 7, 8, 9, 10]\n",
      "Sum of even numbers is:   30\n",
      "Sum of odd numbers is:    25\n"
     ]
    }
   ],
   "source": [
    "# Input list\n",
    "list26 = [1, 2, 3, 4, 5, 6, 7, 8, 9, 10]\n",
    "\n",
    "# Compute the sum of even and odd numbers using list comprehensions\n",
    "even_sum_list = sum([n for n in list26 if n % 2 == 0])\n",
    "odd_sum_list = sum([n for n in list26 if n % 2 != 0])\n",
    "\n",
    "# Print the results\n",
    "print(\"elements of list26 is:   \", list26)\n",
    "print(\"Sum of even numbers is:  \", even_sum_list)\n",
    "print(\"Sum of odd numbers is:   \", odd_sum_list)"
   ]
  },
  {
   "cell_type": "markdown",
   "id": "c4e94b56",
   "metadata": {},
   "source": [
    "### 27. Create a program that generates a list of squares of odd numbers between 1 and 10 using list comprehension."
   ]
  },
  {
   "cell_type": "code",
   "execution_count": 21,
   "id": "e5c0b0f2",
   "metadata": {},
   "outputs": [
    {
     "name": "stdout",
     "output_type": "stream",
     "text": [
      "squares of odd numbers between 1 and 10 is:   [1, 9, 25, 49, 81]\n"
     ]
    }
   ],
   "source": [
    "# Generate a list of squares of odd numbers using list comprehension\n",
    "squares_odd_numbers = [i** 2 for i in range(1, 11) if i % 2 != 0]\n",
    "\n",
    "# Print the list of squares\n",
    "print(\"squares of odd numbers between 1 and 10 is:  \", squares_odd_numbers)"
   ]
  },
  {
   "cell_type": "markdown",
   "id": "fcfd88cb",
   "metadata": {},
   "source": [
    "### 28. Write a program that combines two lists into a dictionary using list comprehension."
   ]
  },
  {
   "cell_type": "code",
   "execution_count": 23,
   "id": "5b4e2d15",
   "metadata": {},
   "outputs": [
    {
     "name": "stdout",
     "output_type": "stream",
     "text": [
      "Combined dictionary: {'name': 'Alice', 'age': 25, 'city': 'New York'}\n"
     ]
    }
   ],
   "source": [
    "# Two lists\n",
    "list28_1 = [\"name\", \"age\", \"city\"]\n",
    "list28_2 = [\"Alice\", 25, \"New York\"]\n",
    "\n",
    "# Combine the lists into a dictionary using list comprehension\n",
    "combined_dict = {list28_1[i]: list28_2[i] for i in range(min(len(list28_1), len(list28_2)))}\n",
    "\n",
    "# Print the resulting dictionary\n",
    "print(\"Combined dictionary:\", combined_dict)"
   ]
  },
  {
   "cell_type": "markdown",
   "id": "c5a45b54",
   "metadata": {},
   "source": [
    "### 29. Develop a program that extracts the vowels from a string and stores them in a list using list comprehension."
   ]
  },
  {
   "cell_type": "code",
   "execution_count": 3,
   "id": "5a0baa2d",
   "metadata": {},
   "outputs": [
    {
     "name": "stdout",
     "output_type": "stream",
     "text": [
      "input string is:  Hello, World!\n",
      "\n",
      "vowels in the string:   ['e', 'o', 'o']\n"
     ]
    }
   ],
   "source": [
    "str29 = \"Hello, World!\"\n",
    "\n",
    "# Extract vowels from the string using list comprehension\n",
    "vowels = [char for char in str29 if char.lower() in 'aeiou']\n",
    "\n",
    "# Print the list of vowels\n",
    "print(\"input string is: \", str29)\n",
    "print()\n",
    "print(\"vowels in the string:  \", vowels)"
   ]
  },
  {
   "cell_type": "markdown",
   "id": "27a7748e",
   "metadata": {},
   "source": [
    "### 30. Create a program that removes all non-numeric characters from a list of strings using list comprehension."
   ]
  },
  {
   "cell_type": "code",
   "execution_count": 9,
   "id": "656c434f",
   "metadata": {},
   "outputs": [
    {
     "name": "stdout",
     "output_type": "stream",
     "text": [
      "original list of strings:    ['abc123', 'defwer456', '789xyfmvbz', '10aaa']\n",
      "list with non-numeric characters removed:     ['123', '456', '789', '10']\n"
     ]
    }
   ],
   "source": [
    "list30 = [\"abc123\", \"defwer456\", \"789xyfmvbz\", \"10aaa\"]\n",
    "\n",
    "# Removing non-numeric characters from the list using list comprehension\n",
    "numeric_str = [''.join(char for char in s if char.isnumeric()) for s in list30]\n",
    "\n",
    "# Printing the list of strings with non-numeric characters removed\n",
    "print(\"original list of strings:   \", list30)\n",
    "print(\"list with non-numeric characters removed:    \", numeric_str)"
   ]
  },
  {
   "cell_type": "markdown",
   "id": "a3079538",
   "metadata": {},
   "source": [
    "## Challenge Level:"
   ]
  },
  {
   "cell_type": "markdown",
   "id": "0f238b99",
   "metadata": {},
   "source": [
    "### 31. Write a program to generate a list of prime numbers using the Sieve of Eratosthenes algorithm and list comprehension."
   ]
  },
  {
   "cell_type": "code",
   "execution_count": 10,
   "id": "89afe739",
   "metadata": {},
   "outputs": [
    {
     "name": "stdout",
     "output_type": "stream",
     "text": [
      "enter a number: 23\n",
      "prime numbers up to 23 are: [2, 3, 5, 7, 11, 13, 17, 19, 23]\n"
     ]
    }
   ],
   "source": [
    "# Input: maximum number for the prime number list\n",
    "n = int(input(\"enter a number: \"))\n",
    "\n",
    "if n < 2:\n",
    "    print(\"there are no prime numbers less than 2.\")\n",
    "else:\n",
    "    # Create a boolean list \"is_prime\" and initialize all entries as True\n",
    "    is_prime = [True] * (n + 1)\n",
    "    is_prime[0] = is_prime[1] = False  # 0 and 1 are not prime\n",
    "\n",
    "    # Mark multiples of each prime as False\n",
    "    for p in range(2, int(n**0.5) + 1):\n",
    "        if is_prime[p]:\n",
    "            for i in range(p * p, n + 1, p):\n",
    "                is_prime[i] = False\n",
    "\n",
    "    # Use list comprehension to generate a list of prime numbers\n",
    "    prime_list = [i for i in range(2, n + 1) if is_prime[i]]\n",
    "\n",
    "    print(\"prime numbers up to\", n, \"are:\", prime_list)\n"
   ]
  },
  {
   "cell_type": "markdown",
   "id": "c4c3c9bc",
   "metadata": {},
   "source": [
    "### 32. Create a program that generates a list of all Pythagorean triplets up to a specified limit using list comprehension."
   ]
  },
  {
   "cell_type": "code",
   "execution_count": 3,
   "id": "d6fbbed0",
   "metadata": {},
   "outputs": [
    {
     "name": "stdout",
     "output_type": "stream",
     "text": [
      "enter a limit:    1000\n",
      "Pythagorean triplets up to 1000 are:    \n",
      "(3, 4, 5)\n",
      "(5, 12, 13)\n",
      "(6, 8, 10)\n",
      "(7, 24, 25)\n",
      "(8, 15, 17)\n",
      "(9, 12, 15)\n",
      "(9, 40, 41)\n",
      "(10, 24, 26)\n",
      "(11, 60, 61)\n",
      "(12, 16, 20)\n",
      "(12, 35, 37)\n",
      "(13, 84, 85)\n",
      "(14, 48, 50)\n",
      "(15, 20, 25)\n",
      "(15, 36, 39)\n",
      "(15, 112, 113)\n",
      "(16, 30, 34)\n",
      "(16, 63, 65)\n",
      "(17, 144, 145)\n",
      "(18, 24, 30)\n",
      "(18, 80, 82)\n",
      "(19, 180, 181)\n",
      "(20, 21, 29)\n",
      "(20, 48, 52)\n",
      "(20, 99, 101)\n",
      "(21, 28, 35)\n",
      "(21, 72, 75)\n",
      "(21, 220, 221)\n",
      "(22, 120, 122)\n",
      "(23, 264, 265)\n",
      "(24, 32, 40)\n",
      "(24, 45, 51)\n",
      "(24, 70, 74)\n",
      "(24, 143, 145)\n",
      "(25, 60, 65)\n",
      "(25, 312, 313)\n",
      "(26, 168, 170)\n",
      "(27, 36, 45)\n",
      "(27, 120, 123)\n",
      "(27, 364, 365)\n",
      "(28, 45, 53)\n",
      "(28, 96, 100)\n",
      "(28, 195, 197)\n",
      "(29, 420, 421)\n",
      "(30, 40, 50)\n",
      "(30, 72, 78)\n",
      "(30, 224, 226)\n",
      "(31, 480, 481)\n",
      "(32, 60, 68)\n",
      "(32, 126, 130)\n",
      "(32, 255, 257)\n",
      "(33, 44, 55)\n",
      "(33, 56, 65)\n",
      "(33, 180, 183)\n",
      "(33, 544, 545)\n",
      "(34, 288, 290)\n",
      "(35, 84, 91)\n",
      "(35, 120, 125)\n",
      "(35, 612, 613)\n",
      "(36, 48, 60)\n",
      "(36, 77, 85)\n",
      "(36, 105, 111)\n",
      "(36, 160, 164)\n",
      "(36, 323, 325)\n",
      "(37, 684, 685)\n",
      "(38, 360, 362)\n",
      "(39, 52, 65)\n",
      "(39, 80, 89)\n",
      "(39, 252, 255)\n",
      "(39, 760, 761)\n",
      "(40, 42, 58)\n",
      "(40, 75, 85)\n",
      "(40, 96, 104)\n",
      "(40, 198, 202)\n",
      "(40, 399, 401)\n",
      "(41, 840, 841)\n",
      "(42, 56, 70)\n",
      "(42, 144, 150)\n",
      "(42, 440, 442)\n",
      "(43, 924, 925)\n",
      "(44, 117, 125)\n",
      "(44, 240, 244)\n",
      "(44, 483, 485)\n",
      "(45, 60, 75)\n",
      "(45, 108, 117)\n",
      "(45, 200, 205)\n",
      "(45, 336, 339)\n",
      "(46, 528, 530)\n",
      "(48, 55, 73)\n",
      "(48, 64, 80)\n",
      "(48, 90, 102)\n",
      "(48, 140, 148)\n",
      "(48, 189, 195)\n",
      "(48, 286, 290)\n",
      "(48, 575, 577)\n",
      "(49, 168, 175)\n",
      "(50, 120, 130)\n",
      "(50, 624, 626)\n",
      "(51, 68, 85)\n",
      "(51, 140, 149)\n",
      "(51, 432, 435)\n",
      "(52, 165, 173)\n",
      "(52, 336, 340)\n",
      "(52, 675, 677)\n",
      "(54, 72, 90)\n",
      "(54, 240, 246)\n",
      "(54, 728, 730)\n",
      "(55, 132, 143)\n",
      "(55, 300, 305)\n",
      "(56, 90, 106)\n",
      "(56, 105, 119)\n",
      "(56, 192, 200)\n",
      "(56, 390, 394)\n",
      "(56, 783, 785)\n",
      "(57, 76, 95)\n",
      "(57, 176, 185)\n",
      "(57, 540, 543)\n",
      "(58, 840, 842)\n",
      "(60, 63, 87)\n",
      "(60, 80, 100)\n",
      "(60, 91, 109)\n",
      "(60, 144, 156)\n",
      "(60, 175, 185)\n",
      "(60, 221, 229)\n",
      "(60, 297, 303)\n",
      "(60, 448, 452)\n",
      "(60, 899, 901)\n",
      "(62, 960, 962)\n",
      "(63, 84, 105)\n",
      "(63, 216, 225)\n",
      "(63, 280, 287)\n",
      "(63, 660, 663)\n",
      "(64, 120, 136)\n",
      "(64, 252, 260)\n",
      "(64, 510, 514)\n",
      "(65, 72, 97)\n",
      "(65, 156, 169)\n",
      "(65, 420, 425)\n",
      "(66, 88, 110)\n",
      "(66, 112, 130)\n",
      "(66, 360, 366)\n",
      "(68, 285, 293)\n",
      "(68, 576, 580)\n",
      "(69, 92, 115)\n",
      "(69, 260, 269)\n",
      "(69, 792, 795)\n",
      "(70, 168, 182)\n",
      "(70, 240, 250)\n",
      "(72, 96, 120)\n",
      "(72, 135, 153)\n",
      "(72, 154, 170)\n",
      "(72, 210, 222)\n",
      "(72, 320, 328)\n",
      "(72, 429, 435)\n",
      "(72, 646, 650)\n",
      "(75, 100, 125)\n",
      "(75, 180, 195)\n",
      "(75, 308, 317)\n",
      "(75, 560, 565)\n",
      "(75, 936, 939)\n",
      "(76, 357, 365)\n",
      "(76, 720, 724)\n",
      "(77, 264, 275)\n",
      "(77, 420, 427)\n",
      "(78, 104, 130)\n",
      "(78, 160, 178)\n",
      "(78, 504, 510)\n",
      "(80, 84, 116)\n",
      "(80, 150, 170)\n",
      "(80, 192, 208)\n",
      "(80, 315, 325)\n",
      "(80, 396, 404)\n",
      "(80, 798, 802)\n",
      "(81, 108, 135)\n",
      "(81, 360, 369)\n",
      "(84, 112, 140)\n",
      "(84, 135, 159)\n",
      "(84, 187, 205)\n",
      "(84, 245, 259)\n",
      "(84, 288, 300)\n",
      "(84, 437, 445)\n",
      "(84, 585, 591)\n",
      "(84, 880, 884)\n",
      "(85, 132, 157)\n",
      "(85, 204, 221)\n",
      "(85, 720, 725)\n",
      "(87, 116, 145)\n",
      "(87, 416, 425)\n",
      "(88, 105, 137)\n",
      "(88, 165, 187)\n",
      "(88, 234, 250)\n",
      "(88, 480, 488)\n",
      "(88, 966, 970)\n",
      "(90, 120, 150)\n",
      "(90, 216, 234)\n",
      "(90, 400, 410)\n",
      "(90, 672, 678)\n",
      "(91, 312, 325)\n",
      "(91, 588, 595)\n",
      "(92, 525, 533)\n",
      "(93, 124, 155)\n",
      "(93, 476, 485)\n",
      "(95, 168, 193)\n",
      "(95, 228, 247)\n",
      "(95, 900, 905)\n",
      "(96, 110, 146)\n",
      "(96, 128, 160)\n",
      "(96, 180, 204)\n",
      "(96, 247, 265)\n",
      "(96, 280, 296)\n",
      "(96, 378, 390)\n",
      "(96, 572, 580)\n",
      "(96, 765, 771)\n",
      "(98, 336, 350)\n",
      "(99, 132, 165)\n",
      "(99, 168, 195)\n",
      "(99, 440, 451)\n",
      "(99, 540, 549)\n",
      "(100, 105, 145)\n",
      "(100, 240, 260)\n",
      "(100, 495, 505)\n",
      "(100, 621, 629)\n",
      "(102, 136, 170)\n",
      "(102, 280, 298)\n",
      "(102, 864, 870)\n",
      "(104, 153, 185)\n",
      "(104, 195, 221)\n",
      "(104, 330, 346)\n",
      "(104, 672, 680)\n",
      "(105, 140, 175)\n",
      "(105, 208, 233)\n",
      "(105, 252, 273)\n",
      "(105, 360, 375)\n",
      "(105, 608, 617)\n",
      "(105, 784, 791)\n",
      "(108, 144, 180)\n",
      "(108, 231, 255)\n",
      "(108, 315, 333)\n",
      "(108, 480, 492)\n",
      "(108, 725, 733)\n",
      "(108, 969, 975)\n",
      "(110, 264, 286)\n",
      "(110, 600, 610)\n",
      "(111, 148, 185)\n",
      "(111, 680, 689)\n",
      "(112, 180, 212)\n",
      "(112, 210, 238)\n",
      "(112, 384, 400)\n",
      "(112, 441, 455)\n",
      "(112, 780, 788)\n",
      "(114, 152, 190)\n",
      "(114, 352, 370)\n",
      "(115, 252, 277)\n",
      "(115, 276, 299)\n",
      "(116, 837, 845)\n",
      "(117, 156, 195)\n",
      "(117, 240, 267)\n",
      "(117, 520, 533)\n",
      "(117, 756, 765)\n",
      "(119, 120, 169)\n",
      "(119, 408, 425)\n",
      "(120, 126, 174)\n",
      "(120, 160, 200)\n",
      "(120, 182, 218)\n",
      "(120, 209, 241)\n",
      "(120, 225, 255)\n",
      "(120, 288, 312)\n",
      "(120, 350, 370)\n",
      "(120, 391, 409)\n",
      "(120, 442, 458)\n",
      "(120, 594, 606)\n",
      "(120, 715, 725)\n",
      "(120, 896, 904)\n",
      "(121, 660, 671)\n",
      "(123, 164, 205)\n",
      "(123, 836, 845)\n",
      "(124, 957, 965)\n",
      "(125, 300, 325)\n",
      "(126, 168, 210)\n",
      "(126, 432, 450)\n",
      "(126, 560, 574)\n",
      "(128, 240, 272)\n",
      "(128, 504, 520)\n",
      "(129, 172, 215)\n",
      "(129, 920, 929)\n",
      "(130, 144, 194)\n",
      "(130, 312, 338)\n",
      "(130, 840, 850)\n",
      "(132, 176, 220)\n",
      "(132, 224, 260)\n",
      "(132, 351, 375)\n",
      "(132, 385, 407)\n",
      "(132, 475, 493)\n",
      "(132, 720, 732)\n",
      "(133, 156, 205)\n",
      "(133, 456, 475)\n",
      "(135, 180, 225)\n",
      "(135, 324, 351)\n",
      "(135, 352, 377)\n",
      "(135, 600, 615)\n",
      "(136, 255, 289)\n",
      "(136, 273, 305)\n",
      "(136, 570, 586)\n",
      "(138, 184, 230)\n",
      "(138, 520, 538)\n",
      "(140, 147, 203)\n",
      "(140, 171, 221)\n",
      "(140, 225, 265)\n",
      "(140, 336, 364)\n",
      "(140, 480, 500)\n",
      "(140, 693, 707)\n",
      "(140, 975, 985)\n",
      "(141, 188, 235)\n",
      "(143, 780, 793)\n",
      "(143, 924, 935)\n",
      "(144, 165, 219)\n",
      "(144, 192, 240)\n",
      "(144, 270, 306)\n",
      "(144, 308, 340)\n",
      "(144, 420, 444)\n",
      "(144, 567, 585)\n",
      "(144, 640, 656)\n",
      "(144, 858, 870)\n",
      "(145, 348, 377)\n",
      "(145, 408, 433)\n",
      "(147, 196, 245)\n",
      "(147, 504, 525)\n",
      "(150, 200, 250)\n",
      "(150, 360, 390)\n",
      "(150, 616, 634)\n",
      "(152, 285, 323)\n",
      "(152, 345, 377)\n",
      "(152, 714, 730)\n",
      "(153, 204, 255)\n",
      "(153, 420, 447)\n",
      "(153, 680, 697)\n",
      "(154, 528, 550)\n",
      "(154, 840, 854)\n",
      "(155, 372, 403)\n",
      "(155, 468, 493)\n",
      "(156, 208, 260)\n",
      "(156, 320, 356)\n",
      "(156, 455, 481)\n",
      "(156, 495, 519)\n",
      "(156, 667, 685)\n",
      "(159, 212, 265)\n",
      "(160, 168, 232)\n",
      "(160, 231, 281)\n",
      "(160, 300, 340)\n",
      "(160, 384, 416)\n",
      "(160, 630, 650)\n",
      "(160, 792, 808)\n",
      "(161, 240, 289)\n",
      "(161, 552, 575)\n",
      "(162, 216, 270)\n",
      "(162, 720, 738)\n",
      "(165, 220, 275)\n",
      "(165, 280, 325)\n",
      "(165, 396, 429)\n",
      "(165, 532, 557)\n",
      "(165, 900, 915)\n",
      "(168, 224, 280)\n",
      "(168, 270, 318)\n",
      "(168, 315, 357)\n",
      "(168, 374, 410)\n",
      "(168, 425, 457)\n",
      "(168, 490, 518)\n",
      "(168, 576, 600)\n",
      "(168, 775, 793)\n",
      "(168, 874, 890)\n",
      "(170, 264, 314)\n",
      "(170, 408, 442)\n",
      "(171, 228, 285)\n",
      "(171, 528, 555)\n",
      "(171, 760, 779)\n",
      "(174, 232, 290)\n",
      "(174, 832, 850)\n",
      "(175, 288, 337)\n",
      "(175, 420, 455)\n",
      "(175, 600, 625)\n",
      "(176, 210, 274)\n",
      "(176, 330, 374)\n",
      "(176, 468, 500)\n",
      "(176, 693, 715)\n",
      "(176, 960, 976)\n",
      "(177, 236, 295)\n",
      "(180, 189, 261)\n",
      "(180, 240, 300)\n",
      "(180, 273, 327)\n",
      "(180, 299, 349)\n",
      "(180, 385, 425)\n",
      "(180, 432, 468)\n",
      "(180, 525, 555)\n",
      "(180, 663, 687)\n",
      "(180, 800, 820)\n",
      "(180, 891, 909)\n",
      "(182, 624, 650)\n",
      "(183, 244, 305)\n",
      "(184, 345, 391)\n",
      "(184, 513, 545)\n",
      "(185, 444, 481)\n",
      "(185, 672, 697)\n",
      "(186, 248, 310)\n",
      "(186, 952, 970)\n",
      "(189, 252, 315)\n",
      "(189, 340, 389)\n",
      "(189, 648, 675)\n",
      "(189, 840, 861)\n",
      "(190, 336, 386)\n",
      "(190, 456, 494)\n",
      "(192, 220, 292)\n",
      "(192, 256, 320)\n",
      "(192, 360, 408)\n",
      "(192, 494, 530)\n",
      "(192, 560, 592)\n",
      "(192, 756, 780)\n",
      "(195, 216, 291)\n",
      "(195, 260, 325)\n",
      "(195, 400, 445)\n",
      "(195, 468, 507)\n",
      "(195, 748, 773)\n",
      "(196, 315, 371)\n",
      "(196, 672, 700)\n",
      "(198, 264, 330)\n",
      "(198, 336, 390)\n",
      "(198, 880, 902)\n",
      "(200, 210, 290)\n",
      "(200, 375, 425)\n",
      "(200, 480, 520)\n",
      "(200, 609, 641)\n",
      "(201, 268, 335)\n",
      "(203, 396, 445)\n",
      "(203, 696, 725)\n",
      "(204, 253, 325)\n",
      "(204, 272, 340)\n",
      "(204, 560, 596)\n",
      "(204, 595, 629)\n",
      "(204, 855, 879)\n",
      "(205, 492, 533)\n",
      "(205, 828, 853)\n",
      "(207, 224, 305)\n",
      "(207, 276, 345)\n",
      "(207, 780, 807)\n",
      "(207, 920, 943)\n",
      "(208, 306, 370)\n",
      "(208, 390, 442)\n",
      "(208, 660, 692)\n",
      "(208, 819, 845)\n",
      "(210, 280, 350)\n",
      "(210, 416, 466)\n",
      "(210, 504, 546)\n",
      "(210, 720, 750)\n",
      "(213, 284, 355)\n",
      "(215, 516, 559)\n",
      "(215, 912, 937)\n",
      "(216, 288, 360)\n",
      "(216, 405, 459)\n",
      "(216, 462, 510)\n",
      "(216, 630, 666)\n",
      "(216, 713, 745)\n",
      "(216, 960, 984)\n",
      "(217, 456, 505)\n",
      "(217, 744, 775)\n",
      "(219, 292, 365)\n",
      "(220, 231, 319)\n",
      "(220, 459, 509)\n",
      "(220, 528, 572)\n",
      "(220, 585, 625)\n",
      "(222, 296, 370)\n",
      "(224, 360, 424)\n",
      "(224, 420, 476)\n",
      "(224, 768, 800)\n",
      "(224, 882, 910)\n",
      "(225, 272, 353)\n",
      "(225, 300, 375)\n",
      "(225, 540, 585)\n",
      "(225, 924, 951)\n",
      "(228, 304, 380)\n",
      "(228, 325, 397)\n",
      "(228, 665, 703)\n",
      "(228, 704, 740)\n",
      "(230, 504, 554)\n",
      "(230, 552, 598)\n",
      "(231, 308, 385)\n",
      "(231, 392, 455)\n",
      "(231, 520, 569)\n",
      "(231, 792, 825)\n",
      "(232, 435, 493)\n",
      "(232, 825, 857)\n",
      "(234, 312, 390)\n",
      "(234, 480, 534)\n",
      "(235, 564, 611)\n",
      "(237, 316, 395)\n",
      "(238, 240, 338)\n",
      "(238, 816, 850)\n",
      "(240, 252, 348)\n",
      "(240, 275, 365)\n",
      "(240, 320, 400)\n",
      "(240, 364, 436)\n",
      "(240, 418, 482)\n",
      "(240, 450, 510)\n",
      "(240, 551, 601)\n",
      "(240, 576, 624)\n",
      "(240, 700, 740)\n",
      "(240, 782, 818)\n",
      "(240, 884, 916)\n",
      "(240, 945, 975)\n",
      "(243, 324, 405)\n",
      "(245, 588, 637)\n",
      "(245, 840, 875)\n",
      "(246, 328, 410)\n",
      "(248, 465, 527)\n",
      "(248, 945, 977)\n",
      "(249, 332, 415)\n",
      "(250, 600, 650)\n",
      "(252, 275, 373)\n",
      "(252, 336, 420)\n",
      "(252, 405, 477)\n",
      "(252, 539, 595)\n",
      "(252, 561, 615)\n",
      "(252, 735, 777)\n",
      "(252, 864, 900)\n",
      "(255, 340, 425)\n",
      "(255, 396, 471)\n",
      "(255, 612, 663)\n",
      "(255, 700, 745)\n",
      "(256, 480, 544)\n",
      "(258, 344, 430)\n",
      "(259, 660, 709)\n",
      "(259, 888, 925)\n",
      "(260, 273, 377)\n",
      "(260, 288, 388)\n",
      "(260, 624, 676)\n",
      "(260, 651, 701)\n",
      "(260, 825, 865)\n",
      "(261, 348, 435)\n",
      "(261, 380, 461)\n",
      "(264, 315, 411)\n",
      "(264, 352, 440)\n",
      "(264, 448, 520)\n",
      "(264, 495, 561)\n",
      "(264, 702, 750)\n",
      "(264, 770, 814)\n",
      "(264, 950, 986)\n",
      "(265, 636, 689)\n",
      "(266, 312, 410)\n",
      "(266, 912, 950)\n",
      "(267, 356, 445)\n",
      "(270, 360, 450)\n",
      "(270, 648, 702)\n",
      "(270, 704, 754)\n",
      "(272, 510, 578)\n",
      "(272, 546, 610)\n",
      "(273, 364, 455)\n",
      "(273, 560, 623)\n",
      "(273, 736, 785)\n",
      "(273, 936, 975)\n",
      "(275, 660, 715)\n",
      "(276, 368, 460)\n",
      "(276, 493, 565)\n",
      "(276, 805, 851)\n",
      "(279, 372, 465)\n",
      "(279, 440, 521)\n",
      "(280, 294, 406)\n",
      "(280, 342, 442)\n",
      "(280, 351, 449)\n",
      "(280, 450, 530)\n",
      "(280, 525, 595)\n",
      "(280, 672, 728)\n",
      "(280, 759, 809)\n",
      "(280, 960, 1000)\n",
      "(282, 376, 470)\n",
      "(285, 380, 475)\n",
      "(285, 504, 579)\n",
      "(285, 684, 741)\n",
      "(285, 880, 925)\n",
      "(287, 816, 865)\n",
      "(288, 330, 438)\n",
      "(288, 384, 480)\n",
      "(288, 540, 612)\n",
      "(288, 616, 680)\n",
      "(288, 741, 795)\n",
      "(288, 840, 888)\n",
      "(290, 696, 754)\n",
      "(290, 816, 866)\n",
      "(291, 388, 485)\n",
      "(294, 392, 490)\n",
      "(295, 708, 767)\n",
      "(296, 555, 629)\n",
      "(297, 304, 425)\n",
      "(297, 396, 495)\n",
      "(297, 504, 585)\n",
      "(300, 315, 435)\n",
      "(300, 400, 500)\n",
      "(300, 455, 545)\n",
      "(300, 589, 661)\n",
      "(300, 720, 780)\n",
      "(300, 875, 925)\n",
      "(301, 900, 949)\n",
      "(303, 404, 505)\n",
      "(304, 570, 646)\n",
      "(304, 690, 754)\n",
      "(305, 732, 793)\n",
      "(306, 408, 510)\n",
      "(306, 840, 894)\n",
      "(308, 435, 533)\n",
      "(308, 495, 583)\n",
      "(308, 819, 875)\n",
      "(309, 412, 515)\n",
      "(310, 744, 806)\n",
      "(310, 936, 986)\n",
      "(312, 416, 520)\n",
      "(312, 459, 555)\n",
      "(312, 585, 663)\n",
      "(312, 640, 712)\n",
      "(312, 910, 962)\n",
      "(315, 420, 525)\n",
      "(315, 572, 653)\n",
      "(315, 624, 699)\n",
      "(315, 756, 819)\n",
      "(318, 424, 530)\n",
      "(319, 360, 481)\n",
      "(320, 336, 464)\n",
      "(320, 462, 562)\n",
      "(320, 600, 680)\n",
      "(320, 768, 832)\n",
      "(321, 428, 535)\n",
      "(322, 480, 578)\n",
      "(324, 432, 540)\n",
      "(324, 693, 765)\n",
      "(324, 945, 999)\n",
      "(325, 360, 485)\n",
      "(325, 780, 845)\n",
      "(327, 436, 545)\n",
      "(328, 615, 697)\n",
      "(330, 440, 550)\n",
      "(330, 560, 650)\n",
      "(330, 792, 858)\n",
      "(333, 444, 555)\n",
      "(333, 644, 725)\n",
      "(335, 804, 871)\n",
      "(336, 377, 505)\n",
      "(336, 385, 511)\n",
      "(336, 448, 560)\n",
      "(336, 527, 625)\n",
      "(336, 540, 636)\n",
      "(336, 630, 714)\n",
      "(336, 748, 820)\n",
      "(336, 850, 914)\n",
      "(339, 452, 565)\n",
      "(340, 357, 493)\n",
      "(340, 528, 628)\n",
      "(340, 816, 884)\n",
      "(341, 420, 541)\n",
      "(342, 456, 570)\n",
      "(344, 645, 731)\n",
      "(345, 460, 575)\n",
      "(345, 756, 831)\n",
      "(345, 828, 897)\n",
      "(348, 464, 580)\n",
      "(348, 805, 877)\n",
      "(350, 576, 674)\n",
      "(350, 840, 910)\n",
      "(351, 468, 585)\n",
      "(351, 720, 801)\n",
      "(352, 420, 548)\n",
      "(352, 660, 748)\n",
      "(352, 936, 1000)\n",
      "(354, 472, 590)\n",
      "(355, 852, 923)\n",
      "(357, 360, 507)\n",
      "(357, 476, 595)\n",
      "(360, 378, 522)\n",
      "(360, 480, 600)\n",
      "(360, 546, 654)\n",
      "(360, 598, 698)\n",
      "(360, 627, 723)\n",
      "(360, 675, 765)\n",
      "(360, 770, 850)\n",
      "(360, 864, 936)\n",
      "(363, 484, 605)\n",
      "(363, 616, 715)\n",
      "(364, 585, 689)\n",
      "(364, 627, 725)\n",
      "(365, 876, 949)\n",
      "(366, 488, 610)\n",
      "(368, 465, 593)\n",
      "(368, 690, 782)\n",
      "(369, 492, 615)\n",
      "(369, 800, 881)\n",
      "(370, 888, 962)\n",
      "(372, 496, 620)\n",
      "(372, 925, 997)\n",
      "(375, 500, 625)\n",
      "(375, 900, 975)\n",
      "(376, 705, 799)\n",
      "(378, 504, 630)\n",
      "(378, 680, 778)\n",
      "(380, 399, 551)\n",
      "(380, 672, 772)\n",
      "(380, 912, 988)\n",
      "(381, 508, 635)\n",
      "(384, 440, 584)\n",
      "(384, 512, 640)\n",
      "(384, 720, 816)\n",
      "(385, 552, 673)\n",
      "(387, 516, 645)\n",
      "(387, 884, 965)\n",
      "(390, 432, 582)\n",
      "(390, 520, 650)\n",
      "(390, 800, 890)\n",
      "(392, 630, 742)\n",
      "(392, 735, 833)\n",
      "(393, 524, 655)\n",
      "(396, 403, 565)\n",
      "(396, 528, 660)\n",
      "(396, 672, 780)\n",
      "(396, 847, 935)\n",
      "(399, 468, 615)\n",
      "(399, 532, 665)\n",
      "(400, 420, 580)\n",
      "(400, 561, 689)\n",
      "(400, 750, 850)\n",
      "(402, 536, 670)\n",
      "(405, 540, 675)\n",
      "(406, 792, 890)\n",
      "(407, 624, 745)\n",
      "(408, 506, 650)\n",
      "(408, 544, 680)\n",
      "(408, 765, 867)\n",
      "(408, 819, 915)\n",
      "(411, 548, 685)\n",
      "(414, 448, 610)\n",
      "(414, 552, 690)\n",
      "(416, 612, 740)\n",
      "(416, 780, 884)\n",
      "(417, 556, 695)\n",
      "(420, 441, 609)\n",
      "(420, 513, 663)\n",
      "(420, 560, 700)\n",
      "(420, 637, 763)\n",
      "(420, 675, 795)\n",
      "(420, 832, 932)\n",
      "(420, 851, 949)\n",
      "(423, 564, 705)\n",
      "(424, 795, 901)\n",
      "(425, 660, 785)\n",
      "(426, 568, 710)\n",
      "(429, 460, 629)\n",
      "(429, 572, 715)\n",
      "(429, 700, 821)\n",
      "(429, 728, 845)\n",
      "(429, 880, 979)\n",
      "(432, 495, 657)\n",
      "(432, 576, 720)\n",
      "(432, 665, 793)\n",
      "(432, 810, 918)\n",
      "(435, 580, 725)\n",
      "(438, 584, 730)\n",
      "(440, 462, 638)\n",
      "(440, 525, 685)\n",
      "(440, 825, 935)\n",
      "(441, 588, 735)\n",
      "(444, 592, 740)\n",
      "(447, 596, 745)\n",
      "(448, 720, 848)\n",
      "(448, 840, 952)\n",
      "(450, 544, 706)\n",
      "(450, 600, 750)\n",
      "(451, 780, 901)\n",
      "(453, 604, 755)\n",
      "(455, 504, 679)\n",
      "(455, 528, 697)\n",
      "(456, 608, 760)\n",
      "(456, 650, 794)\n",
      "(456, 855, 969)\n",
      "(459, 612, 765)\n",
      "(460, 483, 667)\n",
      "(462, 616, 770)\n",
      "(462, 784, 910)\n",
      "(464, 777, 905)\n",
      "(464, 870, 986)\n",
      "(465, 620, 775)\n",
      "(468, 595, 757)\n",
      "(468, 624, 780)\n",
      "(471, 628, 785)\n",
      "(473, 864, 985)\n",
      "(474, 632, 790)\n",
      "(475, 840, 965)\n",
      "(476, 480, 676)\n",
      "(476, 765, 901)\n",
      "(477, 636, 795)\n",
      "(480, 504, 696)\n",
      "(480, 550, 730)\n",
      "(480, 640, 800)\n",
      "(480, 693, 843)\n",
      "(480, 728, 872)\n",
      "(480, 836, 964)\n",
      "(481, 600, 769)\n",
      "(483, 644, 805)\n",
      "(483, 720, 867)\n",
      "(486, 648, 810)\n",
      "(489, 652, 815)\n",
      "(492, 656, 820)\n",
      "(495, 660, 825)\n",
      "(495, 840, 975)\n",
      "(498, 664, 830)\n",
      "(500, 525, 725)\n",
      "(501, 668, 835)\n",
      "(504, 550, 746)\n",
      "(504, 672, 840)\n",
      "(504, 703, 865)\n",
      "(504, 810, 954)\n",
      "(507, 676, 845)\n",
      "(510, 680, 850)\n",
      "(510, 792, 942)\n",
      "(513, 684, 855)\n",
      "(516, 688, 860)\n",
      "(519, 692, 865)\n",
      "(520, 546, 754)\n",
      "(520, 576, 776)\n",
      "(520, 765, 925)\n",
      "(522, 696, 870)\n",
      "(522, 760, 922)\n",
      "(525, 700, 875)\n",
      "(528, 605, 803)\n",
      "(528, 630, 822)\n",
      "(528, 704, 880)\n",
      "(531, 708, 885)\n",
      "(532, 624, 820)\n",
      "(533, 756, 925)\n",
      "(534, 712, 890)\n",
      "(537, 716, 895)\n",
      "(540, 567, 783)\n",
      "(540, 629, 829)\n",
      "(540, 720, 900)\n",
      "(540, 819, 981)\n",
      "(543, 724, 905)\n",
      "(546, 728, 910)\n",
      "(549, 732, 915)\n",
      "(552, 736, 920)\n",
      "(555, 572, 797)\n",
      "(555, 740, 925)\n",
      "(558, 744, 930)\n",
      "(560, 588, 812)\n",
      "(560, 684, 884)\n",
      "(560, 702, 898)\n",
      "(561, 748, 935)\n",
      "(564, 752, 940)\n",
      "(567, 756, 945)\n",
      "(570, 760, 950)\n",
      "(573, 764, 955)\n",
      "(576, 660, 876)\n",
      "(576, 768, 960)\n",
      "(579, 772, 965)\n",
      "(580, 609, 841)\n",
      "(580, 741, 941)\n",
      "(582, 776, 970)\n",
      "(585, 648, 873)\n",
      "(585, 780, 975)\n",
      "(588, 784, 980)\n",
      "(591, 788, 985)\n",
      "(594, 608, 850)\n",
      "(594, 792, 990)\n",
      "(595, 600, 845)\n",
      "(597, 796, 995)\n",
      "(600, 630, 870)\n",
      "(600, 800, 1000)\n",
      "(612, 759, 975)\n",
      "(615, 728, 953)\n",
      "(616, 663, 905)\n",
      "(616, 735, 959)\n",
      "(620, 651, 899)\n",
      "(621, 672, 915)\n",
      "(624, 715, 949)\n",
      "(638, 720, 962)\n",
      "(640, 672, 928)\n",
      "(650, 720, 970)\n",
      "(660, 693, 957)\n",
      "(680, 714, 986)\n",
      "(696, 697, 985)\n"
     ]
    }
   ],
   "source": [
    "# Input: maximum limit for the Pythagorean triplets\n",
    "limit = int(input(\"enter a limit:    \"))\n",
    "\n",
    "# Generate a list of Pythagorean triplets using list comprehension\n",
    "pythagorean_triplets = [(a, b, c) for a in range(1, limit + 1)\n",
    "                         for b in range(a, limit + 1)\n",
    "                         for c in range(b, limit + 1)\n",
    "                         if a**2 + b**2 == c**2]\n",
    "# Print the list of Pythagorean triplets\n",
    "print(\"Pythagorean triplets up to\", limit, \"are:    \")\n",
    "for triplet in pythagorean_triplets:\n",
    "    print(triplet)"
   ]
  },
  {
   "cell_type": "markdown",
   "id": "27e1b793",
   "metadata": {},
   "source": [
    "### 33. Develop a program that generates a list of all possible combinations of two lists using list comprehension."
   ]
  },
  {
   "cell_type": "code",
   "execution_count": 5,
   "id": "c2b4f15a",
   "metadata": {},
   "outputs": [
    {
     "name": "stdout",
     "output_type": "stream",
     "text": [
      "all possible combinations of the two lists are:   \n",
      "(1, 'a')\n",
      "(1, 'b')\n",
      "(1, 'c')\n",
      "(2, 'a')\n",
      "(2, 'b')\n",
      "(2, 'c')\n",
      "(3, 'a')\n",
      "(3, 'b')\n",
      "(3, 'c')\n"
     ]
    }
   ],
   "source": [
    "list1 = [1, 2, 3]\n",
    "list2 = ['a', 'b', 'c']\n",
    "\n",
    "# Generate a list of all possible combinations using list comprehension\n",
    "combinations = [(x, y) for x in list1 for y in list2]\n",
    "\n",
    "# Printing the list of combinations\n",
    "print(\"all possible combinations of the two lists are:   \")\n",
    "for combination in combinations:\n",
    "    print(combination)"
   ]
  },
  {
   "cell_type": "markdown",
   "id": "d29d141e",
   "metadata": {},
   "source": [
    "### 34. Write a program that calculates the mean, median, and mode of a list of numbers using list comprehension."
   ]
  },
  {
   "cell_type": "code",
   "execution_count": 9,
   "id": "719a4ed6",
   "metadata": {},
   "outputs": [
    {
     "name": "stdout",
     "output_type": "stream",
     "text": [
      "Mean: 663.6153846153846\n",
      "Median: 7\n",
      "Mode: [9]\n"
     ]
    }
   ],
   "source": [
    "numbers = [4,7,2,7,5,4,9,8233,322,7,9,9,9]    #input number\n",
    "\n",
    "# Calculate the mean\n",
    "mean = sum(numbers)/len(numbers)\n",
    "\n",
    "\n",
    "# Calculate the median\n",
    "sorted_nums = sorted(numbers)\n",
    "n = len(numbers)\n",
    "if n%2 == 0:\n",
    "    median = (sorted_nums[n//2 - 1] + sorted_nums[n//2]) / 2\n",
    "else:\n",
    "    median = sorted_nums[n//2]\n",
    "\n",
    "    \n",
    "    \n",
    "# Calculate the mode\n",
    "count_dict = {}\n",
    "for num in numbers:\n",
    "    if num in count_dict:\n",
    "        count_dict[num]+=1\n",
    "    else:\n",
    "        count_dict[num] = 1\n",
    "mode = [k for k,v in count_dict.items() if v == max(count_dict.values())]\n",
    "\n",
    "\n",
    "\n",
    "# Print the results\n",
    "print(\"Mean:\", mean)\n",
    "print(\"Median:\", median)\n",
    "print(\"Mode:\", mode)\n"
   ]
  },
  {
   "cell_type": "markdown",
   "id": "771f9a32",
   "metadata": {},
   "source": [
    "### 35. Create a program that generates Pascal's triangle up to a specified number of rows using list comprehension."
   ]
  },
  {
   "cell_type": "code",
   "execution_count": 14,
   "id": "da7de5da",
   "metadata": {},
   "outputs": [
    {
     "name": "stdout",
     "output_type": "stream",
     "text": [
      "Enter the number of rows for Pascal's triangle: 10\n",
      "              1               \n",
      "             1 1              \n",
      "            1 2 1             \n",
      "           1 3 3 1            \n",
      "          1 4 6 4 1           \n",
      "        1 5 10 10 5 1         \n",
      "       1 6 15 20 15 6 1       \n",
      "     1 7 21 35 35 21 7 1      \n",
      "    1 8 28 56 70 56 28 8 1    \n",
      " 1 9 36 84 126 126 84 36 9 1  \n"
     ]
    }
   ],
   "source": [
    "num_rows = int(input(\"enter the number of rows for Pascal's triangle: \"))\n",
    "\n",
    "# Generate Pascal's triangle using list comprehension\n",
    "pascals_triangle = [[1]]\n",
    "\n",
    "for i in range(1, num_rows):\n",
    "    row = [1]  # The first element in each row is always 1\n",
    "\n",
    "    # Calculate the middle elements using the values from the previous row\n",
    "    for j in range(1, i):\n",
    "        row.append(pascals_triangle[i - 1][j - 1] + pascals_triangle[i - 1][j])\n",
    "\n",
    "    row.append(1)  \n",
    "    pascals_triangle.append(row)\n",
    "\n",
    "# Printing Pascal's triangle\n",
    "for row in pascals_triangle:\n",
    "    print(' '.join(map(str, row)).center(num_rows * 3))"
   ]
  },
  {
   "cell_type": "markdown",
   "id": "c4185b9d",
   "metadata": {},
   "source": [
    "### 36. Develop a program that calculates the sum of the digits of a factorial of numbers from 1 to 5 using list comprehension."
   ]
  },
  {
   "cell_type": "code",
   "execution_count": 16,
   "id": "c11024d0",
   "metadata": {},
   "outputs": [
    {
     "name": "stdout",
     "output_type": "stream",
     "text": [
      "The sum of the digits of 1! is 1\n",
      "The sum of the digits of 2! is 2\n",
      "The sum of the digits of 3! is 6\n",
      "The sum of the digits of 4! is 6\n",
      "The sum of the digits of 5! is 3\n"
     ]
    }
   ],
   "source": [
    "# Function to calculate the factorial of number\n",
    "def factorial(n):\n",
    "    if n == 0:\n",
    "        return 1\n",
    "    return n * factorial(n - 1)\n",
    "\n",
    "# Calculate the sum of the digits of the factorial for numbers 1 to 5 using list comprehension\n",
    "factorial_sum = [sum(map(int, str(factorial(n))) ) for n in range(1, 6)]\n",
    "\n",
    "# Printing the results\n",
    "for n, sum_of_digits in enumerate(factorial_sum, start=1):\n",
    "    print(f\"The sum of the digits of {n}! is {sum_of_digits}\")"
   ]
  },
  {
   "cell_type": "markdown",
   "id": "2ab36f19",
   "metadata": {},
   "source": [
    "### 37. Write a program that finds the longest word in a sentence using list comprehension."
   ]
  },
  {
   "cell_type": "code",
   "execution_count": 18,
   "id": "c8fe6f41",
   "metadata": {},
   "outputs": [
    {
     "name": "stdout",
     "output_type": "stream",
     "text": [
      "Enter a sentence: hello welcome india\n",
      "The longest word in the sentence is: welcome\n"
     ]
    }
   ],
   "source": [
    "str37 = input(\"enter a sentence: \")\n",
    "\n",
    "# Split the sentence into words and finding the longest word using list comprehension\n",
    "words = str37.split()\n",
    "longest_word = max(words, key=lambda word: len(word))\n",
    "\n",
    "# Print the longest word\n",
    "print(\"The longest word in the sentence is:\", longest_word)"
   ]
  },
  {
   "cell_type": "markdown",
   "id": "6f83a45a",
   "metadata": {},
   "source": [
    "### 38. Create a program that filters a list of strings to include only those with more than three vowels using list comprehension."
   ]
  },
  {
   "cell_type": "code",
   "execution_count": 20,
   "id": "49393a24",
   "metadata": {},
   "outputs": [
    {
     "name": "stdout",
     "output_type": "stream",
     "text": [
      "Strings with more than three vowels: ['aeiou']\n"
     ]
    }
   ],
   "source": [
    "# Input: List of strings\n",
    "list_strings = [\"apple\", \"banana\", \"cherry\", \"date\", \"fig\", \"grape\", \"kiwi\",\"aeiou\"]\n",
    "\n",
    "# Define a function to count vowels in a string\n",
    "def count_vowels(s):\n",
    "    vowels = \"AEIOUaeiou\"\n",
    "    return sum(1 for char in s if char in vowels)\n",
    "\n",
    "# Use list comprehension to filter strings with more than three vowels\n",
    "filtered_strings = [s for s in list_strings if count_vowels(s) > 3]\n",
    "\n",
    "# Print the filtered strings\n",
    "print(\"Strings with more than three vowels:\", filtered_strings)"
   ]
  },
  {
   "cell_type": "markdown",
   "id": "79626db4",
   "metadata": {},
   "source": [
    "### 39. Develop a program that calculates the sum of the digits of numbers from 1 to 1000 using list comprehension."
   ]
  },
  {
   "cell_type": "code",
   "execution_count": 21,
   "id": "703050ea",
   "metadata": {},
   "outputs": [
    {
     "name": "stdout",
     "output_type": "stream",
     "text": [
      "The sum of the digits for numbers from 1 to 1000 is: 13501\n"
     ]
    }
   ],
   "source": [
    "# Calculate the sum of the digits for numbers from 1 to 1000 using list comprehension\n",
    "digit_sums_no = [sum(map(int, str(num))) for num in range(1, 1001)]\n",
    "\n",
    "# Calculate and print the total sum of the digit sums\n",
    "total_digit_sum = sum(digit_sums_no)\n",
    "\n",
    "# Printing the results\n",
    "print(\"The sum of the digits for numbers from 1 to 1000 is:\", total_digit_sum)"
   ]
  },
  {
   "cell_type": "markdown",
   "id": "137bb90d",
   "metadata": {},
   "source": [
    "### 40. Write a program that generates a list of prime palindromic numbers using list comprehension."
   ]
  },
  {
   "cell_type": "code",
   "execution_count": 25,
   "id": "6c6fb658",
   "metadata": {},
   "outputs": [
    {
     "name": "stdout",
     "output_type": "stream",
     "text": [
      "Prime palindromic numbers up to 1000 are:   [2, 3, 5, 7, 11, 101, 131, 151, 181, 191, 313, 353, 373, 383, 727, 757, 787, 797, 919, 929]\n"
     ]
    }
   ],
   "source": [
    "#Generate a list of prime palindromic numbers using list comprehension\n",
    "prime_palindromic_num = [num for num in range(2, 1000) if all(num % i != 0 for i in range(2, int(num**0.5) + 1)) and str(num) == str(num)[::-1]]\n",
    "\n",
    "#Printing the list of prime palindromic numbers\n",
    "print(\"Prime palindromic numbers up to 1000 are:  \", prime_palindromic_num)"
   ]
  }
 ],
 "metadata": {
  "kernelspec": {
   "display_name": "Python 3 (ipykernel)",
   "language": "python",
   "name": "python3"
  },
  "language_info": {
   "codemirror_mode": {
    "name": "ipython",
    "version": 3
   },
   "file_extension": ".py",
   "mimetype": "text/x-python",
   "name": "python",
   "nbconvert_exporter": "python",
   "pygments_lexer": "ipython3",
   "version": "3.10.5"
  }
 },
 "nbformat": 4,
 "nbformat_minor": 5
}
