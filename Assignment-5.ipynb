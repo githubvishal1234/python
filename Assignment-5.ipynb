{
 "cells": [
  {
   "cell_type": "markdown",
   "id": "04fda494",
   "metadata": {},
   "source": [
    "## Assignment-5"
   ]
  },
  {
   "cell_type": "markdown",
   "id": "887dba89",
   "metadata": {},
   "source": [
    "### For Loop :-"
   ]
  },
  {
   "cell_type": "markdown",
   "id": "d5eea25c",
   "metadata": {},
   "source": [
    "### 1.)Write a Python program to print numbers from 1 to 10 using a for loop."
   ]
  },
  {
   "cell_type": "code",
   "execution_count": 3,
   "id": "81a4bec8",
   "metadata": {},
   "outputs": [
    {
     "name": "stdout",
     "output_type": "stream",
     "text": [
      "1\n",
      "2\n",
      "3\n",
      "4\n",
      "5\n",
      "6\n",
      "7\n",
      "8\n",
      "9\n",
      "10\n"
     ]
    }
   ],
   "source": [
    "for i in range(1,11):\n",
    "    print(i)"
   ]
  },
  {
   "cell_type": "markdown",
   "id": "0d4d70d3",
   "metadata": {},
   "source": [
    "### 2.)Explain the difference between a for loop and a while loop in Python."
   ]
  },
  {
   "cell_type": "markdown",
   "id": "02cf19bc",
   "metadata": {},
   "source": [
    "Ans: \n",
    "\n",
    "For Loop:\n",
    "\n",
    "1.)  The for loop is typically used when you know the number of iterations or the exact sequence you want to loop through.\n",
    "2.)  It iterates over a sequence (such as a list, tuple, string, or range) or any object that is iterable.\n",
    "3.) The loop executes for each element in the sequence until the sequence ends.\n",
    "4.) It's great for iterating through a collection of elements or performing a set number of iterations.\n",
    "\n",
    "Example:"
   ]
  },
  {
   "cell_type": "code",
   "execution_count": 4,
   "id": "4c62ace1",
   "metadata": {},
   "outputs": [
    {
     "name": "stdout",
     "output_type": "stream",
     "text": [
      "1\n",
      "2\n",
      "3\n",
      "4\n",
      "5\n"
     ]
    }
   ],
   "source": [
    "# Iterating through a list using a for loop\n",
    "my_list = [1, 2, 3, 4, 5]\n",
    "for element in my_list:\n",
    "    print(element)"
   ]
  },
  {
   "cell_type": "markdown",
   "id": "e980ab95",
   "metadata": {},
   "source": [
    "While Loop:\n",
    "\t\n",
    "1.)The while loop is used when you want to execute a block of code as long as a condition is true.\n",
    "2.)It keeps iterating until the given condition becomes false. If the condition is initially false, the code inside the loop may not execute at all.\n",
    "3.)It's useful when you don't know the exact number of iterations, and the loop's termination depends on a specific condition.\n",
    "\n",
    "Example:"
   ]
  },
  {
   "cell_type": "code",
   "execution_count": 6,
   "id": "e3c1b1ab",
   "metadata": {},
   "outputs": [
    {
     "name": "stdout",
     "output_type": "stream",
     "text": [
      "6\n"
     ]
    }
   ],
   "source": [
    "# Using a while loop to count from 1 to 5\n",
    "count = 1\n",
    "while count <= 5:\n",
    "    count += 1\n",
    "print(count)"
   ]
  },
  {
   "cell_type": "markdown",
   "id": "19460d2c",
   "metadata": {},
   "source": [
    "### 3.)Write a Python program to calculate the sum of all numbers from 1 to 100 using a for loop."
   ]
  },
  {
   "cell_type": "code",
   "execution_count": 7,
   "id": "0cca2ee5",
   "metadata": {},
   "outputs": [
    {
     "name": "stdout",
     "output_type": "stream",
     "text": [
      "The sum of numbers from 1 to 100 is: 5050\n"
     ]
    }
   ],
   "source": [
    "# Initialize a variable to store the sum\n",
    "total_sum = 0\n",
    "# Iterate through numbers from 1 to 100 using a for loop\n",
    "for i in range(1, 101):  # range() function generates numbers from 1 to 100\n",
    "    total_sum += i  # Add each number to the total_sum\n",
    "\n",
    "# Print the sum of numbers from 1 to 100\n",
    "print(\"the sum of numbers from 1 to 100 is:\", total_sum)"
   ]
  },
  {
   "cell_type": "markdown",
   "id": "1af080e2",
   "metadata": {},
   "source": [
    "### 4.)How do you iterate through a list using a for loop in Python?"
   ]
  },
  {
   "cell_type": "raw",
   "id": "35690820",
   "metadata": {},
   "source": [
    " In Python, we  can iterate through a list using a for loop by iterating over the elements of the list.\n",
    "here's an example of how to do this:  "
   ]
  },
  {
   "cell_type": "code",
   "execution_count": 8,
   "id": "45475b85",
   "metadata": {},
   "outputs": [
    {
     "name": "stdout",
     "output_type": "stream",
     "text": [
      "10\n",
      "20\n",
      "30\n",
      "40\n",
      "50\n"
     ]
    }
   ],
   "source": [
    "# Define a list\n",
    "my_list = [10, 20, 30, 40, 50]\n",
    "\n",
    "# Iterate through the list using a for loop\n",
    "for element in my_list:\n",
    "    print(element)             # Print each element in the list"
   ]
  },
  {
   "cell_type": "markdown",
   "id": "17ea7252",
   "metadata": {},
   "source": [
    "### 5.)Write a Python program to find the product of all elements in a list using a for loop."
   ]
  },
  {
   "cell_type": "code",
   "execution_count": 9,
   "id": "3520185c",
   "metadata": {},
   "outputs": [
    {
     "name": "stdout",
     "output_type": "stream",
     "text": [
      "The product of all elements in the list is: 3840\n"
     ]
    }
   ],
   "source": [
    "# Define a list\n",
    "my_list = [2, 4, 6, 8, 10]\n",
    "\n",
    "# Initialize a variable to store the product\n",
    "product = 1  # Start with 1 as the initial value for multiplication\n",
    "\n",
    "# Iterate through the list and calculate the product\n",
    "for element in my_list:\n",
    "    product *= element  # Multiply each element to the current product\n",
    "\n",
    "# Print the product of all elements in the list\n",
    "print(\"The product of all elements in the list is:\", product)\n"
   ]
  },
  {
   "cell_type": "markdown",
   "id": "f1c2b4c3",
   "metadata": {},
   "source": [
    "### 6.)Create a Python program that prints all even numbers from 1 to 20 using a for loop."
   ]
  },
  {
   "cell_type": "code",
   "execution_count": 11,
   "id": "e3669b13",
   "metadata": {},
   "outputs": [
    {
     "name": "stdout",
     "output_type": "stream",
     "text": [
      "2\n",
      "4\n",
      "6\n",
      "8\n",
      "10\n",
      "12\n",
      "14\n",
      "16\n",
      "18\n"
     ]
    }
   ],
   "source": [
    "for i in range(1,20):        #using for loop to iterate from 1 to 20\n",
    "    if(i%2==0):             #condition for even numbers \n",
    "        print(i)                  #printing  even numbers"
   ]
  },
  {
   "cell_type": "markdown",
   "id": "33ef1e8d",
   "metadata": {},
   "source": [
    "### 7.)Write a Python program that calculates the factorial of a number using a for loop."
   ]
  },
  {
   "cell_type": "code",
   "execution_count": 16,
   "id": "6833c755",
   "metadata": {},
   "outputs": [
    {
     "name": "stdout",
     "output_type": "stream",
     "text": [
      "enter the number 5\n",
      "factorial of given number is:  120\n"
     ]
    }
   ],
   "source": [
    "  # Calculate factorial using a for loop\n",
    "number=int(input(\"enter the number \"))\n",
    "factorial=1\n",
    "for i in range(1, number + 1):\n",
    "    factorial *= i\n",
    "print(\"factorial of given number is: \",factorial)"
   ]
  },
  {
   "cell_type": "markdown",
   "id": "f851b2e8",
   "metadata": {},
   "source": [
    "### 8.)How can you iterate through the characters of a string using a for loop in Python?"
   ]
  },
  {
   "cell_type": "markdown",
   "id": "78113118",
   "metadata": {},
   "source": [
    "we can iterate through the characters of a string in Python using a `for` loop.Each character of the string is treated as an element during iteration. Here's an example:"
   ]
  },
  {
   "cell_type": "code",
   "execution_count": 17,
   "id": "f307d89e",
   "metadata": {},
   "outputs": [
    {
     "name": "stdout",
     "output_type": "stream",
     "text": [
      "H\n",
      "e\n",
      "l\n",
      "l\n",
      "o\n",
      ",\n",
      " \n",
      "W\n",
      "o\n",
      "r\n",
      "l\n",
      "d\n",
      "!\n"
     ]
    }
   ],
   "source": [
    " # Define a string\n",
    "string8 = \"Hello, World!\"\n",
    "\n",
    "# Iterate through the characters of the string using a for loop\n",
    "for char in string8:\n",
    "    print(char)  # Print each character in the string"
   ]
  },
  {
   "cell_type": "markdown",
   "id": "2d2bd536",
   "metadata": {},
   "source": [
    "### 9.)Write a Python program to find the largest number in a list using a for loop."
   ]
  },
  {
   "cell_type": "code",
   "execution_count": 18,
   "id": "b5f8a9f1",
   "metadata": {},
   "outputs": [
    {
     "name": "stdout",
     "output_type": "stream",
     "text": [
      "The largest number in the list is: 94\n"
     ]
    }
   ],
   "source": [
    "# Define a list\n",
    "numbers = [25, 11, 67, 94, 42, 18, 5]\n",
    "\n",
    "# Initialize the maximum number to the first element of the list\n",
    "max_number = numbers[0]\n",
    "\n",
    "# Iterate through the list to find the largest number\n",
    "for num in numbers:\n",
    "    if num > max_number:\n",
    "        max_number = num  # Update max_number if a larger number is found\n",
    "\n",
    "# Print the largest number in the list\n",
    "print(\"The largest number in the list is:\", max_number)"
   ]
  },
  {
   "cell_type": "markdown",
   "id": "3517d2dd",
   "metadata": {},
   "source": [
    "### 10.)Create a Python program that prints the Fibonacci sequence up to a specified limit using a for loop."
   ]
  },
  {
   "cell_type": "code",
   "execution_count": 19,
   "id": "61a15f0a",
   "metadata": {},
   "outputs": [
    {
     "name": "stdout",
     "output_type": "stream",
     "text": [
      "The Fibonacci sequence up to the limit is: [0, 1, 1, 2, 3, 5, 8, 13, 21, 34, 55, 89]\n"
     ]
    }
   ],
   "source": [
    "sequence_limit = 100  # Change this value to set your desired limit\n",
    "\n",
    "# Initialize the first two numbers of the Fibonacci sequence\n",
    "fibonacci_sequence = [0, 1]\n",
    "\n",
    "# Generate the Fibonacci sequence up to the specified limit\n",
    "while True:\n",
    "    next_number = fibonacci_sequence[-1] + fibonacci_sequence[-2]\n",
    "    if next_number <= sequence_limit:\n",
    "        fibonacci_sequence.append(next_number)\n",
    "    else:\n",
    "        break  # Break the loop when the limit is reached\n",
    "\n",
    "# Print the Fibonacci sequence up to the specified limit\n",
    "print(\"The Fibonacci sequence up to the limit is:\", fibonacci_sequence)"
   ]
  },
  {
   "cell_type": "markdown",
   "id": "8c57df8d",
   "metadata": {},
   "source": [
    "### 11.)Write a Python program to count the number of vowels in a given string using a for loop."
   ]
  },
  {
   "cell_type": "code",
   "execution_count": 20,
   "id": "546c6635",
   "metadata": {},
   "outputs": [
    {
     "name": "stdout",
     "output_type": "stream",
     "text": [
      "Enter a string: hello pwskills\n",
      "The number of vowels in the string is: 3\n"
     ]
    }
   ],
   "source": [
    "# Input a string\n",
    "user_input = input(\"enter a string: \")\n",
    "\n",
    "# Convert the string to lowercase to handle both lowercase and uppercase vowels\n",
    "user_input = user_input.lower()\n",
    "\n",
    "# Initialize a variable to store the count of vowels\n",
    "vowel_count = 0\n",
    "\n",
    "# Iterate through the string to count vowels using a for loop\n",
    "for char in user_input:\n",
    "    if char in \"aeiou\":\n",
    "        vowel_count += 1\n",
    "\n",
    "# Display the count of vowels in the string\n",
    "print(f\"The number of vowels in the string is: {vowel_count}\")"
   ]
  },
  {
   "cell_type": "markdown",
   "id": "c127db73",
   "metadata": {},
   "source": [
    "### 12.)Create a Python program that generates a multiplication table for a given number using a for loop."
   ]
  },
  {
   "cell_type": "code",
   "execution_count": 1,
   "id": "769bcefe",
   "metadata": {},
   "outputs": [
    {
     "name": "stdout",
     "output_type": "stream",
     "text": [
      "enter a number for the multiplication table: 5\n",
      "Multiplication table for 5:\n",
      "5 x 1 = 5\n",
      "5 x 2 = 10\n",
      "5 x 3 = 15\n",
      "5 x 4 = 20\n",
      "5 x 5 = 25\n",
      "5 x 6 = 30\n",
      "5 x 7 = 35\n",
      "5 x 8 = 40\n",
      "5 x 9 = 45\n",
      "5 x 10 = 50\n"
     ]
    }
   ],
   "source": [
    "# Input a number for the multiplication table\n",
    "number = int(input(\"enter a number for the multiplication table: \"))\n",
    "\n",
    "# Generate and display the multiplication table using a for loop\n",
    "print(f\"Multiplication table for {number}:\")\n",
    "for i in range(1, 11):  # Multiplication from 1 to 10\n",
    "    print(f\"{number} x {i} = {number * i}\")"
   ]
  },
  {
   "cell_type": "markdown",
   "id": "6e394004",
   "metadata": {},
   "source": [
    "### 13.)Write a Python program to reverse a list using a for loop."
   ]
  },
  {
   "cell_type": "code",
   "execution_count": 22,
   "id": "a6d91ced",
   "metadata": {},
   "outputs": [
    {
     "name": "stdout",
     "output_type": "stream",
     "text": [
      "Original List: [1, 2, 3, 4, 5]\n",
      "Reversed List: [5, 4, 3, 2, 1]\n"
     ]
    }
   ],
   "source": [
    "# Define a list\n",
    "original_list = [1, 2, 3, 4, 5]\n",
    "\n",
    "# Initialize an empty list to store the reversed elements\n",
    "reversed_list = []\n",
    "\n",
    "# Iterate through the original list in reverse using a for loop\n",
    "for i in range(len(original_list) - 1, -1, -1):\n",
    "    reversed_list.append(original_list[i])\n",
    "\n",
    "# Display the reversed list\n",
    "print(\"Original List:\", original_list)\n",
    "print(\"Reversed List:\", reversed_list)"
   ]
  },
  {
   "cell_type": "markdown",
   "id": "49f082ed",
   "metadata": {},
   "source": [
    "### 14.)Write a Python program to find the common elements between two lists using a for loop."
   ]
  },
  {
   "cell_type": "code",
   "execution_count": 23,
   "id": "786d7b2e",
   "metadata": {},
   "outputs": [
    {
     "name": "stdout",
     "output_type": "stream",
     "text": [
      "List 1: [1, 2, 3, 4, 5]\n",
      "List 2: [3, 4, 5, 6, 7]\n",
      "Common elements: [3, 4, 5]\n"
     ]
    }
   ],
   "source": [
    " # Define two lists\n",
    "list1 = [1, 2, 3, 4, 5]\n",
    "list2 = [3, 4, 5, 6, 7]\n",
    "\n",
    "# Initialize an empty list to store common elements\n",
    "common_elements = []\n",
    "\n",
    "# Iterate through list1 and check for common elements in list2\n",
    "for item in list1:\n",
    "    if item in list2:\n",
    "        common_elements.append(item)\n",
    "\n",
    "# Display the common elements between the two lists\n",
    "print(\"List 1:\", list1)\n",
    "print(\"List 2:\", list2)\n",
    "print(\"Common elements:\", common_elements)"
   ]
  },
  {
   "cell_type": "markdown",
   "id": "df2146de",
   "metadata": {},
   "source": [
    "### 15.)Explain how to use a for loop to iterate through the keys and values of a dictionary in Python."
   ]
  },
  {
   "cell_type": "markdown",
   "id": "a4f568f3",
   "metadata": {},
   "source": [
    "In Python, we can use a for loop to iterate through the keys and values of a dictionary using various methods, \n",
    "including the items(), keys(), and values() methods available for dictionaries. Here's how you can achieve this:\n",
    "\n",
    "Iterating through keys and values using items():\n",
    "The items() method in Python dictionaries returns a view object that displays a list of (key, value) tuple pairs. You can iterate through this to access both keys and values."
   ]
  },
  {
   "cell_type": "code",
   "execution_count": 1,
   "id": "cb8c3485",
   "metadata": {},
   "outputs": [
    {
     "name": "stdout",
     "output_type": "stream",
     "text": [
      "Key: a, Value: 1\n",
      "Key: b, Value: 2\n",
      "Key: c, Value: 3\n"
     ]
    }
   ],
   "source": [
    "my_dict = {'a': 1, 'b': 2, 'c': 3}\n",
    "# Iterating through keys and values using items()\n",
    "for key, value in my_dict.items():\n",
    "    print(f\"Key: {key}, Value: {value}\")"
   ]
  },
  {
   "cell_type": "markdown",
   "id": "48dabb76",
   "metadata": {},
   "source": [
    "Iterating through keys only using keys():\n",
    "The keys() method provides an iterable object that represents the keys in the dictionary. You can use this to loop through the keys only."
   ]
  },
  {
   "cell_type": "code",
   "execution_count": 2,
   "id": "05b31370",
   "metadata": {},
   "outputs": [
    {
     "name": "stdout",
     "output_type": "stream",
     "text": [
      "Key: a\n",
      "Key: b\n",
      "Key: c\n"
     ]
    }
   ],
   "source": [
    "my_dict = {'a': 1, 'b': 2, 'c': 3}\n",
    "# Iterating through keys only using keys()\n",
    "for key in my_dict.keys():\n",
    "    print(\"Key:\", key)"
   ]
  },
  {
   "cell_type": "markdown",
   "id": "c6305b2a",
   "metadata": {},
   "source": [
    "Iterating through values only using values():\n",
    "The values() method returns an iterable object representing the values in the dictionary.\n",
    "You can use this to iterate through the values."
   ]
  },
  {
   "cell_type": "code",
   "execution_count": 3,
   "id": "e85f79aa",
   "metadata": {},
   "outputs": [
    {
     "name": "stdout",
     "output_type": "stream",
     "text": [
      "Value: 1\n",
      "Value: 2\n",
      "Value: 3\n"
     ]
    }
   ],
   "source": [
    "my_dict = {'a': 1, 'b': 2, 'c': 3}\n",
    "# Iterating through values only using values()\n",
    "for value in my_dict.values():\n",
    "    print(\"Value:\", value)"
   ]
  },
  {
   "cell_type": "markdown",
   "id": "162c4b41",
   "metadata": {},
   "source": [
    "### 16.)Write a Python program to find the GCD (Greatest Common Divisor) of two numbers using a for loop"
   ]
  },
  {
   "cell_type": "code",
   "execution_count": 5,
   "id": "d4a2b756",
   "metadata": {},
   "outputs": [
    {
     "name": "stdout",
     "output_type": "stream",
     "text": [
      "Enter the first number: 12\n",
      "Enter the second number: 24\n",
      "The GCD of 12 and 24 is: 12\n"
     ]
    }
   ],
   "source": [
    "# function to calculate GCD using a for loop\n",
    "def calculate_gcd(a, b):\n",
    "    gcd = 1\n",
    "    for i in range(1, min(a, b) + 1):\n",
    "        if a % i == 0 and b % i == 0:\n",
    "            gcd = i\n",
    "    return gcd\n",
    "\n",
    "num1 = int(input(\"Enter the first number: \"))\n",
    "num2 = int(input(\"Enter the second number: \"))\n",
    "\n",
    "# calculate and display the GCD of the two numbers\n",
    "gcd = calculate_gcd(num1, num2)\n",
    "print(f\"The GCD of {num1} and {num2} is: {gcd}\")"
   ]
  },
  {
   "cell_type": "markdown",
   "id": "d4d36998",
   "metadata": {},
   "source": [
    "### 17.)Create a Python program that checks if a string is a palindrome using a for loop."
   ]
  },
  {
   "cell_type": "code",
   "execution_count": 7,
   "id": "dd0d6d7c",
   "metadata": {},
   "outputs": [
    {
     "name": "stdout",
     "output_type": "stream",
     "text": [
      "Enter a string: dad\n",
      "The string 'dad' is a palindrome.\n"
     ]
    }
   ],
   "source": [
    "# Input a string to check for palindrome\n",
    "user_input = input(\"Enter a string: \")\n",
    "# Convert the input string to lowercase for case-insensitive comparison\n",
    "input_string = user_input.lower()\n",
    "\n",
    "# Check if the input string is a palindrome using a for loop\n",
    "is_palindrome = True\n",
    "for i in range(len(input_string) // 2):\n",
    "    if input_string[i] != input_string[-i - 1]:\n",
    "        is_palindrome = False\n",
    "        break\n",
    "\n",
    "# Display the result\n",
    "if is_palindrome:\n",
    "    print(f\"The string '{user_input}' is a palindrome.\")\n",
    "else:\n",
    "    print(f\"The string '{user_input}' is not a palindrome.\")\n"
   ]
  },
  {
   "cell_type": "markdown",
   "id": "b2fef810",
   "metadata": {},
   "source": [
    "### 18.)Write a Python program to remove duplicates from a list using a for loop."
   ]
  },
  {
   "cell_type": "code",
   "execution_count": 8,
   "id": "9eeb6603",
   "metadata": {},
   "outputs": [
    {
     "name": "stdout",
     "output_type": "stream",
     "text": [
      "Original List: [1, 2, 2, 3, 4, 4, 5, 6, 6, 7]\n",
      "List with Duplicates Removed: [1, 2, 3, 4, 5, 6, 7]\n"
     ]
    }
   ],
   "source": [
    "#Input a list with duplicates\n",
    "input_list = [1, 2, 2, 3, 4, 4, 5, 6, 6, 7]\n",
    "\n",
    "#Remove duplicates from the list using a for loop\n",
    "unique_list = []\n",
    "for item in input_list:\n",
    "    if item not in unique_list:\n",
    "        unique_list.append(item)\n",
    "\n",
    "#Display the original list and the list with duplicates removed\n",
    "print(\"Original List:\", input_list)\n",
    "print(\"List with Duplicates Removed:\", unique_list)\n"
   ]
  },
  {
   "cell_type": "markdown",
   "id": "355122e2",
   "metadata": {},
   "source": [
    "### 19.)Create a Python program that counts the number of words in a sentence using a for loop."
   ]
  },
  {
   "cell_type": "code",
   "execution_count": 9,
   "id": "2967934f",
   "metadata": {},
   "outputs": [
    {
     "name": "stdout",
     "output_type": "stream",
     "text": [
      "Enter a sentence: hello\n",
      "The number of words in the sentence is: 1\n"
     ]
    }
   ],
   "source": [
    "# Input a sentence\n",
    "sentence = input(\"Enter a sentence: \")\n",
    "\n",
    "# Initialize word count to 1 as the minimum for an empty string\n",
    "word_count = 1 if len(sentence) > 0 else 0\n",
    "\n",
    "# Count the number of words in the sentence using a for loop\n",
    "for character in sentence:\n",
    "    if character == ' ':\n",
    "        word_count += 1\n",
    "\n",
    "# Display the number of words in the sentence\n",
    "print(f\"The number of words in the sentence is: {word_count}\")"
   ]
  },
  {
   "cell_type": "markdown",
   "id": "b3475f91",
   "metadata": {},
   "source": [
    "### 20.)Write a Python program to find the sum of all odd numbers from 1 to 50 using a for loop."
   ]
  },
  {
   "cell_type": "code",
   "execution_count": 10,
   "id": "b23d3ea6",
   "metadata": {},
   "outputs": [
    {
     "name": "stdout",
     "output_type": "stream",
     "text": [
      "The sum of odd numbers from 1 to 50 is: 625\n"
     ]
    }
   ],
   "source": [
    "# Initialize a variable to store the sum of odd numbers\n",
    "odd_sum = 0\n",
    "\n",
    "# Iterate through numbers from 1 to 50 using a for loop and find the sum of odd numbers\n",
    "for num in range(1, 51):\n",
    "    if num % 2 != 0:  # Check if the number is odd\n",
    "        odd_sum += num\n",
    "\n",
    "# Display the sum of odd numbers from 1 to 50\n",
    "print(\"The sum of odd numbers from 1 to 50 is:\", odd_sum)\n"
   ]
  },
  {
   "cell_type": "markdown",
   "id": "7a0c6c45",
   "metadata": {},
   "source": [
    "### 21.)Write a Python program that checks if a given year is a leap year using a for loop."
   ]
  },
  {
   "cell_type": "code",
   "execution_count": 11,
   "id": "c2042016",
   "metadata": {},
   "outputs": [
    {
     "name": "stdout",
     "output_type": "stream",
     "text": [
      "Enter a year: 2004\n",
      "2004 is a leap year.\n"
     ]
    }
   ],
   "source": [
    " # Input a year\n",
    "year = int(input(\"Enter a year: \"))\n",
    "\n",
    "is_leap_year = False\n",
    "\n",
    "# Check for leap year using a for loop\n",
    "for y in range(4, year + 1, 4):\n",
    "    if y == year:\n",
    "        is_leap_year = True\n",
    "        break\n",
    "\n",
    "# Display the result\n",
    "if is_leap_year:\n",
    "    print(f\"{year} is a leap year.\")\n",
    "else:\n",
    "    print(f\"{year} is not a leap year.\")"
   ]
  },
  {
   "cell_type": "markdown",
   "id": "00456e24",
   "metadata": {},
   "source": [
    "### 22.)Create a Python program that calculates the square root of a number using a for loop."
   ]
  },
  {
   "cell_type": "code",
   "execution_count": 12,
   "id": "14aa04bf",
   "metadata": {},
   "outputs": [
    {
     "name": "stdout",
     "output_type": "stream",
     "text": [
      "Enter a number to find its square root: 256\n",
      "The square root of 256.0 is approximately 16.0\n"
     ]
    }
   ],
   "source": [
    "# Input a number to find its square root\n",
    "number = float(input(\"Enter a number to find its square root: \"))\n",
    "\n",
    "if number < 0:\n",
    "    print(\"Square root is not defined for negative numbers\")\n",
    "else:\n",
    "    # Set an initial guess for the square root\n",
    "    guess = number / 2.0\n",
    "\n",
    "    # Iterate to improve the guess\n",
    "    for _ in range(20):  # Perform 20 iterations for approximation\n",
    "        guess = (guess + number / guess) / 2\n",
    "\n",
    "    print(f\"The square root of {number} is approximately {guess}\")"
   ]
  },
  {
   "cell_type": "markdown",
   "id": "a7be79d8",
   "metadata": {},
   "source": [
    "### 23.)Write a Python program to find the LCM (Least Common Multiple) of two numbers using a for loop."
   ]
  },
  {
   "cell_type": "code",
   "execution_count": 15,
   "id": "d6d07258",
   "metadata": {},
   "outputs": [
    {
     "name": "stdout",
     "output_type": "stream",
     "text": [
      "Enter first number: 56\n",
      "Enter second number: 54\n",
      "The LCM of 56 and 54 is: 1512\n"
     ]
    }
   ],
   "source": [
    "  # Input two numbers\n",
    "num1 = int(input(\"Enter first number: \"))\n",
    "num2 = int(input(\"Enter second number: \"))\n",
    "\n",
    "# Find the maximum of the two numbers\n",
    "max_num = max(num1, num2)\n",
    "\n",
    "# Initialize LCM as the greater number among the two inputs\n",
    "lcm = max(num1, num2)\n",
    "\n",
    "# Iterate to find the LCM using a for loop\n",
    "for i in range(max_num, num1 * num2 + 1, max_num):\n",
    "    if i % num1 == 0 and i % num2 == 0:\n",
    "        lcm = i\n",
    "        break\n",
    "\n",
    "# Display the LCM of the two numbers\n",
    "print(f\"The LCM of {num1} and {num2} is: {lcm}\")\n"
   ]
  },
  {
   "cell_type": "markdown",
   "id": "be543b18",
   "metadata": {},
   "source": [
    "## If else :"
   ]
  },
  {
   "cell_type": "markdown",
   "id": "eba01547",
   "metadata": {},
   "source": [
    "### 1.)Write a Python program to check if a number is positive, negative, or zero using an if-else statement."
   ]
  },
  {
   "cell_type": "code",
   "execution_count": 16,
   "id": "9875d192",
   "metadata": {},
   "outputs": [
    {
     "name": "stdout",
     "output_type": "stream",
     "text": [
      "Enter a number: 56\n",
      "The number is positive.\n"
     ]
    }
   ],
   "source": [
    "# Input a number\n",
    "number = float(input(\"Enter a number: \"))\n",
    "\n",
    "# Check if the number is positive, negative, or zero using if-else\n",
    "if number > 0:\n",
    "    print(\"The number is positive.\")\n",
    "elif number < 0:\n",
    "    print(\"The number is negative.\")\n",
    "else:\n",
    "    print(\"The number is zero.\")\n"
   ]
  },
  {
   "cell_type": "markdown",
   "id": "920f827f",
   "metadata": {},
   "source": [
    "### 2.)Create a Python program that checks if a given number is even or odd using an if-else statement."
   ]
  },
  {
   "cell_type": "code",
   "execution_count": 17,
   "id": "a1b2c6cf",
   "metadata": {},
   "outputs": [
    {
     "name": "stdout",
     "output_type": "stream",
     "text": [
      "Enter a number: 45\n",
      "The number 45 is odd.\n"
     ]
    }
   ],
   "source": [
    "# Input a number\n",
    "number = int(input(\"Enter a number: \"))\n",
    "\n",
    "# Check if the number is even or odd using if-else\n",
    "if number % 2 == 0:\n",
    "    print(f\"The number {number} is even.\")\n",
    "else:\n",
    "    print(f\"The number {number} is odd.\")\n"
   ]
  },
  {
   "cell_type": "markdown",
   "id": "2a553210",
   "metadata": {},
   "source": [
    "### 3.)How can you use nested if-else statements in Python, and provide an example?"
   ]
  },
  {
   "cell_type": "markdown",
   "id": "2ab447a2",
   "metadata": {},
   "source": [
    "Nested if-else statements in Python allow for the implementation of multiple conditional branches within one another.\n",
    "This means that an if or else block can contain another if-else block inside it. Here's an example:"
   ]
  },
  {
   "cell_type": "code",
   "execution_count": 18,
   "id": "64ad17c1",
   "metadata": {},
   "outputs": [
    {
     "name": "stdout",
     "output_type": "stream",
     "text": [
      "Enter your age: 58\n",
      "You are eligible to vote.\n",
      "You are not eligible for senior citizen benefits.\n"
     ]
    }
   ],
   "source": [
    "# Input an age\n",
    "age = int(input(\"Enter your age: \"))\n",
    "\n",
    "# Check if the person is eligible to vote based on age\n",
    "if age >= 18:\n",
    "    print(\"You are eligible to vote.\")\n",
    "    # Nested if-else for additional eligibility conditions\n",
    "    if age >= 60:\n",
    "        print(\"You are also eligible for senior citizen benefits.\")\n",
    "    else:\n",
    "        print(\"You are not eligible for senior citizen benefits.\")\n",
    "else:\n",
    "    print(\"You are not eligible to vote.\")\n"
   ]
  },
  {
   "cell_type": "markdown",
   "id": "877d0c59",
   "metadata": {},
   "source": [
    "### 4.)Write a Python program to determine the largest of three numbers using if-else."
   ]
  },
  {
   "cell_type": "code",
   "execution_count": 19,
   "id": "b6f49f9a",
   "metadata": {},
   "outputs": [
    {
     "name": "stdout",
     "output_type": "stream",
     "text": [
      "Enter first number: 56\n",
      "Enter second number: 48\n",
      "Enter third number: 69\n",
      "The largest number among 56.0, 48.0, and 69.0 is: 69.0\n"
     ]
    }
   ],
   "source": [
    "# Input three numbers\n",
    "num1 = float(input(\"Enter first number: \"))\n",
    "num2 = float(input(\"Enter second number: \"))\n",
    "num3 = float(input(\"Enter third number: \"))\n",
    "\n",
    "# Compare the numbers to find the largest using if-else\n",
    "if num1 >= num2 and num1 >= num3:\n",
    "    largest = num1\n",
    "elif num2 >= num1 and num2 >= num3:\n",
    "    largest = num2\n",
    "else:\n",
    "    largest = num3\n",
    "\n",
    "# Display the largest number\n",
    "print(f\"The largest number among {num1}, {num2}, and {num3} is: {largest}\")\n"
   ]
  },
  {
   "cell_type": "markdown",
   "id": "592ea9d0",
   "metadata": {},
   "source": [
    "### 5.)Write a Python program that calculates the absolute value of a number using if-else."
   ]
  },
  {
   "cell_type": "code",
   "execution_count": 21,
   "id": "94c24241",
   "metadata": {},
   "outputs": [
    {
     "name": "stdout",
     "output_type": "stream",
     "text": [
      "Enter a number: -56\n",
      "The absolute value of -56.0 is: 56.0\n"
     ]
    }
   ],
   "source": [
    "# Input a number\n",
    "number = float(input(\"Enter a number: \"))\n",
    "\n",
    "# Calculate the absolute value using if-else\n",
    "if number >= 0:\n",
    "    abs_value = number\n",
    "else:\n",
    "    abs_value = -number\n",
    "\n",
    "# Display the absolute value\n",
    "print(f\"The absolute value of {number} is: {abs_value}\")\n"
   ]
  },
  {
   "cell_type": "markdown",
   "id": "c3fc4b08",
   "metadata": {},
   "source": [
    "### 6.)Create a Python program that checks if a given character is a vowel or consonant using if-else."
   ]
  },
  {
   "cell_type": "code",
   "execution_count": 22,
   "id": "e6bad3f7",
   "metadata": {},
   "outputs": [
    {
     "name": "stdout",
     "output_type": "stream",
     "text": [
      "Enter a character: v\n",
      "The character 'v' is a consonant.\n"
     ]
    }
   ],
   "source": [
    "# Input a character\n",
    "char = input(\"Enter a character: \")\n",
    "\n",
    "# Check if the character is a vowel or consonant using if-else\n",
    "if char.isalpha() and len(char) == 1:\n",
    "    char_lower = char.lower()  # Convert character to lowercase for case-insensitive comparison\n",
    "\n",
    "    if char_lower in 'aeiou':\n",
    "        print(f\"The character '{char}' is a vowel.\")\n",
    "    else:\n",
    "        print(f\"The character '{char}' is a consonant.\")\n",
    "else:\n",
    "    print(\"Please enter a single alphabet character.\")"
   ]
  },
  {
   "cell_type": "markdown",
   "id": "62660d0a",
   "metadata": {},
   "source": [
    "### 7.)Write a Python program to determine if a user is eligible to vote based on their age using if-else."
   ]
  },
  {
   "cell_type": "code",
   "execution_count": 23,
   "id": "c2ef6548",
   "metadata": {},
   "outputs": [
    {
     "name": "stdout",
     "output_type": "stream",
     "text": [
      "Enter your age: 54\n",
      "You are eligible to vote.\n"
     ]
    }
   ],
   "source": [
    "# Input the user's age\n",
    "age = int(input(\"Enter your age: \"))\n",
    "\n",
    "# Check if the user is eligible to vote using if-else\n",
    "if age >= 18:\n",
    "    print(\"You are eligible to vote.\")\n",
    "else:\n",
    "    print(\"You are not eligible to vote yet.\")"
   ]
  },
  {
   "cell_type": "markdown",
   "id": "4a697cc0",
   "metadata": {},
   "source": [
    "### 8.)Create a Python program that calculates the discount amount based on the purchase amount using if-else."
   ]
  },
  {
   "cell_type": "code",
   "execution_count": 25,
   "id": "6a47723f",
   "metadata": {},
   "outputs": [
    {
     "name": "stdout",
     "output_type": "stream",
     "text": [
      "Enter the purchase amount: 1000\n",
      "The discount amount for a purchase of 1000.0 is: 100.0\n"
     ]
    }
   ],
   "source": [
    "# Input the purchase amount\n",
    "purchase_amount = float(input(\"Enter the purchase amount: \"))\n",
    "\n",
    "# Check for discount based on the purchase amount using if-else\n",
    "if purchase_amount >= 1000:\n",
    "    discount = 0.1 * purchase_amount  # 10% discount for purchase over 1000\n",
    "else:\n",
    "    discount = 0  # No discount if purchase is less than 1000\n",
    "\n",
    "# Display the discount amount\n",
    "print(f\"The discount amount for a purchase of {purchase_amount} is: {discount}\")"
   ]
  },
  {
   "cell_type": "markdown",
   "id": "891ac4fe",
   "metadata": {},
   "source": [
    "### 9.)Write a Python program to check if a number is within a specified range using if-else."
   ]
  },
  {
   "cell_type": "code",
   "execution_count": 26,
   "id": "72bd308c",
   "metadata": {},
   "outputs": [
    {
     "name": "stdout",
     "output_type": "stream",
     "text": [
      "Enter a number: 23\n",
      "The number 23.0 is within the range of 10 to 50.\n"
     ]
    }
   ],
   "source": [
    "# Input a number\n",
    "number = float(input(\"Enter a number: \"))\n",
    "\n",
    "# Specify the range boundaries\n",
    "lower_bound = 10\n",
    "upper_bound = 50\n",
    "\n",
    "# Check if the number is within the specified range using if-else\n",
    "if number >= lower_bound and number <= upper_bound:\n",
    "    print(f\"The number {number} is within the range of {lower_bound} to {upper_bound}.\")\n",
    "else:\n",
    "    print(f\"The number {number} is outside the specified range of {lower_bound} to {upper_bound}.\")"
   ]
  },
  {
   "cell_type": "markdown",
   "id": "bd832a30",
   "metadata": {},
   "source": [
    "### 10.)Create a Python program that determines the grade of a student based on their score using if-else."
   ]
  },
  {
   "cell_type": "code",
   "execution_count": 27,
   "id": "d596c4fa",
   "metadata": {},
   "outputs": [
    {
     "name": "stdout",
     "output_type": "stream",
     "text": [
      "Enter the student's score: 80\n",
      "The student's grade for a score of 80.0 is: B\n"
     ]
    }
   ],
   "source": [
    "# Input the student's score\n",
    "score = float(input(\"Enter the student's score: \"))\n",
    "\n",
    "# Determine the grade based on the score using if-else\n",
    "if score >= 90:\n",
    "    grade = 'A'\n",
    "elif score >= 80:\n",
    "    grade = 'B'\n",
    "elif score >= 70:\n",
    "    grade = 'C'\n",
    "elif score >= 60:\n",
    "    grade = 'D'\n",
    "else:\n",
    "    grade = 'F'\n",
    "\n",
    "# Display the student's grade\n",
    "print(f\"The student's grade for a score of {score} is: {grade}\")"
   ]
  },
  {
   "cell_type": "markdown",
   "id": "44d720a6",
   "metadata": {},
   "source": [
    "### 11.)Write a Python program to check if a string is empty or not using if-else."
   ]
  },
  {
   "cell_type": "code",
   "execution_count": 30,
   "id": "51274cf0",
   "metadata": {},
   "outputs": [
    {
     "name": "stdout",
     "output_type": "stream",
     "text": [
      "Enter a string: \n",
      "The string is empty.\n"
     ]
    }
   ],
   "source": [
    "# Input a string\n",
    "user_input = input(\"Enter a string: \")\n",
    "\n",
    "# Check if the string is empty using if-else\n",
    "if user_input:  # An empty string evaluates to False\n",
    "    print(\"The string is not empty.\")\n",
    "else:\n",
    "    print(\"The string is empty.\")"
   ]
  },
  {
   "cell_type": "markdown",
   "id": "09d0f9e5",
   "metadata": {},
   "source": [
    "### 12.)Create a Python program that identifies the type of a triangle (e.g., equilateral, isosceles, or scalene) based on input values using if-else."
   ]
  },
  {
   "cell_type": "code",
   "execution_count": 32,
   "id": "64bd89ca",
   "metadata": {},
   "outputs": [
    {
     "name": "stdout",
     "output_type": "stream",
     "text": [
      "Enter the length of side 1: 20\n",
      "Enter the length of side 2: 20\n",
      "Enter the length of side 3: 20\n",
      "The triangle with side lengths 20.0, 20.0, 20.0 is  Equilateral triangle.\n"
     ]
    }
   ],
   "source": [
    "# Input three side lengths of the triangle\n",
    "side1 = float(input(\"Enter the length of side 1: \"))\n",
    "side2 = float(input(\"Enter the length of side 2: \"))\n",
    "side3 = float(input(\"Enter the length of side 3: \"))\n",
    "\n",
    "# Check the type of triangle using if-else\n",
    "if side1 == side2 == side3:\n",
    "    triangle_type = \"Equilateral\"\n",
    "elif side1 == side2 or side2 == side3 or side1 == side3:\n",
    "    triangle_type = \"Isosceles\"\n",
    "else:\n",
    "    triangle_type = \"Scalene\"\n",
    "\n",
    "# Display the type of triangle\n",
    "print(f\"The triangle with side lengths {side1}, {side2}, {side3} is  {triangle_type} triangle.\")"
   ]
  },
  {
   "cell_type": "markdown",
   "id": "867a0f2c",
   "metadata": {},
   "source": [
    "### 13.)Write a Python program to determine the day of the week based on a user-provided number using if-else."
   ]
  },
  {
   "cell_type": "code",
   "execution_count": 34,
   "id": "3ddca9e1",
   "metadata": {},
   "outputs": [
    {
     "name": "stdout",
     "output_type": "stream",
     "text": [
      "Enter a number (1-7) to determine the day of the week: 5\n",
      "The day for the number 5 is: Friday\n"
     ]
    }
   ],
   "source": [
    "# Input a number for the day of the week (1 for Monday, 2 for Tuesday, ..., 7 for Sunday)\n",
    "day_number = int(input(\"Enter a number (1-7) to determine the day of the week: \"))\n",
    "\n",
    "# Determine the day of the week using if-else\n",
    "if day_number == 1:\n",
    "    day = \"Monday\"\n",
    "elif day_number == 2:\n",
    "    day = \"Tuesday\"\n",
    "elif day_number == 3:\n",
    "    day = \"Wednesday\"\n",
    "elif day_number == 4:\n",
    "    day = \"Thursday\"\n",
    "elif day_number == 5:\n",
    "    day = \"Friday\"\n",
    "elif day_number == 6:\n",
    "    day = \"Saturday\"\n",
    "elif day_number == 7:\n",
    "    day = \"Sunday\"\n",
    "else:\n",
    "    day = \"Invalid input. Please enter a number between 1 and 7.\"\n",
    "\n",
    "# Display the day of the week\n",
    "print(f\"The day for the number {day_number} is: {day}\")\n"
   ]
  },
  {
   "cell_type": "markdown",
   "id": "49fbdd4f",
   "metadata": {},
   "source": [
    "### 14.)Create a Python program that checks if a given year is a leap year using both if-else and a function."
   ]
  },
  {
   "cell_type": "markdown",
   "id": "c389c786",
   "metadata": {},
   "source": [
    "Using if-else:"
   ]
  },
  {
   "cell_type": "code",
   "execution_count": 37,
   "id": "b0935e6f",
   "metadata": {},
   "outputs": [
    {
     "name": "stdout",
     "output_type": "stream",
     "text": [
      "Enter a year: 2004\n",
      "2004 is a leap year.\n"
     ]
    }
   ],
   "source": [
    "# Function to check if a year is a leap year using if-else\n",
    "def is_leap_year(year):\n",
    "    if (year % 4 == 0 and year % 100 != 0) or (year % 400 == 0):\n",
    "        return True\n",
    "    else:\n",
    "        return False\n",
    "\n",
    "# Input a year\n",
    "year = int(input(\"Enter a year: \"))\n",
    "\n",
    "# Check if the year is a leap year using the function and if-else\n",
    "if is_leap_year(year):\n",
    "    print(f\"{year} is a leap year.\")\n",
    "else:\n",
    "    print(f\"{year} is not a leap year.\")"
   ]
  },
  {
   "cell_type": "markdown",
   "id": "dc06fed6",
   "metadata": {},
   "source": [
    "Using function"
   ]
  },
  {
   "cell_type": "code",
   "execution_count": 38,
   "id": "495d11d1",
   "metadata": {},
   "outputs": [
    {
     "name": "stdout",
     "output_type": "stream",
     "text": [
      "Enter a year: 2006\n",
      "2006 is not a leap year.\n"
     ]
    }
   ],
   "source": [
    "# Function to check if a year is a leap year\n",
    "def is_leap_year(year):\n",
    "    if (year % 4 == 0 and year % 100 != 0) or (year % 400 == 0):\n",
    "        return True\n",
    "    else:\n",
    "        return False\n",
    "\n",
    "# Input a year\n",
    "year = int(input(\"Enter a year: \"))\n",
    "\n",
    "# Display the result using the function\n",
    "if is_leap_year(year):\n",
    "    print(f\"{year} is a leap year.\")\n",
    "else:\n",
    "    print(f\"{year} is not a leap year.\")"
   ]
  },
  {
   "cell_type": "markdown",
   "id": "f0e7beef",
   "metadata": {},
   "source": [
    "### 15.)How do you use the \"assert\" statement in Python to add debugging checks within if-else blocks?"
   ]
  },
  {
   "cell_type": "markdown",
   "id": "858818dc",
   "metadata": {},
   "source": [
    "The assert statement in Python is used as a debugging aid. It evaluates an expression, and if the expression is False, it raises an AssertionError with an optional error message."
   ]
  },
  {
   "cell_type": "code",
   "execution_count": 39,
   "id": "7838faa3",
   "metadata": {},
   "outputs": [
    {
     "name": "stdout",
     "output_type": "stream",
     "text": [
      "Result: Undefined\n"
     ]
    }
   ],
   "source": [
    "def divide(a, b):\n",
    "    assert b != 0, \"Cannot divide by zero\"  # Debugging check using assert within an if-else block\n",
    "    return a / b\n",
    "\n",
    "# Example usage\n",
    "num1 = 10\n",
    "num2 = 0\n",
    "\n",
    "if num2 == 0:\n",
    "    result = \"Undefined\"\n",
    "else:\n",
    "    result = divide(num1, num2)\n",
    "\n",
    "print(f\"Result: {result}\")"
   ]
  },
  {
   "cell_type": "markdown",
   "id": "e752ff41",
   "metadata": {},
   "source": [
    "### 16.)Create a Python program that determines the eligibility of a person for a senior citizen discount based on age using if-else."
   ]
  },
  {
   "cell_type": "code",
   "execution_count": 41,
   "id": "00223d4d",
   "metadata": {},
   "outputs": [
    {
     "name": "stdout",
     "output_type": "stream",
     "text": [
      "Enter the person's age: 60\n",
      "The person is eligible for a senior citizen discount.\n"
     ]
    }
   ],
   "source": [
    "# Input the person's age\n",
    "age = int(input(\"Enter the person's age: \"))\n",
    "\n",
    "# Check for senior citizen discount eligibility using if-else\n",
    "if age >= 60:\n",
    "    print(\"The person is eligible for a senior citizen discount.\")\n",
    "else:\n",
    "    print(\"The person is not eligible for a senior citizen discount.\")\n"
   ]
  },
  {
   "cell_type": "markdown",
   "id": "5c0be67c",
   "metadata": {},
   "source": [
    "### 17.)Write a Python program to categorize a given character as uppercase, lowercase, or neither using if-else."
   ]
  },
  {
   "cell_type": "code",
   "execution_count": 42,
   "id": "6a8724b5",
   "metadata": {},
   "outputs": [
    {
     "name": "stdout",
     "output_type": "stream",
     "text": [
      "Enter a character: f\n",
      "The character 'f' is a lowercase letter.\n"
     ]
    }
   ],
   "source": [
    "# Input a character\n",
    "char = input(\"Enter a character: \")\n",
    "\n",
    "# Check if the character is uppercase, lowercase, or neither using if-else\n",
    "if char.isalpha():\n",
    "    if char.islower():\n",
    "        print(f\"The character '{char}' is a lowercase letter.\")\n",
    "    else:\n",
    "        print(f\"The character '{char}' is an uppercase letter.\")\n",
    "else:\n",
    "    print(f\"The character '{char}' is neither uppercase nor lowercase.\")"
   ]
  },
  {
   "cell_type": "markdown",
   "id": "2a886f68",
   "metadata": {},
   "source": [
    "### 18.)Write a Python program to determine the roots of a quadratic equation using if-else."
   ]
  },
  {
   "cell_type": "code",
   "execution_count": 43,
   "id": "66f35058",
   "metadata": {},
   "outputs": [
    {
     "name": "stdout",
     "output_type": "stream",
     "text": [
      "Enter coefficient a: 4\n",
      "Enter coefficient b: 2\n",
      "Enter coefficient c: 6\n",
      "The roots of the quadratic equation are complex: -0.25 + 1.1989578808281798i and -0.25 - 1.1989578808281798i\n"
     ]
    }
   ],
   "source": [
    "# Input coefficients of the quadratic equation: ax^2 + bx + c = 0\n",
    "a = float(input(\"Enter coefficient a: \"))\n",
    "b = float(input(\"Enter coefficient b: \"))\n",
    "c = float(input(\"Enter coefficient c: \"))\n",
    "\n",
    "# Calculate the discriminant\n",
    "discriminant = b**2 - 4*a*c\n",
    "\n",
    "# Check the nature of roots using if-else\n",
    "if discriminant > 0:\n",
    "    root1 = (-b + (discriminant)**0.5) / (2*a)\n",
    "    root2 = (-b - (discriminant)**0.5) / (2*a)\n",
    "    print(f\"The roots of the quadratic equation are real and distinct: {root1} and {root2}\")\n",
    "elif discriminant == 0:\n",
    "    root = -b / (2*a)\n",
    "    print(f\"The roots of the quadratic equation are real and equal: {root}\")\n",
    "else:\n",
    "    real_part = -b / (2*a)\n",
    "    imaginary_part = ((-discriminant)**0.5) / (2*a)\n",
    "    print(f\"The roots of the quadratic equation are complex: {real_part} + {imaginary_part}i and {real_part} - {imaginary_part}i\")\n"
   ]
  },
  {
   "cell_type": "markdown",
   "id": "6f3cef8b",
   "metadata": {},
   "source": [
    "### 19.)Create a Python program that checks if a given year is a century year or not using if-else."
   ]
  },
  {
   "cell_type": "code",
   "execution_count": 46,
   "id": "89a9a7f3",
   "metadata": {},
   "outputs": [
    {
     "name": "stdout",
     "output_type": "stream",
     "text": [
      "Enter a year: 2200\n",
      "2200 is a century year.\n"
     ]
    }
   ],
   "source": [
    "# Input a year\n",
    "year = int(input(\"Enter a year: \"))\n",
    "\n",
    "# Check if the year is a century year using if-else\n",
    "if year % 100 == 0:\n",
    "    print(f\"{year} is a century year.\")\n",
    "else:\n",
    "    print(f\"{year} is not a century year.\")\n"
   ]
  },
  {
   "cell_type": "markdown",
   "id": "42939ec1",
   "metadata": {},
   "source": [
    "### 20.)Write a Python program to determine if a given number is a perfect square using if-else."
   ]
  },
  {
   "cell_type": "code",
   "execution_count": 48,
   "id": "a7543e0d",
   "metadata": {},
   "outputs": [
    {
     "name": "stdout",
     "output_type": "stream",
     "text": [
      "Enter a number: 121\n",
      "121 is a perfect square.\n"
     ]
    }
   ],
   "source": [
    "# Input a number\n",
    "number = int(input(\"Enter a number: \"))\n",
    "\n",
    "# Check if the number is a perfect square using if-else\n",
    "if number > 0 and (number**0.5).is_integer():\n",
    "    print(f\"{number} is a perfect square.\")\n",
    "else:\n",
    "    print(f\"{number} is not a perfect square.\")"
   ]
  },
  {
   "cell_type": "markdown",
   "id": "370da12a",
   "metadata": {},
   "source": [
    "### 21.)Explain the purpose of the \"continue\" and \"break\" statements within if-else loops."
   ]
  },
  {
   "cell_type": "markdown",
   "id": "d4a01115",
   "metadata": {},
   "source": [
    "continue statement:\n",
    "\n",
    "The continue statement is used to skip the rest of the code inside a loop for the current iteration and continue with the next iteration.\n",
    "When continue is encountered, the loop immediately jumps to the next iteration without executing the remaining code within the loop for the current iteration.\n",
    "The loop's condition is checked again after continue is executed.\n",
    "\n",
    "example:"
   ]
  },
  {
   "cell_type": "code",
   "execution_count": 49,
   "id": "fe65c19a",
   "metadata": {},
   "outputs": [
    {
     "name": "stdout",
     "output_type": "stream",
     "text": [
      "1\n",
      "2\n",
      "4\n",
      "5\n"
     ]
    }
   ],
   "source": [
    "for i in range(1, 6):\n",
    "    if i == 3:\n",
    "        continue  # Skip the code below and move to the next iteration for i=3\n",
    "    print(i)"
   ]
  },
  {
   "cell_type": "markdown",
   "id": "0e0f0c28",
   "metadata": {},
   "source": [
    "break statement:\n",
    "\n",
    "The break statement is used to exit or break out of a loop prematurely.\n",
    "When break is encountered, the loop is terminated immediately, and the control is transferred to the first statement following the loop.\n",
    "It stops the execution of the loop, regardless of the loop's condition."
   ]
  },
  {
   "cell_type": "code",
   "execution_count": 50,
   "id": "2ba8bc91",
   "metadata": {},
   "outputs": [
    {
     "name": "stdout",
     "output_type": "stream",
     "text": [
      "1\n",
      "2\n",
      "3\n"
     ]
    }
   ],
   "source": [
    "for i in range(1, 6):\n",
    "    if i == 4:\n",
    "        break  # Exit the loop when i reaches 4\n",
    "    print(i)"
   ]
  },
  {
   "cell_type": "markdown",
   "id": "ece5b2dc",
   "metadata": {},
   "source": [
    "### 22.)Create a Python program that calculates the BMI (Body Mass Index) of a person based on their weight and height using if-else."
   ]
  },
  {
   "cell_type": "code",
   "execution_count": 51,
   "id": "5db00d05",
   "metadata": {},
   "outputs": [
    {
     "name": "stdout",
     "output_type": "stream",
     "text": [
      "Enter your weight in kilograms: 77\n",
      "Enter your height in meters: 1.56\n",
      "Your BMI is: 31.64\n",
      "You are categorized as: Obese\n"
     ]
    }
   ],
   "source": [
    "# Input weight in kilograms and height in meters\n",
    "weight = float(input(\"Enter your weight in kilograms: \"))\n",
    "height = float(input(\"Enter your height in meters: \"))\n",
    "\n",
    "# Calculate BMI\n",
    "bmi = weight / (height**2)\n",
    "\n",
    "# Determine BMI category using if-else\n",
    "if bmi < 18.5:\n",
    "    category = \"Underweight\"\n",
    "elif 18.5 <= bmi < 25:\n",
    "    category = \"Normal weight\"\n",
    "elif 25 <= bmi < 30:\n",
    "    category = \"Overweight\"\n",
    "else:\n",
    "    category = \"Obese\"\n",
    "\n",
    "# Display BMI and category\n",
    "print(f\"Your BMI is: {bmi:.2f}\")\n",
    "print(f\"You are categorized as: {category}\")"
   ]
  },
  {
   "cell_type": "markdown",
   "id": "8332876c",
   "metadata": {},
   "source": [
    "### 23.)How can you use the \"filter()\" function with if-else statements to filter elements from a list?"
   ]
  },
  {
   "cell_type": "markdown",
   "id": "80655b6b",
   "metadata": {},
   "source": [
    "The filter() function in Python is used to filter elements from an iterable (like a list) based on a specified condition. Typically, it takes a function and an iterable as arguments and returns an iterator over the elements that satisfy the given condition.\n",
    "\n",
    "However, filter() doesn't directly use if-else statements. Instead, you pass a function that returns a Boolean value (True or False) based on the condition you want to apply.\n",
    "\n",
    "Here's an example demonstrating how to use the filter() function to filter elements from a list based on a certain condition:\n"
   ]
  },
  {
   "cell_type": "code",
   "execution_count": 52,
   "id": "913c018f",
   "metadata": {},
   "outputs": [
    {
     "name": "stdout",
     "output_type": "stream",
     "text": [
      "Odd numbers: [1, 3, 5, 7, 9]\n"
     ]
    }
   ],
   "source": [
    "# Function to check if a number is odd\n",
    "def is_odd(num):\n",
    "    if num % 2 != 0:\n",
    "        return True\n",
    "    else:\n",
    "        return False\n",
    "\n",
    "# List of numbers\n",
    "numbers = [1, 2, 3, 4, 5, 6, 7, 8, 9, 10]\n",
    "\n",
    "# Use filter() with the is_odd function\n",
    "odd_numbers = list(filter(is_odd, numbers))\n",
    "\n",
    "print(\"Odd numbers:\", odd_numbers)"
   ]
  },
  {
   "cell_type": "markdown",
   "id": "766985a4",
   "metadata": {},
   "source": [
    "### 24.)Write a Python program to determine if a given number is prime or not using if-else."
   ]
  },
  {
   "cell_type": "code",
   "execution_count": 53,
   "id": "5561c590",
   "metadata": {},
   "outputs": [
    {
     "name": "stdout",
     "output_type": "stream",
     "text": [
      "Enter a number: 56\n",
      "56 is not a prime number.\n"
     ]
    }
   ],
   "source": [
    "# Input a number\n",
    "number = int(input(\"Enter a number: \"))\n",
    "\n",
    "# Check if the number is a prime number using if-else\n",
    "if number > 1:\n",
    "    for i in range(2, int(number**0.5) + 1):\n",
    "        if (number % i) == 0:\n",
    "            print(f\"{number} is not a prime number.\")\n",
    "            break\n",
    "    else:\n",
    "        print(f\"{number} is a prime number.\")\n",
    "else:\n",
    "    print(f\"{number} is not a prime number.\")"
   ]
  },
  {
   "cell_type": "markdown",
   "id": "7722d60f",
   "metadata": {},
   "source": [
    "## Map :-"
   ]
  },
  {
   "cell_type": "markdown",
   "id": "cbbf6244",
   "metadata": {},
   "source": [
    "### 1.)Explain the purpose of the `map()` function in Python and provide an example of how it can be used to apply a function to each element of an iterable."
   ]
  },
  {
   "cell_type": "markdown",
   "id": "fc3d1857",
   "metadata": {},
   "source": [
    "The map() function in Python is used to apply a specified function to each item in an iterable (like a list) and returns an iterator containing the results.\n",
    "\n",
    "It takes two arguments: the function you want to apply and the iterable you want to apply it to. The function can be a built-in function, a user-defined function, or a lambda function"
   ]
  },
  {
   "cell_type": "code",
   "execution_count": 54,
   "id": "047f4c4f",
   "metadata": {},
   "outputs": [
    {
     "name": "stdout",
     "output_type": "stream",
     "text": [
      "[1, 4, 9, 16, 25]\n"
     ]
    }
   ],
   "source": [
    "# List of numbers\n",
    "numbers = [1, 2, 3, 4, 5]\n",
    "\n",
    "# Define a function to square a number\n",
    "def square_number(x):\n",
    "    return x ** 2\n",
    "\n",
    "# Use map() to apply the square_number function to each element in the list\n",
    "squared_numbers = list(map(square_number, numbers))\n",
    "\n",
    "print(squared_numbers)"
   ]
  },
  {
   "cell_type": "markdown",
   "id": "263d84eb",
   "metadata": {},
   "source": [
    "This example showcases how map() can be used to apply a function (square_number) to each element of an iterable (numbers) to transform the elements according to the function's logic"
   ]
  },
  {
   "cell_type": "markdown",
   "id": "a0c3d2be",
   "metadata": {},
   "source": [
    "### 2.)Write a Python program that uses the `map()` function to square each element of a list of numbers"
   ]
  },
  {
   "cell_type": "code",
   "execution_count": 56,
   "id": "3cbb6753",
   "metadata": {},
   "outputs": [
    {
     "name": "stdout",
     "output_type": "stream",
     "text": [
      "[1, 4, 9, 16, 25]\n"
     ]
    }
   ],
   "source": [
    "# List of numbers\n",
    "numbers = [1, 2, 3, 4, 5]\n",
    "\n",
    "# Use map() to square each element in the list\n",
    "squared_numbers = list(map(lambda x: x ** 2, numbers))\n",
    "\n",
    "print(squared_numbers)"
   ]
  },
  {
   "cell_type": "markdown",
   "id": "b1d0418a",
   "metadata": {},
   "source": [
    "### 3.)How does the `map()` function differ from a list comprehension in Python, and when would you choose one over the other?"
   ]
  },
  {
   "cell_type": "markdown",
   "id": "1b9976ad",
   "metadata": {},
   "source": [
    "The map() function and list comprehensions in Python both serve the purpose of transforming elements in an iterable (like a list) and creating a new iterable. However, they differ in their syntax, usage, and some capabilities.\n",
    "\n",
    "map() function:\n",
    "Syntax:\n",
    "map(function, iterable)\n",
    "\n",
    "Functional Approach:\n",
    "map() is a higher-order function that applies a specified function to each element in the iterable, creating an iterator of the results.\n",
    "Usage:\n",
    "It is handy when you want to apply a specific function to each element of an iterable.\n",
    "\n",
    "Readability:\n",
    "It's suitable when applying a pre-existing function to the elements. It might be used to keep the logic separate from the iteration.\n",
    "\n",
    "List Comprehensions:\n",
    "Syntax:\n",
    "[expression for item in iterable]\n",
    "\n",
    "Comprehension Approach:\n",
    "List comprehensions create a new list by performing an operation on each item in the iterable or filtering items based on a condition.\n",
    "Usage:\n",
    "It's ideal for building a new list where the operation is simple and can be expressed concisely.\n",
    "\n",
    "Readability:\n",
    "List comprehensions are often more explicit and succinct, especially for simple operations.\n",
    "\n",
    "Comparison and Use-Cases:\n",
    "\n",
    "Performance:\n",
    "For simple operations, list comprehensions might be slightly faster than map().\n",
    "\n",
    "Readability vs. Conciseness:\n",
    "map() is more appropriate when applying a function to each element; list comprehensions are clearer and more concise, especially for simple transformations or operations.\n",
    "\n",
    "Flexibility:\n",
    "List comprehensions allow for additional complexity, such as conditional filtering or multiple operations in a single line, whereas map() may need additional logic or functions for such purposes.\n",
    "\n",
    "When to Choose:\n",
    "map(): Use map() when applying a specific function to each element of an iterable, particularly when working with existing functions or when clarity between the function and the iteration is preferred.\n",
    "\n",
    "List Comprehensions: Use list comprehensions when the transformation or operation to be applied is straightforward and can be expressed in a concise manner. They're useful for creating new lists from existing ones, especially when simplicity and clarity are desired.\n",
    "Both map() and list comprehensions are powerful tools, and the choice between them often depends on personal preference, readability, and the complexity of the operation.\n"
   ]
  },
  {
   "cell_type": "markdown",
   "id": "e36703ef",
   "metadata": {},
   "source": [
    "### 4.)Create a Python program that uses the `map()` function to convert a list of names to uppercase."
   ]
  },
  {
   "cell_type": "code",
   "execution_count": 57,
   "id": "c562836a",
   "metadata": {},
   "outputs": [
    {
     "name": "stdout",
     "output_type": "stream",
     "text": [
      "['ALICE', 'BOB', 'CHARLIE', 'DAVID']\n"
     ]
    }
   ],
   "source": [
    "# List of names\n",
    "names = [\"Alice\", \"Bob\", \"Charlie\", \"David\"]\n",
    "\n",
    "# Using map() to convert names to uppercase\n",
    "uppercased_names = list(map(str.upper, names))\n",
    "\n",
    "print(uppercased_names)"
   ]
  },
  {
   "cell_type": "markdown",
   "id": "df8da2f8",
   "metadata": {},
   "source": [
    "### 5.)Write a Python program that uses the `map()` function to calculate the length of each word in a list of strings."
   ]
  },
  {
   "cell_type": "code",
   "execution_count": 58,
   "id": "41bc5a02",
   "metadata": {},
   "outputs": [
    {
     "name": "stdout",
     "output_type": "stream",
     "text": [
      "[5, 6, 6, 5, 10]\n"
     ]
    }
   ],
   "source": [
    "# List of strings\n",
    "word_list = [\"apple\", \"banana\", \"orange\", \"grape\", \"watermelon\"]\n",
    "\n",
    "# Using map() to calculate the length of each word\n",
    "word_lengths = list(map(len, word_list))\n",
    "\n",
    "print(word_lengths)"
   ]
  },
  {
   "cell_type": "markdown",
   "id": "939a3345",
   "metadata": {},
   "source": [
    "### 6.)How can you use the `map()` function to apply a custom function to elements of multiple lists simultaneously in Python?"
   ]
  },
  {
   "cell_type": "markdown",
   "id": "67e39c28",
   "metadata": {},
   "source": [
    "To apply a custom function to elements of multiple lists simultaneously using the map() function in Python, you can use map() along with a function that takes multiple arguments. Here's an example:"
   ]
  },
  {
   "cell_type": "code",
   "execution_count": 59,
   "id": "d038b28c",
   "metadata": {},
   "outputs": [
    {
     "name": "stdout",
     "output_type": "stream",
     "text": [
      "[6, 8, 10, 12]\n"
     ]
    }
   ],
   "source": [
    "# Two lists\n",
    "list1 = [1, 2, 3, 4]\n",
    "list2 = [5, 6, 7, 8]\n",
    "\n",
    "# Custom function to add elements of two lists\n",
    "def add_lists(x, y):\n",
    "    return x + y\n",
    "\n",
    "# Using map() to apply the custom function to elements of both lists\n",
    "result = list(map(add_lists, list1, list2))\n",
    "\n",
    "print(result)"
   ]
  },
  {
   "cell_type": "markdown",
   "id": "e5d68ce5",
   "metadata": {},
   "source": [
    "list1 and list2 contain two separate lists with numerical elements.\n",
    "\n",
    "add_lists is a custom function that takes two arguments x and y and adds them together.\n",
    "\n",
    "The map() function applies the add_lists function to elements from both list1 and list2 simultaneously.\n",
    "\n",
    "It iterates through the elements of list1 and list2, passing corresponding elements as arguments to the add_lists function.\n",
    "\n",
    "The result is a list containing the sums of corresponding elements from both lists.\n",
    "\n",
    "This technique enables applying a custom function to elements of multiple lists at the same position in parallel using the map() function.\n"
   ]
  },
  {
   "cell_type": "markdown",
   "id": "acd81b06",
   "metadata": {},
   "source": [
    "### 7.)Create a Python program that uses `map()` to convert a list of temperatures from Celsius to Fahrenheit."
   ]
  },
  {
   "cell_type": "code",
   "execution_count": 60,
   "id": "d2ccaf47",
   "metadata": {},
   "outputs": [
    {
     "name": "stdout",
     "output_type": "stream",
     "text": [
      "[32.0, 50.0, 68.0, 86.0, 104.0]\n"
     ]
    }
   ],
   "source": [
    "# Function to convert Celsius to Fahrenheit\n",
    "def celsius_to_fahrenheit(celsius):\n",
    "    return (celsius * 9/5) + 32\n",
    "\n",
    "# List of temperatures in Celsius\n",
    "celsius_temperatures = [0, 10, 20, 30, 40]\n",
    "\n",
    "# Using map() to convert Celsius temperatures to Fahrenheit\n",
    "fahrenheit_temperatures = list(map(celsius_to_fahrenheit, celsius_temperatures))\n",
    "\n",
    "print(fahrenheit_temperatures)"
   ]
  },
  {
   "cell_type": "markdown",
   "id": "bf164adb",
   "metadata": {},
   "source": [
    "### 8.)Write a Python program that uses the `map()` function to round each element of a list of floating-point numbers to the nearest integer."
   ]
  },
  {
   "cell_type": "code",
   "execution_count": 61,
   "id": "23ae661b",
   "metadata": {},
   "outputs": [
    {
     "name": "stdout",
     "output_type": "stream",
     "text": [
      "[3, 3, 2, 8, 9]\n"
     ]
    }
   ],
   "source": [
    "# List of floating-point numbers\n",
    "float_numbers = [3.14, 2.718, 1.5, 7.8, 9.25]\n",
    "\n",
    "# Using map() to round each floating-point number to the nearest integer\n",
    "rounded_integers = list(map(round, float_numbers))\n",
    "\n",
    "print(rounded_integers)"
   ]
  },
  {
   "cell_type": "markdown",
   "id": "a7aa7c31",
   "metadata": {},
   "source": [
    "## Reduce :-"
   ]
  },
  {
   "cell_type": "markdown",
   "id": "cc41490d",
   "metadata": {},
   "source": [
    "### 1.)What is the `reduce()` function in Python, and what module should you import to use it? Provide an example of its basic usage."
   ]
  },
  {
   "cell_type": "markdown",
   "id": "31152f8e",
   "metadata": {},
   "source": [
    "The `reduce()` function is used to perform a repetitive operation on the elements of an iterable, reducing them to a single cumulative value. In Python 3, it was moved from the built-in functions to the `functools` module. Therefore, to use `reduce()`, you need to import it from the `functools` module.\n",
    "\n",
    "Here is an example of how to use `reduce()` to find the sum of elements in a list:\n"
   ]
  },
  {
   "cell_type": "code",
   "execution_count": 63,
   "id": "bbc3aa90",
   "metadata": {},
   "outputs": [
    {
     "name": "stdout",
     "output_type": "stream",
     "text": [
      "15\n"
     ]
    }
   ],
   "source": [
    "from functools import reduce\n",
    "\n",
    "# List of numbers\n",
    "numbers = [1, 2, 3, 4, 5]\n",
    "\n",
    "# Using reduce() to find the sum of elements\n",
    "result = reduce(lambda x, y: x + y, numbers)\n",
    "\n",
    "print(result)"
   ]
  },
  {
   "cell_type": "markdown",
   "id": "df35a118",
   "metadata": {},
   "source": [
    "from functools import reduce` imports the `reduce()` function from the `functools` module.\n",
    "numbers contains a list of numbers.\n",
    "The reduce() function takes two arguments: a function and an iterable.\n",
    "In this example, a lambda function `lambda x, y: x + y` is used to add two elements together.\n",
    "reduce() applies this function cumulatively to the elements in the `numbers` list, resulting in the sum of the elements.\n",
    "\n",
    "It's important to note that `reduce()` is not included in the built-in namespace in Python 3, unlike `map()` and `filter()`. Therefore, it's necessary to import it from the `functools` module before using it.\n"
   ]
  },
  {
   "cell_type": "markdown",
   "id": "d9594343",
   "metadata": {},
   "source": [
    "### 2.)Write a Python program that uses the `reduce()` function to find the product of all elements in a list."
   ]
  },
  {
   "cell_type": "code",
   "execution_count": 64,
   "id": "8d0cfc16",
   "metadata": {},
   "outputs": [
    {
     "name": "stdout",
     "output_type": "stream",
     "text": [
      "120\n"
     ]
    }
   ],
   "source": [
    "from functools import reduce\n",
    "\n",
    "# List of numbers\n",
    "numbers = [2, 3, 4, 5]\n",
    "\n",
    "# Using reduce() to find the product of elements\n",
    "result = reduce(lambda x, y: x * y, numbers)\n",
    "\n",
    "print(result)"
   ]
  },
  {
   "cell_type": "markdown",
   "id": "726d5110",
   "metadata": {},
   "source": [
    "### 3.)Create a Python program that uses `reduce()` to find the maximum element in a list of numbers."
   ]
  },
  {
   "cell_type": "code",
   "execution_count": 65,
   "id": "f4cc2852",
   "metadata": {},
   "outputs": [
    {
     "name": "stdout",
     "output_type": "stream",
     "text": [
      "67\n"
     ]
    }
   ],
   "source": [
    "from functools import reduce\n",
    "\n",
    "# List of numbers\n",
    "numbers = [12, 45, 23, 67, 34]\n",
    "\n",
    "# Using reduce() to find the maximum element\n",
    "max_number = reduce(lambda x, y: x if x > y else y, numbers)\n",
    "\n",
    "print(max_number)"
   ]
  },
  {
   "cell_type": "markdown",
   "id": "6f5bbab3",
   "metadata": {},
   "source": [
    "### 4.)How can you use the `reduce()` function to concatenate a list of strings into a single string?"
   ]
  },
  {
   "cell_type": "markdown",
   "id": "c2e2b570",
   "metadata": {},
   "source": [
    "To concatenate a list of strings into a single string using the `reduce()` function from the `functools` module, we  can utilize it with the `operator.concat` function or a custom lambda function. Here's an example using both approaches:"
   ]
  },
  {
   "cell_type": "code",
   "execution_count": 66,
   "id": "021a41d8",
   "metadata": {},
   "outputs": [
    {
     "name": "stdout",
     "output_type": "stream",
     "text": [
      "Hello world!\n",
      "Hello world!\n"
     ]
    }
   ],
   "source": [
    "# Using the `operator.concat` function:\n",
    "\n",
    "from functools import reduce\n",
    "import operator\n",
    "\n",
    "# List of strings\n",
    "strings = [\"Hello\", \" \", \"world\", \"!\"]\n",
    "\n",
    "# Using reduce() with operator.concat to concatenate strings\n",
    "concatenated_string = reduce(operator.concat, strings)\n",
    "\n",
    "print(concatenated_string)\n",
    "\n",
    "\n",
    "### Using a custom lambda function:\n",
    "\n",
    "\n",
    "from functools import reduce\n",
    "\n",
    "# List of strings\n",
    "strings = [\"Hello\", \" \", \"world\", \"!\"]\n",
    "\n",
    "# Using reduce() with a lambda function to concatenate strings\n",
    "concatenated_string = reduce(lambda x, y: x + y, strings)\n",
    "\n",
    "print(concatenated_string)"
   ]
  },
  {
   "cell_type": "markdown",
   "id": "48488efe",
   "metadata": {},
   "source": [
    "### 5.)Write a Python program that calculates the factorial of a number using the `reduce()` function."
   ]
  },
  {
   "cell_type": "code",
   "execution_count": 67,
   "id": "708ffeb7",
   "metadata": {},
   "outputs": [
    {
     "name": "stdout",
     "output_type": "stream",
     "text": [
      "The factorial of 5 is: 120\n"
     ]
    }
   ],
   "source": [
    "from functools import reduce\n",
    "\n",
    "# Number to calculate the factorial for\n",
    "number = 5\n",
    "\n",
    "# Using reduce() to calculate the factorial\n",
    "factorial = reduce(lambda x, y: x * y, range(1, number + 1), 1)\n",
    "\n",
    "print(f\"The factorial of {number} is: {factorial}\")"
   ]
  },
  {
   "cell_type": "markdown",
   "id": "9fc68182",
   "metadata": {},
   "source": [
    "### 6.)Create a Python program that uses `reduce()` to find the GCD (Greatest Common Divisor) of a list of numbers."
   ]
  },
  {
   "cell_type": "code",
   "execution_count": 68,
   "id": "a5e5c15b",
   "metadata": {},
   "outputs": [
    {
     "name": "stdout",
     "output_type": "stream",
     "text": [
      "The GCD of the numbers is: 12\n"
     ]
    }
   ],
   "source": [
    "from functools import reduce\n",
    "from math import gcd  # Import the gcd function from the math module\n",
    "\n",
    "# List of numbers\n",
    "numbers = [24, 36, 48, 60]\n",
    "\n",
    "# Using reduce() to find the GCD of the numbers\n",
    "gcd_result = reduce(gcd, numbers)\n",
    "\n",
    "print(\"The GCD of the numbers is:\", gcd_result)"
   ]
  },
  {
   "cell_type": "markdown",
   "id": "3743acaf",
   "metadata": {},
   "source": [
    "### 17.)Write a Python program that uses the `reduce()` function to find the sum of the digits of a given number."
   ]
  },
  {
   "cell_type": "code",
   "execution_count": 69,
   "id": "787c1036",
   "metadata": {},
   "outputs": [
    {
     "name": "stdout",
     "output_type": "stream",
     "text": [
      "The sum of the digits: 15\n"
     ]
    }
   ],
   "source": [
    "from functools import reduce\n",
    "\n",
    "# Number to find the sum of its digits\n",
    "number = 12345\n",
    "\n",
    "# Using reduce() to find the sum of the digits\n",
    "digit_sum = reduce(lambda x, y: int(x) + int(y), str(number), 0)\n",
    "\n",
    "print(\"The sum of the digits:\", digit_sum)"
   ]
  },
  {
   "cell_type": "markdown",
   "id": "8414b286",
   "metadata": {},
   "source": [
    "# Filter :-"
   ]
  },
  {
   "cell_type": "markdown",
   "id": "853d296d",
   "metadata": {},
   "source": [
    "### 1.)Explain the purpose of the `filter()` function in Python and provide an example of how it can be used to filter elements from an iterable."
   ]
  },
  {
   "cell_type": "raw",
   "id": "aa922236",
   "metadata": {},
   "source": [
    "The filter() function in Python is used to create an iterator consisting of elements from an iterable (like a list) for which a function returns `True`. This function filters elements based on a given condition and returns an iterator containing the elements that satisfy that condition.\n",
    "\n",
    " Syntax:\n",
    "\n",
    "filter(function, iterable)\n",
    "\n",
    "\n",
    "function: The function that defines the filtering condition.\n",
    "iterable: The iterable containing elements to be filtered.\n",
    "\n",
    "Purpose of filter():\n",
    "The primary purpose of the `filter()` function is to selectively extract elements from an iterable based on a specific condition defined by the supplied function.\n",
    "\n",
    "Example:\n",
    "\n",
    "Let's say you have a list of numbers, and you want to filter out only the even numbers from that list:\n"
   ]
  },
  {
   "cell_type": "code",
   "execution_count": 70,
   "id": "6e11ff32",
   "metadata": {},
   "outputs": [
    {
     "name": "stdout",
     "output_type": "stream",
     "text": [
      "[2, 4, 6, 8, 10]\n"
     ]
    }
   ],
   "source": [
    "# Function to check if a number is even\n",
    "def is_even(n):\n",
    "    return n % 2 == 0\n",
    "\n",
    "# List of numbers\n",
    "numbers = [1, 2, 3, 4, 5, 6, 7, 8, 9, 10]\n",
    "\n",
    "# Using filter() to get only the even numbers from the list\n",
    "even_numbers = list(filter(is_even, numbers))\n",
    "\n",
    "print(even_numbers)"
   ]
  },
  {
   "cell_type": "markdown",
   "id": "14078883",
   "metadata": {},
   "source": [
    "### 2.)Write a Python program that uses the `filter()` function to select even numbers from a list of integers."
   ]
  },
  {
   "cell_type": "code",
   "execution_count": 1,
   "id": "09d87e5a",
   "metadata": {},
   "outputs": [
    {
     "name": "stdout",
     "output_type": "stream",
     "text": [
      "[2, 4, 6, 8, 10]\n"
     ]
    }
   ],
   "source": [
    "# Function to check if a number is even\n",
    "def is_even(n):\n",
    "    return n % 2 == 0\n",
    "\n",
    "# List of numbers\n",
    "numbers = [1, 2, 3, 4, 5, 6, 7, 8, 9, 10]\n",
    "\n",
    "# Using filter() to get only the even numbers from the list\n",
    "even_numbers = list(filter(is_even, numbers))\n",
    "\n",
    "print(even_numbers)"
   ]
  },
  {
   "cell_type": "markdown",
   "id": "7bd3420d",
   "metadata": {},
   "source": [
    "### 3.)Create a Python program that uses the `filter()` function to select names that start with a specific letter from a list of strings."
   ]
  },
  {
   "cell_type": "code",
   "execution_count": 4,
   "id": "52ccf424",
   "metadata": {},
   "outputs": [
    {
     "name": "stdout",
     "output_type": "stream",
     "text": [
      "['David']\n"
     ]
    }
   ],
   "source": [
    "# Function to filter names starting with a specific letter\n",
    "def starts_with_letter(letter, name):\n",
    "    return name.startswith(letter)\n",
    "\n",
    "# List of names\n",
    "names = [\"Alice\", \"Bob\", \"Charlie\", \"David\", \"Eve\", \"Frank\"]\n",
    "\n",
    "# Letter to filter names\n",
    "filter_letter = \"D\"\n",
    "\n",
    "# Using filter() to select names starting with the specific letter\n",
    "filtered_names = list(filter(lambda x: starts_with_letter(filter_letter, x), names))\n",
    "\n",
    "print(filtered_names)"
   ]
  },
  {
   "cell_type": "markdown",
   "id": "3f445cf5",
   "metadata": {},
   "source": [
    "### 4.)Write a Python program that uses the `filter()` function to select prime numbers from a list of integers."
   ]
  },
  {
   "cell_type": "code",
   "execution_count": 5,
   "id": "5a767ec1",
   "metadata": {},
   "outputs": [
    {
     "name": "stdout",
     "output_type": "stream",
     "text": [
      "[17, 11, 23, 13]\n"
     ]
    }
   ],
   "source": [
    "# Function to check if a number is prime\n",
    "def is_prime(n):\n",
    "    if n < 2:\n",
    "        return False\n",
    "    for i in range(2, int(n ** 0.5) + 1):\n",
    "        if n % i == 0:\n",
    "            return False\n",
    "    return True\n",
    "\n",
    "# List of numbers\n",
    "numbers = [17, 4, 11, 23, 8, 13, 15, 20]\n",
    "\n",
    "# Using filter() to get only the prime numbers from the list\n",
    "prime_numbers = list(filter(is_prime, numbers))\n",
    "\n",
    "print(prime_numbers)"
   ]
  },
  {
   "cell_type": "markdown",
   "id": "8380a2c2",
   "metadata": {},
   "source": [
    "### 5.)How can you use the `filter()` function to remove None values from a list in Python?"
   ]
  },
  {
   "cell_type": "markdown",
   "id": "d3a98e0a",
   "metadata": {},
   "source": [
    "we can use the `filter()` function to remove `None` values from a list by providing a condition within the `filter()` that excludes `None` elements. Here's an example:"
   ]
  },
  {
   "cell_type": "code",
   "execution_count": 6,
   "id": "88829906",
   "metadata": {},
   "outputs": [
    {
     "name": "stdout",
     "output_type": "stream",
     "text": [
      "[1, 2, 3, 4, 5]\n"
     ]
    }
   ],
   "source": [
    "# List with None values\n",
    "values = [1, None, 2, 3, None, 4, None, 5]\n",
    "\n",
    "# Using filter() to remove None values from the list\n",
    "filtered_values = list(filter(lambda x: x is not None, values))\n",
    "\n",
    "print(filtered_values)"
   ]
  },
  {
   "cell_type": "markdown",
   "id": "b52ad23c",
   "metadata": {},
   "source": [
    "### 6.)Create a Python program that uses `filter()` to select words longer than a certain length from a list of strings."
   ]
  },
  {
   "cell_type": "code",
   "execution_count": 7,
   "id": "ff0094fe",
   "metadata": {},
   "outputs": [
    {
     "name": "stdout",
     "output_type": "stream",
     "text": [
      "['banana', 'orange', 'watermelon']\n"
     ]
    }
   ],
   "source": [
    "# List of strings (words)\n",
    "word_list = [\"apple\", \"banana\", \"orange\", \"grape\", \"watermelon\", \"kiwi\", \"pear\"]\n",
    "\n",
    "# Minimum length to filter words\n",
    "min_length = 5\n",
    "\n",
    "# Using filter() to select words longer than a certain length\n",
    "selected_words = list(filter(lambda word: len(word) > min_length, word_list))\n",
    "\n",
    "print(selected_words)\n"
   ]
  },
  {
   "cell_type": "markdown",
   "id": "94e185d3",
   "metadata": {},
   "source": [
    "### 7.)Write a Python program that uses the `filter()` function to select elements greater than a specified threshold from a list of values."
   ]
  },
  {
   "cell_type": "code",
   "execution_count": 8,
   "id": "6ae539b2",
   "metadata": {},
   "outputs": [
    {
     "name": "stdout",
     "output_type": "stream",
     "text": [
      "[28, 35, 40]\n"
     ]
    }
   ],
   "source": [
    "# List of values\n",
    "values = [15, 28, 9, 35, 12, 7, 40]\n",
    "\n",
    "# Threshold to filter values\n",
    "threshold = 20\n",
    "\n",
    "# Using filter() to select values greater than the threshold\n",
    "selected_values = list(filter(lambda x: x > threshold, values))\n",
    "\n",
    "print(selected_values)"
   ]
  },
  {
   "cell_type": "markdown",
   "id": "b88945f8",
   "metadata": {},
   "source": [
    "# Recursion:-"
   ]
  },
  {
   "cell_type": "markdown",
   "id": "d81d5b61",
   "metadata": {},
   "source": [
    "### 1.)Explain the concept of recursion in Python. How does it differ from iteration?"
   ]
  },
  {
   "cell_type": "markdown",
   "id": "e55214e2",
   "metadata": {},
   "source": [
    "Recursion:\n",
    "\n",
    "Recursion is a programming technique in which a function calls itself to solve a problem. It breaks down a problem into smaller subproblems that are solved by making recursive calls. Each recursive call results in breaking the problem down further until a base case is reached, and then the solutions are combined to solve the original problem. The recursive function continues calling itself until it reaches the base case, at which point the function returns its result."
   ]
  },
  {
   "cell_type": "code",
   "execution_count": 10,
   "id": "156bf2e0",
   "metadata": {},
   "outputs": [
    {
     "name": "stdout",
     "output_type": "stream",
     "text": [
      "120\n"
     ]
    }
   ],
   "source": [
    "def factorial(n):\n",
    "    if n == 0 or n == 1:\n",
    "        return 1\n",
    "    else:\n",
    "        return n * factorial(n - 1)\n",
    "print(factorial(5))    "
   ]
  },
  {
   "cell_type": "markdown",
   "id": "e493a644",
   "metadata": {},
   "source": [
    " #Iteration:\n",
    "\n",
    "Iteration is the process of repeatedly executing a set of statements or a block of code. It involves using loop structures (like for, while, etc.) to repeatedly execute a block of code until a certain condition is met.\n",
    "Example of an iterative function to calculate the factorial of a number:\n"
   ]
  },
  {
   "cell_type": "code",
   "execution_count": 13,
   "id": "0724d9c5",
   "metadata": {},
   "outputs": [
    {
     "name": "stdout",
     "output_type": "stream",
     "text": [
      "120\n"
     ]
    }
   ],
   "source": [
    "#Example of an iterative function to calculate the factorial of a number:\n",
    "\n",
    "def factorial(n):\n",
    "    result = 1\n",
    "    for i in range(1, n + 1):\n",
    "        result *= i\n",
    "    return result\n",
    "print(factorial(5))"
   ]
  },
  {
   "cell_type": "markdown",
   "id": "a8e22fe7",
   "metadata": {},
   "source": [
    "#Differences:\n",
    "\n",
    "- Recursion uses a function that calls itself, while iteration uses loop structures like for or while.\n",
    "- Recursion breaks down a problem into smaller subproblems and solves them, eventually combining the solutions, while iteration involves repeatedly executing a set of statements.\n",
    "- Recursion often leads to more concise and elegant solutions for certain problems, but it might be less efficient in terms of memory and time complexity compared to iterative solutions.\n",
    "- Iteration can be more explicit and easier to understand in some cases, especially for simple repetitive tasks.\n",
    "\n",
    "Both recursion and iteration have their advantages and disadvantages, and the choice between them often depends on the problem being solved and the trade-offs between readability, performance, and resource usage.\n"
   ]
  },
  {
   "cell_type": "markdown",
   "id": "f7882167",
   "metadata": {},
   "source": [
    "### 2.)Write a Python program to calculate the factorial of a number using recursion."
   ]
  },
  {
   "cell_type": "code",
   "execution_count": 14,
   "id": "3454f08f",
   "metadata": {},
   "outputs": [
    {
     "name": "stdout",
     "output_type": "stream",
     "text": [
      "The factorial of 5 is: 120\n"
     ]
    }
   ],
   "source": [
    "def factorial(n):\n",
    "    if n == 0 or n == 1:\n",
    "        return 1\n",
    "    else:\n",
    "        return n * factorial(n - 1)\n",
    "\n",
    "# Input a number to calculate its factorial\n",
    "number = 5\n",
    "result = factorial(number)\n",
    "print(f\"The factorial of {number} is: {result}\")"
   ]
  },
  {
   "cell_type": "markdown",
   "id": "630dea82",
   "metadata": {},
   "source": [
    "### 3.)Create a recursive Python function to find the nth Fibonacci number."
   ]
  },
  {
   "cell_type": "code",
   "execution_count": 15,
   "id": "2b25d595",
   "metadata": {},
   "outputs": [
    {
     "name": "stdout",
     "output_type": "stream",
     "text": [
      "The 8th Fibonacci number is: 21\n"
     ]
    }
   ],
   "source": [
    "def fibonacci(n):\n",
    "    if n <= 1:\n",
    "        return n\n",
    "    else:\n",
    "        return fibonacci(n - 1) + fibonacci(n - 2)\n",
    "\n",
    "# Input the value of n for the nth Fibonacci number\n",
    "n = 8  # For example, to find the 8th Fibonacci number\n",
    "result = fibonacci(n)\n",
    "\n",
    "print(f\"The {n}th Fibonacci number is: {result}\")"
   ]
  },
  {
   "cell_type": "markdown",
   "id": "e1444165",
   "metadata": {},
   "source": [
    "### 4.)Write a recursive Python function to calculate the sum of all elements in a list."
   ]
  },
  {
   "cell_type": "code",
   "execution_count": 16,
   "id": "a5b44682",
   "metadata": {},
   "outputs": [
    {
     "name": "stdout",
     "output_type": "stream",
     "text": [
      "The sum of elements in the list is: 15\n"
     ]
    }
   ],
   "source": [
    "def recursive_list_sum(arr):\n",
    "    if not arr:\n",
    "        return 0\n",
    "    else:\n",
    "        return arr[0] + recursive_list_sum(arr[1:])\n",
    "\n",
    "# Example list\n",
    "my_list = [1, 2, 3, 4, 5]\n",
    "\n",
    "# Calculate the sum of elements in the list\n",
    "result = recursive_list_sum(my_list)\n",
    "\n",
    "print(f\"The sum of elements in the list is: {result}\")"
   ]
  },
  {
   "cell_type": "markdown",
   "id": "e31b8d97",
   "metadata": {},
   "source": [
    "### 5.)How can you prevent a recursive function from running indefinitely, causing a stack overflow error?"
   ]
  },
  {
   "cell_type": "markdown",
   "id": "88dd277d",
   "metadata": {},
   "source": [
    "Preventing a recursive function from running indefinitely and causing a stack overflow error can be achieved by implementing proper termination conditions or checks within the recursive function. Here are some techniques to prevent infinite recursion:\n",
    "\n",
    "### Base Case:\n",
    "Ensure that your recursive function has a base case that will eventually terminate the recursion. The base case should be reached after a certain number of recursive calls, thus breaking the recursion loop.\n",
    "\n",
    "### Update Parameters:\n",
    "Ensure that the parameters passed to the recursive function get closer to the base case with each recursive call. For example, for functions calculating sequences (like Fibonacci), ensure the parameter decreases or changes to reach the base case.\n",
    "\n",
    "### Conditional Checks:\n",
    "Include conditional checks to prevent further recursion when a certain condition is met. It could be a limit on the input size, a specific value, or any other condition that stops the recursion.\n",
    "\n",
    "### Tail Recursion Optimization:\n",
    "In some programming languages (though not directly supported in Python), tail recursion optimization (TRO) is a technique that can optimize certain recursive functions to avoid stack overflow by converting them into iterative form. In Python, though, TRO isn’t automatically performed by the interpreter.\n",
    "\n",
    "### Iterative Alternatives:\n",
    "Consider rewriting your recursive function into an iterative approach. Iterative solutions often avoid potential stack overflow errors associated with recursive calls."
   ]
  },
  {
   "cell_type": "code",
   "execution_count": 18,
   "id": "5a182fa8",
   "metadata": {},
   "outputs": [
    {
     "name": "stdout",
     "output_type": "stream",
     "text": [
      "3628800\n"
     ]
    }
   ],
   "source": [
    "def factorial(n, acc=1):\n",
    "    if n == 0:\n",
    "        return acc\n",
    "    else:\n",
    "        return factorial(n - 1, n * acc)\n",
    "\n",
    "result = factorial(10)\n",
    "print(result)"
   ]
  },
  {
   "cell_type": "markdown",
   "id": "77ae5762",
   "metadata": {},
   "source": [
    "In this example, the base case is when `n` is 0, and the parameter `n` decreases with each recursive call. This function wouldn’t cause a stack overflow error because it’s tail-recursive and hits the base case relatively quickly. "
   ]
  },
  {
   "cell_type": "markdown",
   "id": "c1d3e699",
   "metadata": {},
   "source": [
    "### 6.)Create a recursive Python function to find the greatest common divisor (GCD) of two numbers using the Euclidean algorithm."
   ]
  },
  {
   "cell_type": "markdown",
   "id": "98e5ed75",
   "metadata": {},
   "source": [
    "The Euclidean algorithm is an efficient method for finding the greatest common divisor (GCD) of two numbers. Here's a recursive Python function that implements the Euclidean algorithm to find the GCD of two numbers:\n"
   ]
  },
  {
   "cell_type": "code",
   "execution_count": 19,
   "id": "e49a1122",
   "metadata": {},
   "outputs": [
    {
     "name": "stdout",
     "output_type": "stream",
     "text": [
      "The GCD of 48 and 18 is: 6\n"
     ]
    }
   ],
   "source": [
    "def gcd_euclidean(a, b):\n",
    "    if b == 0:\n",
    "        return a\n",
    "    else:\n",
    "        return gcd_euclidean(b, a % b)\n",
    "\n",
    "# Example numbers to find their GCD\n",
    "num1 = 48\n",
    "num2 = 18\n",
    "\n",
    "result = gcd_euclidean(num1, num2)\n",
    "print(f\"The GCD of {num1} and {num2} is: {result}\")"
   ]
  },
  {
   "cell_type": "markdown",
   "id": "d8e8de00",
   "metadata": {},
   "source": [
    "### 7.)Write a recursive Python function to reverse a string."
   ]
  },
  {
   "cell_type": "code",
   "execution_count": 20,
   "id": "d432463b",
   "metadata": {},
   "outputs": [
    {
     "name": "stdout",
     "output_type": "stream",
     "text": [
      "The reversed string is: !dlroW ,olleH\n"
     ]
    }
   ],
   "source": [
    "def reverse_string(s):\n",
    "    if len(s) <= 1:\n",
    "        return s\n",
    "    else:\n",
    "        return reverse_string(s[1:]) + s[0]\n",
    "\n",
    "# Example string to be reversed\n",
    "input_string = \"Hello, World!\"\n",
    "\n",
    "result = reverse_string(input_string)\n",
    "print(f\"The reversed string is: {result}\")\n"
   ]
  },
  {
   "cell_type": "markdown",
   "id": "4262aa64",
   "metadata": {},
   "source": [
    "### 8.)Create a recursive Python function to calculate the power of a number (x^n)."
   ]
  },
  {
   "cell_type": "code",
   "execution_count": 21,
   "id": "7ed58ae5",
   "metadata": {},
   "outputs": [
    {
     "name": "stdout",
     "output_type": "stream",
     "text": [
      "The result of 2 raised to the power of 5 is: 32\n"
     ]
    }
   ],
   "source": [
    "def power(x, n):\n",
    "    if n == 0:\n",
    "        return 1\n",
    "    else:\n",
    "        return x * power(x, n - 1)\n",
    "\n",
    "# Example of calculating 2 raised to the power of 5 (2^5)\n",
    "result = power(2, 5)\n",
    "print(f\"The result of 2 raised to the power of 5 is: {result}\")"
   ]
  },
  {
   "cell_type": "markdown",
   "id": "662baef6",
   "metadata": {},
   "source": [
    "### 9.)Write a recursive Python function to find all permutations of a given string."
   ]
  },
  {
   "cell_type": "code",
   "execution_count": 22,
   "id": "21d57dd8",
   "metadata": {},
   "outputs": [
    {
     "name": "stdout",
     "output_type": "stream",
     "text": [
      "All permutations of 'abc':\n",
      "abc\n",
      "acb\n",
      "bac\n",
      "bca\n",
      "cba\n",
      "cab\n"
     ]
    }
   ],
   "source": [
    "def permute_string(s, start, end):\n",
    "    if start == end:\n",
    "        print(''.join(s))\n",
    "    else:\n",
    "        for i in range(start, end + 1):\n",
    "            s[start], s[i] = s[i], s[start]\n",
    "            permute_string(s, start + 1, end)\n",
    "            s[start], s[i] = s[i], s[start]  # Backtrack\n",
    "\n",
    "# Function to generate permutations of a string\n",
    "def permutations(input_string):\n",
    "    str_list = list(input_string)\n",
    "    n = len(str_list)\n",
    "    permute_string(str_list, 0, n - 1)\n",
    "\n",
    "# Example string to find permutations\n",
    "input_str = \"abc\"\n",
    "\n",
    "print(f\"All permutations of '{input_str}':\")\n",
    "permutations(input_str)"
   ]
  },
  {
   "cell_type": "markdown",
   "id": "1ed07894",
   "metadata": {},
   "source": [
    "### 10.)Write a recursive Python function to check if a string is a palindrome."
   ]
  },
  {
   "cell_type": "code",
   "execution_count": 23,
   "id": "f330a87b",
   "metadata": {},
   "outputs": [
    {
     "name": "stdout",
     "output_type": "stream",
     "text": [
      "The string 'Madam' is a palindrome.\n"
     ]
    }
   ],
   "source": [
    "def is_palindrome(s):\n",
    "    s = s.lower()  # Convert string to lowercase for case-insensitive comparison\n",
    "    if len(s) <= 1:\n",
    "        return True\n",
    "    else:\n",
    "        if s[0] == s[-1]:\n",
    "            return is_palindrome(s[1:-1])\n",
    "        else:\n",
    "            return False\n",
    "\n",
    "# Example string to check for palindrome\n",
    "input_string = \"Madam\"\n",
    "result = is_palindrome(input_string)\n",
    "\n",
    "if result:\n",
    "    print(f\"The string '{input_string}' is a palindrome.\")\n",
    "else:\n",
    "    print(f\"The string '{input_string}' is not a palindrome.\")"
   ]
  },
  {
   "cell_type": "markdown",
   "id": "284266c2",
   "metadata": {},
   "source": [
    "### 11.)Create a recursive Python function to generate all possible combinations of a list of elements."
   ]
  },
  {
   "cell_type": "code",
   "execution_count": 24,
   "id": "41d2a1c9",
   "metadata": {},
   "outputs": [
    {
     "name": "stdout",
     "output_type": "stream",
     "text": [
      "All possible combinations:\n",
      "[1, 2, 3]\n",
      "[1, 2]\n",
      "[1, 3]\n",
      "[1]\n",
      "[2, 3]\n",
      "[2]\n",
      "[3]\n",
      "[]\n"
     ]
    }
   ],
   "source": [
    "def generate_combinations(elements, current_combination, index):\n",
    "    if index == len(elements):\n",
    "        print(current_combination)\n",
    "    else:\n",
    "        generate_combinations(elements, current_combination + [elements[index]], index + 1)\n",
    "        generate_combinations(elements, current_combination, index + 1)\n",
    "\n",
    "# Function to generate all combinations of a list\n",
    "def all_combinations(elements):\n",
    "    generate_combinations(elements, [], 0)\n",
    "\n",
    "# Example list of elements\n",
    "input_list = [1, 2, 3]\n",
    "\n",
    "print(\"All possible combinations:\")\n",
    "all_combinations(input_list)"
   ]
  },
  {
   "cell_type": "markdown",
   "id": "d05037b2",
   "metadata": {},
   "source": [
    "## Basics of Functions:"
   ]
  },
  {
   "cell_type": "markdown",
   "id": "12b9135b",
   "metadata": {},
   "source": [
    "### 1.)What is a function in Python, and why is it used?"
   ]
  },
  {
   "cell_type": "markdown",
   "id": "edcb11e4",
   "metadata": {},
   "source": [
    "In Python, a function is a block of organized, reusable code designed to perform a specific task. It allows you to structure your program into smaller, manageable sections, each responsible for a specific operation. Functions help to make code more readable, efficient, and reusable by encapsulating a set of instructions that can be called multiple times from different parts of a program.\n",
    "\n",
    "\n",
    "Why Functions Are Used:\n",
    "\n",
    "Code Reusability: Functions help avoid redundant code by encapsulating specific functionalities, making code reusable.\n",
    "Modularity and Readability: Breaking down a complex task into smaller functions makes code more readable, understandable, and maintainable.\n",
    "Abstraction: Functions allow users to use code without needing to know how it's implemented, enhancing the concept of black-box programming.\n",
    "Ease of Testing and Debugging: Functions can be individually tested and debugged, which is easier compared to testing an entire program.\n"
   ]
  },
  {
   "cell_type": "markdown",
   "id": "c94eff74",
   "metadata": {},
   "source": [
    "### 2.)How do you define a function in Python? Provide an example."
   ]
  },
  {
   "cell_type": "markdown",
   "id": "04cc933a",
   "metadata": {},
   "source": [
    "In Python, you can define a function using the `def` keyword followed by the function name, parentheses `()`, and a colon `:` to begin the function block. Here is an example of defining a simple function:"
   ]
  },
  {
   "cell_type": "code",
   "execution_count": 25,
   "id": "7706996e",
   "metadata": {},
   "outputs": [
    {
     "name": "stdout",
     "output_type": "stream",
     "text": [
      "Hello, Alice! Welcome.\n"
     ]
    }
   ],
   "source": [
    "# Example of a function that greets a user\n",
    "def greet_user(name):\n",
    "    print(f\"Hello, {name}! Welcome.\")\n",
    "\n",
    "# Calling the function\n",
    "greet_user(\"Alice\")  # Output: Hello, Alice! Welcome."
   ]
  },
  {
   "cell_type": "markdown",
   "id": "67a588c3",
   "metadata": {},
   "source": [
    "This function, `greet_user`, takes one argument (name) and greets the user with the provided name. This is a basic example, but functions in Python can be more complex, accepting multiple parameters, performing operations, and returning values as needed."
   ]
  },
  {
   "cell_type": "markdown",
   "id": "a3d97bc3",
   "metadata": {},
   "source": [
    "### 3.)Explain the difference between a function definition and a function call."
   ]
  },
  {
   "cell_type": "markdown",
   "id": "07396942",
   "metadata": {},
   "source": [
    "The distinction between a function definition and a function call lies in their purposes and behaviors:\n",
    "\n",
    "#### Function Definition:\n",
    "\n",
    "Purpose: A function definition is where you create the function, specifying its name, parameters, and the operations it performs.\n",
    "What it does: It defines the structure and behavior of the function, specifying what the function will do when it's called.\n",
    "Syntax: It starts with the `def` keyword, followed by the function name, parameters (if any), and a block of code defining the actions to be executed when the function is called.\n",
    "Example:\n",
    "    \n",
    "    def add(a, b):\n",
    "        return a + b\n",
    "    \n",
    "\n",
    "#### Function Call:\n",
    "\n",
    "Purpose: A function call is the actual execution of the function that has been previously defined. It triggers the function to perform its specified task.\n",
    "What it does: It passes the required arguments (if any) to the function and executes the code within the function definition.\n",
    "Syntax: It involves the function name followed by parentheses `()` containing arguments (if the function takes any) or an empty pair of parentheses if the function doesn't require any arguments.\n",
    "Example:\n",
    "    \n",
    "    result = add(3, 4)\n"
   ]
  },
  {
   "cell_type": "markdown",
   "id": "901e8236",
   "metadata": {},
   "source": [
    "### 4.)Write a Python program that defines a function to calculate the sum of two numbers and then calls the function."
   ]
  },
  {
   "cell_type": "code",
   "execution_count": 26,
   "id": "8e3c1589",
   "metadata": {},
   "outputs": [
    {
     "name": "stdout",
     "output_type": "stream",
     "text": [
      "The sum of 5 and 7 is: 12\n"
     ]
    }
   ],
   "source": [
    "# Function definition to calculate the sum of two numbers\n",
    "def add_numbers(a, b):\n",
    "    return a + b\n",
    "\n",
    "# Calling the function with specific values\n",
    "num1 = 5\n",
    "num2 = 7\n",
    "result = add_numbers(num1, num2)\n",
    "\n",
    "print(f\"The sum of {num1} and {num2} is: {result}\")"
   ]
  },
  {
   "cell_type": "markdown",
   "id": "7ee55de9",
   "metadata": {},
   "source": [
    "### 5.)What is a function signature, and what information does it typically include?"
   ]
  },
  {
   "cell_type": "markdown",
   "id": "1154311a",
   "metadata": {},
   "source": [
    "A function signature, also known as a function prototype, refers to the information that specifies a function's interface without including the actual function body. It usually includes the following information:\n",
    "\n",
    "1. Function Name:The name of the function, which uniquely identifies it within the code.\n",
    "   \n",
    "2. Return Type: The data type of the value returned by the function (e.g., `int`, `str`, `float`, `bool`, or `None`).\n",
    "\n",
    "3. Parameter List/Type: The type and number of parameters the function accepts. It details the input the function requires to perform its task.\n",
    "\n",
    "4. Order of Parameters: The sequence and order of the parameters within the parameter list.\n",
    "\n",
    "The function signature is a crucial piece of information that allows users or other parts of the program to interact with the function without needing to know its implementation details. It defines the input requirements, output, and the calling convention but omits the details of how the function operates internally.\n",
    "\n",
    "For example, consider the following function signature:\n",
    "\n",
    "\n",
    "def add(a: int, b: int) -> int:\n",
    "    pass\n",
    "\n",
    "\n",
    "In this function signature:\n",
    "\n",
    "Function Name: `add`\n",
    "Return Type: `int` (returns an integer)\n",
    "Parameter List/Type: `a: int, b: int` (accepts two integer parameters `a` and `b`)\n",
    "Order of Parameters: `a` is the first parameter, and `b` is the second parameter.\n",
    "\n",
    "The function signature does not include the body of the function, which is represented by `pass` in this case, as it's just a placeholder indicating the function is defined without any operation.\n"
   ]
  },
  {
   "cell_type": "markdown",
   "id": "71ad1628",
   "metadata": {},
   "source": [
    "### 6.)Create a Python function that takes two arguments and returns their product."
   ]
  },
  {
   "cell_type": "code",
   "execution_count": 27,
   "id": "21c90b09",
   "metadata": {},
   "outputs": [
    {
     "name": "stdout",
     "output_type": "stream",
     "text": [
      "The product of 5 and 7 is: 35\n"
     ]
    }
   ],
   "source": [
    "def calculate_product(a, b):\n",
    "    return a * b\n",
    "\n",
    "# Example usage of the function\n",
    "result = calculate_product(5, 7)\n",
    "print(f\"The product of 5 and 7 is: {result}\")"
   ]
  },
  {
   "cell_type": "markdown",
   "id": "fa30ae35",
   "metadata": {},
   "source": [
    "## Function Parameters and Arguments:"
   ]
  },
  {
   "cell_type": "markdown",
   "id": "517e0f28",
   "metadata": {},
   "source": [
    "### 1.)Explain the concepts of formal parameters and actual arguments in Python functions."
   ]
  },
  {
   "cell_type": "markdown",
   "id": "22c9c678",
   "metadata": {},
   "source": [
    "In Python functions, formal parameters and actual arguments are terms used to distinguish between the placeholders in a function definition (formal parameters) and the values or expressions passed to the function during its call (actual arguments).\n",
    "\n",
    "#### Formal Parameters:\n",
    "\n",
    "Definition: Formal parameters are variables listed in the function definition. They serve as placeholders for the values that will be supplied when the function is called.\n",
    "Purpose: These parameters specify the type and number of values that the function expects to receive.\n",
    "Usage: Formal parameters are identifiers listed within the parentheses of the function definition and act as local variables within the function's scope.\n",
    "\n",
    "Example:\n",
    "\n",
    "def multiply(a, b):  # 'a' and 'b' are formal parameters\n",
    "    return a * b\n",
    "\n",
    "\n",
    "#### Actual Arguments (or Arguments):\n",
    "\n",
    "Definition: Actual arguments are the values or expressions passed to the function during its call. These values correspond to the formal parameters of the function.\n",
    "Purpose: They supply the actual data or values to be used within the function's code.\n",
    "Usage: Actual arguments are the values or expressions provided within the parentheses when calling the function.\n",
    "\n",
    "Example:\n",
    "\n",
    "result = multiply(5, 7)  # '5' and '7' are actual arguments\n",
    "\n",
    "\n",
    "In the example, `a` and `b` are the formal parameters defined in the `multiply` function, whereas `5` and `7` are the actual arguments passed when the function `multiply` is called. The values of actual arguments get assigned to the corresponding formal parameters.\n",
    "\n",
    "#### Parameter Passing:\n",
    "\n",
    "In Python, arguments are passed by object reference. When an argument is passed to a function, it's the reference to the object that gets passed. This allows the function to access and modify the original object if it's mutable (e.g., a list or dictionary). However, for immutable objects (e.g., integers, strings), changes within the function do not affect the original object.\n",
    "\n",
    "Understanding the distinction between formal parameters and actual arguments is essential for defining functions to perform specific tasks and ensuring they receive the necessary data when called.\n"
   ]
  },
  {
   "cell_type": "markdown",
   "id": "6b36240c",
   "metadata": {},
   "source": [
    "### 2.)Write a Python program that defines a function with default argument values."
   ]
  },
  {
   "cell_type": "code",
   "execution_count": 28,
   "id": "66e44989",
   "metadata": {},
   "outputs": [
    {
     "name": "stdout",
     "output_type": "stream",
     "text": [
      "Hello, Guest!\n",
      "Hello, Alice!\n"
     ]
    }
   ],
   "source": [
    "def greet(name='Guest'):\n",
    "    print(f\"Hello, {name}!\")\n",
    "\n",
    "# Calling the function without an argument\n",
    "greet()  # Output: Hello, Guest!\n",
    "\n",
    "# Calling the function with an argument\n",
    "greet(\"Alice\")  # Output: Hello, Alice!"
   ]
  },
  {
   "cell_type": "markdown",
   "id": "6795fc2a",
   "metadata": {},
   "source": [
    "### 3.)How do you use keyword arguments in Python function calls? Provide an example."
   ]
  },
  {
   "cell_type": "markdown",
   "id": "239980dd",
   "metadata": {},
   "source": [
    "Keyword arguments in Python allow you to pass arguments to a function by specifying the argument name along with the value. This provides clarity and allows you to pass arguments in any order, especially useful when a function has several parameters.\n",
    "\n",
    "Here's an example using keyword arguments in function calls:\n"
   ]
  },
  {
   "cell_type": "code",
   "execution_count": 29,
   "id": "37c82a3d",
   "metadata": {},
   "outputs": [
    {
     "name": "stdout",
     "output_type": "stream",
     "text": [
      "Hello, Alice! Welcome\n"
     ]
    }
   ],
   "source": [
    "def greet_user(name, message):\n",
    "    print(f\"Hello, {name}! {message}\")\n",
    "\n",
    "# Calling the function using keyword arguments\n",
    "greet_user(name=\"Alice\", message=\"Welcome\")  "
   ]
  },
  {
   "cell_type": "markdown",
   "id": "714cd95d",
   "metadata": {},
   "source": [
    "In the above example:\n",
    "Arguments are passed by specifying the parameter name followed by the value, e.g., name=\"Alice\".\n",
    "\n",
    "You can change the order of the arguments when using keywords.\n",
    "\n",
    "If you do not specify a value for an argument, the default value (if specified in the function definition) will be used.\n",
    "\n",
    "You can mix positional arguments and keyword arguments, but positional arguments must come before keyword arguments."
   ]
  },
  {
   "cell_type": "markdown",
   "id": "6984bca0",
   "metadata": {},
   "source": [
    "### 4.)Create a Python function that accepts a variable number of arguments and calculates their sum."
   ]
  },
  {
   "cell_type": "code",
   "execution_count": 30,
   "id": "a3ed939e",
   "metadata": {},
   "outputs": [
    {
     "name": "stdout",
     "output_type": "stream",
     "text": [
      "15\n",
      "60\n",
      "42\n"
     ]
    }
   ],
   "source": [
    "def calculate_sum(*args):\n",
    "    total = sum(args)\n",
    "    return total\n",
    "\n",
    "# Example function calls\n",
    "result1 = calculate_sum(1, 2, 3, 4, 5)\n",
    "result2 = calculate_sum(10, 20, 30)\n",
    "result3 = calculate_sum(2, 4, 6, 8, 10, 12)\n",
    "\n",
    "print(result1)  # Output: 15\n",
    "print(result2)  # Output: 60\n",
    "print(result3)  # Output: 42"
   ]
  },
  {
   "cell_type": "markdown",
   "id": "fd0a0279",
   "metadata": {},
   "source": [
    "### 5.)What is the purpose of the `*args` and `**kwargs` syntax in function parameter lists?"
   ]
  },
  {
   "cell_type": "markdown",
   "id": "bc0cd1b2",
   "metadata": {},
   "source": [
    "In Python, *args and **kwargs are special syntax used in function definitions to handle a variable number of arguments.\n",
    "\n",
    "*args (Arbitrary Arguments):\n",
    "\n",
    "The *args parameter in a function allows you to pass a variable number of positional arguments to a function.\n",
    "The *args syntax collects these positional arguments into a tuple within the function. The name args is a convention; you could use any other name preceded by a single asterisk."
   ]
  },
  {
   "cell_type": "code",
   "execution_count": 31,
   "id": "f6f21c2c",
   "metadata": {},
   "outputs": [
    {
     "name": "stdout",
     "output_type": "stream",
     "text": [
      "1\n",
      "2\n",
      "3\n",
      "4\n"
     ]
    }
   ],
   "source": [
    "def my_function(*args):\n",
    "    for arg in args:\n",
    "        print(arg)\n",
    "\n",
    "my_function(1, 2, 3, 4)\n",
    "#This function my_function accepts any number of arguments and prints each argument."
   ]
  },
  {
   "cell_type": "markdown",
   "id": "ad6c61fa",
   "metadata": {},
   "source": [
    "**kwargs (Arbitrary Keyword Arguments):\n",
    "\n",
    "The **kwargs parameter allows you to pass a variable number of keyword arguments to a function.\n",
    "The **kwargs syntax collects these keyword arguments into a dictionary within the function. The name kwargs is a convention, but the double asterisks are necessary.\n",
    "Example:"
   ]
  },
  {
   "cell_type": "code",
   "execution_count": 32,
   "id": "b1ec89dd",
   "metadata": {},
   "outputs": [
    {
     "name": "stdout",
     "output_type": "stream",
     "text": [
      "a: 1\n",
      "b: 2\n",
      "c: 3\n"
     ]
    }
   ],
   "source": [
    "def my_function(**kwargs):\n",
    "    for key, value in kwargs.items():\n",
    "        print(f\"{key}: {value}\")\n",
    "\n",
    "my_function(a=1, b=2, c=3)"
   ]
  },
  {
   "cell_type": "markdown",
   "id": "d7a1b77a",
   "metadata": {},
   "source": [
    "This function my_function accepts keyword arguments and prints each key-value pair."
   ]
  },
  {
   "cell_type": "markdown",
   "id": "8520a666",
   "metadata": {},
   "source": [
    "# Return Values and Scoping:"
   ]
  },
  {
   "cell_type": "markdown",
   "id": "ea2889e0",
   "metadata": {},
   "source": [
    "### 1.)Describe the role of the `return` statement in Python functions and provide examples."
   ]
  },
  {
   "cell_type": "markdown",
   "id": "7b4d155e",
   "metadata": {},
   "source": [
    "The `return` statement in Python functions serves the purpose of exiting the function and returning a value or result back to the caller. It's used to specify the output of the function and is optional; a function without a `return` statement implicitly returns `None`. When the `return` statement is encountered in the function, it immediately stops the function's execution and passes the specified value back to the point where the function was called.\n",
    "\n",
    "#### Role of the `return` Statement:\n",
    "\n",
    "Exiting the Function: The `return` statement terminates the function's execution and hands the control back to the caller.\n",
    "Returning Values: It sends a specific value back to the caller, providing the result of the function's operation.\n",
    "-Multiple Returns: A function can have multiple `return` statements, but only one of them will be executed during the function call.\n",
    "\n",
    "#### Examples:\n",
    "\n",
    "Here are some examples illustrating the usage of the `return` statement in Python functions:\n"
   ]
  },
  {
   "cell_type": "code",
   "execution_count": 33,
   "id": "2c1a9edc",
   "metadata": {},
   "outputs": [
    {
     "name": "stdout",
     "output_type": "stream",
     "text": [
      "8\n"
     ]
    }
   ],
   "source": [
    "#1. Returning a value from a function:  \n",
    "def add(a, b):\n",
    "    return a + b\n",
    "\n",
    "result = add(3, 5)\n",
    "print(result)  # Output: 8\n"
   ]
  },
  {
   "cell_type": "code",
   "execution_count": 34,
   "id": "4a4cd106",
   "metadata": {},
   "outputs": [
    {
     "name": "stdout",
     "output_type": "stream",
     "text": [
      "14 6\n"
     ]
    }
   ],
   "source": [
    "# 2. Returning multiple values using a tuple:\n",
    "def operate(a, b):\n",
    "    add = a + b\n",
    "    subtract = a - b\n",
    "    return add, subtract\n",
    "\n",
    "add_result, subtract_result = operate(10, 4)\n",
    "print(add_result, subtract_result)  # Output: 14 6"
   ]
  },
  {
   "cell_type": "code",
   "execution_count": 35,
   "id": "0f0a3d2c",
   "metadata": {},
   "outputs": [
    {
     "name": "stdout",
     "output_type": "stream",
     "text": [
      "True\n"
     ]
    }
   ],
   "source": [
    "# 3. Exiting the function early:\n",
    "   \n",
    "def is_even(number):\n",
    "    if number % 2 == 0:\n",
    "        return True\n",
    "    return False\n",
    "\n",
    "print(is_even(6))  # Output: True"
   ]
  },
  {
   "cell_type": "markdown",
   "id": "2490c4e8",
   "metadata": {},
   "source": [
    "### 2.)Explain the concept of variable scope in Python, including local and global variables."
   ]
  },
  {
   "cell_type": "markdown",
   "id": "287a981f",
   "metadata": {},
   "source": [
    "Variable scope in Python defines the region where a particular variable is accessible and can be referenced within the code. Understanding variable scope is crucial for preventing naming conflicts, ensuring the correct usage of variables, and maintaining code clarity.\n",
    "\n",
    "#### Local Variables:\n",
    "\n",
    "Definition: Variables defined within a function have local scope, meaning they are accessible only within that function.\n",
    "Accessibility: Local variables are accessible only from the point of their declaration till the end of the function where they are defined.\n",
    "Example:\n"
   ]
  },
  {
   "cell_type": "code",
   "execution_count": 36,
   "id": "48ff4a5a",
   "metadata": {},
   "outputs": [
    {
     "name": "stdout",
     "output_type": "stream",
     "text": [
      "10\n"
     ]
    }
   ],
   "source": [
    "def my_function():\n",
    "    x = 10  # Local variable\n",
    "    print(x)  # Accessible within my_function\n",
    "\n",
    "my_function()\n",
    "# print(x)  # This line would result in an error as x is not defined in this scope"
   ]
  },
  {
   "cell_type": "markdown",
   "id": "84ff65fd",
   "metadata": {},
   "source": [
    "#### Global Variables:\n",
    "\n",
    "Definition:  Variables defined outside of any function have global scope, meaning they are accessible throughout the entire script.\n",
    "Accessibility:  Global variables can be accessed and modified by any part of the program.\n",
    "Example:"
   ]
  },
  {
   "cell_type": "code",
   "execution_count": 37,
   "id": "a954af41",
   "metadata": {},
   "outputs": [
    {
     "name": "stdout",
     "output_type": "stream",
     "text": [
      "20\n",
      "20\n"
     ]
    }
   ],
   "source": [
    "y = 20  # Global variable\n",
    "\n",
    "def my_function():\n",
    "    print(y)  # Accessible within my_function\n",
    "\n",
    "my_function()\n",
    "print(y)  # Accessible outside my_function\n"
   ]
  },
  {
   "cell_type": "markdown",
   "id": "7775e647",
   "metadata": {},
   "source": [
    "#### Local vs Global:\n",
    "\n",
    "Priority: If a local variable has the same name as a global variable, the local variable takes precedence within its scope.\n",
    "Modification: Global variables can be accessed within functions, but modifying them from within a function requires using the `global` keyword.\n",
    "\n",
    "#### Nonlocal Variables:\n",
    "\n",
    "Definition: Variables defined within nested functions have a nonlocal scope. They are neither global nor local and are used in nested functions where they're not defined but need to be accessed.\n",
    "\n",
    "Access in Nested Functions: Nonlocal variables are used when a variable needs to be modified in a nested function while referring to the variable in the enclosing (non-global) scope.\n",
    "\n",
    "#### Example of Nonlocal Variables:\n"
   ]
  },
  {
   "cell_type": "code",
   "execution_count": 39,
   "id": "22ecd064",
   "metadata": {},
   "outputs": [
    {
     "name": "stdout",
     "output_type": "stream",
     "text": [
      "20\n"
     ]
    }
   ],
   "source": [
    "def outer_function():\n",
    "    x = 10  # Enclosing scope variable\n",
    "\n",
    "    def inner_function():\n",
    "        nonlocal x\n",
    "        x = 20  # Modifying the variable from the enclosing scope\n",
    "\n",
    "    inner_function()\n",
    "    print(x)  # Output will be 20\n",
    "    \n",
    "outer_function()"
   ]
  },
  {
   "cell_type": "markdown",
   "id": "80accce5",
   "metadata": {},
   "source": [
    "### 3.)Write a Python program that demonstrates the use of global variables within functions."
   ]
  },
  {
   "cell_type": "code",
   "execution_count": 40,
   "id": "d3390f3a",
   "metadata": {},
   "outputs": [
    {
     "name": "stdout",
     "output_type": "stream",
     "text": [
      "Before function call: global_var = 10\n",
      "Inside my_function: global_var = 10\n",
      "After function call: global_var = 20\n"
     ]
    }
   ],
   "source": [
    "global_var = 10  # Global variable\n",
    "\n",
    "def my_function():\n",
    "    # Accessing the global variable within the function\n",
    "    print(f\"Inside my_function: global_var = {global_var}\")\n",
    "\n",
    "def change_global():\n",
    "    global global_var\n",
    "    global_var = 20  # Modifying the global variable within the function\n",
    "\n",
    "# Displaying the global variable before function call\n",
    "print(f\"Before function call: global_var = {global_var}\")\n",
    "\n",
    "# Calling the function to access the global variable\n",
    "my_function()\n",
    "\n",
    "# Modifying the global variable\n",
    "change_global()\n",
    "\n",
    "# Displaying the global variable after modification\n",
    "print(f\"After function call: global_var = {global_var}\")"
   ]
  },
  {
   "cell_type": "markdown",
   "id": "23731744",
   "metadata": {},
   "source": [
    "### 4.)Create a Python function that calculates the factorial of a number and returns it."
   ]
  },
  {
   "cell_type": "code",
   "execution_count": 41,
   "id": "397edf21",
   "metadata": {},
   "outputs": [
    {
     "name": "stdout",
     "output_type": "stream",
     "text": [
      "The factorial of 5 is: 120\n"
     ]
    }
   ],
   "source": [
    "def calculate_factorial(n):\n",
    "    factorial = 1\n",
    "    for i in range(1, n + 1):\n",
    "        factorial *= i\n",
    "    return factorial\n",
    "\n",
    "# Example usage of the function\n",
    "number = 5\n",
    "result = calculate_factorial(number)\n",
    "print(f\"The factorial of {number} is: {result}\")"
   ]
  },
  {
   "cell_type": "markdown",
   "id": "ab767f9b",
   "metadata": {},
   "source": [
    "### 5.)How can you access variables defined outside a function from within the function?"
   ]
  },
  {
   "cell_type": "code",
   "execution_count": 42,
   "id": "b7090d0c",
   "metadata": {},
   "outputs": [
    {
     "name": "stdout",
     "output_type": "stream",
     "text": [
      "Before function call: global_var = 20\n",
      "Inside the function: global_var = 20\n",
      "After function call: global_var = 20\n"
     ]
    }
   ],
   "source": [
    "global_var = 20  # Global variable\n",
    "\n",
    "def access_global():\n",
    "    print(f\"Inside the function: global_var = {global_var}\")  # Accessing the global variable\n",
    "\n",
    "# Displaying the global variable before function call\n",
    "print(f\"Before function call: global_var = {global_var}\")\n",
    "\n",
    "# Calling the function to access the global variable\n",
    "access_global()\n",
    "\n",
    "# Displaying the global variable after function call\n",
    "print(f\"After function call: global_var = {global_var}\")"
   ]
  },
  {
   "cell_type": "markdown",
   "id": "1d9fe321",
   "metadata": {},
   "source": [
    "# Lambda Functions and Higher-Order Functions:"
   ]
  },
  {
   "cell_type": "markdown",
   "id": "75b72953",
   "metadata": {},
   "source": [
    "### 1.)What are lambda functions in Python, and when are they typically used?"
   ]
  },
  {
   "cell_type": "markdown",
   "id": "e9ec6710",
   "metadata": {},
   "source": [
    "Lambda functions in Python are small, anonymous functions defined using the `lambda` keyword rather than the standard `def` keyword used for creating regular functions. They are often employed for simple operations or when a function is needed for a short period, without the necessity of a formal function definition.\n",
    "\n",
    "\n",
    "\n",
    "#### Typical Use Cases of Lambda Functions:\n",
    "\n",
    "1. As Arguments: They are used as arguments to higher-order functions like `map()`, `filter()`, and `sorted()`.\n"
   ]
  },
  {
   "cell_type": "code",
   "execution_count": 44,
   "id": "3c25d13a",
   "metadata": {},
   "outputs": [
    {
     "name": "stdout",
     "output_type": "stream",
     "text": [
      "[1, 4, 9, 16, 25]\n"
     ]
    }
   ],
   "source": [
    "#     Example using `map()`:\n",
    "   \n",
    "numbers = [1, 2, 3, 4, 5]\n",
    "squared = list(map(lambda x: x**2, numbers))\n",
    "print(squared)"
   ]
  },
  {
   "cell_type": "markdown",
   "id": "6841e9a9",
   "metadata": {},
   "source": [
    "2. For Concise Operations: Lambda functions are suitable for performing quick, simple operations without defining a full function.  "
   ]
  },
  {
   "cell_type": "code",
   "execution_count": 45,
   "id": "2f3bdab2",
   "metadata": {},
   "outputs": [
    {
     "name": "stdout",
     "output_type": "stream",
     "text": [
      "8\n"
     ]
    }
   ],
   "source": [
    "#     Example:\n",
    "add = lambda a, b: a + b\n",
    "print(add(3, 5))  "
   ]
  },
  {
   "cell_type": "markdown",
   "id": "67e787f6",
   "metadata": {},
   "source": [
    "3. In GUI Programming and Web Development: Lambda functions can be used in GUI frameworks like Tkinter for event handling or in web development.\n",
    "\n",
    "4. Functional Programming: Lambda functions are often used in functional programming paradigms where functions are treated as first-class citizens."
   ]
  },
  {
   "cell_type": "markdown",
   "id": "64d4fe09",
   "metadata": {},
   "source": [
    "Lambda functions provide a convenient way to create quick, short-lived functions without the need for a formal function definition. However, they are primarily used for simple, concise tasks due to their restriction to a single expression."
   ]
  },
  {
   "cell_type": "markdown",
   "id": "24f4a985",
   "metadata": {},
   "source": [
    "### 2.)Write a Python program that uses lambda functions to sort a list of tuples based on the second element"
   ]
  },
  {
   "cell_type": "code",
   "execution_count": 46,
   "id": "2d9c8c1a",
   "metadata": {},
   "outputs": [
    {
     "name": "stdout",
     "output_type": "stream",
     "text": [
      "Sorted list based on the second element:\n",
      "[(1, 5), (5, 6), (3, 8), (2, 10)]\n"
     ]
    }
   ],
   "source": [
    "# Sample list of tuples\n",
    "data = [(3, 8), (1, 5), (2, 10), (5, 6)]\n",
    "\n",
    "# Sorting the list based on the second element of each tuple\n",
    "sorted_data = sorted(data, key=lambda x: x[1])\n",
    "\n",
    "# Displaying the sorted list\n",
    "print(\"Sorted list based on the second element:\")\n",
    "print(sorted_data)"
   ]
  },
  {
   "cell_type": "markdown",
   "id": "ee9edd67",
   "metadata": {},
   "source": [
    "### 3.)Explain the concept of higher-order functions in Python, and provide an example."
   ]
  },
  {
   "cell_type": "markdown",
   "id": "ce526092",
   "metadata": {},
   "source": [
    "Higher-order functions in Python are functions that can accept other functions as arguments, return functions as their result, or both. Essentially, they treat functions as first-class citizens, allowing them to be used just like any other data type.\n",
    "\n",
    "#### Key Points about Higher-Order Functions:\n",
    "\n",
    "1. Accepting Functions as Arguments: Higher-order functions can take other functions as parameters.\n",
    "2. Returning Functions: They can generate and return functions.\n",
    "3. Abstraction and Flexibility: They provide a level of abstraction and offer flexibility in design and implementation.\n",
    "\n",
    "#### Example of a Higher-Order Function:\n",
    "\n",
    "Consider an example using a higher-order function that takes another function as an argument and applies it to a list of elements:\n",
    "\n",
    "\n",
    "def apply_operation(operation, values):\n",
    "    return [operation(value) for value in values]\n",
    "\n",
    "#### Example functions to be used as operations\n"
   ]
  },
  {
   "cell_type": "code",
   "execution_count": 47,
   "id": "852b6af7",
   "metadata": {},
   "outputs": [
    {
     "name": "stdout",
     "output_type": "stream",
     "text": [
      "Squared numbers: [4, 9, 16]\n",
      "Cubed numbers: [8, 27, 64]\n"
     ]
    }
   ],
   "source": [
    "# Consider an example using a higher-order function that takes another function as an argument.\n",
    "\n",
    "def apply_operation(operation, values):\n",
    "    return [operation(value) for value in values]\n",
    "\n",
    "# Example functions to be used as operations\n",
    "def square(x):\n",
    "    return x * x\n",
    "\n",
    "def cube(x):\n",
    "    return x * x * x\n",
    "\n",
    "# List of values\n",
    "numbers = [2, 3, 4]\n",
    "\n",
    "# Applying the square operation to the list of numbers\n",
    "squared_numbers = apply_operation(square, numbers)\n",
    "print(\"Squared numbers:\", squared_numbers)\n",
    "\n",
    "# Applying the cube operation to the list of numbers\n",
    "cubed_numbers = apply_operation(cube, numbers)\n",
    "print(\"Cubed numbers:\", cubed_numbers)\n"
   ]
  },
  {
   "cell_type": "markdown",
   "id": "09a7447e",
   "metadata": {},
   "source": [
    "This example demonstrates the use of a higher-order function `apply_operation()` that accepts other functions as arguments, illustrating the flexibility and abstraction provided by higher-order functions in Python."
   ]
  },
  {
   "cell_type": "markdown",
   "id": "3f3986d8",
   "metadata": {},
   "source": [
    "### 4.)Create a Python function that takes a list of numbers and a function as arguments, applying the function to each element in the list."
   ]
  },
  {
   "cell_type": "code",
   "execution_count": 48,
   "id": "44970c9f",
   "metadata": {},
   "outputs": [
    {
     "name": "stdout",
     "output_type": "stream",
     "text": [
      "Squared numbers: [4, 9, 16]\n",
      "Cubed numbers: [8, 27, 64]\n"
     ]
    }
   ],
   "source": [
    "def apply_function_to_list(numbers, func):\n",
    "    return [func(number) for number in numbers]\n",
    "\n",
    "# Example functions to be used for operations\n",
    "def square(x):\n",
    "    return x * x\n",
    "\n",
    "def cube(x):\n",
    "    return x * x * x\n",
    "\n",
    "# List of values\n",
    "numbers = [2, 3, 4]\n",
    "\n",
    "# Applying the square operation to the list of numbers\n",
    "squared_numbers = apply_function_to_list(numbers, square)\n",
    "print(\"Squared numbers:\", squared_numbers)\n",
    "\n",
    "# Applying the cube operation to the list of numbers\n",
    "cubed_numbers = apply_function_to_list(numbers, cube)\n",
    "print(\"Cubed numbers:\", cubed_numbers)"
   ]
  },
  {
   "cell_type": "markdown",
   "id": "8e132434",
   "metadata": {},
   "source": [
    "# Built-in Functions:"
   ]
  },
  {
   "cell_type": "markdown",
   "id": "b2f4e4c4",
   "metadata": {},
   "source": [
    "### 1.)Describe the role of built-in functions like `len()`, `max()`, and `min()` in Python."
   ]
  },
  {
   "cell_type": "markdown",
   "id": "2698848f",
   "metadata": {},
   "source": [
    "Built-in functions like `len()`, `max()`, and `min()` in Python are part of the core language and provide essential functionalities to handle common operations easily and efficiently.\n",
    "\n",
    "#### Role of Each Function:\n",
    "\n",
    "1. `len()` Function:\n",
    "   Role: The `len()` function is used to determine the length or the number of elements in an object.\n",
    "   Usage: It can find the length of various data structures such as strings, lists, tuples, dictionaries, and more.\n",
    "   Example: `len(\"Hello\")` returns `5`, `len([1, 2, 3, 4, 5])` returns `5`.\n",
    "\n",
    "2. max()` Function:\n",
    "   Role: The `max()` function returns the maximum value from the given arguments or iterable.\n",
    "   Usage: It is employed to find the maximum element among numbers or elements in a sequence.\n",
    "  Example: `max(5, 10, 3)` returns `10`, `max([7, 2, 9, 5])` returns `9`.\n",
    "\n",
    "3. `min()` Function:\n",
    "   Role: The `min()` function returns the minimum value from the given arguments or iterable.\n",
    "   Usage It is utilized to find the minimum element among numbers or elements in a sequence.\n",
    "   -Example: `min(5, 10, 3)` returns `3`, `min([7, 2, 9, 5])` returns `2`.\n"
   ]
  },
  {
   "cell_type": "markdown",
   "id": "7129c1f0",
   "metadata": {},
   "source": [
    "### 2.)Write a Python program that uses the `map()` function to apply a function to each element of a list."
   ]
  },
  {
   "cell_type": "code",
   "execution_count": 49,
   "id": "6e432cf1",
   "metadata": {},
   "outputs": [
    {
     "name": "stdout",
     "output_type": "stream",
     "text": [
      "Original list: [1, 2, 3, 4, 5]\n",
      "Squared list: [1, 4, 9, 16, 25]\n"
     ]
    }
   ],
   "source": [
    "# Function to be applied\n",
    "def square(x):\n",
    "    return x * x\n",
    "\n",
    "# List of numbers\n",
    "numbers = [1, 2, 3, 4, 5]\n",
    "\n",
    "# Applying the square function to each element using map\n",
    "squared_numbers = list(map(square, numbers))\n",
    "\n",
    "# Displaying the result\n",
    "print(\"Original list:\", numbers)\n",
    "print(\"Squared list:\", squared_numbers)"
   ]
  },
  {
   "cell_type": "markdown",
   "id": "c1da873a",
   "metadata": {},
   "source": [
    "### 3.)How does the `filter()` function work in Python, and when would you use it?"
   ]
  },
  {
   "cell_type": "markdown",
   "id": "e04fd7c8",
   "metadata": {},
   "source": [
    "The `filter()` function in Python is used to filter elements from an iterable (like a list) based on a given function, which acts as a filter or a condition.\n",
    "\n",
    "\n",
    "#### Typical Use Cases:\n",
    "\n",
    "1. Filtering Elements: The `filter()` function is employed when there's a need to extract elements from a collection that meet specific criteria defined by the provided function.\n"
   ]
  },
  {
   "cell_type": "code",
   "execution_count": 51,
   "id": "cdaca3e1",
   "metadata": {},
   "outputs": [
    {
     "name": "stdout",
     "output_type": "stream",
     "text": [
      "[2, 4, 6]\n"
     ]
    }
   ],
   "source": [
    "#    Example:\n",
    "numbers = [1, 2, 3, 4, 5, 6]\n",
    "even_numbers = list(filter(lambda x: x % 2 == 0, numbers))\n",
    "print(even_numbers)"
   ]
  },
  {
   "cell_type": "markdown",
   "id": "80fd0f5e",
   "metadata": {},
   "source": [
    "2. Data Filtering: In scenarios where a subset of data is required based on certain conditions or predicates, the `filter()` function can efficiently extract the required data.\n",
    "\n",
    "#### Basic Syntax:\n",
    "\n",
    "The general syntax of the `filter()` function is:\n",
    "\n",
    "filter(function, iterable)\n",
    "\n",
    "\n",
    "- function represents the filtering condition (a function that returns `True` or `False`).\n",
    "- iterable is the collection of elements to be filtered.\n"
   ]
  },
  {
   "cell_type": "code",
   "execution_count": 52,
   "id": "83e73bd0",
   "metadata": {},
   "outputs": [
    {
     "name": "stdout",
     "output_type": "stream",
     "text": [
      "Even numbers: [2, 4, 6]\n"
     ]
    }
   ],
   "source": [
    "#example\n",
    "# Filtering even numbers from a list\n",
    "numbers = [1, 2, 3, 4, 5, 6]\n",
    "even_numbers = list(filter(lambda x: x % 2 == 0, numbers))\n",
    "print(\"Even numbers:\", even_numbers)\n"
   ]
  },
  {
   "cell_type": "markdown",
   "id": "079779ee",
   "metadata": {},
   "source": [
    "The `filter()` function is helpful when there's a need to select or filter elements from a collection based on specific criteria defined by a function."
   ]
  },
  {
   "cell_type": "markdown",
   "id": "a825a3b6",
   "metadata": {},
   "source": [
    "### 4.)Create a Python program that uses the `reduce()` function to find the product of all elements in a list."
   ]
  },
  {
   "cell_type": "code",
   "execution_count": 53,
   "id": "5c2bfec3",
   "metadata": {},
   "outputs": [
    {
     "name": "stdout",
     "output_type": "stream",
     "text": [
      "Product of all elements: 120\n"
     ]
    }
   ],
   "source": [
    "from functools import reduce\n",
    "# List of numbers\n",
    "numbers = [2, 3, 4, 5]\n",
    "\n",
    "# Function to find the product of two numbers\n",
    "def multiply(x, y):\n",
    "    return x * y\n",
    "\n",
    "# Using reduce to find the product of all elements in the list\n",
    "product = reduce(multiply, numbers)\n",
    "\n",
    "# Display the product\n",
    "print(\"Product of all elements:\", product)"
   ]
  },
  {
   "cell_type": "markdown",
   "id": "8b4f7fe7",
   "metadata": {},
   "source": [
    "# Function Documentation and Best Practices:"
   ]
  },
  {
   "cell_type": "markdown",
   "id": "eca93aa8",
   "metadata": {},
   "source": [
    "### 1.)Explain the purpose of docstrings in Python functions and how to write them."
   ]
  },
  {
   "cell_type": "markdown",
   "id": "d4feff21",
   "metadata": {},
   "source": [
    "Docstrings in Python are strings used to describe the purpose, usage, and functionality of modules, functions, classes, or methods within your code. They serve as a form of inline documentation that helps other programmers (and even yourself) understand the purpose and usage of the code components.\n",
    "\n",
    "#### Purpose of Docstrings:\n",
    "\n",
    "1. Documentation: They provide a means to document your code, describing its functionality, expected inputs, and outputs.\n",
    "2. Clarity and Readability: Docstrings enhance code readability and maintainability by explaining the purpose and usage of functions, classes, or modules.\n",
    "3. Accessibility: They can be accessed using Python's built-in help function or various documentation tools.\n",
    "\n",
    "#### Writing Docstrings:\n",
    "\n",
    "Here is a simple way to write a docstring for a Python function:\n",
    "\n",
    "\n",
    "def example_function(param1, param2):\n",
    "    Concisely describe what this function does.\n",
    "\n",
    "    Args:\n",
    "        param1: Description of param1.\n",
    "        param2: Description of param2.\n",
    "\n",
    "    Returns:\n",
    "        Describe the return value or None if nothing is returned.\n",
    "   \n",
    "    # Function implementation goes here\n",
    "    pass\n",
    "\n",
    "\n",
    "The docstring format typically includes:\n",
    "\n",
    "1.Description: A brief description of what the function does.\n",
    "2. Args: Details about the function's parameters (arguments). Descriptions for each argument.\n",
    "3. Returns: Details regarding the return value of the function. Explain what is returned or mention 'None' if nothing is returned.\n",
    "\n",
    "#### Accessing Docstrings:\n",
    "\n",
    "- Use the built-in `help()` function: `help(example_function)`\n",
    "- IDEs or text editors often have features that utilize docstrings to provide context-aware information.\n",
    "\n",
    "Writing clear, descriptive docstrings helps others (and yourself) understand the purpose and usage of functions or other code components, making your code more maintainable and easier to work with.\n"
   ]
  },
  {
   "cell_type": "markdown",
   "id": "9f5f290d",
   "metadata": {},
   "source": [
    "### 2.)Describe some best practices for naming functions and variables in Python, including naming conventions and guidelines."
   ]
  },
  {
   "cell_type": "markdown",
   "id": "7525c9d9",
   "metadata": {},
   "source": [
    "#### Naming Conventions:\n",
    "\n",
    "1. Snake Case for Variable Names:\n",
    "   - Use all lowercase letters.\n",
    "   - Separate words with underscores.\n",
    "   - Example: `my_variable_name`.\n",
    "\n",
    "2. Descriptive and Clear Names:\n",
    "   - Choose names that clearly represent the purpose or value.\n",
    "   - Avoid single letters for variables except for simple iterations (e.g., `i`, `j` in loops).\n",
    "\n",
    "3. Use Verbs for Function Names:\n",
    "   - Function names should convey an action or operation.\n",
    "   - Use clear, descriptive names.\n",
    "\n",
    "4. Use Capitalized Words for Class Names:\n",
    "   - Use CamelCase, starting each word with a capital letter.\n",
    "   - Example: `MyClass`.\n",
    "\n",
    "5. Avoid Using Reserved Keywords:\n",
    "   - Don't use Python's reserved words for naming variables or functions (e.g., `list`, `int`, `str`, etc.).\n",
    "\n",
    "#### Guidelines for Readable Code:\n",
    "\n",
    "1. Be Descriptive:\n",
    "   - Name variables and functions to clearly convey their purpose or content.\n",
    "\n",
    "2. Consistency:\n",
    "   - Maintain consistent naming conventions throughout your codebase.\n",
    "   - Choose a style and stick with it.\n",
    "\n",
    "3. Avoid Abbreviations Unless Clear:\n",
    "   - Abbreviations can be confusing, so only use them when they are well-understood and unambiguous.\n",
    "\n",
    "4. Use Comments When Needed:\n",
    "   - If a variable or function name might not fully convey its purpose, use comments to provide additional clarity.\n",
    "\n"
   ]
  },
  {
   "cell_type": "code",
   "execution_count": 54,
   "id": "a821d644",
   "metadata": {},
   "outputs": [],
   "source": [
    "### Example:\n",
    "\n",
    "# Variable naming (Snake Case)\n",
    "max_attempts = 3\n",
    "user_name = \"John Doe\"\n",
    "\n",
    "# Function naming (Snake Case)\n",
    "def calculate_total_score(scores_list):\n",
    "    pass\n",
    "\n",
    "# Class naming (CamelCase)\n",
    "class MyExampleClass:\n",
    "    pass"
   ]
  }
 ],
 "metadata": {
  "kernelspec": {
   "display_name": "Python 3 (ipykernel)",
   "language": "python",
   "name": "python3"
  },
  "language_info": {
   "codemirror_mode": {
    "name": "ipython",
    "version": 3
   },
   "file_extension": ".py",
   "mimetype": "text/x-python",
   "name": "python",
   "nbconvert_exporter": "python",
   "pygments_lexer": "ipython3",
   "version": "3.10.5"
  }
 },
 "nbformat": 4,
 "nbformat_minor": 5
}
