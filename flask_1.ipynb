{
 "cells": [
  {
   "cell_type": "markdown",
   "id": "7806d9e3",
   "metadata": {},
   "source": [
    "## Basics of Flask:"
   ]
  },
  {
   "cell_type": "markdown",
   "id": "3df8c9d3",
   "metadata": {},
   "source": [
    "### 1. Create a Flask app that displays \"Hello, World!\" on the homepage."
   ]
  },
  {
   "cell_type": "code",
   "execution_count": null,
   "id": "e8347cff",
   "metadata": {},
   "outputs": [],
   "source": [
    "from flask import Flask\n",
    "\n",
    "app = Flask(__name__)\n",
    "\n",
    "@app.route('/')\n",
    "def hello_world():\n",
    "    return 'Hello, World!'\n",
    "\n",
    "if __name__ == '__main__':\n",
    "    app.run(debug=True)"
   ]
  },
  {
   "cell_type": "markdown",
   "id": "c5faa625",
   "metadata": {},
   "source": [
    "### 2. Build a Flask app with static HTML pages and navigate between them."
   ]
  },
  {
   "cell_type": "code",
   "execution_count": null,
   "id": "6b7107ee",
   "metadata": {},
   "outputs": [],
   "source": [
    "from flask import Flask, render_template\n",
    "\n",
    "app = Flask(__name__)\n",
    "\n",
    "@app.route('/')\n",
    "def home():\n",
    "    return render_template('home.html')\n",
    "\n",
    "@app.route('/')\n",
    "def about():\n",
    "    return render_template('about.html')\n",
    "\n",
    "if __name__ == '__main__':\n",
    "    app.run(debug=True)"
   ]
  },
  {
   "cell_type": "code",
   "execution_count": null,
   "id": "e71b3f34",
   "metadata": {},
   "outputs": [],
   "source": [
    "static html pages"
   ]
  },
  {
   "cell_type": "markdown",
   "id": "fb9d6f76",
   "metadata": {},
   "source": [
    "home.html:"
   ]
  },
  {
   "cell_type": "raw",
   "id": "8f0ab0ff",
   "metadata": {},
   "source": [
    "<!DOCTYPE html>\n",
    "<html>\n",
    "<head>\n",
    "    <title>Home</title>\n",
    "    <link rel=\"stylesheet\" href=\"{{ url_for('static', filename='style.css') }}\">\n",
    "</head>\n",
    "<body>\n",
    "    <h1>Welcome to the Home Page</h1>\n",
    "    <p>This is the home page content.</p>\n",
    "    <a href=\"{{ url_for('about') }}\">Go to About Page</a>\n",
    "</body>\n",
    "</html>"
   ]
  },
  {
   "cell_type": "markdown",
   "id": "65d3137c",
   "metadata": {},
   "source": [
    "about.html:"
   ]
  },
  {
   "cell_type": "code",
   "execution_count": null,
   "id": "e7938518",
   "metadata": {},
   "outputs": [],
   "source": [
    "<!DOCTYPE html>\n",
    "<html>\n",
    "<head>\n",
    "    <title>About</title>\n",
    "    <link rel=\"stylesheet\" href=\"{{ url_for('static', filename='style.css') }}\">\n",
    "</head>\n",
    "<body>\n",
    "    <h1>About Us</h1>\n",
    "    <p>This is the about page content.</p>\n",
    "    <a href=\"{{ url_for('home') }}\">Go to Home Page</a>\n",
    "</body>\n",
    "</html>"
   ]
  },
  {
   "cell_type": "markdown",
   "id": "4e9e43e5",
   "metadata": {},
   "source": [
    "### 3. Develop a Flask app that uses URL parameters to display dynamic content."
   ]
  },
  {
   "cell_type": "code",
   "execution_count": null,
   "id": "75e43afe",
   "metadata": {},
   "outputs": [],
   "source": [
    "from flask import Flask, render_template\n",
    "\n",
    "app = Flask(__name__)\n",
    "\n",
    "# Route that takes a dynamic parameter in the URL\n",
    "@app.route('/user/<username>')\n",
    "def show_user_profile(username):\n",
    "    return f'Hello, {username}!'\n",
    "\n",
    "# Route that takes multiple dynamic parameters in the URL\n",
    "@app.route('/post/<int:post_id>')\n",
    "def show_post(post_id):\n",
    "    return f'Post ID: {post_id}'\n",
    "\n",
    "if __name__ == '__main__':\n",
    "    app.run(debug=True)"
   ]
  },
  {
   "cell_type": "markdown",
   "id": "42b4987c",
   "metadata": {},
   "source": [
    "### 4. Create a Flask app with a form that accepts user input and displays it."
   ]
  },
  {
   "cell_type": "code",
   "execution_count": null,
   "id": "e808c95c",
   "metadata": {},
   "outputs": [],
   "source": [
    "from flask import Flask, render_template, request, redirect, url_for\n",
    "\n",
    "app = Flask(__name__)\n",
    "\n",
    "# Default route with a form\n",
    "@app.route('/', methods=['GET', 'POST'])\n",
    "def index():\n",
    "    if request.method == 'POST':\n",
    "        # Accessing the form data submitted by the user\n",
    "        user_input = request.form['user_input']\n",
    "        # Redirecting to another route to display the submitted data\n",
    "        return redirect(url_for('display', input_data=user_input))\n",
    "    return render_template('index.html')\n",
    "\n",
    "# Route to display the submitted data\n",
    "@app.route('/display/<input_data>')\n",
    "def display(input_data):\n",
    "    return render_template('display.html', data=input_data)\n",
    "\n",
    "if __name__ == '__main__':\n",
    "    app.run(debug=True)"
   ]
  },
  {
   "cell_type": "markdown",
   "id": "cb950927",
   "metadata": {},
   "source": [
    "### 5. Implement user sessions in a Flask app to store and display user-specific data."
   ]
  },
  {
   "cell_type": "code",
   "execution_count": null,
   "id": "ab324631",
   "metadata": {},
   "outputs": [],
   "source": [
    "from flask import Flask, render_template, request, redirect, url_for, session\n",
    "\n",
    "app = Flask(__name__)\n",
    "# Set a secret key for sessions (you should ideally use a secret random value)\n",
    "app.secret_key = 'your_secret_key_here'\n",
    "\n",
    "# Route to set user-specific data in the session\n",
    "@app.route('/set_data', methods=['POST'])\n",
    "def set_data():\n",
    "    if request.method == 'POST':\n",
    "        # Get user data from the form\n",
    "        user_data = request.form['user_data']\n",
    "        # Store user data in the session\n",
    "        session['user_data'] = user_data\n",
    "        return redirect(url_for('get_data'))\n",
    "    return render_template('set_data.html')\n",
    "\n",
    "# Route to retrieve and display user-specific data from the session\n",
    "@app.route('/get_data')\n",
    "def get_data():\n",
    "    user_data = session.get('user_data')  # Retrieve user data from the session\n",
    "    return render_template('get_data.html', user_data=user_data)\n",
    "\n",
    "if __name__ == '__main__':\n",
    "    app.run(debug=True)\n"
   ]
  },
  {
   "cell_type": "markdown",
   "id": "5df46958",
   "metadata": {},
   "source": [
    "## Intermediate Flask Topics:"
   ]
  },
  {
   "cell_type": "markdown",
   "id": "f41fa883",
   "metadata": {},
   "source": [
    "### 6. Build a Flask app that allows users to upload files and display them on the website."
   ]
  },
  {
   "cell_type": "code",
   "execution_count": null,
   "id": "c90a3fe4",
   "metadata": {},
   "outputs": [],
   "source": [
    "import os\n",
    "from flask import Flask, render_template, request, redirect, url_for\n",
    "\n",
    "app = Flask(__name__)\n",
    "UPLOAD_FOLDER = 'uploads'\n",
    "app.config['UPLOAD_FOLDER'] = UPLOAD_FOLDER\n",
    "\n",
    "# Route to render the file upload form\n",
    "@app.route('/')\n",
    "def index():\n",
    "    return render_template('index.html')\n",
    "\n",
    "# Route to handle file upload and display uploaded files\n",
    "@app.route('/upload', methods=['POST'])\n",
    "def upload_file():\n",
    "    if request.method == 'POST':\n",
    "        # Check if the POST request has a file part\n",
    "        if 'file' not in request.files:\n",
    "            return redirect(request.url)\n",
    "\n",
    "        file = request.files['file']\n",
    "        # If the user does not select a file, the browser submits an empty file without a filename\n",
    "        if file.filename == '':\n",
    "            return redirect(request.url)\n",
    "\n",
    "        if file:\n",
    "            # Save the uploaded file to the UPLOAD_FOLDER\n",
    "            file.save(os.path.join(app.config['UPLOAD_FOLDER'], file.filename))\n",
    "            return redirect(url_for('uploaded_file', filename=file.filename))\n",
    "\n",
    "    return render_template('index.html')\n",
    "\n",
    "# Route to display the uploaded file\n",
    "@app.route('/uploads/<filename>')\n",
    "def uploaded_file(filename):\n",
    "    return render_template('uploaded_file.html', filename=filename)\n",
    "\n",
    "if __name__ == '__main__':\n",
    "    # Ensure the 'uploads' directory exists before running the app\n",
    "    if not os.path.exists(UPLOAD_FOLDER):\n",
    "        os.makedirs(UPLOAD_FOLDER)\n",
    "    app.run(debug=True)\n"
   ]
  },
  {
   "cell_type": "markdown",
   "id": "645ba966",
   "metadata": {},
   "source": [
    "### 7. Integrate a SQLite database with Flask to perform CRUD operations on a list of items."
   ]
  },
  {
   "cell_type": "code",
   "execution_count": null,
   "id": "d4f4c030",
   "metadata": {},
   "outputs": [],
   "source": [
    "from flask import Flask, render_template, request, redirect, url_for\n",
    "from flask_sqlalchemy import SQLAlchemy\n",
    "\n",
    "app = Flask(__name__)\n",
    "app.config['SQLALCHEMY_DATABASE_URI'] = 'sqlite:///items.db'\n",
    "app.config['SQLALCHEMY_TRACK_MODIFICATIONS'] = False\n",
    "db = SQLAlchemy(app)\n",
    "\n",
    "# Define a model for the items\n",
    "class Item(db.Model):\n",
    "    id = db.Column(db.Integer, primary_key=True)\n",
    "    name = db.Column(db.String(100), nullable=False)\n",
    "\n",
    "    def __repr__(self):\n",
    "        return f'<Item {self.id}>'\n",
    "\n",
    "# Create the SQLite database\n",
    "db.create_all()\n",
    "\n",
    "@app.route('/')\n",
    "def index():\n",
    "    # Fetch all items from the database\n",
    "    items = Item.query.all()\n",
    "    return render_template('index.html', items=items)\n",
    "\n",
    "# Route to add new items\n",
    "@app.route('/add', methods=['POST'])\n",
    "def add_item():\n",
    "    if request.method == 'POST':\n",
    "        name = request.form['name']\n",
    "        new_item = Item(name=name)\n",
    "        db.session.add(new_item)\n",
    "        db.session.commit()\n",
    "    return redirect(url_for('index'))\n",
    "\n",
    "# Route to delete items\n",
    "@app.route('/delete/<int:item_id>')\n",
    "def delete_item(item_id):\n",
    "    item = Item.query.get_or_404(item_id)\n",
    "    db.session.delete(item)\n",
    "    db.session.commit()\n",
    "    return redirect(url_for('index'))\n",
    "\n",
    "if __name__ == '__main__':\n",
    "    app.run(debug=True)"
   ]
  },
  {
   "cell_type": "raw",
   "id": "c9100b1e",
   "metadata": {},
   "source": [
    "Creating a templates folder and inside it, create an index.html file:"
   ]
  },
  {
   "cell_type": "raw",
   "id": "d484c0d3",
   "metadata": {},
   "source": [
    "<!DOCTYPE html>\n",
    "<html lang=\"en\">\n",
    "<head>\n",
    "    <meta charset=\"UTF-8\">\n",
    "    <title>Items List</title>\n",
    "</head>\n",
    "<body>\n",
    "    <h1>Items List</h1>\n",
    "    <form action=\"/add\" method=\"POST\">\n",
    "        <input type=\"text\" name=\"item_name\">\n",
    "        <button type=\"submit\">Add Item</button>\n",
    "    </form>\n",
    "    <ul>\n",
    "        {% for item in items %}\n",
    "            <li>\n",
    "                {{ item[1] }}\n",
    "                <a href=\"/delete/{{ item[0] }}\">Delete</a>\n",
    "            </li>\n",
    "        {% endfor %}\n",
    "    </ul>\n",
    "</body>\n",
    "</html>"
   ]
  },
  {
   "cell_type": "markdown",
   "id": "d3cbe375",
   "metadata": {},
   "source": [
    "### 8. Implement user authentication and registration in a Flask app using Flask-Login."
   ]
  },
  {
   "cell_type": "code",
   "execution_count": null,
   "id": "5f49d266",
   "metadata": {},
   "outputs": [],
   "source": [
    "from flask import Flask, render_template, request, redirect, url_for\n",
    "from flask_login import LoginManager, UserMixin, login_user, login_required, logout_user, current_user\n",
    "from flask_sqlalchemy import SQLAlchemy\n",
    "from werkzeug.security import generate_password_hash, check_password_hash\n",
    "\n",
    "app = Flask(__name__)\n",
    "app.secret_key = 'your_secret_key_here'\n",
    "app.config['SQLALCHEMY_DATABASE_URI'] = 'sqlite:///users.db'\n",
    "app.config['SQLALCHEMY_TRACK_MODIFICATIONS'] = False\n",
    "db = SQLAlchemy(app)\n",
    "login_manager = LoginManager()\n",
    "login_manager.init_app(app)\n",
    "\n",
    "# Define the User model for the database\n",
    "class User(UserMixin, db.Model):\n",
    "    id = db.Column(db.Integer, primary_key=True)\n",
    "    username = db.Column(db.String(100), unique=True, nullable=False)\n",
    "    password = db.Column(db.String(100), nullable=False)\n",
    "\n",
    "@login_manager.user_loader\n",
    "def load_user(user_id):\n",
    "    return User.query.get(int(user_id))\n",
    "\n",
    "# Create the SQLite database\n",
    "db.create_all()\n",
    "\n",
    "@app.route('/')\n",
    "@login_required\n",
    "def home():\n",
    "    return render_template('home.html')\n",
    "\n",
    "@app.route('/login', methods=['GET', 'POST'])\n",
    "def login():\n",
    "    if request.method == 'POST':\n",
    "        username = request.form['username']\n",
    "        password = request.form['password']\n",
    "        user = User.query.filter_by(username=username).first()\n",
    "        if user and check_password_hash(user.password, password):\n",
    "            login_user(user)\n",
    "            return redirect(url_for('home'))\n",
    "    return render_template('login.html')\n",
    "\n",
    "@app.route('/register', methods=['GET', 'POST'])\n",
    "def register():\n",
    "    if request.method == 'POST':\n",
    "        username = request.form['username']\n",
    "        password = request.form['password']\n",
    "        hashed_password = generate_password_hash(password)\n",
    "        new_user = User(username=username, password=hashed_password)\n",
    "        db.session.add(new_user)\n",
    "        db.session.commit()\n",
    "        return redirect(url_for('login'))\n",
    "    return render_template('register.html')\n",
    "\n",
    "@app.route('/logout')\n",
    "@login_required\n",
    "def logout():\n",
    "    logout_user()\n",
    "    return redirect(url_for('login'))\n",
    "\n",
    "if __name__ == '__main__':\n",
    "    app.run(debug=True)\n"
   ]
  },
  {
   "cell_type": "code",
   "execution_count": null,
   "id": "3b08cadd",
   "metadata": {},
   "outputs": [],
   "source": [
    "home.html:"
   ]
  },
  {
   "cell_type": "raw",
   "id": "90e26b2a",
   "metadata": {},
   "source": [
    "<!DOCTYPE html>\n",
    "<html lang=\"en\">\n",
    "<head>\n",
    "    <meta charset=\"UTF-8\">\n",
    "    <title>Home</title>\n",
    "</head>\n",
    "<body>\n",
    "    <h1>Welcome to the Home Page</h1>\n",
    "    <a href=\"{{ url_for('login') }}\">Login</a>\n",
    "</body>\n",
    "</html>"
   ]
  },
  {
   "cell_type": "code",
   "execution_count": null,
   "id": "42524b6c",
   "metadata": {},
   "outputs": [],
   "source": [
    "login.html:"
   ]
  },
  {
   "cell_type": "raw",
   "id": "bde2e85f",
   "metadata": {},
   "source": [
    "<!DOCTYPE html>\n",
    "<html lang=\"en\">\n",
    "<head>\n",
    "    <meta charset=\"UTF-8\">\n",
    "    <title>Login</title>\n",
    "</head>\n",
    "<body>\n",
    "    <h1>Login</h1>\n",
    "    {% with messages = get_flashed_messages(with_categories=true) %}\n",
    "        {% if messages %}\n",
    "            {% for category, message in messages %}\n",
    "                <div class=\"alert alert-{{ category }}\">{{ message }}</div>\n",
    "            {% endfor %}\n",
    "        {% endif %}\n",
    "    {% endwith %}\n",
    "    <form method=\"post\" action=\"/login\">\n",
    "        <label for=\"username\">Username:</label>\n",
    "        <input type=\"text\" id=\"username\" name=\"username\"><br><br>\n",
    "        <label for=\"password\">Password:</label>\n",
    "        <input type=\"password\" id=\"password\" name=\"password\"><br><br>\n",
    "        <input type=\"submit\" value=\"Login\">\n",
    "    </form>\n",
    "</body>\n",
    "</html>"
   ]
  },
  {
   "cell_type": "code",
   "execution_count": null,
   "id": "248c73f6",
   "metadata": {},
   "outputs": [],
   "source": [
    "register.html:"
   ]
  },
  {
   "cell_type": "raw",
   "id": "ef572766",
   "metadata": {},
   "source": [
    "<!DOCTYPE html>\n",
    "<html lang=\"en\">\n",
    "<head>\n",
    "    <meta charset=\"UTF-8\">\n",
    "    <title>Register</title>\n",
    "</head>\n",
    "<body>\n",
    "    <h2>Register</h2>\n",
    "    <form method=\"POST\" action=\"/register\">\n",
    "        <input type=\"text\" name=\"username\" placeholder=\"Username\" required>\n",
    "        <input type=\"password\" name=\"password\" placeholder=\"Password\" required>\n",
    "        <input type=\"submit\" value=\"Register\">\n",
    "    </form>\n",
    "</body>\n",
    "</html>"
   ]
  },
  {
   "cell_type": "markdown",
   "id": "650dcd5e",
   "metadata": {},
   "source": [
    "### 9. Create a RESTful API using Flask to perform CRUD operations on resources like books or movies."
   ]
  },
  {
   "cell_type": "code",
   "execution_count": null,
   "id": "feb5c7b5",
   "metadata": {},
   "outputs": [],
   "source": [
    "from flask import Flask, jsonify, request\n",
    "\n",
    "app = Flask(__name__)\n",
    "\n",
    "# Sample initial data for books\n",
    "books = [\n",
    "    {'id': 1, 'title': 'Book 1', 'author': 'Author 1'},\n",
    "    {'id': 2, 'title': 'Book 2', 'author': 'Author 2'},\n",
    "    {'id': 3, 'title': 'Book 3', 'author': 'Author 3'}\n",
    "]\n",
    "\n",
    "# Route to get all books\n",
    "@app.route('/books', methods=['GET'])\n",
    "def get_books():\n",
    "    return jsonify(books)\n",
    "\n",
    "# Route to get a specific book by its ID\n",
    "@app.route('/books/<int:book_id>', methods=['GET'])\n",
    "def get_book(book_id):\n",
    "    book = next((book for book in books if book['id'] == book_id), None)\n",
    "    if book:\n",
    "        return jsonify(book)\n",
    "    return jsonify({'message': 'Book not found'}), 404\n",
    "\n",
    "# Route to add a new book\n",
    "@app.route('/books', methods=['POST'])\n",
    "def add_book():\n",
    "    new_book = {\n",
    "        'id': len(books) + 1,\n",
    "        'title': request.json['title'],\n",
    "        'author': request.json['author']\n",
    "    }\n",
    "    books.append(new_book)\n",
    "    return jsonify(new_book), 201\n",
    "\n",
    "# Route to update a book by its ID\n",
    "@app.route('/books/<int:book_id>', methods=['PUT'])\n",
    "def update_book(book_id):\n",
    "    book = next((book for book in books if book['id'] == book_id), None)\n",
    "    if book:\n",
    "        book['title'] = request.json.get('title', book['title'])\n",
    "        book['author'] = request.json.get('author', book['author'])\n",
    "        return jsonify(book)\n",
    "    return jsonify({'message': 'Book not found'}), 404\n",
    "\n",
    "# Route to delete a book by its ID\n",
    "@app.route('/books/<int:book_id>', methods=['DELETE'])\n",
    "def delete_book(book_id):\n",
    "    global books\n",
    "    books = [book for book in books if book['id'] != book_id]\n",
    "    return jsonify({'message': 'Book deleted'})\n",
    "\n",
    "if __name__ == '__main__':\n",
    "    app.run(debug=True)\n"
   ]
  },
  {
   "cell_type": "markdown",
   "id": "0d98074f",
   "metadata": {},
   "source": [
    "### 10. Design a Flask app with proper error handling for 404 and 500 errors."
   ]
  },
  {
   "cell_type": "code",
   "execution_count": null,
   "id": "c3415236",
   "metadata": {},
   "outputs": [],
   "source": [
    "from flask import Flask, render_template\n",
    "\n",
    "app = Flask(__name__)\n",
    "\n",
    "# Custom error handler for 404 Not Found error\n",
    "@app.errorhandler(404)\n",
    "def not_found_error(error):\n",
    "    return render_template('error.html', error_code=404, error_message=\"Page not found\"), 404\n",
    "\n",
    "# Custom error handler for 500 Internal Server Error\n",
    "@app.errorhandler(500)\n",
    "def internal_error(error):\n",
    "    return render_template('error.html', error_code=500, error_message=\"Internal Server Error\"), 500\n",
    "\n",
    "# Route that intentionally raises a 500 error for testing purposes\n",
    "@app.route('/raise_error')\n",
    "def raise_error():\n",
    "    # Simulate an internal server error by dividing by zero (which will raise an exception)\n",
    "    result = 1 / 0\n",
    "    return result\n",
    "\n",
    "if __name__ == '__main__':\n",
    "    app.run(debug=True)\n"
   ]
  },
  {
   "cell_type": "code",
   "execution_count": null,
   "id": "7f7abcaf",
   "metadata": {},
   "outputs": [],
   "source": [
    "error.html:"
   ]
  },
  {
   "cell_type": "code",
   "execution_count": null,
   "id": "1d7b9d11",
   "metadata": {},
   "outputs": [],
   "source": [
    "<!DOCTYPE html>\n",
    "<html lang=\"en\">\n",
    "<head>\n",
    "    <meta charset=\"UTF-8\">\n",
    "    <title>Error</title>\n",
    "</head>\n",
    "<body>\n",
    "    <h1>Error {{ error_code }}</h1>\n",
    "    <p>{{ error_message }}</p>\n",
    "</body>\n",
    "</html>"
   ]
  },
  {
   "cell_type": "markdown",
   "id": "2703c3c2",
   "metadata": {},
   "source": [
    "## Real-time Development:"
   ]
  },
  {
   "cell_type": "markdown",
   "id": "134bdf57",
   "metadata": {},
   "source": [
    "### 11. Create a real-time chat application using Flask-SocketIO."
   ]
  },
  {
   "cell_type": "code",
   "execution_count": null,
   "id": "9fe86ff8",
   "metadata": {},
   "outputs": [],
   "source": [
    "from flask import Flask, render_template\n",
    "from flask_socketio import SocketIO\n",
    "\n",
    "app = Flask(__name__)\n",
    "app.config['SECRET_KEY'] = 'secret'\n",
    "socketio = SocketIO(app)\n",
    "\n",
    "@app.route('/')\n",
    "def index():\n",
    "    return render_template('index.html')\n",
    "\n",
    "@socketio.on('message')\n",
    "def handle_message(message):\n",
    "    print('Received message: ' + message)\n",
    "    socketio.emit('message', message)  # Broadcast the message to all connected clients\n",
    "\n",
    "if __name__ == '__main__':\n",
    "    socketio.run(app, debug=True)\n"
   ]
  },
  {
   "cell_type": "code",
   "execution_count": null,
   "id": "55078860",
   "metadata": {},
   "outputs": [],
   "source": [
    "Create an index.html file in a templates folder:\n",
    "index.html:"
   ]
  },
  {
   "cell_type": "code",
   "execution_count": null,
   "id": "8b73c627",
   "metadata": {},
   "outputs": [],
   "source": [
    "<!DOCTYPE html>\n",
    "<html lang=\"en\">\n",
    "<head>\n",
    "    <meta charset=\"UTF-8\">\n",
    "    <title>Chat Application</title>\n",
    "    <script src=\"https://cdnjs.cloudflare.com/ajax/libs/socket.io/4.3.2/socket.io.js\"></script>\n",
    "    <script type=\"text/javascript\" charset=\"utf-8\">\n",
    "        document.addEventListener('DOMContentLoaded', () => {\n",
    "            var socket = io.connect('http://' + document.domain + ':' + location.port);\n",
    "            socket.on('message', function(msg) {\n",
    "                var ul = document.getElementById('messages');\n",
    "                var li = document.createElement('li');\n",
    "                li.appendChild(document.createTextNode(msg));\n",
    "                ul.appendChild(li);\n",
    "            });\n",
    "\n",
    "            document.getElementById('send').onclick = function() {\n",
    "                socket.send(document.getElementById('message').value);\n",
    "                document.getElementById('message').value = '';\n",
    "            };\n",
    "        });\n",
    "    </script>\n",
    "</head>\n",
    "<body>\n",
    "    <ul id=\"messages\"></ul>\n",
    "    <input type=\"text\" id=\"message\">\n",
    "    <button id=\"send\">Send</button>\n",
    "</body>\n",
    "</html>"
   ]
  },
  {
   "cell_type": "markdown",
   "id": "80f3a2c1",
   "metadata": {},
   "source": [
    "### 12. Build a Flask app that updates data in real-time using WebSocket connections."
   ]
  },
  {
   "cell_type": "code",
   "execution_count": null,
   "id": "39ca9cef",
   "metadata": {},
   "outputs": [],
   "source": [
    "from flask import Flask, render_template\n",
    "from flask_socketio import SocketIO, emit\n",
    "import time\n",
    "import threading\n",
    "\n",
    "app = Flask(__name__)\n",
    "app.config['SECRET_KEY'] = 'secret'\n",
    "socketio = SocketIO(app)\n",
    "\n",
    "# Simulated data that will be updated\n",
    "data = {'value': 0}\n",
    "\n",
    "# Function to simulate data updates\n",
    "def update_data():\n",
    "    global data\n",
    "    while True:\n",
    "        data['value'] += 1\n",
    "        socketio.emit('update', data['value'])  # Broadcast updated data to all connected clients\n",
    "        time.sleep(1)\n",
    "\n",
    "@app.route('/')\n",
    "def index():\n",
    "    return render_template('index.html')\n",
    "\n",
    "@socketio.on('connect')\n",
    "def handle_connect():\n",
    "    emit('update', data['value'])  # Send initial data when a client connects\n",
    "\n",
    "if __name__ == '__main__':\n",
    "    # Start the background thread to update data\n",
    "    update_thread = threading.Thread(target=update_data)\n",
    "    update_thread.daemon = True\n",
    "    update_thread.start()\n",
    "\n",
    "    socketio.run(app, debug=True)"
   ]
  },
  {
   "cell_type": "raw",
   "id": "f5488869",
   "metadata": {},
   "source": [
    "Create an index.html file in a templates folder:\n",
    "index.html:"
   ]
  },
  {
   "cell_type": "code",
   "execution_count": null,
   "id": "1a31d681",
   "metadata": {},
   "outputs": [],
   "source": [
    "<!DOCTYPE html>\n",
    "<html lang=\"en\">\n",
    "<head>\n",
    "    <meta charset=\"UTF-8\">\n",
    "    <title>Real-Time Data Update</title>\n",
    "    <script src=\"https://cdnjs.cloudflare.com/ajax/libs/socket.io/4.3.2/socket.io.js\"></script>\n",
    "    <script type=\"text/javascript\" charset=\"utf-8\">\n",
    "        document.addEventListener('DOMContentLoaded', () => {\n",
    "            var socket = io.connect('http://' + document.domain + ':' + location.port);\n",
    "            socket.on('update', function(value) {\n",
    "                document.getElementById('data').innerText = value;\n",
    "            });\n",
    "        });\n",
    "    </script>\n",
    "</head>\n",
    "<body>\n",
    "    <h1>Real-Time Data Update</h1>\n",
    "    <p>Data Value: <span id=\"data\"></span></p>\n",
    "</body>\n",
    "</html>\n"
   ]
  },
  {
   "cell_type": "markdown",
   "id": "093b3664",
   "metadata": {},
   "source": [
    "### 13. Implement notifications in a Flask app using websockets to notify users of updates."
   ]
  },
  {
   "cell_type": "code",
   "execution_count": null,
   "id": "35460ca8",
   "metadata": {},
   "outputs": [],
   "source": [
    "from flask import Flask, render_template\n",
    "from flask_socketio import SocketIO, emit\n",
    "\n",
    "app = Flask(__name__)\n",
    "app.config['SECRET_KEY'] = 'secret'\n",
    "socketio = SocketIO(app)\n",
    "\n",
    "# Simulated notification updates\n",
    "notifications = []\n",
    "\n",
    "@app.route('/')\n",
    "def index():\n",
    "    return render_template('index.html')\n",
    "\n",
    "@socketio.on('connect')\n",
    "def handle_connect():\n",
    "    emit('initial_notifications', notifications)  # Send initial notifications when a client connects\n",
    "\n",
    "@app.route('/add_notification/<message>')\n",
    "def add_notification(message):\n",
    "    notifications.append(message)\n",
    "    socketio.emit('new_notification', message, broadcast=True)  # Send new notification to all connected clients\n",
    "    return f'Added notification: {message}'\n",
    "\n",
    "if __name__ == '__main__':\n",
    "    socketio.run(app, debug=True)\n"
   ]
  },
  {
   "cell_type": "code",
   "execution_count": null,
   "id": "1aeec739",
   "metadata": {},
   "outputs": [],
   "source": [
    "HTML Template:\n",
    "\n",
    "Create an index.html file in a templates folder:\n",
    "\n",
    "index.html:\n",
    "\n",
    "<!DOCTYPE html>\n",
    "<html lang=\"en\">\n",
    "<head>\n",
    "    <meta charset=\"UTF-8\">\n",
    "    <title>Real-Time Notifications</title>\n",
    "    <script src=\"https://cdnjs.cloudflare.com/ajax/libs/socket.io/4.3.2/socket.io.js\"></script>\n",
    "    <script type=\"text/javascript\" charset=\"utf-8\">\n",
    "        document.addEventListener('DOMContentLoaded', () => {\n",
    "            var socket = io.connect('http://' + document.domain + ':' + location.port);\n",
    "            socket.on('initial_notifications', function(notifications) {\n",
    "                for (var i = 0; i < notifications.length; i++) {\n",
    "                    displayNotification(notifications[i]);\n",
    "                }\n",
    "            });\n",
    "            socket.on('new_notification', function(message) {\n",
    "                displayNotification(message);\n",
    "            });\n",
    "\n",
    "            function displayNotification(message) {\n",
    "                var ul = document.getElementById('notifications');\n",
    "                var li = document.createElement('li');\n",
    "                li.appendChild(document.createTextNode(message));\n",
    "                ul.appendChild(li);\n",
    "            }\n",
    "        });\n",
    "    </script>\n",
    "</head>\n",
    "<body>\n",
    "    <h1>Real-Time Notifications</h1>\n",
    "    <ul id=\"notifications\"></ul>\n",
    "</body>\n",
    "</html>\n"
   ]
  }
 ],
 "metadata": {
  "kernelspec": {
   "display_name": "Python 3 (ipykernel)",
   "language": "python",
   "name": "python3"
  },
  "language_info": {
   "codemirror_mode": {
    "name": "ipython",
    "version": 3
   },
   "file_extension": ".py",
   "mimetype": "text/x-python",
   "name": "python",
   "nbconvert_exporter": "python",
   "pygments_lexer": "ipython3",
   "version": "3.10.5"
  }
 },
 "nbformat": 4,
 "nbformat_minor": 5
}
