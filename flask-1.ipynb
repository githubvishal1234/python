{
 "cells": [
  {
   "cell_type": "markdown",
   "id": "7806d9e3",
   "metadata": {},
   "source": [
    "## Basics of Flask:"
   ]
  },
  {
   "cell_type": "markdown",
   "id": "3df8c9d3",
   "metadata": {},
   "source": [
    "### 1. Create a Flask app that displays \"Hello, World!\" on the homepage."
   ]
  },
  {
   "cell_type": "code",
   "execution_count": null,
   "id": "a952f2b0",
   "metadata": {},
   "outputs": [
    {
     "name": "stdout",
     "output_type": "stream",
     "text": [
      " * Serving Flask app '__main__'\n",
      " * Debug mode: off\n"
     ]
    },
    {
     "name": "stderr",
     "output_type": "stream",
     "text": [
      "WARNING: This is a development server. Do not use it in a production deployment. Use a production WSGI server instead.\n",
      " * Running on all addresses (0.0.0.0)\n",
      " * Running on http://127.0.0.1:3200\n",
      " * Running on http://192.168.1.7:3200\n",
      "Press CTRL+C to quit\n"
     ]
    }
   ],
   "source": [
    "from flask import Flask\n",
    "\n",
    "app = Flask(__name__)\n",
    "\n",
    "@app.route('/')\n",
    "def hello_world():\n",
    "    return 'Hello, World!'\n",
    "\n",
    "if __name__ == '__main__':\n",
    "    app.run(host=\"0.0.0.0\",port=3200)"
   ]
  },
  {
   "cell_type": "markdown",
   "id": "c5faa625",
   "metadata": {},
   "source": [
    "### 2. Build a Flask app with static HTML pages and navigate between them."
   ]
  },
  {
   "cell_type": "code",
   "execution_count": null,
   "id": "e71b3f34",
   "metadata": {},
   "outputs": [],
   "source": [
    "static html pages"
   ]
  },
  {
   "cell_type": "markdown",
   "id": "fb9d6f76",
   "metadata": {},
   "source": [
    "home.html:"
   ]
  },
  {
   "cell_type": "raw",
   "id": "8f0ab0ff",
   "metadata": {},
   "source": [
    "<!DOCTYPE html>\n",
    "<html>\n",
    "<head>\n",
    "    <title>Home</title>\n",
    "    <link rel=\"stylesheet\" href=\"{{ url_for('static', filename='style.css') }}\">\n",
    "</head>\n",
    "<body>\n",
    "    <h1>Welcome to the Home Page</h1>\n",
    "    <p>This is the home page content.</p>\n",
    "    <a href=\"{{ url_for('about') }}\">Go to About Page</a>\n",
    "</body>\n",
    "</html>"
   ]
  },
  {
   "cell_type": "markdown",
   "id": "65d3137c",
   "metadata": {},
   "source": [
    "about.html:"
   ]
  },
  {
   "cell_type": "code",
   "execution_count": null,
   "id": "e7938518",
   "metadata": {},
   "outputs": [],
   "source": [
    "<!DOCTYPE html>\n",
    "<html>\n",
    "<head>\n",
    "    <title>About</title>\n",
    "    <link rel=\"stylesheet\" href=\"{{ url_for('static', filename='style.css') }}\">\n",
    "</head>\n",
    "<body>\n",
    "    <h1>About Us</h1>\n",
    "    <p>This is the about page content.</p>\n",
    "    <a href=\"{{ url_for('home') }}\">Go to Home Page</a>\n",
    "</body>\n",
    "</html>"
   ]
  },
  {
   "cell_type": "code",
   "execution_count": null,
   "id": "6b7107ee",
   "metadata": {},
   "outputs": [],
   "source": [
    "from flask import Flask, render_template\n",
    "\n",
    "app = Flask(__name__)\n",
    "\n",
    "@app.route('/')\n",
    "def home():\n",
    "    return render_template('home.html')\n",
    "\n",
    "@app.route('/')\n",
    "def about():\n",
    "    return render_template('about.html')\n",
    "\n",
    "if __name__ == '__main__':\n",
    "    app.run(host=\"0.0.0.0\",port=5264)"
   ]
  },
  {
   "cell_type": "markdown",
   "id": "4e9e43e5",
   "metadata": {},
   "source": [
    "### 3. Develop a Flask app that uses URL parameters to display dynamic content."
   ]
  },
  {
   "cell_type": "code",
   "execution_count": null,
   "id": "75e43afe",
   "metadata": {},
   "outputs": [],
   "source": [
    "from flask import Flask, render_template\n",
    "\n",
    "app = Flask(__name__)\n",
    "\n",
    "@app.route('/')\n",
    "def index():\n",
    "    return '<h1>Welcome to pwskills lab!</h1>'\n",
    "\n",
    "@app.route('/user/<username>')\n",
    "def greet_user(username):\n",
    "    return f'<h1>Hello, {username}!</h1>'\n",
    "\n",
    "if __name__ == '__main__':\n",
    "    app.run(debug=True)"
   ]
  },
  {
   "cell_type": "markdown",
   "id": "1d08730e",
   "metadata": {},
   "source": [
    "### 4. Create a Flask app with a form that accepts user input and displays it."
   ]
  },
  {
   "cell_type": "code",
   "execution_count": null,
   "id": "cdd4abe7",
   "metadata": {},
   "outputs": [],
   "source": [
    "from flask import Flask, render_template, request\n",
    "\n",
    "app = Flask(__name__)\n",
    "\n",
    "@app.route('/', methods=['GET', 'POST'])\n",
    "def index():\n",
    "    if request.method == 'POST':\n",
    "        user_input = request.form['user_input']\n",
    "        return render_template('result.html', user_input=user_input)\n",
    "    return render_template('form.html')\n",
    "\n",
    "if __name__ == '__main__':\n",
    "    app.run(debug=True)"
   ]
  },
  {
   "cell_type": "markdown",
   "id": "4da26691",
   "metadata": {},
   "source": [
    "### 5. Implement user sessions in a Flask app to store and display user-specific data."
   ]
  },
  {
   "cell_type": "code",
   "execution_count": null,
   "id": "8ed6c482",
   "metadata": {},
   "outputs": [],
   "source": [
    "from flask import Flask, render_template, request, session, redirect, url_for\n",
    "\n",
    "app = Flask(__name__)\n",
    "app.secret_key = 'your_secret_key_here'  # Change this to a secure secret key\n",
    "\n",
    "@app.route('/', methods=['GET', 'POST'])\n",
    "def index():\n",
    "    if request.method == 'POST':\n",
    "        user_input = request.form.get('user_input')\n",
    "        session['user_data'] = user_input\n",
    "        return redirect(url_for('display_data'))\n",
    "    return render_template('form.html')\n",
    "\n",
    "@app.route('/display_data')\n",
    "def display_data():\n",
    "    user_data = session.get('user_data')\n",
    "    return render_template('display.html', user_data=user_data)\n",
    "\n",
    "@app.route('/clear_session')\n",
    "def clear_session():\n",
    "    session.pop('user_data', None)\n",
    "    return redirect(url_for('index'))\n",
    "\n",
    "if __name__ == '__main__':\n",
    "    app.run(debug=True)"
   ]
  },
  {
   "cell_type": "markdown",
   "id": "340fdd9e",
   "metadata": {},
   "source": [
    "## Intermediate Flask Topics:"
   ]
  },
  {
   "cell_type": "markdown",
   "id": "01ae7b05",
   "metadata": {},
   "source": [
    "### 6. Build a Flask app that allows users to upload files and display them on the website."
   ]
  },
  {
   "cell_type": "code",
   "execution_count": null,
   "id": "65fa8dad",
   "metadata": {},
   "outputs": [],
   "source": [
    "from flask import Flask, render_template, request, redirect, url_for\n",
    "import os\n",
    "\n",
    "app = Flask(__name__)\n",
    "app.config['UPLOAD_FOLDER'] = 'uploads'\n",
    "\n",
    "ALLOWED_EXTENSIONS = {'txt', 'pdf', 'png', 'jpg', 'jpeg', 'gif'}\n",
    "\n",
    "def allowed_file(filename):\n",
    "    return '.' in filename and filename.rsplit('.', 1)[1].lower() in ALLOWED_EXTENSIONS\n",
    "\n",
    "@app.route('/')\n",
    "def index():\n",
    "    return render_template('upload.html')\n",
    "\n",
    "@app.route('/upload', methods=['POST'])\n",
    "def upload_file():\n",
    "    if 'file' not in request.files:\n",
    "        return redirect(request.url)\n",
    "\n",
    "    file = request.files['file']\n",
    "\n",
    "    if file.filename == '':\n",
    "        return redirect(request.url)\n",
    "\n",
    "    if file and allowed_file(file.filename):\n",
    "        filename = file.filename\n",
    "        file.save(os.path.join(app.config['UPLOAD_FOLDER'], filename))\n",
    "        return redirect(url_for('display_file', filename=filename))\n",
    "    else:\n",
    "        return \"Invalid file format! Allowed formats: txt, pdf, png, jpg, jpeg, gif\"\n",
    "\n",
    "@app.route('/display/<filename>')\n",
    "def display_file(filename):\n",
    "    return render_template('display.html', filename=filename)\n",
    "\n",
    "if __name__ == '__main__':\n",
    "    app.run(debug=True)"
   ]
  },
  {
   "cell_type": "markdown",
   "id": "5e2e939f",
   "metadata": {},
   "source": [
    "### 7. Integrate a SQLite database with Flask to perform CRUD operations on a list of items."
   ]
  },
  {
   "cell_type": "code",
   "execution_count": null,
   "id": "8c4d2213",
   "metadata": {},
   "outputs": [],
   "source": [
    "from flask import Flask, render_template, request, redirect, url_for\n",
    "import sqlite3\n",
    "\n",
    "app = Flask(__name__)\n",
    "\n",
    "# Function to create a connection to the SQLite database\n",
    "def create_connection():\n",
    "    conn = sqlite3.connect('items.db')\n",
    "    return conn\n",
    "\n",
    "# Function to create the table if it doesn't exist\n",
    "def create_table():\n",
    "    conn = create_connection()\n",
    "    cursor = conn.cursor()\n",
    "    cursor.execute('''\n",
    "        CREATE TABLE IF NOT EXISTS items (\n",
    "            id INTEGER PRIMARY KEY AUTOINCREMENT,\n",
    "            name TEXT NOT NULL\n",
    "        )\n",
    "    ''')\n",
    "    conn.commit()\n",
    "    conn.close()\n",
    "\n",
    "create_table()\n",
    "\n",
    "@app.route('/')\n",
    "def index():\n",
    "    conn = create_connection()\n",
    "    cursor = conn.cursor()\n",
    "    cursor.execute('SELECT * FROM items ORDER BY id')\n",
    "    items = cursor.fetchall()\n",
    "    conn.close()\n",
    "    return render_template('index.html', items=items)\n",
    "\n",
    "@app.route('/add', methods=['POST'])\n",
    "def add_item():\n",
    "    if request.method == 'POST':\n",
    "        item_name = request.form['item_name']\n",
    "        conn = create_connection()\n",
    "        cursor = conn.cursor()\n",
    "        cursor.execute('INSERT INTO items (name) VALUES (?)', (item_name,))\n",
    "        conn.commit()\n",
    "        conn.close()\n",
    "        return redirect(url_for('index'))\n",
    "\n",
    "@app.route('/delete/<int:item_id>')\n",
    "def delete_item(item_id):\n",
    "    conn = create_connection()\n",
    "    cursor = conn.cursor()\n",
    "    cursor.execute('DELETE FROM items WHERE id = ?', (item_id,))\n",
    "    conn.commit()\n",
    "    conn.close()\n",
    "    return redirect(url_for('index'))\n",
    "\n",
    "if __name__ == '__main__':\n",
    "    app.run(debug=True)"
   ]
  },
  {
   "cell_type": "raw",
   "id": "33a71faf",
   "metadata": {},
   "source": [
    "Creating a templates folder and inside it, create an index.html file:"
   ]
  },
  {
   "cell_type": "raw",
   "id": "41231fdc",
   "metadata": {},
   "source": [
    "<!DOCTYPE html>\n",
    "<html lang=\"en\">\n",
    "<head>\n",
    "    <meta charset=\"UTF-8\">\n",
    "    <title>Items List</title>\n",
    "</head>\n",
    "<body>\n",
    "    <h1>Items List</h1>\n",
    "    <form action=\"/add\" method=\"POST\">\n",
    "        <input type=\"text\" name=\"item_name\">\n",
    "        <button type=\"submit\">Add Item</button>\n",
    "    </form>\n",
    "    <ul>\n",
    "        {% for item in items %}\n",
    "            <li>\n",
    "                {{ item[1] }}\n",
    "                <a href=\"/delete/{{ item[0] }}\">Delete</a>\n",
    "            </li>\n",
    "        {% endfor %}\n",
    "    </ul>\n",
    "</body>\n",
    "</html>"
   ]
  },
  {
   "cell_type": "markdown",
   "id": "9179df16",
   "metadata": {},
   "source": [
    "### 8. Implement user authentication and registration in a Flask app using Flask-Login."
   ]
  },
  {
   "cell_type": "code",
   "execution_count": null,
   "id": "23f2fddb",
   "metadata": {},
   "outputs": [],
   "source": [
    "from flask import Flask, render_template, redirect, url_for, request, flash\n",
    "from flask_login import LoginManager, UserMixin, login_user, logout_user, login_required, current_user\n",
    "from werkzeug.security import generate_password_hash, check_password_hash\n",
    "\n",
    "app = Flask(__name__)\n",
    "app.secret_key = 'your_secret_key_here'  # Change this to a secure secret key\n",
    "\n",
    "# Flask-Login configuration\n",
    "login_manager = LoginManager()\n",
    "login_manager.init_app(app)\n",
    "\n",
    "# Mock user database (replace this with a database in a real application)\n",
    "class User(UserMixin):\n",
    "    def __init__(self, id, username, password):\n",
    "        self.id = id\n",
    "        self.username = username\n",
    "        self.password = password\n",
    "\n",
    "users = [\n",
    "    User(1, 'user1', generate_password_hash('password1')),\n",
    "    User(2, 'user2', generate_password_hash('password2'))\n",
    "]\n",
    "\n",
    "# Function to retrieve user by ID\n",
    "def get_user(user_id):\n",
    "    for user in users:\n",
    "        if user.id == int(user_id):\n",
    "            return user\n",
    "    return None\n",
    "\n",
    "@login_manager.user_loader\n",
    "def load_user(user_id):\n",
    "    return get_user(user_id)\n",
    "\n",
    "@app.route('/')\n",
    "def home():\n",
    "    return render_template('home.html')\n",
    "\n",
    "@app.route('/login', methods=['GET', 'POST'])\n",
    "def login():\n",
    "    if request.method == 'POST':\n",
    "        username = request.form['username']\n",
    "        password = request.form['password']\n",
    "\n",
    "        user = next((user for user in users if user.username == username), None)\n",
    "        if user and check_password_hash(user.password, password):\n",
    "            login_user(user)\n",
    "            return redirect(url_for('dashboard'))\n",
    "        else:\n",
    "            flash('Invalid username or password', 'error')\n",
    "    \n",
    "    return render_template('login.html')\n",
    "\n",
    "@app.route('/logout')\n",
    "@login_required\n",
    "def logout():\n",
    "    logout_user()\n",
    "    return redirect(url_for('home'))\n",
    "\n",
    "@app.route('/dashboard')\n",
    "@login_required\n",
    "def dashboard():\n",
    "    return render_template('dashboard.html', username=current_user.username)\n",
    "\n",
    "if __name__ == '__main__':\n",
    "    app.run(debug=True)\n"
   ]
  },
  {
   "cell_type": "code",
   "execution_count": null,
   "id": "a65b3f5c",
   "metadata": {},
   "outputs": [],
   "source": [
    "home.html:"
   ]
  },
  {
   "cell_type": "raw",
   "id": "3a193aaa",
   "metadata": {},
   "source": [
    "<!DOCTYPE html>\n",
    "<html lang=\"en\">\n",
    "<head>\n",
    "    <meta charset=\"UTF-8\">\n",
    "    <title>Home</title>\n",
    "</head>\n",
    "<body>\n",
    "    <h1>Welcome to the Home Page</h1>\n",
    "    <a href=\"{{ url_for('login') }}\">Login</a>\n",
    "</body>\n",
    "</html>"
   ]
  },
  {
   "cell_type": "code",
   "execution_count": null,
   "id": "cf2d809f",
   "metadata": {},
   "outputs": [],
   "source": [
    "login.html:"
   ]
  },
  {
   "cell_type": "raw",
   "id": "3d21ca56",
   "metadata": {},
   "source": [
    "<!DOCTYPE html>\n",
    "<html lang=\"en\">\n",
    "<head>\n",
    "    <meta charset=\"UTF-8\">\n",
    "    <title>Login</title>\n",
    "</head>\n",
    "<body>\n",
    "    <h1>Login</h1>\n",
    "    {% with messages = get_flashed_messages(with_categories=true) %}\n",
    "        {% if messages %}\n",
    "            {% for category, message in messages %}\n",
    "                <div class=\"alert alert-{{ category }}\">{{ message }}</div>\n",
    "            {% endfor %}\n",
    "        {% endif %}\n",
    "    {% endwith %}\n",
    "    <form method=\"post\" action=\"/login\">\n",
    "        <label for=\"username\">Username:</label>\n",
    "        <input type=\"text\" id=\"username\" name=\"username\"><br><br>\n",
    "        <label for=\"password\">Password:</label>\n",
    "        <input type=\"password\" id=\"password\" name=\"password\"><br><br>\n",
    "        <input type=\"submit\" value=\"Login\">\n",
    "    </form>\n",
    "</body>\n",
    "</html>"
   ]
  },
  {
   "cell_type": "code",
   "execution_count": null,
   "id": "c2c0ff6a",
   "metadata": {},
   "outputs": [],
   "source": [
    "dashboard.html:"
   ]
  },
  {
   "cell_type": "raw",
   "id": "466644cd",
   "metadata": {},
   "source": [
    "<!DOCTYPE html>\n",
    "<html lang=\"en\">\n",
    "<head>\n",
    "    <meta charset=\"UTF-8\">\n",
    "    <title>Dashboard</title>\n",
    "</head>\n",
    "<body>\n",
    "    <h1>Welcome, {{ username }}!</h1>\n",
    "    <a href=\"{{ url_for('logout') }}\">Logout</a>\n",
    "</body>\n",
    "</html>"
   ]
  },
  {
   "cell_type": "markdown",
   "id": "4bc3081d",
   "metadata": {},
   "source": [
    "### 9. Create a RESTful API using Flask to perform CRUD operations on resources like books or movies."
   ]
  },
  {
   "cell_type": "code",
   "execution_count": null,
   "id": "743644b0",
   "metadata": {},
   "outputs": [],
   "source": [
    "from flask import Flask, jsonify, request\n",
    "\n",
    "app = Flask(__name__)\n",
    "\n",
    "# Mock database for storing book data\n",
    "books = [\n",
    "    {'id': 1, 'title': 'Book 1', 'author': 'Author 1'},\n",
    "    {'id': 2, 'title': 'Book 2', 'author': 'Author 2'},\n",
    "    {'id': 3, 'title': 'Book 3', 'author': 'Author 3'}\n",
    "]\n",
    "\n",
    "# Route to get all books\n",
    "@app.route('/api/books', methods=['GET'])\n",
    "def get_books():\n",
    "    return jsonify({'books': books})\n",
    "\n",
    "# Route to get a specific book by ID\n",
    "@app.route('/api/books/<int:book_id>', methods=['GET'])\n",
    "def get_book(book_id):\n",
    "    book = next((book for book in books if book['id'] == book_id), None)\n",
    "    if book:\n",
    "        return jsonify({'book': book})\n",
    "    return jsonify({'message': 'Book not found'}), 404\n",
    "\n",
    "# Route to create a new book\n",
    "@app.route('/api/books', methods=['POST'])\n",
    "def create_book():\n",
    "    new_book = {\n",
    "        'id': len(books) + 1,\n",
    "        'title': request.json['title'],\n",
    "        'author': request.json['author']\n",
    "    }\n",
    "    books.append(new_book)\n",
    "    return jsonify({'message': 'Book created', 'book': new_book}), 201\n",
    "\n",
    "# Route to update a book by ID\n",
    "@app.route('/api/books/<int:book_id>', methods=['PUT'])\n",
    "def update_book(book_id):\n",
    "    book = next((book for book in books if book['id'] == book_id), None)\n",
    "    if book:\n",
    "        book['title'] = request.json.get('title', book['title'])\n",
    "        book['author'] = request.json.get('author', book['author'])\n",
    "        return jsonify({'message': 'Book updated', 'book': book})\n",
    "    return jsonify({'message': 'Book not found'}), 404\n",
    "\n",
    "# Route to delete a book by ID\n",
    "@app.route('/api/books/<int:book_id>', methods=['DELETE'])\n",
    "def delete_book(book_id):\n",
    "    global books\n",
    "    books = [book for book in books if book['id'] != book_id]\n",
    "    return jsonify({'message': 'Book deleted'})\n",
    "\n",
    "if __name__ == '__main__':\n",
    "    app.run(debug=True)"
   ]
  },
  {
   "cell_type": "markdown",
   "id": "415a1a85",
   "metadata": {},
   "source": [
    "### 10. Design a Flask app with proper error handling for 404 and 500 errors."
   ]
  },
  {
   "cell_type": "code",
   "execution_count": null,
   "id": "9564a146",
   "metadata": {},
   "outputs": [],
   "source": [
    "from flask import Flask, render_template\n",
    "\n",
    "app = Flask(__name__)\n",
    "\n",
    "# Route for handling 404 error (Not Found)\n",
    "@app.errorhandler(404)\n",
    "def not_found_error(error):\n",
    "    return render_template('404.html'), 404\n",
    "\n",
    "# Route for handling 500 error (Internal Server Error)\n",
    "@app.errorhandler(500)\n",
    "def internal_error(error):\n",
    "    return render_template('500.html'), 500\n",
    "\n",
    "# Route to deliberately raise a 500 error for testing\n",
    "@app.route('/simulate_error')\n",
    "def simulate_error():\n",
    "    raise Exception('Simulated Internal Server Error')\n",
    "\n",
    "# Default route\n",
    "@app.route('/')\n",
    "def index():\n",
    "    return render_template('index.html')\n",
    "\n",
    "if __name__ == '__main__':\n",
    "    app.run(debug=True)"
   ]
  },
  {
   "cell_type": "raw",
   "id": "19fdc00f",
   "metadata": {},
   "source": [
    "404.html:"
   ]
  },
  {
   "cell_type": "raw",
   "id": "c3030a8e",
   "metadata": {},
   "source": [
    "<!DOCTYPE html>\n",
    "<html lang=\"en\">\n",
    "<head>\n",
    "    <meta charset=\"UTF-8\">\n",
    "    <title>404 - Not Found</title>\n",
    "</head>\n",
    "<body>\n",
    "    <h1>404 - Not Found</h1>\n",
    "    <p>The page you're looking for does not exist.</p>\n",
    "</body>\n",
    "</html>"
   ]
  },
  {
   "cell_type": "raw",
   "id": "fa312843",
   "metadata": {},
   "source": [
    "500.html:"
   ]
  },
  {
   "cell_type": "raw",
   "id": "608124f6",
   "metadata": {},
   "source": [
    "<!DOCTYPE html>\n",
    "<html lang=\"en\">\n",
    "<head>\n",
    "    <meta charset=\"UTF-8\">\n",
    "    <title>500 - Internal Server Error</title>\n",
    "</head>\n",
    "<body>\n",
    "    <h1>500 - Internal Server Error</h1>\n",
    "    <p>Sorry, something went wrong on the server.</p>\n",
    "</body>\n",
    "</html>"
   ]
  },
  {
   "cell_type": "markdown",
   "id": "ef26c310",
   "metadata": {},
   "source": [
    "## Real-time Development:"
   ]
  },
  {
   "cell_type": "markdown",
   "id": "4b347114",
   "metadata": {},
   "source": [
    "### 11. Create a real-time chat application using Flask-SocketIO."
   ]
  },
  {
   "cell_type": "code",
   "execution_count": null,
   "id": "00265a1c",
   "metadata": {},
   "outputs": [],
   "source": [
    "from flask import Flask, render_template\n",
    "from flask_socketio import SocketIO, emit\n",
    "\n",
    "app = Flask(__name__)\n",
    "app.config['SECRET_KEY'] = 'your_secret_key_here'  # Change this to a secure secret key\n",
    "socketio = SocketIO(app)\n",
    "\n",
    "@app.route('/')\n",
    "def index():\n",
    "    return render_template('index.html')\n",
    "\n",
    "@socketio.on('message')\n",
    "def handle_message(data):\n",
    "    emit('message', data, broadcast=True)\n",
    "\n",
    "if __name__ == '__main__':\n",
    "    socketio.run(app, debug=True)\n"
   ]
  },
  {
   "cell_type": "code",
   "execution_count": null,
   "id": "a53e8141",
   "metadata": {},
   "outputs": [],
   "source": [
    "Create an index.html file in a templates folder:\n",
    "index.html:"
   ]
  },
  {
   "cell_type": "code",
   "execution_count": null,
   "id": "be9172a5",
   "metadata": {},
   "outputs": [],
   "source": [
    "<!DOCTYPE html>\n",
    "<html lang=\"en\">\n",
    "<head>\n",
    "    <meta charset=\"UTF-8\">\n",
    "    <title>Chat Application</title>\n",
    "    <script src=\"https://cdnjs.cloudflare.com/ajax/libs/socket.io/4.3.2/socket.io.js\"></script>\n",
    "    <script>\n",
    "        document.addEventListener('DOMContentLoaded', function() {\n",
    "            var socket = io.connect('http://' + document.domain + ':' + location.port);\n",
    "\n",
    "            socket.on('message', function(data) {\n",
    "                var div = document.createElement('div');\n",
    "                div.innerHTML = '<b>' + data.username + '</b>: ' + data.message;\n",
    "                document.getElementById('chat').appendChild(div);\n",
    "            });\n",
    "\n",
    "            document.getElementById('send_button').onclick = function() {\n",
    "                var message = document.getElementById('message').value;\n",
    "                var username = document.getElementById('username').value;\n",
    "                socket.emit('message', {'message': message, 'username': username});\n",
    "                document.getElementById('message').value = '';\n",
    "            };\n",
    "        });\n",
    "    </script>\n",
    "</head>\n",
    "<body>\n",
    "    <div id=\"chat\"></div>\n",
    "    <input type=\"text\" id=\"username\" placeholder=\"Enter your username\"><br>\n",
    "    <input type=\"text\" id=\"message\" placeholder=\"Type a message\">\n",
    "    <button id=\"send_button\">Send</button>\n",
    "</body>\n",
    "</html>"
   ]
  },
  {
   "cell_type": "markdown",
   "id": "b08522fb",
   "metadata": {},
   "source": [
    "### 12. Build a Flask app that updates data in real-time using WebSocket connections."
   ]
  },
  {
   "cell_type": "code",
   "execution_count": null,
   "id": "1af3fd79",
   "metadata": {},
   "outputs": [],
   "source": [
    "from flask import Flask, render_template\n",
    "from flask_socketio import SocketIO, emit\n",
    "import random\n",
    "import time\n",
    "\n",
    "app = Flask(__name__)\n",
    "app.config['SECRET_KEY'] = 'your_secret_key_here'  # Change this to a secure secret key\n",
    "socketio = SocketIO(app)\n",
    "\n",
    "@app.route('/')\n",
    "def index():\n",
    "    return render_template('index.html')\n",
    "\n",
    "@socketio.on('connect')\n",
    "def handle_connect():\n",
    "    print('Client connected')\n",
    "    # Simulate sending data updates every 2 seconds\n",
    "    while True:\n",
    "        random_number = random.randint(1, 100)\n",
    "        emit('update_data', {'data': random_number}, broadcast=True)\n",
    "        time.sleep(2)\n",
    "\n",
    "if __name__ == '__main__':\n",
    "    socketio.run(app, debug=True)\n"
   ]
  },
  {
   "cell_type": "raw",
   "id": "c4cbcaca",
   "metadata": {},
   "source": [
    "Create an index.html file in a templates folder:\n",
    "index.html:"
   ]
  },
  {
   "cell_type": "code",
   "execution_count": null,
   "id": "da61358f",
   "metadata": {},
   "outputs": [],
   "source": [
    "<!DOCTYPE html>\n",
    "<html lang=\"en\">\n",
    "<head>\n",
    "    <meta charset=\"UTF-8\">\n",
    "    <title>Real-time Data Update</title>\n",
    "    <script src=\"https://cdnjs.cloudflare.com/ajax/libs/socket.io/4.3.2/socket.io.js\"></script>\n",
    "    <script>\n",
    "        document.addEventListener('DOMContentLoaded', function() {\n",
    "            var socket = io.connect('http://' + document.domain + ':' + location.port);\n",
    "\n",
    "            socket.on('update_data', function(data) {\n",
    "                document.getElementById('data').innerText = data.data;\n",
    "            });\n",
    "        });\n",
    "    </script>\n",
    "</head>\n",
    "<body>\n",
    "    <h1>Real-time Data: <span id=\"data\">Waiting for data...</span></h1>\n",
    "</body>\n",
    "</html>"
   ]
  },
  {
   "cell_type": "markdown",
   "id": "035a24d5",
   "metadata": {},
   "source": [
    "### 13. Implement notifications in a Flask app using websockets to notify users of updates."
   ]
  },
  {
   "cell_type": "code",
   "execution_count": null,
   "id": "7b13781b",
   "metadata": {},
   "outputs": [],
   "source": [
    "from flask import Flask, render_template\n",
    "from flask_socketio import SocketIO, emit\n",
    "\n",
    "app = Flask(__name__)\n",
    "app.config['SECRET_KEY'] = 'your_secret_key_here'  # Change this to a secure secret key\n",
    "socketio = SocketIO(app)\n",
    "\n",
    "@app.route('/')\n",
    "def index():\n",
    "    return render_template('index.html')\n",
    "\n",
    "@socketio.on('connect')\n",
    "def handle_connect():\n",
    "    print('Client connected')\n",
    "\n",
    "# Route to trigger notifications (simulated updates)\n",
    "@app.route('/trigger_notification')\n",
    "def trigger_notification():\n",
    "    emit('notification', {'message': 'New update!'}, broadcast=True)\n",
    "    return 'Notification sent'\n",
    "\n",
    "if __name__ == '__main__':\n",
    "    socketio.run(app, debug=True)\n"
   ]
  },
  {
   "cell_type": "code",
   "execution_count": null,
   "id": "cfb20782",
   "metadata": {},
   "outputs": [],
   "source": [
    "HTML Template:\n",
    "\n",
    "Create an index.html file in a templates folder:\n",
    "\n",
    "index.html:\n",
    "\n",
    "html\n",
    "Copy code\n",
    "<!DOCTYPE html>\n",
    "<html lang=\"en\">\n",
    "<head>\n",
    "    <meta charset=\"UTF-8\">\n",
    "    <title>Notifications</title>\n",
    "    <script src=\"https://cdnjs.cloudflare.com/ajax/libs/socket.io/4.3.2/socket.io.js\"></script>\n",
    "    <script>\n",
    "        document.addEventListener('DOMContentLoaded', function() {\n",
    "            var socket = io.connect('http://' + document.domain + ':' + location.port);\n",
    "\n",
    "            socket.on('notification', function(data) {\n",
    "                alert(data.message);\n",
    "            });\n",
    "        });\n",
    "    </script>\n",
    "</head>\n",
    "<body>\n",
    "    <h1>Real-time Notifications</h1>\n",
    "    <button onclick=\"triggerNotification()\">Trigger Notification</button>\n",
    "    \n",
    "    <script>\n",
    "        function triggerNotification() {\n",
    "            fetch('/trigger_notification')\n",
    "                .then(response => response.text())\n",
    "                .then(data => console.log(data))\n",
    "                .catch(error => console.error('Error:', error));\n",
    "        }\n",
    "    </script>\n",
    "</body>\n",
    "</html>"
   ]
  },
  {
   "cell_type": "code",
   "execution_count": null,
   "id": "86b75777",
   "metadata": {},
   "outputs": [],
   "source": []
  }
 ],
 "metadata": {
  "kernelspec": {
   "display_name": "Python 3 (ipykernel)",
   "language": "python",
   "name": "python3"
  },
  "language_info": {
   "codemirror_mode": {
    "name": "ipython",
    "version": 3
   },
   "file_extension": ".py",
   "mimetype": "text/x-python",
   "name": "python",
   "nbconvert_exporter": "python",
   "pygments_lexer": "ipython3",
   "version": "3.10.5"
  }
 },
 "nbformat": 4,
 "nbformat_minor": 5
}
