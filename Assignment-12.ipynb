{
 "cells": [
  {
   "cell_type": "markdown",
   "id": "481029c0",
   "metadata": {},
   "source": [
    "Problem 1: Reverse a singly linked list."
   ]
  },
  {
   "cell_type": "code",
   "execution_count": 1,
   "id": "411be7f8",
   "metadata": {},
   "outputs": [
    {
     "name": "stdout",
     "output_type": "stream",
     "text": [
      "Original linked list:\n",
      "1 -> 2 -> 3 -> 4 -> 5 -> \n",
      "Reversed linked list:\n",
      "5 -> 4 -> 3 -> 2 -> 1 -> \n"
     ]
    }
   ],
   "source": [
    "class Node:\n",
    "    def __init__(self, data=None, next=None):\n",
    "        self.data = data\n",
    "        self.next = next\n",
    "\n",
    "    def setData(self, data):\n",
    "        self.data = data\n",
    "\n",
    "    def getData(self):\n",
    "        return self.data\n",
    "\n",
    "    def setNext(self, next):\n",
    "        self.next = next\n",
    "\n",
    "    def getNext(self):\n",
    "        return self.next\n",
    "\n",
    "def traverse(head):\n",
    "    temp = head\n",
    "    while temp:\n",
    "        print(temp.getData(), end=\" -> \")\n",
    "        temp = temp.getNext()\n",
    "    print()\n",
    "\n",
    "def length(head):\n",
    "    temp = head\n",
    "    len1 = 0\n",
    "    while temp:\n",
    "        temp = temp.getNext()\n",
    "        len1 += 1\n",
    "    return len1\n",
    "\n",
    "def reverse_linked_list(head):\n",
    "    prev = None\n",
    "    current = head\n",
    "\n",
    "    while current is not None:\n",
    "        next_node = current.getNext()\n",
    "        current.setNext(prev)\n",
    "        prev = current\n",
    "        current = next_node\n",
    "\n",
    "    head = prev\n",
    "    return head\n",
    "\n",
    "\n",
    "# Create a linked list: 1 -> 2 -> 3 -> 4 -> 5\n",
    "\n",
    "head=Node(1)\n",
    "node2=Node(2)\n",
    "node3=Node(3)\n",
    "node4=Node(4)\n",
    "node5=Node(5)\n",
    "\n",
    "head.setNext(node2)\n",
    "node2.setNext(node3)\n",
    "node3.setNext(node4)\n",
    "node4.setNext(node5)\n",
    "\n",
    "\n",
    "print(\"Original linked list:\")\n",
    "traverse(head)\n",
    "\n",
    "head = reverse_linked_list(head)\n",
    "\n",
    "print(\"Reversed linked list:\")\n",
    "traverse(head)\n"
   ]
  },
  {
   "cell_type": "markdown",
   "id": "7f023cd2",
   "metadata": {},
   "source": [
    "Problem 2: Merge two sorted linked lists into one sorted linked list."
   ]
  },
  {
   "cell_type": "code",
   "execution_count": 2,
   "id": "57b339d1",
   "metadata": {},
   "outputs": [
    {
     "name": "stdout",
     "output_type": "stream",
     "text": [
      "list 1:\n",
      "1 -> 3 -> 5 -> \n",
      "list 2:\n",
      "2 -> 4 -> 6 -> \n",
      "Merged sorted list is:\n",
      "1 -> 2 -> 3 -> 4 -> 5 -> 6 -> \n"
     ]
    }
   ],
   "source": [
    "class Node:\n",
    "    def __init__(self, data=None, next=None):\n",
    "        self.data = data\n",
    "        self.next = next\n",
    "\n",
    "    def setData(self, data):\n",
    "        self.data = data\n",
    "\n",
    "    def getData(self):\n",
    "        return self.data\n",
    "\n",
    "    def setNext(self, next):\n",
    "        self.next = next\n",
    "\n",
    "    def getNext(self):\n",
    "        return self.next\n",
    "\n",
    "def traverse(head):\n",
    "    temp = head\n",
    "    while temp:\n",
    "        print(temp.getData(), end=\" -> \")\n",
    "        temp = temp.getNext()\n",
    "    print()\n",
    "\n",
    "def merge_sorted_lists(list1, list2):\n",
    "    dummy_head = Node()  # Create a dummy head for the merged list\n",
    "    current = dummy_head\n",
    "\n",
    "    while list1 is not None and list2 is not None:\n",
    "        if list1.getData() < list2.getData():\n",
    "            current.setNext(list1)\n",
    "            list1 = list1.getNext()\n",
    "        else:\n",
    "            current.setNext(list2)\n",
    "            list2 = list2.getNext()\n",
    "\n",
    "        current = current.getNext()\n",
    "\n",
    "    # If one of the lists is not empty, append the remaining elements\n",
    "    if list1 is not None:\n",
    "        current.setNext(list1)\n",
    "    elif list2 is not None:\n",
    "        current.setNext(list2)\n",
    "\n",
    "    return dummy_head.getNext()  # Return the merged list, excluding the dummy head\n",
    "\n",
    "\n",
    "# Create two sorted linked lists: 1 -> 3 -> 5 and 2 -> 4 -> 6\n",
    "list1 = Node(1)\n",
    "node3=Node(3)\n",
    "node5=Node(5)\n",
    "\n",
    "list1.setNext(node3)\n",
    "node3.setNext(node5)\n",
    "\n",
    "\n",
    "# list2 = Node(2, Node(4, Node(6)))\n",
    "list2 = Node(2)\n",
    "node4=Node(4)\n",
    "node6=Node(6)\n",
    "\n",
    "list2.setNext(node4)\n",
    "node4.setNext(node6)\n",
    "\n",
    "\n",
    "\n",
    "print(\"list 1:\")\n",
    "traverse(list1)\n",
    "print(\"list 2:\")\n",
    "traverse(list2)\n",
    "\n",
    "merged_list = merge_sorted_lists(list1, list2)\n",
    "\n",
    "print(\"Merged sorted list is:\")\n",
    "traverse(merged_list)\n"
   ]
  },
  {
   "cell_type": "markdown",
   "id": "9338cd1d",
   "metadata": {},
   "source": [
    "Problem 3: Remove the nth node from the end of a linked list."
   ]
  },
  {
   "cell_type": "code",
   "execution_count": 3,
   "id": "3b9e4685",
   "metadata": {},
   "outputs": [
    {
     "name": "stdout",
     "output_type": "stream",
     "text": [
      "Original linked list:\n",
      "1 -> 2 -> 3 -> 4 -> 5 -> \n",
      "Linked list after removing the 2th node from the end:\n",
      "1 -> 2 -> 3 -> 5 -> \n"
     ]
    }
   ],
   "source": [
    "class Node:\n",
    "    def __init__(self, data=None, next=None):\n",
    "        self.data = data\n",
    "        self.next = next\n",
    "\n",
    "    def setData(self, data):\n",
    "        self.data = data\n",
    "\n",
    "    def getData(self):\n",
    "        return self.data\n",
    "\n",
    "    def setNext(self, next):\n",
    "        self.next = next\n",
    "\n",
    "    def getNext(self):\n",
    "        return self.next\n",
    "\n",
    "def traverse(head):\n",
    "    temp = head\n",
    "    while temp:\n",
    "        print(temp.getData(), end=\" -> \")\n",
    "        temp = temp.getNext()\n",
    "    print()\n",
    "\n",
    "def remove_nth_from_end(head, n):\n",
    "    dummy_head = Node(0)  # Create a dummy head to handle edge cases\n",
    "    dummy_head.setNext(head)\n",
    "    first = dummy_head\n",
    "    second = dummy_head\n",
    "\n",
    "    # Move the first pointer ahead by n + 1 nodes\n",
    "    for _ in range(n + 1):\n",
    "        first = first.getNext()\n",
    "\n",
    "    # Move both pointers until the first pointer reaches the end\n",
    "    while first is not None:\n",
    "        first = first.getNext()\n",
    "        second = second.getNext()\n",
    "\n",
    "    # Remove the nth node from the end\n",
    "    second.setNext(second.getNext().getNext())\n",
    "\n",
    "    return dummy_head.getNext()  \n",
    "\n",
    "\n",
    "# Create a linked list: 1 -> 2 -> 3 -> 4 -> 5\n",
    "head=Node(1)\n",
    "node2=Node(2)\n",
    "node3=Node(3)\n",
    "node4=Node(4)\n",
    "node5=Node(5)\n",
    "\n",
    "head.setNext(node2)\n",
    "node2.setNext(node3)\n",
    "node3.setNext(node4)\n",
    "node4.setNext(node5)\n",
    "print(\"Original linked list:\")\n",
    "traverse(head)\n",
    "\n",
    "n = 2  # Remove the 2nd node from the end\n",
    "head = remove_nth_from_end(head, n)\n",
    "\n",
    "print(f\"Linked list after removing the {n}th node from the end:\")\n",
    "traverse(head)\n"
   ]
  },
  {
   "cell_type": "markdown",
   "id": "4c36139f",
   "metadata": {},
   "source": [
    "Problem 4: Find the intersection point of two linked lists."
   ]
  },
  {
   "cell_type": "code",
   "execution_count": 4,
   "id": "315d22e8",
   "metadata": {},
   "outputs": [
    {
     "name": "stdout",
     "output_type": "stream",
     "text": [
      "Intersection point at value: 3\n"
     ]
    }
   ],
   "source": [
    "class ListNode:\n",
    "    def __init__(self, value=0, next=None):\n",
    "        self.value = value\n",
    "        self.next = next\n",
    "\n",
    "def find_intersection(headA, headB):\n",
    "    # Function to get the length of a linked list\n",
    "    def get_length(head):\n",
    "        length = 0\n",
    "        while head:\n",
    "            length += 1\n",
    "            head = head.next\n",
    "        return length\n",
    "    \n",
    "    # Get lengths of both linked lists\n",
    "    lengthA = get_length(headA)\n",
    "    lengthB = get_length(headB)\n",
    "    \n",
    "    # Traverse the longer list by the difference in lengths\n",
    "    while lengthA > lengthB:\n",
    "        headA = headA.next\n",
    "        lengthA -= 1\n",
    "    while lengthB > lengthA:\n",
    "        headB = headB.next\n",
    "        lengthB -= 1\n",
    "    \n",
    "    # Traverse both lists simultaneously until we find the intersection point\n",
    "    while headA != headB:\n",
    "        headA = headA.next\n",
    "        headB = headB.next\n",
    "    \n",
    "    # Return the intersection node or None if no intersection\n",
    "    return headA\n",
    "\n",
    "# Create linked lists\n",
    "# List 1: 1 -> 2 -> 3 -> 4\n",
    "headA = ListNode(1)\n",
    "headA.next = ListNode(2)\n",
    "headA.next.next = ListNode(3)\n",
    "headA.next.next.next = ListNode(4)\n",
    "\n",
    "# List 2: 9 -> 8 -> 3 -> 4\n",
    "headB = ListNode(9)\n",
    "headB.next = ListNode(8)\n",
    "headB.next.next = headA.next.next\n",
    "\n",
    "\n",
    "intersection = find_intersection(headA, headB)\n",
    "\n",
    "if intersection:\n",
    "    print(\"Intersection point at value:\", intersection.value)\n",
    "else:\n",
    "    print(\"No intersection point found.\")"
   ]
  },
  {
   "cell_type": "markdown",
   "id": "aa40738d",
   "metadata": {},
   "source": [
    "Problem 5: Remove duplicates from a sorted linked list."
   ]
  },
  {
   "cell_type": "code",
   "execution_count": 5,
   "id": "3b2e3970",
   "metadata": {},
   "outputs": [
    {
     "name": "stdout",
     "output_type": "stream",
     "text": [
      "Original linked list:\n",
      "1 -> 1 -> 2 -> 3 -> 3 -> 3 -> 4 -> None\n",
      "Linked list after removing duplicates:\n",
      "1 -> 2 -> 3 -> 4 -> None\n"
     ]
    }
   ],
   "source": [
    "class ListNode:\n",
    "    def __init__(self, value=0, next=None):\n",
    "        self.value = value\n",
    "        self.next = next\n",
    "\n",
    "def remove_duplicates(head):\n",
    "    current = head\n",
    "    \n",
    "    while current and current.next:\n",
    "        if current.value == current.next.value:\n",
    "            current.next = current.next.next\n",
    "        else:\n",
    "            current = current.next\n",
    "    \n",
    "    return head\n",
    "\n",
    "def traverse(head):\n",
    "    temp = head\n",
    "    while temp:\n",
    "        print(temp.value, end=\" -> \")\n",
    "        temp = temp.next\n",
    "    print(\"None\")\n",
    "\n",
    "\n",
    "# Create a sorted linked list: 1 -> 1 -> 2 -> 3 -> 3 -> 3 -> 4\n",
    "head = ListNode(1)\n",
    "head.next = ListNode(1)\n",
    "head.next.next = ListNode(2)\n",
    "head.next.next.next = ListNode(3)\n",
    "head.next.next.next.next = ListNode(3)\n",
    "head.next.next.next.next.next = ListNode(3)\n",
    "head.next.next.next.next.next.next = ListNode(4)\n",
    "\n",
    "\n",
    "\n",
    "print(\"Original linked list:\")\n",
    "traverse(head)\n",
    "\n",
    "head = remove_duplicates(head)\n",
    "\n",
    "print(\"Linked list after removing duplicates:\")\n",
    "traverse(head)\n"
   ]
  },
  {
   "cell_type": "markdown",
   "id": "b6e4640a",
   "metadata": {},
   "source": [
    "Problem 6: Add two numbers represented by linked lists (where each node contains a single digit)."
   ]
  },
  {
   "cell_type": "code",
   "execution_count": 6,
   "id": "e8738d96",
   "metadata": {},
   "outputs": [
    {
     "name": "stdout",
     "output_type": "stream",
     "text": [
      "Number 1:\n",
      "2 -> 4 -> 3 -> None\n",
      "Number 2:\n",
      "5 -> 6 -> 4 -> None\n",
      "Sum:\n",
      "7 -> 0 -> 8 -> None\n"
     ]
    }
   ],
   "source": [
    "class ListNode:\n",
    "    def __init__(self, value=0, next=None):\n",
    "        self.value = value\n",
    "        self.next = next\n",
    "\n",
    "def add_two_numbers(l1, l2):\n",
    "    dummy_head=ListNode()\n",
    "    current=dummy_head\n",
    "    carry=0\n",
    "    \n",
    "    while l1 or l2 or carry:\n",
    "        # Get values from nodes or assume 0 if node is None\n",
    "        val1=l1.value if l1 else 0\n",
    "        val2=l2.value if l2 else 0\n",
    "        \n",
    "        # Calculate sum and carry\n",
    "        total=val1 + val2 + carry\n",
    "        carry=total//10\n",
    "        current.next=ListNode(total % 10)\n",
    "        \n",
    "        # Move to next nodes\n",
    "        current=current.next\n",
    "        if l1:\n",
    "            l1=l1.next\n",
    "        if l2:\n",
    "            l2=l2.next\n",
    "    \n",
    "    return dummy_head.next\n",
    "\n",
    "def traverse(head):\n",
    "    temp=head\n",
    "    while temp:\n",
    "        print(temp.value, end=\" -> \")\n",
    "        temp=temp.next\n",
    "    print(\"None\")\n",
    "\n",
    "\n",
    "# Create linked list representing number 342: 2 -> 4 -> 3\n",
    "l1=ListNode(2)\n",
    "l1.next=ListNode(4)\n",
    "l1.next.next= ListNode(3)\n",
    "\n",
    "# Create linked list representing number 465: 5 -> 6 -> 4\n",
    "l2=ListNode(5)\n",
    "l2.next=ListNode(6)\n",
    "l2.next.next=ListNode(4)\n",
    "\n",
    "print(\"Number 1:\")\n",
    "traverse(l1)\n",
    "print(\"Number 2:\")\n",
    "traverse(l2)\n",
    "\n",
    "result=add_two_numbers(l1, l2)\n",
    "print(\"Sum:\")\n",
    "traverse(result)\n"
   ]
  },
  {
   "cell_type": "markdown",
   "id": "2b23a123",
   "metadata": {},
   "source": [
    "Problem 7: Swap nodes in pairs in a linked list."
   ]
  },
  {
   "cell_type": "code",
   "execution_count": 7,
   "id": "a9ed8d12",
   "metadata": {},
   "outputs": [
    {
     "name": "stdout",
     "output_type": "stream",
     "text": [
      "Original linked list:\n",
      "1 -> 2 -> 3 -> 4 -> 5 -> None\n",
      "Linked list after swapping pairs:\n",
      "2 -> 1 -> 4 -> 3 -> 5 -> None\n"
     ]
    }
   ],
   "source": [
    "class ListNode:\n",
    "    def __init__(self, value=0, next=None):\n",
    "        self.value=value\n",
    "        self.next=next\n",
    "\n",
    "def swap_pairs(head):\n",
    "    dummy=ListNode(0)\n",
    "    dummy.next=head\n",
    "    prev=dummy\n",
    "    \n",
    "    while prev.next and prev.next.next:\n",
    "        # Nodes to be swapped\n",
    "        node1=prev.next\n",
    "        node2=prev.next.next\n",
    "        \n",
    "        # Swap nodes\n",
    "        prev.next=node2\n",
    "        node1.next=node2.next\n",
    "        node2.next=node1\n",
    "        \n",
    "        # Move to next pair\n",
    "        prev=node1\n",
    "    \n",
    "    return dummy.next\n",
    "\n",
    "def traverse(head):\n",
    "    temp=head\n",
    "    while temp:\n",
    "        print(temp.value, end=\" -> \")\n",
    "        temp=temp.next\n",
    "    print(\"None\")\n",
    "\n",
    "\n",
    "# Create a linked list: 1 -> 2 -> 3 -> 4 -> 5\n",
    "head=ListNode(1)\n",
    "head.next=ListNode(2)\n",
    "head.next.next=ListNode(3)\n",
    "head.next.next.next=ListNode(4)\n",
    "head.next.next.next.next=ListNode(5)\n",
    "\n",
    "print(\"Original linked list:\")\n",
    "traverse(head)\n",
    "\n",
    "head = swap_pairs(head)\n",
    "\n",
    "print(\"Linked list after swapping pairs:\")\n",
    "traverse(head)\n"
   ]
  },
  {
   "cell_type": "markdown",
   "id": "701631db",
   "metadata": {},
   "source": [
    "Problem 8: Reverse nodes in a linked list in groups of k."
   ]
  },
  {
   "cell_type": "code",
   "execution_count": 8,
   "id": "b7f3c3d6",
   "metadata": {},
   "outputs": [
    {
     "name": "stdout",
     "output_type": "stream",
     "text": [
      "Original linked list:\n",
      "1 -> 2 -> 3 -> 4 -> 5 -> None\n",
      "Linked list after reversing in groups of 3:\n",
      "3 -> 2 -> 1 -> 4 -> 5 -> None\n"
     ]
    }
   ],
   "source": [
    "class ListNode:\n",
    "    def __init__(self, value=0, next=None):\n",
    "        self.value = value\n",
    "        self.next = next\n",
    "\n",
    "def reverse_k_group(head, k):\n",
    "    # Function to reverse a sublist of size k\n",
    "    def reverse_sublist(head, k):\n",
    "        prev=None\n",
    "        current=head\n",
    "        for _ in range(k):\n",
    "            next_node=current.next\n",
    "            current.next=prev\n",
    "            prev=current\n",
    "            current=next_node\n",
    "        return prev, head\n",
    "    \n",
    "    dummy = ListNode(0)\n",
    "    dummy.next = head\n",
    "    prev_group_end = dummy\n",
    "    \n",
    "    while True:\n",
    "        # Find the start and end of the current group\n",
    "        group_start = prev_group_end.next\n",
    "        group_end = group_start\n",
    "        for _ in range(k - 1):\n",
    "            if group_end:\n",
    "                group_end = group_end.next\n",
    "            else:\n",
    "                break\n",
    "        \n",
    "        # If group_end is None, it means there are fewer than k nodes remaining\n",
    "        if not group_end:\n",
    "            break\n",
    "        \n",
    "        # Store the next group's start node before reversing the current group\n",
    "        next_group_start = group_end.next\n",
    "        \n",
    "        # Reverse the current group\n",
    "        group_end.next = None  # Disconnect the current group\n",
    "        reversed_head, reversed_tail = reverse_sublist(group_start, k)\n",
    "        \n",
    "        # Connect the reversed group back to the list\n",
    "        prev_group_end.next = reversed_head\n",
    "        reversed_tail.next = next_group_start\n",
    "        \n",
    "        # Update prev_group_end for the next iteration\n",
    "        prev_group_end = reversed_tail\n",
    "    \n",
    "    return dummy.next\n",
    "\n",
    "def traverse(head):\n",
    "    temp = head\n",
    "    while temp:\n",
    "        print(temp.value, end=\" -> \")\n",
    "        temp = temp.next\n",
    "    print(\"None\")\n",
    "\n",
    "\n",
    "# Create a linked list: 1 -> 2 -> 3 -> 4 -> 5\n",
    "head = ListNode(1)\n",
    "current = head\n",
    "for i in range(2, 6):\n",
    "    current.next = ListNode(i)\n",
    "    current = current.next\n",
    "\n",
    "print(\"Original linked list:\")\n",
    "traverse(head)\n",
    "\n",
    "k=3\n",
    "head = reverse_k_group(head,k)\n",
    "\n",
    "print(f\"Linked list after reversing in groups of {k}:\")\n",
    "traverse(head)\n"
   ]
  },
  {
   "cell_type": "markdown",
   "id": "a0893821",
   "metadata": {},
   "source": [
    "Problem 9: Determine if a linked list is a palindrome."
   ]
  },
  {
   "cell_type": "code",
   "execution_count": 9,
   "id": "84f755e8",
   "metadata": {},
   "outputs": [
    {
     "name": "stdout",
     "output_type": "stream",
     "text": [
      "Is the linked list a palindrome? True\n"
     ]
    }
   ],
   "source": [
    "class ListNode:\n",
    "    def __init__(self, value=0, next=None):\n",
    "        self.value = value\n",
    "        self.next = next\n",
    "def is_palindrome(head):\n",
    "    values = []\n",
    "    current = head\n",
    "    while current:\n",
    "        values.append(current.value)\n",
    "        current = current.next\n",
    "    \n",
    "    left, right = 0, len(values) - 1\n",
    "    while left < right:\n",
    "        if values[left] != values[right]:\n",
    "            return False\n",
    "        left+=1\n",
    "        right-=1\n",
    "    return True\n",
    "\n",
    "head = ListNode(1)\n",
    "head.next = ListNode(2)\n",
    "head.next.next = ListNode(3)\n",
    "head.next.next.next = ListNode(2)\n",
    "head.next.next.next.next = ListNode(1)\n",
    "\n",
    "print(\"Is the linked list a palindrome?\", is_palindrome(head))\n"
   ]
  },
  {
   "cell_type": "markdown",
   "id": "26801821",
   "metadata": {},
   "source": [
    "Problem 10: Rotate a linked list to the right by k places."
   ]
  },
  {
   "cell_type": "code",
   "execution_count": 10,
   "id": "b25b72cd",
   "metadata": {},
   "outputs": [
    {
     "name": "stdout",
     "output_type": "stream",
     "text": [
      "Original linked list:\n",
      "1 -> 2 -> 3 -> 4 -> 5 -> None\n",
      "Linked list after rotating right by 2 places:\n",
      "4 -> 5 -> 1 -> 2 -> 3 -> None\n"
     ]
    }
   ],
   "source": [
    "class ListNode:\n",
    "    def __init__(self, value=0, next=None):\n",
    "        self.value = value\n",
    "        self.next = next\n",
    "\n",
    "def rotate_right(head, k):\n",
    "    # Return head if head is None or k is 0\n",
    "    if not head or k == 0:\n",
    "        return head\n",
    "    \n",
    "    # Find the length of the linked list\n",
    "    length = 1\n",
    "    current = head\n",
    "    while current.next:\n",
    "        length += 1\n",
    "        current = current.next\n",
    "    \n",
    "    # Calculate effective rotation (k mod length)\n",
    "    k = k % length\n",
    "    \n",
    "    # Return head if k is 0 after mod operation\n",
    "    if k == 0:\n",
    "        return head\n",
    "    \n",
    "    # Find the (length - k)th node\n",
    "    fast = slow = head\n",
    "    for _ in range(k):\n",
    "        fast = fast.next\n",
    "    \n",
    "    while fast.next:\n",
    "        slow = slow.next\n",
    "        fast = fast.next\n",
    "    \n",
    "    # Perform rotation\n",
    "    new_head = slow.next\n",
    "    slow.next = None\n",
    "    fast.next = head\n",
    "    \n",
    "    return new_head\n",
    "\n",
    "def traverse(head):\n",
    "    temp = head\n",
    "    while temp:\n",
    "        print(temp.value, end=\" -> \")\n",
    "        temp = temp.next\n",
    "    print(\"None\")\n",
    "\n",
    "# Create a linked list: 1 -> 2 -> 3 -> 4 -> 5\n",
    "head = ListNode(1)\n",
    "current = head\n",
    "for i in range(2, 6):\n",
    "    current.next = ListNode(i)\n",
    "    current = current.next\n",
    "\n",
    "print(\"Original linked list:\")\n",
    "traverse(head)\n",
    "\n",
    "k=2\n",
    "rotated_head = rotate_right(head,k)\n",
    "print(f\"Linked list after rotating right by {k} places:\")\n",
    "traverse(rotated_head)"
   ]
  },
  {
   "cell_type": "markdown",
   "id": "1ab7ae00",
   "metadata": {},
   "source": [
    "Problem 11: Flatten a multilevel doubly linked list."
   ]
  },
  {
   "cell_type": "code",
   "execution_count": 11,
   "id": "f2ddb6e3",
   "metadata": {},
   "outputs": [
    {
     "name": "stdout",
     "output_type": "stream",
     "text": [
      "Original linked list:\n",
      "1 <-> 2 <-> 3 <-> 7 <-> 8 <-> 11 <-> 12 <-> None\n",
      "Flattened linked list:\n",
      "1 <-> 2 <-> 3 <-> 7 <-> 4 <-> 5 <-> 6 <-> 13 <-> 9 <-> 10 <-> 8 <-> 11 <-> 12 <-> None\n"
     ]
    }
   ],
   "source": [
    "class Node:\n",
    "    def __init__(self, value=0, prev=None, next=None, child=None):\n",
    "        self.value = value\n",
    "        self.prev = prev\n",
    "        self.next = next\n",
    "        self.child = child\n",
    "\n",
    "def flatten_linked_list(head):\n",
    "    current = head\n",
    "\n",
    "    while current:\n",
    "        if current.child:\n",
    "            next_node = current.next\n",
    "            child_tail = current.child\n",
    "\n",
    "            while child_tail.next:\n",
    "                child_tail = child_tail.next\n",
    "\n",
    "            current.next = current.child\n",
    "            current.child.prev = current\n",
    "            current.child = None\n",
    "\n",
    "            child_tail.next = next_node\n",
    "\n",
    "            if next_node:\n",
    "                next_node.prev = child_tail\n",
    "\n",
    "        current = current.next\n",
    "\n",
    "    return head\n",
    "\n",
    "def traverse_linked_list(head):\n",
    "    current = head\n",
    "    while current:\n",
    "        print(current.value, end=\" <-> \")\n",
    "        current = current.next\n",
    "    print(\"None\")\n",
    "\n",
    "\n",
    "head=Node(1)\n",
    "head.next=Node(2)\n",
    "head.next.prev=head\n",
    "head.next.next=Node(3)\n",
    "head.next.next.prev=head.next\n",
    "head.next.next.next=Node(7)\n",
    "head.next.next.next.prev=head.next.next\n",
    "\n",
    "head.next.next.next.next=Node(8)\n",
    "head.next.next.next.next.prev=head.next.next.next\n",
    "head.next.next.next.next.next=Node(11)\n",
    "head.next.next.next.next.next.prev=head.next.next.next.next\n",
    "\n",
    "head.next.next.next.next.next.next=Node(12)\n",
    "head.next.next.next.next.next.next.prev=head.next.next.next.next.next\n",
    "\n",
    "head.next.next.next.child=Node(4)\n",
    "head.next.next.next.child.prev=head.next.next.next\n",
    "head.next.next.next.child.next=Node(5)\n",
    "head.next.next.next.child.next.prev=head.next.next.next.child\n",
    "head.next.next.next.child.next.next=Node(9)\n",
    "head.next.next.next.child.next.next.prev=head.next.next.next.child.next\n",
    "head.next.next.next.child.next.next.next=Node(10)\n",
    "head.next.next.next.child.next.next.next.prev=head.next.next.next.child.next.next\n",
    "\n",
    "head.next.next.next.child.next.child=Node(6)\n",
    "head.next.next.next.child.next.child.prev=head.next.next.next.child.next\n",
    "\n",
    "head.next.next.next.child.next.child.next=Node(13)\n",
    "head.next.next.next.child.next.child.next.prev=head.next.next.next.child.next.child\n",
    "\n",
    "print(\"Original linked list:\")\n",
    "traverse_linked_list(head)\n",
    "\n",
    "head = flatten_linked_list(head)\n",
    "\n",
    "print(\"Flattened linked list:\")\n",
    "traverse_linked_list(head)\n"
   ]
  },
  {
   "cell_type": "markdown",
   "id": "7ae17a42",
   "metadata": {},
   "source": [
    "Problem 12: Rearrange a linked list such that all even positioned nodes are placed at the end."
   ]
  },
  {
   "cell_type": "code",
   "execution_count": 12,
   "id": "39f9d3b0",
   "metadata": {},
   "outputs": [
    {
     "name": "stdout",
     "output_type": "stream",
     "text": [
      "Original linked list:\n",
      "1 -> 2 -> 3 -> 4 -> 5 -> 6 -> None\n",
      "Rearranged linked list:\n",
      "1 -> 3 -> 5 -> 2 -> 4 -> 6 -> None\n"
     ]
    }
   ],
   "source": [
    "class ListNode:\n",
    "    def __init__(self, value=0, next=None):\n",
    "        self.value = value\n",
    "        self.next = next\n",
    "\n",
    "def rearrange_linked_list(head):\n",
    "    if not head or not head.next:\n",
    "        return head\n",
    "    \n",
    "    odd_head=ListNode()  # Head of the list containing odd positioned nodes\n",
    "    even_head=ListNode()  # Head of the list containing even positioned nodes\n",
    "\n",
    "    odd_current=odd_head\n",
    "    even_current=even_head\n",
    "    current=head\n",
    "    count=1  # Position counter\n",
    "\n",
    "    while current:\n",
    "        if count%2 == 1:  # Odd position\n",
    "            odd_current.next = current\n",
    "            odd_current = odd_current.next\n",
    "        else:  # Even position\n",
    "            even_current.next = current\n",
    "            even_current = even_current.next\n",
    "\n",
    "        count += 1\n",
    "        current = current.next\n",
    "\n",
    "    # Connect the odd and even positioned lists\n",
    "    odd_current.next = even_head.next\n",
    "    even_current.next = None  # Terminate the list of even positioned nodes\n",
    "\n",
    "    return odd_head.next\n",
    "\n",
    "def traverse_linked_list(head):\n",
    "    current = head\n",
    "    while current:\n",
    "        print(current.value, end=\" -> \")\n",
    "        current = current.next\n",
    "    print(\"None\")\n",
    "\n",
    "\n",
    "# Create a linked list: 1 -> 2 -> 3 -> 4 -> 5 -> 6\n",
    "head = ListNode(1)\n",
    "current = head\n",
    "for i in range(2, 7):\n",
    "    current.next = ListNode(i)\n",
    "    current = current.next\n",
    "\n",
    "print(\"Original linked list:\")\n",
    "traverse_linked_list(head)\n",
    "\n",
    "head = rearrange_linked_list(head)\n",
    "\n",
    "print(\"Rearranged linked list:\")\n",
    "traverse_linked_list(head)"
   ]
  },
  {
   "cell_type": "markdown",
   "id": "4ad3e77f",
   "metadata": {},
   "source": [
    "Problem 13: Given a non-negative number represented as a linked list, add one to it."
   ]
  },
  {
   "cell_type": "code",
   "execution_count": 13,
   "id": "cb01cc9e",
   "metadata": {},
   "outputs": [
    {
     "name": "stdout",
     "output_type": "stream",
     "text": [
      "Original linked list:\n",
      "1 -> 2 -> 3 -> None\n",
      "Linked list after adding one:\n",
      "1 -> 2 -> 4 -> None\n"
     ]
    }
   ],
   "source": [
    "class ListNode:\n",
    "    def __init__(self, value=0, next=None):\n",
    "        self.value = value\n",
    "        self.next = next\n",
    "\n",
    "def add_one_to_linked_list(head):\n",
    "    # Function to reverse a linked list\n",
    "    def reverse_linked_list(head):\n",
    "        prev = None\n",
    "        current = head\n",
    "\n",
    "        while current:\n",
    "            next_node = current.next\n",
    "            current.next = prev\n",
    "            prev = current\n",
    "            current = next_node\n",
    "\n",
    "        return prev\n",
    "\n",
    "    # Reverse the linked list\n",
    "    reversed_head = reverse_linked_list(head)\n",
    "    current = reversed_head\n",
    "    carry = 1  # Initialize carry to 1 to add one to the least significant digit\n",
    "\n",
    "    while current:\n",
    "        total = current.value + carry\n",
    "        current.value = total % 10  # Update the value of the current node\n",
    "        carry = total // 10  # Update the carry\n",
    "        if carry == 0:  # If carry becomes zero, no need to continue adding\n",
    "            break\n",
    "        current = current.next\n",
    "\n",
    "    # Reverse the list again to get the final result\n",
    "    result_head = reverse_linked_list(reversed_head)\n",
    "\n",
    "    # If carry is still 1, create a new node with value 1\n",
    "    if carry:\n",
    "        new_head = ListNode(1)\n",
    "        new_head.next = result_head\n",
    "        result_head = new_head\n",
    "\n",
    "    return result_head\n",
    "\n",
    "def traverse_linked_list(head):\n",
    "    current = head\n",
    "    while current:\n",
    "        print(current.value, end=\" -> \")\n",
    "        current = current.next\n",
    "    print(\"None\")\n",
    "\n",
    "\n",
    "# Create a linked list representing number 123: 1 -> 2 -> 3\n",
    "head = ListNode(1)\n",
    "head.next = ListNode(2)\n",
    "head.next.next = ListNode(3)\n",
    "\n",
    "print(\"Original linked list:\")\n",
    "traverse_linked_list(head)\n",
    "\n",
    "head = add_one_to_linked_list(head)\n",
    "\n",
    "print(\"Linked list after adding one:\")\n",
    "traverse_linked_list(head)\n"
   ]
  },
  {
   "cell_type": "markdown",
   "id": "0c8793bd",
   "metadata": {},
   "source": [
    "Problem 14: Given a sorted array and a target value, return the index if the target is found. If not, return the\n",
    "index where it would be inserted."
   ]
  },
  {
   "cell_type": "code",
   "execution_count": 14,
   "id": "13fc4a65",
   "metadata": {},
   "outputs": [
    {
     "name": "stdout",
     "output_type": "stream",
     "text": [
      "Target found at index: 2\n"
     ]
    }
   ],
   "source": [
    "def search_insert_position(nums, target):\n",
    "    left, right = 0, len(nums) - 1\n",
    "\n",
    "    while left <= right:\n",
    "        mid = (left + right) // 2\n",
    "\n",
    "        if nums[mid] == target:\n",
    "            return mid\n",
    "        elif nums[mid] < target:\n",
    "            left = mid + 1\n",
    "        else:\n",
    "            right = mid - 1\n",
    "\n",
    "    return left  # If target is not found, return the insertion position\n",
    "\n",
    "\n",
    "nums = [1, 3, 5, 6]\n",
    "target = 5\n",
    "print(\"Target found at index:\", search_insert_position(nums, target))  # Output: 2\n",
    "\n",
    "\n"
   ]
  },
  {
   "cell_type": "markdown",
   "id": "5c8190b6",
   "metadata": {},
   "source": [
    "Problem 15: Find the minimum element in a rotated sorted array."
   ]
  },
  {
   "cell_type": "code",
   "execution_count": 15,
   "id": "cbb099c8",
   "metadata": {},
   "outputs": [
    {
     "name": "stdout",
     "output_type": "stream",
     "text": [
      "Minimum element in the rotated sorted array: 0\n"
     ]
    }
   ],
   "source": [
    "def find_min_in_rotated_sorted_array(nums):\n",
    "    left, right = 0, len(nums) - 1\n",
    "\n",
    "    while left < right:\n",
    "        mid = left + (right - left) // 2\n",
    "\n",
    "        if nums[mid] > nums[right]:  # Minimum element is on the right side\n",
    "            left = mid + 1\n",
    "        else:  # Minimum element is on the left side or is equal to mid\n",
    "            right = mid\n",
    "\n",
    "    return nums[left]\n",
    "\n",
    "\n",
    "nums = [4, 5, 6, 7, 0, 1, 2]\n",
    "print(\"Minimum element in the rotated sorted array:\", find_min_in_rotated_sorted_array(nums))  # Output: 0\n"
   ]
  },
  {
   "cell_type": "markdown",
   "id": "00e77001",
   "metadata": {},
   "source": [
    "Problem 16: Search for a target value in a rotated sorted array."
   ]
  },
  {
   "cell_type": "code",
   "execution_count": 16,
   "id": "09f6161c",
   "metadata": {},
   "outputs": [
    {
     "name": "stdout",
     "output_type": "stream",
     "text": [
      "Index of the target value in the rotated sorted array: 4\n"
     ]
    }
   ],
   "source": [
    "def search_in_rotated_sorted_array(nums, target):\n",
    "    left, right = 0, len(nums) - 1\n",
    "\n",
    "    while left <= right:\n",
    "        mid = left + (right - left) // 2\n",
    "\n",
    "        if nums[mid] == target:\n",
    "            return mid\n",
    "\n",
    "        if nums[left] <= nums[mid]:  # Left half is sorted\n",
    "            if nums[left] <= target < nums[mid]:\n",
    "                right = mid - 1\n",
    "            else:\n",
    "                left = mid + 1\n",
    "        else:  # Right half is sorted\n",
    "            if nums[mid] < target <= nums[right]:\n",
    "                left = mid + 1\n",
    "            else:\n",
    "                right = mid - 1\n",
    "\n",
    "    return -1  # Target not found\n",
    "\n",
    "\n",
    "nums = [4, 5, 6, 7, 0, 1, 2]\n",
    "target = 0\n",
    "print(\"Index of the target value in the rotated sorted array:\", search_in_rotated_sorted_array(nums, target))  # Output: 4"
   ]
  },
  {
   "cell_type": "markdown",
   "id": "c99c416a",
   "metadata": {},
   "source": [
    "Problem 17: Find the peak element in an array. A peak element is greater than its neighbors."
   ]
  },
  {
   "cell_type": "code",
   "execution_count": 17,
   "id": "d71a82ea",
   "metadata": {},
   "outputs": [
    {
     "name": "stdout",
     "output_type": "stream",
     "text": [
      "Peak element: 2\n"
     ]
    }
   ],
   "source": [
    "def find_peak_element(nums):\n",
    "    left, right = 0, len(nums) - 1\n",
    "\n",
    "    while left < right:\n",
    "        mid = left + (right - left) // 2\n",
    "\n",
    "        if nums[mid] < nums[mid + 1]:  # Peak element is on the right side\n",
    "            left = mid + 1\n",
    "        else:  # Peak element is on the left side or is equal to mid\n",
    "            right = mid\n",
    "\n",
    "    return left  # left or right can be returned as they are equal\n",
    "\n",
    "\n",
    "nums = [1, 2, 3, 1]\n",
    "print(\"Peak element:\", find_peak_element(nums))  # Output: 2 (index of element 3)"
   ]
  },
  {
   "cell_type": "markdown",
   "id": "14d47bb4",
   "metadata": {},
   "source": [
    "Problem 18: Given a m x n matrix where each row and column is sorted in ascending order, count the number\n",
    "of negative numbers."
   ]
  },
  {
   "cell_type": "code",
   "execution_count": 18,
   "id": "98a9feaa",
   "metadata": {},
   "outputs": [
    {
     "name": "stdout",
     "output_type": "stream",
     "text": [
      "Number of negative numbers in the matrix: 4\n"
     ]
    }
   ],
   "source": [
    "def count_negative_numbers(matrix):\n",
    "    count = 0\n",
    "    rows, cols = len(matrix), len(matrix[0])\n",
    "    row, col = 0, cols - 1\n",
    "\n",
    "    while row < rows and col >= 0:\n",
    "        if matrix[row][col] < 0:\n",
    "            count += col + 1\n",
    "            row += 1\n",
    "        else:\n",
    "            col -= 1\n",
    "\n",
    "    return count\n",
    "\n",
    "\n",
    "matrix = [\n",
    "    [-3, -2, -1, 1],\n",
    "    [-2,  2,  3, 4],\n",
    "    [4,   5,  7, 8]\n",
    "]\n",
    "\n",
    "print(\"Number of negative numbers in the matrix:\", count_negative_numbers(matrix))\n"
   ]
  },
  {
   "cell_type": "markdown",
   "id": "3b661fc9",
   "metadata": {},
   "source": [
    "Problem 19: Given a 2D matrix sorted in ascending order in each row, and the first integer of each row is\n",
    "greater than the last integer of the previous row, determine if a target value is present in the matrix."
   ]
  },
  {
   "cell_type": "code",
   "execution_count": 19,
   "id": "95f02415",
   "metadata": {},
   "outputs": [
    {
     "name": "stdout",
     "output_type": "stream",
     "text": [
      "Target 3 found in matrix: True\n"
     ]
    }
   ],
   "source": [
    "def search_in_sorted_matrix(matrix, target):\n",
    "    if not matrix or not matrix[0]:\n",
    "        return False\n",
    "    \n",
    "    rows, cols = len(matrix), len(matrix[0])\n",
    "    row, col = 0, cols - 1  # Start from the top-right corner\n",
    "\n",
    "    while row < rows and col >= 0:\n",
    "        if matrix[row][col] == target:\n",
    "            return True\n",
    "        elif matrix[row][col] < target:\n",
    "            row += 1  # Move down if the current element is less than the target\n",
    "        else:\n",
    "            col -= 1  # Move left if the current element is greater than the target\n",
    "\n",
    "    return False\n",
    "\n",
    "matrix=[\n",
    "    [1, 3, 5, 7],\n",
    "    [10, 11, 16, 20],\n",
    "    [23, 30, 34, 60]\n",
    "]\n",
    "target = 3\n",
    "print(\"Target\", target, \"found in matrix:\", search_in_sorted_matrix(matrix, target))\n"
   ]
  },
  {
   "cell_type": "markdown",
   "id": "7dcd7e02",
   "metadata": {},
   "source": [
    "Problem 20: Find Median in Two Sorted Arrays\n",
    "Problem: Given two sorted arrays, find the median of the combined sorted array."
   ]
  },
  {
   "cell_type": "code",
   "execution_count": 20,
   "id": "59a50c08",
   "metadata": {},
   "outputs": [
    {
     "name": "stdout",
     "output_type": "stream",
     "text": [
      "Median: 2\n"
     ]
    }
   ],
   "source": [
    "def findMedianSortedArrays(nums1, nums2):\n",
    "    merged = []\n",
    "    i = j = 0\n",
    "    n1, n2 = len(nums1), len(nums2)\n",
    "\n",
    "    while i < n1 and j < n2:\n",
    "        if nums1[i] <= nums2[j]:\n",
    "            merged.append(nums1[i])\n",
    "            i += 1\n",
    "        else:\n",
    "            merged.append(nums2[j])\n",
    "            j += 1\n",
    "\n",
    "    # Add remaining elements from nums1, if any\n",
    "    while i < n1:\n",
    "        merged.append(nums1[i])\n",
    "        i += 1\n",
    "\n",
    "    # Add remaining elements from nums2, if any\n",
    "    while j < n2:\n",
    "        merged.append(nums2[j])\n",
    "        j += 1\n",
    "\n",
    "    # Find median\n",
    "    total_length = len(merged)\n",
    "    if total_length % 2 == 0:\n",
    "        median_index = total_length // 2\n",
    "        median = (merged[median_index - 1] + merged[median_index]) / 2\n",
    "    else:\n",
    "        median_index = total_length // 2\n",
    "        median = merged[median_index]\n",
    "\n",
    "    return median\n",
    "\n",
    "\n",
    "nums1 = [1, 3]\n",
    "nums2 = [2]\n",
    "print(\"Median:\", findMedianSortedArrays(nums1, nums2))\n"
   ]
  },
  {
   "cell_type": "markdown",
   "id": "a97564b5",
   "metadata": {},
   "source": [
    "Problem 21: Given a sorted character array and a target letter, find the smallest letter in the array that is\n",
    "greater than the target."
   ]
  },
  {
   "cell_type": "code",
   "execution_count": 21,
   "id": "3077cb00",
   "metadata": {},
   "outputs": [
    {
     "name": "stdout",
     "output_type": "stream",
     "text": [
      "Next greatest letter after a : c\n"
     ]
    }
   ],
   "source": [
    "def next_greatest_letter(letters, target):\n",
    "    left, right = 0, len(letters) - 1\n",
    "    \n",
    "    while left <= right:\n",
    "        mid = left + (right - left) // 2\n",
    "        \n",
    "        if letters[mid] <= target:\n",
    "            left = mid + 1\n",
    "        else:\n",
    "            right = mid - 1\n",
    "    \n",
    "    return letters[left % len(letters)]\n",
    "\n",
    "letters = ['c', 'f', 'j']\n",
    "target = 'a'\n",
    "print(\"Next greatest letter after\", target, \":\", next_greatest_letter(letters, target))\n"
   ]
  },
  {
   "cell_type": "markdown",
   "id": "8b6cf3ce",
   "metadata": {},
   "source": [
    "Problem 22: Given an array with n objects colored red, white, or blue, sort them in-place so that objects of\n",
    "the same color are adjacent, with the colors in the order red, white, and blue."
   ]
  },
  {
   "cell_type": "code",
   "execution_count": 22,
   "id": "5b0ed02e",
   "metadata": {},
   "outputs": [
    {
     "name": "stdout",
     "output_type": "stream",
     "text": [
      "Sorted colors: [0, 0, 1, 1, 2, 2]\n"
     ]
    }
   ],
   "source": [
    "def sortColors(nums):\n",
    "    # Initialize pointers\n",
    "    left = 0  # Pointer for the boundary between red and white\n",
    "    right = len(nums) - 1  # Pointer for the boundary between white and blue\n",
    "    current = 0  # Current index for traversal\n",
    "    \n",
    "    # Traverse the array\n",
    "    while current <= right:\n",
    "        if nums[current] == 0:  # Red color\n",
    "            nums[left], nums[current] = nums[current], nums[left]\n",
    "            left += 1\n",
    "            current += 1\n",
    "        elif nums[current] == 2:  # Blue color\n",
    "            nums[current], nums[right] = nums[right], nums[current]\n",
    "            right -= 1\n",
    "        else:  # White color\n",
    "            current += 1\n",
    "nums = [2, 0, 2, 1, 1, 0]\n",
    "sortColors(nums)\n",
    "print(\"Sorted colors:\", nums)"
   ]
  },
  {
   "cell_type": "markdown",
   "id": "a132771f",
   "metadata": {},
   "source": [
    "Problem 23: Find the kth largest element in an unsorted array."
   ]
  },
  {
   "cell_type": "code",
   "execution_count": 23,
   "id": "a7cdf38f",
   "metadata": {},
   "outputs": [
    {
     "name": "stdout",
     "output_type": "stream",
     "text": [
      "The 2 th largest element is: 2\n"
     ]
    }
   ],
   "source": [
    "import random\n",
    "\n",
    "def findKthLargest(nums, k):\n",
    "    def partition(left, right, pivot_index):\n",
    "        pivot = nums[pivot_index]\n",
    "        # Move pivot to the right\n",
    "        nums[pivot_index], nums[right] = nums[right], nums[pivot_index]  \n",
    "        \n",
    "        # Move all elements larger than pivot to the left\n",
    "        store_index = left\n",
    "        for i in range(left, right):\n",
    "            if nums[i] > pivot:\n",
    "                nums[i], nums[store_index] = nums[store_index], nums[i]\n",
    "                store_index += 1\n",
    "        \n",
    "        # Move pivot to its final place\n",
    "        nums[right], nums[store_index] = nums[store_index], nums[right]  \n",
    "        \n",
    "        return store_index\n",
    "    \n",
    "    def select(left, right, k_smallest):\n",
    "        if left == right:\n",
    "            return nums[left]\n",
    "        \n",
    "        pivot_index = random.randint(left, right)  # Select a random pivot index\n",
    "        pivot_index = partition(left, right, pivot_index)\n",
    "        \n",
    "        if k_smallest == pivot_index:\n",
    "            return nums[k_smallest]\n",
    "        elif k_smallest < pivot_index:\n",
    "            return select(left, pivot_index - 1, k_smallest)\n",
    "        else:\n",
    "            return select(pivot_index + 1, right, k_smallest)\n",
    "    \n",
    "    # Convert kth largest to kth smallest\n",
    "    return select(0, len(nums) - 1, len(nums) - k)\n",
    "\n",
    "\n",
    "nums = [3, 2, 1, 5, 6, 4]\n",
    "k = 2\n",
    "print(\"The\", k, \"th largest element is:\", findKthLargest(nums, k))\n"
   ]
  },
  {
   "cell_type": "markdown",
   "id": "7ca588b5",
   "metadata": {},
   "source": [
    "Problem 24: Given an unsorted array, reorder it in-place such that nums[0] <= nums[1] >= nums[2] <=\n",
    "nums[3]..."
   ]
  },
  {
   "cell_type": "code",
   "execution_count": 24,
   "id": "7ae4922c",
   "metadata": {},
   "outputs": [
    {
     "name": "stdout",
     "output_type": "stream",
     "text": [
      "Wiggled array: [1, 3, 2, 5, 4, 6]\n"
     ]
    }
   ],
   "source": [
    "def wiggleSort(nums):\n",
    "    nums.sort()  # Sort the array\n",
    "    \n",
    "    # Rearrange the elements\n",
    "    for i in range(1, len(nums) - 1, 2):\n",
    "        nums[i], nums[i + 1] = nums[i + 1], nums[i]\n",
    "\n",
    "\n",
    "nums = [3, 5, 2, 1, 6, 4]\n",
    "wiggleSort(nums)\n",
    "print(\"Wiggled array:\", nums)\n"
   ]
  },
  {
   "cell_type": "markdown",
   "id": "345efc3f",
   "metadata": {},
   "source": [
    "Problem 25: Given an array of integers, calculate the sum of all its elements."
   ]
  },
  {
   "cell_type": "code",
   "execution_count": 25,
   "id": "76261ddb",
   "metadata": {},
   "outputs": [
    {
     "name": "stdout",
     "output_type": "stream",
     "text": [
      "Sum of array elements: 15\n"
     ]
    }
   ],
   "source": [
    "def array_sum(nums):\n",
    "    total_sum = 0\n",
    "    for num in nums:\n",
    "        total_sum += num\n",
    "    return total_sum\n",
    "\n",
    "\n",
    "arr = [1, 2, 3, 4, 5]\n",
    "print(\"Sum of array elements:\", array_sum(arr))\n"
   ]
  },
  {
   "cell_type": "markdown",
   "id": "5463f6dc",
   "metadata": {},
   "source": [
    "Problem 26: Find the maximum element in an array of integers."
   ]
  },
  {
   "cell_type": "code",
   "execution_count": 26,
   "id": "bdee2ea0",
   "metadata": {},
   "outputs": [
    {
     "name": "stdout",
     "output_type": "stream",
     "text": [
      "Maximum element: 8\n"
     ]
    }
   ],
   "source": [
    "def find_maximum(nums):\n",
    "    if not nums:  # If the array is empty\n",
    "        return None\n",
    "\n",
    "    max_element = nums[0]  # Initialize the maximum element with the first element\n",
    "    \n",
    "    for num in nums[1:]:  # Start iterating from the second element\n",
    "        if num > max_element:\n",
    "            max_element = num  # Update max_element if the current element is greater\n",
    "    \n",
    "    return max_element\n",
    "\n",
    "\n",
    "arr = [3, 7, 2, 8, 5]\n",
    "print(\"Maximum element:\", find_maximum(arr))"
   ]
  },
  {
   "cell_type": "markdown",
   "id": "cc31d9c5",
   "metadata": {},
   "source": [
    "Problem 27: Implement linear search to find the index of a target element in an array."
   ]
  },
  {
   "cell_type": "code",
   "execution_count": 27,
   "id": "bbf206cc",
   "metadata": {},
   "outputs": [
    {
     "name": "stdout",
     "output_type": "stream",
     "text": [
      "Index of target element: 2\n"
     ]
    }
   ],
   "source": [
    "def linear_search(nums, target):\n",
    "    for i, num in enumerate(nums):\n",
    "        if num == target:\n",
    "            return i  # Return the index if the target element is found\n",
    "    return -1  # Return -1 if the target element is not found\n",
    "\n",
    "\n",
    "arr = [5,3,8,2,7,4]\n",
    "target = 8\n",
    "print(\"Index of target element:\", linear_search(arr, target))"
   ]
  },
  {
   "cell_type": "markdown",
   "id": "dd05d68e",
   "metadata": {},
   "source": [
    "Problem 28 Calculate the factorial of a given number."
   ]
  },
  {
   "cell_type": "code",
   "execution_count": 28,
   "id": "5e4cf359",
   "metadata": {},
   "outputs": [
    {
     "name": "stdout",
     "output_type": "stream",
     "text": [
      "Factorial of 5 is: 120\n"
     ]
    }
   ],
   "source": [
    "def factorial(n):\n",
    "    result = 1\n",
    "    for i in range(1, n + 1):\n",
    "        result *= i\n",
    "    return result\n",
    "\n",
    "\n",
    "number = 5\n",
    "print(\"Factorial of\", number, \"is:\", factorial(number))\n"
   ]
  },
  {
   "cell_type": "markdown",
   "id": "60c91cdd",
   "metadata": {},
   "source": [
    "Problem 29: Check if a given number is a prime number."
   ]
  },
  {
   "cell_type": "code",
   "execution_count": 29,
   "id": "cfaf3dab",
   "metadata": {},
   "outputs": [
    {
     "name": "stdout",
     "output_type": "stream",
     "text": [
      "29 is prime: True\n"
     ]
    }
   ],
   "source": [
    "import math\n",
    "\n",
    "def is_prime(number):\n",
    "    if number <= 1:\n",
    "        return False\n",
    "    if number == 2:\n",
    "        return True\n",
    "    if number % 2 == 0:\n",
    "        return False\n",
    "    \n",
    "    # Iterate from 3 to square root of number, skipping even numbers\n",
    "    for i in range(3, int(math.sqrt(number)) + 1, 2):\n",
    "        if number % i == 0:\n",
    "            return False\n",
    "    return True\n",
    "\n",
    "\n",
    "number = 29\n",
    "print(number, \"is prime:\", is_prime(number))"
   ]
  },
  {
   "cell_type": "markdown",
   "id": "35252e5f",
   "metadata": {},
   "source": [
    "Problem 30: Generate the Fibonacci series up to a given number n."
   ]
  },
  {
   "cell_type": "code",
   "execution_count": 30,
   "id": "f89ae2ec",
   "metadata": {},
   "outputs": [
    {
     "name": "stdout",
     "output_type": "stream",
     "text": [
      "Fibonacci series up to 100 : [0, 1, 1, 2, 3, 5, 8, 13, 21, 34, 55, 89]\n"
     ]
    }
   ],
   "source": [
    "def generate_fibonacci_series(n):\n",
    "    fibonacci_series = []\n",
    "    a, b = 0, 1\n",
    "    \n",
    "    while a <= n:\n",
    "        fibonacci_series.append(a)\n",
    "        a, b = b, a + b\n",
    "    \n",
    "    return fibonacci_series\n",
    "\n",
    "\n",
    "n = 100\n",
    "fib_series = generate_fibonacci_series(n)\n",
    "print(\"Fibonacci series up to\", n, \":\", fib_series)\n"
   ]
  },
  {
   "cell_type": "markdown",
   "id": "c0e16fd6",
   "metadata": {},
   "source": [
    "Problem 31: Calculate the power of a number using recursion."
   ]
  },
  {
   "cell_type": "code",
   "execution_count": 31,
   "id": "02282860",
   "metadata": {},
   "outputs": [
    {
     "name": "stdout",
     "output_type": "stream",
     "text": [
      "Result: 8\n"
     ]
    }
   ],
   "source": [
    "def power(base, exponent):\n",
    "    if exponent == 0:\n",
    "        return 1\n",
    "    elif exponent == 1:\n",
    "        return base\n",
    "    else:\n",
    "        return base * power(base, exponent - 1)\n",
    "\n",
    "\n",
    "base = 2\n",
    "exponent = 3\n",
    "print(\"Result:\", power(base, exponent))"
   ]
  },
  {
   "cell_type": "markdown",
   "id": "ef6362b1",
   "metadata": {},
   "source": [
    "Problem 32: Reverse a given string."
   ]
  },
  {
   "cell_type": "code",
   "execution_count": 32,
   "id": "ecfec091",
   "metadata": {},
   "outputs": [
    {
     "name": "stdout",
     "output_type": "stream",
     "text": [
      "Reversed string: olleh\n"
     ]
    }
   ],
   "source": [
    "def reverse_string(s):\n",
    "    reversed_str = \"\"\n",
    "    for char in s:\n",
    "        reversed_str = char + reversed_str\n",
    "    return reversed_str\n",
    "\n",
    "string = \"hello\"\n",
    "print(\"Reversed string:\", reverse_string(string))"
   ]
  }
 ],
 "metadata": {
  "kernelspec": {
   "display_name": "Python 3 (ipykernel)",
   "language": "python",
   "name": "python3"
  },
  "language_info": {
   "codemirror_mode": {
    "name": "ipython",
    "version": 3
   },
   "file_extension": ".py",
   "mimetype": "text/x-python",
   "name": "python",
   "nbconvert_exporter": "python",
   "pygments_lexer": "ipython3",
   "version": "3.10.5"
  }
 },
 "nbformat": 4,
 "nbformat_minor": 5
}
